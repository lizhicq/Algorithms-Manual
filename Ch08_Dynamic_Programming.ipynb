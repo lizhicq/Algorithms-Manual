{
 "cells": [
  {
   "cell_type": "markdown",
   "metadata": {
    "colab_type": "text",
    "id": "view-in-github"
   },
   "source": [
    "<a href=\"https://colab.research.google.com/github/lizhicq/Algorithms-Manual/blob/master/Ch08%20Dynamic%20Programming.ipynb\" target=\"_parent\"><img src=\"https://colab.research.google.com/assets/colab-badge.svg\" alt=\"Open In Colab\"/></a>"
   ]
  },
  {
   "cell_type": "markdown",
   "metadata": {
    "colab_type": "text",
    "id": "7GofdNHzzJ85"
   },
   "source": [
    "# Dynamic Programming"
   ]
  },
  {
   "cell_type": "markdown",
   "metadata": {
    "colab_type": "text",
    "id": "krmlDe01oDwX"
   },
   "source": [
    "## 综述\n",
    "**什么情况下使用动态规划？**\n",
    "\n",
    "\n",
    "\n",
    ">满足下面三个条件之一，极有可能使用动态规划 90% - 95%：\n",
    "\t1. 求最大值，最小值\n",
    "\t2. 判断是否可行\n",
    "\t3. 统计方案个数\n",
    "极不可能使用动态规划的情况：\n",
    "\t1. 求出所有具体的方案而非方案的个数\n",
    "\t2. 输入数据是一个集合而不是序列\n",
    "\t3. 暴力的算法已经是多项式级别\n",
    "\n",
    ">总结：最大值最小值/是否可行/方案总数\n",
    "求所有方案/集合而不是序列/指数级到多项式\n",
    "\n",
    "\n",
    "**动态规划的 4 点要素**\n",
    "1. 状态 State\n",
    "\t灵感，创造⼒，存储小规模问题的结果\n",
    "\t\t○ 最优解 / Maximum / Minimum\n",
    "\t\t○ Yes / No\n",
    "\t\t○ Count(*)\n",
    "2. 状态转移方程 Function\n",
    "\t状态之间的联系，怎么通过⼩的状态，来求得⼤的状态\n",
    "3. 初始化 Intialization\n",
    "\t最极限的小状态是什么，起点\n",
    "4. 答案 Answer\n",
    "\t最⼤的那个状态是什么，终点\n",
    "  \n",
    "  \n",
    "  \n",
    "  \n",
    " **面试常见的动态规划类别及状态特点**\n",
    ">坐标型\n",
    "\n",
    ">接龙型 (单序列,双序列)\n",
    "\n",
    ">划分型\n",
    "\n",
    ">背包型 (背包九讲)\n",
    "\n",
    ">博弈型\n",
    "\n",
    "**两招独孤九剑**\n",
    ">二维DP需要初始化第0行和第0列\n",
    "\n",
    ">n个字符的字符串要开n+1个位置的数组\n"
   ]
  },
  {
   "cell_type": "markdown",
   "metadata": {
    "colab_type": "text",
    "id": "Ui-_FBhCt56j"
   },
   "source": [
    "## 坐标型动态规划\n",
    "\n",
    "\t1. state:\n",
    "\t\t○ f[x] 表示我从起点走到坐标x……\n",
    "\t\t○ f[x][y] 表示我从起点走到坐标x,y……\n",
    "\t2. function: 研究走到x,y这个点之前的一步\n",
    "\t3. initialize: 起点\n",
    "\t4. answer: 终点\n",
    "\n",
    "\n"
   ]
  },
  {
   "cell_type": "markdown",
   "metadata": {
    "colab_type": "text",
    "id": "JF1PH6BYyFqc"
   },
   "source": [
    "### Unique Path I, II"
   ]
  },
  {
   "cell_type": "markdown",
   "metadata": {
    "colab_type": "text",
    "id": "rCshAYNFyNWn"
   },
   "source": [
    "A robot is located at the top-left corner of a m x n grid.\n",
    "\n",
    "The robot can only move either down or right at any point in time. The robot is trying to reach the bottom-right corner of the grid.\n",
    "\n",
    "How many possible unique paths are there?\n",
    "\n",
    "\n",
    "Given m = 3 and n = 3, return 6.\n",
    "Given m = 4 and n = 5, return 35."
   ]
  },
  {
   "cell_type": "code",
   "execution_count": null,
   "metadata": {
    "colab": {},
    "colab_type": "code",
    "id": "fC488BXGyQx-"
   },
   "outputs": [],
   "source": [
    "class Solution:\n",
    "    \"\"\"\n",
    "    @param m: positive integer (1 <= m <= 100)\n",
    "    @param n: positive integer (1 <= n <= 100)\n",
    "    @return: An integer\n",
    "    \"\"\"\n",
    "    def uniquePaths(self, m, n):\n",
    "        dp = [[1 for _ in range(n)] for __ in range(m)]\n",
    "        for x in range(1, m):\n",
    "            for y in range(1, n):\n",
    "                dp[x][y] = dp[x-1][y] + dp[x][y-1]\n",
    "        return dp[m-1][n-1]"
   ]
  },
  {
   "cell_type": "code",
   "execution_count": null,
   "metadata": {
    "colab": {
     "base_uri": "https://localhost:8080/",
     "height": 34
    },
    "colab_type": "code",
    "id": "CM7zBsciya5u",
    "outputId": "43bb612a-d0c8-4850-c3ee-627955598377"
   },
   "outputs": [
    {
     "data": {
      "text/plain": [
       "6"
      ]
     },
     "execution_count": 5,
     "metadata": {
      "tags": []
     },
     "output_type": "execute_result"
    }
   ],
   "source": [
    "sample = [3,3]\n",
    "s = Solution()\n",
    "s.uniquePaths(sample[0], sample[1])"
   ]
  },
  {
   "cell_type": "markdown",
   "metadata": {
    "colab_type": "text",
    "id": "5Av7z5CAy0DB"
   },
   "source": [
    "Follow up for \"Unique Paths\":\n",
    "\n",
    "Now consider if some obstacles are added to the grids. How many unique paths would there be?\n",
    "\n",
    "An obstacle and empty space is marked as 1 and 0 respectively in the grid.\n",
    "\n",
    "For example,\n",
    "There is one obstacle in the middle of a 3x3 grid as illustrated below.\n",
    "\n",
    "[\n",
    "  [0,0,0],\n",
    "  [0,1,0],\n",
    "  [0,0,0]\n",
    "]"
   ]
  },
  {
   "cell_type": "code",
   "execution_count": null,
   "metadata": {
    "colab": {},
    "colab_type": "code",
    "id": "FJZ9OICay_N2"
   },
   "outputs": [],
   "source": [
    "class Solution:\n",
    "    \"\"\"\n",
    "    @param obstacleGrid: A list of lists of integers\n",
    "    @return: An integer\n",
    "    \"\"\"\n",
    "    def uniquePathsWithObstacles(self, obstacleGrid):\n",
    "        if len(obstacleGrid) == 0 or len(obstacleGrid[0]) == 0:\n",
    "            return 0\n",
    "        m, n = len(obstacleGrid), len(obstacleGrid[0])\n",
    "        dp = [[0 for _ in range(n)] for __ in range(m)]\n",
    "        # dp[x][y] stands for pos x, y unique path numbers, 0 indexed\n",
    "        # init dp[x][0] = 1 and dp[0][y] = 1\n",
    "\n",
    "        for i in range(m):\n",
    "            if obstacleGrid[i][0] == 0:\n",
    "                dp[i][0] = 1\n",
    "                continue\n",
    "            break\n",
    "        for j in range(n):\n",
    "            if obstacleGrid[0][j] == 0:\n",
    "                dp[0][j] = 1\n",
    "                continue\n",
    "            break\n",
    "\n",
    "        for x in range(1, m):\n",
    "            for y in range(1, n):\n",
    "                dp[x][y] = dp[x-1][y] + dp[x][y-1] if obstacleGrid[x][y] == 0 else 0\n",
    "\n",
    "#        print dp\n",
    "        return dp[m-1][n-1]"
   ]
  },
  {
   "cell_type": "code",
   "execution_count": null,
   "metadata": {
    "colab": {
     "base_uri": "https://localhost:8080/",
     "height": 34
    },
    "colab_type": "code",
    "id": "PU1LhBwmyyQN",
    "outputId": "9b961a42-5391-43d3-81cb-726b0abf5106"
   },
   "outputs": [
    {
     "data": {
      "text/plain": [
       "2"
      ]
     },
     "execution_count": 9,
     "metadata": {
      "tags": []
     },
     "output_type": "execute_result"
    }
   ],
   "source": [
    "sample = [ [0,0,0], [0,1,0], [0,0,0] ]\n",
    "s = Solution()\n",
    "s.uniquePathsWithObstacles(sample)"
   ]
  },
  {
   "cell_type": "markdown",
   "metadata": {
    "colab_type": "text",
    "id": "8-veu44AzpHb"
   },
   "source": [
    "### Climbing Stairs I, II"
   ]
  },
  {
   "cell_type": "markdown",
   "metadata": {
    "colab_type": "text",
    "id": "bJtPTbFLzwcC"
   },
   "source": [
    "You are climbing a stair case. It takes n steps to reach to the top.\n",
    "\n",
    "Each time you can either climb 1 or 2 steps. In how many distinct ways can you climb to the top?\n",
    "\n",
    "Have you met this question in a real interview?  \n",
    "Example\n",
    "Given an example n=3 , 1+1+1=2+1=1+2=3\n",
    "\n",
    "return 3"
   ]
  },
  {
   "cell_type": "code",
   "execution_count": null,
   "metadata": {
    "colab": {},
    "colab_type": "code",
    "id": "s_lphjxmzn3O"
   },
   "outputs": [],
   "source": [
    "class Solution:\n",
    "    \"\"\"\n",
    "    @param n: An integer\n",
    "    @return: An integer\n",
    "    \"\"\"\n",
    "    def climbStairs(self, n):\n",
    "        if n == 0:\n",
    "            return 0\n",
    "        dp = [1 for _ in range(n+1)] \n",
    "        # init dp[1], dp[2] 1 index based \n",
    "        \n",
    "        for i in range(2,n+1):\n",
    "            dp[i] = dp[i-1] + dp[i-2]\n",
    "        return dp[n]"
   ]
  },
  {
   "cell_type": "code",
   "execution_count": null,
   "metadata": {
    "colab": {
     "base_uri": "https://localhost:8080/",
     "height": 34
    },
    "colab_type": "code",
    "id": "pMmLnWONzY2m",
    "outputId": "e70ef7cd-af29-401d-9b4f-22ddbd264b9c"
   },
   "outputs": [
    {
     "name": "stdout",
     "output_type": "stream",
     "text": [
      "8\n"
     ]
    }
   ],
   "source": [
    "sample = 5\n",
    "s = Solution()\n",
    "print s.climbStairs(sample)"
   ]
  },
  {
   "cell_type": "markdown",
   "metadata": {
    "colab_type": "text",
    "id": "CB8VMP7l6f6U"
   },
   "source": [
    "Description\n",
    "A child is running up a staircase with n steps, and can hop either 1 step, 2 steps, or 3 steps at a time. Implement a method to count how many possible ways the child can run up the stairs.\n",
    "\n",
    "Have you met this question in a real interview?  \n",
    "Example\n",
    "n=3\n",
    "1+1+1=2+1=1+2=3=3\n",
    "\n",
    "return 4"
   ]
  },
  {
   "cell_type": "code",
   "execution_count": null,
   "metadata": {
    "colab": {},
    "colab_type": "code",
    "id": "i9_Nhv_J616T"
   },
   "outputs": [],
   "source": [
    "class Solution:\n",
    "    \"\"\"\n",
    "    @param n: An integer\n",
    "    @return: An Integer\n",
    "    \"\"\"\n",
    "    def climbStairs2(self, n):\n",
    "        if n == 0:\n",
    "            return 1\n",
    "        if n <= 2:\n",
    "            return n\n",
    "        dp = [1 for _ in range(n+1)]\n",
    "        dp[2] = 2\n",
    "        for i in range(3, n+1):\n",
    "            dp[i] = dp[i-1] + dp[i-2] + dp[i-3]\n",
    "        return dp[n]"
   ]
  },
  {
   "cell_type": "code",
   "execution_count": null,
   "metadata": {
    "colab": {
     "base_uri": "https://localhost:8080/",
     "height": 35
    },
    "colab_type": "code",
    "id": "zfX1aYOC64ya",
    "outputId": "f1252502-462b-49fa-b3cf-68ee7d0ecdfa"
   },
   "outputs": [
    {
     "data": {
      "text/plain": [
       "13"
      ]
     },
     "execution_count": 48,
     "metadata": {
      "tags": []
     },
     "output_type": "execute_result"
    }
   ],
   "source": [
    "sample = 5\n",
    "s = Solution()\n",
    "s.climbStairs2(5)"
   ]
  },
  {
   "cell_type": "markdown",
   "metadata": {
    "colab_type": "text",
    "id": "oTcS_Evw6hRs"
   },
   "source": [
    "### Triangle"
   ]
  },
  {
   "cell_type": "markdown",
   "metadata": {
    "colab_type": "text",
    "id": "PWwhkhGa6lRb"
   },
   "source": [
    "Description\n",
    "Given a triangle, find the minimum path sum from top to bottom. Each step you may move to adjacent numbers on the row below.\n",
    "\n",
    "Bonus point if you are able to do this using only O(n) extra space, where n is the total number of rows in the triangle.\n",
    "\n",
    "Have you met this question in a real interview?  \n",
    "Example\n",
    "Given the following triangle:\n",
    "\n",
    "[\n",
    "     [2],\n",
    "    [3,4],\n",
    "   [6,5,7],\n",
    "  [4,1,8,3]\n",
    "]\n",
    "The minimum path sum from top to bottom is 11 (i.e., 2 + 3 + 5 + 1 = 11)."
   ]
  },
  {
   "cell_type": "code",
   "execution_count": null,
   "metadata": {
    "colab": {},
    "colab_type": "code",
    "id": "cKOyfK2a0hdG"
   },
   "outputs": [],
   "source": [
    "class Solution:\n",
    "    \"\"\"\n",
    "    @param triangle: a list of lists of integers\n",
    "    @return: An integer, minimum path sum\n",
    "    \"\"\"\n",
    "    def minimumTotal(self, triangle):\n",
    "        if len(triangle) == 0 or len(triangle[0]) == 0:\n",
    "            return 0\n",
    "        m = len(triangle)\n",
    "        # dp[x][y] stands for position x, y mini sum, 0 indexed\n",
    "        dp = [[0 for j in range(i+1)] for i in range(m)]\n",
    "        dp[0][0] = triangle[0][0]\n",
    "        for x in range(1, m):\n",
    "            for y in range(x+1):\n",
    "                if y == 0:\n",
    "                    dp[x][y] = triangle[x][y] + dp[x - 1][y]\n",
    "                elif y == x:\n",
    "                    dp[x][y] = triangle[x][y] + dp[x-1][y-1]\n",
    "                else:\n",
    "                    dp[x][y] = triangle[x][y] + min(dp[x-1][y], dp[x-1][y-1])\n",
    "        print dp\n",
    "        return min(dp[m-1])"
   ]
  },
  {
   "cell_type": "code",
   "execution_count": null,
   "metadata": {
    "colab": {
     "base_uri": "https://localhost:8080/",
     "height": 52
    },
    "colab_type": "code",
    "id": "mv3HWW8E6vBc",
    "outputId": "3a17ebdf-8c4e-49de-e26a-2e95fe7f4861"
   },
   "outputs": [
    {
     "name": "stdout",
     "output_type": "stream",
     "text": [
      "[[2], [5, 6], [11, 10, 13], [15, 11, 18, 16]]\n"
     ]
    },
    {
     "data": {
      "text/plain": [
       "11"
      ]
     },
     "execution_count": 23,
     "metadata": {
      "tags": []
     },
     "output_type": "execute_result"
    }
   ],
   "source": [
    "sample = [ [2], [3,4], [6,5,7], [4,1,8,3] ] \n",
    "s = Solution()\n",
    "s.minimumTotal(sample)"
   ]
  },
  {
   "cell_type": "markdown",
   "metadata": {
    "colab_type": "text",
    "id": "5jyniBqS7d3N"
   },
   "source": [
    "### Minimum Sum"
   ]
  },
  {
   "cell_type": "markdown",
   "metadata": {
    "colab_type": "text",
    "id": "DtmKnJ5D7ioW"
   },
   "source": [
    "Description\n",
    "Given a m x n grid filled with non-negative numbers, find a path from top left to bottom right which minimizes the sum of all numbers along its path."
   ]
  },
  {
   "cell_type": "code",
   "execution_count": null,
   "metadata": {
    "colab": {
     "base_uri": "https://localhost:8080/",
     "height": 34
    },
    "colab_type": "code",
    "id": "uDa8Rlyg7h2T",
    "outputId": "0ed9afc9-d07f-4b6d-f2ce-2905f2b4ab64"
   },
   "outputs": [
    {
     "name": "stdout",
     "output_type": "stream",
     "text": [
      "7\n"
     ]
    }
   ],
   "source": [
    "class Solution:\n",
    "    \"\"\"\n",
    "    @param grid: a list of lists of integers\n",
    "    @return: An integer, minimizes the sum of all numbers along its path\n",
    "    \"\"\"\n",
    "    def minPathSum(self, grid):\n",
    "        if len(grid) == 0 or len(grid[0]) == 0:\n",
    "            return 0\n",
    "        m, n = len(grid), len(grid[0])\n",
    "        # dp[x][y] stands for position x, y mini path sum, 0 indexed\n",
    "        dp = [[0 for j in range(n)] for i in range(m)]\n",
    "        # dp init for dp[0][y], dp[x][0]\n",
    "        dp[0][0] = grid[0][0]\n",
    "        for i in range(1, m):\n",
    "            dp[i][0] = grid[i][0] + dp[i-1][0]\n",
    "        for j in range(1, n):\n",
    "            dp[0][j] = grid[0][j] + dp[0][j-1]\n",
    "\n",
    "        for i in range(1, m):\n",
    "            for j in range(1, n):\n",
    "                dp[i][j] = min(dp[i-1][j], dp[i][j-1]) + grid[i][j]\n",
    "        #print dp\n",
    "        return dp[m-1][n-1]\n",
    "if __name__ == \"__main__\":\n",
    "    sample = [[1,2],[3,4]]\n",
    "    s = Solution()\n",
    "    print s.minPathSum(sample)"
   ]
  },
  {
   "cell_type": "markdown",
   "metadata": {
    "colab_type": "text",
    "id": "XJDvwQTMDcR_"
   },
   "source": [
    "### Knight Shortest Path\n",
    "Description\n",
    "Given a knight in a chessboard (a binary matrix with 0 as empty and 1 as barrier) with a source position, find the shortest path to a destination position, return the length of the route.\n",
    "Return -1 if knight can not reached.\n",
    "\n",
    "这道题可以用BFS 也可以用DFS， 推荐使用BFS，因为使用DFS有可能会超时"
   ]
  },
  {
   "cell_type": "markdown",
   "metadata": {
    "colab_type": "text",
    "id": "M9_rYNHFG3u9"
   },
   "source": [
    "可以看到BFS比DFS访问的步数少， 下面用随机数据测试一下，2000次测试10大小的矩阵，大概相差二十倍\n",
    "Time complexity test: "
   ]
  },
  {
   "cell_type": "code",
   "execution_count": null,
   "metadata": {
    "colab": {
     "base_uri": "https://localhost:8080/",
     "height": 51
    },
    "colab_type": "code",
    "id": "p80_lbYW6eVi",
    "outputId": "4043767b-259f-4b6c-c6f9-346a51c59b97"
   },
   "outputs": [
    {
     "name": "stdout",
     "output_type": "stream",
     "text": [
      "-\n"
     ]
    },
    {
     "data": {
      "text/plain": [
       "6"
      ]
     },
     "execution_count": 38,
     "metadata": {
      "tags": []
     },
     "output_type": "execute_result"
    }
   ],
   "source": [
    "class Point:\n",
    "    def __init__(self, a=0, b=0):\n",
    "        self.x = a\n",
    "        self.y = b\n",
    "        \n",
    "class Solution:\n",
    "    \"\"\"\n",
    "    @param grid: a chessboard included 0 (false) and 1 (true)\n",
    "    @param source: a point\n",
    "    @param destination: a point\n",
    "    @return: the shortest path \n",
    "    \"\"\"\n",
    "    def shortestPath_dfs(self, grid, source, destination):\n",
    "        m, n = len(grid), len(grid[0])\n",
    "        import sys\n",
    "        record = [[sys.maxsize for j in range(n)] for i in range(m)]\n",
    "        steps = [[1,2],[1,-2],[-1,2],[-1,-2],\n",
    "                 [2,1],[2,-1],[-2,1],[-2,-1]]\n",
    "        x,y = source.x, source.y\n",
    "        record[x][y] = 0\n",
    "        \n",
    "        def dfs(x,y):\n",
    "          #print x, y\n",
    "          for step in steps:\n",
    "            new_x, new_y = x + step[0], y + step[1]\n",
    "            if 0 <= new_x < m and 0 <= new_y < n and grid[x][y] != 1 \\\n",
    "              and record[new_x][new_y] > record[x][y] + 1:\n",
    "                record[new_x][new_y] = record[x][y] + 1\n",
    "                dfs(new_x, new_y)\n",
    "        \n",
    "        dfs(x,y)\n",
    "        return record[destination.x][destination.y] if record[destination.x][destination.y] != sys.maxsize else -1\n",
    "  \n",
    "    def shortestPath_bfs(self, grid, source, destination):\n",
    "        # Write your code here\n",
    "        m = len(grid)\n",
    "        n = len(grid[0])\n",
    "\n",
    "        import sys\n",
    "        record = [[sys.maxint for _ in xrange(n)] for i in xrange(m)]\n",
    "        x,y = source.x, source.y\n",
    "        record[x][y] = 0\n",
    "        \n",
    "        q = []\n",
    "        q.append((x,y))\n",
    "        steps = [(-2, -1), (-2, 1), (-1, 2), (1, 2), (2, 1), (2, -1), (1, -2), (-1, -2)]\n",
    "        \n",
    "        while len(q) > 0:\n",
    "            x, y = q.pop(0) # pop(0) will take O(1), not O(n) or o(0) \n",
    "            #print x, y\n",
    "            for dx, dy in steps:\n",
    "                new_x, new_y = x + dx, y + dy\n",
    "                if 0 <= new_x < m and 0 <= new_y < n and grid[new_x][new_y] == 0 \\\n",
    "                and record[new_x][new_y] > record[x][y] + 1:\n",
    "                    record[new_x][new_y] = record[x][y] + 1\n",
    "                    q.append((new_x, new_y))\n",
    "\n",
    "        if record[destination.x][destination.y] == sys.maxint:\n",
    "            return -1\n",
    "\n",
    "        return record[destination.x][destination.y]\n",
    "grid = [[0,1,0], [0,0,0], [0,0,0]]\n",
    "s = Point(2,0)\n",
    "d = Point(2,2)\n",
    "Solution().shortestPath_dfs(grid, s, d)\n",
    "print '-'\n",
    "Solution().shortestPath_bfs(grid, s, d)"
   ]
  },
  {
   "cell_type": "code",
   "execution_count": null,
   "metadata": {
    "colab": {
     "base_uri": "https://localhost:8080/",
     "height": 52
    },
    "colab_type": "code",
    "id": "G2HCHUrdKEKj",
    "outputId": "3c3ff800-53e6-4e3c-9f86-7cd064bd91d9"
   },
   "outputs": [
    {
     "name": "stdout",
     "output_type": "stream",
     "text": [
      "6.25314307213\n",
      "0.345813989639\n"
     ]
    }
   ],
   "source": [
    "import random, timeit\n",
    "import numpy as np\n",
    "grid = np.array([random.choice([0,0,0,0,0,1]) for i in range(100)]).reshape(10,10).tolist()\n",
    "grid[0][0], grid[9][9] = 0, 0\n",
    "s = Point(0,0)\n",
    "d = Point(9,9)\n",
    "S = Solution()\n",
    "print timeit.timeit('S.shortestPath_dfs(grid, s, d)',  \n",
    "                    setup='from __main__ import s,S,d,grid', number=2000)\n",
    "print timeit.timeit('S.shortestPath_bfs(grid, s, d)', \n",
    "                    setup='from __main__ import s,S,d,grid', number=2000)"
   ]
  },
  {
   "cell_type": "markdown",
   "metadata": {
    "colab_type": "text",
    "id": "9cLA-5SUNaCp"
   },
   "source": [
    "其实这道题考搜索多于考DP，应该放在BFS里面复习，还有一道类似的题目，0-1 matrix, 见BFS"
   ]
  },
  {
   "cell_type": "markdown",
   "metadata": {
    "colab_type": "text",
    "id": "NrG1F5IsuFfF"
   },
   "source": [
    "## 接龙型动态规划\n",
    "单序列\n",
    "以字符串居多\n",
    "\t1. state: f[i]表示前i个位置/数字/字符,第i个…\n",
    "\t2. function: f[i] = f[j] … j 是i之前的一个位置\n",
    "\t3. initialize: f[0]..\n",
    "\t4. answer: f[n]..\n",
    "\t\t○ 一般answer是f(n)而不是f(n-1), 因为对于n个字符,包含前0个字符(空串),前1个字符……前n个字符。\n",
    "双序列\n",
    "一般给两个字符串\n",
    "\t1. state: f[i][j]代表了第一个sequence的前i个数字/字符,配上第二个sequence的前j个…\n",
    "\t2. function: f[i][j] = 研究第i个和第j个的匹配关系\n",
    "\t3. initialize: f[i][0] 和 f[0][i]\n",
    "\t4. answer: f[n][m]\n",
    "\t\t○ n = s1.length()\n",
    "\t\t○ m = s2.length()\n"
   ]
  },
  {
   "cell_type": "markdown",
   "metadata": {
    "colab_type": "text",
    "id": "8yynzYn1GYGq"
   },
   "source": [
    "### Jump Game I, II \n",
    "\n",
    "\n",
    "**Jump Game I Description**\n",
    "\n",
    "Given an array of non-negative integers, you are initially positioned at the first index of the array.\n",
    "\n",
    "Each element in the array represents your maximum jump length at that position.\n",
    "\n",
    "Determine if you are able to reach the last index.\n",
    "\n",
    "his problem have two method which is Greedy and Dynamic Programming.\n",
    "\n",
    "The time complexity of Greedy method is O(n).\n",
    "\n",
    "The time complexity of Dynamic Programming method is O(n^2).\n",
    "\n",
    "We manually set the small data set to allow you pass the test in both ways. This is just to let you learn how to use this problem in dynamic programming ways. If you finish it in dynamic programming ways, you can try greedy method to make it accept again.\n",
    "\n",
    "\n",
    "\n",
    "```\n",
    "Example\n",
    "A = [2,3,1,1,4], return true.\n",
    "\n",
    "A = [3,2,1,0,4], return false.\n",
    "```\n",
    "\n",
    "**Jump Game II Description**\n",
    "\n",
    "Given an array of non-negative integers, you are initially positioned at the first index of the array.\n",
    "\n",
    "Each element in the array represents your maximum jump length at that position.\n",
    "\n",
    "Your goal is to reach the last index in the minimum number of jumps.\n",
    "\n",
    "```\n",
    "Example\n",
    "Given array A = [2,3,1,1,4]\n",
    "```\n",
    "\n",
    "\n",
    "\n",
    "The minimum number of jumps to reach the last index is 2. (Jump 1 step from index 0 to 1, then 3 steps to the last index.)\n"
   ]
  },
  {
   "cell_type": "code",
   "execution_count": null,
   "metadata": {
    "colab": {},
    "colab_type": "code",
    "id": "_zLHXRVAGxNO"
   },
   "outputs": [],
   "source": [
    "class Solution:\n",
    "    \"\"\"\n",
    "    @param A: A list of integers\n",
    "    @return: A boolean\n",
    "    \"\"\"\n",
    "    # Jump game I \n",
    "    def canJump(self, A):\n",
    "        if len(A) == 0:\n",
    "            return 0\n",
    "        maxJump, i = A[0], 0\n",
    "        count = 0\n",
    "        while i < len(A):\n",
    "            count += 1 \n",
    "            if maxJump >= len(A) - 1:\n",
    "                return True\n",
    "            if i <= maxJump:\n",
    "                maxJump = max(i+A[i], maxJump)\n",
    "                i += 1\n",
    "            if count > len(A):\n",
    "                return False\n",
    "    # Jump game II \n",
    "    def jump(self, A):\n",
    "        if len(A) == 0 or A[0] == 0:\n",
    "            return 0\n",
    "        if A[0] > len(A) - 1:\n",
    "            return 1\n",
    "        maxJmp, end, numJmp = A[0], A[0], 1\n",
    "        i = 1\n",
    "        while maxJmp < len(A) - 1:\n",
    "            if i <= end: # get maxJmp at the next time\n",
    "                maxJmp = max(maxJmp, i+A[i])\n",
    "                i += 1\n",
    "                continue\n",
    "            numJmp += 1\n",
    "            end = maxJmp\n",
    "        return numJmp+1"
   ]
  },
  {
   "cell_type": "markdown",
   "metadata": {
    "colab_type": "text",
    "id": "VkkX8vvXHfPc"
   },
   "source": [
    "### Decode ways\n",
    "\n",
    "A message containing letters from A-Z is being encoded to numbers using the following mapping:\n",
    "\n",
    "'A' -> 1\n",
    "'B' -> 2\n",
    "...\n",
    "'Z' -> 26\n",
    "Given a non-empty string containing only digits, determine the total number of ways to decode it.\n",
    "```\n",
    "Example 1:\n",
    "\n",
    "Input: \"12\"\n",
    "Output: 2\n",
    "Explanation: It could be decoded as \"AB\" (1 2) or \"L\" (12).\n",
    "Example 2:\n",
    "\n",
    "Input: \"226\"\n",
    "Output: 3\n",
    "Explanation: It could be decoded as \"BZ\" (2 26), \"VF\" (22 6), or \"BBF\" (2 2 6).\n",
    "```\n",
    "Notes:\n",
    "1. f 初始化n+1个，因为字符串有空集情况，n+1 处理得更全面一些\n",
    "2. 两步走，检查自身"
   ]
  },
  {
   "cell_type": "code",
   "execution_count": 3,
   "metadata": {
    "colab": {
     "base_uri": "https://localhost:8080/",
     "height": 50
    },
    "colab_type": "code",
    "id": "nS2FdLuaHqfT",
    "outputId": "8831fcbb-1552-4dad-aa42-d3ee76374bfa"
   },
   "outputs": [
    {
     "name": "stdout",
     "output_type": "stream",
     "text": [
      "[1, 1, 2, 1, 1]\n",
      "1\n"
     ]
    }
   ],
   "source": [
    "class Solution(object):\n",
    "    def numDecodings(self, s):\n",
    "        if not s:\n",
    "            return 0\n",
    "\n",
    "        dp = [0 for x in range(len(s) + 1)]\n",
    "        dp[0] = 1\n",
    "        dp[1] = 1 if 0 < int(s[0]) <= 9 else 0\n",
    "\n",
    "        for i in range(2, len(s) + 1):\n",
    "            if s[i-1] != '0':\n",
    "                dp[i] += dp[i - 1]\n",
    "            \n",
    "            if s[i-2] != '0' and int(s[i-2:i]) <= 26:\n",
    "                dp[i] += dp[i - 2]\n",
    "        \n",
    "        print(dp)\n",
    "        return dp[len(s)]\n",
    "    \n",
    "if __name__ == \"__main__\":\n",
    "    s = Solution()\n",
    "    print(s.numDecodings('1205'))"
   ]
  },
  {
   "cell_type": "markdown",
   "metadata": {
    "colab_type": "text",
    "id": "H-eZwQxH8-Fm"
   },
   "source": [
    "### Frog Jump\n",
    "\n",
    "A frog is crossing a river. The river is divided into x units and at each unit there may or may not exist a stone. The frog can jump on a stone, but it must not jump into the water.\n",
    "\n",
    "Given a list of stones' positions (in units) in sorted ascending order, determine if the frog is able to cross the river by landing on the last stone. Initially, the frog is on the first stone and assume the first jump must be 1 unit.\n",
    "\n",
    "If the frog's last jump was k units, then its next jump must be either k - 1, k, or k + 1 units. Note that the frog can only jump in the forward direction.\n",
    "\n",
    "The number of stones is ≥ 2 and is < 1100.\n",
    "Each stone's position will be a non-negative integer < 2^31.\n",
    "The first stone's position is always 0.\n",
    "\n",
    "```\n",
    "Example\n",
    "Given stones = [0,1,3,5,6,8,12,17]\n",
    "\n",
    "There are a total of 8 stones.\n",
    "The first stone at the 0th unit, second stone at the 1st unit,\n",
    "third stone at the 3rd unit, and so on...\n",
    "The last stone at the 17th unit.\n",
    "\n",
    "Return true. The frog can jump to the last stone by jumping \n",
    "1 unit to the 2nd stone, then 2 units to the 3rd stone, then \n",
    "2 units to the 4th stone, then 3 units to the 6th stone, \n",
    "4 units to the 7th stone, and 5 units to the 8th stone.\n",
    "\n",
    "Given stones = [0,1,2,3,4,8,9,11]\n",
    "\n",
    "Return false. There is no way to jump to the last stone as \n",
    "the gap between the 5th and 6th stone is too large.\n",
    "```\n",
    "Solution:\n",
    "\n",
    ">state:  dp = {stone: steps can be made at this stone}\n",
    "\n",
    "> Init: dp[i]  = set([]) for i in range(len(stones))\n",
    "\n",
    "> Function: \n",
    "\n",
    "          for stone in stones:\n",
    "           for k in dp[stone]:\n",
    "            if stone + k,k-1,k+1 in dp, \n",
    "             put k, k+1,k-1 to corespond stone\n",
    ">ans:\n",
    "  dp[stones[-1]] has some steps to make"
   ]
  },
  {
   "cell_type": "code",
   "execution_count": null,
   "metadata": {
    "colab": {
     "base_uri": "https://localhost:8080/",
     "height": 106
    },
    "colab_type": "code",
    "id": "Ht7STKrC3mEt",
    "outputId": "61d4ed1b-c460-4d6b-9e77-b563359dd58b"
   },
   "outputs": [
    {
     "name": "stdout",
     "output_type": "stream",
     "text": [
      "{0: set([0]), 1: set([1]), 3: set([2]), 5: set([2]), 6: set([1, 3]), 8: set([2, 3]), 12: set([4]), 17: set([5])}\n",
      "True\n",
      "{0: set([0]), 1: set([1]), 2: set([1]), 3: set([1, 2]), 4: set([1, 2]), 8: set([]), 9: set([]), 11: set([])}\n",
      "False\n"
     ]
    }
   ],
   "source": [
    "class Solution:\n",
    "    \"\"\"\n",
    "    @param stones: a list of stones' positions in sorted ascending order\n",
    "    @return: true if the frog is able to cross the river or false\n",
    "    \"\"\"\n",
    "    def canCross(self, stones):\n",
    "        # dp[stone] = steps can be made at this stone\n",
    "        dp = {}\n",
    "        \n",
    "        for stone in stones:\n",
    "            dp[stone] = set()\n",
    "        \n",
    "        dp[0].add(0)\n",
    "        \n",
    "        for stone in stones:\n",
    "            for k in dp[stone]:\n",
    "                if k-1 > 0 and stone + k - 1 in dp:\n",
    "                    dp[stone+k-1].add(k-1)\n",
    "                if stone + k in dp:\n",
    "                    dp[stone+k].add(k)\n",
    "                if stone + k + 1 in dp:\n",
    "                    dp[stone+k+1].add(k+1)\n",
    "        print dp\n",
    "        return len(dp[stones[-1]]) > 0 # 青蛙能跳到某个石头，那个石头的dp就会有一些青蛙可以走的步数\n",
    "\n",
    "if __name__ == \"__main__\":\n",
    "    s = Solution()\n",
    "    stones1 = [0,1,3,5,6,8,12,17]\n",
    "    stones2 = [0,1,2,3,4,8,9,11]\n",
    "    print s.canCross(stones1)\n",
    "    print s.canCross(stones2)"
   ]
  },
  {
   "cell_type": "markdown",
   "metadata": {
    "colab_type": "text",
    "id": "vnI4NVX9uI7z"
   },
   "source": []
  },
  {
   "cell_type": "markdown",
   "metadata": {
    "colab_type": "text",
    "id": "Us5BJzV1Gx3N"
   },
   "source": [
    "Time Complexity test "
   ]
  },
  {
   "cell_type": "code",
   "execution_count": null,
   "metadata": {
    "colab": {
     "base_uri": "https://localhost:8080/",
     "height": 52
    },
    "colab_type": "code",
    "id": "QwgNalFVKMiI",
    "outputId": "4fad6deb-13e5-4ee4-a5dc-9047d1f1b752"
   },
   "outputs": [
    {
     "name": "stdout",
     "output_type": "stream",
     "text": [
      "1.63590192795\n",
      "0.0157740116119\n"
     ]
    }
   ],
   "source": [
    "import random, timeit\n",
    "s = Solution()\n",
    "sample = random.sample(range(1000), 500)\n",
    "print timeit.timeit('s.longestIncreasingSubsequence(sample)',  \n",
    "                    setup='from __main__ import s, sample', number=100)\n",
    "print timeit.timeit('s.lis(sample)', \n",
    "                    setup='from __main__ import s, sample', number=100)"
   ]
  },
  {
   "cell_type": "markdown",
   "metadata": {
    "colab_type": "text",
    "id": "7QllN7EmN24D"
   },
   "source": [
    "### Largest Divisible Subset\n",
    "\n",
    "Given a set of distinct positive integers, find the largest subset such that every pair (Si, Sj) of elements in this subset satisfies: Si % Sj = 0 or Sj % Si = 0.\n",
    "\n",
    "If there are multiple solutions, return any subset is fine.\n",
    "\n",
    "```  \n",
    "Example\n",
    "Given nums = [1,2,3], return [1,2] or [1,3]\n",
    "\n",
    "Given nums = [1,2,4,8], return [1,2,4,8]\n",
    "```\n"
   ]
  },
  {
   "cell_type": "code",
   "execution_count": null,
   "metadata": {
    "colab": {
     "base_uri": "https://localhost:8080/",
     "height": 52
    },
    "colab_type": "code",
    "id": "s80rg1LIN_WE",
    "outputId": "b88a7d93-da69-4042-cb73-a677dc4be1e0"
   },
   "outputs": [
    {
     "name": "stdout",
     "output_type": "stream",
     "text": [
      "[2, 1]\n",
      "[8, 4, 2, 1]\n"
     ]
    }
   ],
   "source": [
    "class Solution:\n",
    "    \"\"\"\n",
    "    @param: nums: a set of distinct positive integers\n",
    "    @return: the largest subset\n",
    "    \"\"\"\n",
    "    def largestDivisibleSubset(self, nums):\n",
    "        # write your code here\n",
    "        if len(nums) <= 1:\n",
    "            return nums\n",
    "        n = len(nums)\n",
    "        nums.sort()\n",
    "        # dp[i] stands for len of LIS of dp[:i], 0 index\n",
    "        dp = [1 for i in range(n)]\n",
    "        father = [-1 for j in range(n)]\n",
    "        for i in range(1, n):\n",
    "            for j in range(0, i):\n",
    "                if nums[i] % nums[j] == 0:\n",
    "                    if dp[j] + 1 > dp[i]:\n",
    "                      dp[i] = max(dp[i], dp[j] + 1)\n",
    "                      father[i] = j\n",
    "        m = max(dp)\n",
    "        index = dp.index(m)\n",
    "        ans = []\n",
    "        for i in range(m, 0, -1):\n",
    "            ans.append(nums[index])\n",
    "            index = father[index]\n",
    "        return ans\n",
    "    \n",
    "s = Solution()\n",
    "sample = [1,2,3]\n",
    "print s.largestDivisibleSubset(sample)\n",
    "sample = [1,2,4,8]\n",
    "print s.largestDivisibleSubset(sample)"
   ]
  },
  {
   "cell_type": "markdown",
   "metadata": {
    "colab_type": "text",
    "id": "8Sq2O8gNOlIL"
   },
   "source": [
    "### Russian Doll Envelopes\n",
    "\n",
    "Description\n",
    "You have a number of envelopes with widths and heights given as a pair of integers (w, h). One envelope can fit into another if and only if both the width and height of one envelope is greater than the width and height of the other envelope.\n",
    "\n",
    "What is the maximum number of envelopes can you Russian doll? (put one inside other)\n",
    "\n",
    "```\n",
    "Example\n",
    "Given envelopes = [[5,4],[6,4],[6,7],[2,3]],\n",
    "the maximum number of envelopes you can Russian doll is 3 ([2,3] => [5,4] => [6,7]).\n",
    "```"
   ]
  },
  {
   "cell_type": "code",
   "execution_count": null,
   "metadata": {
    "colab": {
     "base_uri": "https://localhost:8080/",
     "height": 35
    },
    "colab_type": "code",
    "id": "XBw0-QvXOzGN",
    "outputId": "f44fee36-71d6-42b8-f021-dc799fe5dbbd"
   },
   "outputs": [
    {
     "data": {
      "text/plain": [
       "19"
      ]
     },
     "execution_count": 19,
     "metadata": {
      "tags": []
     },
     "output_type": "execute_result"
    }
   ],
   "source": [
    "class Solution:\n",
    "    \"\"\"\n",
    "    @param: envelopes: a number of envelopes with widths and heights\n",
    "    @return: the maximum number of envelopes\n",
    "    \"\"\"\n",
    "    def maxEnvelopes(self, envelopes):\n",
    "        if len(envelopes) == 0:\n",
    "            return 0\n",
    "        envelopes.sort(key = lambda x:(x[0], -x[1]))\n",
    "        nums = [x[1] for x in envelopes]\n",
    "        return self.lis(nums)\n",
    "\n",
    "    def lis(self, nums):\n",
    "        if len(nums) <= 1:\n",
    "            return len(nums)\n",
    "        import bisect\n",
    "        dp = [0 for _ in range(len(nums))]\n",
    "        maxlen = 0\n",
    "        for n in nums:\n",
    "            i = bisect.bisect_left(dp, n, 0, maxlen)\n",
    "            dp[i] = n\n",
    "            maxlen = maxlen + 1 if maxlen == i else maxlen\n",
    "        return maxlen\n",
    "sample = [[3419,8423],[164,2627],[3139,7517],[1751,4154],[9489,86],[6637,3814],\n",
    "          [8056,4472],[1361,7808],[8951,7291],[2729,3128],[3981,8815],[492,3230],\n",
    "          [8077,8257],[1046,8951],[7601,3995],[8077,2335],[7913,6100],[2120,552],\n",
    "          [8052,7377],[3699,4314],[4956,9383],[1398,9645],[5612,3194],[1041,7969],\n",
    "          [9353,9504],[3498,6074],[3778,6387],[6444,926],[8188,3068],[7573,9346],\n",
    "          [1947,2744],[3161,1583],[6931,2466],[3123,2746],[3063,9465],[5436,4950],\n",
    "          [2706,2321],[705,4817],[6848,3079],[7513,2377],[3314,3572],[1932,2535],\n",
    "          [2635,6677],[31,1250],[3553,3075],[8978,2303],[6216,5277],[6544,5712],\n",
    "          [8566,6145],[3541,9898],[7554,842],[1566,7443],[3891,2823],[8698,8532],\n",
    "          [1692,6859],[4094,8342],[5207,9744],[3020,3461],[4752,6631],[2033,1323],\n",
    "          [6094,3315],[16,8209],[3776,2627],[8889,2818],[755,2167],[9267,8809],\n",
    "          [9701,777],[9464,9921],[2657,9329],[8606,8059],[6912,9454],[133,6606],\n",
    "          [7149,5042],[7765,6180],[5361,4592],[7149,1438],[847,9109],[732,786],\n",
    "          [9824,548],[9833,2443],[9920,232],[9957,8386],[1792,5312],[2950,3834],\n",
    "          [3650,7948],[900,5644],[9741,7375]]\n",
    "s = Solution()\n",
    "s.maxEnvelopes(sample)\n",
    "        "
   ]
  },
  {
   "cell_type": "markdown",
   "metadata": {
    "colab_type": "text",
    "id": "zE3K2JxeOUMJ"
   },
   "source": [
    "### Perfect Square\n",
    "\n",
    "Description\n",
    "Given a positive integer n, find the least number of perfect square numbers (for example, 1, 4, 9, 16, ...) which sum to n.\n",
    "\n",
    "Have you met this question in a real interview?  \n",
    "Example\n",
    "\n",
    "\n",
    "Given n = 12, return 3 because 12 = 4 + 4 + 4\n",
    "\n",
    "Given n = 13, return 2 because 13 = 4 + 9"
   ]
  },
  {
   "cell_type": "markdown",
   "metadata": {
    "colab_type": "text",
    "id": "6Vsky6OzOmHI"
   },
   "source": [
    "这道题写几个数就明白了\n",
    "```\n",
    "dp[0] = 0 \n",
    "dp[1] = dp[0]+1 = 1\n",
    "dp[2] = dp[1]+1 = 2\n",
    "dp[3] = dp[2]+1 = 3\n",
    "dp[4] = Min{ dp[4-1*1]+1, dp[4-2*2]+1 } \n",
    "      = Min{ dp[3]+1, dp[0]+1 } \n",
    "      = 1\t\t\t\t\n",
    "dp[5] = Min{ dp[5-1*1]+1, dp[5-2*2]+1 } \n",
    "      = Min{ dp[4]+1, dp[1]+1 } \n",
    "      = 2\n",
    "\t\t\t\t\t\t.\n",
    "\t\t\t\t\t\t.\n",
    "\t\t\t\t\t\t.\n",
    "dp[13] = Min{ dp[13-1*1]+1, dp[13-2*2]+1, dp[13-3*3]+1 } \n",
    "       = Min{ dp[12]+1, dp[9]+1, dp[4]+1 } \n",
    "       = 2\n",
    "```\n",
    "\n",
    "\n",
    ">$ dp[n] = min(dp[n - i * i] + 1), n - i*i >=0, i >= 1$\n",
    "\n",
    "     "
   ]
  },
  {
   "cell_type": "code",
   "execution_count": null,
   "metadata": {
    "colab": {
     "base_uri": "https://localhost:8080/",
     "height": 35
    },
    "colab_type": "code",
    "id": "uwn-DYv0Oh25",
    "outputId": "55f54cc3-6ed1-4b15-f31d-42f511ccc0e5"
   },
   "outputs": [
    {
     "name": "stdout",
     "output_type": "stream",
     "text": [
      "[0, 1, 2, 3, 1, 2, 3, 4, 2, 1, 2, 3, 3]\n"
     ]
    }
   ],
   "source": [
    "import sys\n",
    "import math\n",
    "class Solution:\n",
    "    \"\"\"\n",
    "    @param n: a positive integer\n",
    "    @return: An integer\n",
    "    \"\"\"\n",
    "    #O(n * sqrt(n)) method \n",
    "    def numSquares(self, n):\n",
    "      dp = [sys.maxsize for _ in range(n+1)]\n",
    "      dp[0] = 0\n",
    "      for i in range(1, n+1):\n",
    "        for j in range(1, i+1):\n",
    "          if i - j*j < 0: break\n",
    "          dp[i] = min(dp[i], dp[i-j*j] + 1)\n",
    "      \n",
    "      print dp\n",
    "      return dp[n]\n",
    "    \n",
    "if __name__ == \"__main__\":    \n",
    "  n = 12\n",
    "  Solution().numSquares(n)"
   ]
  },
  {
   "cell_type": "markdown",
   "metadata": {
    "colab_type": "text",
    "id": "QCIx_VE2rg9Q"
   },
   "source": [
    "## 划分型动态规划(subarray 20题)\n",
    "\n",
    "\n",
    "题目：给一个序列，求一次划分区间，求区间中的最大值\n",
    "\t1. state: f[i] 表⽰示前 个元素的最大值\n",
    "\t2. function: f[i] = 前 i 个元素里⾯选一个区间的最⼤值\n",
    "\t3. initialize: f[0]..\n",
    "\t4. answer: f[n-1]..\n",
    "\n",
    "优化\n",
    "\t1. state:\n",
    "\t\t○ gobal[i] 表示前 i 个元素的最大值\n",
    "\t\t○ local[i] 表⽰示包含第 i 个元素前 i 个元素的最大值\n",
    "\t2. function:\n",
    "\t\t○ global[i] = 通过 local[i] 更新\n",
    "\t\t○ local[i] = 通过原序列或者 global[i] 更新\n",
    "\t3. initialize: global[0].. Local[i]\n",
    "\t4. answer: global[n-1]..\n",
    "\n",
    "\n",
    "\n"
   ]
  },
  {
   "cell_type": "markdown",
   "metadata": {
    "colab_type": "text",
    "id": "pYSh20CBri5F"
   },
   "source": [
    "## 区间型动态规划\n",
    "\n",
    "特点：\n",
    "\t1. 求一段区间的解max/min/count\n",
    "\t2. 转移方程通过区间更新\n",
    "\t3. 从大到小的更新\n",
    "这种题目共性就是区间最后求[0,n-1] 这样一个区间，逆向思维分析，从大到小就能迎刃而解， 逆向 =》 分治类似"
   ]
  },
  {
   "cell_type": "markdown",
   "metadata": {
    "colab_type": "text",
    "id": "lW46e-AS-5Rd"
   },
   "source": [
    "### Maximum SubArray I\n",
    "\n",
    "Description\n",
    "Given an array of integers, find a contiguous subarray which has the largest sum.\n",
    "\n",
    "Notice\n",
    "The subarray should contain at least one number.\n",
    "```\n",
    "Example\n",
    "Given the array [−2,2,−3,4,−1,2,1,−5,3], \n",
    "the contiguous subarray [4,−1,2,1] has the largest sum = 6.\n",
    "\n",
    "Challenge \n",
    "Can you do it in time complexity O(n)?\n",
    "```\n",
    "\n",
    "$ f[i] = max(f[i-1] + nums[i-1], nums[i-1])$ "
   ]
  },
  {
   "cell_type": "code",
   "execution_count": null,
   "metadata": {
    "colab": {
     "base_uri": "https://localhost:8080/",
     "height": 35
    },
    "colab_type": "code",
    "id": "MgevrmuV-4pl",
    "outputId": "f1776f9d-7fde-45a4-8f3f-de483ebe623f"
   },
   "outputs": [
    {
     "name": "stdout",
     "output_type": "stream",
     "text": [
      "6\n"
     ]
    }
   ],
   "source": [
    "class Solution:\n",
    "    def max_sub_array(self, nums):\n",
    "        if nums == []:\n",
    "            return \n",
    "    \n",
    "        cur_sum = max_sum = nums[0]\n",
    "\n",
    "        for num in nums[1:]:\n",
    "            cur_sum = max(cur_sum + num, num)\n",
    "            max_sum = max(max_sum, cur_sum)\n",
    "\n",
    "        return max_sum\n",
    "\n",
    "if __name__ == \"__main__\":\n",
    "  \n",
    "  print Solution().max_sub_array([-2,2,-3,4,-1,2,1,-5,3])\n",
    "    \n",
    "    "
   ]
  },
  {
   "cell_type": "markdown",
   "metadata": {
    "colab_type": "text",
    "id": "W0wI3PVKA-tE"
   },
   "source": [
    "### Maximum Subarray II \n",
    "\n",
    "Description\n",
    "Given an array of integers, find two non-overlapping subarrays which have the largest sum.\n",
    "The number in each subarray should be contiguous.\n",
    "Return the largest sum.\n",
    "\n",
    "Notice:\n",
    "\n",
    "The subarray should contain at least one number\n",
    "```\n",
    "Example\n",
    "For given [1, 3, -1, 2, -1, 2], \n",
    "the two subarrays are [1, 3] and [2, -1, 2] or [1, 3, -1, 2] and [2], \n",
    "they both have the largest sum 7.\n",
    "```\n",
    "Challenge: \n",
    "Can you do it in time complexity O(n) ?"
   ]
  },
  {
   "cell_type": "code",
   "execution_count": null,
   "metadata": {
    "colab": {
     "base_uri": "https://localhost:8080/",
     "height": 34
    },
    "colab_type": "code",
    "id": "4n-bvY0OCeqa",
    "outputId": "03f7ec33-8933-4ea2-a6f5-c4fad33b25f1"
   },
   "outputs": [
    {
     "name": "stdout",
     "output_type": "stream",
     "text": [
      "44\n"
     ]
    }
   ],
   "source": [
    "MIN_INT = -65535\n",
    "class Solution(object):\n",
    "    \"\"\"\n",
    "    @param: nums: A list of integers\n",
    "    @return: An integer denotes the sum of max two non-overlapping subarrays\n",
    "    \"\"\"\n",
    "       \n",
    "    def maxTwoSubArrays(self, nums):\n",
    "        if len(nums) == 1: \n",
    "            return nums[0]\n",
    "        # at least there should be 2 elements in nums\n",
    "        # If you need to add/remove at both ends, consider using a collections.deque instead.\n",
    "        left_max = [0 for i in range(len(nums))] \n",
    "        max_sum = cur_sum = left_max[0] = nums[0]\n",
    "        \n",
    "        for i in range(1, len(nums)-1):\n",
    "            cur_sum = max(cur_sum + nums[i], nums[i])\n",
    "            max_sum = max(max_sum, cur_sum)\n",
    "            left_max[i] = max_sum\n",
    "        \n",
    "        right_max = [0 for i in range(len(nums))]\n",
    "        max_sum = cur_sum = right_max[-1] = nums[-1]\n",
    "        \n",
    "        \n",
    "        for i in range(len(nums)-2, 0, -1):\n",
    "            cur_sum = max(cur_sum + nums[i], nums[i])\n",
    "            max_sum = max(max_sum, cur_sum)\n",
    "            right_max[i] = max_sum\n",
    "        \n",
    "        \n",
    "        max_sum = MIN_INT\n",
    "        for i in range(0, len(nums) - 1):\n",
    "            max_sum = max(max_sum, left_max[i] + right_max[i+1])\n",
    "        \n",
    "        return max_sum\n",
    "      \n",
    "if __name__ == \"__main__\":\n",
    "\n",
    "    print Solution().maxTwoSubArrays([1,1,1,1,1,1,1,1,1,1,1,1,1,1,1,1,1,1,1,\n",
    "                                    1,1,1,1,1,1,1,-2,1,-15,1,1,1,1,1,1,1,\n",
    "                                    1,1,1,1,1,1,1,1,1,1,1])"
   ]
  },
  {
   "cell_type": "markdown",
   "metadata": {
    "colab_type": "text",
    "id": "JN9u0bv-2CLf"
   },
   "source": [
    "### Maximum Subarray III\n",
    "Description\n",
    "Given an array of integers and a number k, \n",
    "find k non-overlapping subarrays which have the largest sum.\n",
    "The number in each subarray should be contiguous.\n",
    "Return the largest sum.\n",
    "```\n",
    "Notice\n",
    "The subarray should contain at least one number\n",
    "\n",
    "Example\n",
    "Given [-1,4,-2,3,-2,3], k=2, return 8\n",
    "```\n",
    "\n",
    "两个思路：\n",
    "1. $ f[i][j]  =   f[i][j-1] + maxSum(num[j:i+1]) $ # 从j开始到i再求maxsubArray, 注意是从j不是从j-1，写成代码，就是j-1不是j-2开始\n",
    "2.  \n",
    "\n",
    "     $dp[i][j][0] = max(dp[i - 1][j][1],\\   dp[i - 1][j][0])$ # 第i个数没有放进背包\n",
    "\n",
    "      $dp[i][j][1] = max( dp[i-1][j][1],\\  dp[i-1][j-1][1],\\ dp[i-1][j-1][0]) + nums[i-1]$ # 第i个数放进背包\n",
    "      \n",
    "      Notes: 为什么要多一个变量来记录，A = [-1，4，-2，3]\n",
    "     \n",
    "     dp[3][1] = max(dp[2][1], dp[2][1]+A[3], dp[2][0] + A[3]) = max(4, 4+3, 3) = 7, 错，dp[3][1] = 5, 因为没有确保连续性，所以dp错了。"
   ]
  },
  {
   "cell_type": "code",
   "execution_count": null,
   "metadata": {
    "colab": {
     "base_uri": "https://localhost:8080/",
     "height": 85
    },
    "colab_type": "code",
    "id": "qq9LsMBzHWts",
    "outputId": "5c3a8d50-06ad-487f-834b-5528b4f9eb91"
   },
   "outputs": [
    {
     "name": "stdout",
     "output_type": "stream",
     "text": [
      "(2, 1, [1, -1])\n",
      "(3, 1, [1, 3])\n",
      "(3, 2, [-1, 4])\n",
      "2\n"
     ]
    }
   ],
   "source": [
    "class Solution:\n",
    "  \n",
    "    def maxSubArray(self, nums, k):\n",
    "        # 这种写法是子数组的个数一定要是k，如果小于等于k也可以, 就取所有f[n][j], j<=k 最大\n",
    "        from sys import maxsize\n",
    "        f = [[[- maxsize for t in range(2)]\n",
    "                 for j in range(k+1)]\n",
    "                 for i in range(len(nums)+1)]\n",
    "        for i in range(1, len(nums)+1):\n",
    "            f[i][0][0] = 0 # 重要，如果没有这个，[-1,4] 最后出来结果是3\n",
    "        sumj = 0\n",
    "        for j in range(1, k+1):\n",
    "            sumj += nums[j-1]\n",
    "            f[j][j][1] = sumj\n",
    "            for i in range(j+1, len(nums)+1):\n",
    "                f[i][j][0] = max(f[i-1][j][0], f[i-1][j][1])\n",
    "                f[i][j][1] = max(f[i-1][j][1], f[i-1][j-1][0], \n",
    "                             f[i-1][j-1][1]) + nums[i-1]\n",
    "        \n",
    "                print(i, j, f[i][j])\n",
    "        \n",
    "        #print f[-1][-1]\n",
    "        return max(f[-1][-1])\n",
    "    \n",
    "if __name__ == \"__main__\":\n",
    "    print Solution().maxSubArray([1,-2, 3],3)\n",
    "    #print Solution().maxSubArray([-1,4,-2,3,-2,3], 2)"
   ]
  },
  {
   "cell_type": "markdown",
   "metadata": {
    "colab_type": "text",
    "id": "0qCvq2CXUF_3"
   },
   "source": [
    "### Maximum Subarray IV\n",
    "\n",
    "\n",
    "Given an integer arrays, find a contiguous subarray which has the largest sum and length should be **greater or equal to ** given length k.\n",
    "Return the largest sum, return 0 if there are fewer than k elements in the array.\n",
    "```\n",
    "Example\n",
    "Given the array [-2,2,-3,4,-1,2,1,-5,3] and k = 5, the contiguous subarray [2,-3,4,-1,2,1] has the largest sum = 5.\n",
    "```\n",
    "\n",
    "\n",
    "find $sum[i] - min(sum[j], j= 0, ..., i-k)$"
   ]
  },
  {
   "cell_type": "code",
   "execution_count": null,
   "metadata": {
    "colab": {
     "base_uri": "https://localhost:8080/",
     "height": 34
    },
    "colab_type": "code",
    "id": "imD4JFZhPfqa",
    "outputId": "458e2e7c-dbbd-4f45-9c92-d266cef844cf"
   },
   "outputs": [
    {
     "name": "stdout",
     "output_type": "stream",
     "text": [
      "-1\n"
     ]
    }
   ],
   "source": [
    "class Solution(object):\n",
    "    def maxSubarray4(self, nums, k):\n",
    "        if len(nums) < k:\n",
    "            return 0\n",
    "        if len(nums) == k:\n",
    "            return sum(nums)\n",
    "        \n",
    "        # len(nums) > k \n",
    "        cur_sum = [0 for i in range(len(nums)+1)]\n",
    "        cur_sum[0] = 0\n",
    "        max_sum = -65535\n",
    "        min_sum = 0 # include everything \n",
    "        \n",
    "        \n",
    "        for i in range(1, len(nums)+1):\n",
    "            cur_sum[i] =  cur_sum[i-1] + nums[i-1]\n",
    "            if i >= k:\n",
    "                min_sum = min(min_sum, cur_sum[i-k])\n",
    "                max_sum = max(max_sum, cur_sum[i] - min_sum)\n",
    "        return max_sum \n",
    "\n",
    "\n",
    "      \n",
    "if __name__ == \"__main__\":\n",
    "    sample = [-1,-1,-1,-1]\n",
    "    #sample = [5]\n",
    "    s = Solution()\n",
    "    print s.maxSubarray4(sample, 1)"
   ]
  },
  {
   "cell_type": "markdown",
   "metadata": {
    "colab_type": "text",
    "id": "6tXzhvZsUGvn"
   },
   "source": [
    "### Maximum Subarray V\n",
    "\n",
    "Given an integer arrays, find a contiguous subarray which has the largest sum and length should be between k1 and k2 (include k1 and k2).\n",
    "\n",
    "Return the largest sum, return 0 if there are fewer than k1 elements in the array.\n",
    "\n",
    "```\n",
    "Example\n",
    "Given the array [-2,2,-3,4,-1,2,1,-5,3] and k1 = 2, k2 = 4, the contiguous subarray [4,-1,2,1] has the largest sum = 6.\n",
    "```\n",
    "\n",
    "find $sum[i] - min(sum[j], k1 <= i - j + 1 <= k2)$\n"
   ]
  },
  {
   "cell_type": "code",
   "execution_count": null,
   "metadata": {
    "colab": {
     "base_uri": "https://localhost:8080/",
     "height": 51
    },
    "colab_type": "code",
    "id": "wXQRvBtOr0gu",
    "outputId": "992e4ea2-324b-4732-8c9b-953d928b3f96"
   },
   "outputs": [
    {
     "name": "stdout",
     "output_type": "stream",
     "text": [
      "6\n",
      "14\n"
     ]
    }
   ],
   "source": [
    " class Solution:\n",
    "    \"\"\"\n",
    "    @param nums: an array of integers\n",
    "    @param k1: An integer\n",
    "    @param k2: An integer\n",
    "    @return: the largest sum\n",
    "    \"\"\"\n",
    "      \n",
    "    def maxSubarray5(self, nums, k1, k2):\n",
    "        if len(nums) < k1:\n",
    "            return 0\n",
    "        if len(nums) == k1:\n",
    "            return sum(nums)\n",
    "          \n",
    "        MIN_INT = -65535\n",
    "        from collections import deque\n",
    "        csum = [0] # sum[0] 留空，为了防止一个也不减掉的情况\n",
    "        deck = deque() # deck will save j, i-k2 <= j <= i-k1\n",
    "        max_sum = MIN_INT\n",
    "        \n",
    "        for i in range(1, len(nums)+1):\n",
    "            csum.append(csum[i-1] + nums[i-1])\n",
    "            if i >= k1:\n",
    "                if len(deck) > 0 and deck[0] < i - k2: # j >= i-k2\n",
    "                    deck.popleft()            \n",
    "                while len(deck) > 0 and csum[deck[-1]] > csum[i-k1]:\n",
    "                    deck.pop()            \n",
    "                deck.append(i-k1)\n",
    "                max_sum = max(max_sum, csum[i] - csum[deck[0]]) # len(nums) > k1\n",
    "        return max_sum\n",
    "\n",
    "if __name__ == \"__main__\":\n",
    "    print Solution().maxSubarray5([-2,2,-3,4,-1,2,1,-5,3], 2, 4)\n",
    "    print Solution().maxSubarray5([1,2,3,4,5], 2, 4)\n",
    "        "
   ]
  },
  {
   "cell_type": "markdown",
   "metadata": {
    "colab_type": "text",
    "id": "zQEJJSMMwFel"
   },
   "source": [
    "### Maximum Average Subarray I\n",
    "\n",
    "Given an array with positive and negative numbers, find the maximum average subarray which length should be equal to given length k.\n",
    "\n",
    "Example\n",
    "Given nums = [1, 12, -5, -6, 50, 3], k = 3\n",
    "\n",
    "Return 15.667 // (-6 + 50 + 3) / 3 = 15.667"
   ]
  },
  {
   "cell_type": "code",
   "execution_count": null,
   "metadata": {
    "colab": {},
    "colab_type": "code",
    "id": "sFyG08WSwO9k"
   },
   "outputs": [],
   "source": [
    "class Solution:\n",
    "    \"\"\"\n",
    "    @param: nums: an array with positive and negative numbers\n",
    "    @param: k: an integer\n",
    "    @return: the maximum average\n",
    "    \"\"\"\n",
    "    def findMaxAverage(self, nums, k):\n",
    "        max_avg = -65535\n",
    "        k_sum = 0.0\n",
    "        \n",
    "        for i in range(1, len(nums)+1):\n",
    "            k_sum += nums[i-1]\n",
    "          \n",
    "            if i >= k:\n",
    "                max_avg = max(max_avg, k_sum/k)\n",
    "                k_sum -= nums[i-k]\n",
    "        return max_avg"
   ]
  },
  {
   "cell_type": "markdown",
   "metadata": {
    "colab_type": "text",
    "id": "QS7rzo-HfCcA"
   },
   "source": [
    "### Maximum Average Subarray II\n",
    "Given an array with positive and negative numbers, find the maximum average subarray which length should be greater or equal to given length k.\n",
    "\n",
    "```\n",
    "Example\n",
    "Given nums = [1, 12, -5, -6, 50, 3], k = 3\n",
    "\n",
    "Return 15.667 // (-6 + 50 + 3) / 3 = 15.667\n",
    "```\n",
    "思路：$\\forall i$ 找到 $max\\lbrace (sum[i] - sum[j])/(i-j) |j=0, ..., i-k\\rbrace$\n",
    "\n",
    "复\n",
    "杂度：O(n * k)\n"
   ]
  },
  {
   "cell_type": "code",
   "execution_count": null,
   "metadata": {
    "colab": {
     "base_uri": "https://localhost:8080/",
     "height": 34
    },
    "colab_type": "code",
    "id": "FlG2yn5FTVP1",
    "outputId": "74ccfa26-c786-494a-bbc9-48d79d6b7247"
   },
   "outputs": [
    {
     "name": "stdout",
     "output_type": "stream",
     "text": [
      "-29.3333315849\n"
     ]
    }
   ],
   "source": [
    "class Solution:\n",
    "    \"\"\"\n",
    "    @param: nums: an array with positive and negative numbers\n",
    "    @param: k: an integer\n",
    "    @return: the maximum average\n",
    "    \"\"\"\n",
    "    def maxAverage2(self, nums, k):\n",
    "        start = min(nums) * 1.0\n",
    "        end = max(nums) * 1.0\n",
    "        eps = 1e-5\n",
    "        \n",
    "        def check(mid):\n",
    "            from sys import maxsize\n",
    "            csum = [0.0]\n",
    "            min_pre = [0.0]\n",
    "            for i in range(1, len(nums)+1):\n",
    "                csum.append(csum[i-1] + nums[i-1] - mid)\n",
    "                min_pre.append(min(min_pre[i-1], csum[i]))\n",
    "                if i >= k and csum[i] - min_pre[i-k] >= 0:\n",
    "                    return True\n",
    "            return False\n",
    "        \n",
    "        while start + eps < end:\n",
    "            mid = start + (end - start)/2\n",
    "            if check(mid):\n",
    "                start = mid\n",
    "            else:\n",
    "                end = mid\n",
    "        \n",
    "        return end\n",
    "      \n",
    "if __name__ == \"__main__\":\n",
    "    print Solution().maxAverage2([-78,-50,18,-93,-35,-31,-21,-14,-73], 5)"
   ]
  },
  {
   "cell_type": "markdown",
   "metadata": {
    "colab_type": "text",
    "id": "oDTompHhmbC4"
   },
   "source": [
    "### Maximum Average Subarray III\n",
    "Given an array with positive and negative numbers, find the maximum average subarray which length should be [k1, k2]\n",
    "\n",
    "```\n",
    "Example\n",
    "Given nums = [1, 12, -5, -6, 50, 3], k = 3\n",
    "\n",
    "Return 15.667 // (-6 + 50 + 3) / 3 = 15.667\n",
    "```\n",
    "思路：$\\forall i$ 找到 $max\\lbrace (sum[i] - sum[j])/(i-j) |k1<=i−j+1<=k2\\rbrace$\n",
    "复杂度：O(n * k)"
   ]
  },
  {
   "cell_type": "code",
   "execution_count": null,
   "metadata": {
    "colab": {
     "base_uri": "https://localhost:8080/",
     "height": 34
    },
    "colab_type": "code",
    "id": "MEwP5tAUmbPo",
    "outputId": "45f98dc2-7306-40fd-ef40-8e05b5764b0e"
   },
   "outputs": [
    {
     "name": "stdout",
     "output_type": "stream",
     "text": [
      "33.0\n"
     ]
    }
   ],
   "source": [
    "class Solution:\n",
    "    \"\"\"\n",
    "    @param: nums: an array with positive and negative numbers\n",
    "    @param: k: an integer\n",
    "    @return: the maximum average\n",
    "    \"\"\"\n",
    "    def maxAverage3(self, nums, k1, k2):\n",
    "        start = min(nums) * 1.0\n",
    "        end = max(nums) * 1.0\n",
    "        eps = 1e-12\n",
    "        \n",
    "        def check(mid):\n",
    "            import collections\n",
    "            cum = [0.0]\n",
    "            deck = collections.deque()\n",
    "   \n",
    "            for i in range(1, len(nums)+1):\n",
    "                cum.append(cum[i-1] + nums[i-1] - mid)\n",
    "\n",
    "                if i >= k1:\n",
    "                    if deck and deck[0] < i-k2:\n",
    "                        deck.popleft()\n",
    "                    while deck and cum[deck[-1]] > cum[i-k1]:\n",
    "                        deck.pop()\n",
    "                    deck.append(i-k1)\n",
    "                    if cum[i] - cum[deck[0]] > 0:\n",
    "                        return True\n",
    "            return False\n",
    "        \n",
    "        while start + eps < end:\n",
    "            mid = start + (end - start)/2\n",
    "            if check(mid):\n",
    "                start = mid\n",
    "            else:\n",
    "                end = mid\n",
    "        return end\n",
    "      \n",
    "if __name__ == \"__main__\":\n",
    "    print Solution().maxAverage3([-78,-50,18,-93,35,31,-21,-14,-73], 2, 5)"
   ]
  },
  {
   "cell_type": "code",
   "execution_count": null,
   "metadata": {
    "colab": {
     "base_uri": "https://localhost:8080/",
     "height": 1057
    },
    "colab_type": "code",
    "id": "eVM2JT0eZI0r",
    "outputId": "d0824932-aefb-486e-df90-b1e52375c834"
   },
   "outputs": [
    {
     "name": "stdout",
     "output_type": "stream",
     "text": [
      "1 started, -------\n",
      "94.522649765\n",
      "94.5985639095\n",
      "1 finished, -------\n",
      "2 started, -------\n",
      "175.779512882\n",
      "92.5922288895\n",
      "2 finished, -------\n",
      "3 started, -------\n",
      "269.410157919\n",
      "94.4945039749\n",
      "3 finished, -------\n",
      "4 started, -------\n",
      "357.190777779\n",
      "95.0114197731\n",
      "4 finished, -------\n",
      "5 started, -------\n",
      "449.697618484\n",
      "95.2256600857\n",
      "5 finished, -------\n",
      "6 started, -------\n",
      "538.049463272\n",
      "95.0324380398\n",
      "6 finished, -------\n",
      "7 started, -------\n",
      "603.63419199\n",
      "95.1483259201\n",
      "7 finished, -------\n",
      "8 started, -------\n",
      "737.475235462\n",
      "95.7482600212\n",
      "8 finished, -------\n",
      "9 started, -------\n",
      "815.825096607\n",
      "95.9684710503\n",
      "9 finished, -------\n",
      "10 started, -------\n",
      "895.137821913\n",
      "95.7827749252\n",
      "10 finished, -------\n",
      "11 started, -------\n",
      "1045.61718035\n",
      "96.1937739849\n",
      "11 finished, -------\n",
      "12 started, -------\n",
      "1088.7921412\n",
      "96.808095932\n",
      "12 finished, -------\n",
      "13 started, -------\n",
      "1149.95863104\n",
      "97.7301390171\n",
      "13 finished, -------\n",
      "14 started, -------\n",
      "1238.454283\n",
      "97.9381468296\n",
      "14 finished, -------\n",
      "15 started, -------\n",
      "1353.26945615\n",
      "97.644313097\n",
      "15 finished, -------\n"
     ]
    }
   ],
   "source": [
    "# Test for multiprocessing package\n",
    "from multiprocessing import Pool\n",
    "from timeit import timeit\n",
    "import time\n",
    "def testfun(ntimes):\n",
    "    res = timeit(\"Solution().maxAverage2(sample, 1012)\",\n",
    "                  setup=\"from __main__ import Solution, sample\", number=ntimes)\n",
    "    return res\n",
    "\n",
    "if __name__ == \"__main__\":\n",
    "    for i in range(1, 16):\n",
    "        print i, 'started, -------'\n",
    "        a = time.time()\n",
    "        testcases = [30 for _ in range(33)]\n",
    "        testcases.append(10)\n",
    "        pool = Pool(i)\n",
    "        results = pool.map(testfun, testcases)\n",
    "        pool.close()\n",
    "        pool.join()\n",
    "        print sum(results)\n",
    "        print time.time() - a\n",
    "        print i, 'finished, -------'"
   ]
  },
  {
   "cell_type": "markdown",
   "metadata": {
    "colab_type": "text",
    "id": "vWuVmOli2Cdn"
   },
   "source": [
    "### Maximum Product Subarray\n",
    "\n",
    "Description\n",
    "Find the contiguous subarray within an array (containing at least one number) \n",
    "which has the largest product.\n",
    "\n",
    "```\n",
    "Example\n",
    "For example, given the array [2,3,-2,4], \n",
    "the contiguous subarray [2,3] has the largest product = 6.\n",
    "```\n",
    "\n"
   ]
  },
  {
   "cell_type": "code",
   "execution_count": null,
   "metadata": {
    "colab": {
     "base_uri": "https://localhost:8080/",
     "height": 34
    },
    "colab_type": "code",
    "id": "6J7DyDa6jEoB",
    "outputId": "88afcba9-1691-440c-f029-d9ab84956bc6"
   },
   "outputs": [
    {
     "name": "stdout",
     "output_type": "stream",
     "text": [
      "6\n"
     ]
    }
   ],
   "source": [
    "class Solution:\n",
    "    # param nums: an integer[]\n",
    "    # return: an integer\n",
    "    def maxProduct(self, nums):\n",
    "        # write your code here\n",
    "        f, g = [], []\n",
    "        f.append(nums[0])\n",
    "        g.append(nums[0])\n",
    "        for i in range(1, len(nums)):\n",
    "            f.append(max(f[i-1]*nums[i], g[i-1]*nums[i], nums[i]))\n",
    "            g.append(min(f[i-1]*nums[i], g[i-1]*nums[i], nums[i]))\n",
    "        \n",
    "        return max(f)\n",
    "      \n",
    "if __name__ == \"__main__\":\n",
    "    print Solution().maxProduct([2,3,-2,4])"
   ]
  },
  {
   "cell_type": "markdown",
   "metadata": {
    "colab_type": "text",
    "id": "zpKDfktr2Cnt"
   },
   "source": [
    "### Minimum Adjustment Cost\n",
    "Description\n",
    "Given an integer array, adjust each integers so that \n",
    "the difference of every adjacent integers are not greater than a given number target.\n",
    "If the array before adjustment is A, the array after adjustment is B, \n",
    "you should minimize the sum of |A[i]-B[i]|\n",
    "\n",
    "```\n",
    "Notice\n",
    "You can assume each number in the array is a positive integer and not greater than 100.\n",
    "\n",
    "Example\n",
    "Given [1,4,2,3] and target = 1, one of the solutions is [2,3,2,3], \n",
    "the adjustment cost is 2 and it's minimal.\n",
    "Return 2.\n",
    "```\n",
    "\n",
    "\n",
    "f[i][k] = min(f[i][k], f[i-1][j] + abs(A[i-1]-k))\n",
    "\n"
   ]
  },
  {
   "cell_type": "code",
   "execution_count": null,
   "metadata": {
    "colab": {
     "base_uri": "https://localhost:8080/",
     "height": 34
    },
    "colab_type": "code",
    "id": "THJ-JdLmoMAx",
    "outputId": "f19f49ea-ddc7-4488-df80-9a0e2789a6e3"
   },
   "outputs": [
    {
     "name": "stdout",
     "output_type": "stream",
     "text": [
      "2\n"
     ]
    }
   ],
   "source": [
    "class Solution:\n",
    "    # param A: An integer array.\n",
    "    # param target: An integer.\n",
    "    def MinAdjustmentCost(self, A, target):\n",
    "        # write your code here\n",
    "        maxint = 65536\n",
    "        f = [[ maxint for j in range(101)] for i in range(len(A)+1)]\n",
    "        for i in range(101):\n",
    "            f[0][i] = 0\n",
    "        n = len(A)\n",
    "        \n",
    "        for i in range(1,n+1):\n",
    "            for j in range(101):\n",
    "                if f[i-1][j] != maxint:\n",
    "                    for k in range(101):\n",
    "                        if abs(j-k) <= target:\n",
    "                            f[i][k] = min(f[i][k], f[i-1][j] + abs(A[i-1]-k))\n",
    "        \n",
    "        return min(f[n])\n",
    "\n",
    "if __name__ == \"__main__\":\n",
    "    print Solution().MinAdjustmentCost([1,4,2,3], 1)"
   ]
  },
  {
   "cell_type": "markdown",
   "metadata": {
    "colab_type": "text",
    "id": "5AbuvWuagosO"
   },
   "source": [
    "### Best Time to Buy and Sell Stock I ~ IV\n",
    "\n",
    "\n",
    "Say you have an array for which the ith element is the price of a given stock on day i.\n",
    "\n",
    "Design an algorithm to find the maximum profit. You may complete at most n transactions.\n",
    "\n",
    "```\n",
    "I. n = 1 \n",
    "II. n = maxint\n",
    "III. n = 2 \n",
    "IV. n = k\n",
    "```\n",
    "\n",
    "notes:\n",
    "1. 这道题就是求一个差分profis数组，然后对profits数组求最大sub array sum 即可\n",
    "2. 注意，如果profist里面正数不超过k，那么就把所有正数加起来就行了，相当于第二问。"
   ]
  },
  {
   "cell_type": "code",
   "execution_count": null,
   "metadata": {
    "colab": {
     "base_uri": "https://localhost:8080/",
     "height": 34
    },
    "colab_type": "code",
    "id": "CIpybXsMgsYc",
    "outputId": "ff3f1deb-b500-49f8-ef12-a7bd3126bcc8"
   },
   "outputs": [
    {
     "name": "stdout",
     "output_type": "stream",
     "text": [
      "24\n"
     ]
    }
   ],
   "source": [
    "from sys import maxint\n",
    "class Solution:\n",
    "    \"\"\"\n",
    "    @param prices: Given an integer array\n",
    "    @return: Maximum profit\n",
    "    \"\"\"\n",
    "\n",
    "    def maxProfit1(self, prices):\n",
    "        profit = 0\n",
    "        low = maxint\n",
    "        for price in prices:\n",
    "            profit = max(profit, price-profit)\n",
    "            low = min(low, price)\n",
    "        return profit\n",
    "\n",
    "    def maxProfit2(self, prices):\n",
    "        profit = 0\n",
    "        for i in range(len(prices)-1):\n",
    "            profit += max(prices[i+1]-prices[i], 0)\n",
    "        return profit\n",
    "\n",
    "    def maxProfit3(self, prices):\n",
    "        profit = []\n",
    "        for i in range(len(prices)-1):\n",
    "            profit.append(prices[i+1] - prices[i])\n",
    "\n",
    "        return max(self.maxTwoSubArrays(profit), 0)\n",
    "\n",
    "    def maxProfit4(self, k, prices):\n",
    "        profits = []\n",
    "        count_postive = 0\n",
    "        cum = 0\n",
    "        for i in range(len(prices) - 1):\n",
    "            profit = prices[i + 1] - prices[i]\n",
    "            profits.append(prices[i + 1] - prices[i])\n",
    "            if profit > 0:\n",
    "                count_postive += 1\n",
    "                cum += profit\n",
    "\n",
    "        if len(profits) <= k or count_postive <= k:\n",
    "            return cum\n",
    "\n",
    "        return max(self.maxSubArray(profits, k), 0)\n",
    "\n",
    "    def maxTwoSubArrays(self, nums):\n",
    "        if len(nums) == 1:\n",
    "            return nums[0]\n",
    "        # at least there should be 2 elements in nums\n",
    "        # If you need to add/remove at both ends, consider using a collections.deque instead.\n",
    "        left_max = [0 for i in range(len(nums))]\n",
    "        max_sum = cur_sum = left_max[0] = nums[0]\n",
    "\n",
    "        for i in range(1, len(nums) - 1):\n",
    "            cur_sum = max(cur_sum + nums[i], nums[i])\n",
    "            max_sum = max(max_sum, cur_sum)\n",
    "            left_max[i] = max_sum\n",
    "\n",
    "        right_max = [0 for i in range(len(nums))]\n",
    "        max_sum = cur_sum = right_max[-1] = nums[-1]\n",
    "\n",
    "        for i in range(len(nums) - 2, 0, -1):\n",
    "            cur_sum = max(cur_sum + nums[i], nums[i])\n",
    "            max_sum = max(max_sum, cur_sum)\n",
    "            right_max[i] = max_sum\n",
    "\n",
    "        max_sum = - maxint\n",
    "        for i in range(0, len(nums) - 1):\n",
    "            max_sum = max(max_sum, left_max[i] + right_max[i + 1])\n",
    "\n",
    "        return max_sum\n",
    "\n",
    "    def maxSubArray(self, nums, k):\n",
    "        f = [[[-maxint for t in range(2)]\n",
    "              for j in range(k + 1)]\n",
    "             for i in range(len(nums) + 1)]\n",
    "        for i in range(1, len(nums) + 1):\n",
    "            f[i][0][0] = 0\n",
    "        for j in range(1, k + 1):\n",
    "            f[j][j][1] = sum(nums[:j])\n",
    "            for i in range(j + 1, len(nums) + 1):\n",
    "                f[i][j][0] = max(f[i - 1][j][0], f[i - 1][j][1])\n",
    "                f[i][j][1] = max(f[i - 1][j][1], f[i - 1][j - 1][0],\n",
    "                                 f[i - 1][j - 1][1]) + nums[i - 1]\n",
    "\n",
    "        return max(f[-1][-1])\n",
    "\n",
    "\n",
    "if __name__ ==\"__main__\":\n",
    "    s = Solution()\n",
    "    print s.maxProfit4(9, [12,3,7,4,5,13,2,8,4,7,6,5,7])"
   ]
  },
  {
   "cell_type": "markdown",
   "metadata": {
    "colab_type": "text",
    "id": "D7ZMJ9c1riV8"
   },
   "source": [
    "## 背包型动态规划\n",
    "\n",
    "\n",
    "特点：\n",
    "\t1. 用值作为DP维度\n",
    "\t2. DP过程就是填写矩阵\n",
    "\t3. 可以滚动数组优化\n",
    "Backpack\n",
    "\t1. State:\n",
    "\t\t○ f[i][S] “前i”个物品，取出一些能否组成和为S\n",
    "\t2. Function:\n",
    "\t\t○ f[i][S] = f[i-1][S - a[i]] or f[i-1][S]\n",
    "\t3. Intialize:\n",
    "\t\t○ f[i][0] = true; f[0][1..target] = false\n",
    "\t4. Answer:\n",
    "\t\t○ 检查所有的f[n][j]\n",
    "时间复杂度 O(n*S) ， 滚动数组优化\n",
    "\n",
    "\n",
    "\n"
   ]
  },
  {
   "cell_type": "markdown",
   "metadata": {
    "colab_type": "text",
    "id": "eLcEJ3Z6Ikwi"
   },
   "source": [
    "### Backpack I \n",
    "\n",
    "Backpack\n",
    "Given n items with size Ai, an integer m denotes the size of a backpack. How full you can fill this backpack?\n",
    "\n",
    "Example\n",
    "```\n",
    "If we have 4 items with size [2, 3, 5, 7], the backpack size is 11, we can select [2, 3, 5], so that the max size we can fill this backpack is 10. If the backpack size is 12. we can select [2, 3, 7] so that we can fulfill the backpack.\n",
    "```\n",
    "\n",
    "You function should return the max size we can fill in the given backpack.\n",
    "\n",
    "Challenge:\n",
    "\n",
    "> O(n x m) time and O(m) memory.\n",
    "\n",
    ">O(n x m) memory is also acceptable if you do not know how to optimize memory.\n",
    "\n",
    "Solution: 标准 01背包问题，如下规划方程，选择第i个物品，放还是不放到包里，看是不是能增加更多的重量。\n",
    "\n",
    "> $f_v = max(f_v, \\   f_{v-c_i} + w_i)$\n",
    "\n",
    "\n",
    "> \n",
    "\n",
    "*   要求恰好装满背包，那么在初始化时除了 f[0] 为 0，其它f[1::V ] 均设为 − maxsize这样就可以保证最终得到的 F[V ] 是一种恰好装满背包的最优解。\n",
    "*   如果并没有要求必须把背包装满，而是只希望价格尽量大，初始化时应该将 F[0::V ]\n",
    "全部设为 0\n",
    "*    初始化的 F 数组事实上就是在没有任何物品可以放入背包时的合法状态。如果要求背包恰好装满，那么此时只有容量为 0 的背包可以在什么也不装且价值为 0 的情况下被“恰好装满”，其它容量的背包均没有合法的解，属于未定义的状态，应该被赋值为 -∞ 了。\n",
    "* 如果背包并非必须被装满，那么任何容量的背包都有一个合法解“什么都不装”，这个解的价值为 0，所以初始时状态的值也就全部为 0了。"
   ]
  },
  {
   "cell_type": "code",
   "execution_count": null,
   "metadata": {
    "colab": {
     "base_uri": "https://localhost:8080/",
     "height": 103
    },
    "colab_type": "code",
    "id": "WzchCvuKIkKz",
    "outputId": "7d28b821-d53f-4cf2-c42f-2c63c732bdf2"
   },
   "outputs": [
    {
     "name": "stdout",
     "output_type": "stream",
     "text": [
      "[0, 0, 2, 2, 2, 2, 2, 2, 2, 2, 2, 2]\n",
      "[0, 0, 2, 3, 3, 5, 5, 5, 5, 5, 5, 5]\n",
      "[0, 0, 2, 3, 3, 5, 5, 7, 8, 8, 10, 10]\n",
      "[0, 0, 2, 3, 3, 5, 5, 7, 8, 9, 10, 10]\n",
      "10\n"
     ]
    }
   ],
   "source": [
    "class Solution:\n",
    "    \"\"\"\n",
    "    @param m: An integer m denotes the size of a backpack\n",
    "    @param A: Given n items with size A[i]\n",
    "    @return: The maximum size\n",
    "    \"\"\"\n",
    "    def backPack(self, m, A):\n",
    "        f = [0 for _ in range(m+1)] # dp[v] stands for v size package to fill\n",
    "        f[0] = 0  \n",
    "        for i in range(len(A)):\n",
    "            for v in range(m, A[i]-1, -1): # C[i] = A[i] for any i\n",
    "                f[v] = max(f[v], f[v-A[i]] + A[i]) \n",
    "            print f\n",
    "        return f[m]\n",
    "\n",
    "if __name__ == \"__main__\":\n",
    "    s = Solution()\n",
    "    m = 11\n",
    "    A = [2, 3, 5, 7]\n",
    "    print s.backPack(m, A) \n"
   ]
  },
  {
   "cell_type": "markdown",
   "metadata": {
    "colab_type": "text",
    "id": "JFIkwsC0Qc9I"
   },
   "source": [
    "### Backpack II, III \n",
    "\n",
    "Given n items with size Ai and value Vi, and a backpack with size m. What's the maximum value can you put into the backpack?\n",
    "\n",
    "Example\n",
    "```\n",
    "Given 4 items with size [2, 3, 5, 7] and value [1, 5, 2, 4], and a backpack with size 10. The maximum value is 9.\n",
    "```\n",
    "Challenge\n",
    "O(n x m) memory is acceptable, can you do it in O(m) memory?"
   ]
  },
  {
   "cell_type": "code",
   "execution_count": null,
   "metadata": {
    "colab": {
     "base_uri": "https://localhost:8080/",
     "height": 120
    },
    "colab_type": "code",
    "id": "VgF3HJspK6Ky",
    "outputId": "2dbceb77-c61a-483b-a625-d4f7b799b117"
   },
   "outputs": [
    {
     "name": "stdout",
     "output_type": "stream",
     "text": [
      "[0, 0, 1, 5, 5, 6, 6, 6, 7, 7, 9]\n",
      "9\n",
      "[0, 0, 1, 5, 5, 6, 10, 10, 11, 15, 15]\n",
      "15\n",
      "[0, -65535, 1, 5, 2, 6, 10, 7, 11, 15, 12]\n",
      "12\n"
     ]
    }
   ],
   "source": [
    "class Solution:\n",
    "    \"\"\"\n",
    "    @param m: An integer m denotes the size of a backpack\n",
    "    @param A: Given n items with size A[i]\n",
    "    @param V: Given n items with value V[i]\n",
    "    @return: The maximum value\n",
    "    \"\"\"\n",
    "    def backPackII(self, m, A, V):\n",
    "        f = [0 for _ in range(m+1)]\n",
    "        for i in range(len(A)):\n",
    "            for v in range(m, A[i]-1 , -1):\n",
    "                f[v] = max(f[v], f[v - A[i]] + V[i])\n",
    "        print f\n",
    "        return f[m]\n",
    "    \n",
    "    def backPackIII(self, m, A, V):\n",
    "        f = [0 for _ in range(m+1)]\n",
    "        for i in range(len(A)):\n",
    "            for v in range(A[i], m+1):\n",
    "                f[v] = max(f[v], f[v - A[i]] + V[i])\n",
    "        print f\n",
    "        return f[m]\n",
    "      \n",
    "    def backPackIII_full(self, m, A, V):\n",
    "        f = [ -65535 for _ in range(m+1)]\n",
    "        f[0] = 0\n",
    "        for i in range(len(A)):\n",
    "            for v in range(A[i], m+1):\n",
    "                f[v] = max(f[v], f[v-A[i]] + V[i])\n",
    "        print f\n",
    "        return f[m]\n",
    "      \n",
    "if __name__ == \"__main__\":\n",
    "    A = [2, 3, 5, 7]\n",
    "    V = [1, 5, 2, 4]\n",
    "    s = Solution()\n",
    "    print s.backPackII(10, A, V)\n",
    "    print s.backPackIII(10, A, V)\n",
    "    print s.backPackIII_full(10, A, V)"
   ]
  },
  {
   "cell_type": "markdown",
   "metadata": {
    "colab_type": "text",
    "id": "L2EP-hYawE17"
   },
   "source": [
    "### Backpack IV, V, VI\n",
    "\n",
    "Given n items with size nums[i] which an integer array and all positive numbers, no duplicates. An integer target denotes the size of a backpack. Find the number of possible fill the backpack.\n",
    "\n",
    "\n",
    "> IV: 重复选择+唯一排列+装满可能性总数\n",
    "\n",
    "> V:  单次选择+装满可能性总数\n",
    "\n",
    "> VI: 重复选择+不同排列+装满可能性总数 = Combination Sum IV\n",
    "\n",
    "\n",
    "Notes: II~V 能够用一维dp表示的本质其实是因为当前行的值只和上一行有关，因此用动态数组两行就行，如果直接在上一行更新当前行的状态则只需要一行即可，因此其本质就是还是二维dp。但是VI真的是一维dp，即当前容量的填装数量只和之前容量填装的结果有关，只不过每次填装都要遍历整个nums数组来寻找相关的之前容量的状态，因此要用两重for循环。\n",
    "\n"
   ]
  },
  {
   "cell_type": "code",
   "execution_count": null,
   "metadata": {
    "colab": {
     "base_uri": "https://localhost:8080/",
     "height": 120
    },
    "colab_type": "code",
    "id": "2qx0DfmW8unO",
    "outputId": "a6b218df-ebcf-41c7-f9b6-be775428c66a"
   },
   "outputs": [
    {
     "name": "stdout",
     "output_type": "stream",
     "text": [
      "[1, 1, 2, 2, 4]\n",
      "4\n",
      "[1, 1, 1, 1, 1]\n",
      "1\n",
      "[1, 1, 2, 3, 6]\n",
      "6\n"
     ]
    }
   ],
   "source": [
    "class Solution:\n",
    "  \n",
    "  \n",
    "    def backpackIV(self, nums, target):\n",
    "        dp = [0 for _ in range(target + 1)]\n",
    "        dp[0] = 1\n",
    "        for num in nums:\n",
    "            for j in range(num, target+1):\n",
    "                dp[j] += dp[j-num]\n",
    "        print dp\n",
    "        return dp[target]\n",
    "  \n",
    "    def backpackV(self, nums, target):\n",
    "        dp = [0 for _ in range(target + 1)]\n",
    "        dp[0] = 1\n",
    "        for num in nums:\n",
    "            for j in range(target, num-1, -1):\n",
    "                dp[j] += dp[j-num]\n",
    "        print dp\n",
    "        return dp[target]\n",
    "  \n",
    "    def backpackVI(self, nums, target):\n",
    "        dp = [0 for _ in range(target + 1)]\n",
    "        dp[0] = 1\n",
    "        for j in range(1, target+1):\n",
    "            for num in nums:  \n",
    "                if num <= j:\n",
    "                    dp[j] += dp[j-num]\n",
    "        print dp\n",
    "        return dp[target]\n",
    "  \n",
    "  \n",
    "if __name__ == \"__main__\":  \n",
    "    print Solution().backpackIV([1,2,4], 4)\n",
    "    print Solution().backpackV([1,2,4], 4)\n",
    "    print Solution().backpackVI([1,2,4], 4)\n",
    "    \n",
    "    "
   ]
  },
  {
   "cell_type": "markdown",
   "metadata": {
    "colab_type": "text",
    "id": "3we7BBI12u4i"
   },
   "source": [
    "### K sum\n",
    "Description\n",
    "Given n distinct positive integers, integer k (k <= n) and a number target.\n",
    "Find k numbers where sum is target. Calculate how many solutions there are?\n",
    "\n",
    "```\n",
    "Example\n",
    "Given [1,2,3,4], k = 2, target = 5.\n",
    "There are 2 solutions: [1,4] and [2,3].\n",
    "Return 2.\n",
    "```\n",
    "\n",
    "$ f[i][j][t] = f[i-1][j][t] +f[i-1][j-1][t-nums[i]]$"
   ]
  },
  {
   "cell_type": "code",
   "execution_count": null,
   "metadata": {
    "colab": {
     "base_uri": "https://localhost:8080/",
     "height": 120
    },
    "colab_type": "code",
    "id": "xFlX8S637iC3",
    "outputId": "176c4455-7576-41ef-86a8-b5b6369f9b75"
   },
   "outputs": [
    {
     "name": "stdout",
     "output_type": "stream",
     "text": [
      "[[1, 0, 0, 0, 0, 0], [0, 0, 0, 0, 0, 0], [0, 0, 0, 0, 0, 0]]\n",
      "[[1, 0, 0, 0, 0, 0], [0, 1, 0, 0, 0, 0], [0, 0, 0, 0, 0, 0]]\n",
      "[[1, 0, 0, 0, 0, 0], [0, 1, 1, 0, 0, 0], [0, 0, 0, 1, 0, 0]]\n",
      "[[1, 0, 0, 0, 0, 0], [0, 1, 1, 1, 0, 0], [0, 0, 0, 1, 1, 1]]\n",
      "[[1, 0, 0, 0, 0, 0], [0, 1, 1, 1, 1, 0], [0, 0, 0, 1, 1, 2]]\n",
      "2\n"
     ]
    }
   ],
   "source": [
    "class Solution:\n",
    "    def ksum(self, nums, k, target):\n",
    "        f = [[[0 for t in range(target+1)]\n",
    "                 for j in range(k+1)]\n",
    "                 for i in range(len(nums)+1)]\n",
    "\n",
    "        for i in range(len(nums)+1):\n",
    "            f[i][0][0] = 1 # for any i, select 0 item and sum 0 solution is 1 \n",
    "\n",
    "        for i in range(1, len(nums)+1):\n",
    "            for j in range(1, min(i,k)+1):\n",
    "                for t in range(target+1):\n",
    "                    if t >= nums[i-1]:\n",
    "                        f[i][j][t] = ( f[i-1][j][t] + \n",
    "                                       f[i-1][j-1][t-nums[i-1]] )\n",
    "                    else:\n",
    "                        f[i][j][t] = f[i-1][j][t]\n",
    "        for _ in f:\n",
    "            print _\n",
    "        return f[-1][-1][-1]\n",
    "    \n",
    "if __name__ == \"__main__\":\n",
    "    print Solution().ksum([1,2,3,4], 2, 5)"
   ]
  },
  {
   "cell_type": "markdown",
   "metadata": {
    "colab_type": "text",
    "id": "V6qqi51lBT_M"
   },
   "source": [
    "## 序列型\n",
    "\n",
    "求最长上升子序列，连续自序里，二维子序列"
   ]
  },
  {
   "cell_type": "markdown",
   "metadata": {
    "colab_type": "text",
    "id": "py16mejRugor"
   },
   "source": [
    "### Longest Palindromic Subsequence\n",
    "\n",
    "Description\n",
    "Given a string s, find the longest palindromic subsequence's length in s. You may assume that the maximum length of s is 1000.\n",
    "\n",
    "Have you met this question in a real interview?  \n",
    "```\n",
    "Example\n",
    "Given s = \"bbbab\" return 4\n",
    "One possible longest palindromic subsequence is \"bbbb\".\n",
    "```\n",
    "\n",
    "Solution:\n",
    "```\n",
    "dp[i][j]: the longest palindromic subsequence's length of substring(i, j)\n",
    "\n",
    "State transition:\n",
    "dp[i][j] = dp[i+1][j-1] + 2 if s.charAt(i) == s.charAt(j)\n",
    "\n",
    "otherwise, dp[i][j] = Math.max(dp[i+1][j], dp[i][j-1])\n",
    "Initialization: dp[i][i] = 1\n",
    "\n",
    "```"
   ]
  },
  {
   "cell_type": "code",
   "execution_count": null,
   "metadata": {
    "colab": {
     "base_uri": "https://localhost:8080/",
     "height": 34
    },
    "colab_type": "code",
    "id": "VOkztxx4vThc",
    "outputId": "9c2c6b07-e759-4429-fd5c-4447d7c0faaf"
   },
   "outputs": [
    {
     "name": "stdout",
     "output_type": "stream",
     "text": [
      "4\n"
     ]
    }
   ],
   "source": [
    "class Solution(object):\n",
    "    \"\"\"\n",
    "    @param s: the maximum length of s is 1000\n",
    "    @return: the longest palindromic subsequence's length\n",
    "    \"\"\"\n",
    "    def longestPalindromeSubseq(self, s):\n",
    "        if s == \"\":\n",
    "            return 0\n",
    "        f = [[0 for j in range(len(s))] \n",
    "                for i in range(len(s))]\n",
    "        for i in range(len(s)-1, -1, -1):\n",
    "            f[i][i] = 1 \n",
    "            for j in range(i+1, len(s)):\n",
    "                if s[i] == s[j]:\n",
    "                    f[i][j] = f[i+1][j-1] + 2\n",
    "                else:\n",
    "                    f[i][j] = max(f[i+1][j], f[i][j-1])\n",
    "        \n",
    "        return f[0][-1]\n",
    "    \n",
    "    \n",
    "if __name__ == \"__main__\":\n",
    "    print Solution().longestPalindromeSubseq('bbbab')\n",
    "        "
   ]
  },
  {
   "cell_type": "markdown",
   "metadata": {
    "colab_type": "text",
    "id": "TaV4Ev06uiK7"
   },
   "source": [
    "### Longest Palindromic Substring\n"
   ]
  },
  {
   "cell_type": "code",
   "execution_count": null,
   "metadata": {
    "colab": {
     "base_uri": "https://localhost:8080/",
     "height": 34
    },
    "colab_type": "code",
    "id": "JTh0tr_OHapI",
    "outputId": "f264bee7-2db0-4990-b0fa-b9a817cc09f7"
   },
   "outputs": [
    {
     "name": "stdout",
     "output_type": "stream",
     "text": [
      "abba\n"
     ]
    }
   ],
   "source": [
    "class Solution:\n",
    "    \"\"\"\n",
    "    @param s: input string\n",
    "    @return: the longest palindromic substring\n",
    "    \"\"\"\n",
    "    def longestPalindrome(self, s):\n",
    "        res = \"\"\n",
    "        for i in xrange(len(s)):\n",
    "            # odd case, like \"aba\"\n",
    "            tmp = self.helper(s, i, i)\n",
    "            if len(tmp) > len(res):\n",
    "                res = tmp\n",
    "            # even case, like \"abba\"\n",
    "            tmp = self.helper(s, i, i+1)\n",
    "            if len(tmp) > len(res):\n",
    "                res = tmp\n",
    "        return res\n",
    "\n",
    "    # get the longest palindrome, l, r are the middle indexes   \n",
    "    # from inner to outer\n",
    "    def helper(self, s, l, r):\n",
    "        while l >= 0 and r < len(s) and s[l] == s[r]:\n",
    "            l -= 1; r += 1\n",
    "        return s[l+1:r]\n",
    "\n",
    "if __name__ == \"__main__\":\n",
    "    print Solution().longestPalindrome('abbac')\n",
    "        \n",
    "        "
   ]
  },
  {
   "cell_type": "markdown",
   "metadata": {
    "colab_type": "text",
    "id": "_v7gFBfvBo1N"
   },
   "source": [
    "### Longest Increasing Subsequence\n",
    "Description\n",
    "Given a sequence of integers, find the longest increasing subsequence (LIS).\n",
    "\n",
    "You code should return the length of the LIS.\n",
    "\n",
    "\n",
    "Clarification\n",
    "What's the definition of longest increasing subsequence?\n",
    "\n",
    "The longest increasing subsequence problem is to find a subsequence of a given sequence in which the subsequence's elements are in sorted order, lowest to highest, and in which the subsequence is as long as possible. This subsequence is not necessarily contiguous, or unique.\n",
    "\n",
    "https://en.wikipedia.org/wiki/Longest_increasing_subsequence\n",
    "\n",
    "Example\n",
    "\n",
    "\n",
    "```\n",
    "For [5, 4, 1, 2, 3], the LIS is [1, 2, 3], return 3\n",
    "For [4, 2, 4, 5, 3, 7], the LIS is [2, 4, 5, 7], return 4\n",
    "```\n",
    "\n",
    "\n",
    "\n",
    "Challenge\n",
    "Time complexity O(n^2) or O(nlogn)"
   ]
  },
  {
   "cell_type": "code",
   "execution_count": null,
   "metadata": {
    "colab": {
     "base_uri": "https://localhost:8080/",
     "height": 185
    },
    "colab_type": "code",
    "id": "8YzBlqlRBqBt",
    "outputId": "ed9137a9-dc41-4be4-968c-2cda70a9af88"
   },
   "outputs": [
    {
     "name": "stdout",
     "output_type": "stream",
     "text": [
      "[1]\n",
      "[1, 2]\n",
      "[1, 2]\n",
      "[1, 2, 3]\n",
      "[1, 2, 3]\n",
      "[1, 2, 3, 4]\n",
      "[1, 2, 3, 4]\n",
      "[1, 2, 3, 4, 5]\n",
      "[1, 2, 3, 4, 5, 6]\n",
      "6\n"
     ]
    }
   ],
   "source": [
    "class Solution:\n",
    "    \"\"\"\n",
    "    @param nums: An integer array\n",
    "    @return: The length of LIS (longest increasing subsequence)\n",
    "    \"\"\"\n",
    "    \n",
    "    # O(n^2) method\n",
    "    def longestIncreasingSubsequence(self, nums):\n",
    "        if len(nums) <= 1:\n",
    "            return len(nums)\n",
    "        n = len(nums)\n",
    "        # dp[i] stands for len of LIS of dp[:i], 0 index\n",
    "        dp = [1 for i in range(n)]\n",
    "        for i in range(1, n):\n",
    "            for j in range(0, i):\n",
    "                if nums[j] < nums[i]:\n",
    "                    dp[i] = max(dp[i], dp[j] + 1) # dp function\n",
    "        return max(dp)\n",
    "    \n",
    "    # O(nlogn) method\n",
    "    def lis(self, nums):\n",
    "        if len(nums) <= 1:\n",
    "            return len(nums)\n",
    "        import bisect\n",
    "        dp = []\n",
    "        maxlen = 0\n",
    "        for n in nums:\n",
    "            i = bisect.bisect_left(dp, n)\n",
    "            if i == len(dp):\n",
    "                dp.append(n)\n",
    "            else:\n",
    "                dp[i] = n\n",
    "            print dp\n",
    "            maxlen = maxlen + 1 if maxlen == i else maxlen\n",
    "        return maxlen\n",
    "    \n",
    "    \n",
    "if __name__ == \"__main__\":\n",
    "    sample = [1,2,1,3,1,4,3,5,6]\n",
    "    print Solution().lis(sample) "
   ]
  },
  {
   "cell_type": "markdown",
   "metadata": {
    "colab_type": "text",
    "id": "eZmxl1TJCNhF"
   },
   "source": [
    "### 398. Longest Continuous Increasing Subsequence II\n",
    "Give you an integer matrix (with row size n, column size m)，find the longest increasing continuous subsequence in this matrix. (The definition of the longest increasing continuous subsequence here can start at any row or column and go up/down/right/left any direction).\n",
    "\n",
    "```\n",
    "Example\n",
    "Given a matrix:\n",
    "\n",
    "[\n",
    "  [1 ,2 ,3 ,4 ,5],\n",
    "  [16,17,24,23,6],\n",
    "  [15,18,25,22,7],\n",
    "  [14,19,20,21,8],\n",
    "  [13,12,11,10,9]\n",
    "]\n",
    "return 25\n",
    "\n",
    "Challenge\n",
    "O(nm) time and memory.\n",
    "```"
   ]
  },
  {
   "cell_type": "code",
   "execution_count": null,
   "metadata": {
    "colab": {
     "base_uri": "https://localhost:8080/",
     "height": 34
    },
    "colab_type": "code",
    "id": "8we_oclxCPS0",
    "outputId": "aca22922-19d3-4303-c721-c66ba585bbe7"
   },
   "outputs": [
    {
     "name": "stdout",
     "output_type": "stream",
     "text": [
      "25\n"
     ]
    }
   ],
   "source": [
    "class Solution:\n",
    "    \"\"\"\n",
    "    @param matrix: A 2D-array of integers\n",
    "    @return: an integer\n",
    "    \"\"\"\n",
    "    def lcis(self, A):\n",
    "        if len(A) == 0 or len(A[0]) == 0:\n",
    "            return 0\n",
    "        m, n = len(A), len(A[0])\n",
    "        \n",
    "        visited = [[0 for j in range(n)]\n",
    "                      for i in range(m)]\n",
    "        \n",
    "        dp = [[1 for j in range(n)]\n",
    "                 for i in range(m)] \n",
    "        \n",
    "        directions = [(1,0), (-1,0), (0,1), (0,-1)]\n",
    "        \n",
    "        def helper(x, y):\n",
    "            if dp[x][y] != 1:\n",
    "                return dp[x][y]\n",
    "            \n",
    "            for dx, dy in directions:\n",
    "                xd, yd = x + dx, y + dy\n",
    "                if 0 <= xd < m and 0 <= yd < n and A[xd][yd] > A[x][y]:\n",
    "                    dp[x][y] = max(dp[x][y], helper(xd, yd) + 1)\n",
    "            \n",
    "            return dp[x][y]\n",
    "        \n",
    "        ans = 1 \n",
    "        for i in range(m):\n",
    "            for j in range(n):\n",
    "                dp[i][j] = helper(i, j)\n",
    "                ans = max(ans, dp[i][j])\n",
    "        \n",
    "        return ans\n",
    "    \n",
    "if __name__ == \"__main__\":\n",
    "    s = Solution()\n",
    "    print s.lcis([\n",
    "  [1 ,2 ,3 ,4 ,5],\n",
    "  [16,17,24,23,6],\n",
    "  [15,18,25,22,7],\n",
    "  [14,19,20,21,8],\n",
    "  [13,12,11,10,9]\n",
    "])\n",
    "                    \n",
    "        "
   ]
  },
  {
   "cell_type": "markdown",
   "metadata": {
    "colab_type": "text",
    "id": "i0kH2qePPdmi"
   },
   "source": [
    "### 436. Maximal Square\n",
    "Given a 2D binary matrix filled with 0's and 1's, find the largest square containing all 1's and return its area.\n",
    "```\n",
    "Example\n",
    "For example, given the following matrix:\n",
    "\n",
    "1 0 1 0 0\n",
    "1 0 1 1 1\n",
    "1 1 1 1 1\n",
    "1 0 0 1 0\n",
    "Return 4.\n",
    "```"
   ]
  },
  {
   "cell_type": "code",
   "execution_count": null,
   "metadata": {
    "colab": {
     "base_uri": "https://localhost:8080/",
     "height": 102
    },
    "colab_type": "code",
    "id": "ycDGgcKiPgGF",
    "outputId": "93da7bf0-0c13-45bf-e670-9de4af25f7ae"
   },
   "outputs": [
    {
     "name": "stdout",
     "output_type": "stream",
     "text": [
      "[1, 0, 1, 0, 0]\n",
      "[1, 0, 1, 1, 1]\n",
      "[1, 1, 1, 2, 2]\n",
      "[1, 0, 0, 1, 0]\n",
      "4\n"
     ]
    }
   ],
   "source": [
    "class Solution:\n",
    "    \"\"\"\n",
    "    @param matrix: a matrix of 0 and 1\n",
    "    @return: an integer\n",
    "    \"\"\"\n",
    "    def maxSquare(self, matrix):\n",
    "        if len(matrix) == 0 or len(matrix[0]) == 0:\n",
    "            return 0\n",
    "        m, n = len(matrix), len(matrix[0])\n",
    "        f = [[matrix[i][j] for j in range(n)]\n",
    "                           for i in range(m)]\n",
    "\n",
    "        for i in range(1, m):\n",
    "            for j in range(1, n):\n",
    "                if matrix[i][j] == 1:\n",
    "                    f[i][j] = min(f[i-1][j-1], f[i][j-1], f[i-1][j]) + 1\n",
    "                    \n",
    "\n",
    "        res = max(map(max, f))\n",
    "        for _ in f:\n",
    "            print _\n",
    "\n",
    "        return res * res\n",
    "\n",
    "\n",
    "if __name__ == \"__main__\":\n",
    "    s = Solution()\n",
    "    sample = [[1,0,1,0,0],[1,0,1,1,1],[1,1,1,1,1],[1,0,0,1,0]]    \n",
    "    print s.maxSquare(sample)"
   ]
  },
  {
   "cell_type": "markdown",
   "metadata": {
    "colab_type": "text",
    "id": "0CueDw8pBjes"
   },
   "source": []
  },
  {
   "cell_type": "markdown",
   "metadata": {
    "colab_type": "text",
    "id": "CGyiXeYXupc0"
   },
   "source": [
    "### Shortest Palindrome"
   ]
  },
  {
   "cell_type": "markdown",
   "metadata": {
    "colab_type": "text",
    "id": "Yb7nRoyVu2JV"
   },
   "source": [
    "### Palindrome Pairs"
   ]
  },
  {
   "cell_type": "markdown",
   "metadata": {
    "colab_type": "text",
    "id": "bIFNuMmArjAl"
   },
   "source": [
    "## 博弈型动态规划\n",
    "\n",
    "\n",
    "博弈有先后手\n",
    "\t1. State:\n",
    "\t\t○ 定义一个人的状态\n",
    "\t2. Function:\n",
    "\t\t○ 考虑两个人的状态做状态更新\n",
    "\t3. Initialize:\n",
    "\t4. Answer:\n",
    "先思考最小状态, 然后思考大的状态-> 往小的递推，那么非常适合记忆化搜索\n"
   ]
  },
  {
   "cell_type": "markdown",
   "metadata": {
    "colab_type": "text",
    "id": "y14X2VFTIHqQ"
   },
   "source": [
    "### 394. Coins in a Line\n",
    "There are n coins in a line. Two players take turns to take one or two coins from right side until there are no more coins left. The player who take the last coin wins.\n",
    "\n",
    "Could you please decide the first play will win or lose?\n",
    "```\n",
    "Example\n",
    "n = 1, return true.\n",
    "\n",
    "n = 2, return true.\n",
    "\n",
    "n = 3, return false.\n",
    "\n",
    "n = 4, return true.\n",
    "\n",
    "n = 5, return true.\n",
    "\n",
    "Challenge\n",
    "O(n) time and O(1) memory\n",
    "```"
   ]
  },
  {
   "cell_type": "code",
   "execution_count": null,
   "metadata": {
    "colab": {},
    "colab_type": "code",
    "id": "dUJdSUigIHRr"
   },
   "outputs": [],
   "source": [
    "class Solution:\n",
    "    \"\"\"\n",
    "    @param n: An integer\n",
    "    @return: A boolean which equals to true if the first player will win\n",
    "    \"\"\"\n",
    "    def firstWillWin(self, n):\n",
    "        while n > 0:\n",
    "            if n <= 2:\n",
    "                return True\n",
    "            n -= 3 \n",
    "        return False \n"
   ]
  },
  {
   "cell_type": "markdown",
   "metadata": {
    "colab_type": "text",
    "id": "pGCNTn_CJFtq"
   },
   "source": [
    "### 395. Coins in a Line II\n",
    "There are n coins with different value in a line. Two players take turns to take one or two coins from left side until there are no more coins left. The player who take the coins with the most value wins.\n",
    "\n",
    "Could you please decide the first player will win or lose?\n",
    "```\n",
    "Example\n",
    "Given values array A = [1,2,2], return true.\n",
    "\n",
    "Given A = [1,2,4], return false.\n",
    "```"
   ]
  },
  {
   "cell_type": "code",
   "execution_count": null,
   "metadata": {
    "colab": {},
    "colab_type": "code",
    "id": "gq9oUjvWJJfx"
   },
   "outputs": [],
   "source": [
    "class Solution:\n",
    "    \"\"\"\n",
    "    @param values: a vector of integers\n",
    "    @return: a boolean which equals to true if the first player will win\n",
    "    \"\"\"\n",
    "    def firstWillWin(self, values):\n",
    "        if len(values) < 3:\n",
    "            return True\n",
    "        n = len(values)\n",
    "        dp = [0 for i in range(n+1)]\n",
    "        dp[n-1] = values[n-1]\n",
    "        dp[n-2] = values[n-2] + values[n-1]\n",
    "        dp[n-3] = values[n-3] + values[n-2]\n",
    "\n",
    "        for i in range(n-4, -1, -1):\n",
    "            dp[i] = max(values[i] + min(dp[i+2], dp[i+3]),\n",
    "                        values[i] + values[i+1] + min(dp[i+3], dp[i+4]))\n",
    "\n",
    "        return sum(values) - dp[0] < dp[0]"
   ]
  },
  {
   "cell_type": "markdown",
   "metadata": {
    "colab_type": "text",
    "id": "K3CPAMk6JLqZ"
   },
   "source": [
    "### 396. Coins in a Line III\n",
    "There are n coins in a line. Two players take turns to take a coin from one of the ends of the line until there are no more coins left. The player with the larger amount of money wins.\n",
    "\n",
    "Could you please decide the first player will win or lose?\n",
    "```\n",
    "Example\n",
    "Given array A = [3,2,2], return true.\n",
    "\n",
    "Given array A = [1,2,4], return true.\n",
    "\n",
    "Given array A = [1,20,4], return false.\n",
    "\n",
    "Challenge\n",
    "Follow Up Question:\n",
    "\n",
    "If n is even. Is there any hacky algorithm that can decide whether first player will win or lose in O(1) memory and O(n) time?\n",
    "```"
   ]
  },
  {
   "cell_type": "code",
   "execution_count": null,
   "metadata": {
    "colab": {},
    "colab_type": "code",
    "id": "OeW4S8WRJRcd"
   },
   "outputs": [],
   "source": []
  },
  {
   "cell_type": "markdown",
   "metadata": {
    "colab_type": "text",
    "id": "qVBWSZY_AlTk"
   },
   "source": [
    "### 392. House Robber\n",
    "You are a professional robber planning to rob houses along a street. Each house has a certain amount of money stashed, the only constraint stopping you from robbing each of them is that adjacent houses have security system connected and it will automatically contact the police if two adjacent houses were broken into on the same night.\n",
    "\n",
    "Given a list of non-negative integers representing the amount of money of each house, determine the maximum amount of money you can rob tonight without alerting the police.\n",
    "```\n",
    "Example\n",
    "Given [3, 8, 4], return 8.\n",
    "\n",
    "Challenge\n",
    "O(n) time and O(1) memory.\n",
    "```"
   ]
  },
  {
   "cell_type": "code",
   "execution_count": null,
   "metadata": {
    "colab": {},
    "colab_type": "code",
    "id": "mfC2GtthAlEk"
   },
   "outputs": [],
   "source": [
    "class Solution(object):\n",
    "\n",
    "    def houseRobber(self, arr):\n",
    "        if len(arr) == 0:\n",
    "            return 0\n",
    "        if len(arr) <= 2:\n",
    "            return max(arr)\n",
    "        n = len(arr)\n",
    "\n",
    "        dp = [0 for i in range(n)]\n",
    "        dp[0] = arr[0]\n",
    "        dp[1] = max(arr[0], arr[1])\n",
    "        for i in range(2, n):\n",
    "            dp[i] = max(arr[i] + dp[i-2], dp[i-1])\n",
    "\n",
    "        return dp[-1]"
   ]
  },
  {
   "cell_type": "markdown",
   "metadata": {
    "colab_type": "text",
    "id": "22MYFTWG_2gM"
   },
   "source": [
    "### 534. House Robber II\n",
    "After robbing those houses on that street, the thief has found himself a new place for his thievery so that he will not get too much attention. This time, all houses at this place are arranged in a circle. That means the first house is the neighbor of the last one. Meanwhile, the security system for these houses remain the same as for those in the previous street.\n",
    "\n",
    "Given a list of non-negative integers representing the amount of money of each house, determine the maximum amount of money you can rob tonight without alerting the police.\n",
    "```\n",
    "Example\n",
    "nums = [3,6,4], return 6\n",
    "\n",
    "Notice\n",
    "This is an extension of House Robber.\n",
    "```"
   ]
  },
  {
   "cell_type": "code",
   "execution_count": null,
   "metadata": {
    "colab": {},
    "colab_type": "code",
    "id": "V2O5nSduACj8"
   },
   "outputs": [],
   "source": [
    "class Solution:\n",
    "    # param nums: A list of non-negative integers.\n",
    "    # return: an integer\n",
    "    def houseRobber2(self, nums):\n",
    "        # write your code here\n",
    "        n = len(nums)\n",
    "        if n == 0:\n",
    "            return 0\n",
    "        if n == 1:\n",
    "            return nums[0]\n",
    "\n",
    "        dp = [0] * n\n",
    "        \n",
    "        dp[0], dp[1] = 0, nums[1]\n",
    "        for i in xrange(2, n):\n",
    "            dp[i] = max(dp[i - 2] + nums[i], dp[i - 1])\n",
    "\n",
    "        answer = dp[n - 1]\n",
    "\n",
    "        dp[0], dp[1] = nums[0], max(nums[0], nums[1])\n",
    "        for i in xrange(2, n):\n",
    "            dp[i] = max(dp[i - 2] + nums[i], dp[i - 1])\n",
    "\n",
    "        return max(dp[n - 2], answer)"
   ]
  },
  {
   "cell_type": "markdown",
   "metadata": {
    "colab_type": "text",
    "id": "7xSpUm8h_kou"
   },
   "source": [
    "### 535. House Robber III\n",
    "The thief has found himself a new place for his thievery again. There is only one entrance to this area, called the \"root.\" Besides the root, each house has one and only one parent house. After a tour, the smart thief realized that \"all houses in this place forms a binary tree\". It will automatically contact the police if two directly-linked houses were broken into on the same night.\n",
    "\n",
    "Determine the maximum amount of money the thief can rob tonight without alerting the police.\n",
    "```\n",
    "Example\n",
    "  3\n",
    " / \\\n",
    "2   3\n",
    " \\   \\ \n",
    "  3   1\n",
    "Maximum amount of money the thief can rob = 3 + 3 + 1 = 7.\n",
    "\n",
    "    3\n",
    "   / \\\n",
    "  4   5\n",
    " / \\   \\ \n",
    "1   3   1\n",
    "Maximum amount of money the thief can rob = 4 + 5 = 9.\n",
    "```"
   ]
  },
  {
   "cell_type": "code",
   "execution_count": null,
   "metadata": {
    "colab": {},
    "colab_type": "code",
    "id": "QVJ1Wsrg_1Ub"
   },
   "outputs": [],
   "source": [
    "class Solution(object):\n",
    "    \n",
    "    def houseRobber3(self, root):\n",
    "        \n",
    "        def helper(node): # return [without node val, with node val]\n",
    "            if node is None:\n",
    "                return [0, 0]\n",
    "            \n",
    "            left, right = helper(node.left), helper(node.right)\n",
    "            return [max(left) + max(right), \n",
    "                    left[0] + right[0] + node.val]\n",
    "\n",
    "        return max(helper(root))\n"
   ]
  }
 ],
 "metadata": {
  "accelerator": "GPU",
  "colab": {
   "collapsed_sections": [
    "JF1PH6BYyFqc",
    "8-veu44AzpHb",
    "oTcS_Evw6hRs"
   ],
   "include_colab_link": true,
   "name": "Ch08 Dynamic Programming",
   "provenance": [],
   "version": "0.3.2"
  },
  "kernelspec": {
   "display_name": "py37",
   "language": "python",
   "name": "python3"
  },
  "language_info": {
   "codemirror_mode": {
    "name": "ipython",
    "version": 3
   },
   "file_extension": ".py",
   "mimetype": "text/x-python",
   "name": "python",
   "nbconvert_exporter": "python",
   "pygments_lexer": "ipython3",
   "version": "3.7.1"
  }
 },
 "nbformat": 4,
 "nbformat_minor": 2
}
