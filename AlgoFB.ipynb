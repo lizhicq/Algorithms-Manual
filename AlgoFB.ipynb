{
 "cells": [
  {
   "cell_type": "markdown",
   "metadata": {},
   "source": [
    "# Algorithm"
   ]
  },
  {
   "cell_type": "markdown",
   "metadata": {},
   "source": [
    "## Two Pointer"
   ]
  },
  {
   "cell_type": "markdown",
   "metadata": {},
   "source": [
    "### Minimal Window Substring"
   ]
  },
  {
   "cell_type": "code",
   "execution_count": null,
   "metadata": {},
   "outputs": [],
   "source": [
    "#!/bin/python3\n",
    "\n",
    "import math\n",
    "import os\n",
    "import random\n",
    "import re\n",
    "import sys\n",
    "\n",
    "\n",
    "\n",
    "#\n",
    "# Complete the 'LengthOfShortestSubstring' function below.\n",
    "#\n",
    "# The function is expected to return an INTEGER.\n",
    "# The function accepts STRING myString as parameter.\n",
    "#\n",
    "\n",
    "from collections import Counter\n",
    "def LengthOfShortestSubstring(myString):\n",
    "    # mapt \n",
    "    mapt = Counter(set(myString))\n",
    "    count = len(mapt)\n",
    "    left = right = 0\n",
    "    dis = float('inf')\n",
    "\n",
    "    while right < len(myString):\n",
    "        if mapt[myString[right]] > 0:\n",
    "            count -= 1\n",
    "        mapt[myString[right]] -= 1\n",
    "        right += 1\n",
    "\n",
    "        while count == 0:\n",
    "            if right - left < dis:\n",
    "                dis = right - left\n",
    "            if mapt[myString[left]] == 0:\n",
    "                count += 1\n",
    "            mapt[myString[left]] += 1\n",
    "            left += 1\n",
    "\n",
    "    return dis\n",
    "\n",
    "if __name__ == '__main__':"
   ]
  },
  {
   "cell_type": "markdown",
   "metadata": {},
   "source": [
    "### Verifying an Alien Dictionary\n",
    "```\n",
    "Example 1:\n",
    "\n",
    "Input: words = [\"hello\",\"leetcode\"], order = \"hlabcdefgijkmnopqrstuvwxyz\"\n",
    "Output: true\n",
    "Explanation: As 'h' comes before 'l' in this language, then the sequence is sorted.\n",
    "Example 2:\n",
    "\n",
    "Input: words = [\"word\",\"world\",\"row\"], order = \"worldabcefghijkmnpqstuvxyz\"\n",
    "Output: false\n",
    "Explanation: As 'd' comes after 'l' in this language, then words[0] > words[1], hence the sequence is unsorted.\n",
    "```"
   ]
  },
  {
   "cell_type": "code",
   "execution_count": 6,
   "metadata": {},
   "outputs": [
    {
     "data": {
      "text/plain": [
       "True"
      ]
     },
     "execution_count": 6,
     "metadata": {},
     "output_type": "execute_result"
    }
   ],
   "source": [
    "def isAlienSorted(self, words, order):\n",
    "    new_order = sorted(words, key=lambda word: [order.index(ch) for ch in word])\n",
    "    return new_order == words\n",
    "\n",
    "def isAlienSorted(self, words, order):\n",
    "    ind = {ch:i for i, ch in enumerate(order)}\n",
    "    for a, b in zip(words, words[1:]):\n",
    "        if len(a) > len(b) and a[:len(b)] == b:\n",
    "            return False\n",
    "        for c1, c2 in zip(a, b):\n",
    "            if ind[c1] < ind[c2]:\n",
    "                break\n",
    "            elif ind[c1] > ind[c2]:\n",
    "                return False\n",
    "        return True\n",
    "\n",
    "isAlienSorted('self', [\"hello\",\"leetcode\"], \"hlabcdefgijkmnopqrstuvwxyz\")"
   ]
  },
  {
   "cell_type": "markdown",
   "metadata": {},
   "source": [
    "### Trapping Rain Water\n",
    "Given n non-negative integers representing an elevation map where the width of each bar is 1, compute how much water it is able to trap after raining.\n",
    "```\n",
    "Input: [0,1,0,2,1,0,1,3,2,1,2,1]\n",
    "Output: 6\n",
    "```"
   ]
  },
  {
   "cell_type": "code",
   "execution_count": 8,
   "metadata": {},
   "outputs": [
    {
     "data": {
      "text/plain": [
       "6"
      ]
     },
     "execution_count": 8,
     "metadata": {},
     "output_type": "execute_result"
    }
   ],
   "source": [
    "def trap(self, heights):\n",
    "    if not heights:\n",
    "        return 0\n",
    "    rain = maxleft = maxright = 0\n",
    "    left, right = 0, len(heights) - 1 \n",
    "    while left < right:\n",
    "        if heights[left] < heights[right]:\n",
    "            maxleft = max(heights[left], maxleft)\n",
    "            rain += maxleft - heights[left]\n",
    "            left += 1\n",
    "        else:\n",
    "            maxright = max(heights[right], maxright)\n",
    "            rain += maxright - heights[right]\n",
    "            right -= 1\n",
    "    return rain\n",
    "trap('', [0,1,0,2,1,0,1,3,2,1,2,1])"
   ]
  },
  {
   "cell_type": "markdown",
   "metadata": {},
   "source": [
    "### Meeting rooms"
   ]
  },
  {
   "cell_type": "code",
   "execution_count": null,
   "metadata": {},
   "outputs": [],
   "source": [
    "def minMeetingRooms(self, intervals):\n",
    "    points = []\n",
    "    for start, end in intervals:\n",
    "        points.append((start, 1))\n",
    "        points.append((end, -1))\n",
    "    \n",
    "    points.sort()\n",
    "    \n",
    "    on_going = max_rooms = 0\n",
    "    for _, delta in points:\n",
    "        on_going += delta\n",
    "        max_rooms = max(max_rooms, on_going)\n",
    "    return max_rooms\n",
    "\n",
    "def minMeetingRooms(self, intervals):\n",
    "    intervals.sort()\n",
    "    heap = []  # stores the end time of intervals\n",
    "    for inv in intervals:\n",
    "        if heap and inv[0] >= heap[0]:#end a meeting\n",
    "            heapq.heappop(heap)\n",
    "        heapq.heappush(heap, inv[1])\n",
    "    return len(heap)"
   ]
  },
  {
   "cell_type": "markdown",
   "metadata": {},
   "source": [
    "### Intersection of Two Arrays\n",
    "nums1 = [1,2,2,1], nums2 = [2,2] -> [2]\n",
    "\n",
    "nums1 = [1,2,2,1], nums2 = [2,2] -> [2,2]\n",
    "\n",
    "follow up:\n",
    "\n",
    "1. nums2 is very large? solved originally\n",
    "2. nums1,2 are soted \n",
    "3. too large to fit in memory\n",
    "\n",
    "If only nums2 cannot fit in memory, put all elements of nums1 into a HashMap, read chunks of array that fit into the memory, and record the intersections.\n",
    "\n",
    "If both nums1 and nums2 are so huge that neither fit into the memory, sort them individually (external sort), then read 2 elements from each array at a time in memory, record intersections."
   ]
  },
  {
   "cell_type": "code",
   "execution_count": 9,
   "metadata": {},
   "outputs": [],
   "source": [
    "def intersection(self, nums1, nums2):\n",
    "    return list(set(nums1) & set(nums2))\n",
    "\n",
    "def intersection_large(nums1, nums2):\n",
    "    if len(nums1) > len(nums2):\n",
    "        return intersection_large(nums2, nums1)\n",
    "    \n",
    "    count1 = Counter(nums1)\n",
    "    res = []\n",
    "    for num in nums2:\n",
    "        if count1[num] > 0:\n",
    "            res.append(num)\n",
    "            count1[num] -= 1\n",
    "    return res\n",
    "\n",
    "def intersection_sort(nums1, nums2):\n",
    "    res = [] \n",
    "    i = j = 0\n",
    "    while i < len(nums1) and j < len(nums2):\n",
    "        if nums1[i] == nums2[j]:\n",
    "            res.append(nums1[i])\n",
    "            i += 1\n",
    "            j += 1\n",
    "        elif nums1[i] < nums2[j]:\n",
    "            i += 1\n",
    "        else:\n",
    "            j += 1\n",
    "    return res"
   ]
  },
  {
   "cell_type": "markdown",
   "metadata": {},
   "source": [
    "### Roman to Interger "
   ]
  },
  {
   "cell_type": "code",
   "execution_count": 6,
   "metadata": {},
   "outputs": [],
   "source": [
    "def romanToInt(self, s: str) -> int:\n",
    "    ROI = {'I':1,\n",
    "           'V':5,\n",
    "           'X':10,\n",
    "           'L':50,\n",
    "           'C':100,\n",
    "           'D':500,\n",
    "           'M':1000}\n",
    "\n",
    "    index = len(s) - 2 \n",
    "    rum = ROI[s[-1]]\n",
    "    while index >= 0:\n",
    "        ch1, ch2 = s[index], s[index+1]\n",
    "        if ROI[ch1] < ROI[ch2]:\n",
    "            rum -= ROI[ch1]\n",
    "        else:\n",
    "            rum += ROI[ch1]\n",
    "        index -= 1\n",
    "    return rum"
   ]
  },
  {
   "cell_type": "markdown",
   "metadata": {},
   "source": [
    "### Find Anagram"
   ]
  },
  {
   "cell_type": "code",
   "execution_count": null,
   "metadata": {},
   "outputs": [],
   "source": [
    "def findAnagrams(self, s, p):\n",
    "    res = []\n",
    "    n, m = len(s), len(p)\n",
    "    if n < m: return res\n",
    "    phash = [0]*26\n",
    "    shash = [0]*26\n",
    "    base = ord('a')\n",
    "    for x in p:\n",
    "        phash[ord(x)-base] += 1\n",
    "    for x in s[:m]:\n",
    "        shash[ord(x)-base] += 1\n",
    "    if shash == phash:\n",
    "        res.append(0)\n",
    "    for i in range(m, n):\n",
    "        shash[ord(s[i-m])-base] -= 1\n",
    "        shash[ord(s[i])-base] += 1\n",
    "        if shash == phash:\n",
    "            res.append(i-m+1)          \n",
    "    return res"
   ]
  },
  {
   "cell_type": "markdown",
   "metadata": {},
   "source": [
    "### Intersection of Intervals"
   ]
  },
  {
   "cell_type": "code",
   "execution_count": 8,
   "metadata": {},
   "outputs": [],
   "source": [
    "def intervalIntersection(self, A: 'List[Interval]', B: 'List[Interval]') -> 'List[Interval]':\n",
    "    res = []\n",
    "    i = j = 0\n",
    "    while i < len(A) and j < len(B):\n",
    "        if A[i][0] <= B[j][1] and B[j][0] <= A[i][1]:#crossed\n",
    "            res.append([max(A[i][0], B[j][0]), # large start\n",
    "                        min(A[i][1], B[j][1])])# small end\n",
    "        if A[i][1] < B[j][1]:\n",
    "            i+=1\n",
    "        else:    \n",
    "            j+=1\n",
    "    return res \n"
   ]
  },
  {
   "cell_type": "markdown",
   "metadata": {},
   "source": [
    "### Divide Two Integers\n",
    "同时给出余数"
   ]
  },
  {
   "cell_type": "code",
   "execution_count": null,
   "metadata": {},
   "outputs": [],
   "source": [
    "class Solution(object):\n",
    "    def divide(self, dividend, divisor):\n",
    "        \"\"\"\n",
    "        :type dividend: int\n",
    "        :type divisor: int\n",
    "        :rtype: int\n",
    "        \"\"\"\n",
    "        if dividend == 0:\n",
    "            return 0\n",
    "\n",
    "        upper = 2**31 - 1\n",
    "        lower = -2**31\n",
    "\n",
    "        if divisor == 0:\n",
    "            return upper if dividend > 0 else lower\n",
    "\n",
    "        sign = 1 if dividend*divisor > 0 else - 1\n",
    "        dividend = abs(dividend)\n",
    "        divisor = abs(divisor)\n",
    "        start, end = lower, upper+1\n",
    "\n",
    "        while start + 1 < end:\n",
    "\n",
    "            mid = start + (end - start) // 2\n",
    "            if mid * divisor < dividend:\n",
    "                start = mid\n",
    "            else:\n",
    "                end = mid\n",
    "\n",
    "        # check start and end\n",
    "        ans = end if end * divisor <= dividend else start\n",
    "\n",
    "        #print ans, start, end\n",
    "        # check bound\n",
    "        if sign == 1:\n",
    "            return min(ans, upper)\n",
    "        else:\n",
    "            return max(-ans, lower)"
   ]
  },
  {
   "cell_type": "code",
   "execution_count": null,
   "metadata": {},
   "outputs": [],
   "source": [
    "### 238"
   ]
  },
  {
   "cell_type": "code",
   "execution_count": null,
   "metadata": {},
   "outputs": [],
   "source": [
    "### Kth larget number in unsorted array"
   ]
  },
  {
   "cell_type": "code",
   "execution_count": null,
   "metadata": {},
   "outputs": [],
   "source": [
    "### 1st: The right view of binary tree. 199\n",
    "### 2nd: find distance between any two nodes in a binary tree"
   ]
  },
  {
   "cell_type": "code",
   "execution_count": null,
   "metadata": {},
   "outputs": [],
   "source": [
    "from collections import deque\n",
    "class Solution(object):\n",
    "    def isCompleteTree(self, root):\n",
    "        if not root:\n",
    "            return True\n",
    "        deck = deque()\n",
    "        deck.append(root)\n",
    "        count = 1\n",
    "        while deck:\n",
    "            node = deck.popleft()\n",
    "            if not node:\n",
    "                return count == 0\n",
    "            count -= 1\n",
    "            count += 1 if node.left else 0\n",
    "            count += 1 if node.right else 0\n",
    "            deck.append(node.left)\n",
    "            deck.append(node.right)\n",
    "        return True"
   ]
  },
  {
   "cell_type": "markdown",
   "metadata": {},
   "source": [
    "## Linkedlist "
   ]
  },
  {
   "cell_type": "markdown",
   "metadata": {},
   "source": [
    "### Insert into cyclic linked list"
   ]
  },
  {
   "cell_type": "code",
   "execution_count": null,
   "metadata": {},
   "outputs": [],
   "source": [
    "def insert(self, head, insertVal):\n",
    "        new_node = Node(insertVal, head)\n",
    "        if not head:  \n",
    "            return new_node\n",
    "        node = head\n",
    "        while True:\n",
    "            if node.next.val < node.val and (insertVal <= node.next.val or insertVal >= node.val):\n",
    "                break # end of the list\n",
    "            elif node.val <= insertVal <= node.next.val:\n",
    "                break\n",
    "            elif node.next == head:\n",
    "                break\n",
    "            node = node.next\n",
    "        \n",
    "        new_node.next = node.next\n",
    "        node.next = new_node\n",
    "        return head"
   ]
  },
  {
   "cell_type": "markdown",
   "metadata": {},
   "source": [
    "### Reverse Linkedlist\n",
    "\n",
    "I. reverse entire\n",
    "II. reverse between m and n"
   ]
  },
  {
   "cell_type": "code",
   "execution_count": null,
   "metadata": {},
   "outputs": [],
   "source": [
    "def reverseList(self, head):\n",
    "    prev = None\n",
    "    while head:\n",
    "        cur = head\n",
    "        head = head.next\n",
    "        cur.next = prev\n",
    "        pre = cur\n",
    "    return pre\n",
    "\n",
    "\n",
    "def reverseBetween(self, head, m, n):\n",
    "    if m == n:\n",
    "        return head\n",
    "\n",
    "    dummyNode = ListNode(0)\n",
    "    dummyNode.next = head\n",
    "    pre = dummyNode\n",
    "\n",
    "    for i in range(m - 1):\n",
    "        pre = pre.next\n",
    "\n",
    "    # reverse the [m, n] nodes\n",
    "    reverse = None\n",
    "    cur = pre.next\n",
    "    for i in range(n - m + 1):\n",
    "        next = cur.next\n",
    "        cur.next = reverse\n",
    "        reverse = cur\n",
    "        cur = next\n",
    "\n",
    "    pre.next.next = cur\n",
    "    pre.next = reverse\n",
    "\n",
    "    return dummyNode.next"
   ]
  },
  {
   "cell_type": "markdown",
   "metadata": {},
   "source": [
    "### Intersection of Two Linked Lists\n",
    "```\n",
    "Input: intersectVal = 8, \n",
    "listA = [4,1,8,4,5], \n",
    "listB = [5,0,1,8,4,5], skipA = 2, skipB = 3\n",
    "Output: Reference of the node with value = 8\n",
    "```"
   ]
  },
  {
   "cell_type": "code",
   "execution_count": null,
   "metadata": {},
   "outputs": [],
   "source": [
    "def getIntersectionNode(self, headA, headB):\n",
    "    pa, pb = headA, headB\n",
    "    while pa != pb:\n",
    "        pa = pa.next if pa else headB\n",
    "        pb = pb.next if pb else headA\n",
    "    return pa \n",
    "# 要这么写，不能写成 if pa.next\n",
    "# 1->null, null 过不了"
   ]
  },
  {
   "cell_type": "markdown",
   "metadata": {},
   "source": [
    "## Array"
   ]
  },
  {
   "cell_type": "markdown",
   "metadata": {},
   "source": [
    "### Decode Ways\n",
    "Input: \"12\"\n",
    "Output: 2\n",
    "Explanation: It could be decoded as \"AB\" (1 2) or \"L\" (12)."
   ]
  },
  {
   "cell_type": "code",
   "execution_count": null,
   "metadata": {},
   "outputs": [],
   "source": [
    "def numDecodings(self, s: str) -> int:\n",
    "    if not s:\n",
    "        return 0 \n",
    "    n = len(s)\n",
    "\n",
    "    dp = [0] * (n+1)\n",
    "    dp[0] = 1\n",
    "    dp[1] = 1 if int(s[0]) else 0 \n",
    "\n",
    "    for i in range(2, n+1):\n",
    "        if s[i-1:i] != '0':\n",
    "            dp[i] += dp[i-1]\n",
    "        if s[i-2:i][0] != '0' and int(s[i-2:i]) <= 26:\n",
    "            dp[i] += dp[i-2]\n",
    "\n",
    "    return dp[-1]"
   ]
  },
  {
   "cell_type": "markdown",
   "metadata": {},
   "source": [
    "### Max Sum of 3 Non-Overlapping Subarrays\n",
    "input:\n",
    "```\n",
    "[1,2,1,2,1,2,1,2,1]\n",
    "2\n",
    "\n",
    "[0, 0, 0, 0, 0, 0, 0, 0, 0] \n",
    "[0, 1, 2, 3, 4, 5, 6, 7, 7]\n",
    "0 2 4 9\n",
    "0 3 5 9\n",
    "0 4 6 9\n",
    "0 5 7 9\n",
    "```"
   ]
  },
  {
   "cell_type": "markdown",
   "metadata": {},
   "source": [
    "### Longest Consecutive Sequence"
   ]
  },
  {
   "cell_type": "code",
   "execution_count": null,
   "metadata": {},
   "outputs": [],
   "source": [
    "def longestConsecutive(self, nums: List[int]) -> int:\n",
    "    nums = set(nums)\n",
    "    best = 0\n",
    "    for x in nums:\n",
    "        if x - 1 not in nums:\n",
    "            y = x + 1\n",
    "            while y in nums:\n",
    "                y += 1\n",
    "            best = max(best, y - x)\n",
    "    return best"
   ]
  },
  {
   "cell_type": "code",
   "execution_count": null,
   "metadata": {},
   "outputs": [],
   "source": [
    "class Solution:\n",
    "    def maxSumOfThreeSubarrays(self, nums: List[int], k: int) -> List[int]:\n",
    "        n = len(nums)\n",
    "        mx = -1\n",
    "        sums, res, left, right = [0], [], [0]*n, [n-k]*n\n",
    "        for num in nums:\n",
    "            sums.append(sums[-1]+num)\n",
    "        \n",
    "        #left \n",
    "        tot = sums[k] - sums[0]\n",
    "        for i in range(k, n):\n",
    "            if sums[i+1] - sums[i+1-k] > tot:\n",
    "                left[i] = i + 1 - k \n",
    "                tot = sums[i+1] - sums[i+1-k]\n",
    "            else:\n",
    "                left[i] = left[i-1] # 能少一位是一位\n",
    "        \n",
    "        #right\n",
    "        tot = sums[n] - sums[n-k]\n",
    "        for i in range(n-1-k, -1,-1):\n",
    "            if sums[i+k] - sums[i] >= tot:\n",
    "                right[i] = i\n",
    "                tot = sums[i+k] - sums[i]\n",
    "            else:\n",
    "                right[i] = right[i+1] # 能多一位是一位\n",
    "        \n",
    "        for i in range(k, n-2*k+1):\n",
    "            l, r = left[i-1], right[i+k]\n",
    "            tot = sums[i+k] - sums[i] \\\n",
    "                + sums[l+k] - sums[l] \\\n",
    "                + sums[r+k] - sums[r]\n",
    "            \n",
    "            if mx < tot:\n",
    "                res = [l, i, r]\n",
    "                mx = tot\n",
    "        \n",
    "        return res"
   ]
  },
  {
   "cell_type": "markdown",
   "metadata": {},
   "source": [
    "### Best time to buy and sell stock III\n",
    "\n",
    "Say you have an array for which the ith element is the price of a given stock on day i.\n",
    "\n",
    "Design an algorithm to find the maximum profit. You may complete at most two transactions.\n",
    "\n",
    "\n",
    "Notes:\n",
    "\n",
    "First assume that we have no money, so buy1 means that we have to borrow money from others, we want to borrow less so that we have to make our balance as max as we can(because this is negative).\n",
    "\n",
    "sell1 means we decide to sell the stock, after selling it we have price[i] money and we have to give back the money we owed, so we have price[i] - |buy1| = prices[i ] + buy1, we want to make this max.\n",
    "\n",
    "buy2 means we want to buy another stock, we already have sell1 money, so after buying stock2 we have buy2 = sell1 - price[i] money left, we want more money left, so we make it max\n",
    "\n",
    "sell2 means we want to sell stock2, we can have price[i] money after selling it, and we have buy2 money left before, so sell2 = buy2 + prices[i], we make this max.\n",
    "\n",
    "So sell2 is the most money we can have.\n",
    "\n",
    "Hope it is helpful and welcome quesions!"
   ]
  },
  {
   "cell_type": "code",
   "execution_count": null,
   "metadata": {},
   "outputs": [],
   "source": [
    "class Solution:\n",
    "    def maxProfit(self, prices: List[int]) -> int:\n",
    "        if not prices:\n",
    "            return 0\n",
    "        s1 = prices[0]\n",
    "        s2 = s3 = s4 = -float('inf'), \n",
    "        for price in prices[1:]:\n",
    "            s1 = max(s1, -price)\n",
    "            s2 = max(s2, s1+price)\n",
    "            s3 = max(s3, s2-price)\n",
    "            s4 = max(s4, s3+price)\n",
    "        return max(0, s4)"
   ]
  },
  {
   "cell_type": "code",
   "execution_count": 3,
   "metadata": {},
   "outputs": [
    {
     "data": {
      "text/plain": [
       "285"
      ]
     },
     "execution_count": 3,
     "metadata": {},
     "output_type": "execute_result"
    }
   ],
   "source": [
    "sum(x*x for x in range(10))"
   ]
  },
  {
   "cell_type": "markdown",
   "metadata": {},
   "source": [
    "### Best time to buy and sell stock IV\n",
    "\n",
    "两个思路：\n",
    "1. $ f[i][j]  =   f[i][j-1] + maxSum(num[j:i+1]) $ # 从j开始到i再求maxsubArray, 注意是从j不是从j-1，写成代码，就是j-1不是j-2开始\n",
    "2.  \n",
    "\n",
    "     $f[i][j][0] = max(f[i - 1][j][1],\\   f[i - 1][j][0])$ # 第i个数没有放进背包\n",
    "\n",
    "      $f[i][j][1] = max(f[i-1][j][1],\\  f[i-1][j-1][1],\\ f[i-1][j-1][0]) + nums[i-1]$ # 第i个数放进背包\n",
    "      \n",
    "      Notes: 为什么要多一个变量来记录，A = [-1，4，-2，3]\n",
    "     \n",
    "     f[3][1] = max(f[2][1], f[2][1]+A[3], f[2][0] + A[3]) = max(4, 4+3, 3) = 7, 错，f[3][1] = 5, 因为没有确保连续性，所以dp错了。"
   ]
  },
  {
   "cell_type": "code",
   "execution_count": null,
   "metadata": {},
   "outputs": [],
   "source": [
    "class Solution:\n",
    "    def maxProfit(self, k: int, prices: List[int]) -> int:\n",
    "        profits = []\n",
    "        count_postive = 0\n",
    "        cum = 0\n",
    "        for i in range(len(prices)-1):\n",
    "            profit = prices[i+1] - prices[i]\n",
    "            profits.append(prices[i+1] - prices[i])\n",
    "            if profit > 0:\n",
    "                count_postive += 1\n",
    "                cum += profit\n",
    "\n",
    "        if len(profits) <= k or count_postive <= k:\n",
    "            return cum\n",
    "            \n",
    "        return max(self.maxSubArray(profits, k), 0)\n",
    "\n",
    "\n",
    "    def maxSubArray(self, nums, k):\n",
    "        #这种写法是子数组的个数一定要是k，如果小于等于k也可以, 就取所有f[n][j], j<=k 最大\n",
    "        #f[i][j][0], maxsubarray with at most j arrays from nums[:i], not continuously\n",
    "        f = [[[ -float('inf') for t in range(2)]\n",
    "                              for j in range(k+1)]\n",
    "                              for i in range(len(nums)+1)]\n",
    "        \n",
    "        for i in range(1, len(nums)+1):\n",
    "            f[i][0][0] = 0 # without any element chosen\n",
    "        for j in range(1, k+1):\n",
    "            f[j][j][1] = sum(nums[:j])\n",
    "            for i in range(j+1, len(nums)+1):\n",
    "                f[i][j][0] = max(f[i-1][j][0], f[i-1][j][0]) # the ith num is not in \n",
    "                f[i][j][1] = max(f[i-1][j][1], f[i-1][j-1][0], \n",
    "                                 f[i-1][j-1][1]) + nums[i-1] # the ith num is in\n",
    "        return max(f[-1][-1])"
   ]
  },
  {
   "cell_type": "code",
   "execution_count": null,
   "metadata": {},
   "outputs": [],
   "source": []
  },
  {
   "cell_type": "code",
   "execution_count": null,
   "metadata": {},
   "outputs": [],
   "source": []
  },
  {
   "cell_type": "markdown",
   "metadata": {},
   "source": [
    "## Stack "
   ]
  },
  {
   "cell_type": "markdown",
   "metadata": {},
   "source": [
    "### String Decode\n",
    "s = \"3[a]2[bc]\", return \"aaabcbc\"."
   ]
  },
  {
   "cell_type": "code",
   "execution_count": null,
   "metadata": {},
   "outputs": [],
   "source": [
    "class Solution:\n",
    "    def decodeString(self, s: str) -> str:\n",
    "        stack = [] \n",
    "        stack.append(['', 1])\n",
    "        num = ''\n",
    "        for ch in s:\n",
    "            if ch.isdigit():\n",
    "                num += ch\n",
    "            elif ch == '[':\n",
    "                stack.append(['', int(num)])\n",
    "                num = ''\n",
    "            elif ch == ']':\n",
    "                st, k = stack.pop()\n",
    "                stack[-1][0] += st * k\n",
    "            else:\n",
    "                stack[-1][0] += ch\n",
    "        \n",
    "        return stack[0][0]\n",
    "                \n",
    "        "
   ]
  },
  {
   "cell_type": "code",
   "execution_count": null,
   "metadata": {},
   "outputs": [],
   "source": []
  },
  {
   "cell_type": "markdown",
   "metadata": {},
   "source": [
    "## Queue"
   ]
  },
  {
   "cell_type": "markdown",
   "metadata": {},
   "source": [
    "### Sliding window maxium"
   ]
  },
  {
   "cell_type": "code",
   "execution_count": null,
   "metadata": {},
   "outputs": [],
   "source": [
    "from collections import deque\n",
    "class Solution:\n",
    "    def maxSlidingWindow(self, nums, k):\n",
    "        res = []\n",
    "        bigger = deque()\n",
    "        for i, n in enumerate(nums):\n",
    "            # make sure the rightmost one is the smallest\n",
    "            while bigger and nums[bigger[-1]] <= n:\n",
    "                bigger.pop()\n",
    "            # add in\n",
    "            bigger += [i]\n",
    "            # make sure the leftmost one is in-bound\n",
    "            if i - bigger[0] >= k:\n",
    "                bigger.popleft()\n",
    "            # if i + 1 < k, then we are initializing the bigger array\n",
    "            if i + 1 >= k:\n",
    "                res.append(nums[bigger[0]])\n",
    "        return res"
   ]
  },
  {
   "cell_type": "markdown",
   "metadata": {},
   "source": [
    "### Sliding windows median"
   ]
  },
  {
   "cell_type": "code",
   "execution_count": null,
   "metadata": {},
   "outputs": [],
   "source": [
    "# 132 ms\n",
    "class SolutionSortedArrayFast(object):\n",
    "    def medianSlidingWindow(self, nums, k):\n",
    "        win, rv = nums[:k], []\n",
    "        win.sort()\n",
    "        odd = k%2\n",
    "        for i,n in enumerate(nums[k:],k):\n",
    "            rv.append((win[k/2]+win[k/2-1])/2. if not odd else win[(k-1)/2]*1.)\n",
    "            win.pop(bisect(win, nums[i-k])-1) # <<< bisect is faster than .remove()\n",
    "            insort(win, nums[i]) # inserting x in a after any existing entries of x.\n",
    "        rv.append((win[k/2]+win[k/2-1])/2. if not odd else win[(k-1)/2]*1.)\n",
    "        return rv"
   ]
  },
  {
   "cell_type": "code",
   "execution_count": null,
   "metadata": {},
   "outputs": [],
   "source": []
  },
  {
   "cell_type": "markdown",
   "metadata": {},
   "source": [
    "## Tree "
   ]
  },
  {
   "cell_type": "markdown",
   "metadata": {},
   "source": [
    "### Flatten Binary Tree to Linked List"
   ]
  },
  {
   "cell_type": "code",
   "execution_count": null,
   "metadata": {},
   "outputs": [],
   "source": [
    "def flatten(self, root):\n",
    "    last=TreeNode(-1)\n",
    "    qstack=[root]\n",
    "    while qstack:\n",
    "        node=qstack.pop()\n",
    "        last.right=node\n",
    "        last.left=None\n",
    "        if node and node.right:\n",
    "            qstack.append(node.right)\n",
    "        if node and node.left:\n",
    "            qstack.append(node.left)\n",
    "        last=node"
   ]
  },
  {
   "cell_type": "markdown",
   "metadata": {},
   "source": [
    "### Maxium path sum "
   ]
  },
  {
   "cell_type": "code",
   "execution_count": null,
   "metadata": {},
   "outputs": [],
   "source": [
    "class Solution:\n",
    "    def maxPathSum(self, root: TreeNode) -> int:\n",
    "        max_sum, cur_sum = self.helper(root)\n",
    "        return max_sum\n",
    "    \n",
    "    def helper(self, node):\n",
    "        if node is None:\n",
    "            return -maxsize, 0\n",
    "        \n",
    "        lmax, lup = self.helper(node.left)\n",
    "        rmax, rup = self.helper(node.right)\n",
    "        \n",
    "        max_sum = max(lmax, rmax, node.val + lup + rup)\n",
    "        up = max(lup + node.val, rup + node.val, 0)\n",
    "        \n",
    "        return max_sum, up\n",
    "        "
   ]
  },
  {
   "cell_type": "markdown",
   "metadata": {},
   "source": [
    "### Construct Binary Tree from Preorder and Inorder Traversal"
   ]
  },
  {
   "cell_type": "code",
   "execution_count": null,
   "metadata": {},
   "outputs": [],
   "source": [
    "class Solution:\n",
    "    def buildTree(self, preorder: List[int], inorder: List[int]) -> TreeNode:\n",
    "        \n",
    "        def helper(preorder, inorder):\n",
    "            if inorder:\n",
    "                ind = inorder.index(preorder.pop(0))\n",
    "                root = TreeNode(inorder[ind])\n",
    "                # 这里的pre不能传pre[1:]，因为这里面还有一次pop\n",
    "                root.left = helper(preorder, inorder[:ind])\n",
    "                root.right = helper(preorder, inorder[ind+1:])\n",
    "                return root\n",
    "        \n",
    "        return helper(preorder, inorder)"
   ]
  },
  {
   "cell_type": "markdown",
   "metadata": {},
   "source": [
    "### Sorted List to Binary Search Tree\n",
    "\n",
    "Given a singly linked list where elements are sorted in ascending order, convert it to a height balanced BST.\n",
    "\n",
    "For this problem, a height-balanced binary tree is defined as a binary tree in which the depth of the two subtrees of every node never differ by more than 1.\n",
    "\n",
    "```\n",
    "Given the sorted linked list: [-10,-3,0,5,9],\n",
    "\n",
    "One possible answer is: [0,-3,9,-10,null,5], which represents the following height balanced BST:\n",
    "\n",
    "      0\n",
    "     / \\\n",
    "   -3   9\n",
    "   /   /\n",
    " -10  5\n",
    " ```\n",
    " 高度平衡，所以将链表从中间分开，左边是左子树，右边是右子树。"
   ]
  },
  {
   "cell_type": "code",
   "execution_count": null,
   "metadata": {},
   "outputs": [],
   "source": [
    "def sortedListToBST(self, head: ListNode) -> TreeNode:\n",
    "    #O(nlogn)\n",
    "    def helper(node):\n",
    "        if not node:\n",
    "            return \n",
    "        if node.next == None:\n",
    "            return TreeNode(node.val)\n",
    "\n",
    "        dummy = ListNode(-1)\n",
    "        dummy.next = node\n",
    "        slow, fast = dummy, node\n",
    "        while fast and fast.next:\n",
    "            fast = fast.next.next\n",
    "            slow = slow.next\n",
    "\n",
    "        tmp = slow.next\n",
    "        slow.next = None\n",
    "        parent = TreeNode(tmp.val)\n",
    "        parent.left = helper(node)\n",
    "        parent.right = helper(tmp.next)\n",
    "\n",
    "        return parent\n",
    "\n",
    "    return helper(head)"
   ]
  },
  {
   "cell_type": "markdown",
   "metadata": {},
   "source": [
    "### Binary Tree Zigzag Level Order Traversal\n",
    "\n",
    "层级遍历取反序就好了。"
   ]
  },
  {
   "cell_type": "code",
   "execution_count": null,
   "metadata": {},
   "outputs": [],
   "source": [
    "from collections import deque\n",
    "class Solution:\n",
    "    def zigzagLevelOrder(self, root: TreeNode) -> List[List[int]]:\n",
    "        if not root:\n",
    "            return []\n",
    "        deck = deque()\n",
    "        deck.append(root)\n",
    "        res = [] \n",
    "        reverse = 0\n",
    "        while deck:\n",
    "            size = len(deck)\n",
    "            tmp = []\n",
    "            for i in range(size):\n",
    "                node = deck.popleft()\n",
    "                tmp.append(node.val)\n",
    "                if node.left:\n",
    "                    deck.append(node.left)\n",
    "                if node.right:\n",
    "                    deck.append(node.right)\n",
    "            res.append(tmp[::-1]) if reverse else res.append(tmp)\n",
    "            reverse = 1 - reverse\n",
    "        return res "
   ]
  },
  {
   "cell_type": "markdown",
   "metadata": {},
   "source": [
    "### Is Tree balanced"
   ]
  },
  {
   "cell_type": "code",
   "execution_count": null,
   "metadata": {},
   "outputs": [],
   "source": [
    "def isBalanced(self, root: TreeNode) -> bool:\n",
    "\n",
    "    def helper(node):#return (height, is_balanced)\n",
    "        if not node:\n",
    "            return (0, True)\n",
    "        l_depth, l_isbal = helper(node.left)\n",
    "        r_depth, r_isbal = helper(node.right)\n",
    "        return (max(l_depth, r_depth) + 1,\n",
    "                l_isbal and r_isbal and abs(l_depth-r_depth) <=1)\n",
    "\n",
    "    return helper(root)[1]"
   ]
  },
  {
   "cell_type": "markdown",
   "metadata": {},
   "source": [
    "## Graph"
   ]
  },
  {
   "cell_type": "markdown",
   "metadata": {},
   "source": [
    "### Alien Dictionary\n",
    "Input:\n",
    "[\n",
    "  \"wrt\",\n",
    "  \"wrf\",\n",
    "  \"er\",\n",
    "  \"ett\",\n",
    "  \"rftt\"\n",
    "]\n",
    "\n",
    "Output: \"wertf\""
   ]
  },
  {
   "cell_type": "code",
   "execution_count": null,
   "metadata": {},
   "outputs": [],
   "source": [
    "from heapq import heappush, heappop, heapify\n",
    "\n",
    "class Solution:\n",
    "    \"\"\"\n",
    "    @param words: a list of words\n",
    "    @return: a string which is correct order\n",
    "    \"\"\"\n",
    "    def alienOrder(self, words):\n",
    "        graph = self.build_graph(words)\n",
    "        return self.topological_sort(graph)\n",
    "        \n",
    "    def build_graph(self, words):\n",
    "        # key is node, value is neighbors\n",
    "        graph = {}\n",
    "\n",
    "        # initialize graph\n",
    "        for word in words:\n",
    "            for c in word:\n",
    "                if c not in graph:\n",
    "                    graph[c] = set() \n",
    "        #graph = {ch:set() for word in words for ch in word} \n",
    "        #notice the order of words\n",
    "        # add edges        \n",
    "        n = len(words)\n",
    "        for i in range(n - 1):\n",
    "            for j in range(min(len(words[i]), len(words[i + 1]))):\n",
    "                if words[i][j] != words[i + 1][j]:\n",
    "                    graph[words[i][j]].add(words[i + 1][j])\n",
    "                    break\n",
    "                \n",
    "        return graph\n",
    "\n",
    "    def topological_sort(self, graph):\n",
    "        # before looking into this part of code\n",
    "        # you should know how to use bfs algorithm to do topological sorting\n",
    "        \n",
    "        # initialize indegree \n",
    "        indegree = {\n",
    "            node: 0\n",
    "            for node in graph\n",
    "        }\n",
    "        \n",
    "        # calculate indegree\n",
    "        for node in graph:\n",
    "            for neighbor in graph[node]:\n",
    "                indegree[neighbor] = indegree[neighbor] + 1\n",
    "        \n",
    "        # use heapq instead of regular queue so that we can get the \n",
    "        # smallest lexicographical order\n",
    "        # regular bfs\n",
    "        que = [node for node in graph if indegree[node] == 0]\n",
    "        res = ''\n",
    "        while len(que) > 0:\n",
    "            curt = que.pop()\n",
    "            res += curt\n",
    "            for nb in graph[curt]:\n",
    "                indegree[nb] -= 1\n",
    "                if indegree[nb] == 0:\n",
    "                    que.append(nb)\n",
    "\n",
    "        return res if len(res) == len(graph) else \"\"\n",
    "        '''\n",
    "        queue = [node for node in graph if indegree[node] == 0]\n",
    "        heapify(queue)\n",
    "        \n",
    "        # heapify bfs algorithm to do topological sorting\n",
    "        topo_order = \"\"\n",
    "        while queue:\n",
    "            node = heappop(queue)\n",
    "            topo_order += node\n",
    "            for neighbor in graph[node]:\n",
    "                indegree[neighbor] -= 1\n",
    "                if indegree[neighbor] == 0:\n",
    "                    heappush(queue, neighbor)\n",
    "            \n",
    "        # if all nodes popped\n",
    "        return topo_order if len(topo_order) == len(graph) else \"\"\n",
    "        '''\n"
   ]
  },
  {
   "cell_type": "markdown",
   "metadata": {},
   "source": [
    "## Heap"
   ]
  },
  {
   "cell_type": "markdown",
   "metadata": {},
   "source": [
    "### TopK frequent words"
   ]
  },
  {
   "cell_type": "code",
   "execution_count": null,
   "metadata": {},
   "outputs": [],
   "source": [
    "from collections import Counter\n",
    "from heapq import heappop, heappush\n",
    "class wordFreq(object):\n",
    "    def __init__(self, word, freq):\n",
    "        self.word = word\n",
    "        self.freq = freq\n",
    "\n",
    "    def __eq__(self, other):\n",
    "        return self.freq == other.freq and self.word == other.word\n",
    "    \n",
    "    def __lt__(self, other):\n",
    "        return (self.freq, other.word) < (other.freq, self.word)\n",
    "    \n",
    "    \n",
    "class Solution:\n",
    "    \"\"\"\n",
    "    @param words: an array of string\n",
    "    @param k: An integer\n",
    "    @return: an array of string\n",
    "    \"\"\"\n",
    "\n",
    "    def topKFrequent(self, words, k):\n",
    "        if k == 0:\n",
    "            return []\n",
    "        count = Counter(words)\n",
    "        heap = []\n",
    "        for word, freq in count.items():\n",
    "            num = wordFreq(word, freq)\n",
    "            if len(heap) < k:\n",
    "                heappush(heap, num)\n",
    "            else:\n",
    "                if heap[0] < num:\n",
    "                    heappop(heap)\n",
    "                    heappush(heap, num)\n",
    "\n",
    "        ans = sorted(heap, reverse=True)\n",
    "        ans = [a.word for a in ans]\n",
    "        return ans"
   ]
  },
  {
   "cell_type": "markdown",
   "metadata": {},
   "source": [
    "### Smallest Range\n",
    "\n",
    "You have k lists of sorted integers in ascending order. Find the smallest range that includes at least one number from each of the k lists.\n",
    "\n",
    "We define the range [a,b] is smaller than range [c,d] if b-a < d-c or a < c if b-a == d-c.\n",
    "```\n",
    "Example 1:\n",
    "Input:[[4,10,15,24,26], [0,9,12,20], [5,18,22,30]]\n",
    "Output: [20,24]\n",
    "Explanation: \n",
    "List 1: [4, 10, 15, 24,26], 24 is in range [20,24].\n",
    "List 2: [0, 9, 12, 20], 20 is in range [20,24].\n",
    "List 3: [5, 18, 22, 30], 22 is in range [20,24].\n",
    "```"
   ]
  },
  {
   "cell_type": "code",
   "execution_count": null,
   "metadata": {},
   "outputs": [],
   "source": [
    "def smallestRange(self, A):\n",
    "    pq = [(row[0], i, 0) for i, row in enumerate(A)]\n",
    "    heapq.heapify(pq)\n",
    "    \n",
    "    ans = -1e9, 1e9\n",
    "    right = max(row[0] for row in A)\n",
    "    while pq:\n",
    "        left, i, j = heapq.heappop(pq)\n",
    "        if right - left < ans[1] - ans[0]:\n",
    "            ans = left, right\n",
    "        if j + 1 == len(A[i]):\n",
    "            return ans\n",
    "        v = A[i][j+1]\n",
    "        right = max(right, v)\n",
    "        heapq.heappush(pq, (v, i, j+1))"
   ]
  },
  {
   "cell_type": "code",
   "execution_count": null,
   "metadata": {},
   "outputs": [],
   "source": []
  },
  {
   "cell_type": "code",
   "execution_count": null,
   "metadata": {},
   "outputs": [],
   "source": []
  },
  {
   "cell_type": "code",
   "execution_count": null,
   "metadata": {},
   "outputs": [],
   "source": []
  },
  {
   "cell_type": "markdown",
   "metadata": {},
   "source": [
    "## Hashmap"
   ]
  },
  {
   "cell_type": "markdown",
   "metadata": {},
   "source": [
    "### Trie search"
   ]
  },
  {
   "cell_type": "code",
   "execution_count": null,
   "metadata": {},
   "outputs": [],
   "source": [
    "class WordDictionary:\n",
    "\n",
    "    def __init__(self):\n",
    "        self.trie = {}\n",
    "        \n",
    "    def addWord(self, word: str) -> None:\n",
    "        node = self.trie\n",
    "        for ch in word:\n",
    "            node = node.setdefault(ch, {})\n",
    "        node[None] = None      \n",
    "\n",
    "    def search(self, word: str) -> bool:\n",
    "        def find(word, node):\n",
    "            if not word:\n",
    "                return None in node\n",
    "            ch, word = word[0], word[1:]\n",
    "            if ch != '.':\n",
    "                return ch in node and find(word, node[ch])\n",
    "            return any(find(word, kid) for kid in node.values() if kid)\n",
    "        \n",
    "        return find(word, self.trie)\n"
   ]
  },
  {
   "cell_type": "markdown",
   "metadata": {},
   "source": [
    "## Martrix"
   ]
  },
  {
   "cell_type": "markdown",
   "metadata": {},
   "source": [
    "### Edit Distance \n",
    "```\n",
    "Input: word1 = \"horse\", word2 = \"ros\"\n",
    "Output: 3\n",
    "Explanation: \n",
    "horse -> rorse (replace 'h' with 'r')\n",
    "rorse -> rose (remove 'r')\n",
    "rose -> ros (remove 'e')\n",
    "```"
   ]
  },
  {
   "cell_type": "code",
   "execution_count": null,
   "metadata": {},
   "outputs": [],
   "source": [
    "def minDistance1(self, word1, word2):\n",
    "    l1, l2 = len(word1)+1, len(word2)+1\n",
    "    dp = [[0 for _ in range(l2)] for _ in range(l1)]\n",
    "    for i in range(l1):\n",
    "        dp[i][0] = i\n",
    "    for j in range(l2):\n",
    "        dp[0][j] = j\n",
    "    for i in range(1, l1):\n",
    "        for j in range(1, l2):\n",
    "            dp[i][j] = min(dp[i-1][j]+1, dp[i][j-1]+1, dp[i-1][j-1]+(word1[i-1]!=word2[j-1]))\n",
    "    return dp[-1][-1]"
   ]
  },
  {
   "cell_type": "markdown",
   "metadata": {},
   "source": [
    "### Robert Cleaner\n",
    "Given a robot cleaner in a room modeled as a grid.\n",
    "\n",
    "Each cell in the grid can be empty or blocked.\n",
    "\n",
    "The robot cleaner with 4 given APIs can move forward, turn left or turn right. Each turn it made is 90 degrees.\n",
    "\n",
    "When it tries to move into a blocked cell, its bumper sensor detects the obstacle and it stays on the current cell.\n",
    "\n",
    "Design an algorithm to clean the entire room using only the 4 given APIs shown below.\n",
    "```\n",
    "room = [\n",
    "  [1,1,1,1,1,0,1,1],\n",
    "  [1,1,1,1,1,0,1,1],\n",
    "  [1,0,1,1,1,1,1,1],\n",
    "  [0,0,0,1,0,0,0,0],\n",
    "  [1,1,1,1,1,1,1,1]\n",
    "],\n",
    "row = 1,\n",
    "col = 3\n",
    "```"
   ]
  },
  {
   "cell_type": "code",
   "execution_count": null,
   "metadata": {},
   "outputs": [],
   "source": [
    "class Solution(object):\n",
    "    def cleanRoom(self, robot):\n",
    "        self.dfs(robot, 0, 0, 0, 1, set())\n",
    "    \n",
    "    def dfs(self, robot, x, y, direction_x, direction_y, visited):\n",
    "        robot.clean()\n",
    "        visited.add((x, y))\n",
    "        \n",
    "        for k in range(4):\n",
    "            neighbor_x = x + direction_x\n",
    "            neighbor_y = y + direction_y\n",
    "            if (neighbor_x, neighbor_y) not in visited and robot.move():\n",
    "                self.dfs(robot, neighbor_x, neighbor_y, direction_x, direction_y, visited)\n",
    "                robot.turnLeft()\n",
    "                robot.turnLeft()\n",
    "                robot.move()\n",
    "                robot.turnLeft()\n",
    "                robot.turnLeft()\n",
    "            robot.turnLeft()\n",
    "            direction_x, direction_y = -direction_y, direction_x   "
   ]
  },
  {
   "cell_type": "markdown",
   "metadata": {},
   "source": [
    "# System Design"
   ]
  },
  {
   "cell_type": "markdown",
   "metadata": {},
   "source": [
    "### Design a Dropbox\n",
    "design a dropbox/file-sharing system "
   ]
  },
  {
   "cell_type": "markdown",
   "metadata": {},
   "source": [
    "### Desgin Instgram\n",
    "\n",
    "d2 设计怎么通过hashtag找posts，instgram为例。讲了通常分别式系统的设计，怎么build index，sharding之类的，这轮感觉还行\n"
   ]
  },
  {
   "cell_type": "markdown",
   "metadata": {},
   "source": [
    "### Desgin Crawler\n",
    "问一个黑客怎么利用几千台机器做个crawler，背景有点怪，直接设计crawler就好，非搞个故事出来。大概根据我对crawler的理解说了，包括DHT，DB设计，用task queue发布新的url，别的server来pull，还有一些估值什么的。\n"
   ]
  },
  {
   "cell_type": "markdown",
   "metadata": {},
   "source": [
    "### Design Splunk\n",
    "\n",
    "日志收集系统，类似splunk"
   ]
  },
  {
   "cell_type": "markdown",
   "metadata": {},
   "source": [
    "### Type lookahead"
   ]
  },
  {
   "cell_type": "markdown",
   "metadata": {},
   "source": [
    "### Uber\n",
    "sys design, given list of places, find all places within circular distances of requested point at x, y\n",
    "\n",
    "这题我回答的是geohash，但对方一直追究geohash角落问题，个人对location理解不深，大家good luck\n"
   ]
  },
  {
   "cell_type": "markdown",
   "metadata": {},
   "source": [
    "# Behavioral Question\n",
    "\n",
    "Focus on impact\n",
    "\n",
    "If we want to have the biggest impact, the best way to do this is to make sure we always focus on solving the most important problems. It sounds simple, but we think most companies do this poorly and waste a lot of time. We expect everyone at Facebook to be good at finding the biggest problems to work on.\n",
    "\n",
    "Move Fast\n",
    "\n",
    "Moving fast enables us to build more things and learn faster. However, as most companies grow, they slow down too much because they're more afraid of making mistakes than they are of losing opportunities by moving too slowly. We have a saying: 'Move fast and break things.' The idea is that if you never break anything, you're probably not moving fast enough.\n",
    "\n",
    "Be Bold\n",
    "\n",
    "Building great things means taking risks. This can be scary and prevents most companies from doing the bold things they should. However, in a world that's changing so quickly, you're guaranteed to fail if you don't take any risks. We have another saying: 'The riskiest thing is to take no risks.' We encourage everyone to make bold decisions, even if that means being wrong some of the time.\n",
    "\n",
    "Be Open\n",
    "\n",
    "We believe that a more open world is a better world because people with more information can make better decisions and have a greater impact. That goes for running our company as well. We work hard to make sure everyone at Facebook has access to as much information as possible about every part of the company so they can make the best decisions and have the greatest impact.\n",
    "\n",
    "Build Social Value\n",
    "\n",
    "Once again, Facebook exists to make the world more open and connected, and not just to build a company. We expect everyone at Facebook to focus every day on how to build real value for the world in everything they do."
   ]
  },
  {
   "cell_type": "markdown",
   "metadata": {},
   "source": [
    "聊天轮就是介绍自己做过的项目，contribution，怎么解决工作中的conflict等，最后一道双指针题，很简单。\n",
    "\n",
    "bq 为什么脸熟，如何解决不同意见等等"
   ]
  },
  {
   "cell_type": "markdown",
   "metadata": {},
   "source": [
    "### dive deep into most recent project \n",
    "### most intestering debug/bug \n",
    "### describe most favorite day in your current company\n",
    "### how to work across team \n",
    "### give me an example you push back \n",
    "### example you regret your design "
   ]
  },
  {
   "cell_type": "code",
   "execution_count": null,
   "metadata": {},
   "outputs": [],
   "source": []
  },
  {
   "cell_type": "code",
   "execution_count": null,
   "metadata": {},
   "outputs": [],
   "source": []
  },
  {
   "cell_type": "code",
   "execution_count": null,
   "metadata": {},
   "outputs": [],
   "source": []
  }
 ],
 "metadata": {
  "kernelspec": {
   "display_name": "py37",
   "language": "python",
   "name": "python3"
  },
  "language_info": {
   "codemirror_mode": {
    "name": "ipython",
    "version": 3
   },
   "file_extension": ".py",
   "mimetype": "text/x-python",
   "name": "python",
   "nbconvert_exporter": "python",
   "pygments_lexer": "ipython3",
   "version": "3.7.1"
  },
  "toc": {
   "base_numbering": 1,
   "nav_menu": {},
   "number_sections": true,
   "sideBar": true,
   "skip_h1_title": false,
   "title_cell": "Table of Contents",
   "title_sidebar": "Contents",
   "toc_cell": false,
   "toc_position": {
    "height": "669.714px",
    "left": "49px",
    "top": "171px",
    "width": "284.545px"
   },
   "toc_section_display": true,
   "toc_window_display": true
  }
 },
 "nbformat": 4,
 "nbformat_minor": 2
}
