{
 "cells": [
  {
   "cell_type": "markdown",
   "metadata": {},
   "source": [
    "### Verifying an Alien Dictionary\n",
    "```\n",
    "Example 1:\n",
    "\n",
    "Input: words = [\"hello\",\"leetcode\"], order = \"hlabcdefgijkmnopqrstuvwxyz\"\n",
    "Output: true\n",
    "Explanation: As 'h' comes before 'l' in this language, then the sequence is sorted.\n",
    "Example 2:\n",
    "\n",
    "Input: words = [\"word\",\"world\",\"row\"], order = \"worldabcefghijkmnpqstuvxyz\"\n",
    "Output: false\n",
    "Explanation: As 'd' comes after 'l' in this language, then words[0] > words[1], hence the sequence is unsorted.\n",
    "```"
   ]
  },
  {
   "cell_type": "code",
   "execution_count": 6,
   "metadata": {},
   "outputs": [
    {
     "data": {
      "text/plain": [
       "True"
      ]
     },
     "execution_count": 6,
     "metadata": {},
     "output_type": "execute_result"
    }
   ],
   "source": [
    "def isAlienSorted(self, words, order):\n",
    "    new_order = sorted(words, key=lambda word: [order.index(ch) for ch in word])\n",
    "    return new_order == words\n",
    "\n",
    "def isAlienSorted(self, words, order):\n",
    "    ind = {ch:i for i, ch in enumerate(order)}\n",
    "    for a, b in zip(words, words[1:]):\n",
    "        if len(a) > len(b) and a[:len(b)] == b:\n",
    "            return False\n",
    "        for c1, c2 in zip(a, b):\n",
    "            if ind[c1] < ind[c2]:\n",
    "                break\n",
    "            elif ind[c1] > ind[c2]:\n",
    "                return False\n",
    "        return True\n",
    "\n",
    "isAlienSorted('self', [\"hello\",\"leetcode\"], \"hlabcdefgijkmnopqrstuvwxyz\")"
   ]
  },
  {
   "cell_type": "markdown",
   "metadata": {},
   "source": [
    "### Trapping Rain Water\n",
    "Given n non-negative integers representing an elevation map where the width of each bar is 1, compute how much water it is able to trap after raining.\n",
    "```\n",
    "Input: [0,1,0,2,1,0,1,3,2,1,2,1]\n",
    "Output: 6\n",
    "```"
   ]
  },
  {
   "cell_type": "code",
   "execution_count": 8,
   "metadata": {},
   "outputs": [
    {
     "data": {
      "text/plain": [
       "6"
      ]
     },
     "execution_count": 8,
     "metadata": {},
     "output_type": "execute_result"
    }
   ],
   "source": [
    "def trap(self, heights):\n",
    "    if not heights:\n",
    "        return 0\n",
    "    rain = maxleft = maxright = 0\n",
    "    left, right = 0, len(heights) - 1 \n",
    "    while left < right:\n",
    "        if heights[left] < heights[right]:\n",
    "            maxleft = max(heights[left], maxleft)\n",
    "            rain += maxleft - heights[left]\n",
    "            left += 1\n",
    "        else:\n",
    "            maxright = max(heights[right], maxright)\n",
    "            rain += maxright - heights[right]\n",
    "            right -= 1\n",
    "    return rain\n",
    "trap('', [0,1,0,2,1,0,1,3,2,1,2,1])"
   ]
  },
  {
   "cell_type": "markdown",
   "metadata": {},
   "source": [
    "### Meeting rooms"
   ]
  },
  {
   "cell_type": "code",
   "execution_count": null,
   "metadata": {},
   "outputs": [],
   "source": [
    "def minMeetingRooms(self, intervals):\n",
    "    points = []\n",
    "    for start, end in intervals:\n",
    "        points.append((start, 1))\n",
    "        points.append((end, -1))\n",
    "    \n",
    "    points.sort()\n",
    "    \n",
    "    on_going = max_rooms = 0\n",
    "    for _, delta in points:\n",
    "        on_going += delta\n",
    "        max_rooms = max(max_rooms, on_going)\n",
    "    return max_rooms\n",
    "\n",
    "def minMeetingRooms(self, intervals):\n",
    "    intervals.sort()\n",
    "    heap = []  # stores the end time of intervals\n",
    "    for inv in intervals:\n",
    "        if heap and inv[0] >= heap[0]:#end a meeting\n",
    "            heapq.heappop(heap)\n",
    "        heapq.heappush(heap, inv[1])\n",
    "    return len(heap)"
   ]
  },
  {
   "cell_type": "markdown",
   "metadata": {},
   "source": [
    "### Intersection of Two Linked Lists\n",
    "```\n",
    "Input: intersectVal = 8, \n",
    "listA = [4,1,8,4,5], \n",
    "listB = [5,0,1,8,4,5], skipA = 2, skipB = 3\n",
    "Output: Reference of the node with value = 8\n",
    "```"
   ]
  },
  {
   "cell_type": "code",
   "execution_count": null,
   "metadata": {},
   "outputs": [],
   "source": [
    "def getIntersectionNode(self, headA, headB):\n",
    "    pa, pb = headA, headB\n",
    "    while pa != pb:\n",
    "        pa = pa.next if pa else headB\n",
    "        pb = pb.next if pb else headA\n",
    "    return pa \n",
    "# 要这么写，不能写成 if pa.next\n",
    "# 1->null, null 过不了"
   ]
  },
  {
   "cell_type": "markdown",
   "metadata": {},
   "source": [
    "### Intersection of Two Arrays\n",
    "nums1 = [1,2,2,1], nums2 = [2,2] -> [2]\n",
    "\n",
    "nums1 = [1,2,2,1], nums2 = [2,2] -> [2,2]\n",
    "\n",
    "follow up:\n",
    "\n",
    "1. nums2 is very large? solved originally\n",
    "2. nums1,2 are soted \n",
    "3. too large to fit in memory\n",
    "\n",
    "If only nums2 cannot fit in memory, put all elements of nums1 into a HashMap, read chunks of array that fit into the memory, and record the intersections.\n",
    "\n",
    "If both nums1 and nums2 are so huge that neither fit into the memory, sort them individually (external sort), then read 2 elements from each array at a time in memory, record intersections."
   ]
  },
  {
   "cell_type": "code",
   "execution_count": 9,
   "metadata": {},
   "outputs": [],
   "source": [
    "def intersection(self, nums1, nums2):\n",
    "    return list(set(nums1) & set(nums2))\n",
    "\n",
    "def intersection_large(nums1, nums2):\n",
    "    if len(nums1) > len(nums2):\n",
    "        return intersection_large(nums2, nums1)\n",
    "    \n",
    "    count1 = Counter(nums1)\n",
    "    res = []\n",
    "    for num in nums2:\n",
    "        if count1[num] > 0:\n",
    "            res.append(num)\n",
    "            count1[num] -= 1\n",
    "    return res\n",
    "\n",
    "def intersection_sort(nums1, nums2):\n",
    "    res = [] \n",
    "    i = j = 0\n",
    "    while i < len(nums1) and j < len(nums2):\n",
    "        if nums1[i] == nums2[j]:\n",
    "            res.append(nums1[i])\n",
    "            i += 1\n",
    "            j += 1\n",
    "        elif nums1[i] < nums2[j]:\n",
    "            i += 1\n",
    "        else:\n",
    "            j += 1\n",
    "    return res"
   ]
  },
  {
   "cell_type": "markdown",
   "metadata": {},
   "source": [
    "### Alien Dictionary\n",
    "Input:\n",
    "[\n",
    "  \"wrt\",\n",
    "  \"wrf\",\n",
    "  \"er\",\n",
    "  \"ett\",\n",
    "  \"rftt\"\n",
    "]\n",
    "\n",
    "Output: \"wertf\""
   ]
  },
  {
   "cell_type": "code",
   "execution_count": null,
   "metadata": {},
   "outputs": [],
   "source": [
    "from heapq import heappush, heappop, heapify\n",
    "\n",
    "class Solution:\n",
    "    \"\"\"\n",
    "    @param words: a list of words\n",
    "    @return: a string which is correct order\n",
    "    \"\"\"\n",
    "    def alienOrder(self, words):\n",
    "        graph = self.build_graph(words)\n",
    "        return self.topological_sort(graph)\n",
    "        \n",
    "    def build_graph(self, words):\n",
    "        # key is node, value is neighbors\n",
    "        graph = {}\n",
    "\n",
    "        # initialize graph\n",
    "        for word in words:\n",
    "            for c in word:\n",
    "                if c not in graph:\n",
    "                    graph[c] = set() \n",
    "        #graph = {ch:set() for word in words for ch in word} \n",
    "        #notice the order of words\n",
    "        # add edges        \n",
    "        n = len(words)\n",
    "        for i in range(n - 1):\n",
    "            for j in range(min(len(words[i]), len(words[i + 1]))):\n",
    "                if words[i][j] != words[i + 1][j]:\n",
    "                    graph[words[i][j]].add(words[i + 1][j])\n",
    "                    break\n",
    "                \n",
    "        return graph\n",
    "\n",
    "    def topological_sort(self, graph):\n",
    "        # before looking into this part of code\n",
    "        # you should know how to use bfs algorithm to do topological sorting\n",
    "        \n",
    "        # initialize indegree \n",
    "        indegree = {\n",
    "            node: 0\n",
    "            for node in graph\n",
    "        }\n",
    "        \n",
    "        # calculate indegree\n",
    "        for node in graph:\n",
    "            for neighbor in graph[node]:\n",
    "                indegree[neighbor] = indegree[neighbor] + 1\n",
    "        \n",
    "        # use heapq instead of regular queue so that we can get the \n",
    "        # smallest lexicographical order\n",
    "        # regular bfs\n",
    "        que = [node for node in graph if indegree[node] == 0]\n",
    "        res = ''\n",
    "        while len(que) > 0:\n",
    "            curt = que.pop()\n",
    "            res += curt\n",
    "            for nb in graph[curt]:\n",
    "                indegree[nb] -= 1\n",
    "                if indegree[nb] == 0:\n",
    "                    que.append(nb)\n",
    "\n",
    "        return res if len(res) == len(graph) else \"\"\n",
    "        '''\n",
    "        queue = [node for node in graph if indegree[node] == 0]\n",
    "        heapify(queue)\n",
    "        \n",
    "        # heapify bfs algorithm to do topological sorting\n",
    "        topo_order = \"\"\n",
    "        while queue:\n",
    "            node = heappop(queue)\n",
    "            topo_order += node\n",
    "            for neighbor in graph[node]:\n",
    "                indegree[neighbor] -= 1\n",
    "                if indegree[neighbor] == 0:\n",
    "                    heappush(queue, neighbor)\n",
    "            \n",
    "        # if all nodes popped\n",
    "        return topo_order if len(topo_order) == len(graph) else \"\"\n",
    "        '''\n"
   ]
  },
  {
   "cell_type": "markdown",
   "metadata": {},
   "source": [
    "### Roman to Interger "
   ]
  },
  {
   "cell_type": "code",
   "execution_count": 6,
   "metadata": {},
   "outputs": [],
   "source": [
    "def romanToInt(self, s: str) -> int:\n",
    "    ROI = {'I':1,\n",
    "           'V':5,\n",
    "           'X':10,\n",
    "           'L':50,\n",
    "           'C':100,\n",
    "           'D':500,\n",
    "           'M':1000}\n",
    "\n",
    "    index = len(s) - 2 \n",
    "    rum = ROI[s[-1]]\n",
    "    while index >= 0:\n",
    "        ch1, ch2 = s[index], s[index+1]\n",
    "        if ROI[ch1] < ROI[ch2]:\n",
    "            rum -= ROI[ch1]\n",
    "        else:\n",
    "            rum += ROI[ch1]\n",
    "        index -= 1\n",
    "    return rum"
   ]
  },
  {
   "cell_type": "markdown",
   "metadata": {},
   "source": [
    "### Find Anagram"
   ]
  },
  {
   "cell_type": "code",
   "execution_count": null,
   "metadata": {},
   "outputs": [],
   "source": [
    "def findAnagrams(self, s, p):\n",
    "    res = []\n",
    "    n, m = len(s), len(p)\n",
    "    if n < m: return res\n",
    "    phash = [0]*26\n",
    "    shash = [0]*26\n",
    "    base = ord('a')\n",
    "    for x in p:\n",
    "        phash[ord(x)-base] += 1\n",
    "    for x in s[:m]:\n",
    "        shash[ord(x)-base] += 1\n",
    "    if shash == phash:\n",
    "        res.append(0)\n",
    "    for i in range(m, n):\n",
    "        shash[ord(s[i-m])-base] -= 1\n",
    "        shash[ord(s[i])-base] += 1\n",
    "        if shash == phash:\n",
    "            res.append(i-m+1)          \n",
    "    return res"
   ]
  },
  {
   "cell_type": "markdown",
   "metadata": {},
   "source": [
    "### Intersection of Intervals"
   ]
  },
  {
   "cell_type": "code",
   "execution_count": 8,
   "metadata": {},
   "outputs": [],
   "source": [
    "def intervalIntersection(self, A: 'List[Interval]', B: 'List[Interval]') -> 'List[Interval]':\n",
    "    res = []\n",
    "    i = j = 0\n",
    "    while i < len(A) and j < len(B):\n",
    "        if A[i][0] <= B[j][1] and B[j][0] <= A[i][1]:#crossed\n",
    "            res.append([max(A[i][0], B[j][0]), # large start\n",
    "                        min(A[i][1], B[j][1])])# small end\n",
    "        if A[i][1] < B[j][1]:\n",
    "            i+=1\n",
    "        else:    \n",
    "            j+=1\n",
    "    return res \n"
   ]
  },
  {
   "cell_type": "markdown",
   "metadata": {},
   "source": [
    "### Maxium path sum "
   ]
  },
  {
   "cell_type": "code",
   "execution_count": null,
   "metadata": {},
   "outputs": [],
   "source": [
    "class Solution:\n",
    "    def maxPathSum(self, root: TreeNode) -> int:\n",
    "        max_sum, cur_sum = self.helper(root)\n",
    "        return max_sum\n",
    "    \n",
    "    def helper(self, node):\n",
    "        if node is None:\n",
    "            return -maxsize, 0\n",
    "        \n",
    "        lmax, lup = self.helper(node.left)\n",
    "        rmax, rup = self.helper(node.right)\n",
    "        \n",
    "        max_sum = max(lmax, rmax, node.val + lup + rup)\n",
    "        up = max(lup + node.val, rup + node.val, 0)\n",
    "        \n",
    "        return max_sum, up\n",
    "        "
   ]
  },
  {
   "cell_type": "markdown",
   "metadata": {},
   "source": [
    "### String Decode\n",
    "s = \"3[a]2[bc]\", return \"aaabcbc\"."
   ]
  },
  {
   "cell_type": "code",
   "execution_count": null,
   "metadata": {},
   "outputs": [],
   "source": [
    "class Solution:\n",
    "    def decodeString(self, s: str) -> str:\n",
    "        stack = [] \n",
    "        stack.append(['', 1])\n",
    "        num = ''\n",
    "        for ch in s:\n",
    "            if ch.isdigit():\n",
    "                num += ch\n",
    "            elif ch == '[':\n",
    "                stack.append(['', int(num)])\n",
    "                num = ''\n",
    "            elif ch == ']':\n",
    "                st, k = stack.pop()\n",
    "                stack[-1][0] += st * k\n",
    "            else:\n",
    "                stack[-1][0] += ch\n",
    "        \n",
    "        return stack[0][0]\n",
    "                \n",
    "        "
   ]
  },
  {
   "cell_type": "markdown",
   "metadata": {},
   "source": [
    "### Decode Ways\n",
    "Input: \"12\"\n",
    "Output: 2\n",
    "Explanation: It could be decoded as \"AB\" (1 2) or \"L\" (12)."
   ]
  },
  {
   "cell_type": "code",
   "execution_count": null,
   "metadata": {},
   "outputs": [],
   "source": [
    "def numDecodings(self, s: str) -> int:\n",
    "    if not s:\n",
    "        return 0 \n",
    "    n = len(s)\n",
    "\n",
    "    dp = [0] * (n+1)\n",
    "    dp[0] = 1\n",
    "    dp[1] = 1 if int(s[0]) else 0 \n",
    "\n",
    "    for i in range(2, n+1):\n",
    "        if s[i-1:i] != '0':\n",
    "            dp[i] += dp[i-1]\n",
    "        if s[i-2:i][0] != '0' and int(s[i-2:i]) <= 26:\n",
    "            dp[i] += dp[i-2]\n",
    "\n",
    "    return dp[-1]"
   ]
  },
  {
   "cell_type": "markdown",
   "metadata": {},
   "source": [
    "### Flatten Binary Tree to Linked List"
   ]
  },
  {
   "cell_type": "code",
   "execution_count": null,
   "metadata": {},
   "outputs": [],
   "source": [
    "def flatten(self, root):\n",
    "    last=TreeNode(-1)\n",
    "    qstack=[root]\n",
    "    while qstack:\n",
    "        node=qstack.pop()\n",
    "        last.right=node\n",
    "        last.left=None\n",
    "        if node and node.right:\n",
    "            qstack.append(node.right)\n",
    "        if node and node.left:\n",
    "            qstack.append(node.left)\n",
    "        last=node"
   ]
  },
  {
   "cell_type": "markdown",
   "metadata": {},
   "source": [
    "### Maximum Sum of 3 Non-Overlapping Subarrays"
   ]
  },
  {
   "cell_type": "code",
   "execution_count": null,
   "metadata": {},
   "outputs": [],
   "source": []
  },
  {
   "cell_type": "code",
   "execution_count": null,
   "metadata": {},
   "outputs": [],
   "source": []
  },
  {
   "cell_type": "code",
   "execution_count": null,
   "metadata": {},
   "outputs": [],
   "source": []
  },
  {
   "cell_type": "code",
   "execution_count": null,
   "metadata": {},
   "outputs": [],
   "source": []
  },
  {
   "cell_type": "code",
   "execution_count": null,
   "metadata": {},
   "outputs": [],
   "source": []
  },
  {
   "cell_type": "code",
   "execution_count": null,
   "metadata": {},
   "outputs": [],
   "source": []
  },
  {
   "cell_type": "code",
   "execution_count": null,
   "metadata": {},
   "outputs": [],
   "source": []
  },
  {
   "cell_type": "code",
   "execution_count": null,
   "metadata": {},
   "outputs": [],
   "source": []
  },
  {
   "cell_type": "code",
   "execution_count": null,
   "metadata": {},
   "outputs": [],
   "source": []
  },
  {
   "cell_type": "code",
   "execution_count": null,
   "metadata": {},
   "outputs": [],
   "source": []
  },
  {
   "cell_type": "markdown",
   "metadata": {},
   "source": [
    "### Design a Dropbox\n",
    "design a dropbox/file-sharing system "
   ]
  },
  {
   "cell_type": "markdown",
   "metadata": {},
   "source": [
    "### Desgin Instgram\n",
    "\n",
    "d2 设计怎么通过hashtag找posts，instgram为例。讲了通常分别式系统的设计，怎么build index，sharding之类的，这轮感觉还行\n"
   ]
  },
  {
   "cell_type": "markdown",
   "metadata": {},
   "source": [
    "### Desgin Crawler\n",
    "问一个黑客怎么利用几千台机器做个crawler，背景有点怪，直接设计crawler就好，非搞个故事出来。大概根据我对crawler的理解说了，包括DHT，DB设计，用task queue发布新的url，别的server来pull，还有一些估值什么的。\n"
   ]
  },
  {
   "cell_type": "markdown",
   "metadata": {},
   "source": [
    "### Design Splunk\n",
    "\n",
    "日志收集系统，类似splunk"
   ]
  },
  {
   "cell_type": "markdown",
   "metadata": {},
   "source": [
    "## BQ\n",
    "\n",
    "Focus on impact\n",
    "\n",
    "If we want to have the biggest impact, the best way to do this is to make sure we always focus on solving the most important problems. It sounds simple, but we think most companies do this poorly and waste a lot of time. We expect everyone at Facebook to be good at finding the biggest problems to work on.\n",
    "\n",
    "Move Fast\n",
    "\n",
    "Moving fast enables us to build more things and learn faster. However, as most companies grow, they slow down too much because they're more afraid of making mistakes than they are of losing opportunities by moving too slowly. We have a saying: 'Move fast and break things.' The idea is that if you never break anything, you're probably not moving fast enough.\n",
    "\n",
    "Be Bold\n",
    "\n",
    "Building great things means taking risks. This can be scary and prevents most companies from doing the bold things they should. However, in a world that's changing so quickly, you're guaranteed to fail if you don't take any risks. We have another saying: 'The riskiest thing is to take no risks.' We encourage everyone to make bold decisions, even if that means being wrong some of the time.\n",
    "\n",
    "Be Open\n",
    "\n",
    "We believe that a more open world is a better world because people with more information can make better decisions and have a greater impact. That goes for running our company as well. We work hard to make sure everyone at Facebook has access to as much information as possible about every part of the company so they can make the best decisions and have the greatest impact.\n",
    "\n",
    "Build Social Value\n",
    "\n",
    "Once again, Facebook exists to make the world more open and connected, and not just to build a company. We expect everyone at Facebook to focus every day on how to build real value for the world in everything they do."
   ]
  },
  {
   "cell_type": "markdown",
   "metadata": {},
   "source": [
    "聊天轮就是介绍自己做过的项目，contribution，怎么解决工作中的conflict等，最后一道双指针题，很简单。\n",
    "\n",
    "bq 为什么脸熟，如何解决不同意见等等"
   ]
  },
  {
   "cell_type": "code",
   "execution_count": null,
   "metadata": {},
   "outputs": [],
   "source": []
  },
  {
   "cell_type": "code",
   "execution_count": null,
   "metadata": {},
   "outputs": [],
   "source": []
  },
  {
   "cell_type": "code",
   "execution_count": null,
   "metadata": {},
   "outputs": [],
   "source": []
  },
  {
   "cell_type": "code",
   "execution_count": null,
   "metadata": {},
   "outputs": [],
   "source": []
  }
 ],
 "metadata": {
  "kernelspec": {
   "display_name": "py37",
   "language": "python",
   "name": "python3"
  },
  "language_info": {
   "codemirror_mode": {
    "name": "ipython",
    "version": 3
   },
   "file_extension": ".py",
   "mimetype": "text/x-python",
   "name": "python",
   "nbconvert_exporter": "python",
   "pygments_lexer": "ipython3",
   "version": "3.7.1"
  }
 },
 "nbformat": 4,
 "nbformat_minor": 2
}
