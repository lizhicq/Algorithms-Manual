{
 "cells": [
  {
   "cell_type": "code",
   "execution_count": null,
   "metadata": {},
   "outputs": [],
   "source": [
    "class Solution(object):\n",
    "    def numberToWords(self, num):\n",
    "        \"\"\"\n",
    "        :type num: int\n",
    "        :rtype: strx\n",
    "        \"\"\"\n",
    "\n",
    "        n2w = {1e9: \"Billion\", 1e6: \"Million\", 1e3: \"Thousand\", 1e2: \"Hundred\",\n",
    "               90:  \"Ninety\", 80:  \"Eighty\", 70:  \"Seventy\",\n",
    "               60:  \"Sixty\", 50:  \"Fifty\", 40:  \"Forty\",\n",
    "               30:  \"Thirty\", 20:  \"Twenty\", 19: \"Nineteen\",\n",
    "               18:  \"Eighteen\", 17: \"Seventeen\", 16: \"Sixteen\",\n",
    "               15:  \"Fifteen\", 14: \"Fourteen\", 13: \"Thirteen\",\n",
    "               12:  \"Twelve\", 11:  \"Eleven\", 10:  \"Ten\",\n",
    "               9:   \"Nine\", 8:   \"Eight\", 7:   \"Seven\",\n",
    "               6:   \"Six\", 5:   \"Five\", 4: \"Four\", 3: \"Three\",\n",
    "               2: \"Two\", 1: \"One\", 0: \"Zero\"}\n",
    "\n",
    "        keys = [1000000000, 1000000, 1000, 100, 90, 80, 70,\n",
    "               60, 50, 40, 30, 20, 19, 18, 17, 16, 15, 14, 13, 12,\n",
    "               11, 10, 9, 8, 7, 6, 5, 4, 3, 2, 1, 0]\n",
    "\n",
    "        def dp(n):\n",
    "            if n <= 20: return n2w[n]\n",
    "            for div in keys:\n",
    "                d, r = divmod(n, div)\n",
    "                if not d: continue\n",
    "                s1 = dp(d) + \" \" if div >= 100 else \"\"\n",
    "                s2 = \" \" + dp(r) if r else \"\"\n",
    "                return s1 + n2w[div] + s2\n",
    "\n",
    "        return dp(num)"
   ]
  },
  {
   "cell_type": "code",
   "execution_count": null,
   "metadata": {},
   "outputs": [],
   "source": [
    "class Solution:\n",
    "    def removeInvalidParentheses(self, s: str):\n",
    "        if len(s) == 0:\n",
    "            return [\"\"]\n",
    "        ans = []\n",
    "        \n",
    "        def dfs(tmp, last_i, last_j, par):\n",
    "            count = 0 \n",
    "            for i in range(last_i, len(tmp)):\n",
    "                if tmp[i] == par[0]: count += 1\n",
    "                if tmp[i] == par[1]: count -= 1\n",
    "                if count >= 0:\n",
    "                    continue\n",
    "                for j in range(last_j, i+1):\n",
    "                    if(tmp[j] == par[1]) and (j == last_j or tmp[j-1] != par[1]):\n",
    "                        # count < 0, means ()) like str was constructed, \n",
    "                        #need to remove one, then which one?\n",
    "                        # any one from last_j is fine\n",
    "                        dfs(tmp[:j] + tmp[j+1:], i, j, par)\n",
    "                return\n",
    "            \n",
    "            reverse = tmp[::-1]\n",
    "            \n",
    "            if par[0] == '(':\n",
    "                dfs(reverse, 0, 0, [')', '('])\n",
    "            else:\n",
    "                ans.append(reverse)\n",
    "        \n",
    "        dfs(s, 0, 0, ['(', ')'])\n",
    "        \n",
    "        return ans \n",
    "        "
   ]
  },
  {
   "cell_type": "code",
   "execution_count": null,
   "metadata": {},
   "outputs": [],
   "source": [
    "def addBinary3(self, a, b):\n",
    "    res = ''\n",
    "    index = 0 \n",
    "    carry = '0'\n",
    "\n",
    "    while index < max(len(a), len(b)) or carry == '1':\n",
    "        num_a = a[-1-index] if index < len(a) else '0'\n",
    "        num_b = b[-1-index] if index < len(b) else '0'\n",
    "        val = int(num_a) + int(num_b) + int(carry)\n",
    "        res = str(val%2) + res\n",
    "        carry = '1' if val > 1 else '0'\n",
    "        index += 1 \n",
    "\n",
    "    return res "
   ]
  },
  {
   "cell_type": "code",
   "execution_count": null,
   "metadata": {},
   "outputs": [],
   "source": [
    "# Definition for a binary tree node.\n",
    "# class TreeNode(object):\n",
    "#     def __init__(self, x):\n",
    "#         self.val = x\n",
    "#         self.left = None\n",
    "#         self.right = None\n",
    "\n",
    "\n",
    "from collections import deque\n",
    "class Codec:\n",
    "\n",
    "    def serialize(self, root):\n",
    "        if root == None:\n",
    "            return '[]'\n",
    "        deck = deque()\n",
    "        deck.append(root)\n",
    "        ser = []\n",
    "        while deck:\n",
    "            node = deck.popleft()\n",
    "            if node:\n",
    "                ser.append(str(node.val))\n",
    "                deck.append(node.left)\n",
    "                deck.append(node.right)\n",
    "            else:\n",
    "                ser.append('null')\n",
    "        while ser[-1] == 'null':\n",
    "            ser.pop(-1)\n",
    "            \n",
    "        ser = ','.join(ser)\n",
    "        return '[' + ser + ']'                \n",
    "\n",
    "    def deserialize(self, data):\n",
    "        if data == '[]':\n",
    "            return None\n",
    "        data = data[1:-1].split(',')\n",
    "        root = TreeNode(int(data[0]))\n",
    "        que = [root]\n",
    "        index = 0\n",
    "        is_left = 1 \n",
    "        for i in range(1, len(data)):\n",
    "            if data[i] != 'null':\n",
    "                node = TreeNode(int(data[i]))\n",
    "                que.append(node)\n",
    "                if is_left:\n",
    "                    que[index].left = node\n",
    "                else:\n",
    "                    que[index].right = node\n",
    "        \n",
    "            if not is_left:\n",
    "                index += 1\n",
    "            is_left = 1 - is_left\n",
    "        \n",
    "        return root\n",
    "        \n",
    "\n",
    "# Your Codec object will be instantiated and called as such:\n",
    "# codec = Codec()\n",
    "# codec.deserialize(codec.serialize(root))"
   ]
  },
  {
   "cell_type": "code",
   "execution_count": null,
   "metadata": {},
   "outputs": [],
   "source": [
    "class Solution:\n",
    "    def subarraySum(self, A, K):\n",
    "        count = collections.defaultdict(int)\n",
    "        count[0] = 1\n",
    "        su = ans = 0\n",
    "        for a in A:\n",
    "            su += a\n",
    "            ans += count[su-K]\n",
    "            count[su] += 1\n",
    "        \n",
    "        return ans"
   ]
  },
  {
   "cell_type": "code",
   "execution_count": null,
   "metadata": {},
   "outputs": [],
   "source": [
    "import heapq\n",
    "\n",
    "class Solution:\n",
    "    def kClosest(self, points: List[List[int]], K: int) -> List[List[int]]:\n",
    "        \n",
    "        heap = []\n",
    "        \n",
    "        for (x, y) in points:\n",
    "            dist = -(x*x + y*y)\n",
    "            if len(heap) == K:\n",
    "                heapq.heappushpop(heap, (dist, x, y))\n",
    "            else:\n",
    "                heapq.heappush(heap, (dist, x, y))\n",
    "        \n",
    "        return [(x,y) for (dist,x, y) in heap]"
   ]
  },
  {
   "cell_type": "code",
   "execution_count": null,
   "metadata": {},
   "outputs": [],
   "source": [
    "def leastInterval(self, tasks, N):\n",
    "    task_counts = collections.Counter(tasks).values()\n",
    "    M = max(task_counts)\n",
    "    Mct = task_counts.count(M)\n",
    "    return max(len(tasks), (M - 1) * (N + 1) + Mct)\n",
    "\n",
    "from heapq import heappush, heappop\n",
    "from collections import Counter\n",
    "class Solution:\n",
    "    def leastInterval(self, tasks, n):\n",
    "        curr_time, h = 0, []\n",
    "        for k,v in Counter(tasks).items():\n",
    "            heappush(h, (-1*v, k))\n",
    "        while h:\n",
    "            i, temp = 0, []\n",
    "            while i <= n:\n",
    "                curr_time += 1\n",
    "                if h:\n",
    "                    x,y = heappop(h)\n",
    "                    if x != -1:\n",
    "                        temp.append((x+1,y))\n",
    "                if not h and not temp:\n",
    "                    break\n",
    "                else:\n",
    "                    i += 1\n",
    "            for item in temp:\n",
    "                heappush(h, item)\n",
    "        return curr_time"
   ]
  },
  {
   "cell_type": "code",
   "execution_count": null,
   "metadata": {},
   "outputs": [],
   "source": [
    "def maxProfit1(self, prices):\n",
    "    profit = 0\n",
    "    low = maxint\n",
    "    for price in prices:\n",
    "        profit = max(profit, price-profit)\n",
    "        low = min(low, price)\n",
    "    return profit\n",
    "\n",
    "def maxProfit2(self, prices):\n",
    "    profit = 0\n",
    "    for i in range(len(prices)-1):\n",
    "        profit += max(prices[i+1]-prices[i], 0)\n",
    "    return profit\n",
    "\n",
    "def maxProfit3(self, prices):\n",
    "    profit = []\n",
    "    for i in range(len(prices)-1):\n",
    "        profit.append(prices[i+1] - prices[i])\n",
    "\n",
    "    return max(self.maxTwoSubArrays(profit), 0)\n",
    "\n",
    "def maxProfit4(self, k, prices):\n",
    "    profits = []\n",
    "    count_postive = 0\n",
    "    cum = 0\n",
    "    for i in range(len(prices) - 1):\n",
    "        profit = prices[i + 1] - prices[i]\n",
    "        profits.append(prices[i + 1] - prices[i])\n",
    "        if profit > 0:\n",
    "            count_postive += 1\n",
    "            cum += profit\n",
    "\n",
    "    if len(profits) <= k or count_postive <= k:\n",
    "        return cum\n",
    "\n",
    "    return max(self.maxSubArray(profits, k), 0)\n",
    "\n",
    "def maxTwoSubArrays(self, nums):\n",
    "    if len(nums) == 1:\n",
    "        return nums[0]\n",
    "    # at least there should be 2 elements in nums\n",
    "    # If you need to add/remove at both ends, consider using a collections.deque instead.\n",
    "    left_max = [0 for i in range(len(nums))]\n",
    "    max_sum = cur_sum = left_max[0] = nums[0]\n",
    "\n",
    "    for i in range(1, len(nums) - 1):\n",
    "        cur_sum = max(cur_sum + nums[i], nums[i])\n",
    "        max_sum = max(max_sum, cur_sum)\n",
    "        left_max[i] = max_sum\n",
    "\n",
    "    right_max = [0 for i in range(len(nums))]\n",
    "    max_sum = cur_sum = right_max[-1] = nums[-1]\n",
    "\n",
    "    for i in range(len(nums) - 2, 0, -1):\n",
    "        cur_sum = max(cur_sum + nums[i], nums[i])\n",
    "        max_sum = max(max_sum, cur_sum)\n",
    "        right_max[i] = max_sum\n",
    "\n",
    "    max_sum = - maxint\n",
    "    for i in range(0, len(nums) - 1):\n",
    "        max_sum = max(max_sum, left_max[i] + right_max[i + 1])\n",
    "\n",
    "    return max_sum\n",
    "\n",
    "def maxSubArray(self, nums, k):\n",
    "    f = [[[-maxint for t in range(2)]\n",
    "          for j in range(k + 1)]\n",
    "         for i in range(len(nums) + 1)]\n",
    "    for i in range(1, len(nums) + 1):\n",
    "        f[i][0][0] = 0\n",
    "    for j in range(1, k + 1):\n",
    "        f[j][j][1] = sum(nums[:j])\n",
    "        for i in range(j + 1, len(nums) + 1):\n",
    "            f[i][j][0] = max(f[i - 1][j][0], f[i - 1][j][1])\n",
    "            f[i][j][1] = max(f[i - 1][j][1], f[i - 1][j - 1][0],\n",
    "                             f[i - 1][j - 1][1]) + nums[i - 1]\n",
    "\n",
    "    return max(f[-1][-1])\n"
   ]
  },
  {
   "cell_type": "code",
   "execution_count": null,
   "metadata": {},
   "outputs": [],
   "source": []
  },
  {
   "cell_type": "code",
   "execution_count": null,
   "metadata": {},
   "outputs": [],
   "source": []
  },
  {
   "cell_type": "code",
   "execution_count": null,
   "metadata": {},
   "outputs": [],
   "source": []
  },
  {
   "cell_type": "code",
   "execution_count": null,
   "metadata": {},
   "outputs": [],
   "source": []
  },
  {
   "cell_type": "code",
   "execution_count": null,
   "metadata": {},
   "outputs": [],
   "source": []
  },
  {
   "cell_type": "code",
   "execution_count": null,
   "metadata": {},
   "outputs": [],
   "source": []
  },
  {
   "cell_type": "code",
   "execution_count": null,
   "metadata": {},
   "outputs": [],
   "source": []
  },
  {
   "cell_type": "code",
   "execution_count": null,
   "metadata": {},
   "outputs": [],
   "source": []
  },
  {
   "cell_type": "code",
   "execution_count": null,
   "metadata": {},
   "outputs": [],
   "source": []
  },
  {
   "cell_type": "code",
   "execution_count": null,
   "metadata": {},
   "outputs": [],
   "source": []
  },
  {
   "cell_type": "code",
   "execution_count": null,
   "metadata": {},
   "outputs": [],
   "source": []
  },
  {
   "cell_type": "code",
   "execution_count": null,
   "metadata": {},
   "outputs": [],
   "source": []
  },
  {
   "cell_type": "code",
   "execution_count": null,
   "metadata": {},
   "outputs": [],
   "source": []
  },
  {
   "cell_type": "code",
   "execution_count": null,
   "metadata": {},
   "outputs": [],
   "source": []
  },
  {
   "cell_type": "code",
   "execution_count": null,
   "metadata": {},
   "outputs": [],
   "source": []
  },
  {
   "cell_type": "code",
   "execution_count": null,
   "metadata": {},
   "outputs": [],
   "source": []
  },
  {
   "cell_type": "code",
   "execution_count": null,
   "metadata": {},
   "outputs": [],
   "source": []
  },
  {
   "cell_type": "code",
   "execution_count": null,
   "metadata": {},
   "outputs": [],
   "source": []
  },
  {
   "cell_type": "code",
   "execution_count": null,
   "metadata": {},
   "outputs": [],
   "source": []
  },
  {
   "cell_type": "code",
   "execution_count": null,
   "metadata": {},
   "outputs": [],
   "source": []
  },
  {
   "cell_type": "code",
   "execution_count": null,
   "metadata": {},
   "outputs": [],
   "source": []
  },
  {
   "cell_type": "code",
   "execution_count": null,
   "metadata": {},
   "outputs": [],
   "source": []
  },
  {
   "cell_type": "code",
   "execution_count": null,
   "metadata": {},
   "outputs": [],
   "source": []
  },
  {
   "cell_type": "code",
   "execution_count": null,
   "metadata": {},
   "outputs": [],
   "source": []
  },
  {
   "cell_type": "code",
   "execution_count": null,
   "metadata": {},
   "outputs": [],
   "source": []
  },
  {
   "cell_type": "code",
   "execution_count": null,
   "metadata": {},
   "outputs": [],
   "source": []
  },
  {
   "cell_type": "code",
   "execution_count": null,
   "metadata": {},
   "outputs": [],
   "source": []
  },
  {
   "cell_type": "code",
   "execution_count": null,
   "metadata": {},
   "outputs": [],
   "source": []
  },
  {
   "cell_type": "code",
   "execution_count": null,
   "metadata": {},
   "outputs": [],
   "source": []
  },
  {
   "cell_type": "markdown",
   "metadata": {},
   "source": [
    "### Verifying an Alien Dictionary\n",
    "```\n",
    "Example 1:\n",
    "\n",
    "Input: words = [\"hello\",\"leetcode\"], order = \"hlabcdefgijkmnopqrstuvwxyz\"\n",
    "Output: true\n",
    "Explanation: As 'h' comes before 'l' in this language, then the sequence is sorted.\n",
    "Example 2:\n",
    "\n",
    "Input: words = [\"word\",\"world\",\"row\"], order = \"worldabcefghijkmnpqstuvxyz\"\n",
    "Output: false\n",
    "Explanation: As 'd' comes after 'l' in this language, then words[0] > words[1], hence the sequence is unsorted.\n",
    "```"
   ]
  },
  {
   "cell_type": "code",
   "execution_count": 6,
   "metadata": {},
   "outputs": [
    {
     "data": {
      "text/plain": [
       "True"
      ]
     },
     "execution_count": 6,
     "metadata": {},
     "output_type": "execute_result"
    }
   ],
   "source": [
    "def isAlienSorted(self, words, order):\n",
    "    new_order = sorted(words, key=lambda word: [order.index(ch) for ch in word])\n",
    "    return new_order == words\n",
    "\n",
    "def isAlienSorted(self, words, order):\n",
    "    ind = {ch:i for i, ch in enumerate(order)}\n",
    "    for a, b in zip(words, words[1:]):\n",
    "        if len(a) > len(b) and a[:len(b)] == b:\n",
    "            return False\n",
    "        for c1, c2 in zip(a, b):\n",
    "            if ind[c1] < ind[c2]:\n",
    "                break\n",
    "            elif ind[c1] > ind[c2]:\n",
    "                return False\n",
    "        return True\n",
    "\n",
    "isAlienSorted('self', [\"hello\",\"leetcode\"], \"hlabcdefgijkmnopqrstuvwxyz\")"
   ]
  },
  {
   "cell_type": "markdown",
   "metadata": {},
   "source": [
    "### Trapping Rain Water\n",
    "Given n non-negative integers representing an elevation map where the width of each bar is 1, compute how much water it is able to trap after raining.\n",
    "```\n",
    "Input: [0,1,0,2,1,0,1,3,2,1,2,1]\n",
    "Output: 6\n",
    "```"
   ]
  },
  {
   "cell_type": "code",
   "execution_count": 8,
   "metadata": {},
   "outputs": [
    {
     "data": {
      "text/plain": [
       "6"
      ]
     },
     "execution_count": 8,
     "metadata": {},
     "output_type": "execute_result"
    }
   ],
   "source": [
    "def trap(self, heights):\n",
    "    if not heights:\n",
    "        return 0\n",
    "    rain = maxleft = maxright = 0\n",
    "    left, right = 0, len(heights) - 1 \n",
    "    while left < right:\n",
    "        if heights[left] < heights[right]:\n",
    "            maxleft = max(heights[left], maxleft)\n",
    "            rain += maxleft - heights[left]\n",
    "            left += 1\n",
    "        else:\n",
    "            maxright = max(heights[right], maxright)\n",
    "            rain += maxright - heights[right]\n",
    "            right -= 1\n",
    "    return rain\n",
    "trap('', [0,1,0,2,1,0,1,3,2,1,2,1])"
   ]
  },
  {
   "cell_type": "markdown",
   "metadata": {},
   "source": [
    "### Meeting rooms"
   ]
  },
  {
   "cell_type": "code",
   "execution_count": null,
   "metadata": {},
   "outputs": [],
   "source": [
    "def minMeetingRooms(self, intervals):\n",
    "    points = []\n",
    "    for start, end in intervals:\n",
    "        points.append((start, 1))\n",
    "        points.append((end, -1))\n",
    "    \n",
    "    points.sort()\n",
    "    \n",
    "    on_going = max_rooms = 0\n",
    "    for _, delta in points:\n",
    "        on_going += delta\n",
    "        max_rooms = max(max_rooms, on_going)\n",
    "    return max_rooms\n",
    "\n",
    "def minMeetingRooms(self, intervals):\n",
    "    intervals.sort()\n",
    "    heap = []  # stores the end time of intervals\n",
    "    for inv in intervals:\n",
    "        if heap and inv[0] >= heap[0]:#end a meeting\n",
    "            heapq.heappop(heap)\n",
    "        heapq.heappush(heap, inv[1])\n",
    "    return len(heap)"
   ]
  },
  {
   "cell_type": "markdown",
   "metadata": {},
   "source": [
    "### Intersection of Two Linked Lists\n",
    "```\n",
    "Input: intersectVal = 8, \n",
    "listA = [4,1,8,4,5], \n",
    "listB = [5,0,1,8,4,5], skipA = 2, skipB = 3\n",
    "Output: Reference of the node with value = 8\n",
    "```"
   ]
  },
  {
   "cell_type": "code",
   "execution_count": null,
   "metadata": {},
   "outputs": [],
   "source": [
    "def getIntersectionNode(self, headA, headB):\n",
    "    pa, pb = headA, headB\n",
    "    while pa != pb:\n",
    "        pa = pa.next if pa else headB\n",
    "        pb = pb.next if pb else headA\n",
    "    return pa \n",
    "# 要这么写，不能写成 if pa.next\n",
    "# 1->null, null 过不了"
   ]
  },
  {
   "cell_type": "markdown",
   "metadata": {},
   "source": [
    "### Intersection of Two Arrays\n",
    "nums1 = [1,2,2,1], nums2 = [2,2] -> [2]\n",
    "\n",
    "nums1 = [1,2,2,1], nums2 = [2,2] -> [2,2]\n",
    "\n",
    "follow up:\n",
    "\n",
    "1. nums2 is very large? solved originally\n",
    "2. nums1,2 are soted \n",
    "3. too large to fit in memory\n",
    "\n",
    "If only nums2 cannot fit in memory, put all elements of nums1 into a HashMap, read chunks of array that fit into the memory, and record the intersections.\n",
    "\n",
    "If both nums1 and nums2 are so huge that neither fit into the memory, sort them individually (external sort), then read 2 elements from each array at a time in memory, record intersections."
   ]
  },
  {
   "cell_type": "code",
   "execution_count": 9,
   "metadata": {},
   "outputs": [],
   "source": [
    "def intersection(self, nums1, nums2):\n",
    "    return list(set(nums1) & set(nums2))\n",
    "\n",
    "def intersection_large(nums1, nums2):\n",
    "    if len(nums1) > len(nums2):\n",
    "        return intersection_large(nums2, nums1)\n",
    "    \n",
    "    count1 = Counter(nums1)\n",
    "    res = []\n",
    "    for num in nums2:\n",
    "        if count1[num] > 0:\n",
    "            res.append(num)\n",
    "            count1[num] -= 1\n",
    "    return res\n",
    "\n",
    "def intersection_sort(nums1, nums2):\n",
    "    res = [] \n",
    "    i = j = 0\n",
    "    while i < len(nums1) and j < len(nums2):\n",
    "        if nums1[i] == nums2[j]:\n",
    "            res.append(nums1[i])\n",
    "            i += 1\n",
    "            j += 1\n",
    "        elif nums1[i] < nums2[j]:\n",
    "            i += 1\n",
    "        else:\n",
    "            j += 1\n",
    "    return res"
   ]
  },
  {
   "cell_type": "markdown",
   "metadata": {},
   "source": [
    "### Alien Dictionary\n",
    "Input:\n",
    "[\n",
    "  \"wrt\",\n",
    "  \"wrf\",\n",
    "  \"er\",\n",
    "  \"ett\",\n",
    "  \"rftt\"\n",
    "]\n",
    "\n",
    "Output: \"wertf\""
   ]
  },
  {
   "cell_type": "code",
   "execution_count": null,
   "metadata": {},
   "outputs": [],
   "source": [
    "from heapq import heappush, heappop, heapify\n",
    "\n",
    "class Solution:\n",
    "    \"\"\"\n",
    "    @param words: a list of words\n",
    "    @return: a string which is correct order\n",
    "    \"\"\"\n",
    "    def alienOrder(self, words):\n",
    "        graph = self.build_graph(words)\n",
    "        return self.topological_sort(graph)\n",
    "        \n",
    "    def build_graph(self, words):\n",
    "        # key is node, value is neighbors\n",
    "        graph = {}\n",
    "\n",
    "        # initialize graph\n",
    "        for word in words:\n",
    "            for c in word:\n",
    "                if c not in graph:\n",
    "                    graph[c] = set() \n",
    "        #graph = {ch:set() for word in words for ch in word} \n",
    "        #notice the order of words\n",
    "        # add edges        \n",
    "        n = len(words)\n",
    "        for i in range(n - 1):\n",
    "            for j in range(min(len(words[i]), len(words[i + 1]))):\n",
    "                if words[i][j] != words[i + 1][j]:\n",
    "                    graph[words[i][j]].add(words[i + 1][j])\n",
    "                    break\n",
    "                \n",
    "        return graph\n",
    "\n",
    "    def topological_sort(self, graph):\n",
    "        # before looking into this part of code\n",
    "        # you should know how to use bfs algorithm to do topological sorting\n",
    "        \n",
    "        # initialize indegree \n",
    "        indegree = {\n",
    "            node: 0\n",
    "            for node in graph\n",
    "        }\n",
    "        \n",
    "        # calculate indegree\n",
    "        for node in graph:\n",
    "            for neighbor in graph[node]:\n",
    "                indegree[neighbor] = indegree[neighbor] + 1\n",
    "        \n",
    "        # use heapq instead of regular queue so that we can get the \n",
    "        # smallest lexicographical order\n",
    "        # regular bfs\n",
    "        que = [node for node in graph if indegree[node] == 0]\n",
    "        res = ''\n",
    "        while len(que) > 0:\n",
    "            curt = que.pop()\n",
    "            res += curt\n",
    "            for nb in graph[curt]:\n",
    "                indegree[nb] -= 1\n",
    "                if indegree[nb] == 0:\n",
    "                    que.append(nb)\n",
    "\n",
    "        return res if len(res) == len(graph) else \"\"\n",
    "        '''\n",
    "        queue = [node for node in graph if indegree[node] == 0]\n",
    "        heapify(queue)\n",
    "        \n",
    "        # heapify bfs algorithm to do topological sorting\n",
    "        topo_order = \"\"\n",
    "        while queue:\n",
    "            node = heappop(queue)\n",
    "            topo_order += node\n",
    "            for neighbor in graph[node]:\n",
    "                indegree[neighbor] -= 1\n",
    "                if indegree[neighbor] == 0:\n",
    "                    heappush(queue, neighbor)\n",
    "            \n",
    "        # if all nodes popped\n",
    "        return topo_order if len(topo_order) == len(graph) else \"\"\n",
    "        '''\n"
   ]
  },
  {
   "cell_type": "markdown",
   "metadata": {},
   "source": [
    "### Roman to Interger "
   ]
  },
  {
   "cell_type": "code",
   "execution_count": 6,
   "metadata": {},
   "outputs": [],
   "source": [
    "def romanToInt(self, s: str) -> int:\n",
    "    ROI = {'I':1,\n",
    "           'V':5,\n",
    "           'X':10,\n",
    "           'L':50,\n",
    "           'C':100,\n",
    "           'D':500,\n",
    "           'M':1000}\n",
    "\n",
    "    index = len(s) - 2 \n",
    "    rum = ROI[s[-1]]\n",
    "    while index >= 0:\n",
    "        ch1, ch2 = s[index], s[index+1]\n",
    "        if ROI[ch1] < ROI[ch2]:\n",
    "            rum -= ROI[ch1]\n",
    "        else:\n",
    "            rum += ROI[ch1]\n",
    "        index -= 1\n",
    "    return rum"
   ]
  },
  {
   "cell_type": "markdown",
   "metadata": {},
   "source": [
    "### Find Anagram"
   ]
  },
  {
   "cell_type": "code",
   "execution_count": null,
   "metadata": {},
   "outputs": [],
   "source": [
    "def findAnagrams(self, s, p):\n",
    "    res = []\n",
    "    n, m = len(s), len(p)\n",
    "    if n < m: return res\n",
    "    phash = [0]*26\n",
    "    shash = [0]*26\n",
    "    base = ord('a')\n",
    "    for x in p:\n",
    "        phash[ord(x)-base] += 1\n",
    "    for x in s[:m]:\n",
    "        shash[ord(x)-base] += 1\n",
    "    if shash == phash:\n",
    "        res.append(0)\n",
    "    for i in range(m, n):\n",
    "        shash[ord(s[i-m])-base] -= 1\n",
    "        shash[ord(s[i])-base] += 1\n",
    "        if shash == phash:\n",
    "            res.append(i-m+1)          \n",
    "    return res"
   ]
  },
  {
   "cell_type": "markdown",
   "metadata": {},
   "source": [
    "### Intersection of Intervals"
   ]
  },
  {
   "cell_type": "code",
   "execution_count": 8,
   "metadata": {},
   "outputs": [],
   "source": [
    "def intervalIntersection(self, A: 'List[Interval]', B: 'List[Interval]') -> 'List[Interval]':\n",
    "    res = []\n",
    "    i = j = 0\n",
    "    while i < len(A) and j < len(B):\n",
    "        if A[i][0] <= B[j][1] and B[j][0] <= A[i][1]:#crossed\n",
    "            res.append([max(A[i][0], B[j][0]), # large start\n",
    "                        min(A[i][1], B[j][1])])# small end\n",
    "        if A[i][1] < B[j][1]:\n",
    "            i+=1\n",
    "        else:    \n",
    "            j+=1\n",
    "    return res \n"
   ]
  },
  {
   "cell_type": "markdown",
   "metadata": {},
   "source": [
    "### Maxium path sum "
   ]
  },
  {
   "cell_type": "code",
   "execution_count": null,
   "metadata": {},
   "outputs": [],
   "source": [
    "class Solution:\n",
    "    def maxPathSum(self, root: TreeNode) -> int:\n",
    "        max_sum, cur_sum = self.helper(root)\n",
    "        return max_sum\n",
    "    \n",
    "    def helper(self, node):\n",
    "        if node is None:\n",
    "            return -maxsize, 0\n",
    "        \n",
    "        lmax, lup = self.helper(node.left)\n",
    "        rmax, rup = self.helper(node.right)\n",
    "        \n",
    "        max_sum = max(lmax, rmax, node.val + lup + rup)\n",
    "        up = max(lup + node.val, rup + node.val, 0)\n",
    "        \n",
    "        return max_sum, up\n",
    "        "
   ]
  },
  {
   "cell_type": "markdown",
   "metadata": {},
   "source": [
    "### String Decode\n",
    "s = \"3[a]2[bc]\", return \"aaabcbc\"."
   ]
  },
  {
   "cell_type": "code",
   "execution_count": null,
   "metadata": {},
   "outputs": [],
   "source": [
    "class Solution:\n",
    "    def decodeString(self, s: str) -> str:\n",
    "        stack = [] \n",
    "        stack.append(['', 1])\n",
    "        num = ''\n",
    "        for ch in s:\n",
    "            if ch.isdigit():\n",
    "                num += ch\n",
    "            elif ch == '[':\n",
    "                stack.append(['', int(num)])\n",
    "                num = ''\n",
    "            elif ch == ']':\n",
    "                st, k = stack.pop()\n",
    "                stack[-1][0] += st * k\n",
    "            else:\n",
    "                stack[-1][0] += ch\n",
    "        \n",
    "        return stack[0][0]\n",
    "                \n",
    "        "
   ]
  },
  {
   "cell_type": "markdown",
   "metadata": {},
   "source": [
    "### Decode Ways\n",
    "Input: \"12\"\n",
    "Output: 2\n",
    "Explanation: It could be decoded as \"AB\" (1 2) or \"L\" (12)."
   ]
  },
  {
   "cell_type": "code",
   "execution_count": null,
   "metadata": {},
   "outputs": [],
   "source": [
    "def numDecodings(self, s: str) -> int:\n",
    "    if not s:\n",
    "        return 0 \n",
    "    n = len(s)\n",
    "\n",
    "    dp = [0] * (n+1)\n",
    "    dp[0] = 1\n",
    "    dp[1] = 1 if int(s[0]) else 0 \n",
    "\n",
    "    for i in range(2, n+1):\n",
    "        if s[i-1:i] != '0':\n",
    "            dp[i] += dp[i-1]\n",
    "        if s[i-2:i][0] != '0' and int(s[i-2:i]) <= 26:\n",
    "            dp[i] += dp[i-2]\n",
    "\n",
    "    return dp[-1]"
   ]
  },
  {
   "cell_type": "markdown",
   "metadata": {},
   "source": [
    "### Flatten Binary Tree to Linked List"
   ]
  },
  {
   "cell_type": "code",
   "execution_count": null,
   "metadata": {},
   "outputs": [],
   "source": [
    "def flatten(self, root):\n",
    "    last=TreeNode(-1)\n",
    "    qstack=[root]\n",
    "    while qstack:\n",
    "        node=qstack.pop()\n",
    "        last.right=node\n",
    "        last.left=None\n",
    "        if node and node.right:\n",
    "            qstack.append(node.right)\n",
    "        if node and node.left:\n",
    "            qstack.append(node.left)\n",
    "        last=node"
   ]
  },
  {
   "cell_type": "markdown",
   "metadata": {},
   "source": [
    "### Maximum Sum of 3 Non-Overlapping Subarrays\n",
    "input:\n",
    "```\n",
    "[1,2,1,2,1,2,1,2,1]\n",
    "2\n",
    "\n",
    "[0, 0, 0, 0, 0, 0, 0, 0, 0] \n",
    "[0, 1, 2, 3, 4, 5, 6, 7, 7]\n",
    "0 2 4 9\n",
    "0 3 5 9\n",
    "0 4 6 9\n",
    "0 5 7 9\n",
    "```"
   ]
  },
  {
   "cell_type": "code",
   "execution_count": null,
   "metadata": {},
   "outputs": [],
   "source": [
    "class Solution:\n",
    "    def maxSumOfThreeSubarrays(self, nums: List[int], k: int) -> List[int]:\n",
    "        n = len(nums)\n",
    "        mx = -1\n",
    "        sums, res, left, right = [0], [], [0]*n, [n-k]*n\n",
    "        for num in nums:\n",
    "            sums.append(sums[-1]+num)\n",
    "        \n",
    "        #left \n",
    "        tot = sums[k] - sums[0]\n",
    "        for i in range(k, n):\n",
    "            if sums[i+1] - sums[i+1-k] > tot:\n",
    "                left[i] = i + 1 - k \n",
    "                tot = sums[i+1] - sums[i+1-k]\n",
    "            else:\n",
    "                left[i] = left[i-1] # 能少一位是一位\n",
    "        \n",
    "        #right\n",
    "        tot = sums[n] - sums[n-k]\n",
    "        for i in range(n-1-k, -1,-1):\n",
    "            if sums[i+k] - sums[i] >= tot:\n",
    "                right[i] = i\n",
    "                tot = sums[i+k] - sums[i]\n",
    "            else:\n",
    "                right[i] = right[i+1] # 能多一位是一位\n",
    "        \n",
    "        for i in range(k, n-2*k+1):\n",
    "            l, r = left[i-1], right[i+k]\n",
    "            tot = sums[i+k] - sums[i] \\\n",
    "                + sums[l+k] - sums[l] \\\n",
    "                + sums[r+k] - sums[r]\n",
    "            \n",
    "            if mx < tot:\n",
    "                res = [l, i, r]\n",
    "                mx = tot\n",
    "        \n",
    "        return res"
   ]
  },
  {
   "cell_type": "markdown",
   "metadata": {},
   "source": [
    "### Divide Two Integers\n",
    "同时给出余数"
   ]
  },
  {
   "cell_type": "code",
   "execution_count": null,
   "metadata": {},
   "outputs": [],
   "source": [
    "### 238"
   ]
  },
  {
   "cell_type": "code",
   "execution_count": null,
   "metadata": {},
   "outputs": [],
   "source": [
    "### Kth larget number in unsorted array"
   ]
  },
  {
   "cell_type": "code",
   "execution_count": null,
   "metadata": {},
   "outputs": [],
   "source": [
    "### 1st: The right view of binary tree. 199\n",
    "### 2nd: find distance between any two nodes in a binary tree"
   ]
  },
  {
   "cell_type": "markdown",
   "metadata": {},
   "source": [
    "### Read N Characters Given Read4 II - Call multiple times"
   ]
  },
  {
   "cell_type": "code",
   "execution_count": null,
   "metadata": {},
   "outputs": [],
   "source": [
    "class Solution:\n",
    "# @param buf, Destination buffer (a list of characters)\n",
    "# @param n,   Maximum number of characters to read (an integer)\n",
    "# @return     The number of characters read (an integer)\n",
    "    def __init__(self):\n",
    "        self.queue = []\n",
    "\n",
    "    def read(self, buf, n):\n",
    "        idx = 0\n",
    "        while True:\n",
    "            buf4 = [\"\"]*4\n",
    "            l = read4(buf4)\n",
    "            self.queue.extend(buf4[:l])\n",
    "            curr = min(len(self.queue), n-idx)\n",
    "            for i in range(curr):\n",
    "                buf[idx] = self.queue.pop(0)\n",
    "                idx+=1\n",
    "            if curr == 0:\n",
    "                break \n",
    "        return idx\n",
    "    "
   ]
  },
  {
   "cell_type": "markdown",
   "metadata": {},
   "source": [
    "### Insert into cyclic linked list"
   ]
  },
  {
   "cell_type": "code",
   "execution_count": null,
   "metadata": {},
   "outputs": [],
   "source": [
    "def insert(self, head, insertVal):\n",
    "        new_node = Node(insertVal, head)\n",
    "        if not head:  \n",
    "            return new_node\n",
    "        node = head\n",
    "        while True:\n",
    "            if node.next.val < node.val and (insertVal <= node.next.val or insertVal >= node.val):\n",
    "                break\n",
    "            elif node.val <= insertVal <= node.next.val:\n",
    "                break\n",
    "            elif node.next == head:\n",
    "                break\n",
    "            node = node.next\n",
    "        \n",
    "        new_node.next = node.next\n",
    "        node.next = new_node\n",
    "        return head"
   ]
  },
  {
   "cell_type": "code",
   "execution_count": null,
   "metadata": {},
   "outputs": [],
   "source": []
  },
  {
   "cell_type": "code",
   "execution_count": null,
   "metadata": {},
   "outputs": [],
   "source": []
  },
  {
   "cell_type": "code",
   "execution_count": null,
   "metadata": {},
   "outputs": [],
   "source": []
  },
  {
   "cell_type": "code",
   "execution_count": null,
   "metadata": {},
   "outputs": [],
   "source": []
  },
  {
   "cell_type": "code",
   "execution_count": null,
   "metadata": {},
   "outputs": [],
   "source": []
  },
  {
   "cell_type": "code",
   "execution_count": null,
   "metadata": {},
   "outputs": [],
   "source": []
  },
  {
   "cell_type": "code",
   "execution_count": null,
   "metadata": {},
   "outputs": [],
   "source": []
  },
  {
   "cell_type": "markdown",
   "metadata": {},
   "source": [
    "### Design a Dropbox\n",
    "design a dropbox/file-sharing system "
   ]
  },
  {
   "cell_type": "markdown",
   "metadata": {},
   "source": [
    "### Desgin Instgram\n",
    "\n",
    "d2 设计怎么通过hashtag找posts，instgram为例。讲了通常分别式系统的设计，怎么build index，sharding之类的，这轮感觉还行\n"
   ]
  },
  {
   "cell_type": "markdown",
   "metadata": {},
   "source": [
    "### Desgin Crawler\n",
    "问一个黑客怎么利用几千台机器做个crawler，背景有点怪，直接设计crawler就好，非搞个故事出来。大概根据我对crawler的理解说了，包括DHT，DB设计，用task queue发布新的url，别的server来pull，还有一些估值什么的。\n"
   ]
  },
  {
   "cell_type": "markdown",
   "metadata": {},
   "source": [
    "### Design Splunk\n",
    "\n",
    "日志收集系统，类似splunk"
   ]
  },
  {
   "cell_type": "markdown",
   "metadata": {},
   "source": [
    "### Type lookahead"
   ]
  },
  {
   "cell_type": "markdown",
   "metadata": {},
   "source": [
    "### Uber\n",
    "sys design, given list of places, find all places within circular distances of requested point at x, y\n",
    "\n",
    "这题我回答的是geohash，但对方一直追究geohash角落问题，个人对location理解不深，大家good luck\n"
   ]
  },
  {
   "cell_type": "markdown",
   "metadata": {},
   "source": [
    "### Trie search"
   ]
  },
  {
   "cell_type": "markdown",
   "metadata": {},
   "source": [
    "### Sliding windows median"
   ]
  },
  {
   "cell_type": "code",
   "execution_count": null,
   "metadata": {},
   "outputs": [],
   "source": [
    "# 132 ms\n",
    "class SolutionSortedArrayFast(object):\n",
    "    def medianSlidingWindow(self, nums, k):\n",
    "        win, rv = nums[:k], []\n",
    "        win.sort()\n",
    "        odd = k%2\n",
    "        for i,n in enumerate(nums[k:],k):\n",
    "            rv.append((win[k/2]+win[k/2-1])/2. if not odd else win[(k-1)/2]*1.)\n",
    "            win.pop(bisect(win, nums[i-k])-1) # <<< bisect is faster than .remove()\n",
    "            insort(win, nums[i]) # inserting x in a after any existing entries of x.\n",
    "        rv.append((win[k/2]+win[k/2-1])/2. if not odd else win[(k-1)/2]*1.)\n",
    "        return rv"
   ]
  },
  {
   "cell_type": "markdown",
   "metadata": {},
   "source": [
    "### Sliding window maxium"
   ]
  },
  {
   "cell_type": "code",
   "execution_count": null,
   "metadata": {},
   "outputs": [],
   "source": [
    "from collections import deque\n",
    "class Solution:\n",
    "    def maxSlidingWindow(self, nums, k):\n",
    "        res = []\n",
    "        bigger = deque()\n",
    "        for i, n in enumerate(nums):\n",
    "            # make sure the rightmost one is the smallest\n",
    "            while bigger and nums[bigger[-1]] <= n:\n",
    "                bigger.pop()\n",
    "            # add in\n",
    "            bigger += [i]\n",
    "            # make sure the leftmost one is in-bound\n",
    "            if i - bigger[0] >= k:\n",
    "                bigger.popleft()\n",
    "            # if i + 1 < k, then we are initializing the bigger array\n",
    "            if i + 1 >= k:\n",
    "                res.append(nums[bigger[0]])\n",
    "        return res"
   ]
  },
  {
   "cell_type": "markdown",
   "metadata": {},
   "source": [
    "### Edit Distance \n",
    "```\n",
    "Input: word1 = \"horse\", word2 = \"ros\"\n",
    "Output: 3\n",
    "Explanation: \n",
    "horse -> rorse (replace 'h' with 'r')\n",
    "rorse -> rose (remove 'r')\n",
    "rose -> ros (remove 'e')\n",
    "```"
   ]
  },
  {
   "cell_type": "code",
   "execution_count": null,
   "metadata": {},
   "outputs": [],
   "source": [
    "def minDistance1(self, word1, word2):\n",
    "    l1, l2 = len(word1)+1, len(word2)+1\n",
    "    dp = [[0 for _ in range(l2)] for _ in range(l1)]\n",
    "    for i in range(l1):\n",
    "        dp[i][0] = i\n",
    "    for j in range(l2):\n",
    "        dp[0][j] = j\n",
    "    for i in range(1, l1):\n",
    "        for j in range(1, l2):\n",
    "            dp[i][j] = min(dp[i-1][j]+1, dp[i][j-1]+1, dp[i-1][j-1]+(word1[i-1]!=word2[j-1]))\n",
    "    return dp[-1][-1]"
   ]
  },
  {
   "cell_type": "markdown",
   "metadata": {},
   "source": [
    "### Robert Cleaner\n",
    "Given a robot cleaner in a room modeled as a grid.\n",
    "\n",
    "Each cell in the grid can be empty or blocked.\n",
    "\n",
    "The robot cleaner with 4 given APIs can move forward, turn left or turn right. Each turn it made is 90 degrees.\n",
    "\n",
    "When it tries to move into a blocked cell, its bumper sensor detects the obstacle and it stays on the current cell.\n",
    "\n",
    "Design an algorithm to clean the entire room using only the 4 given APIs shown below.\n",
    "```\n",
    "room = [\n",
    "  [1,1,1,1,1,0,1,1],\n",
    "  [1,1,1,1,1,0,1,1],\n",
    "  [1,0,1,1,1,1,1,1],\n",
    "  [0,0,0,1,0,0,0,0],\n",
    "  [1,1,1,1,1,1,1,1]\n",
    "],\n",
    "row = 1,\n",
    "col = 3\n",
    "```"
   ]
  },
  {
   "cell_type": "code",
   "execution_count": null,
   "metadata": {},
   "outputs": [],
   "source": [
    "class Solution(object):\n",
    "    def cleanRoom(self, robot):\n",
    "        self.dfs(robot, 0, 0, 0, 1, set())\n",
    "    \n",
    "    def dfs(self, robot, x, y, direction_x, direction_y, visited):\n",
    "        robot.clean()\n",
    "        visited.add((x, y))\n",
    "        \n",
    "        for k in range(4):\n",
    "            neighbor_x = x + direction_x\n",
    "            neighbor_y = y + direction_y\n",
    "            if (neighbor_x, neighbor_y) not in visited and robot.move():\n",
    "                self.dfs(robot, neighbor_x, neighbor_y, direction_x, direction_y, visited)\n",
    "                robot.turnLeft()\n",
    "                robot.turnLeft()\n",
    "                robot.move()\n",
    "                robot.turnLeft()\n",
    "                robot.turnLeft()\n",
    "            robot.turnLeft()\n",
    "            direction_x, direction_y = -direction_y, direction_x   "
   ]
  },
  {
   "cell_type": "markdown",
   "metadata": {},
   "source": [
    "### TopK frequent words"
   ]
  },
  {
   "cell_type": "code",
   "execution_count": null,
   "metadata": {},
   "outputs": [],
   "source": [
    "from collections import Counter\n",
    "from heapq import heappop, heappush\n",
    "class wordFreq(object):\n",
    "    def __init__(self, word, freq):\n",
    "        self.word = word\n",
    "        self.freq = freq\n",
    "\n",
    "    def __eq__(self, other):\n",
    "        return self.freq == other.freq and self.word == other.word\n",
    "    \n",
    "    def __lt__(self, other):\n",
    "        return (self.freq, other.word) < (other.freq, self.word)\n",
    "    \n",
    "    \n",
    "class Solution:\n",
    "    \"\"\"\n",
    "    @param words: an array of string\n",
    "    @param k: An integer\n",
    "    @return: an array of string\n",
    "    \"\"\"\n",
    "\n",
    "    def topKFrequent(self, words, k):\n",
    "        if k == 0:\n",
    "            return []\n",
    "        count = Counter(words)\n",
    "        heap = []\n",
    "        for word, freq in count.items():\n",
    "            num = wordFreq(word, freq)\n",
    "            if len(heap) < k:\n",
    "                heappush(heap, num)\n",
    "            else:\n",
    "                if heap[0] < num:\n",
    "                    heappop(heap)\n",
    "                    heappush(heap, num)\n",
    "\n",
    "        ans = sorted(heap, reverse=True)\n",
    "        ans = [a.word for a in ans]\n",
    "        return ans"
   ]
  },
  {
   "cell_type": "markdown",
   "metadata": {},
   "source": [
    "### Guess the word \n",
    "```\n",
    "Example 1:\n",
    "Input: secret = \"acckzz\", wordlist = [\"acckzz\",\"ccbazz\",\"eiowzz\",\"abcczz\"]\n",
    "\n",
    "Explanation:\n",
    "\n",
    "master.guess(\"aaaaaa\") returns -1, because \"aaaaaa\" is not in wordlist.\n",
    "master.guess(\"acckzz\") returns 6, because \"acckzz\" is secret and has all 6 matches.\n",
    "master.guess(\"ccbazz\") returns 3, because \"ccbazz\" has 3 matches.\n",
    "master.guess(\"eiowzz\") returns 2, because \"eiowzz\" has 2 matches.\n",
    "master.guess(\"abcczz\") returns 4, because \"abcczz\" has 4 matches.\n",
    "\n",
    "We made 5 calls to master.guess and one of them was the secret, so we pass the test case.\n",
    "```"
   ]
  },
  {
   "cell_type": "code",
   "execution_count": null,
   "metadata": {},
   "outputs": [],
   "source": [
    "from collections import defaultdict\n",
    "\n",
    "class Solution:\n",
    "        \n",
    "    def findSecretWord(self, wordlist, master):\n",
    "        \"\"\"\n",
    "        :type wordlist: List[Str]\n",
    "        :type master: Master\n",
    "        :rtype: None\n",
    "        \"\"\"\n",
    "        \n",
    "        def countMatches(w1, w2):\n",
    "            return sum(1 for c1, c2 in zip(w1, w2) if c1 == c2)\n",
    "        \n",
    "        def wordScore(char_pos_to_count):\n",
    "            return lambda word: sum(char_pos_to_count[(c, i)] for i, c in enumerate(word))\n",
    "                    \n",
    "        if len(wordlist) == 1:\n",
    "            master.guess(wordlist[0])\n",
    "        \n",
    "        possible = list(wordlist) # for some reason there's an error in master.guess() if wordlist is directly modified\n",
    "        \n",
    "        char_pos_to_count = defaultdict(lambda: 0)\n",
    "\n",
    "        for word in possible:\n",
    "            for pos, char in enumerate(word):\n",
    "                char_pos_to_count[(char, pos)] += 1\n",
    "\n",
    "        possible.sort(key=wordScore(char_pos_to_count))\n",
    "        \n",
    "        for _ in range(10):\n",
    "            \n",
    "            if len(possible) == 1:\n",
    "                master.guess(possible[0])\n",
    "                return\n",
    "            \n",
    "            guessed = possible.pop()\n",
    "            verdict = master.guess(guessed)\n",
    "            \n",
    "            if verdict == 6:\n",
    "                return\n",
    "            \n",
    "            possible = [w for w in possible if countMatches(w, guessed) == verdict]\n",
    "        \n",
    "        return"
   ]
  },
  {
   "cell_type": "code",
   "execution_count": null,
   "metadata": {},
   "outputs": [],
   "source": []
  },
  {
   "cell_type": "code",
   "execution_count": null,
   "metadata": {},
   "outputs": [],
   "source": []
  },
  {
   "cell_type": "code",
   "execution_count": null,
   "metadata": {},
   "outputs": [],
   "source": []
  },
  {
   "cell_type": "code",
   "execution_count": null,
   "metadata": {},
   "outputs": [],
   "source": []
  },
  {
   "cell_type": "code",
   "execution_count": null,
   "metadata": {},
   "outputs": [],
   "source": []
  },
  {
   "cell_type": "code",
   "execution_count": null,
   "metadata": {},
   "outputs": [],
   "source": []
  },
  {
   "cell_type": "code",
   "execution_count": null,
   "metadata": {},
   "outputs": [],
   "source": []
  },
  {
   "cell_type": "code",
   "execution_count": null,
   "metadata": {},
   "outputs": [],
   "source": []
  },
  {
   "cell_type": "code",
   "execution_count": null,
   "metadata": {},
   "outputs": [],
   "source": []
  },
  {
   "cell_type": "code",
   "execution_count": null,
   "metadata": {},
   "outputs": [],
   "source": []
  },
  {
   "cell_type": "markdown",
   "metadata": {},
   "source": [
    "## BQ\n",
    "\n",
    "Focus on impact\n",
    "\n",
    "If we want to have the biggest impact, the best way to do this is to make sure we always focus on solving the most important problems. It sounds simple, but we think most companies do this poorly and waste a lot of time. We expect everyone at Facebook to be good at finding the biggest problems to work on.\n",
    "\n",
    "Move Fast\n",
    "\n",
    "Moving fast enables us to build more things and learn faster. However, as most companies grow, they slow down too much because they're more afraid of making mistakes than they are of losing opportunities by moving too slowly. We have a saying: 'Move fast and break things.' The idea is that if you never break anything, you're probably not moving fast enough.\n",
    "\n",
    "Be Bold\n",
    "\n",
    "Building great things means taking risks. This can be scary and prevents most companies from doing the bold things they should. However, in a world that's changing so quickly, you're guaranteed to fail if you don't take any risks. We have another saying: 'The riskiest thing is to take no risks.' We encourage everyone to make bold decisions, even if that means being wrong some of the time.\n",
    "\n",
    "Be Open\n",
    "\n",
    "We believe that a more open world is a better world because people with more information can make better decisions and have a greater impact. That goes for running our company as well. We work hard to make sure everyone at Facebook has access to as much information as possible about every part of the company so they can make the best decisions and have the greatest impact.\n",
    "\n",
    "Build Social Value\n",
    "\n",
    "Once again, Facebook exists to make the world more open and connected, and not just to build a company. We expect everyone at Facebook to focus every day on how to build real value for the world in everything they do."
   ]
  },
  {
   "cell_type": "markdown",
   "metadata": {},
   "source": [
    "聊天轮就是介绍自己做过的项目，contribution，怎么解决工作中的conflict等，最后一道双指针题，很简单。\n",
    "\n",
    "bq 为什么脸熟，如何解决不同意见等等"
   ]
  },
  {
   "cell_type": "markdown",
   "metadata": {},
   "source": [
    "behavior questions: 1) dive deep into most recent project 2) most intestering debug/bug 3) describe most favorite day in your current company（呵呵）  4) how to work across team 5) give me an example you push back 6) example you regret your design 太多了想不起来了"
   ]
  },
  {
   "cell_type": "code",
   "execution_count": null,
   "metadata": {},
   "outputs": [],
   "source": []
  },
  {
   "cell_type": "code",
   "execution_count": null,
   "metadata": {},
   "outputs": [],
   "source": []
  },
  {
   "cell_type": "code",
   "execution_count": null,
   "metadata": {},
   "outputs": [],
   "source": []
  }
 ],
 "metadata": {
  "kernelspec": {
   "display_name": "py37",
   "language": "python",
   "name": "python3"
  },
  "language_info": {
   "codemirror_mode": {
    "name": "ipython",
    "version": 3
   },
   "file_extension": ".py",
   "mimetype": "text/x-python",
   "name": "python",
   "nbconvert_exporter": "python",
   "pygments_lexer": "ipython3",
   "version": "3.7.1"
  }
 },
 "nbformat": 4,
 "nbformat_minor": 2
}
