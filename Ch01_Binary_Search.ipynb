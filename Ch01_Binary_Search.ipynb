{
 "cells": [
  {
   "cell_type": "markdown",
   "metadata": {
    "colab_type": "text",
    "id": "view-in-github"
   },
   "source": [
    "<a href=\"https://colab.research.google.com/github/lizhicq/Algorithms-Manual/blob/master/Ch01_Binary_Search.ipynb\" target=\"_parent\"><img src=\"https://colab.research.google.com/assets/colab-badge.svg\" alt=\"Open In Colab\"/></a>"
   ]
  },
  {
   "cell_type": "markdown",
   "metadata": {
    "colab_type": "text",
    "id": "LNfsww28z1dE"
   },
   "source": [
    "# Binary Search & Log N\n",
    "\n",
    "\n",
    "\n",
    "\n",
    "*   Universal fitable binary search model \n",
    "*   How to avoid dead loop?\n",
    "*   Corner case dealing\n",
    "\n",
    "\n",
    "\n",
    "---\n",
    "\n",
    "\n",
    "*  三步翻转法\n",
    "*  递增矩阵找数\n",
    "*  快速幂算法\n",
    "*  辗转相除法\n",
    "\n",
    "  "
   ]
  },
  {
   "cell_type": "markdown",
   "metadata": {
    "colab_type": "text",
    "id": "9ggxQacS8Zjk"
   },
   "source": [
    "## Mathematics\n",
    "\n",
    "```\n",
    "原本O(n)O(n)的问题，我们可以用O(logn)O(logn)复杂度的算法来解决。\n",
    "\n",
    "```\n",
    "\n",
    "\n"
   ]
  },
  {
   "cell_type": "markdown",
   "metadata": {
    "colab_type": "text",
    "id": "hBQkHiOw3Qqb"
   },
   "source": [
    "### 428. Pow(x, n)\n",
    "快速幂算法\n",
    "Implement pow(x, n).\n",
    "```\n",
    "Example\n",
    "Pow(2.1, 3) = 9.261\n",
    "Pow(0, 1) = 0\n",
    "Pow(1, 0) = 1\n",
    "Challenge\n",
    "O(logn) time\n",
    "```"
   ]
  },
  {
   "cell_type": "code",
   "execution_count": 0,
   "metadata": {
    "colab": {},
    "colab_type": "code",
    "id": "NsVDpyQJ3Yb6"
   },
   "outputs": [],
   "source": [
    "class Solution:\n",
    "    \"\"\"\n",
    "    @param: x: the base number, float\n",
    "    @param: n: the power number, int\n",
    "    @return: the results\n",
    "    \"\"\"\n",
    "    def myPow(self, x, n):\n",
    "        if n < 0:\n",
    "            n = -n \n",
    "            x = 1 / x\n",
    "        \n",
    "        ans = 1\n",
    "        tmp = x\n",
    "\n",
    "        while n != 0:\n",
    "            if n % 2 == 1:\n",
    "                ans *= tmp\n",
    "            tmp *= tmp\n",
    "            n //= 2 \n",
    "            \n",
    "        return ans "
   ]
  },
  {
   "cell_type": "markdown",
   "metadata": {
    "colab_type": "text",
    "id": "sOPQ2ogi3js2"
   },
   "source": [
    "###  140. Fast Power(快速幂算法)\n",
    "Calculate the an % b where a, b and n are all 32bit integers.\n",
    "```\n",
    "Example\n",
    "For 231 % 3 = 2\n",
    "\n",
    "For 1001000 % 1000 = 0\n",
    "\n",
    "Challenge\n",
    "O(logn)\n",
    "```"
   ]
  },
  {
   "cell_type": "code",
   "execution_count": 0,
   "metadata": {
    "colab": {},
    "colab_type": "code",
    "id": "_Q0TFxHB3p7a"
   },
   "outputs": [],
   "source": [
    "class Solution:\n",
    "    \"\"\"\n",
    "    @param a: A 32bit integer\n",
    "    @param b: A 32bit integer\n",
    "    @param n: A 32bit integer\n",
    "    @return: An integer\n",
    "    \"\"\"\n",
    "    def fastPower(self, a, b, n):\n",
    "        \n",
    "        ans = 1\n",
    "        tmp = a\n",
    "        \n",
    "        while n != 0:\n",
    "            if n % 2 == 1:\n",
    "                ans  *= tmp % b\n",
    "            tmp *= tmp % b\n",
    "            n /= 2 \n",
    "        ans = ans % b\n",
    "        \n",
    "        return ans\n"
   ]
  },
  {
   "cell_type": "markdown",
   "metadata": {
    "colab_type": "text",
    "id": "aTN9WnE0YcDa"
   },
   "source": [
    "### 1275. Super Pow\n",
    "Your task is to calculate a^b mod 1337 where a is a positive integer and b is an extremely large positive integer given in the form of an array.\n",
    "```\n",
    "Example\n",
    "Example1:\n",
    "\n",
    "a = 2\n",
    "b = [3]\n",
    "\n",
    "Result: 8\n",
    "Example2:\n",
    "\n",
    "a = 2\n",
    "b = [1,0]\n",
    "\n",
    "Result: 1024\n",
    "Notice\n",
    "The length of b is in range [1, 1100]\n",
    "```"
   ]
  },
  {
   "cell_type": "code",
   "execution_count": 0,
   "metadata": {
    "colab": {
     "base_uri": "https://localhost:8080/",
     "height": 34
    },
    "colab_type": "code",
    "id": "oXrKqmOdYbZl",
    "outputId": "528a9224-15f7-413c-f567-38436f72457a"
   },
   "outputs": [
    {
     "name": "stdout",
     "output_type": "stream",
     "text": [
      "1024\n"
     ]
    }
   ],
   "source": [
    "class Solution:\n",
    "    \"\"\"\n",
    "    @param a: the given number a\n",
    "    @param b: the given array\n",
    "    @return: the result\n",
    "    \"\"\"\n",
    "\n",
    "    def superPow(self, a, b):\n",
    "        if a == 0:\n",
    "            return 0\n",
    "        res = 1\n",
    "        for i in b:\n",
    "            res = self.modPow(res, 10) * self.modPow(a, i) % 1337\n",
    "        return res\n",
    "\n",
    "    def modPow(self, x, n):\n",
    "        ans = 1\n",
    "        tmp = x\n",
    "\n",
    "        while n != 0:\n",
    "            if n % 2 == 1:\n",
    "                ans *= tmp % 1337\n",
    "            tmp *= tmp % 1337\n",
    "            n /= 2\n",
    "        return ans % 1337\n",
    "\n",
    "if __name__ == \"__main__\":\n",
    "    s = Solution()\n",
    "    print s.superPow(2, [1,0])"
   ]
  },
  {
   "cell_type": "markdown",
   "metadata": {
    "colab_type": "text",
    "id": "a25PvqylCkEx"
   },
   "source": [
    "### 949. Fibonacci II\n",
    "In the Fibonacci integer sequence, F0 = 0, F1 = 1, and Fn = Fn − 1 + Fn − 2 for n ≥ 2. For example, the first ten terms of the Fibonacci sequence are:0,1,1,2,3,5,8,13,21,34,…\n",
    "An alternative formula for the Fibonacci sequence is:\n",
    "\n",
    "Given an integer n, your goal is to compute the last 4 digits of Fn\n",
    "```\n",
    "Example\n",
    "Given: n = 9\n",
    "Return: 34\n",
    "\n",
    "Notice\n",
    "1.0 ≤ n ≤ 1,000,000,000\n",
    "2.If the last four digits of Fn are all zeros, print ‘0’; otherwise, omit any leading zeros(print Fn mod 10000)\n",
    "```"
   ]
  },
  {
   "cell_type": "code",
   "execution_count": 0,
   "metadata": {
    "colab": {},
    "colab_type": "code",
    "id": "g4xZADWBClhp"
   },
   "outputs": [],
   "source": [
    "class Solution:\n",
    "    \"\"\"\n",
    "    @param n: an integer\n",
    "    @return: return a string\n",
    "    \"\"\"\n",
    "    def lastFourDigitsOfFn(self, n):\n",
    "        A = [[1,1],[1,0]]\n",
    "        fn = self.Pow(A, n)\n",
    "        return str(fn[0][1])\n",
    "\n",
    "\n",
    "    def Pow(self, A, n):\n",
    "        '''\n",
    "        :param A: matrix\n",
    "        :param n: power\n",
    "        :return: mod of Power\n",
    "        '''\n",
    "        if n == 1:\n",
    "            return [[1,1],[1,0]]\n",
    "        if n == 0:\n",
    "            return [[1,0],[0,1]]\n",
    "        tmp = self.Pow(A, n//2)\n",
    "        if n % 2 == 0:\n",
    "            return self.dot(tmp, tmp)\n",
    "        else:\n",
    "            return self.dot(self.dot(tmp, tmp), A)\n",
    "\n",
    "    def dot(self, A, B):\n",
    "        m, n = len(A), len(B[0])\n",
    "        C = [[0 for j in range(n)]\n",
    "                for i in range(m)]\n",
    "        for i in range(m):\n",
    "            for j in range(n):\n",
    "                for k in range(m):\n",
    "                    C[i][j] += A[i][k] * B[k][j]\n",
    "                    C[i][j] %= 10000\n",
    "        return C"
   ]
  },
  {
   "cell_type": "markdown",
   "metadata": {
    "colab_type": "text",
    "id": "FdgSPVOB-Ibc"
   },
   "source": [
    "### 141. Sqrt(x)\n",
    "Implement int sqrt(int x).\n",
    "\n",
    "Compute and return the square root of x.\n",
    "```\n",
    "Example\n",
    "sqrt(3) = 1\n",
    "\n",
    "sqrt(4) = 2\n",
    "\n",
    "sqrt(5) = 2\n",
    "\n",
    "sqrt(10) = 3\n",
    "\n",
    "Challenge\n",
    "O(log(x))\n",
    "```"
   ]
  },
  {
   "cell_type": "code",
   "execution_count": 0,
   "metadata": {
    "colab": {},
    "colab_type": "code",
    "id": "jTpt5zDp-TpV"
   },
   "outputs": [],
   "source": [
    "class Solution:\n",
    "    \"\"\"\n",
    "    @param x: An integer\n",
    "    @return: The sqrt of x\n",
    "    \"\"\"\n",
    "    def sqrt(self, x):\n",
    "        start, end = 0.0, 65535\n",
    "        eps = 1e-1\n",
    "        while start + eps < end:\n",
    "            mid = start + (end - start) / 2\n",
    "            if mid * mid < x:\n",
    "                start = mid\n",
    "            else:\n",
    "                end = mid\n",
    "        return int(end)"
   ]
  },
  {
   "cell_type": "markdown",
   "metadata": {
    "colab_type": "text",
    "id": "j5tAeikrzM8f"
   },
   "source": [
    "\n",
    "### 845. Greatest Common Divisor (辗转相除法)\n",
    "\n",
    "\n",
    "Given two numbers, number a and number b. Find the greatest common divisor of the given two numbers.\n",
    "```\n",
    "Example\n",
    "Given a = 10, b = 15, return 5.\n",
    "Given a = 15, b = 30, return 15.\n",
    "```\n",
    "辗转相除法， 又名欧几里德算法， 是求最大公约数的一种方法。它的具体做法是：用较大的数除以较小的数，再用除数除以出现的余数（第一余数），再用第一余数除以出现的余数（第二余数），如此反复，直到最后余数是0为止。如果是求两个数的最大公约数，那么最后的除数就是这两个数的最大公约数。\n",
    "```\n",
    "代码\n",
    "public int gcd(int big, int small) {\n",
    "    if (small != 0) {\n",
    "        return gcd(small, big % small);\n",
    "    } else {\n",
    "        return big;\n",
    "    }\n",
    "}\n",
    "```"
   ]
  },
  {
   "cell_type": "code",
   "execution_count": 0,
   "metadata": {
    "colab": {
     "base_uri": "https://localhost:8080/",
     "height": 35
    },
    "colab_type": "code",
    "id": "efH9IHvkzfpn",
    "outputId": "d7b2c59c-b389-4bd8-b268-4ac182a3a88e"
   },
   "outputs": [
    {
     "name": "stdout",
     "output_type": "stream",
     "text": [
      "5\n"
     ]
    }
   ],
   "source": [
    "class Solution(object):\n",
    "    def gcd(self, big, small):\n",
    "        if big < small:\n",
    "            big, small = small, big\n",
    "        if small != 0:\n",
    "            return self.gcd(small, big % small)\n",
    "        else:\n",
    "            return big\n",
    "        \n",
    "        \n",
    "if __name__ == \"__main__\":\n",
    "    s = Solution()\n",
    "    print s.gcd(10, 5)"
   ]
  },
  {
   "cell_type": "markdown",
   "metadata": {
    "colab_type": "text",
    "id": "OBzuk2LW-6z9"
   },
   "source": [
    "### 235. Prime Factorization\n",
    "Prime factorize a given integer.\n",
    "```\n",
    "Example\n",
    "Given 10, return [2, 5].\n",
    "\n",
    "Given 660, return [2, 2, 3, 5, 11].\n",
    "```"
   ]
  },
  {
   "cell_type": "code",
   "execution_count": 0,
   "metadata": {
    "colab": {},
    "colab_type": "code",
    "id": "0u40H6zu034N"
   },
   "outputs": [],
   "source": [
    "class Solution:\n",
    "    \"\"\"\n",
    "    @param num: An integer\n",
    "    @return: an integer array\n",
    "    \"\"\"\n",
    "    def primeFactorization(self, num):\n",
    "        import math\n",
    "        up = int(math.sqrt(num)) + 1\n",
    "        prime = []\n",
    "        f = [0 for x in range(up)]\n",
    "        for i in range(2, up): # up >= 2\n",
    "            if f[i] == 0:\n",
    "                prime.append(i)\n",
    "                for j in range(i*i, up, i):\n",
    "                    f[j] = 1\n",
    "        ret = [] \n",
    "        for a in prime:\n",
    "            while num % a == 0:\n",
    "                ret.append(a)\n",
    "                num /= a\n",
    "        if num != 1:\n",
    "            ret.append(num)\n",
    "        return ret"
   ]
  },
  {
   "cell_type": "markdown",
   "metadata": {
    "colab_type": "text",
    "id": "Hmw5-Z_b6Ffq"
   },
   "source": [
    "### 414. Divide Two Integers\n",
    "Divide two integers without using multiplication, division and mod operator.\n",
    "\n",
    "If it is overflow, return 2147483647\n",
    "```\n",
    "Example\n",
    "Given dividend = 100 and divisor = 9, return 11.\n",
    "```"
   ]
  },
  {
   "cell_type": "code",
   "execution_count": 0,
   "metadata": {
    "colab": {},
    "colab_type": "code",
    "id": "dRBJ2-1q1ZNe"
   },
   "outputs": [],
   "source": [
    "class Solution(object):\n",
    "    def divide(self, dividend, divisor):\n",
    "        maxsize = 2147483647\n",
    "        if divisor == 0:\n",
    "            return maxsize\n",
    "        if abs(dividend) < abs(divisor):\n",
    "            return 0\n",
    "\n",
    "        is_negtive = (dividend < 0 and divisor > 0\n",
    "                     ) or (dividend > 0 and divisor < 0)\n",
    "        a = abs(dividend)\n",
    "        b = abs(divisor)\n",
    "\n",
    "        ans = 0\n",
    "        while a >= b:\n",
    "            shift = 0\n",
    "            while a >= (b << shift):\n",
    "                shift += 1\n",
    "            a -= b << (shift - 1)\n",
    "            ans += 1 << (shift - 1)\n",
    "        if is_negtive:\n",
    "            ans = - ans\n",
    "        if ans > maxsize:\n",
    "            return maxsize\n",
    "        return ans\n",
    "    \n",
    "\n",
    "\n",
    "if __name__ == \"__main__\":\n",
    "    print Solution().divide(100, 2)"
   ]
  },
  {
   "cell_type": "markdown",
   "metadata": {
    "colab_type": "text",
    "id": "Sl9FDAUzz3eD"
   },
   "source": [
    "## Array"
   ]
  },
  {
   "cell_type": "markdown",
   "metadata": {
    "colab_type": "text",
    "id": "4mPwJmOX-5TQ"
   },
   "source": [
    "### 458. Last Position of Target\n",
    "\n",
    "Description\n",
    "Find the last position of a target number in a sorted array. Return -1 if target does not exist.\n",
    "\n",
    "Have you met this question in a real interview?  \n",
    "Example\n",
    "Given [1, 2, 2, 4, 5, 5].\n",
    "\n",
    "For target = 2, return 2.\n",
    "\n",
    "For target = 5, return 5.\n",
    "\n",
    "For target = 6, return -1."
   ]
  },
  {
   "cell_type": "code",
   "execution_count": 0,
   "metadata": {
    "colab": {},
    "colab_type": "code",
    "id": "0UkWrIJ-_CWC"
   },
   "outputs": [],
   "source": [
    "class Solution(object):\n",
    "    def lastPosition(self, nums, target):\n",
    "        if len(nums) == 0:\n",
    "            return -1\n",
    "        start, end = 0, len(nums) - 1\n",
    "        while start + 1 < end:\n",
    "            mid = start + (end - start) // 2 \n",
    "            if nums[mid] <= target:\n",
    "                start = mid\n",
    "            else:\n",
    "                end = mid\n",
    "        if nums[end] == target:\n",
    "            return end\n",
    "        elif nums[start] == target:\n",
    "            return start\n",
    "        else:\n",
    "            return -1"
   ]
  },
  {
   "cell_type": "markdown",
   "metadata": {
    "colab_type": "text",
    "id": "GgpFs8cK3FTG"
   },
   "source": [
    "### 460. Find K Closest Elements\n",
    "Given a target number, a non-negative integer k and an integer array A sorted in ascending order, find the k closest numbers to target in A, sorted in ascending order by the difference between the number and target. Otherwise, sorted in ascending order by number if the difference is same.\n",
    "```\n",
    "Example\n",
    "Given A = [1, 2, 3], target = 2 and k = 3, return [2, 1, 3].\n",
    "\n",
    "Given A = [1, 4, 6, 8], target = 3 and k = 3, return [4, 1, 6].\n",
    "\n",
    "Challenge\n",
    "O(logn + k) time complexity.\n",
    "```"
   ]
  },
  {
   "cell_type": "code",
   "execution_count": 0,
   "metadata": {
    "colab": {},
    "colab_type": "code",
    "id": "Pus_y80V3HhD"
   },
   "outputs": [],
   "source": [
    "class Solution:\n",
    "    \"\"\"\n",
    "    @param A: an integer array\n",
    "    @param target: An integer\n",
    "    @param k: An integer\n",
    "    @return: an integer array\n",
    "    \"\"\"\n",
    "\n",
    "    def kClosestNumbers(self, A, target, k):\n",
    "        start, end = 0, len(A) - 1\n",
    "        while start + 1 < end:\n",
    "            mid = start + (end - start) // 2\n",
    "            if A[mid] < target:\n",
    "                start = mid\n",
    "            else:\n",
    "                end = mid\n",
    "        res = []\n",
    "        while len(res) != k:\n",
    "            left_diff = target - A[start] if start >= 0 else None\n",
    "            right_diff = A[end] - target if end < len(A) else None\n",
    "\n",
    "            if left_diff is not None and right_diff is not None:\n",
    "                if right_diff < left_diff:\n",
    "                    res.append(A[end])\n",
    "                    end = end + 1\n",
    "                else:\n",
    "                    res.append(A[start])\n",
    "                    start = start - 1\n",
    "            elif left_diff is None and right_diff is not None:\n",
    "                res.append(A[end])\n",
    "                end = end + 1\n",
    "            elif left_diff is not None and right_diff is None:\n",
    "                res.append(A[start])\n",
    "                start = start - 1\n",
    "            else:\n",
    "                break  # K is larger than len(A)\n",
    "        return res"
   ]
  },
  {
   "cell_type": "markdown",
   "metadata": {
    "colab_type": "text",
    "id": "tPWp_JDw-5eG"
   },
   "source": [
    "### 585. Maximum Number in Mountain Sequence\n",
    "\n",
    "Description\n",
    "Given a mountain sequence of n integers which increase firstly and then decrease, find the mountain top.\n",
    "```\n",
    "Example\n",
    "Given nums = [1, 2, 4, 8, 6, 3] return 8\n",
    "Given nums = [10, 9, 8, 7], return 10\n",
    "```"
   ]
  },
  {
   "cell_type": "code",
   "execution_count": 0,
   "metadata": {
    "colab": {},
    "colab_type": "code",
    "id": "C7GGf3jU0ckM"
   },
   "outputs": [],
   "source": [
    "class Solution:\n",
    "    \"\"\"\n",
    "    @param: nums: a mountain sequence which increase firstly and then decrease\n",
    "    @return: then mountain top\n",
    "    \"\"\"\n",
    "    def mountainSequence(self, nums):\n",
    "        if len(nums) == 0: \n",
    "            return None\n",
    "        if len(nums) == 1:\n",
    "            return nums[0]\n",
    "        if len(nums) == 2:\n",
    "            return nums[0] if nums[0] > nums[1] else nums[1]\n",
    "    \n",
    "        start, end = 0, len(nums) - 1 \n",
    "        \n",
    "        while start + 1 < end:\n",
    "            mid = start + (end - start) // 2 \n",
    "            if nums[mid] < nums[mid+1]:\n",
    "                start = mid\n",
    "            elif nums[mid] > nums[mid+1]:\n",
    "                end = mid\n",
    "        if nums[start] > nums[end]:\n",
    "            return nums[start]\n",
    "        elif nums[start] < nums[end]:\n",
    "            return nums[end]\n",
    "        else:\n",
    "            return -1"
   ]
  },
  {
   "cell_type": "markdown",
   "metadata": {
    "colab_type": "text",
    "id": "UhM2GYzz3rpU"
   },
   "source": [
    "### 74. First Bad Version\n",
    "The code base version is an integer start from 1 to n. One day, someone committed a bad version in the code case, so it caused this version and the following versions are all failed in the unit tests. Find the first bad version.\n",
    "\n",
    "You can call isBadVersion to help you determine which version is the first bad one. The details interface can be found in the code's annotation part.\n",
    "```\n",
    "Example\n",
    "Given n = 5:\n",
    "\n",
    "isBadVersion(3) -> false\n",
    "isBadVersion(5) -> true\n",
    "isBadVersion(4) -> true\n",
    "Here we are 100% sure that the 4th version is the first bad version.\n",
    "\n",
    "Challenge\n",
    "You should call isBadVersion as few as possible.\n",
    "\n",
    "```"
   ]
  },
  {
   "cell_type": "code",
   "execution_count": 0,
   "metadata": {
    "colab": {},
    "colab_type": "code",
    "id": "z868kUJj32s3"
   },
   "outputs": [],
   "source": [
    "class SVNRepo:\n",
    "    @classmethod\n",
    "    def isBadVersion(cls, id):\n",
    "        pass\n",
    "        # Run unit tests to check whether verison `id` is a bad version\n",
    "        # return true if unit tests passed else false.\n",
    "# You can use SVNRepo.isBadVersion(10) to check whether version 10 is a \n",
    "# bad version.\n",
    "\n",
    "class Solution:\n",
    "    \"\"\"\n",
    "    @param n: An integers.\n",
    "    @return: An integer which is the first bad version.\n",
    "    \"\"\"\n",
    "    def findFirstBadVersion(self, n):\n",
    "        start, end = 1, n\n",
    "        while start + 1 < end:\n",
    "            mid = start + (end - start) // 2\n",
    "            if SVNRepo.isBadVersion(mid):\n",
    "                end = mid\n",
    "            else:\n",
    "                start = mid\n",
    "        if SVNRepo.isBadVersion(start):\n",
    "            return start\n",
    "        return end"
   ]
  },
  {
   "cell_type": "markdown",
   "metadata": {
    "colab_type": "text",
    "id": "LTbWxqcE-5h9"
   },
   "source": [
    "###75. Find Peak Element\n",
    "There is an integer array which has the following features:\n",
    "```\n",
    "The numbers in adjacent positions are different.\n",
    "A[0] < A[1] && A[A.length - 2] > A[A.length - 1].\n",
    "We define a position P is a peak if:\n",
    "\n",
    "A[P] > A[P-1] && A[P] > A[P+1]\n",
    "Find a peak element in this array. Return the index of the peak.\n",
    "\n",
    "Example\n",
    "Given [1, 2, 1, 3, 4, 5, 7, 6]\n",
    "\n",
    "Return index 1 (which is number 2) or 6 (which is number 7)\n",
    "\n",
    "Challenge\n",
    "Time complexity O(logN)\n",
    "```"
   ]
  },
  {
   "cell_type": "code",
   "execution_count": 0,
   "metadata": {
    "colab": {},
    "colab_type": "code",
    "id": "813gsL6YA0SG"
   },
   "outputs": [],
   "source": [
    "class Solution(object):\n",
    "    def findPeak(self, nums):\n",
    "        start, end = 0, len(nums) - 2 # prevent overlap\n",
    "        while start + 1 < end:\n",
    "            mid = start + (end - start) // 2\n",
    "\n",
    "            if nums[mid] < nums[mid + 1]:\n",
    "                 start = mid\n",
    "            else:\n",
    "                 end = mid\n",
    "        if nums[start] < nums[end]:\n",
    "            return end\n",
    "        else:\n",
    "            return start"
   ]
  },
  {
   "cell_type": "markdown",
   "metadata": {
    "colab_type": "text",
    "id": "CVi9lutj3JON"
   },
   "source": [
    "### 447. Search in a Big Sorted Array\n",
    "Given a big sorted array with positive integers sorted by ascending order. The array is so big so that you can not get the length of the whole array directly, and you can only access the kth number by ArrayReader.get(k) (or ArrayReader->get(k) for C++). Find the first index of a target number. Your algorithm should be in O(log k), where k is the first index of the target number.\n",
    "\n",
    "Return -1, if the number doesn't exist in the array.\n",
    "```\n",
    "Example\n",
    "Given [1, 3, 6, 9, 21, ...], and target = 3, return 1.\n",
    "\n",
    "Given [1, 3, 6, 9, 21, ...], and target = 4, return -1.\n",
    "\n",
    "Challenge\n",
    "O(log k), k is the first index of the given target number.\n",
    "```"
   ]
  },
  {
   "cell_type": "code",
   "execution_count": 0,
   "metadata": {
    "colab": {},
    "colab_type": "code",
    "id": "B2oT7WxA1JV9"
   },
   "outputs": [],
   "source": [
    "class Solution(object):\n",
    "    def searchBigSortedArray(self, reader, target):\n",
    "        start, end = 0, 1\n",
    "        while reader.get(end) < target:\n",
    "            end = 2 * end + 1\n",
    "        while start + 1 < end:\n",
    "            mid = start + (end - start) // 2      \n",
    "            if reader.get(mid) < target:\n",
    "                start = mid\n",
    "            elif reader.get(mid) >= target:\n",
    "                end = mid\n",
    "        if reader.get(start) == target:\n",
    "            return start\n",
    "        elif reader.get(end) == target:\n",
    "            return end\n",
    "        return -1 "
   ]
  },
  {
   "cell_type": "markdown",
   "metadata": {
    "colab_type": "text",
    "id": "lD_heWY73ZjB"
   },
   "source": [
    "### 159. Find Minimum in Rotated Sorted Array\n",
    "Suppose a sorted array is rotated at some pivot unknown to you beforehand.\n",
    "\n",
    "(i.e., 0 1 2 4 5 6 7 might become 4 5 6 7 0 1 2).\n",
    "\n",
    "Find the minimum element.\n",
    "```\n",
    "Example\n",
    "Given [4, 5, 6, 7, 0, 1, 2] return 0\n",
    "\n",
    "```"
   ]
  },
  {
   "cell_type": "code",
   "execution_count": 0,
   "metadata": {
    "colab": {},
    "colab_type": "code",
    "id": "IpJotTRZ1Dc9"
   },
   "outputs": [],
   "source": [
    "class Solution(object):\n",
    "    def findMin(self, nums) :\n",
    "        if len(nums) == 0:\n",
    "            return -1\n",
    "        start, end = 0, len(nums) - 1 \n",
    "        while start + 1 < end:\n",
    "            mid = start + (end - start) // 2 \n",
    "            if nums[mid] > nums[-1]:\n",
    "                start = mid\n",
    "            else:\n",
    "                end = mid\n",
    "        if nums[start] < nums[end]:\n",
    "            return nums[start]\n",
    "        else:\n",
    "            return nums[end]"
   ]
  },
  {
   "cell_type": "markdown",
   "metadata": {
    "colab_type": "text",
    "id": "MXqlaJ7GBoOH"
   },
   "source": [
    "### 62. Search in Rotated Sorted Array\n",
    "Suppose a sorted array is rotated at some pivot unknown to you beforehand.\n",
    "\n",
    "(i.e., 0 1 2 4 5 6 7 might become 4 5 6 7 0 1 2).\n",
    "\n",
    "You are given a target value to search. If found in the array return its index, otherwise return -1.\n",
    "\n",
    "You may assume no duplicate exists in the array.\n",
    "```\n",
    "Example\n",
    "For [4, 5, 1, 2, 3] and target=1, return 2.\n",
    "\n",
    "For [4, 5, 1, 2, 3] and target=0, return -1.\n",
    "\n",
    "Challenge\n",
    "O(logN) time\n",
    "\n",
    "```"
   ]
  },
  {
   "cell_type": "code",
   "execution_count": 0,
   "metadata": {
    "colab": {},
    "colab_type": "code",
    "id": "UNjkL2g1Bm2_"
   },
   "outputs": [],
   "source": [
    "class Solution:\n",
    "    \"\"\"\n",
    "    @param A : a list of integers\n",
    "    @param target : an integer to be searched\n",
    "    @return : an integer\n",
    "    \"\"\"\n",
    "    def search(self, A, target):\n",
    "        if A == None or len(A) == 0:\n",
    "            return -1\n",
    "        start, end = 0, len(A) - 1,\n",
    "        while start + 1 < end:\n",
    "            mid = start + (end - start) / 2\n",
    "            if A[mid] == target:\n",
    "                return mid\n",
    "            if A[start] < A[mid]:\n",
    "                if A[start] <= target <= A[mid]:\n",
    "                    end = mid\n",
    "                else:\n",
    "                    start = mid\n",
    "            else:\n",
    "                if A[mid] <= target <= A[end]:\n",
    "                    start = mid\n",
    "                else:\n",
    "                    end = mid\n",
    "        if A[start] == target:\n",
    "            return start\n",
    "        if A[end] == target:\n",
    "            return end\n",
    "        return -1"
   ]
  },
  {
   "cell_type": "markdown",
   "metadata": {
    "colab_type": "text",
    "id": "E3r1OStq5H_y"
   },
   "source": [
    "### 462. Total Occurrence of Target\n",
    "Given a target number and an integer array sorted in ascending order. Find the total number of occurrences of target in the array.\n",
    "```\n",
    "Example\n",
    "Given [1, 3, 3, 4, 5] and target = 3, return 2.\n",
    "\n",
    "Given [2, 2, 3, 4, 6] and target = 4, return 1.\n",
    "\n",
    "Given [1, 2, 3, 4, 5] and target = 6, return 0.\n",
    "\n",
    "Challenge\n",
    "Time complexity in O(logn)\n",
    "```"
   ]
  },
  {
   "cell_type": "code",
   "execution_count": 0,
   "metadata": {
    "colab": {},
    "colab_type": "code",
    "id": "l7HlAarr5KBE"
   },
   "outputs": [],
   "source": [
    "class Solution:\n",
    "    # param {int[]} A an integer array sorted in ascending order\n",
    "    # param {int} target an integer\n",
    "    # return {int} an integer\n",
    "    def totalOccurrence(self, A, target):\n",
    "        # Write your code here\n",
    "        if not A:\n",
    "            return 0\n",
    "\n",
    "        length = len(A)\n",
    "\n",
    "        start = 0\n",
    "        end = length - 1\n",
    "        while start + 1 < end:\n",
    "            mid = start + (end - start) / 2\n",
    "            if A[mid] < target:\n",
    "                start = mid\n",
    "            else:\n",
    "                end = mid\n",
    "        if A[start] == target:\n",
    "            head = start\n",
    "        elif A[end] == target:\n",
    "            head = end\n",
    "        else:\n",
    "            head = -1\n",
    "\n",
    "        start = head\n",
    "        end = length - 1\n",
    "        while start + 1 < end:\n",
    "            mid = start + (end - start) / 2\n",
    "            if A[mid] <= target:\n",
    "                start = mid\n",
    "            else:\n",
    "                end = mid\n",
    "        if A[end] == target:\n",
    "            tail = end\n",
    "        elif A[start] == target:\n",
    "            tail = start\n",
    "        else:\n",
    "            tail = -1\n",
    "\n",
    "        if head >= 0 and tail >= 0:\n",
    "            return tail - head + 1\n",
    "        else:\n",
    "            return 0"
   ]
  },
  {
   "cell_type": "markdown",
   "metadata": {
    "colab_type": "text",
    "id": "HRGc9jjW513S"
   },
   "source": [
    "### 14. First Position of Target\n",
    "For a given sorted array (ascending order) and a target number, find the first index of this number in O(log n) time complexity.\n",
    "\n",
    "If the target number does not exist in the array, return -1.\n",
    "```\n",
    "Example\n",
    "If the array is [1, 2, 3, 3, 4, 5, 10], for given target 3, return 2.\n",
    "\n",
    "Challenge\n",
    "If the count of numbers is bigger than 2^32, can your code work properly?\n",
    "```"
   ]
  },
  {
   "cell_type": "code",
   "execution_count": 0,
   "metadata": {
    "colab": {},
    "colab_type": "code",
    "id": "Do_9Qcm856hN"
   },
   "outputs": [],
   "source": [
    "class Solution:\n",
    "    # param nums: The integer array\n",
    "    # param target: Target number to find\n",
    "    # return the first position of target in nums, position start from 0 \n",
    "    def binarySearch(self, nums, target):\n",
    "        # write your code here\n",
    "        left, right = 0, len(nums)\n",
    "        while left + 1 < right :\n",
    "            mid = (left + right) / 2\n",
    "            if nums[mid] < target :\n",
    "                left = mid\n",
    "            else :\n",
    "                right = mid\n",
    "        if nums[left] == target :\n",
    "            return left\n",
    "        elif nums[right] == target :\n",
    "            return right\n",
    "        return -1;"
   ]
  },
  {
   "cell_type": "markdown",
   "metadata": {
    "colab_type": "text",
    "id": "81-mV2P_4UE7"
   },
   "source": [
    "### 28. Search a 2D Matrix\n",
    "Write an efficient algorithm that searches for a value in an m x n matrix.\n",
    "\n",
    "This matrix has the following properties:\n",
    "\n",
    "Integers in each row are sorted from left to right.\n",
    "The first integer of each row is greater than the last integer of the previous row.\n",
    "```\n",
    "Example\n",
    "Consider the following matrix:\n",
    "\n",
    "[\n",
    "    [1, 3, 5, 7],\n",
    "    [10, 11, 16, 20],\n",
    "    [23, 30, 34, 50]\n",
    "]\n",
    "Given target = 3, return true.\n",
    "\n",
    "Challenge\n",
    "O(log(n) + log(m)) time\n",
    " \n",
    "```"
   ]
  },
  {
   "cell_type": "code",
   "execution_count": 0,
   "metadata": {
    "colab": {},
    "colab_type": "code",
    "id": "CtuGSELy4zIh"
   },
   "outputs": [],
   "source": [
    "class Solution:\n",
    "    \"\"\"\n",
    "    @param matrix, a list of lists of integers\n",
    "    @param target, an integer\n",
    "    @return a boolean, indicate whether matrix contains target\n",
    "    \"\"\"\n",
    "\n",
    "    def searchMatrix(self, matrix, target):\n",
    "        if len(matrix) == 0:\n",
    "            return False\n",
    "        row_start, row_end = 0, len(matrix) - 1\n",
    "        \n",
    "        while row_start + 1 < row_end:\n",
    "            row_mid = row_start + (row_end - row_start) // 2\n",
    "            if matrix[row_mid][0] == target:\n",
    "                return True\n",
    "            elif matrix[row_mid][0] < target:\n",
    "                row_start = row_mid\n",
    "            elif matrix[row_mid][0] > target:\n",
    "                row_end = row_mid\n",
    "\n",
    "        if self.searchRow(matrix[row_start], target) or self.searchRow(matrix[row_end], target):\n",
    "            return True\n",
    "\n",
    "        return False\n",
    "\n",
    "    def searchRow(self, nums, target):\n",
    "        start, end = 0, len(nums) - 1\n",
    "        while start + 1 < end:\n",
    "            mid = start + (end - start) // 2\n",
    "            if nums[mid] == target:\n",
    "                return True\n",
    "            elif nums[mid] < target:\n",
    "                start = mid\n",
    "            else:\n",
    "                end = mid\n",
    "        if nums[start] == target or nums[end] == target:\n",
    "            return True\n",
    "        return False"
   ]
  },
  {
   "cell_type": "markdown",
   "metadata": {
    "colab_type": "text",
    "id": "SsA6KxiY6fBs"
   },
   "source": [
    "### 38. Search a 2D Matrix II\n",
    "Write an efficient algorithm that searches for a value in an m x n matrix, return the occurrence of it.\n",
    "\n",
    "This matrix has the following properties:\n",
    "\n",
    "Integers in each row are sorted from left to right.\n",
    "Integers in each column are sorted from up to bottom.\n",
    "No duplicate integers in each row or column.\n",
    "```\n",
    "Example\n",
    "Consider the following matrix:\n",
    "\n",
    "[\n",
    "  [1, 3, 5, 7],\n",
    "  [2, 4, 7, 8],\n",
    "  [3, 5, 9, 10]\n",
    "]\n",
    "Given target = 3, return 2.\n",
    "\n",
    "Challenge\n",
    "O(m+n) time and O(1) extra space\n",
    "```"
   ]
  },
  {
   "cell_type": "code",
   "execution_count": 0,
   "metadata": {
    "colab": {},
    "colab_type": "code",
    "id": "H6uJI8lV6iC5"
   },
   "outputs": [],
   "source": [
    "class Solution:\n",
    "    \"\"\"\n",
    "    @param matrix: An list of lists of integers\n",
    "    @param target: An integer you want to search in matrix\n",
    "    @return: An integer indicates the total occurrence of target in the given matrix\n",
    "    \"\"\"\n",
    "    def searchMatrix(self, matrix, target):\n",
    "        if matrix == [] or matrix[0] == []:\n",
    "            return 0\n",
    "            \n",
    "        row, column = len(matrix), len(matrix[0])\n",
    "        i, j = row - 1, 0\n",
    "        count = 0\n",
    "        while i >= 0 and j < column:\n",
    "            if matrix[i][j] == target:\n",
    "                count += 1\n",
    "                i -= 1\n",
    "                j += 1\n",
    "            elif matrix[i][j] < target:\n",
    "                j += 1\n",
    "            elif matrix[i][j] > target:\n",
    "                i -= 1\n",
    "        return count"
   ]
  },
  {
   "cell_type": "code",
   "execution_count": 0,
   "metadata": {
    "colab": {
     "base_uri": "https://localhost:8080/",
     "height": 34
    },
    "colab_type": "code",
    "id": "ZXqZZWqGzEK2",
    "outputId": "fa9f7f2c-5e1d-4236-c336-fa3187932cce"
   },
   "outputs": [
    {
     "name": "stdout",
     "output_type": "stream",
     "text": [
      "3\n"
     ]
    }
   ],
   "source": [
    "class Solution(object):\n",
    "    def searchMatrix(self, A, target):\n",
    "        if len(A) == 0 or len(A[0]) == 0:\n",
    "            return 0\n",
    "        m, n = len(A), len(A[0])\n",
    "        self.ans = set()\n",
    "        self.search(0, 0, m-1, n-1, A, target)\n",
    "        return len(self.ans)\n",
    "\n",
    "    def search(self, x1, y1, x2, y2, A, target):\n",
    "\n",
    "        if not (0 <= x1 <= x2 < len(A)):\n",
    "            return\n",
    "        if not (0 <= y1 <= y2 < len(A[0])):\n",
    "            return\n",
    "\n",
    "        #print array(A)[x1:x2 + 1, y1:y2 + 1]\n",
    "\n",
    "        if x1 + 1 >= x2 and y1 + 1 >= y2:\n",
    "            for x in range(x1, x2+1):\n",
    "                for y in range(y1, y2+1):\n",
    "                    if A[x][y] == target:\n",
    "                        self.ans.add((x, y))\n",
    "\n",
    "            return\n",
    "\n",
    "        mx = (x1 + x2) / 2\n",
    "        my = (y1 + y2) / 2\n",
    "\n",
    "\n",
    "        if A[mx][my] == target:\n",
    "            self.ans.add((mx, my))\n",
    "            self.search(x1, my+1, mx-1, y2, A, target)\n",
    "            self.search(mx+1, y1, x2, my-1, A, target)\n",
    "\n",
    "        elif A[mx][my] > target:\n",
    "            self.search(x1, y1, mx, my, A, target)\n",
    "            self.search(x1, my+1, mx-1, y2, A, target)\n",
    "            self.search(mx+1, y1, x2, my-1, A, target)\n",
    "\n",
    "        elif A[mx][my] < target:\n",
    "            self.search(mx, my, x2, y2, A, target)\n",
    "            self.search(x1, my+1, mx-1, y2, A, target)\n",
    "            self.search(mx+1, y1, x2, my-1, A, target)\n",
    "            \n",
    "            \n",
    "            \n",
    "            \n",
    "if __name__ == \"__main__\":\n",
    "    s = Solution()\n",
    "    print s.searchMatrix([[1,2,3,4,5],[2,3,4,5,6],[3,4,5,6,7],[6,7,8,9,10]], 5)"
   ]
  },
  {
   "cell_type": "markdown",
   "metadata": {
    "colab_type": "text",
    "id": "2j90jT6XXN6n"
   },
   "source": [
    "### 28. Search a 2D Matrix III\n",
    "Write an efficient algorithm that searches for a value in an m x n matrix.\n",
    "\n",
    "This matrix has the following properties:\n",
    "\n",
    "Integers in each row are sorted from left to right.\n",
    "The first integer of each row is not necessarilly larger than the last integer of the previous row.\n",
    "```\n",
    "Example\n",
    "Consider the following matrix:\n",
    "\n",
    "[\n",
    "    [1, 3, 5, 7],\n",
    "    [6, 10, 11, 12],\n",
    "    [10, 11, 12, 13]\n",
    "]\n",
    "Given target = 11, return the position.\n",
    "\n",
    "Challenge\n",
    "O(log(n) + log(m)) time\n",
    " \n",
    "```"
   ]
  },
  {
   "cell_type": "code",
   "execution_count": 0,
   "metadata": {
    "colab": {
     "base_uri": "https://localhost:8080/",
     "height": 34
    },
    "colab_type": "code",
    "id": "zHupLsXaOUKD",
    "outputId": "c06025c3-79d6-4b76-cdb7-2513b0f2eb6d"
   },
   "outputs": [
    {
     "name": "stdout",
     "output_type": "stream",
     "text": [
      "2\n"
     ]
    }
   ],
   "source": [
    "class Solution:\n",
    "    \"\"\"\n",
    "    @param matrix: A list of lists of integers\n",
    "    @param target: An integer you want to search in matrix\n",
    "    @return: An integer indicate the total occurrence of target in the given matrix\n",
    "    \"\"\"\n",
    "    def searchMatrix(self, A, target):\n",
    "        if not A or not A[0]:\n",
    "            return -1\n",
    "        \n",
    "        m, n = len(A), len(A[0])\n",
    "        i, j = 0, n-1\n",
    "        count = 0\n",
    "        while i < m and j >= 0:\n",
    "            if A[i][j] < target:\n",
    "                i += 1 \n",
    "            elif A[i][j] > target:\n",
    "                j -= 1\n",
    "            else:\n",
    "                i += 1\n",
    "                j -= 1\n",
    "                count += 1\n",
    "        return count \n",
    "\n",
    "if __name__ == \"__main__\":\n",
    "    s = Solution()\n",
    "    print s.searchMatrix([[1, 3, 5, 7],\n",
    "                          [2, 4, 7, 8],\n",
    "                          [3, 5, 9, 10]],3)"
   ]
  },
  {
   "cell_type": "markdown",
   "metadata": {
    "colab_type": "text",
    "id": "UuPxxIyd6XOD"
   },
   "source": [
    "### 61. Search for a Range\n",
    "Given a sorted array of n integers, find the starting and ending position of a given target value.\n",
    "\n",
    "If the target is not found in the array, return [-1, -1].\n",
    "```\n",
    "Example\n",
    "Given [5, 7, 7, 8, 8, 10] and target value 8,\n",
    "return [3, 4].\n",
    "\n",
    "Challenge\n",
    "O(log n) time.\n",
    "```"
   ]
  },
  {
   "cell_type": "code",
   "execution_count": 0,
   "metadata": {
    "colab": {},
    "colab_type": "code",
    "id": "Djo5rUtJ6Z0s"
   },
   "outputs": [],
   "source": [
    "class Solution:\n",
    "    \"\"\"\n",
    "    @param A : a list of integers\n",
    "    @param target : an integer to be searched\n",
    "    @return : a list of length 2, [index1, index2]\n",
    "    \"\"\"\n",
    "    def searchRange(self, A, target):\n",
    "        try:\n",
    "            pos = A.index(target)\n",
    "        except:\n",
    "            return [-1,-1]\n",
    "        res = [pos]\n",
    "        for i in range(pos + 1,len(A)):\n",
    "            if A[pos] == A[pos + 1]:\n",
    "                pos += 1\n",
    "            else:\n",
    "                break\n",
    "        res.append(pos)\n",
    "        return res\n",
    "        \n",
    "        "
   ]
  },
  {
   "cell_type": "markdown",
   "metadata": {
    "colab_type": "text",
    "id": "wjhBDAN35O7s"
   },
   "source": [
    "### 459. Closest Number in Sorted Array\n",
    "Given a target number and an integer array A sorted in ascending order, find the index i in A such that A[i] is closest to the given target.\n",
    "\n",
    "Return -1 if there is no element in the array.\n",
    "```\n",
    "Example\n",
    "Given [1, 2, 3] and target = 2, return 1.\n",
    "\n",
    "Given [1, 4, 6] and target = 3, return 1.\n",
    "\n",
    "Given [1, 4, 6] and target = 5, return 1 or 2.\n",
    "\n",
    "Given [1, 3, 3, 4] and target = 2, return 0 or 1 or 2.\n",
    "\n",
    "Challenge\n",
    "O(logn) time complexity.\n",
    "```"
   ]
  },
  {
   "cell_type": "code",
   "execution_count": 0,
   "metadata": {
    "colab": {},
    "colab_type": "code",
    "id": "1j84paxN5Skc"
   },
   "outputs": [],
   "source": [
    "class Solution:\n",
    "    def closestNumber(self, A, target):\n",
    "        nums = A\n",
    "        start, end = 0, len(nums) - 1\n",
    "        while start + 1 < end:\n",
    "            mid = start + (end - start) // 2 \n",
    "            if nums[mid] == target:\n",
    "                return mid\n",
    "            elif nums[mid] > target:\n",
    "                end = mid\n",
    "            elif nums[mid] < target:\n",
    "                start = mid\n",
    "        if A[end] - target < target - A[start]:\n",
    "            return end\n",
    "        else:\n",
    "            return start\n"
   ]
  },
  {
   "cell_type": "markdown",
   "metadata": {
    "colab_type": "text",
    "id": "oGzHqcQI5VC7"
   },
   "source": [
    "### 254. Drop Eggs\n",
    "There is a building of n floors. If an egg drops from the k th floor or above, it will break. If it's dropped from any floor below, it will not break.\n",
    "\n",
    "You're given two eggs, Find k while minimize the number of drops for the worst case. Return the number of drops in the worst case.\n",
    "```\n",
    "Example\n",
    "Given n = 10, return 4.\n",
    "Given n = 100, return 14.\n",
    "```"
   ]
  },
  {
   "cell_type": "code",
   "execution_count": 0,
   "metadata": {
    "colab": {},
    "colab_type": "code",
    "id": "3CagoFO_5Wvk"
   },
   "outputs": [],
   "source": [
    "import math\n",
    "class Solution(object):\n",
    "    def dropEggs(self, n):\n",
    "        return int(math.ceil((math.sqrt(8*n+1)-1)/2))"
   ]
  },
  {
   "cell_type": "markdown",
   "metadata": {
    "colab_type": "text",
    "id": "e_x-zxOx5dda"
   },
   "source": [
    "### 584. Drop Eggs II\n",
    "There is a building of n floors. If an egg drops from the k th floor or above, it will break. If it's dropped from any floor below, it will not break.\n",
    "\n",
    "You're given m eggs, Find k while minimize the number of drops for the worst case. Return the number of drops in the worst case.\n",
    "\n",
    "Example\n",
    "Given m = 2, n = 100 return 14\n",
    "Given m = 2, n = 36 return 8"
   ]
  },
  {
   "cell_type": "code",
   "execution_count": 0,
   "metadata": {
    "colab": {},
    "colab_type": "code",
    "id": "MJneE3k05czU"
   },
   "outputs": [],
   "source": [
    "class Solution(object):\n",
    "    def dropEggs2(self, m, n):\n",
    "        maxint = 65535\n",
    "        f = [[maxint for j in range(n+1)]\n",
    "                      for i in range(m+1)]\n",
    "        f[1][1] = 1\n",
    "        for i in range(1, m+1):\n",
    "            f[i][1] = 1\n",
    "\n",
    "        for j in range(1, n+1):\n",
    "            f[1][j] = j\n",
    "\n",
    "        for i in range(2, m+1):\n",
    "            for j in range(2, n+1):\n",
    "                for k in range(2, j):\n",
    "                    f[i][j] = min(f[i][j], 1 + max(f[i-1][k-1], f[i][j-k]))\n",
    "                    #print i, j, k, f[i][j]\n",
    "        return f[m][n]"
   ]
  },
  {
   "cell_type": "markdown",
   "metadata": {
    "colab_type": "text",
    "id": "UbZz3EB67rFk"
   },
   "source": [
    "## Check"
   ]
  },
  {
   "cell_type": "markdown",
   "metadata": {
    "colab_type": "text",
    "id": "o-ejMEPU_Jz1"
   },
   "source": [
    "### 437. Copy Books\n",
    "Given n books and the ith book has A[i] pages. You are given k people to copy the n books.\n",
    "\n",
    "n books list in a row and each person can claim a continous range of the n books. For example one copier can copy the books from ith to jth continously, but he can not copy the 1st book, 2nd book and 4th book (without 3rd book).\n",
    "\n",
    "They start copying books at the same time and they all cost 1 minute to copy 1 page of a book. What's the best strategy to assign books so that the slowest copier can finish at earliest time?\n",
    "\n",
    "Example\n",
    "Given array A = [3,2,4], k = 2.\n",
    "\n",
    "Return 5( First person spends 5 minutes to copy book 1 and book 2 and second person spends 4 minutes to copy book 3. )\n",
    "```"
   ]
  },
  {
   "cell_type": "code",
   "execution_count": 0,
   "metadata": {
    "colab": {},
    "colab_type": "code",
    "id": "l7GqxHNi7TMt"
   },
   "outputs": [],
   "source": [
    "from sys import maxsize\n",
    "class Solution:\n",
    "    \"\"\"\n",
    "    @param pages: an array of integers\n",
    "    @param k: An integer\n",
    "    @return: an integer\n",
    "    \"\"\"\n",
    "    def copyBooks(self, pages, k):\n",
    "\n",
    "        def check(mid): # if mid is large enough to make k people finish their work before mid\n",
    "            page_left = num = 0 \n",
    "            for page in pages:\n",
    "                if page > mid:\n",
    "                    return False\n",
    "                if page > page_left:\n",
    "                    page_left = mid \n",
    "                    num += 1 \n",
    "                if page <= page_left:\n",
    "                    page_left -= page\n",
    "            return num <= k \n",
    "        \n",
    "        start, end = 0, maxsize\n",
    "        while start + 1 < end:\n",
    "            mid = start + (end - start) / 2 \n",
    "            if check(mid):\n",
    "                end = mid\n",
    "            else:\n",
    "                start = mid\n",
    "        \n",
    "        if check(start): # start is large enough \n",
    "            return start\n",
    "        return end"
   ]
  },
  {
   "cell_type": "markdown",
   "metadata": {
    "colab_type": "text",
    "id": "4CkMuhgX_OGL"
   },
   "source": [
    "### 183. Wood Cut\n",
    "Given n pieces of wood with length L[i] (integer array). Cut them into small pieces to guarantee you could have equal or more than k pieces with the same length. What is the longest length you can get from the n pieces of wood? Given L & k, return the maximum length of the small pieces.\n",
    "```\n",
    "Example\n",
    "For L=[232, 124, 456], k=7, return 114.\n",
    "\n",
    "Challenge\n",
    "O(n log Len), where Len is the longest length of the wood.\n",
    "```"
   ]
  },
  {
   "cell_type": "code",
   "execution_count": 0,
   "metadata": {
    "colab": {},
    "colab_type": "code",
    "id": "jL_9KStj_Shm"
   },
   "outputs": [],
   "source": [
    "class Solution:\n",
    "    \"\"\"\n",
    "    @param L: Given n pieces of wood with length L[i]\n",
    "    @param k: An integer\n",
    "    @return: The maximum length of the small pieces\n",
    "    \"\"\"\n",
    "    def woodCut(self, L, k):\n",
    "        if L == []:\n",
    "            return 0 \n",
    "        start, end = 0, max(L)\n",
    "        while start + 1 < end:\n",
    "            mid = start + (end - start) // 2\n",
    "            if self.check(mid, L, k):\n",
    "                start = mid\n",
    "            else:\n",
    "                end = mid\n",
    "        if self.check(end, L, k):\n",
    "            return end\n",
    "        return start\n",
    "\n",
    "    def check(self, mid, L, k):# check if mid is smal enough to make more than k woods\n",
    "        num = 0\n",
    "        for wood in L:\n",
    "            num += wood // mid\n",
    "        return num >= k"
   ]
  },
  {
   "cell_type": "markdown",
   "metadata": {
    "colab_type": "text",
    "id": "ljJZmr_xqi_U"
   },
   "source": [
    "### Maximum Average Subarray II\n",
    "Given an array with positive and negative numbers, find the maximum average subarray which length should be greater or equal to given length k.\n",
    "\n",
    "```\n",
    "Example\n",
    "Given nums = [1, 12, -5, -6, 50, 3], k = 3\n",
    "\n",
    "Return 15.667 // (-6 + 50 + 3) / 3 = 15.667\n",
    "```\n",
    "\n",
    "我们建立一个累加和数组sums，然后求出原数组中最小值赋给left，最大值赋给right，题目中说了误差是1e-5，所以我们的循环条件就是right比left大1e-5，然后我们算出来mid，定义一个minSum初始化为0，布尔型变量check，初始化为false。然后开始遍历数组，先更新累加和数组sums，注意这个累加和数组不是原始数字的累加，而是它们和mid相减的差值累加。我们的目标是找长度大于等于k的子数组的平均值大于mid，由于我们每个数组都减去了mid，那么就转换为找长度大于等于k的子数组的差累积值大于0。我们建立差值累加数组的意义就在于通过sums[i] - sums[j]来快速算出j和i位置中间数字之和，那么我们只要j和i中间正好差k个数字即可，然后minSum就是用来保存j位置之前的子数组差累积的最小值，所以当i >= k时，我们用sums[i - k]来更新minSum，这里的i - k就是j的位置，然后判断如果sums[i] - minSum > 0了，说明我们找到了一段长度大于等k的子数组平均值大于mid了，就可以更新left为mid了，我们标记check为true，并退出循环。在for循环外面，当check为true的时候，left更新为mid，否则right更新为mid，参见代码如下："
   ]
  },
  {
   "cell_type": "code",
   "execution_count": 0,
   "metadata": {
    "colab": {
     "base_uri": "https://localhost:8080/",
     "height": 34
    },
    "colab_type": "code",
    "id": "cHQ0Oi4eqiUH",
    "outputId": "2807ab6a-ce5e-4616-bfe5-78079ba9235c"
   },
   "outputs": [
    {
     "name": "stdout",
     "output_type": "stream",
     "text": [
      "3.4999961853\n"
     ]
    }
   ],
   "source": [
    "class Solution:\n",
    "    \"\"\"\n",
    "    @param: nums: an array with positive and negative numbers\n",
    "    @param: k: an integer\n",
    "    @return: the maximum average\n",
    "    \"\"\"\n",
    "    def maxAverage(self, nums, k):\n",
    "        left = min(nums) * 1.0\n",
    "        right = max(nums)\n",
    "        eps = 1e-5\n",
    "        csum = [0 for i in range(len(nums)+1)]\n",
    "        min_pre = [0 for i in range(len(nums)+1)]\n",
    "        \n",
    "        def check(mid):\n",
    "            csum[0] = 0.0\n",
    "            min_pre[0] = 0.0\n",
    "          \n",
    "            for i in range(1, len(nums)+1):\n",
    "                csum[i] = csum[i-1] + nums[i-1] - mid\n",
    "                min_pre[i] = min(min_pre[i-1], csum[i])\n",
    "            \n",
    "            if i >= k and csum[i] - min_pre[i-k] >= 0:\n",
    "                return True\n",
    "            return False\n",
    "        \n",
    "        while left + eps < right:\n",
    "            mid = left + (right -left)/2\n",
    "            if check(mid):\n",
    "                left = mid\n",
    "            else:\n",
    "                right = mid\n",
    "        \n",
    "        return left\n",
    "      \n",
    "if __name__ == \"__main__\":\n",
    "    print Solution().maxAverage([1,2,3,4], 2)"
   ]
  },
  {
   "cell_type": "markdown",
   "metadata": {
    "colab_type": "text",
    "id": "2eUwVTsKjTIB"
   },
   "source": [
    "### Maximum Average Subarray III\n",
    "Given an array with positive and negative numbers, find the maximum average subarray which length should be [k1, k2].\n",
    "\n",
    "```\n",
    "Example\n",
    "Given nums = [1, 12, -5, -6, 50, 3], k = 3\n",
    "\n",
    "Return 15.667 // (-6 + 50 + 3) / 3 = 15.667\n",
    "```"
   ]
  },
  {
   "cell_type": "markdown",
   "metadata": {
    "colab_type": "text",
    "id": "TbT7k2d36y_E"
   },
   "source": [
    "### 600. Smallest Rectangle Enclosing Black Pixels\n",
    "An image is represented by a binary matrix with 0 as a white pixel and 1 as a black pixel. The black pixels are connected, i.e., there is only one black region. Pixels are connected horizontally and vertically. Given the location (x, y) of one of the black pixels, return the area of the smallest (axis-aligned) rectangle that encloses all black pixels.\n",
    "```\n",
    "Example\n",
    "For example, given the following image:\n",
    "\n",
    "[\n",
    "  \"0010\",\n",
    "  \"0110\",\n",
    "  \"0100\"\n",
    "]\n",
    "and x = 0, y = 2,\n",
    "Return 6.\n",
    "```"
   ]
  },
  {
   "cell_type": "code",
   "execution_count": 0,
   "metadata": {
    "colab": {},
    "colab_type": "code",
    "id": "JsEH3yrL65Oc"
   },
   "outputs": [],
   "source": [
    "class Solution(object):\n",
    "    # param image {List[List[str]]}  a binary matrix with '0' and '1'\n",
    "    # param x, y {int} the location of one of the black pixels\n",
    "    # return an integer\n",
    "\n",
    "    def minArea(self, image, x, y):\n",
    "        m = len(image)\n",
    "        if m == 0:\n",
    "            return 0\n",
    "        n = len(image[0])\n",
    "        if n == 0:\n",
    "            return 0\n",
    "\n",
    "        # search left\n",
    "        start, end = 0, y\n",
    "        while start + 1 < end:\n",
    "            mid = start + (end - start) // 2\n",
    "            if self.checkCol(image, mid):\n",
    "                end = mid\n",
    "            else:\n",
    "                start = mid\n",
    "        left = start if self.checkCol(image, start) else end\n",
    " \n",
    "        # search right\n",
    "        start, end = y, len(image[0]) - 1\n",
    "        while start + 1 < end:\n",
    "            mid = start + (end - start) // 2\n",
    "            if self.checkCol(image, mid):\n",
    "                start = mid\n",
    "            else:\n",
    "                end = mid\n",
    "        right = end if self.checkCol(image, end) else start\n",
    "\n",
    "        start, end = 0, x\n",
    "        while start + 1 < end:\n",
    "            mid = start + (end - start) // 2\n",
    "            if self.checkRow(image, mid):\n",
    "                end = mid\n",
    "            else:\n",
    "                start = mid\n",
    "\n",
    "        up = start if self.checkRow(image, start) else end\n",
    "\n",
    "        start, end = x, len(image) - 1\n",
    "        while start + 1 < end:\n",
    "            mid = start + (end - start) // 2\n",
    "            if self.checkRow(image, mid):\n",
    "                start = mid\n",
    "            else:\n",
    "                end = mid\n",
    "        down = end if self.checkRow(image, end) else start\n",
    "        \n",
    "        return (right - left + 1) * (down - up + 1)\n",
    "\n",
    "    def checkCol(self, image, col):\n",
    "        for i in range(len(image)):\n",
    "            if image[i][col] == '1':\n",
    "                return True\n",
    "        return False\n",
    "\n",
    "    def checkRow(self, image, row):\n",
    "        for j in range(len(image[0])):\n",
    "            if image[row][j] == '1':\n",
    "                return True\n",
    "        return False"
   ]
  },
  {
   "cell_type": "markdown",
   "metadata": {
    "colab_type": "text",
    "id": "L3MlSRnY3HZW"
   },
   "source": [
    "## Swipe Line "
   ]
  },
  {
   "cell_type": "markdown",
   "metadata": {
    "colab_type": "text",
    "id": "8Dtpkgcs3QBF"
   },
   "source": [
    "### 919. Meeting Rooms II\n",
    "Given an array of meeting time intervals consisting of start and end times [[s1,e1],[s2,e2],...] (si < ei), find the minimum number of conference rooms required.\n",
    "```\n",
    "Example\n",
    "Given intervals = [(0,30),(5,10),(15,20)], return 2.\n",
    "```\n",
    "\n",
    "按开始时间正排序，结束时间逆排序，然后扫描"
   ]
  },
  {
   "cell_type": "code",
   "execution_count": 0,
   "metadata": {
    "colab": {
     "base_uri": "https://localhost:8080/",
     "height": 34
    },
    "colab_type": "code",
    "id": "tLCNFPE33Jf9",
    "outputId": "16b601d4-596f-41df-fc59-11dfb7cc1cf0"
   },
   "outputs": [
    {
     "name": "stdout",
     "output_type": "stream",
     "text": [
      "2\n"
     ]
    }
   ],
   "source": [
    "class Interval(object):\n",
    "    def __init__(self, start, end):\n",
    "        self.start = start\n",
    "        self.end = end\n",
    "\n",
    "\n",
    "class Solution:\n",
    "    \"\"\"\n",
    "    @param intervals: an array of meeting time intervals\n",
    "    @return: the minimum number of conference rooms required\n",
    "    \"\"\"\n",
    "    def minMeetingRooms(self, intervals):\n",
    "        points = [] \n",
    "        for inv in intervals:\n",
    "            points.append((inv.start, 1))\n",
    "            points.append((inv.end, -1))\n",
    "        \n",
    "        on_going_meetings = 0 \n",
    "        max_rooms = 0 \n",
    "        \n",
    "        for _, delta in sorted(points):\n",
    "            on_going_meetings += delta\n",
    "            max_rooms = max(max_rooms, on_going_meetings)\n",
    "        \n",
    "        return max_rooms\n",
    "    \n",
    "if __name__ == \"__main__\":\n",
    "    s = Solution()\n",
    "    print s.minMeetingRooms([Interval(0,30), Interval(5,10), Interval(15, 20)])\n"
   ]
  },
  {
   "cell_type": "markdown",
   "metadata": {
    "colab_type": "text",
    "id": "zAKfRQ6kDM-G"
   },
   "source": [
    "### 迷离傍地走\n",
    "\n",
    "\n",
    "为庆祝强汉文武盛世暨废除和亲七百周年，武后决定拜孙武和王翦对春夏秋冬四官细君、昭君、探春、文成做军事训练。\n",
    "孙武和王翦分别负责四官的站军姿和踢正步科目。根据军训要求，只有在学会站军姿之后才能进行踢正步训练。由于四官天资差别，学习时间如下表。\n",
    "\n",
    "\n",
    "\n",
    "![alt text](https://img-blog.csdn.net/20160923143148625)\n",
    "\n"
   ]
  },
  {
   "cell_type": "code",
   "execution_count": 0,
   "metadata": {
    "colab": {
     "base_uri": "https://localhost:8080/",
     "height": 50
    },
    "colab_type": "code",
    "id": "Zzt-G24rEnGU",
    "outputId": "9df134cb-9ceb-4044-a9e7-55879799a728"
   },
   "outputs": [
    {
     "name": "stdout",
     "output_type": "stream",
     "text": [
      "[(4, 12), (2, 3), (8, 3), (6, 1)]\n",
      "21\n"
     ]
    }
   ],
   "source": [
    "class Solution(object):\n",
    "    def least_time(self, intervals):\n",
    "        intervals.sort(key = lambda x: (-x[1], x[0]))\n",
    "        time1 = time2 = 0 \n",
    "        print intervals\n",
    "        for inv in intervals:\n",
    "            item1, item2 = inv\n",
    "            if time1 + item1 <= time2 + item2:\n",
    "                time1 += item1 \n",
    "                time2 += item2\n",
    "            else:\n",
    "                time1 += item1\n",
    "                time2 = time1 + item2\n",
    "                \n",
    "        \n",
    "        return time2\n",
    "    \n",
    "    \n",
    "if __name__ == \"__main__\":\n",
    "    s = Solution()\n",
    "    invs = [(8,3), (6,1), (2,3), (4,12)]\n",
    "    print(s.least_time(invs))\n",
    "            \n",
    "            "
   ]
  }
 ],
 "metadata": {
  "accelerator": "GPU",
  "colab": {
   "collapsed_sections": [],
   "include_colab_link": true,
   "name": "Ch01 Binary Search",
   "provenance": [],
   "toc_visible": true,
   "version": "0.3.2"
  },
  "kernelspec": {
   "display_name": "py27",
   "language": "python",
   "name": "py27"
  },
  "language_info": {
   "codemirror_mode": {
    "name": "ipython",
    "version": 2
   },
   "file_extension": ".py",
   "mimetype": "text/x-python",
   "name": "python",
   "nbconvert_exporter": "python",
   "pygments_lexer": "ipython2",
   "version": "2.7.15"
  },
  "toc": {
   "base_numbering": 1,
   "nav_menu": {},
   "number_sections": true,
   "sideBar": true,
   "skip_h1_title": false,
   "title_cell": "Table of Contents",
   "title_sidebar": "Contents",
   "toc_cell": false,
   "toc_position": {
    "height": "calc(100% - 180px)",
    "left": "10px",
    "top": "150px",
    "width": "213.705px"
   },
   "toc_section_display": true,
   "toc_window_display": true
  }
 },
 "nbformat": 4,
 "nbformat_minor": 1
}
