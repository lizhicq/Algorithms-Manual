{
 "cells": [
  {
   "cell_type": "markdown",
   "metadata": {},
   "source": [
    "### Strings Strings Strings "
   ]
  },
  {
   "cell_type": "code",
   "execution_count": 4,
   "metadata": {},
   "outputs": [],
   "source": [
    "#!/bin/python3\n",
    "\n",
    "import math\n",
    "import os\n",
    "import random\n",
    "import re\n",
    "import sys\n",
    "\n",
    "\n",
    "\n",
    "#\n",
    "# Complete the 'LengthOfShortestSubstring' function below.\n",
    "#\n",
    "# The function is expected to return an INTEGER.\n",
    "# The function accepts STRING myString as parameter.\n",
    "#\n",
    "\n",
    "from collections import Counter\n",
    "def LengthOfShortestSubstring(myString):\n",
    "    # mapt \n",
    "    mapt = Counter(set(myString))\n",
    "    count = len(mapt)\n",
    "    left = right = 0\n",
    "    dis = float('inf')\n",
    "\n",
    "    while right < len(myString):\n",
    "        if mapt[myString[right]] > 0:\n",
    "            count -= 1\n",
    "        mapt[myString[right]] -= 1\n",
    "        right += 1\n",
    "\n",
    "        while count == 0:\n",
    "            if right - left < dis:\n",
    "                dis = right - left\n",
    "            if mapt[myString[left]] == 0:\n",
    "                count += 1\n",
    "            mapt[myString[left]] += 1\n",
    "            left += 1\n",
    "\n",
    "    return dis\n",
    "\n",
    "if __name__ == '__main__':"
   ]
  },
  {
   "cell_type": "markdown",
   "metadata": {},
   "source": [
    "### Implement Partial Function in Java"
   ]
  },
  {
   "cell_type": "code",
   "execution_count": null,
   "metadata": {},
   "outputs": [],
   "source": [
    "public class Example {\n",
    "    public static int add(int x, int y) {\n",
    "        return x + y;\n",
    "    }\n",
    "\n",
    "    public static <T, U, R> Function<U, R> partial(BiFunction<T, U, R> f, T x) {\n",
    "        return (y) -> f.apply(x, y);\n",
    "    }\n",
    "\n",
    "    public static void main(String[] args) {\n",
    "        Function<Integer, Integer> adder = partial(Example::add, 5);\n",
    "        System.out.println(adder.apply(2)); // 7\n",
    "    }\n",
    "}"
   ]
  },
  {
   "cell_type": "code",
   "execution_count": null,
   "metadata": {},
   "outputs": [],
   "source": []
  },
  {
   "cell_type": "code",
   "execution_count": null,
   "metadata": {},
   "outputs": [],
   "source": []
  },
  {
   "cell_type": "code",
   "execution_count": null,
   "metadata": {},
   "outputs": [],
   "source": []
  },
  {
   "cell_type": "code",
   "execution_count": null,
   "metadata": {},
   "outputs": [],
   "source": []
  },
  {
   "cell_type": "code",
   "execution_count": null,
   "metadata": {},
   "outputs": [],
   "source": []
  },
  {
   "cell_type": "code",
   "execution_count": null,
   "metadata": {},
   "outputs": [],
   "source": []
  },
  {
   "cell_type": "code",
   "execution_count": null,
   "metadata": {},
   "outputs": [],
   "source": []
  },
  {
   "cell_type": "code",
   "execution_count": null,
   "metadata": {},
   "outputs": [],
   "source": []
  },
  {
   "cell_type": "code",
   "execution_count": null,
   "metadata": {},
   "outputs": [],
   "source": []
  },
  {
   "cell_type": "code",
   "execution_count": null,
   "metadata": {},
   "outputs": [],
   "source": []
  },
  {
   "cell_type": "code",
   "execution_count": null,
   "metadata": {},
   "outputs": [],
   "source": []
  },
  {
   "cell_type": "code",
   "execution_count": null,
   "metadata": {},
   "outputs": [],
   "source": []
  }
 ],
 "metadata": {
  "kernelspec": {
   "display_name": "py37",
   "language": "python",
   "name": "python3"
  },
  "language_info": {
   "codemirror_mode": {
    "name": "ipython",
    "version": 3
   },
   "file_extension": ".py",
   "mimetype": "text/x-python",
   "name": "python",
   "nbconvert_exporter": "python",
   "pygments_lexer": "ipython3",
   "version": "3.7.1"
  },
  "toc": {
   "base_numbering": 1,
   "nav_menu": {},
   "number_sections": true,
   "sideBar": true,
   "skip_h1_title": false,
   "title_cell": "Table of Contents",
   "title_sidebar": "Contents",
   "toc_cell": false,
   "toc_position": {},
   "toc_section_display": true,
   "toc_window_display": false
  }
 },
 "nbformat": 4,
 "nbformat_minor": 2
}
