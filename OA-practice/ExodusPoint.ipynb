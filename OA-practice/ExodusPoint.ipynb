{
 "cells": [
  {
   "cell_type": "markdown",
   "metadata": {},
   "source": [
    "### Strings Strings Strings "
   ]
  },
  {
   "cell_type": "code",
   "execution_count": 4,
   "metadata": {},
   "outputs": [],
   "source": [
    "#!/bin/python3\n",
    "\n",
    "import math\n",
    "import os\n",
    "import random\n",
    "import re\n",
    "import sys\n",
    "\n",
    "\n",
    "\n",
    "#\n",
    "# Complete the 'LengthOfShortestSubstring' function below.\n",
    "#\n",
    "# The function is expected to return an INTEGER.\n",
    "# The function accepts STRING myString as parameter.\n",
    "#\n",
    "\n",
    "from collections import Counter\n",
    "def LengthOfShortestSubstring(myString):\n",
    "    # mapt \n",
    "    mapt = Counter(set(myString))\n",
    "    count = len(mapt)\n",
    "    left = right = 0\n",
    "    dis = float('inf')\n",
    "\n",
    "    while right < len(myString):\n",
    "        if mapt[myString[right]] > 0:\n",
    "            count -= 1\n",
    "        mapt[myString[right]] -= 1\n",
    "        right += 1\n",
    "\n",
    "        while count == 0:\n",
    "            if right - left < dis:\n",
    "                dis = right - left\n",
    "            if mapt[myString[left]] == 0:\n",
    "                count += 1\n",
    "            mapt[myString[left]] += 1\n",
    "            left += 1\n",
    "\n",
    "    return dis\n",
    "\n",
    "if __name__ == '__main__':"
   ]
  }
 ],
 "metadata": {
  "kernelspec": {
   "display_name": "py37",
   "language": "python",
   "name": "python3"
  },
  "language_info": {
   "codemirror_mode": {
    "name": "ipython",
    "version": 3
   },
   "file_extension": ".py",
   "mimetype": "text/x-python",
   "name": "python",
   "nbconvert_exporter": "python",
   "pygments_lexer": "ipython3",
   "version": "3.7.1"
  }
 },
 "nbformat": 4,
 "nbformat_minor": 2
}
