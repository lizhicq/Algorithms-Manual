{
 "cells": [
  {
   "cell_type": "markdown",
   "metadata": {},
   "source": [
    "### Question "
   ]
  },
  {
   "cell_type": "code",
   "execution_count": null,
   "metadata": {},
   "outputs": [
    {
     "name": "stdout",
     "output_type": "stream",
     "text": [
      " * Serving Flask app \"__main__\" (lazy loading)\n",
      " * Environment: production\n",
      "   WARNING: Do not use the development server in a production environment.\n",
      "   Use a production WSGI server instead.\n",
      " * Debug mode: off\n"
     ]
    },
    {
     "name": "stderr",
     "output_type": "stream",
     "text": [
      " * Running on http://127.0.0.1:5000/ (Press CTRL+C to quit)\n",
      "127.0.0.1 - - [11/Aug/2019 18:42:23] \"\u001b[37mGET /log/log_sample_1.log HTTP/1.1\u001b[0m\" 200 -\n"
     ]
    }
   ],
   "source": [
    "from flask import Flask,jsonify,request,make_response,abort\n",
    "app = Flask(__name__)\n",
    "\n",
    "\n",
    "\n",
    "#404 process\n",
    "@app.errorhandler(404)\n",
    "def not_found(error):\n",
    "    return make_response(jsonify({'error':'Not found logs'}),404)\n",
    "\n",
    "#get\n",
    "@app.route('/log/log_sample_1.log')  \n",
    "def get_task():\n",
    "    return jsonify({'result': 'success'})\n",
    "\n",
    "if __name__=='__main__':\n",
    "    app.run()"
   ]
  },
  {
   "cell_type": "code",
   "execution_count": 14,
   "metadata": {},
   "outputs": [
    {
     "name": "stdout",
     "output_type": "stream",
     "text": [
      " * Serving Flask app \"__main__\" (lazy loading)\n",
      " * Environment: production\n",
      "   WARNING: Do not use the development server in a production environment.\n",
      "   Use a production WSGI server instead.\n",
      " * Debug mode: on\n"
     ]
    },
    {
     "name": "stderr",
     "output_type": "stream",
     "text": [
      " * Restarting with stat\n"
     ]
    },
    {
     "ename": "SystemExit",
     "evalue": "1",
     "output_type": "error",
     "traceback": [
      "An exception has occurred, use %tb to see the full traceback.\n",
      "\u001b[1;31mSystemExit\u001b[0m\u001b[1;31m:\u001b[0m 1\n"
     ]
    },
    {
     "name": "stderr",
     "output_type": "stream",
     "text": [
      "C:\\Users\\lizhi\\Anaconda3\\lib\\site-packages\\IPython\\core\\interactiveshell.py:3275: UserWarning: To exit: use 'exit', 'quit', or Ctrl-D.\n",
      "  warn(\"To exit: use 'exit', 'quit', or Ctrl-D.\", stacklevel=1)\n"
     ]
    }
   ],
   "source": [
    "#!/usr/bin/env python\n",
    "# -*- coding: utf-8 -*-\n",
    "# by vellhe 2017/7/9\n",
    "from flask import Flask, abort, request, jsonify\n",
    "\n",
    "app = Flask(__name__)\n",
    "\n",
    "# 测试数据暂时存放\n",
    "tasks = []\n",
    "\n",
    "@app.route('/add_task/', methods=['POST'])\n",
    "def add_task():\n",
    "    if not request.json or 'id' not in request.json or 'info' not in request.json:\n",
    "        abort(400)\n",
    "    task = {\n",
    "        'id': request.json['id'],\n",
    "        'info': request.json['info']\n",
    "    }\n",
    "    tasks.append(task)\n",
    "    return jsonify({'result': 'success'})\n",
    "\n",
    "\n",
    "@app.route('/get_task/', methods=['GET'])\n",
    "def get_task():\n",
    "    if not request.args or 'id' not in request.args:\n",
    "        # 没有指定id则返回全部\n",
    "        return jsonify(tasks)\n",
    "    else:\n",
    "        task_id = request.args['id']\n",
    "        task = filter(lambda t: t['id'] == int(task_id), tasks)\n",
    "        return jsonify(task) if task else jsonify({'result': 'not found'})\n",
    "\n",
    "\n",
    "if __name__ == \"__main__\":\n",
    "    # 将host设置为0.0.0.0，则外网用户也可以访问到这个服务\n",
    "    app.run(host=\"0.0.0.0\", port=8383, debug=True)"
   ]
  },
  {
   "cell_type": "code",
   "execution_count": null,
   "metadata": {},
   "outputs": [],
   "source": []
  }
 ],
 "metadata": {
  "kernelspec": {
   "display_name": "py37",
   "language": "python",
   "name": "python3"
  },
  "language_info": {
   "codemirror_mode": {
    "name": "ipython",
    "version": 3
   },
   "file_extension": ".py",
   "mimetype": "text/x-python",
   "name": "python",
   "nbconvert_exporter": "python",
   "pygments_lexer": "ipython3",
   "version": "3.7.1"
  }
 },
 "nbformat": 4,
 "nbformat_minor": 2
}
