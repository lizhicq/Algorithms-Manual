{
 "cells": [
  {
   "cell_type": "markdown",
   "metadata": {},
   "source": [
    "## Vender Data Group Python Engineer"
   ]
  },
  {
   "cell_type": "code",
   "execution_count": 1,
   "metadata": {},
   "outputs": [],
   "source": [
    "### Leet 56 Merge Intervals\n",
    "class Solution:\n",
    "    def merge(self, intervals: List[List[int]]) -> List[List[int]]:\n",
    "        if not intervals:\n",
    "            return []\n",
    "        intervals.sort()\n",
    "        start, end = intervals[0]\n",
    "        res = []\n",
    "        for new_start, new_end in intervals[1:]:\n",
    "            if end >= new_start:#merge\n",
    "                end = max(end, new_end)\n",
    "            else:\n",
    "                res.append([start, end])\n",
    "                start, end = new_start, new_end\n",
    "        res.append([start, end])\n",
    "        return res "
   ]
  },
  {
   "cell_type": "code",
   "execution_count": null,
   "metadata": {},
   "outputs": [],
   "source": [
    "### 一堆file name, 求file format是其中几种的file name最短的？？ 尼玛全走一遍return了min len就行了"
   ]
  },
  {
   "cell_type": "code",
   "execution_count": null,
   "metadata": {},
   "outputs": [],
   "source": [
    "### Q1: Return the max sibling of N\n",
    "\n",
    "### Q2: Implement an operation machine using stack\n",
    "\n",
    "### Q3: Fraction to Recurring Decimal （利口原题）\n",
    "\n",
    "### Q4: Sparse decomposition"
   ]
  },
  {
   "cell_type": "code",
   "execution_count": 9,
   "metadata": {},
   "outputs": [],
   "source": [
    "def solution(A, B):\n",
    "    # write your code in Python 3.6\n",
    "    intervals = [(a,b) for a, b in zip(A,B)]\n",
    "    if not intervals:\n",
    "        return 0\n",
    "    intervals.sort()\n",
    "    start, end = intervals[0]\n",
    "    res = 0\n",
    "    for new_start, new_end in intervals[1:]:\n",
    "        if end >= new_start:#merge\n",
    "            end = max(end, new_end)\n",
    "        else:#split\n",
    "            res += 1\n",
    "            start, end = new_start, new_end\n",
    "    res += 1\n",
    "    return res"
   ]
  },
  {
   "cell_type": "code",
   "execution_count": 7,
   "metadata": {},
   "outputs": [],
   "source": [
    "A, B = [1, 12, 42, 70, 36, -4, 43, 15], [5, 15, 44, 72, 36, 2, 69, 24] "
   ]
  },
  {
   "cell_type": "code",
   "execution_count": 4,
   "metadata": {},
   "outputs": [],
   "source": [
    "A, B = [],[]"
   ]
  },
  {
   "cell_type": "code",
   "execution_count": 10,
   "metadata": {},
   "outputs": [
    {
     "data": {
      "text/plain": [
       "5"
      ]
     },
     "execution_count": 10,
     "metadata": {},
     "output_type": "execute_result"
    }
   ],
   "source": [
    "solution(A, B)"
   ]
  },
  {
   "cell_type": "code",
   "execution_count": 45,
   "metadata": {},
   "outputs": [],
   "source": [
    "def solution(S):\n",
    "    # O(n)\n",
    "    #Calculate the minimum len of the file names\n",
    "    lines = S.split('\\n')\n",
    "    ans = 256\n",
    "    for line in lines:\n",
    "        owner, perm, name = line.strip().split(' ')\n",
    "        \n",
    "        # root \n",
    "        if owner != 'root':\n",
    "            continue\n",
    "        if not ('r' in perm and 'w' not in perm):\n",
    "            continue\n",
    "        if name[-4:] not in ('.doc', '.pdf', '.xls'):\n",
    "            continue\n",
    "        \n",
    "        ans = min(len(name), ans)\n",
    "        print(owner, perm, name, ans)\n",
    "    return str(ans) if ans < 256 else 'NO FILES'"
   ]
  },
  {
   "cell_type": "code",
   "execution_count": 46,
   "metadata": {},
   "outputs": [],
   "source": [
    "S = '  root r-x delete-this.xls\\n  root r-- bug-report.pdf\\n  root r-- doc.xls\\n  root r-- podcast.flac\\n alice r-- system.xls\\n  root --x invoices.pdf\\n admin rwx SETUP.PY' "
   ]
  },
  {
   "cell_type": "code",
   "execution_count": 47,
   "metadata": {},
   "outputs": [
    {
     "name": "stdout",
     "output_type": "stream",
     "text": [
      "root r-x delete-this.xls 15\n",
      "root r-- bug-report.pdf 14\n",
      "root r-- doc.xls 7\n"
     ]
    },
    {
     "data": {
      "text/plain": [
       "'7'"
      ]
     },
     "execution_count": 47,
     "metadata": {},
     "output_type": "execute_result"
    }
   ],
   "source": [
    "solution(S)"
   ]
  },
  {
   "cell_type": "markdown",
   "metadata": {},
   "source": [
    "## Basic Calculator\n",
    "\n",
    "\n",
    "```\n",
    "example trace \n",
    "  remaining   sign stack      total\n",
    "3-(2+(9-4))   [1, 1]            0\n",
    " -(2+(9-4))   [1]               3\n",
    "  (2+(9-4))   [1, -1]           3\n",
    "   2+(9-4))   [1, -1, -1]       3\n",
    "    +(9-4))   [1, -1]           1\n",
    "     (9-4))   [1, -1, -1]       1\n",
    "      9-4))   [1, -1, -1, -1]   1\n",
    "       -4))   [1, -1, -1]      -8\n",
    "        4))   [1, -1, -1, 1]   -8\n",
    "         ))   [1, -1, -1]      -4\n",
    "          )   [1, -1]          -4\n",
    "              [1]              -4\n",
    "```"
   ]
  },
  {
   "cell_type": "code",
   "execution_count": null,
   "metadata": {},
   "outputs": [],
   "source": [
    "def calculate(self, S):\n",
    "    total = 0 \n",
    "    i, signs = 0, [1,1]\n",
    "    n = len(s)\n",
    "    while i < n:\n",
    "        c = s[i]\n",
    "        if c.isdigit():\n",
    "            start = i\n",
    "            while i < n and s[i].isdigit():\n",
    "                i += 1\n",
    "            total += signs.pop() * int(s[start:i])\n",
    "            continue\n",
    "        if c in '+-(':\n",
    "            signs += signs[-1] * (1, -1)[c == '-']\n",
    "        elif c == ')':\n",
    "            signs.pop()\n",
    "        i += 1\n",
    "    return total"
   ]
  }
 ],
 "metadata": {
  "kernelspec": {
   "display_name": "Python 3",
   "language": "python",
   "name": "python3"
  },
  "language_info": {
   "codemirror_mode": {
    "name": "ipython",
    "version": 3
   },
   "file_extension": ".py",
   "mimetype": "text/x-python",
   "name": "python",
   "nbconvert_exporter": "python",
   "pygments_lexer": "ipython3",
   "version": "3.6.7"
  },
  "toc": {
   "base_numbering": 1,
   "nav_menu": {},
   "number_sections": true,
   "sideBar": true,
   "skip_h1_title": false,
   "title_cell": "Table of Contents",
   "title_sidebar": "Contents",
   "toc_cell": false,
   "toc_position": {},
   "toc_section_display": true,
   "toc_window_display": false
  }
 },
 "nbformat": 4,
 "nbformat_minor": 2
}
