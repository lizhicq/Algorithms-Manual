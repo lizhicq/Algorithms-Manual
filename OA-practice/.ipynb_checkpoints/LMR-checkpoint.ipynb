{
 "cells": [
  {
   "cell_type": "code",
   "execution_count": 28,
   "metadata": {},
   "outputs": [],
   "source": [
    "import pandas as pd\n",
    "import numpy as np"
   ]
  },
  {
   "cell_type": "markdown",
   "metadata": {},
   "source": [
    "### Position Capture"
   ]
  },
  {
   "cell_type": "code",
   "execution_count": 23,
   "metadata": {},
   "outputs": [],
   "source": [
    "df = pd.read_csv('tradesUSD.csv')\n",
    "df_agg_by_val = df.groupby(['Ticker']).sum().sort_values(by=['TradeValueUSD'])"
   ]
  },
  {
   "cell_type": "code",
   "execution_count": 24,
   "metadata": {},
   "outputs": [
    {
     "data": {
      "text/html": [
       "<div>\n",
       "<style scoped>\n",
       "    .dataframe tbody tr th:only-of-type {\n",
       "        vertical-align: middle;\n",
       "    }\n",
       "\n",
       "    .dataframe tbody tr th {\n",
       "        vertical-align: top;\n",
       "    }\n",
       "\n",
       "    .dataframe thead th {\n",
       "        text-align: right;\n",
       "    }\n",
       "</style>\n",
       "<table border=\"1\" class=\"dataframe\">\n",
       "  <thead>\n",
       "    <tr style=\"text-align: right;\">\n",
       "      <th></th>\n",
       "      <th>TradeValueUSD</th>\n",
       "      <th>PriceUSD</th>\n",
       "    </tr>\n",
       "    <tr>\n",
       "      <th>Ticker</th>\n",
       "      <th></th>\n",
       "      <th></th>\n",
       "    </tr>\n",
       "  </thead>\n",
       "  <tbody>\n",
       "    <tr>\n",
       "      <th>VRTU US Equity</th>\n",
       "      <td>-315476.30</td>\n",
       "      <td>9.695</td>\n",
       "    </tr>\n",
       "    <tr>\n",
       "      <th>EXC US Equity</th>\n",
       "      <td>-283770.29</td>\n",
       "      <td>3.501</td>\n",
       "    </tr>\n",
       "    <tr>\n",
       "      <th>IVN CN Equity</th>\n",
       "      <td>-244522.20</td>\n",
       "      <td>6.712</td>\n",
       "    </tr>\n",
       "    <tr>\n",
       "      <th>RECN US Equity</th>\n",
       "      <td>-224420.00</td>\n",
       "      <td>6.742</td>\n",
       "    </tr>\n",
       "    <tr>\n",
       "      <th>BCP PL Equity</th>\n",
       "      <td>-193533.14</td>\n",
       "      <td>2.820</td>\n",
       "    </tr>\n",
       "    <tr>\n",
       "      <th>RTRKS FH Equity</th>\n",
       "      <td>-186556.32</td>\n",
       "      <td>14.927</td>\n",
       "    </tr>\n",
       "    <tr>\n",
       "      <th>JEF US Equity</th>\n",
       "      <td>-165291.41</td>\n",
       "      <td>8.970</td>\n",
       "    </tr>\n",
       "    <tr>\n",
       "      <th>ALPHA GA Equity</th>\n",
       "      <td>-151920.84</td>\n",
       "      <td>0.778</td>\n",
       "    </tr>\n",
       "    <tr>\n",
       "      <th>TNC US Equity</th>\n",
       "      <td>-148330.00</td>\n",
       "      <td>8.106</td>\n",
       "    </tr>\n",
       "    <tr>\n",
       "      <th>AREX US Equity</th>\n",
       "      <td>-145181.46</td>\n",
       "      <td>0.096</td>\n",
       "    </tr>\n",
       "  </tbody>\n",
       "</table>\n",
       "</div>"
      ],
      "text/plain": [
       "                 TradeValueUSD  PriceUSD\n",
       "Ticker                                  \n",
       "VRTU US Equity      -315476.30     9.695\n",
       "EXC US Equity       -283770.29     3.501\n",
       "IVN CN Equity       -244522.20     6.712\n",
       "RECN US Equity      -224420.00     6.742\n",
       "BCP PL Equity       -193533.14     2.820\n",
       "RTRKS FH Equity     -186556.32    14.927\n",
       "JEF US Equity       -165291.41     8.970\n",
       "ALPHA GA Equity     -151920.84     0.778\n",
       "TNC US Equity       -148330.00     8.106\n",
       "AREX US Equity      -145181.46     0.096"
      ]
     },
     "execution_count": 24,
     "metadata": {},
     "output_type": "execute_result"
    }
   ],
   "source": [
    "df_agg_by_val.iloc[:10] # top 10 sell, sum of TradeValueUSD"
   ]
  },
  {
   "cell_type": "code",
   "execution_count": 25,
   "metadata": {},
   "outputs": [
    {
     "data": {
      "text/html": [
       "<div>\n",
       "<style scoped>\n",
       "    .dataframe tbody tr th:only-of-type {\n",
       "        vertical-align: middle;\n",
       "    }\n",
       "\n",
       "    .dataframe tbody tr th {\n",
       "        vertical-align: top;\n",
       "    }\n",
       "\n",
       "    .dataframe thead th {\n",
       "        text-align: right;\n",
       "    }\n",
       "</style>\n",
       "<table border=\"1\" class=\"dataframe\">\n",
       "  <thead>\n",
       "    <tr style=\"text-align: right;\">\n",
       "      <th></th>\n",
       "      <th>TradeValueUSD</th>\n",
       "      <th>PriceUSD</th>\n",
       "    </tr>\n",
       "    <tr>\n",
       "      <th>Ticker</th>\n",
       "      <th></th>\n",
       "      <th></th>\n",
       "    </tr>\n",
       "  </thead>\n",
       "  <tbody>\n",
       "    <tr>\n",
       "      <th>ATL IM Equity</th>\n",
       "      <td>95154.34</td>\n",
       "      <td>5.417</td>\n",
       "    </tr>\n",
       "    <tr>\n",
       "      <th>PPL CN Equity</th>\n",
       "      <td>105878.32</td>\n",
       "      <td>9.405</td>\n",
       "    </tr>\n",
       "    <tr>\n",
       "      <th>SGMS US Equity</th>\n",
       "      <td>194429.72</td>\n",
       "      <td>7.385</td>\n",
       "    </tr>\n",
       "    <tr>\n",
       "      <th>SYST VX Equity</th>\n",
       "      <td>202354.77</td>\n",
       "      <td>12.805</td>\n",
       "    </tr>\n",
       "    <tr>\n",
       "      <th>AF FP Equity</th>\n",
       "      <td>203295.81</td>\n",
       "      <td>9.902</td>\n",
       "    </tr>\n",
       "    <tr>\n",
       "      <th>PNDORA DC Equity</th>\n",
       "      <td>204597.33</td>\n",
       "      <td>15.506</td>\n",
       "    </tr>\n",
       "    <tr>\n",
       "      <th>PFC LN Equity</th>\n",
       "      <td>287905.53</td>\n",
       "      <td>9.263</td>\n",
       "    </tr>\n",
       "    <tr>\n",
       "      <th>HUSQB SS Equity</th>\n",
       "      <td>294513.75</td>\n",
       "      <td>10.963</td>\n",
       "    </tr>\n",
       "    <tr>\n",
       "      <th>AON US Equity</th>\n",
       "      <td>294513.75</td>\n",
       "      <td>5.551</td>\n",
       "    </tr>\n",
       "    <tr>\n",
       "      <th>AZN LN Equity</th>\n",
       "      <td>294513.75</td>\n",
       "      <td>1.365</td>\n",
       "    </tr>\n",
       "  </tbody>\n",
       "</table>\n",
       "</div>"
      ],
      "text/plain": [
       "                  TradeValueUSD  PriceUSD\n",
       "Ticker                                   \n",
       "ATL IM Equity          95154.34     5.417\n",
       "PPL CN Equity         105878.32     9.405\n",
       "SGMS US Equity        194429.72     7.385\n",
       "SYST VX Equity        202354.77    12.805\n",
       "AF FP Equity          203295.81     9.902\n",
       "PNDORA DC Equity      204597.33    15.506\n",
       "PFC LN Equity         287905.53     9.263\n",
       "HUSQB SS Equity       294513.75    10.963\n",
       "AON US Equity         294513.75     5.551\n",
       "AZN LN Equity         294513.75     1.365"
      ]
     },
     "execution_count": 25,
     "metadata": {},
     "output_type": "execute_result"
    }
   ],
   "source": [
    "df_agg_by_val.iloc[-10:] # top 10 buy, sum of TradeValueUSD"
   ]
  },
  {
   "cell_type": "markdown",
   "metadata": {},
   "source": [
    "### Best execution - Volume Weighted Average Price"
   ]
  },
  {
   "cell_type": "code",
   "execution_count": null,
   "metadata": {},
   "outputs": [],
   "source": []
  },
  {
   "cell_type": "code",
   "execution_count": null,
   "metadata": {},
   "outputs": [],
   "source": []
  }
 ],
 "metadata": {
  "kernelspec": {
   "display_name": "py37",
   "language": "python",
   "name": "python3"
  },
  "language_info": {
   "codemirror_mode": {
    "name": "ipython",
    "version": 3
   },
   "file_extension": ".py",
   "mimetype": "text/x-python",
   "name": "python",
   "nbconvert_exporter": "python",
   "pygments_lexer": "ipython3",
   "version": "3.7.1"
  },
  "toc": {
   "base_numbering": 1,
   "nav_menu": {},
   "number_sections": true,
   "sideBar": true,
   "skip_h1_title": false,
   "title_cell": "Table of Contents",
   "title_sidebar": "Contents",
   "toc_cell": false,
   "toc_position": {},
   "toc_section_display": true,
   "toc_window_display": false
  }
 },
 "nbformat": 4,
 "nbformat_minor": 2
}
