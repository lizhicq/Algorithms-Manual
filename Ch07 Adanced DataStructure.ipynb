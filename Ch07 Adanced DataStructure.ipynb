{
  "nbformat": 4,
  "nbformat_minor": 0,
  "metadata": {
    "colab": {
      "name": "Ch07 Adanced DataStructure",
      "version": "0.3.2",
      "provenance": [],
      "collapsed_sections": [
        "JF1PH6BYyFqc",
        "8-veu44AzpHb",
        "oTcS_Evw6hRs"
      ],
      "include_colab_link": true
    },
    "kernelspec": {
      "name": "python2",
      "display_name": "Python 2"
    },
    "accelerator": "GPU"
  },
  "cells": [
    {
      "cell_type": "markdown",
      "metadata": {
        "id": "view-in-github",
        "colab_type": "text"
      },
      "source": [
        "[View in Colaboratory](https://colab.research.google.com/github/lizhicq/Algorithms-Manual/blob/master/Ch07%20Adanced%20DataStructure.ipynb)"
      ]
    },
    {
      "metadata": {
        "id": "_mGhYayE7-Ht",
        "colab_type": "text"
      },
      "cell_type": "markdown",
      "source": [
        "# Advanced DataStructure"
      ]
    },
    {
      "metadata": {
        "id": "NmIqg5Rbz-Hc",
        "colab_type": "text"
      },
      "cell_type": "markdown",
      "source": [
        "## Hashheap\n",
        "1. 在heap的基础上支持查询操作O(1)\n",
        "2. 可以从底层重写，也可以用OrderedDict来写"
      ]
    },
    {
      "metadata": {
        "id": "mW_oIlIg0m9a",
        "colab_type": "code",
        "colab": {}
      },
      "cell_type": "code",
      "source": [
        "class HashHeap:\n",
        "    \n",
        "    def __init__(self):\n",
        "        self.heap = [0]\n",
        "        self.hash = {}\n",
        "        \n",
        "    def add(self, key, value):\n",
        "        self.heap.append((key, value))\n",
        "        self.hash[key] = self.heap[0] + 1\n",
        "        self.heap[0] += 1\n",
        "        self._siftup(self.heap[0])\n",
        "        \n",
        "    def remove(self, key):\n",
        "        index = self.hash[key]\n",
        "        self._swap(index, self.heap[0])\n",
        "        del self.hash[self.heap[self.heap[0]][0]]\n",
        "        self.heap.pop()\n",
        "        self.heap[0] -= 1\n",
        "        if index <= self.heap[0]:\n",
        "            index = self._siftup(index)\n",
        "            self._siftdown(index)\n",
        "        \n",
        "    def hasKey(self, key):\n",
        "        return key in self.hash\n",
        "        \n",
        "    def max(self):\n",
        "        return 0 if self.heap[0] == 0 else self.heap[1][1]\n",
        "    \n",
        "    def _swap(self, a, b):\n",
        "        self.heap[a], self.heap[b] = self.heap[b], self.heap[a]\n",
        "        self.hash[self.heap[a][0]] = a\n",
        "        self.hash[self.heap[b][0]] = b\n",
        "        \n",
        "    def _siftup(self, index):\n",
        "        while index != 1:\n",
        "            if self.heap[index][1] <= self.heap[index / 2][1]:\n",
        "                break\n",
        "            self._swap(index, index / 2)\n",
        "            index = index / 2\n",
        "        return index\n",
        "        \n",
        "    def _siftdown(self, index):\n",
        "        size = self.heap[0]\n",
        "        while index < size:\n",
        "            t = index\n",
        "            if index * 2 <= size and self.heap[t][1] < self.heap[index * 2][1]:\n",
        "                t = index * 2\n",
        "            if index * 2 + 1 <= size and self.heap[t][1] < self.heap[index * 2 + 1][1]:\n",
        "                t = index * 2 + 1\n",
        "            if t == index:\n",
        "                break\n",
        "            self._swap(index, t)\n",
        "            index = t\n",
        "        return index"
      ],
      "execution_count": 0,
      "outputs": []
    },
    {
      "metadata": {
        "id": "ZGlu1CXm00u3",
        "colab_type": "text"
      },
      "cell_type": "markdown",
      "source": [
        "### 131. The Skyline Problem\n",
        "Given N buildings in a x-axis，each building is a rectangle and can be represented by a triple (start, end, height)，where start is the start position on x-axis, end is the end position on x-axis and height is the height of the building. Buildings may overlap if you see them from far away，find the outline of them。\n",
        "\n",
        "An outline can be represented by a triple, (start, end, height), where start is the start position on x-axis of the outline, end is the end position on x-axis and height is the height of the outline.\n",
        "\n",
        "Building Outline\n",
        "![alt text](https://lintcode-media.s3.amazonaws.com/problem/jiuzhang3.jpg)\n",
        "```\n",
        "Example\n",
        "Given 3 buildings：\n",
        "\n",
        "[\n",
        "  [1, 3, 3],\n",
        "  [2, 4, 4],\n",
        "  [5, 6, 1]\n",
        "]\n",
        "The outlines are：\n",
        "\n",
        "[\n",
        "  [1, 2, 3],\n",
        "  [2, 4, 4],\n",
        "  [5, 6, 1]\n",
        "]\n",
        "```"
      ]
    },
    {
      "metadata": {
        "id": "VOOvwbzM1MZ7",
        "colab_type": "code",
        "colab": {}
      },
      "cell_type": "code",
      "source": [
        ""
      ],
      "execution_count": 0,
      "outputs": []
    },
    {
      "metadata": {
        "id": "93qvOZnOrzwU",
        "colab_type": "text"
      },
      "cell_type": "markdown",
      "source": [
        "### 134. LRU Cache\n",
        "Design and implement a data structure for Least Recently Used (LRU) cache. It should support the following operations: get and set.\n",
        "```\n",
        "get(key) - Get the value (will always be positive) of the key if the key exists in the cache, otherwise return -1.\n",
        "set(key, value) - Set or insert the value if the key is not already present. When the cache reached its capacity, it should invalidate the least recently used item before inserting a new item.\n",
        "```"
      ]
    },
    {
      "metadata": {
        "id": "JpgjY2__r4JL",
        "colab_type": "code",
        "colab": {}
      },
      "cell_type": "code",
      "source": [
        "from collections import  OrderedDict\n",
        "\n",
        "class LRUCache:\n",
        "    def __init__(self, capacity):\n",
        "        self.capacity = capacity\n",
        "        self.cache = OrderedDict()\n",
        "\n",
        "    def get(self, key):\n",
        "        try:\n",
        "            value = self.cache.pop(key)\n",
        "            self.cache[key] = value\n",
        "            return value\n",
        "        except KeyError:\n",
        "            return -1\n",
        "\n",
        "    def set(self, key, value):\n",
        "        try:\n",
        "            self.cache.pop(key)\n",
        "        except KeyError:\n",
        "            if len(self.cache) >= self.capacity:\n",
        "                self.cache.(last=False) \n",
        "                # Pairs are returned in LIFO order if last is true or FIFO order if false\n",
        "        self.cache[key] = value        "
      ],
      "execution_count": 0,
      "outputs": []
    },
    {
      "metadata": {
        "id": "h_to3ruy-u9b",
        "colab_type": "text"
      },
      "cell_type": "markdown",
      "source": [
        "## Union Find\n",
        "\n",
        "*   Union O(1)\n",
        "*   Find O(1)\n",
        "\n",
        "![alt text](http://imgsrc.baidu.com/forum/w%3D580/sign=e17558f6ad8b87d65042ab1737092860/ba8b0f950a7b0208299dd5266ed9f2d3562cc82b.jpg)\n",
        "\n",
        "\n",
        "\n",
        "\n"
      ]
    },
    {
      "metadata": {
        "id": "LKqE_xZHKozB",
        "colab_type": "text"
      },
      "cell_type": "markdown",
      "source": [
        "### 589. Connecting Graph\n",
        "Given n nodes in a graph labeled from 1 to n. There is no edges in the graph at beginning.\n",
        "\n",
        "You need to support the following method:\n",
        "\n",
        "connect(a, b), add an edge to connect node a and node b`.\n",
        "query(a, b), check if two nodes are connected\n",
        "```\n",
        "Example\n",
        "5 // n = 5\n",
        "query(1, 2) return false\n",
        "connect(1, 2)\n",
        "query(1, 3) return false\n",
        "connect(2, 4)\n",
        "query(1, 4) return true\n",
        "```"
      ]
    },
    {
      "metadata": {
        "id": "Yq0Py_PTEW7T",
        "colab_type": "code",
        "colab": {}
      },
      "cell_type": "code",
      "source": [
        "class ConnectingGraph:\n",
        "    \"\"\"\n",
        "    @param: n: An integer\n",
        "    \"\"\"\n",
        "    def __init__(self, n):\n",
        "        self.father = [0 for _ in range(n+1)]\n",
        "    \n",
        "    def find(self, x):\n",
        "        if self.father[x] == 0:\n",
        "            return x\n",
        "        self.father[x] = self.find(self.father[x])\n",
        "        return self.father[x]\n",
        "    \n",
        "    \"\"\"\n",
        "    @param: a: An integer\n",
        "    @param: b: An integer\n",
        "    @return: nothing\n",
        "    \"\"\"\n",
        "    def connect(self, a, b):\n",
        "        root_a = self.find(a)\n",
        "        root_b = self.find(b)\n",
        "        if root_a != root_b:\n",
        "            self.father[root_a] = root_b\n",
        "\n",
        "    \"\"\"\n",
        "    @param: a: An integer\n",
        "    @param: b: An integer\n",
        "    @return: A boolean\n",
        "    \"\"\"\n",
        "    def query(self, a, b):\n",
        "        root_a = self.find(a)\n",
        "        root_b = self.find(b)\n",
        "        return root_a == root_b"
      ],
      "execution_count": 0,
      "outputs": []
    },
    {
      "metadata": {
        "id": "L5lRuMxgKsZ4",
        "colab_type": "text"
      },
      "cell_type": "markdown",
      "source": [
        "### 590. Connecting Graph II\n",
        "Given n nodes in a graph labeled from 1 to n. There is no edges in the graph at beginning.\n",
        "\n",
        "You need to support the following method:\n",
        "\n",
        "connect(a, b), an edge to connect node a and node b\n",
        "query(a), Returns the number of connected component nodes which include node a.\n",
        "```\n",
        "Example\n",
        "5 // n = 5\n",
        "query(1) return 1\n",
        "connect(1, 2)\n",
        "query(1) return 2\n",
        "connect(2, 4)\n",
        "query(1) return 3\n",
        "connect(1, 4)\n",
        "query(1) return 3\n",
        "```"
      ]
    },
    {
      "metadata": {
        "id": "mSS6LKB2ESP5",
        "colab_type": "code",
        "colab": {}
      },
      "cell_type": "code",
      "source": [
        "class ConnectingGraph2:\n",
        "    \"\"\"\n",
        "    @param: n: An integer\n",
        "    \"\"\"\n",
        "    def __init__(self, n):\n",
        "        self.father = [0 for _ in range(n+1)]\n",
        "        self.size = [1 for _ in range(n+1)]\n",
        "\n",
        "    def find(self, x):\n",
        "        if self.father[x] == 0:\n",
        "            return x\n",
        "        self.father[x] = self.find(self.father[x])\n",
        "        return self.father[x]\n",
        "\n",
        "    def connect(self, a, b):\n",
        "        root_a = self.find(a)\n",
        "        root_b = self.find(b)\n",
        "        if root_a != root_b:\n",
        "            self.father[root_a] = root_b\n",
        "            self.size[root_b] += self.size[root_a]\n",
        "\n",
        "    def query(self, a):\n",
        "        return self.size[self.find(a)]"
      ],
      "execution_count": 0,
      "outputs": []
    },
    {
      "metadata": {
        "id": "s63j01QiK1UX",
        "colab_type": "text"
      },
      "cell_type": "markdown",
      "source": [
        "### 591. Connecting Graph III\n",
        "Given n nodes in a graph labeled from 1 to n. There is no edges in the graph at beginning.\n",
        "\n",
        "You need to support the following method:\n",
        "\n",
        "connect(a, b), an edge to connect node a and node b\n",
        "query(), Returns the number of connected component in the graph\n",
        "```\n",
        "Example\n",
        "5 // n = 5\n",
        "query() return 5\n",
        "connect(1, 2)\n",
        "query() return 4\n",
        "connect(2, 4)\n",
        "query() return 3\n",
        "connect(1, 4)\n",
        "query() return 3\n",
        "```"
      ]
    },
    {
      "metadata": {
        "id": "z2INZpeBESTj",
        "colab_type": "code",
        "colab": {}
      },
      "cell_type": "code",
      "source": [
        "class ConnectingGraph3:\n",
        "    \"\"\"\n",
        "    @param: n: An integer\n",
        "    \"\"\"\n",
        "    def __init__(self, n):\n",
        "        self.father = [0 for _ in range(n+1)]\n",
        "        self.size = n\n",
        "\n",
        "    def find(self, x):\n",
        "        if self.father[x] == 0:\n",
        "            return x\n",
        "        self.father[x] = self.find(self.father[x])\n",
        "        return self.father[x]\n",
        "\n",
        "    def connect(self, a, b):\n",
        "        root_a = self.find(a)\n",
        "        root_b = self.find(b)\n",
        "        if root_a != root_b:\n",
        "            self.father[root_a] = root_b\n",
        "            self.size -= 1\n",
        "\n",
        "    def query(self):\n",
        "        return self.size"
      ],
      "execution_count": 0,
      "outputs": []
    },
    {
      "metadata": {
        "id": "au3NHydgK5IQ",
        "colab_type": "text"
      },
      "cell_type": "markdown",
      "source": [
        "### 442. Implement Trie (Prefix Tree)\n",
        "Implement a trie with insert, search, and startsWith methods.\n",
        "```\n",
        "Example\n",
        "insert(\"lintcode\")\n",
        "search(\"code\")\n",
        ">>> false\n",
        "startsWith(\"lint\")\n",
        ">>> true\n",
        "startsWith(\"linterror\")\n",
        ">>> false\n",
        "insert(\"linterror\")\n",
        "search(\"lintcode)\n",
        ">>> true\n",
        "startsWith(\"linterror\")\n",
        ">>> true\n",
        "Notice\n",
        "You may assume that all inputs are consist of lowercase letters a-z.\n",
        "```"
      ]
    },
    {
      "metadata": {
        "id": "jbegDmstESWR",
        "colab_type": "code",
        "colab": {}
      },
      "cell_type": "code",
      "source": [
        "import sys\n",
        "class recursionlimit:\n",
        "    def __init__(self, limit):\n",
        "        self.limit = limit\n",
        "        self.old_limit = sys.getrecursionlimit()\n",
        "\n",
        "    def __enter__(self):\n",
        "        sys.setrecursionlimit(self.limit)\n",
        "\n",
        "    def __exit__(self, type, value, tb):\n",
        "        sys.setrecursionlimit(self.old_limit)\n",
        "\n",
        "class Trie:\n",
        "\n",
        "    def __init__(self):\n",
        "        self.trie = {}\n",
        "\n",
        "    def insert(self, word):\n",
        "        \"\"\"\n",
        "        @param: word: a word\n",
        "        @return: nothing\n",
        "        \"\"\"\n",
        "        def dfs(start, trie):\n",
        "            if start == len(word):\n",
        "                trie[''] = {}\n",
        "                return\n",
        "            ch = word[start]\n",
        "            if ch not in trie:\n",
        "                trie[ch] = {}\n",
        "            dfs(start+1, trie[ch])\n",
        "\n",
        "        dfs(0, self.trie)\n",
        "\n",
        "    def search(self, word):\n",
        "        \"\"\"\n",
        "        @param: word: A string\n",
        "        @return: if the word is in the trie.\n",
        "        \"\"\"\n",
        "        def helper(start, trie):\n",
        "            if start == len(word):\n",
        "                return '' in trie\n",
        "            ch = word[start]\n",
        "            if ch not in trie:\n",
        "                return False\n",
        "            return helper(start+1, trie[ch])\n",
        "\n",
        "        return helper(0, self.trie)\n",
        "\n",
        "    def startsWith(self, prefix):\n",
        "        \"\"\"\n",
        "        @param: prefix: A string\n",
        "        @return: if there is any word in the trie that starts with the given prefix.\n",
        "        \"\"\"\n",
        "        def helper(start, trie):\n",
        "            if start == len(prefix):\n",
        "                return True\n",
        "            ch = prefix[start]\n",
        "            if ch not in trie:\n",
        "                return False\n",
        "            return helper(start+1, trie[ch])\n",
        "\n",
        "        return helper(0, self.trie)\n",
        "\n",
        "if __name__ ==\"__main__\":\n",
        "\n",
        "    with recursionlimit(2500):\n",
        "        s = Trie()\n",
        "        s.insert(\"aaa\")\n",
        "        s.insert(\"aaaz\")\n",
        "        print s.search(\"aaa\")\n"
      ],
      "execution_count": 0,
      "outputs": []
    },
    {
      "metadata": {
        "id": "I9GgBwkOBIv5",
        "colab_type": "text"
      },
      "cell_type": "markdown",
      "source": [
        "### 473. Add and Search Word - Data structure design\n",
        "Design a data structure that supports the following two operations: addWord(word) and search(word)\n",
        "\n",
        "search(word) can search a literal word or a regular expression string containing only letters a-z or ..\n",
        "\n",
        "A . means it can represent any one letter.\n",
        "```\n",
        "Example\n",
        "addWord(\"bad\")\n",
        "addWord(\"dad\")\n",
        "addWord(\"mad\")\n",
        "search(\"pad\")  // return false\n",
        "search(\"bad\")  // return true\n",
        "search(\".ad\")  // return true\n",
        "search(\"b..\")  // return true\n",
        "Notice\n",
        "You may assume that all words are consist of lowercase letters a-z.\n",
        "```"
      ]
    },
    {
      "metadata": {
        "id": "GVZkSG49-uF0",
        "colab_type": "code",
        "colab": {
          "base_uri": "https://localhost:8080/",
          "height": 35
        },
        "outputId": "de652066-5871-4f3c-d307-16a554edaa6b"
      },
      "cell_type": "code",
      "source": [
        "class WordDictionary:\n",
        "    \n",
        "    def __init__(self):\n",
        "        self.trie = {}\n",
        "\n",
        "    def addWord(self, word):\n",
        "        \"\"\"\n",
        "        @param: word: Adds a word into the data structure.\n",
        "        @return: nothing\n",
        "        \"\"\"\n",
        "        def dfs(start, trie):\n",
        "            if start == len(word):\n",
        "                trie[''] = {}\n",
        "                return\n",
        "            ch = word[start] \n",
        "            if ch not in trie:\n",
        "                trie[ch] = {}\n",
        "            dfs(start+1, trie[ch])\n",
        "        dfs(0, self.trie)\n",
        "\n",
        "    def search(self, word):\n",
        "        \"\"\"\n",
        "        @param: word: A word could contain the dot character '.' to represent any one letter.\n",
        "        @return: if the word is in the data structure.\n",
        "        \"\"\"\n",
        "        def helper(start, trie):\n",
        "            if start == len(word):\n",
        "                return '' in trie\n",
        "            ch = word[start]\n",
        "            if ch == '.':\n",
        "                for c in trie:\n",
        "                    if helper(start+1, trie[c]):\n",
        "                        return True\n",
        "                return False\n",
        "            elif ch not in trie:\n",
        "                return False\n",
        "            else:\n",
        "                return helper(start+1, trie[ch])\n",
        "        \n",
        "        return helper(0, self.trie)\n",
        "        \n",
        "        \n",
        "if __name__ ==\"__main__1\":\n",
        "    s = WordDictionary()\n",
        "    s.addWord(\"bad\")\n",
        "    s.addWord(\"dad\")\n",
        "    s.addWord(\"mad\")\n",
        "    print s.search(\"pad\")  # return false\n",
        "    print s.search(\"bad\")  # return true\n",
        "    print s.search(\".ad\")  # return true\n",
        "    print s.search(\"b..\")  # return true\n",
        "    \n",
        "if __name__ == \"__main__2\":\n",
        "    s = WordDictionary()\n",
        "    print s.search(\".\")\n",
        "\n",
        "    \n",
        "if __name__ == \"__main__\":\n",
        "    s = WordDictionary()\n",
        "    s.addWord(\"a\")\n",
        "    s.addWord(\"a\")\n",
        "    print s.search(\"a.\")"
      ],
      "execution_count": 0,
      "outputs": [
        {
          "output_type": "stream",
          "text": [
            "False\n"
          ],
          "name": "stdout"
        }
      ]
    },
    {
      "metadata": {
        "id": "JhTlSxPEpB5h",
        "colab_type": "text"
      },
      "cell_type": "markdown",
      "source": [
        "### 432. Find the Weak Connected Component in the Directed Graph\n",
        "Find the number Weak Connected Component in the directed graph. Each node in the graph contains a label and a list of its neighbors. (a connected set of a directed graph is a subgraph in which any two vertices are connected by direct edge path.)\n",
        "```\n",
        "Example\n",
        "Given graph:\n",
        "\n",
        "A----->B  C\n",
        " \\     |  | \n",
        "  \\    |  |\n",
        "   \\   |  |\n",
        "    \\  v  v\n",
        "     ->D  E <- F\n",
        "\n",
        "Return {A,B,D}, {C,E,F}. Since there are two connected component which are {A,B,D} and {C,E,F}\n",
        "\n",
        "Notice\n",
        "Sort the element in the set in increasing order\n",
        "```\n",
        "Notes:\n",
        "*   Union find的表最后的values未必是所有father都是一个值，[1:2, 2:4, 3:2, 4:4] 2, 3, 4 的father 都是4\n",
        "\n"
      ]
    },
    {
      "metadata": {
        "id": "KkS14Mj9pCFX",
        "colab_type": "code",
        "colab": {}
      },
      "cell_type": "code",
      "source": [
        "class DirectedGraphNode:\n",
        "    def __init__(self, x):\n",
        "        self.label = x\n",
        "        self.neighbors = []\n",
        "\n",
        "\n",
        "class Solution:\n",
        "    \"\"\"\n",
        "    @param: nodes: a array of Directed graph node\n",
        "    @return: a connected set of a directed graph\n",
        "    \"\"\"\n",
        "    def __init__(self):\n",
        "        self.father = {} \n",
        "    \n",
        "    def connectedSet2(self, nodes):\n",
        "        for node in nodes:\n",
        "            x = node.label\n",
        "            self.father[x] = x \n",
        "        \n",
        "        for node in nodes:\n",
        "            for nb in node.neighbors:\n",
        "                self.union(node.label, nb.label)\n",
        "        \n",
        "        ans = {}\n",
        "        \n",
        "        for node in nodes:\n",
        "            x = node.label\n",
        "            fa = self.find(x)\n",
        "            ans.setdefault(fa, []).append(x)\n",
        "        \n",
        "        return ans.values()\n",
        "        \n",
        "        \n",
        "        \n",
        "    def find(self, x):\n",
        "        if self.father[x] == x:\n",
        "            return x\n",
        "        return self.find(self.father[x])\n",
        "    \n",
        "    \n",
        "    def union(self, node_a, node_b):\n",
        "        root_a = self.find(node_a)\n",
        "        root_b = self.find(node_b)\n",
        "        \n",
        "        if root_a != root_b:\n",
        "             self.father[root_a] = root_b\n"
      ],
      "execution_count": 0,
      "outputs": []
    },
    {
      "metadata": {
        "id": "UxOGmO4I-ZQq",
        "colab_type": "text"
      },
      "cell_type": "markdown",
      "source": [
        "## Hashheap"
      ]
    },
    {
      "metadata": {
        "id": "qQT9wPUw-eYx",
        "colab_type": "text"
      },
      "cell_type": "markdown",
      "source": [
        "### 81. Find Median from Data Stream\n",
        "Numbers keep coming, return the median of numbers at every time a new number added.\n",
        "```\n",
        "Example\n",
        "For numbers coming list: [1, 2, 3, 4, 5], return [1, 1, 2, 2, 3].\n",
        "\n",
        "For numbers coming list: [4, 5, 1, 3, 2, 6, 0], return [4, 4, 4, 3, 3, 3, 3].\n",
        "\n",
        "For numbers coming list: [2, 20, 100], return [2, 2, 20].\n",
        "\n",
        "Challenge\n",
        "Total run time in O(nlogn).\n",
        "\n",
        "Clarification\n",
        "What's the definition of Median?\n",
        "\n",
        "Median is the number that in the middle of a sorted array. If there are n numbers in a sorted array A, the median is A[(n - 1) / 2]. For example, if A=[1,2,3], median is 2. If A=[1,19], median is 1.\n",
        "```"
      ]
    },
    {
      "metadata": {
        "id": "ZeF7xkQvlM9x",
        "colab_type": "code",
        "colab": {
          "base_uri": "https://localhost:8080/",
          "height": 35
        },
        "outputId": "8fd34a9f-14d8-494b-a662-10b9145b5805"
      },
      "cell_type": "code",
      "source": [
        "import heapq\n",
        "class Solution:\n",
        "    \"\"\"\n",
        "    @param nums: A list of integers.\n",
        "    @return: The median of numbers\n",
        "    \"\"\"\n",
        "    \n",
        "    minHeap, maxHeap = [], []\n",
        "    numbers = 0\n",
        "    def medianII(self, nums):\n",
        "        ans = []\n",
        "        for item in nums:\n",
        "            self.add(item)\n",
        "            ans.append(self.getMedian())\n",
        "        return ans\n",
        "        \n",
        "    \n",
        "    def getMedian(self):\n",
        "        return -self.maxHeap[0]\n",
        "\n",
        "    def add(self, value):\n",
        "        if self.numbers % 2 == 0:\n",
        "            heapq.heappush(self.maxHeap, -value)\n",
        "        else:\n",
        "            heapq.heappush(self.minHeap, value)\n",
        "        self.numbers += 1\n",
        "        if len(self.minHeap)==0 or len(self.maxHeap)==0:\n",
        "            return\n",
        "\n",
        "        if -self.maxHeap[0] > self.minHeap[0]:\n",
        "            maxroot = -self.maxHeap[0]\n",
        "            minroot = self.minHeap[0]\n",
        "            heapq.heapreplace(self.maxHeap, -minroot)\n",
        "            heapq.heapreplace(self.minHeap, maxroot)\n",
        "\n",
        "if __name__ == \"__main__\":\n",
        "    s = Solution()\n",
        "    print s.medianII([2,20,13,18,15,8,3,5,4,25])"
      ],
      "execution_count": 5,
      "outputs": [
        {
          "output_type": "stream",
          "text": [
            "[2, 2, 13, 13, 15, 13, 13, 8, 8, 8]\n"
          ],
          "name": "stdout"
        }
      ]
    },
    {
      "metadata": {
        "id": "MoPIr1Sel8ZZ",
        "colab_type": "text"
      },
      "cell_type": "markdown",
      "source": [
        "### 360. Sliding Window Median\n",
        "Given an array of n integer, and a moving window(size k), move the window at each iteration from the start of the array, find the median of the element inside the window at each moving. (If there are even numbers in the array, return the N/2-th number after sorting the element in the window. )\n",
        "```\n",
        "Example\n",
        "For array [1,2,7,8,5], moving window size k = 3. return [2,7,7]\n",
        "\n",
        "At first the window is at the start of the array like this\n",
        "\n",
        "[ | 1,2,7 | ,8,5] , return the median 2;\n",
        "\n",
        "then the window move one step forward.\n",
        "\n",
        "[1, | 2,7,8 | ,5], return the median 7;\n",
        "\n",
        "then the window move one step forward again.\n",
        "\n",
        "[1,2, | 7,8,5 | ], return the median 7;\n",
        "\n",
        "Challenge\n",
        "O(nlog(n)) time\n",
        "```"
      ]
    },
    {
      "metadata": {
        "id": "hY72TQnWl--g",
        "colab_type": "code",
        "colab": {
          "base_uri": "https://localhost:8080/",
          "height": 35
        },
        "outputId": "c76f9ab4-0ea0-483e-ed37-e8c56e1c1c1a"
      },
      "cell_type": "code",
      "source": [
        "import bisect\n",
        "class Solution:\n",
        "    \"\"\"\n",
        "    @param nums: A list of integers\n",
        "    @param k: An integer\n",
        "    @return: The median of the element inside the window at each moving\n",
        "    \"\"\"\n",
        "    def medianSlidingWindow(self, nums, k):\n",
        "        n = len(nums)\n",
        "        if not nums or n < k :\n",
        "            return []\n",
        "        mid = (k-1)/2\n",
        "        deck = nums[:k]\n",
        "        deck.sort()\n",
        "        ans = [deck[mid]]\n",
        "        for i in range(k, len(nums)):\n",
        "            out = nums[i-k]\n",
        "            inn = nums[i]\n",
        "            deck.pop(bisect.bisect_left(deck, out))\n",
        "            deck.insert(bisect.bisect_left(deck, inn), inn)\n",
        "            ans.append(deck[mid])\n",
        "        return ans\n",
        "\n",
        "if __name__ == \"__main__\":\n",
        "    s = Solution()\n",
        "    print s.medianSlidingWindow([1,2,7,7,2], 3)"
      ],
      "execution_count": 6,
      "outputs": [
        {
          "output_type": "stream",
          "text": [
            "[2, 7, 7]\n"
          ],
          "name": "stdout"
        }
      ]
    },
    {
      "metadata": {
        "id": "ua1sV7L-mCDI",
        "colab_type": "text"
      },
      "cell_type": "markdown",
      "source": [
        "### 362. Sliding Window Maximum\n",
        "Given an array of n integer with duplicate number, and a moving window(size k), move the window at each iteration from the start of the array, find the maximum number inside the window at each moving.\n",
        "```\n",
        "Example\n",
        "For array [1, 2, 7, 7, 8], moving window size k = 3. return [7, 7, 8]\n",
        "\n",
        "At first the window is at the start of the array like this\n",
        "\n",
        "[|1, 2, 7| ,7, 8] , return the maximum 7;\n",
        "\n",
        "then the window move one step forward.\n",
        "\n",
        "[1, |2, 7 ,7|, 8], return the maximum 7;\n",
        "\n",
        "then the window move one step forward again.\n",
        "\n",
        "[1, 2, |7, 7, 8|], return the maximum 8;\n",
        "\n",
        "Challenge\n",
        "o(n) time and O(k) memory\n",
        "```"
      ]
    },
    {
      "metadata": {
        "id": "sNWLAj04mIfH",
        "colab_type": "code",
        "colab": {}
      },
      "cell_type": "code",
      "source": [
        "from collections import deque\n",
        "class Solution:\n",
        "    \"\"\"\n",
        "    @param nums: A list of integers\n",
        "    @param k: An integer\n",
        "    @return: The median of the element inside the window at each moving\n",
        "    \"\"\"\n",
        "    def maxSlidingWindow(self, nums, k):\n",
        "        n = len(nums)\n",
        "        if not nums or n < k:\n",
        "            return []\n",
        "        deck = deque()\n",
        "        ans =[]\n",
        "        for i in range(n):\n",
        "            while deck and nums[deck[-1]] < nums[i]:\n",
        "                deck.pop()\n",
        "            deck.append(i)\n",
        "            while deck and deck[0] <= i -k:\n",
        "                deck.popleft()\n",
        "            if i >= k-1:\n",
        "                ans.append(nums[deck[0]])\n",
        "        return ans"
      ],
      "execution_count": 0,
      "outputs": []
    },
    {
      "metadata": {
        "id": "HyZ75RWhg3Yi",
        "colab_type": "text"
      },
      "cell_type": "markdown",
      "source": [
        "## Mono Stack"
      ]
    },
    {
      "metadata": {
        "id": "s1TRpPaNhBFA",
        "colab_type": "text"
      },
      "cell_type": "markdown",
      "source": [
        "### 126. Max Tree\n",
        "Given an integer array with no duplicates. A max tree building on this array is defined as follow:\n",
        "\n",
        "The root is the maximum number in the array\n",
        "The left subtree and right subtree are the max trees of the subarray divided by the root number.\n",
        "Construct the max tree by the given array.\n",
        "```\n",
        "Example\n",
        "Given [2, 5, 6, 0, 3, 1], the max tree constructed by this array is:\n",
        "\n",
        "    6\n",
        "   / \\\n",
        "  5   3\n",
        " /   / \\\n",
        "2   0   1\n",
        "Challenge\n",
        "O(n) time and memory.\n",
        "```"
      ]
    },
    {
      "metadata": {
        "id": "nAeC0vF1iXvP",
        "colab_type": "code",
        "colab": {
          "base_uri": "https://localhost:8080/",
          "height": 35
        },
        "outputId": "95a111bb-13b1-4d67-942a-df78bed2c6f5"
      },
      "cell_type": "code",
      "source": [
        "\"\"\"\n",
        "Definition of TreeNode:\n",
        "\"\"\"\n",
        "class TreeNode:\n",
        "    def __init__(self, val):\n",
        "        self.val = val\n",
        "        self.left, self.right = None, None\n",
        "\n",
        "\n",
        "class Solution:\n",
        "    \"\"\"\n",
        "    @param A: Given an integer array with no duplicates.\n",
        "    @return: The root of max tree.\n",
        "    \"\"\"\n",
        "    def maxTree(self, A):\n",
        "        if not A:\n",
        "            return None\n",
        "        stack = [] \n",
        "        for a in A:\n",
        "            node = TreeNode(a)\n",
        "            while stack and a > stack[-1].val:\n",
        "                node.left = stack.pop()\n",
        "            if stack:\n",
        "                stack[-1].right = node \n",
        "            stack.append(node)\n",
        "        return stack[0]\n",
        "\n",
        "if __name__ == \"__main__\":\n",
        "    s = Solution()\n",
        "    print s.maxTree([2, 5, 6, 0, 3, 1]).val"
      ],
      "execution_count": 2,
      "outputs": [
        {
          "output_type": "stream",
          "text": [
            "6\n"
          ],
          "name": "stdout"
        }
      ]
    }
  ]
}