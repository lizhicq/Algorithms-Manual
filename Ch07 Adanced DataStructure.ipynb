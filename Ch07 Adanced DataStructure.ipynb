{
 "cells": [
  {
   "cell_type": "markdown",
   "metadata": {
    "colab_type": "text",
    "id": "view-in-github"
   },
   "source": [
    "<a href=\"https://colab.research.google.com/github/lizhicq/Algorithms-Manual/blob/master/Ch07%20Adanced%20DataStructure.ipynb\" target=\"_parent\"><img src=\"https://colab.research.google.com/assets/colab-badge.svg\" alt=\"Open In Colab\"/></a>"
   ]
  },
  {
   "cell_type": "markdown",
   "metadata": {
    "colab_type": "text",
    "id": "_mGhYayE7-Ht"
   },
   "source": [
    "# Advanced DataStructure"
   ]
  },
  {
   "cell_type": "markdown",
   "metadata": {
    "colab_type": "text",
    "id": "NmIqg5Rbz-Hc"
   },
   "source": [
    "## Hashheap\n",
    "1. 在heap的基础上支持查询操作O(1)\n",
    "2. 可以从底层重写，也可以用OrderedDict来写"
   ]
  },
  {
   "cell_type": "code",
   "execution_count": null,
   "metadata": {
    "colab": {},
    "colab_type": "code",
    "id": "mW_oIlIg0m9a"
   },
   "outputs": [],
   "source": [
    "class HashHeap:\n",
    "    \n",
    "    def __init__(self):\n",
    "        self.heap = [0]\n",
    "        self.hash = {}\n",
    "        \n",
    "    def add(self, key, value):\n",
    "        self.heap.append((key, value))\n",
    "        self.hash[key] = self.heap[0] + 1\n",
    "        self.heap[0] += 1\n",
    "        self._siftup(self.heap[0])\n",
    "        \n",
    "    def remove(self, key):\n",
    "        index = self.hash[key]\n",
    "        self._swap(index, self.heap[0])\n",
    "        del self.hash[self.heap[self.heap[0]][0]]\n",
    "        self.heap.pop()\n",
    "        self.heap[0] -= 1\n",
    "        if index <= self.heap[0]:\n",
    "            index = self._siftup(index)\n",
    "            self._siftdown(index)\n",
    "        \n",
    "    def hasKey(self, key):\n",
    "        return key in self.hash\n",
    "        \n",
    "    def max(self):\n",
    "        return 0 if self.heap[0] == 0 else self.heap[1][1]\n",
    "    \n",
    "    def _swap(self, a, b):\n",
    "        self.heap[a], self.heap[b] = self.heap[b], self.heap[a]\n",
    "        self.hash[self.heap[a][0]] = a\n",
    "        self.hash[self.heap[b][0]] = b\n",
    "        \n",
    "    def _siftup(self, index):\n",
    "        while index != 1:\n",
    "            if self.heap[index][1] <= self.heap[index / 2][1]:\n",
    "                break\n",
    "            self._swap(index, index / 2)\n",
    "            index = index / 2\n",
    "        return index\n",
    "        \n",
    "    def _siftdown(self, index):\n",
    "        size = self.heap[0]\n",
    "        while index < size:\n",
    "            t = index\n",
    "            if index * 2 <= size and self.heap[t][1] < self.heap[index * 2][1]:\n",
    "                t = index * 2\n",
    "            if index * 2 + 1 <= size and self.heap[t][1] < self.heap[index * 2 + 1][1]:\n",
    "                t = index * 2 + 1\n",
    "            if t == index:\n",
    "                break\n",
    "            self._swap(index, t)\n",
    "            index = t\n",
    "        return index"
   ]
  },
  {
   "cell_type": "markdown",
   "metadata": {
    "colab_type": "text",
    "id": "ZGlu1CXm00u3"
   },
   "source": [
    "### 131. The Skyline Problem\n",
    "Given N buildings in a x-axis，each building is a rectangle and can be represented by a triple (start, end, height)，where start is the start position on x-axis, end is the end position on x-axis and height is the height of the building. Buildings may overlap if you see them from far away，find the outline of them。\n",
    "\n",
    "An outline can be represented by a triple, (start, end, height), where start is the start position on x-axis of the outline, end is the end position on x-axis and height is the height of the outline.\n",
    "\n",
    "Building Outline\n",
    "![alt text](https://lintcode-media.s3.amazonaws.com/problem/jiuzhang3.jpg)\n",
    "```\n",
    "Example\n",
    "Given 3 buildings：\n",
    "\n",
    "[\n",
    "  [1, 3, 3],\n",
    "  [2, 4, 4],\n",
    "  [5, 6, 1]\n",
    "]\n",
    "The outlines are：\n",
    "\n",
    "[\n",
    "  [1, 2, 3],\n",
    "  [2, 4, 4],\n",
    "  [5, 6, 1]\n",
    "]\n",
    "```"
   ]
  },
  {
   "cell_type": "code",
   "execution_count": null,
   "metadata": {
    "colab": {},
    "colab_type": "code",
    "id": "VOOvwbzM1MZ7"
   },
   "outputs": [],
   "source": []
  },
  {
   "cell_type": "markdown",
   "metadata": {
    "colab_type": "text",
    "id": "93qvOZnOrzwU"
   },
   "source": [
    "### 134. LRU Cache\n",
    "Design and implement a data structure for Least Recently Used (LRU) cache. It should support the following operations: get and set.\n",
    "```\n",
    "get(key) - Get the value (will always be positive) of the key if the key exists in the cache, otherwise return -1.\n",
    "set(key, value) - Set or insert the value if the key is not already present. When the cache reached its capacity, it should invalidate the least recently used item before inserting a new item.\n",
    "```"
   ]
  },
  {
   "cell_type": "code",
   "execution_count": null,
   "metadata": {
    "colab": {},
    "colab_type": "code",
    "id": "JpgjY2__r4JL"
   },
   "outputs": [],
   "source": [
    "from collections import  OrderedDict\n",
    "\n",
    "class LRUCache:\n",
    "    def __init__(self, capacity):\n",
    "        self.capacity = capacity\n",
    "        self.cache = OrderedDict()\n",
    "\n",
    "    def get(self, key):\n",
    "        try:\n",
    "            value = self.cache.pop(key)\n",
    "            self.cache[key] = value\n",
    "            return value\n",
    "        except KeyError:\n",
    "            return -1\n",
    "\n",
    "    def set(self, key, value):\n",
    "        try:\n",
    "            self.cache.pop(key)\n",
    "        except KeyError:\n",
    "            if len(self.cache) >= self.capacity:\n",
    "                self.cache.popitem(last=False) \n",
    "                # Pairs are returned in LIFO order if last is true or FIFO order if false\n",
    "        self.cache[key] = value        "
   ]
  },
  {
   "cell_type": "markdown",
   "metadata": {
    "colab_type": "text",
    "id": "h_to3ruy-u9b"
   },
   "source": [
    "## Union Find\n",
    "\n",
    "*   Union O(1)\n",
    "*   Find O(1)\n",
    "\n",
    "    def find(self, x):\n",
    "        if self.father[x] == 0:\n",
    "            return x\n",
    "        self.father[x] = self.find(self.father[x])\n",
    "        return self.father[x]\n",
    "    \n",
    "    def connect(self, a, b):\n",
    "        root_a = self.find(a)\n",
    "        root_b = self.find(b)\n",
    "        if root_a != root_b:\n",
    "            self.father[root_a] = root_b\n",
    "\n",
    "\n"
   ]
  },
  {
   "cell_type": "markdown",
   "metadata": {
    "colab_type": "text",
    "id": "LKqE_xZHKozB"
   },
   "source": [
    "### 589. Connecting Graph\n",
    "Given n nodes in a graph labeled from 1 to n. There is no edges in the graph at beginning.\n",
    "\n",
    "You need to support the following method:\n",
    "\n",
    "connect(a, b), add an edge to connect node a and node b`.\n",
    "query(a, b), check if two nodes are connected\n",
    "```\n",
    "Example\n",
    "5 // n = 5\n",
    "query(1, 2) return false\n",
    "connect(1, 2)\n",
    "query(1, 3) return false\n",
    "connect(2, 4)\n",
    "query(1, 4) return true\n",
    "```"
   ]
  },
  {
   "cell_type": "code",
   "execution_count": null,
   "metadata": {
    "colab": {},
    "colab_type": "code",
    "id": "Yq0Py_PTEW7T"
   },
   "outputs": [],
   "source": [
    "class ConnectingGraph:\n",
    "    \"\"\"\n",
    "    @param: n: An integer\n",
    "    \"\"\"\n",
    "    def __init__(self, n):\n",
    "        self.father = [0 for _ in range(n+1)]\n",
    "    \n",
    "    def find(self, x):\n",
    "        if self.father[x] == 0:\n",
    "            return x\n",
    "        self.father[x] = self.find(self.father[x])\n",
    "        return self.father[x]\n",
    "    \n",
    "    \"\"\"\n",
    "    @param: a: An integer\n",
    "    @param: b: An integer\n",
    "    @return: nothing\n",
    "    \"\"\"\n",
    "    def connect(self, a, b):\n",
    "        root_a = self.find(a)\n",
    "        root_b = self.find(b)\n",
    "        if root_a != root_b:\n",
    "            self.father[root_a] = root_b\n",
    "\n",
    "    \"\"\"\n",
    "    @param: a: An integer\n",
    "    @param: b: An integer\n",
    "    @return: A boolean\n",
    "    \"\"\"\n",
    "    def query(self, a, b):\n",
    "        root_a = self.find(a)\n",
    "        root_b = self.find(b)\n",
    "        return root_a == root_b"
   ]
  },
  {
   "cell_type": "markdown",
   "metadata": {
    "colab_type": "text",
    "id": "L5lRuMxgKsZ4"
   },
   "source": [
    "### 590. Connecting Graph II\n",
    "Given n nodes in a graph labeled from 1 to n. There is no edges in the graph at beginning.\n",
    "\n",
    "You need to support the following method:\n",
    "\n",
    "connect(a, b), an edge to connect node a and node b\n",
    "query(a), Returns the number of connected component nodes which include node a.\n",
    "```\n",
    "Example\n",
    "5 // n = 5\n",
    "query(1) return 1\n",
    "connect(1, 2)\n",
    "query(1) return 2\n",
    "connect(2, 4)\n",
    "query(1) return 3\n",
    "connect(1, 4)\n",
    "query(1) return 3\n",
    "```"
   ]
  },
  {
   "cell_type": "code",
   "execution_count": null,
   "metadata": {
    "colab": {},
    "colab_type": "code",
    "id": "mSS6LKB2ESP5"
   },
   "outputs": [],
   "source": [
    "class ConnectingGraph2:\n",
    "    \"\"\"\n",
    "    @param: n: An integer\n",
    "    \"\"\"\n",
    "    def __init__(self, n):\n",
    "        self.father = [0 for _ in range(n+1)]\n",
    "        self.size = [1 for _ in range(n+1)]\n",
    "\n",
    "    def find(self, x):\n",
    "        if self.father[x] == 0:\n",
    "            return x\n",
    "        self.father[x] = self.find(self.father[x])\n",
    "        return self.father[x]\n",
    "\n",
    "    def connect(self, a, b):\n",
    "        root_a = self.find(a)\n",
    "        root_b = self.find(b)\n",
    "        if root_a != root_b:\n",
    "            self.father[root_a] = root_b\n",
    "            self.size[root_b] += self.size[root_a]\n",
    "\n",
    "    def query(self, a):\n",
    "        return self.size[self.find(a)]"
   ]
  },
  {
   "cell_type": "markdown",
   "metadata": {
    "colab_type": "text",
    "id": "s63j01QiK1UX"
   },
   "source": [
    "### 591. Connecting Graph III\n",
    "Given n nodes in a graph labeled from 1 to n. There is no edges in the graph at beginning.\n",
    "\n",
    "You need to support the following method:\n",
    "\n",
    "connect(a, b), an edge to connect node a and node b\n",
    "query(), Returns the number of connected component in the graph\n",
    "```\n",
    "Example\n",
    "5 // n = 5\n",
    "query() return 5\n",
    "connect(1, 2)\n",
    "query() return 4\n",
    "connect(2, 4)\n",
    "query() return 3\n",
    "connect(1, 4)\n",
    "query() return 3\n",
    "```"
   ]
  },
  {
   "cell_type": "code",
   "execution_count": null,
   "metadata": {
    "colab": {},
    "colab_type": "code",
    "id": "z2INZpeBESTj"
   },
   "outputs": [],
   "source": [
    "class ConnectingGraph3:\n",
    "    \"\"\"\n",
    "    @param: n: An integer\n",
    "    \"\"\"\n",
    "    def __init__(self, n):\n",
    "        self.father = [0 for _ in range(n+1)]\n",
    "        self.size = n\n",
    "\n",
    "    def find(self, x):\n",
    "        if self.father[x] == 0:\n",
    "            return x\n",
    "        self.father[x] = self.find(self.father[x])\n",
    "        return self.father[x]\n",
    "\n",
    "    def connect(self, a, b):\n",
    "        root_a = self.find(a)\n",
    "        root_b = self.find(b)\n",
    "        if root_a != root_b:\n",
    "            self.father[root_a] = root_b\n",
    "            self.size -= 1\n",
    "\n",
    "    def query(self):\n",
    "        return self.size"
   ]
  },
  {
   "cell_type": "markdown",
   "metadata": {
    "colab_type": "text",
    "id": "au3NHydgK5IQ"
   },
   "source": [
    "### 442. Implement Trie (Prefix Tree)\n",
    "Implement a trie with insert, search, and startsWith methods.\n",
    "```\n",
    "Example\n",
    "insert(\"lintcode\")\n",
    "search(\"code\")\n",
    ">>> false\n",
    "startsWith(\"lint\")\n",
    ">>> true\n",
    "startsWith(\"linterror\")\n",
    ">>> false\n",
    "insert(\"linterror\")\n",
    "search(\"lintcode)\n",
    ">>> true\n",
    "startsWith(\"linterror\")\n",
    ">>> true\n",
    "Notice\n",
    "You may assume that all inputs are consist of lowercase letters a-z.\n",
    "```"
   ]
  },
  {
   "cell_type": "code",
   "execution_count": null,
   "metadata": {
    "colab": {},
    "colab_type": "code",
    "id": "jbegDmstESWR"
   },
   "outputs": [],
   "source": [
    "import sys\n",
    "class recursionlimit:\n",
    "    def __init__(self, limit):\n",
    "        self.limit = limit\n",
    "        self.old_limit = sys.getrecursionlimit()\n",
    "\n",
    "    def __enter__(self):\n",
    "        sys.setrecursionlimit(self.limit)\n",
    "\n",
    "    def __exit__(self, type, value, tb):\n",
    "        sys.setrecursionlimit(self.old_limit)\n",
    "\n",
    "class Trie:\n",
    "\n",
    "    def __init__(self):\n",
    "        self.trie = {}\n",
    "\n",
    "    def insert(self, word):\n",
    "        \"\"\"\n",
    "        @param: word: a word\n",
    "        @return: nothing\n",
    "        \"\"\"\n",
    "        def dfs(start, trie):\n",
    "            if start == len(word):\n",
    "                trie[''] = {}\n",
    "                return\n",
    "            ch = word[start]\n",
    "            if ch not in trie:\n",
    "                trie[ch] = {}\n",
    "            dfs(start+1, trie[ch])\n",
    "\n",
    "        dfs(0, self.trie)\n",
    "\n",
    "    def search(self, word):\n",
    "        \"\"\"\n",
    "        @param: word: A string\n",
    "        @return: if the word is in the trie.\n",
    "        \"\"\"\n",
    "        def helper(start, trie):\n",
    "            if start == len(word):\n",
    "                return '' in trie\n",
    "            ch = word[start]\n",
    "            if ch not in trie:\n",
    "                return False\n",
    "            return helper(start+1, trie[ch])\n",
    "\n",
    "        return helper(0, self.trie)\n",
    "\n",
    "    def startsWith(self, prefix):\n",
    "        \"\"\"\n",
    "        @param: prefix: A string\n",
    "        @return: if there is any word in the trie that starts with the given prefix.\n",
    "        \"\"\"\n",
    "        def helper(start, trie):\n",
    "            if start == len(prefix):\n",
    "                return True\n",
    "            ch = prefix[start]\n",
    "            if ch not in trie:\n",
    "                return False\n",
    "            return helper(start+1, trie[ch])\n",
    "\n",
    "        return helper(0, self.trie)\n",
    "\n",
    "if __name__ ==\"__main__\":\n",
    "\n",
    "    with recursionlimit(2500):\n",
    "        s = Trie()\n",
    "        s.insert(\"aaa\")\n",
    "        s.insert(\"aaaz\")\n",
    "        print s.search(\"aaa\")\n"
   ]
  },
  {
   "cell_type": "markdown",
   "metadata": {
    "colab_type": "text",
    "id": "I9GgBwkOBIv5"
   },
   "source": [
    "### 473. Add and Search Word - Data structure design\n",
    "Design a data structure that supports the following two operations: addWord(word) and search(word)\n",
    "\n",
    "search(word) can search a literal word or a regular expression string containing only letters a-z or ..\n",
    "\n",
    "A . means it can represent any one letter.\n",
    "```\n",
    "Example\n",
    "addWord(\"bad\")\n",
    "addWord(\"dad\")\n",
    "addWord(\"mad\")\n",
    "search(\"pad\")  // return false\n",
    "search(\"bad\")  // return true\n",
    "search(\".ad\")  // return true\n",
    "search(\"b..\")  // return true\n",
    "Notice\n",
    "You may assume that all words are consist of lowercase letters a-z.\n",
    "```"
   ]
  },
  {
   "cell_type": "code",
   "execution_count": null,
   "metadata": {
    "colab": {
     "base_uri": "https://localhost:8080/",
     "height": 35
    },
    "colab_type": "code",
    "id": "GVZkSG49-uF0",
    "outputId": "de652066-5871-4f3c-d307-16a554edaa6b"
   },
   "outputs": [
    {
     "name": "stdout",
     "output_type": "stream",
     "text": [
      "False\n"
     ]
    }
   ],
   "source": [
    "class WordDictionary:\n",
    "    \n",
    "    def __init__(self):\n",
    "        self.trie = {}\n",
    "\n",
    "    def addWord(self, word):\n",
    "        \"\"\"\n",
    "        @param: word: Adds a word into the data structure.\n",
    "        @return: nothing\n",
    "        \"\"\"\n",
    "        def dfs(start, trie):\n",
    "            if start == len(word):\n",
    "                trie[''] = {}\n",
    "                return\n",
    "            ch = word[start] \n",
    "            if ch not in trie:\n",
    "                trie[ch] = {}\n",
    "            dfs(start+1, trie[ch])\n",
    "        dfs(0, self.trie)\n",
    "\n",
    "    def search(self, word):\n",
    "        \"\"\"\n",
    "        @param: word: A word could contain the dot character '.' to represent any one letter.\n",
    "        @return: if the word is in the data structure.\n",
    "        \"\"\"\n",
    "        def helper(start, trie):\n",
    "            if start == len(word):\n",
    "                return '' in trie\n",
    "            ch = word[start]\n",
    "            if ch == '.':\n",
    "                for c in trie:\n",
    "                    if helper(start+1, trie[c]):\n",
    "                        return True\n",
    "                return False\n",
    "            elif ch not in trie:\n",
    "                return False\n",
    "            else:\n",
    "                return helper(start+1, trie[ch])\n",
    "        \n",
    "        return helper(0, self.trie)\n",
    "        \n",
    "        \n",
    "if __name__ ==\"__main__1\":\n",
    "    s = WordDictionary()\n",
    "    s.addWord(\"bad\")\n",
    "    s.addWord(\"dad\")\n",
    "    s.addWord(\"mad\")\n",
    "    print s.search(\"pad\")  # return false\n",
    "    print s.search(\"bad\")  # return true\n",
    "    print s.search(\".ad\")  # return true\n",
    "    print s.search(\"b..\")  # return true\n",
    "    \n",
    "if __name__ == \"__main__2\":\n",
    "    s = WordDictionary()\n",
    "    print s.search(\".\")\n",
    "\n",
    "    \n",
    "if __name__ == \"__main__\":\n",
    "    s = WordDictionary()\n",
    "    s.addWord(\"a\")\n",
    "    s.addWord(\"a\")\n",
    "    print s.search(\"a.\")"
   ]
  },
  {
   "cell_type": "markdown",
   "metadata": {
    "colab_type": "text",
    "id": "JhTlSxPEpB5h"
   },
   "source": [
    "### 432. Find the Weak Connected Component in the Directed Graph\n",
    "Find the number Weak Connected Component in the directed graph. Each node in the graph contains a label and a list of its neighbors. (a connected set of a directed graph is a subgraph in which any two vertices are connected by direct edge path.)\n",
    "```\n",
    "Example\n",
    "Given graph:\n",
    "\n",
    "A----->B  C\n",
    " \\     |  | \n",
    "  \\    |  |\n",
    "   \\   |  |\n",
    "    \\  v  v\n",
    "     ->D  E <- F\n",
    "\n",
    "Return {A,B,D}, {C,E,F}. Since there are two connected component which are {A,B,D} and {C,E,F}\n",
    "\n",
    "Notice\n",
    "Sort the element in the set in increasing order\n",
    "```\n",
    "Notes:\n",
    "*   Union find的表最后的values未必是所有father都是一个值，[1:2, 2:4, 3:2, 4:4] 2, 3, 4 的father 都是4\n",
    "\n"
   ]
  },
  {
   "cell_type": "code",
   "execution_count": null,
   "metadata": {
    "colab": {},
    "colab_type": "code",
    "id": "KkS14Mj9pCFX"
   },
   "outputs": [],
   "source": [
    "class DirectedGraphNode:\n",
    "    def __init__(self, x):\n",
    "        self.label = x\n",
    "        self.neighbors = []\n",
    "\n",
    "\n",
    "class Solution:\n",
    "    \"\"\"\n",
    "    @param: nodes: a array of Directed graph node\n",
    "    @return: a connected set of a directed graph\n",
    "    \"\"\"\n",
    "    def __init__(self):\n",
    "        self.father = {} \n",
    "    \n",
    "    def connectedSet2(self, nodes):\n",
    "        for node in nodes:\n",
    "            x = node.label\n",
    "            self.father[x] = x \n",
    "        \n",
    "        for node in nodes:\n",
    "            for nb in node.neighbors:\n",
    "                self.union(node.label, nb.label)\n",
    "        \n",
    "        ans = {}\n",
    "        \n",
    "        for node in nodes:\n",
    "            x = node.label\n",
    "            fa = self.find(x)\n",
    "            ans.setdefault(fa, []).append(x)\n",
    "        \n",
    "        return ans.values()\n",
    "        \n",
    "        \n",
    "        \n",
    "    def find(self, x):\n",
    "        if self.father[x] == x:\n",
    "            return x\n",
    "        return self.find(self.father[x])\n",
    "    \n",
    "    \n",
    "    def union(self, node_a, node_b):\n",
    "        root_a = self.find(node_a)\n",
    "        root_b = self.find(node_b)\n",
    "        \n",
    "        if root_a != root_b:\n",
    "             self.father[root_a] = root_b\n"
   ]
  },
  {
   "cell_type": "markdown",
   "metadata": {
    "colab_type": "text",
    "id": "wzjkS-vuUjLa"
   },
   "source": [
    "### 1070. Accounts Merge\n",
    "Given a list accounts, each element accounts[i] is a list of strings, where the first element accounts[i][0] is a name, and the rest of the elements are emails representing emails of the account.\n",
    "\n",
    "Now, we would like to merge these accounts. Two accounts definitely belong to the same person if there is some email that is common to both accounts. Note that even if two accounts have the same name, they may belong to different people as people could have the same name. A person can have any number of accounts initially, but all of their accounts definitely have the same name.\n",
    "\n",
    "After merging the accounts, return the accounts in the following format: the first element of each account is the name, and the rest of the elements are emails in sorted order. The accounts themselves can be returned in any order.\n",
    "```\n",
    "Example\n",
    "Given\n",
    "\n",
    "[\n",
    "  [\"John\", \"johnsmith@mail.com\", \"john00@mail.com\"],\n",
    "  [\"John\", \"johnnybravo@mail.com\"],\n",
    "  [\"John\", \"johnsmith@mail.com\", \"john_newyork@mail.com\"],\n",
    "  [\"Mary\", \"mary@mail.com\"]\n",
    "]\n",
    "Return\n",
    "\n",
    "[\n",
    "  [\"John\", 'john00@mail.com', 'john_newyork@mail.com', 'johnsmith@mail.com'],\n",
    "  [\"John\", \"johnnybravo@mail.com\"],\n",
    "  [\"Mary\", \"mary@mail.com\"]\n",
    "]\n",
    "Explanation:\n",
    "The first and third John's are the same person as they have the common email \"johnsmith@mail.com\".\n",
    "The second John and Mary are different people as none of their email addresses are used by other accounts.\n",
    "\n",
    "You could return these lists in any order, for example the answer\n",
    "\n",
    "[\n",
    "  ['Mary', 'mary@mail.com'],\n",
    "  ['John', 'johnnybravo@mail.com'],\n",
    "  ['John', 'john00@mail.com', 'john_newyork@mail.com', 'johnsmith@mail.com']\n",
    "]\n",
    "is also acceptable.\n",
    "\n",
    "Notice\n",
    "The length of accounts will be in the range [1, 1000].\n",
    "The length of accounts[i] will be in the range [1, 10].\n",
    "The length of accounts[i][j] will be in the range [1, 30].\n",
    "```"
   ]
  },
  {
   "cell_type": "code",
   "execution_count": null,
   "metadata": {
    "colab": {},
    "colab_type": "code",
    "id": "hLkwp9BdUnfo"
   },
   "outputs": [],
   "source": [
    "from collections import defaultdict\n",
    "class Solution:\n",
    "    def accountsMerge(self, accounts):\n",
    "        self.father = [i for i in range(len(accounts))]\n",
    "        email_to_ids = defaultdict(set) # dict[email] = [id1, id2]\n",
    "        for i, account in enumerate(accounts):\n",
    "            for email in account[1:]:\n",
    "                email_to_ids[email].add(i)\n",
    "\n",
    "        # union the id with same email\n",
    "        for email, ids in email_to_ids.iteritems():\n",
    "            ids = list(ids)\n",
    "            root_id = ids[0]\n",
    "            for id in ids[1:]:\n",
    "                self.union(id, root_id)\n",
    "\n",
    "        id_to_email_set = defaultdict(set)\n",
    "        for id, account in enumerate(accounts):\n",
    "            root_user = self.find(id)\n",
    "            for email in account[1:]:\n",
    "                id_to_email_set[root_user].add(email)\n",
    "\n",
    "        merged_accounts = []\n",
    "        for user_id, email_set in id_to_email_set.iteritems():\n",
    "            merged_accounts.append([accounts[user_id][0]] + sorted(email_set))\n",
    "        return merged_accounts\n",
    "\n",
    "    def union(self, id1, id2):\n",
    "        self.father[self.find(id1)] = self.find(id2)\n",
    "\n",
    "    def find(self, id):\n",
    "        return id if id == self.father[id] else self.find(self.father[id])\n",
    "\n",
    "\n",
    "\n",
    "if __name__ == \"__main__\":\n",
    "    accounts = [[\"John\", \"johnsmith@mail.com\", \"john00@mail.com\"],\n",
    "                  [\"John\", \"johnnybravo@mail.com\"],\n",
    "                  [\"John\", \"johnsmith@mail.com\", \"john_newyork@mail.com\"],\n",
    "                  [\"Mary\", \"mary@mail.com\"]]\n",
    "    s = Solution()\n",
    "    print s.accountsMerge(accounts)"
   ]
  },
  {
   "cell_type": "markdown",
   "metadata": {
    "colab_type": "text",
    "id": "xX8qT2zS7NPN"
   },
   "source": [
    "### 629. Minimum Spanning Tree\n",
    "Given a list of Connections, which is the Connection class (the city name at both ends of the edge and a cost between them), find some edges, connect all the cities and spend the least amount.\n",
    "Return the connects if can connect all the cities, otherwise return empty list.\n",
    "```\n",
    "Example\n",
    "Gievn the connections = [\"Acity\",\"Bcity\",1], [\"Acity\",\"Ccity\",2], [\"Bcity\",\"Ccity\",3]\n",
    "\n",
    "Return [\"Acity\",\"Bcity\",1], [\"Acity\",\"Ccity\",2]\n",
    "\n",
    "Notice\n",
    "Return the connections sorted by the cost, or sorted city1 name if their cost is same, or sorted city2 if their city1 name is also same.\n",
    "```"
   ]
  },
  {
   "cell_type": "code",
   "execution_count": null,
   "metadata": {
    "colab": {},
    "colab_type": "code",
    "id": "6c19otik7PWa"
   },
   "outputs": [],
   "source": [
    "class Solution:\n",
    "    # param {Connection[]} connections given a list of connections\n",
    "    # include two cities and cost\n",
    "    # @return {Connection[]} a list of connections from results\n",
    "    def lowestCost(self, connections):\n",
    "        # Write your code here\n",
    "        connections.sort(key = lambda x: (x.cost, x.city1, x.city2))\n",
    "        self.ans = []\n",
    "        self.root_city, self.count = {}, 0 \n",
    "        for c in connections:\n",
    "            city1, city2= c.city1, c.city2\n",
    "            if city1 not in self.root_city:\n",
    "                self.root_city[city1] = city1\n",
    "                self.count += 1\n",
    "            if city2 not in self.root_city:\n",
    "                self.root_city[city2] = city2\n",
    "                self.count += 1\n",
    "            self.union(c)\n",
    "        \n",
    "        if self.count == 1:\n",
    "            return self.ans \n",
    "        else:\n",
    "            return []\n",
    "    \n",
    "    def union(self, c):\n",
    "        root_a, root_b = self.find(c.city1), self.find(c.city2)\n",
    "        if root_a != root_b:\n",
    "            self.root_city[root_a] = root_b\n",
    "            self.count -= 1 \n",
    "            self.ans.append(c)\n",
    "    \n",
    "    def find(self, city):\n",
    "        if self.root_city[city] == city:\n",
    "            return city\n",
    "        self.root_city[city] = self.find(self.root_city[city])\n",
    "        return self.root_city[city]"
   ]
  },
  {
   "cell_type": "markdown",
   "metadata": {
    "colab_type": "text",
    "id": "ziNTLTjp9XKv"
   },
   "source": [
    "### 434. Number of Islands II\n",
    "Given a n,m which means the row and column of the 2D matrix and an array of pair A( size k). Originally, the 2D matrix is all 0 which means there is only sea in the matrix. The list pair has k operator and each operator has two integer A[i].x, A[i].y means that you can change the grid matrix[A[i].x][A[i].y] from sea to island. Return how many island are there in the matrix after each operator.\n",
    "```\n",
    "Example\n",
    "Given n = 3, m = 3, array of pair A = [(0,0),(0,1),(2,2),(2,1)].\n",
    "\n",
    "return [1,1,2,2].\n",
    "\n",
    "Notice\n",
    "0 is represented as the sea, 1 is represented as the island. If two 1 is adjacent, we consider them in the same island. We only consider up/down/left/right adjacent.\n",
    "```\n"
   ]
  },
  {
   "cell_type": "code",
   "execution_count": null,
   "metadata": {
    "colab": {},
    "colab_type": "code",
    "id": "X3Iujh-p9mDO"
   },
   "outputs": [],
   "source": [
    "#Definition for a point.\n",
    "\n",
    "\n",
    "class Solution(object):\n",
    "    def __init__(self):\n",
    "        self.father = []\n",
    "\n",
    "    def find(self, x):\n",
    "        if self.father[x] == x:\n",
    "            return x\n",
    "        self.father[x] = self.find(self.father[x])\n",
    "        return self.father[x]\n",
    "\n",
    "    def merge(self, x, y):\n",
    "        if self.father[x] == -1 or self.father[y] == -1:\n",
    "            return False\n",
    "        x = self.find(x)\n",
    "        y = self.find(y)\n",
    "        if x != y:\n",
    "            self.father[x] = y\n",
    "            return True\n",
    "        else:\n",
    "            return False\n",
    "\n",
    "    def numIslands2(self, m, n, operators):\n",
    "        directions = [(0,1),(1,0),(0,-1),(-1,0)]\n",
    "        area = 0\n",
    "        cnt = len(operators)\n",
    "        ret = []\n",
    "        self.father.extend([-1 for _ in range(m*n)])\n",
    "        for point in operators:\n",
    "            #point = Point(point[0], point[1])\n",
    "            num = point.x * n + point.y\n",
    "            if self.father[num] == -1:\n",
    "                area += 1\n",
    "                self.father[num] = num\n",
    "\n",
    "            for dx, dy in directions:\n",
    "                x = point.x + dx\n",
    "                y = point.y + dy\n",
    "\n",
    "                if 0 <= x < m and 0 <= y < n:\n",
    "                    if self.merge(x*n + y, num):\n",
    "                        area -= 1\n",
    "            #print self.father\n",
    "            ret.append(area)\n",
    "        return ret\n",
    "\n",
    "if __name__ == \"__main__\":\n",
    "    S = Solution()\n",
    "    print S.numIslands2(3, 3, operators = [(0,0),(0,1),(2,2),(2,1)])"
   ]
  },
  {
   "cell_type": "markdown",
   "metadata": {
    "colab_type": "text",
    "id": "UxOGmO4I-ZQq"
   },
   "source": [
    "## Hashheap"
   ]
  },
  {
   "cell_type": "markdown",
   "metadata": {
    "colab_type": "text",
    "id": "qQT9wPUw-eYx"
   },
   "source": [
    "### 81. Find Median from Data Stream\n",
    "Numbers keep coming, return the median of numbers at every time a new number added.\n",
    "```\n",
    "Example\n",
    "For numbers coming list: [1, 2, 3, 4, 5], return [1, 1, 2, 2, 3].\n",
    "\n",
    "For numbers coming list: [4, 5, 1, 3, 2, 6, 0], return [4, 4, 4, 3, 3, 3, 3].\n",
    "\n",
    "For numbers coming list: [2, 20, 100], return [2, 2, 20].\n",
    "\n",
    "Challenge\n",
    "Total run time in O(nlogn).\n",
    "\n",
    "Clarification\n",
    "What's the definition of Median?\n",
    "\n",
    "Median is the number that in the middle of a sorted array. If there are n numbers in a sorted array A, the median is A[(n - 1) / 2]. For example, if A=[1,2,3], median is 2. If A=[1,19], median is 1.\n",
    "```"
   ]
  },
  {
   "cell_type": "code",
   "execution_count": null,
   "metadata": {
    "colab": {
     "base_uri": "https://localhost:8080/",
     "height": 35
    },
    "colab_type": "code",
    "id": "ZeF7xkQvlM9x",
    "outputId": "8fd34a9f-14d8-494b-a662-10b9145b5805"
   },
   "outputs": [
    {
     "name": "stdout",
     "output_type": "stream",
     "text": [
      "[2, 2, 13, 13, 15, 13, 13, 8, 8, 8]\n"
     ]
    }
   ],
   "source": [
    "import heapq\n",
    "class Solution:\n",
    "    \"\"\"\n",
    "    @param nums: A list of integers.\n",
    "    @return: The median of numbers\n",
    "    \"\"\"\n",
    "    \n",
    "    minHeap, maxHeap = [], []\n",
    "    numbers = 0\n",
    "    def medianII(self, nums):\n",
    "        ans = []\n",
    "        for item in nums:\n",
    "            self.add(item)\n",
    "            ans.append(self.getMedian())\n",
    "        return ans\n",
    "        \n",
    "    \n",
    "    def getMedian(self):\n",
    "        return -self.maxHeap[0]\n",
    "\n",
    "    def add(self, value):\n",
    "        if self.numbers % 2 == 0:\n",
    "            heapq.heappush(self.maxHeap, -value)\n",
    "        else:\n",
    "            heapq.heappush(self.minHeap, value)\n",
    "        self.numbers += 1\n",
    "        if len(self.minHeap)==0 or len(self.maxHeap)==0:\n",
    "            return\n",
    "\n",
    "        if -self.maxHeap[0] > self.minHeap[0]:\n",
    "            maxroot = -self.maxHeap[0]\n",
    "            minroot = self.minHeap[0]\n",
    "            heapq.heapreplace(self.maxHeap, -minroot)\n",
    "            heapq.heapreplace(self.minHeap, maxroot)\n",
    "\n",
    "if __name__ == \"__main__\":\n",
    "    s = Solution()\n",
    "    print s.medianII([2,20,13,18,15,8,3,5,4,25])"
   ]
  },
  {
   "cell_type": "markdown",
   "metadata": {
    "colab_type": "text",
    "id": "MoPIr1Sel8ZZ"
   },
   "source": [
    "### 360. Sliding Window Median\n",
    "Given an array of n integer, and a moving window(size k), move the window at each iteration from the start of the array, find the median of the element inside the window at each moving. (If there are even numbers in the array, return the N/2-th number after sorting the element in the window. )\n",
    "```\n",
    "Example\n",
    "For array [1,2,7,8,5], moving window size k = 3. return [2,7,7]\n",
    "\n",
    "At first the window is at the start of the array like this\n",
    "\n",
    "[ | 1,2,7 | ,8,5] , return the median 2;\n",
    "\n",
    "then the window move one step forward.\n",
    "\n",
    "[1, | 2,7,8 | ,5], return the median 7;\n",
    "\n",
    "then the window move one step forward again.\n",
    "\n",
    "[1,2, | 7,8,5 | ], return the median 7;\n",
    "\n",
    "Challenge\n",
    "O(nlog(n)) time\n",
    "```"
   ]
  },
  {
   "cell_type": "code",
   "execution_count": null,
   "metadata": {
    "colab": {
     "base_uri": "https://localhost:8080/",
     "height": 35
    },
    "colab_type": "code",
    "id": "hY72TQnWl--g",
    "outputId": "c76f9ab4-0ea0-483e-ed37-e8c56e1c1c1a"
   },
   "outputs": [
    {
     "name": "stdout",
     "output_type": "stream",
     "text": [
      "[2, 7, 7]\n"
     ]
    }
   ],
   "source": [
    "import bisect\n",
    "class Solution:\n",
    "    \"\"\"\n",
    "    @param nums: A list of integers\n",
    "    @param k: An integer\n",
    "    @return: The median of the element inside the window at each moving\n",
    "    \"\"\"\n",
    "    def medianSlidingWindow(self, nums, k):\n",
    "        n = len(nums)\n",
    "        if not nums or n < k :\n",
    "            return []\n",
    "        mid = (k-1)/2\n",
    "        deck = nums[:k]\n",
    "        deck.sort()\n",
    "        ans = [deck[mid]]\n",
    "        for i in range(k, len(nums)):\n",
    "            out = nums[i-k]\n",
    "            inn = nums[i]\n",
    "            deck.pop(bisect.bisect_left(deck, out))\n",
    "            deck.insert(bisect.bisect_left(deck, inn), inn)\n",
    "            ans.append(deck[mid])\n",
    "        return ans\n",
    "\n",
    "if __name__ == \"__main__\":\n",
    "    s = Solution()\n",
    "    print s.medianSlidingWindow([1,2,7,7,2], 3)"
   ]
  },
  {
   "cell_type": "markdown",
   "metadata": {
    "colab_type": "text",
    "id": "ua1sV7L-mCDI"
   },
   "source": [
    "### 362. Sliding Window Maximum\n",
    "Given an array of n integer with duplicate number, and a moving window(size k), move the window at each iteration from the start of the array, find the maximum number inside the window at each moving.\n",
    "```\n",
    "Example\n",
    "For array [1, 2, 7, 7, 8], moving window size k = 3. return [7, 7, 8]\n",
    "\n",
    "At first the window is at the start of the array like this\n",
    "\n",
    "[|1, 2, 7| ,7, 8] , return the maximum 7;\n",
    "\n",
    "then the window move one step forward.\n",
    "\n",
    "[1, |2, 7 ,7|, 8], return the maximum 7;\n",
    "\n",
    "then the window move one step forward again.\n",
    "\n",
    "[1, 2, |7, 7, 8|], return the maximum 8;\n",
    "\n",
    "Challenge\n",
    "o(n) time and O(k) memory\n",
    "```"
   ]
  },
  {
   "cell_type": "code",
   "execution_count": null,
   "metadata": {
    "colab": {},
    "colab_type": "code",
    "id": "sNWLAj04mIfH"
   },
   "outputs": [],
   "source": [
    "from collections import deque\n",
    "class Solution:\n",
    "    \"\"\"\n",
    "    @param nums: A list of integers\n",
    "    @param k: An integer\n",
    "    @return: The median of the element inside the window at each moving\n",
    "    \"\"\"\n",
    "    def maxSlidingWindow(self, nums, k):\n",
    "        n = len(nums)\n",
    "        if not nums or n < k:\n",
    "            return []\n",
    "        deck = deque()\n",
    "        ans =[]\n",
    "        for i in range(n):\n",
    "            while deck and nums[deck[-1]] < nums[i]:\n",
    "                deck.pop()\n",
    "            deck.append(i)\n",
    "            while deck and deck[0] <= i -k:\n",
    "                deck.popleft()\n",
    "            if i >= k-1:\n",
    "                ans.append(nums[deck[0]])\n",
    "        return ans"
   ]
  },
  {
   "cell_type": "markdown",
   "metadata": {
    "colab_type": "text",
    "id": "HyZ75RWhg3Yi"
   },
   "source": [
    "## Mono Stack"
   ]
  },
  {
   "cell_type": "markdown",
   "metadata": {
    "colab_type": "text",
    "id": "s1TRpPaNhBFA"
   },
   "source": [
    "### 126. Max Tree\n",
    "Given an integer array with no duplicates. A max tree building on this array is defined as follow:\n",
    "\n",
    "The root is the maximum number in the array\n",
    "The left subtree and right subtree are the max trees of the subarray divided by the root number.\n",
    "Construct the max tree by the given array.\n",
    "```\n",
    "Example\n",
    "Given [2, 5, 6, 0, 3, 1], the max tree constructed by this array is:\n",
    "\n",
    "    6\n",
    "   / \\\n",
    "  5   3\n",
    " /   / \\\n",
    "2   0   1\n",
    "Challenge\n",
    "O(n) time and memory.\n",
    "```"
   ]
  },
  {
   "cell_type": "code",
   "execution_count": null,
   "metadata": {
    "colab": {
     "base_uri": "https://localhost:8080/",
     "height": 35
    },
    "colab_type": "code",
    "id": "nAeC0vF1iXvP",
    "outputId": "95a111bb-13b1-4d67-942a-df78bed2c6f5"
   },
   "outputs": [
    {
     "name": "stdout",
     "output_type": "stream",
     "text": [
      "6\n"
     ]
    }
   ],
   "source": [
    "\"\"\"\n",
    "Definition of TreeNode:\n",
    "\"\"\"\n",
    "class TreeNode:\n",
    "    def __init__(self, val):\n",
    "        self.val = val\n",
    "        self.left, self.right = None, None\n",
    "\n",
    "\n",
    "class Solution:\n",
    "    \"\"\"\n",
    "    @param A: Given an integer array with no duplicates.\n",
    "    @return: The root of max tree.\n",
    "    \"\"\"\n",
    "    def maxTree(self, A):\n",
    "        if not A:\n",
    "            return None\n",
    "        stack = [] \n",
    "        for a in A:\n",
    "            node = TreeNode(a)\n",
    "            while stack and a > stack[-1].val:\n",
    "                node.left = stack.pop()\n",
    "            if stack:\n",
    "                stack[-1].right = node \n",
    "            stack.append(node)\n",
    "        return stack[0]\n",
    "\n",
    "if __name__ == \"__main__\":\n",
    "    s = Solution()\n",
    "    print s.maxTree([2, 5, 6, 0, 3, 1]).val"
   ]
  },
  {
   "cell_type": "markdown",
   "metadata": {
    "colab_type": "text",
    "id": "AE4LB_jcluvO"
   },
   "source": [
    "122. Largest Rectangle in Histogram\n",
    "Given n non-negative integers representing the histogram's bar height where the width of each bar is 1, find the area of largest rectangle in the histogram.\n",
    "\n",
    "![alt text](https://lintcode-media.s3.amazonaws.com/problem/histogram1.png)\n",
    "\n",
    "Above is a histogram where width of each bar is 1, given height = [2,1,5,6,2,3].\n",
    "\n",
    "![alt text](https://lintcode-media.s3.amazonaws.com/problem/histogram_area.png)\n",
    "\n",
    "The largest rectangle is shown in the shaded area, which has area = 10 unit.\n",
    "\n",
    "Example\n",
    "Given height = [2,1,5,6,2,3],\n",
    "return 10."
   ]
  },
  {
   "cell_type": "code",
   "execution_count": null,
   "metadata": {
    "colab": {
     "base_uri": "https://localhost:8080/",
     "height": 35
    },
    "colab_type": "code",
    "id": "qP1iqUdgl2Qe",
    "outputId": "fe0b261d-4c39-4fb9-e295-f78e34909ad2"
   },
   "outputs": [
    {
     "name": "stdout",
     "output_type": "stream",
     "text": [
      "10\n"
     ]
    }
   ],
   "source": [
    "class Solution:\n",
    "    \"\"\"\n",
    "    @param height: A list of integer\n",
    "    @return: The area of largest rectangle in the histogram\n",
    "    \"\"\"\n",
    "    def largestRectangleArea(self, height):\n",
    "        if height is None or len(height) == 0:\n",
    "            return 0\n",
    "        stack = []\n",
    "        ans = 0\n",
    "        n = len(height)\n",
    "        for i in range(n+1):\n",
    "            curt = -1 if i == n else height[i]\n",
    "            while stack and curt <= height[stack[-1]]:\n",
    "                h = height[stack.pop()]\n",
    "                w = i-1-stack[-1] if stack else i\n",
    "                ans = max(ans, h * w)\n",
    "            stack.append(i)\n",
    "        return ans\n",
    "    \n",
    "if __name__ == \"__main__\":\n",
    "    s = Solution()\n",
    "    print s.largestRectangleArea([2,1,5,6,2,3])"
   ]
  },
  {
   "cell_type": "markdown",
   "metadata": {
    "colab_type": "text",
    "id": "9HSUMPoFkV7y"
   },
   "source": [
    "### 510. Maximal Rectangle\n",
    "Given a 2D boolean matrix filled with False and True, find the largest rectangle containing all True and return its area.\n",
    "```\n",
    "Example\n",
    "Given a matrix:\n",
    "\n",
    "[\n",
    "  [1, 1, 0, 0, 1],\n",
    "  [0, 1, 0, 0, 1],\n",
    "  [0, 0, 1, 1, 1],\n",
    "  [0, 0, 1, 1, 1],\n",
    "  [0, 0, 0, 0, 1]\n",
    "]\n",
    "return 6.\n",
    "```"
   ]
  },
  {
   "cell_type": "code",
   "execution_count": null,
   "metadata": {
    "colab": {
     "base_uri": "https://localhost:8080/",
     "height": 35
    },
    "colab_type": "code",
    "id": "NBaReutmkgXo",
    "outputId": "d827c2f6-6e79-45ff-84f5-b3f92d276adc"
   },
   "outputs": [
    {
     "name": "stdout",
     "output_type": "stream",
     "text": [
      "6\n"
     ]
    }
   ],
   "source": [
    "class Solution:\n",
    "    \"\"\"\n",
    "    @param matrix: a boolean 2D matrix\n",
    "    @return: an integer\n",
    "    \"\"\"\n",
    "    def maximalRectangle(self, matrix):\n",
    "        if not matrix:\n",
    "            return 0\n",
    "        m, n = len(matrix), len(matrix[0])\n",
    "        heights = [0 for _ in range(n)]\n",
    "        ret = - 1\n",
    "        for i in range(m):\n",
    "            for j in range(n):\n",
    "                if matrix[i][j]: # == 1\n",
    "                    heights[j] += 1\n",
    "                else: # == 0\n",
    "                    heights[j] = 0\n",
    "            ret = max(ret, self.largestRectangleArea(heights))\n",
    "        return ret\n",
    "\n",
    "    \n",
    "    def largestRectangleArea(self, height):\n",
    "        if height is None or len(height) == 0:\n",
    "            return 0\n",
    "        stack = []\n",
    "        ans = 0\n",
    "        n = len(height)\n",
    "        for i in range(n+1):\n",
    "            curt = -1 if i == n else height[i]\n",
    "            while stack and curt <= height[stack[-1]]:\n",
    "                h = height[stack.pop()]\n",
    "                w = i-1-stack[-1] if stack else i\n",
    "                ans = max(ans, h * w)\n",
    "            stack.append(i)\n",
    "        return ans\n",
    "    \n",
    "if __name__ == \"__main__\":\n",
    "    s = Solution()\n",
    "    matrix = [\n",
    "              [1, 1, 0, 0, 1],\n",
    "              [0, 1, 0, 0, 1],\n",
    "              [0, 0, 1, 1, 1],\n",
    "              [0, 0, 1, 1, 1],\n",
    "              [0, 0, 0, 0, 1]\n",
    "              ]\n",
    "    print s.maximalRectangle(matrix)"
   ]
  }
 ],
 "metadata": {
  "accelerator": "GPU",
  "colab": {
   "collapsed_sections": [],
   "include_colab_link": true,
   "name": "Ch07 Adanced DataStructure",
   "provenance": [],
   "toc_visible": true,
   "version": "0.3.2"
  },
  "kernelspec": {
   "display_name": "py37",
   "language": "python",
   "name": "python3"
  },
  "language_info": {
   "codemirror_mode": {
    "name": "ipython",
    "version": 3
   },
   "file_extension": ".py",
   "mimetype": "text/x-python",
   "name": "python",
   "nbconvert_exporter": "python",
   "pygments_lexer": "ipython3",
   "version": "3.7.1"
  }
 },
 "nbformat": 4,
 "nbformat_minor": 2
}
