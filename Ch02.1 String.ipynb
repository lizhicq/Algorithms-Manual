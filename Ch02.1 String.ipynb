{
 "cells": [
  {
   "cell_type": "code",
   "execution_count": 1,
   "metadata": {},
   "outputs": [],
   "source": [
    "from IPython.core.interactiveshell import InteractiveShell\n",
    "InteractiveShell.ast_node_interactivity = \"all\""
   ]
  },
  {
   "cell_type": "markdown",
   "metadata": {},
   "source": [
    "### 6. ZigZag Conversion\n",
    "The string \"PAYPALISHIRING\" is written in a zigzag pattern on a given number of rows like this: (you may want to display this pattern in a fixed font for better legibility)\n",
    "\n",
    "```\n",
    "P   A   H   N\n",
    "A P L S I I G\n",
    "Y   I   R\n",
    "\n",
    "\n",
    "\n",
    "And then read line by line: \"PAHNAPLSIIGYIR\"\n",
    "\n",
    "Write the code that will take a string and make this conversion given a number of rows:\n",
    "\n",
    "string convert(string s, int numRows);\n",
    "Example 1:\n",
    "\n",
    "Input: s = \"PAYPALISHIRING\", numRows = 3\n",
    "Output: \"PAHNAPLSIIGYIR\"\n",
    "Example 2:\n",
    "\n",
    "Input: s = \"PAYPALISHIRING\", numRows = 4\n",
    "Output: \"PINALSIGYAHRPI\"\n",
    "Explanation:\n",
    "\n",
    "P     I    N\n",
    "A   L S  I G\n",
    "Y A   H R\n",
    "P     I\n",
    "```"
   ]
  },
  {
   "cell_type": "code",
   "execution_count": 8,
   "metadata": {},
   "outputs": [
    {
     "name": "stdout",
     "output_type": "stream",
     "text": [
      "[['P'], [], [], []]\n",
      "[['P'], ['A'], [], []]\n",
      "[['P'], ['A'], ['Y'], []]\n",
      "[['P'], ['A'], ['Y'], ['P']]\n",
      "2 [['P'], ['A'], ['Y', 'A'], ['P']]\n",
      "1 [['P'], ['A', 'L'], ['Y', 'A'], ['P']]\n",
      "[['P', 'I'], ['A', 'L'], ['Y', 'A'], ['P']]\n",
      "[['P', 'I'], ['A', 'L', 'S'], ['Y', 'A'], ['P']]\n",
      "[['P', 'I'], ['A', 'L', 'S'], ['Y', 'A', 'H'], ['P']]\n",
      "[['P', 'I'], ['A', 'L', 'S'], ['Y', 'A', 'H'], ['P', 'I']]\n",
      "2 [['P', 'I'], ['A', 'L', 'S'], ['Y', 'A', 'H', 'R'], ['P', 'I']]\n",
      "1 [['P', 'I'], ['A', 'L', 'S', 'I'], ['Y', 'A', 'H', 'R'], ['P', 'I']]\n",
      "[['P', 'I', 'N'], ['A', 'L', 'S', 'I'], ['Y', 'A', 'H', 'R'], ['P', 'I']]\n",
      "[['P', 'I', 'N'], ['A', 'L', 'S', 'I', 'G'], ['Y', 'A', 'H', 'R'], ['P', 'I']]\n",
      "[['P', 'I', 'N'], ['A', 'L', 'S', 'I', 'G'], ['Y', 'A', 'H', 'R'], ['P', 'I']]\n"
     ]
    },
    {
     "data": {
      "text/plain": [
       "'PINALSIGYAHRPI'"
      ]
     },
     "execution_count": 8,
     "metadata": {},
     "output_type": "execute_result"
    }
   ],
   "source": [
    "class Solution:\n",
    "    def convert(self, s, numRows):\n",
    "        result =[[] for _ in range(numRows)]\n",
    "        res = \"\"\n",
    "        i = 0 \n",
    "        flag = 0\n",
    "        \n",
    "        while i < len(s):\n",
    "            if flag == 0:\n",
    "                for j in range(len(result)):\n",
    "                    if i < len(s):\n",
    "                        result[j].append(s[i])\n",
    "                        print(result)\n",
    "                        i += 1\n",
    "                \n",
    "                flag = 1 \n",
    "            else:\n",
    "                for j in range(len(result)-2, 0, -1):\n",
    "                    if i < len(s):\n",
    "                        result[j].append(s[i])\n",
    "                        print(j, result)\n",
    "                        i += 1\n",
    "                flag = 0\n",
    "        \n",
    "        for words in result:\n",
    "            for word in words:\n",
    "                res += word\n",
    "        \n",
    "        print(result)\n",
    "        return res\n",
    "\n",
    "if __name__ == \"__main__\":\n",
    "    s = Solution()\n",
    "    s.convert('PAYPALISHIRING', 4)"
   ]
  },
  {
   "cell_type": "code",
   "execution_count": null,
   "metadata": {},
   "outputs": [],
   "source": [
    "[['P', 'A', 'H', 'N'], \n",
    " ['A', 'P', 'L', 'S', 'I', 'I', 'G'], \n",
    " ['Y', 'I', 'R']]"
   ]
  },
  {
   "cell_type": "code",
   "execution_count": null,
   "metadata": {},
   "outputs": [],
   "source": [
    "P   A   H   N\n",
    "A P L S I I G\n",
    "Y   I   R"
   ]
  },
  {
   "cell_type": "code",
   "execution_count": null,
   "metadata": {},
   "outputs": [],
   "source": []
  },
  {
   "cell_type": "code",
   "execution_count": null,
   "metadata": {},
   "outputs": [],
   "source": []
  },
  {
   "cell_type": "code",
   "execution_count": null,
   "metadata": {},
   "outputs": [],
   "source": []
  },
  {
   "cell_type": "code",
   "execution_count": null,
   "metadata": {},
   "outputs": [],
   "source": []
  },
  {
   "cell_type": "code",
   "execution_count": null,
   "metadata": {},
   "outputs": [],
   "source": []
  }
 ],
 "metadata": {
  "kernelspec": {
   "display_name": "py37",
   "language": "python",
   "name": "python3"
  },
  "language_info": {
   "codemirror_mode": {
    "name": "ipython",
    "version": 3
   },
   "file_extension": ".py",
   "mimetype": "text/x-python",
   "name": "python",
   "nbconvert_exporter": "python",
   "pygments_lexer": "ipython3",
   "version": "3.7.1"
  }
 },
 "nbformat": 4,
 "nbformat_minor": 2
}
