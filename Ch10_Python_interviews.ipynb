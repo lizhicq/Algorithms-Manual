{
  "nbformat": 4,
  "nbformat_minor": 0,
  "metadata": {
    "colab": {
      "name": "Ch10_Python_interviews.ipynb",
      "version": "0.3.2",
      "provenance": []
    },
    "language_info": {
      "codemirror_mode": {
        "name": "ipython",
        "version": 3
      },
      "file_extension": ".py",
      "mimetype": "text/x-python",
      "name": "python",
      "nbconvert_exporter": "python",
      "pygments_lexer": "ipython3",
      "version": "3.7.1"
    },
    "kernelspec": {
      "display_name": "py37",
      "language": "python",
      "name": "python3"
    }
  },
  "cells": [
    {
      "metadata": {
        "id": "ZGmUly-YOFUJ",
        "colab_type": "text"
      },
      "cell_type": "markdown",
      "source": [
        "# Python interview questions. Part I. Junior"
      ]
    },
    {
      "metadata": {
        "id": "Va2DCtywOFUL",
        "colab_type": "text"
      },
      "cell_type": "markdown",
      "source": [
        "Questions\n",
        "Q: What is Python? What are the key features of Python?\n",
        ">Python is a general purpose and high level programming language. \n",
        "\n",
        "> Use Interpretor rather than compliler\n",
        "\n",
        "> A variety of basic data types are available: numbers (floating point, complex, and unlimited-length long integers), strings (both ASCII and Unicode), lists, and dictionaries.\n",
        "\n",
        "> Python supports object-oriented programming with classes and multiple inheritance.\n",
        "\n",
        "> Code can be grouped into modules and packages.\n",
        "\n",
        "> The language supports raising and catching exceptions, resulting in cleaner error handling.\n",
        "\n",
        "> Data types are strongly and dynamically typed. Mixing incompatible types (e.g. attempting to add a string and a number) causes an exception to be raised, so errors are caught sooner.\n",
        "\n",
        "> Python contains advanced programming features such as generators and list comprehensions.\n",
        "\n",
        "> Python's automatic memory management frees you from having to manually allocate and free memory in your code.\n",
        "    \n",
        "Q: What Python libs did you use?\n",
        "\n",
        "Q: What is pass in Python?\n",
        "\n",
        "Q: What is lambda in Python?\n",
        "\n",
        "Q: What is docstring in Python?\n",
        "\n",
        "Q: What is the ternary operator in Python? Example?\n",
        "\n",
        "Q: What are *args, **kwargs?\n",
        "\n",
        "Q: What is the difference between list and tuple in Python?\n",
        "\n",
        "Q: What are the built-in types that Python provides? Which are mutable which are immutable?\n",
        "\n",
        "Q: In Python what is slicing?\n",
        "\n",
        "Q: What keywords can be used in conjunction with the keyword `for`?\n",
        "\n",
        "Q: How to list object methods in Python?\n",
        "\n",
        "Q: How to get documentation of object in Python?\n",
        "\n",
        "Q: What can be the key in the dictionary?\n",
        "\n",
        "Q: What is `yield` in Python?\n",
        "\n",
        "Q: How can I swap the values of two variables in Python?\n",
        "\n",
        "Q: What is duck typing?\n",
        "\n",
        "Q: What the difference between packages and modules?\n",
        "\n",
        "Q: What is PEP 8?\n",
        "\n",
        "Q: What is self?\n",
        "\n",
        "Q: What is __init__.py module? What it's for?"
      ]
    },
    {
      "metadata": {
        "id": "5lQ7XGP9OFUM",
        "colab_type": "text"
      },
      "cell_type": "markdown",
      "source": [
        "## Code involving questions:\n",
        "\n",
        "Q: How to translate a string containing a binary code (1 and 0) into a number (integer)? Write a program for this.\n",
        "\n",
        "Q: How to check that tuple A contains all elements of tuple B. Both tuples contain unique values? Write a program for this.\n",
        "\n",
        "Q: What will be the output of the following code?\n"
      ]
    },
    {
      "metadata": {
        "id": "F36cb-8lOFUN",
        "colab_type": "code",
        "colab": {},
        "outputId": "419718e6-99a7-42d5-fed6-b5a596224fbb"
      },
      "cell_type": "code",
      "source": [
        "def f():\n",
        "     x = 15\n",
        "     print(x)\n",
        "x = 12\n",
        "f()"
      ],
      "execution_count": 0,
      "outputs": [
        {
          "output_type": "stream",
          "text": [
            "15\n"
          ],
          "name": "stdout"
        }
      ]
    },
    {
      "metadata": {
        "id": "KQ_srj1XOFUT",
        "colab_type": "text"
      },
      "cell_type": "markdown",
      "source": [
        "Q: How to convert a string to a number which consists of letters ASCII code. Example: 'abcd' -> 979899100. Write a program for this.\n",
        "\n",
        "Q: How to remove empty lines from a sheet of lines (with a length of 0). Write a program for this.\n",
        "\n",
        "Q: Write a program that counts all distinct pairs with difference equal to k\n",
        "\n",
        "Q: Build a string with the numbers from 0 to 100, \"0123456789101112...\"\n",
        "\n",
        "Q: Making a list with the unique element from a list with duplicate elements\n",
        "\n",
        "Q: Make a prime number list from (1,100)"
      ]
    },
    {
      "metadata": {
        "id": "8yYMP2wLOFUU",
        "colab_type": "code",
        "colab": {}
      },
      "cell_type": "code",
      "source": [
        ""
      ],
      "execution_count": 0,
      "outputs": []
    },
    {
      "metadata": {
        "id": "3tU7yCxMOFUX",
        "colab_type": "code",
        "colab": {}
      },
      "cell_type": "code",
      "source": [
        ""
      ],
      "execution_count": 0,
      "outputs": []
    },
    {
      "metadata": {
        "id": "VKXiEPvhOFUZ",
        "colab_type": "code",
        "colab": {}
      },
      "cell_type": "code",
      "source": [
        ""
      ],
      "execution_count": 0,
      "outputs": []
    },
    {
      "metadata": {
        "id": "laz9xDx_OFUb",
        "colab_type": "code",
        "colab": {}
      },
      "cell_type": "code",
      "source": [
        ""
      ],
      "execution_count": 0,
      "outputs": []
    }
  ]
}