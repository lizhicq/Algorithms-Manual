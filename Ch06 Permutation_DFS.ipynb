{
  "nbformat": 4,
  "nbformat_minor": 0,
  "metadata": {
    "colab": {
      "name": "Permutation DFS",
      "version": "0.3.2",
      "provenance": [],
      "collapsed_sections": [
        "JF1PH6BYyFqc",
        "8-veu44AzpHb",
        "oTcS_Evw6hRs"
      ],
      "toc_visible": true,
      "include_colab_link": true
    },
    "kernelspec": {
      "name": "python2",
      "display_name": "Python 2"
    },
    "accelerator": "GPU"
  },
  "cells": [
    {
      "cell_type": "markdown",
      "metadata": {
        "id": "view-in-github",
        "colab_type": "text"
      },
      "source": [
        "[View in Colaboratory](https://colab.research.google.com/github/lizhicq/Algorithms-Manual/blob/master/Ch06%20Permutation_DFS.ipynb)"
      ]
    },
    {
      "metadata": {
        "id": "IhWfnO4Dz1Kn",
        "colab_type": "text"
      },
      "cell_type": "markdown",
      "source": [
        "# Permutation DFS"
      ]
    },
    {
      "metadata": {
        "id": "w5NLlXtxlMRN",
        "colab_type": "text"
      },
      "cell_type": "markdown",
      "source": [
        "### 197. Permutation Index\n",
        "Given a permutation which contains no repeated number, find its index in all the permutations of these numbers, which are ordered in lexicographical order. The index begins at 1.\n",
        "```\n",
        "Example\n",
        "Given [1,2,4], return 1.\n",
        "```"
      ]
    },
    {
      "metadata": {
        "id": "X54jJqqHlcIC",
        "colab_type": "code",
        "colab": {
          "base_uri": "https://localhost:8080/",
          "height": 35
        },
        "outputId": "87d2a098-44e2-4002-f2e9-7c06bfac16a2"
      },
      "cell_type": "code",
      "source": [
        "class Solution:\n",
        "    \"\"\"\n",
        "    @param A: An array of integers\n",
        "    @return: A long integer\n",
        "    \"\"\"\n",
        "    def permutationIndex(self, A):\n",
        "        index = 1\n",
        "        for i in range(len(A)):\n",
        "            count, factor = 0, 1\n",
        "            for j in range(i+1, len(A)):\n",
        "                if A[i] > A[j]:\n",
        "                    count += 1\n",
        "            if count > 0:\n",
        "                for k in range(1, len(A)-i):\n",
        "                    factor *= k\n",
        "            index += factor * count\n",
        "        return index\n",
        "    \n",
        "if __name__ == \"__main__\":\n",
        "    s = Solution()\n",
        "    print s.permutationIndex([1,4,2,3])"
      ],
      "execution_count": 0,
      "outputs": [
        {
          "output_type": "stream",
          "text": [
            "5\n"
          ],
          "name": "stdout"
        }
      ]
    },
    {
      "metadata": {
        "id": "QayZ8ixl3J4o",
        "colab_type": "text"
      },
      "cell_type": "markdown",
      "source": [
        "### 198. Permutation Index II\n",
        "Given a permutation which may contain repeated numbers, find its index in all the permutations of these numbers, which are ordered in lexicographical order. The index begins at 1.\n",
        "```\n",
        "Example\n",
        "Given the permutation [1, 4, 2, 2], return 3.\n",
        "```"
      ]
    },
    {
      "metadata": {
        "id": "1onVlewa4Uht",
        "colab_type": "code",
        "colab": {
          "base_uri": "https://localhost:8080/",
          "height": 35
        },
        "outputId": "f6224ef3-352d-4730-8535-78d0cecbe06a"
      },
      "cell_type": "code",
      "source": [
        "class Solution:\n",
        "    def permutationIndexII(self, A):\n",
        "        \n",
        "        from collections import defaultdict\n",
        "        if A is None or len(A) == 0:\n",
        "            return 0 \n",
        "        counter = defaultdict(int)\n",
        "        index, fact, multiFact = 1,1,1\n",
        "        \n",
        "        for i in range(len(A)-1, -1, -1):\n",
        "            counter[A[i]] += 1\n",
        "            multiFact *= counter[A[i]]\n",
        "            count = 0 \n",
        "            \n",
        "            for j in range(i+1, len(A)):\n",
        "                if A[i] > A[j]:\n",
        "                    count += 1\n",
        "            \n",
        "            index += count * fact / multiFact\n",
        "            fact *= len(A) - i\n",
        "        \n",
        "        return index \n",
        "    \n",
        "    \n",
        "if __name__ == \"__main__\":\n",
        "    s = Solution()\n",
        "    print s.permutationIndexII([1,4,2,2])\n",
        "                "
      ],
      "execution_count": 0,
      "outputs": [
        {
          "output_type": "stream",
          "text": [
            "3\n"
          ],
          "name": "stdout"
        }
      ]
    },
    {
      "metadata": {
        "id": "i4BOySBN3Vv1",
        "colab_type": "text"
      },
      "cell_type": "markdown",
      "source": [
        "### 52. Next Permutation\n",
        "Given a list of integers, which denote a permutation.\n",
        "\n",
        "Find the next permutation in ascending order.\n",
        "```\n",
        "Example\n",
        "For [1,3,2,3], the next permutation is [1,3,3,2]\n",
        "\n",
        "For [4,3,2,1], the next permutation is [1,2,3,4]\n",
        "```\n",
        "notes:\n",
        "1. 找到右起第一个<关系的 i， nums[i] < nums[i+1]\n",
        "2. 找到右起第一个大于这个nums[i]的nums[j]， 互换\n",
        "3. 对调i+1到end部分"
      ]
    },
    {
      "metadata": {
        "id": "vlN7Sgxz3Y_z",
        "colab_type": "code",
        "colab": {
          "base_uri": "https://localhost:8080/",
          "height": 52
        },
        "outputId": "89dd860f-f742-4511-83d4-7bcb30f73e18"
      },
      "cell_type": "code",
      "source": [
        "class Solution:\n",
        "    \"\"\"\n",
        "    @param nums: A list of integers\n",
        "    @return: A list of integers\n",
        "    \"\"\"\n",
        "    def nextPermutation(self, nums):\n",
        "        if nums is None or len(nums) == 0:\n",
        "            return nums\n",
        "        n = len(nums)        \n",
        "        for i in range(n-2, -1, -1):\n",
        "            if nums[i] < nums[i+1]:\n",
        "                break\n",
        "        else:\n",
        "            nums.reverse()\n",
        "            return nums\n",
        "        \n",
        "        # find the first element larger than i\n",
        "        for j in range(n-1, i, -1):\n",
        "            if nums[j] > nums[i]:\n",
        "                nums[i], nums[j] = nums[j], nums[i]\n",
        "                break\n",
        "        \n",
        "        nums[i+1:] = reversed(nums[i+1:])\n",
        "        return nums\n",
        "        \n",
        "if __name__ == \"__main__\":\n",
        "    s = Solution()\n",
        "    print s.nextPermutation([1,3,2])"
      ],
      "execution_count": 0,
      "outputs": [
        {
          "output_type": "stream",
          "text": [
            "[2, 3, 1]\n",
            "[2, 1, 3]\n"
          ],
          "name": "stdout"
        }
      ]
    },
    {
      "metadata": {
        "id": "-zHNcZcJbuig",
        "colab_type": "code",
        "colab": {
          "base_uri": "https://localhost:8080/",
          "height": 35
        },
        "outputId": "a065d07d-a0c3-40d5-92cb-d3593635d245"
      },
      "cell_type": "code",
      "source": [
        "nums = range(10)\n",
        "nums[1:5] = reversed(nums[1:5])\n",
        "nums"
      ],
      "execution_count": 0,
      "outputs": [
        {
          "output_type": "execute_result",
          "data": {
            "text/plain": [
              "[0, 4, 3, 2, 1, 5, 6, 7, 8, 9]"
            ]
          },
          "metadata": {
            "tags": []
          },
          "execution_count": 1
        }
      ]
    },
    {
      "metadata": {
        "id": "u88G0HPr3Zac",
        "colab_type": "text"
      },
      "cell_type": "markdown",
      "source": [
        "### 190. Next Permutation II\n",
        "Implement next permutation, which rearranges numbers into the lexicographically next greater permutation of numbers.\n",
        "\n",
        "If such arrangement is not possible, it must rearrange it as the lowest possible order (ie, sorted in ascending order).\n",
        "```\n",
        "Example\n",
        "Here are some examples. Inputs are in the left-hand column and its corresponding outputs are in the right-hand column.\n",
        "\n",
        "1,2,3 → 1,3,2\n",
        "\n",
        "3,2,1 → 1,2,3\n",
        "\n",
        "1,1,5 → 1,5,1\n",
        "\n",
        "Challenge\n",
        "The replacement must be in-place, do not allocate extra memory.\n",
        "```"
      ]
    },
    {
      "metadata": {
        "id": "4VYYAmkw36pV",
        "colab_type": "code",
        "colab": {
          "base_uri": "https://localhost:8080/",
          "height": 35
        },
        "outputId": "334e4028-7460-4c41-df33-9e099f9c45ab"
      },
      "cell_type": "code",
      "source": [
        "class Solution:\n",
        "    \"\"\"\n",
        "    @param nums: A list of integers\n",
        "    @return: A list of integers\n",
        "    \"\"\"\n",
        "    def nextPermutation(self, nums):\n",
        "        if nums is None or len(nums) == 0:\n",
        "            return nums\n",
        "        n = len(nums)        \n",
        "        for i in range(n-2, -1, -1):\n",
        "            if nums[i] < nums[i+1]:\n",
        "                break\n",
        "        else:\n",
        "            nums.reverse()\n",
        "            return nums\n",
        "        \n",
        "        # find the first element larger than i\n",
        "        for j in range(n-1, i, -1):\n",
        "            if nums[j] > nums[i]:\n",
        "                nums[i], nums[j] = nums[j], nums[i]\n",
        "                break\n",
        "        \n",
        "        self.reverse(nums, i+1, n-1)\n",
        "        \n",
        "        return nums\n",
        "    \n",
        "    def reverse(self, nums, start, end):\n",
        "        while start < end:\n",
        "            nums[start], nums[end] = nums[end], nums[start]\n",
        "            start += 1\n",
        "            end -= 1 \n",
        "        \n",
        "if __name__ == \"__main__\":\n",
        "    s = Solution()\n",
        "    print s.nextPermutation([1,3,2])"
      ],
      "execution_count": 0,
      "outputs": [
        {
          "output_type": "stream",
          "text": [
            "[2, 1, 3]\n"
          ],
          "name": "stdout"
        }
      ]
    },
    {
      "metadata": {
        "id": "-0g3tP1G3fic",
        "colab_type": "text"
      },
      "cell_type": "markdown",
      "source": [
        "### 51. Previous Permutation\n",
        "Given a list of integers, which denote a permutation.\n",
        "\n",
        "Find the previous permutation in ascending order.\n",
        "```\n",
        "Example\n",
        "For [1,3,2,3], the previous permutation is [1,2,3,3]\n",
        "\n",
        "For [1,2,3,4], the previous permutation is [4,3,2,1]\n",
        "```"
      ]
    },
    {
      "metadata": {
        "id": "4PIKT8Us35nV",
        "colab_type": "code",
        "colab": {
          "base_uri": "https://localhost:8080/",
          "height": 35
        },
        "outputId": "b65e3e56-819f-4b27-9cd7-73999dc1b42a"
      },
      "cell_type": "code",
      "source": [
        "class Solution:\n",
        "    \"\"\"\n",
        "    param: nums: A list of integers\n",
        "    @return: A list of integers that's previous permuation\n",
        "    \"\"\"\n",
        "    def previousPermuation(self, nums):\n",
        "        if nums is None or len(nums) == 0:\n",
        "            return nums\n",
        "        n = len(nums)        \n",
        "        for i in range(n-2, -1, -1):\n",
        "            if nums[i] > nums[i+1]:\n",
        "                break\n",
        "        else:\n",
        "            nums.reverse()\n",
        "            return nums\n",
        "        \n",
        "        # find the first element larger than i\n",
        "        for j in range(n-1, i, -1):\n",
        "            if nums[j] < nums[i]:\n",
        "                nums[i], nums[j] = nums[j], nums[i]\n",
        "                break\n",
        "        \n",
        "        self.reverse(nums, i+1, n-1)\n",
        "        \n",
        "        return nums\n",
        "    \n",
        "    def reverse(self, nums, start, end):\n",
        "        while start < end:\n",
        "            nums[start], nums[end] = nums[end], nums[start]\n",
        "            start += 1\n",
        "            end -= 1 \n",
        "\n",
        "if __name__ == \"__main__\":\n",
        "    s = Solution()\n",
        "    print s.previousPermuation([1,3,2])"
      ],
      "execution_count": 0,
      "outputs": [
        {
          "output_type": "stream",
          "text": [
            "[1, 2, 3]\n"
          ],
          "name": "stdout"
        }
      ]
    },
    {
      "metadata": {
        "id": "CTaWeMeNkr3Z",
        "colab_type": "text"
      },
      "cell_type": "markdown",
      "source": [
        "### 862. Next Closest Time\n",
        "Given a time represented in the format \"HH:MM\", form the next closest time by reusing the current digits. There is no limit on how many times a digit can be reused.\n",
        "\n",
        "You may assume the given input string is always valid. For example, \"01:34\", \"12:09\" are all valid. \"1:34\", \"12:9\" are all invalid.\n",
        "```\n",
        "Example\n",
        "Given time = \"19:34\", return \"19:39\".\n",
        "\n",
        "Explanation: \n",
        "The next closest time choosing from digits 1, 9, 3, 4, is 19:39, which occurs 5 minutes later.  It is not 19:33, because this occurs 23 hours and 59 minutes later.\n",
        "Given time = \"23:59\", return \"22:22\".\n",
        "\n",
        "Explanation: \n",
        "The next closest time choosing from digits 2, 3, 5, 9, is 22:22. It may be assumed that the returned time is next day's time since it is smaller than the input time numerically.\n",
        "```"
      ]
    },
    {
      "metadata": {
        "id": "ImJlkKgRk0bN",
        "colab_type": "code",
        "colab": {}
      },
      "cell_type": "code",
      "source": [
        "class Solution:\n",
        "    \"\"\"\n",
        "    @param time: the given time\n",
        "    @return: the next closest time\n",
        "    \"\"\"\n",
        "    def nextClosestTime(self, time):\n",
        "        h, m = time.split(\":\")\n",
        "        curr = int(h) * 60 + int(m)  # æ¢ç®æåéæ°\n",
        "        result = None\n",
        "        for i in range(curr+1, curr+1441):\n",
        "            t = i % 1440 # modå¾å°å½å¤©çåéæ°\n",
        "            h, m = t // 60, t % 60 \n",
        "            result = \"%02d:%02d\" % (h, m)\n",
        "            if set(result) <= set(time): # åªå°resultéçåç´ ä¸ªæ°å°äºç­äºåæ¶é´ï¼è¯´ææ²¡æç¨å°é¢å¤çåç´ \n",
        "                break\n",
        "        return result"
      ],
      "execution_count": 0,
      "outputs": []
    },
    {
      "metadata": {
        "id": "5ZgiPsUHlFRk",
        "colab_type": "text"
      },
      "cell_type": "markdown",
      "source": [
        "### 425. Letter Combinations of a Phone Number\n",
        "Given a digit string excluded 01, return all possible letter combinations that the number could represent.\n",
        "\n",
        "A mapping of digit to letters (just like on the telephone buttons) is given below.\n",
        "\n",
        "Cellphone\n",
        "![alt text](https://lintcode-media.s3.amazonaws.com/problem/200px-Telephone-keypad2.svg.png)\n",
        "```\n",
        "Example\n",
        "Given \"23\"\n",
        "\n",
        "Return [\"ad\", \"ae\", \"af\", \"bd\", \"be\", \"bf\", \"cd\", \"ce\", \"cf\"]\n",
        "```"
      ]
    },
    {
      "metadata": {
        "id": "4RXSWz7ClP7h",
        "colab_type": "code",
        "colab": {}
      },
      "cell_type": "code",
      "source": [
        "class Solution(object):\n",
        "    def letterCombinations(self, digits):\n",
        "        \"\"\"\n",
        "        :type digits: str\n",
        "        :rtype: List[str]\n",
        "        \"\"\"\n",
        "        res=[]\n",
        "        if not digits: return res\n",
        "        res.append(\"\")\n",
        "        mp = ['0','1','abc','def','ghi','jkl','mno','pqrs','tuv','wxyz']\n",
        "        for c in digits:\n",
        "            tmp = []\n",
        "            for x in res:\n",
        "                for y in mp[int(c)]:\n",
        "                    tmp.append(x+y)\n",
        "            res=tmp        \n",
        "        return res\n",
        "            "
      ],
      "execution_count": 0,
      "outputs": []
    },
    {
      "metadata": {
        "id": "YruwFstBmJ-a",
        "colab_type": "text"
      },
      "cell_type": "markdown",
      "source": [
        "### 211. String Permutation\n",
        "Given two strings, write a method to decide if one is a permutation of the other.\n",
        "```\n",
        "Example\n",
        "abcd is a permutation of bcad, but abbe is not a permutation of abe\n",
        "```"
      ]
    },
    {
      "metadata": {
        "id": "TbURE9mlmUx8",
        "colab_type": "code",
        "colab": {}
      },
      "cell_type": "code",
      "source": [
        "class Solution:\n",
        "    \"\"\"\n",
        "    @param A: a string\n",
        "    @param B: a string\n",
        "    @return: a boolean\n",
        "    \"\"\"\n",
        "    def Permutation(self, A, B):\n",
        "        from collections import Counter\n",
        "        return Counter(A) == Counter(B)"
      ],
      "execution_count": 0,
      "outputs": []
    },
    {
      "metadata": {
        "id": "2mUrGuyalW2p",
        "colab_type": "text"
      },
      "cell_type": "markdown",
      "source": [
        "### 10. String Permutation II\n",
        "Given a string, find all permutations of it without duplicates.\n",
        "```\n",
        "Example\n",
        "Given \"abb\", return [\"abb\", \"bab\", \"bba\"].\n",
        "\n",
        "Given \"aabb\", return [\"aabb\", \"abab\", \"baba\", \"bbaa\", \"abba\", \"baab\"].\n",
        "```"
      ]
    },
    {
      "metadata": {
        "id": "7tI7YdrRlYqw",
        "colab_type": "code",
        "colab": {}
      },
      "cell_type": "code",
      "source": [
        "class Solution:\n",
        "    \"\"\"\n",
        "    @param str: A string\n",
        "    @return: all permutations\n",
        "    \"\"\"\n",
        "    def stringPermutation2(self, S):\n",
        "        if S is None:\n",
        "            return []\n",
        "        if S is []:\n",
        "            return [[]]\n",
        "            \n",
        "        def dfs(tmp, s):\n",
        "            if s is '':\n",
        "                res.append(tmp)\n",
        "                return\n",
        "            else:\n",
        "                for i in range(len(s)):\n",
        "                    if 0 < i < len(s) and s[i] == s[i-1]:\n",
        "                        continue\n",
        "                    dfs(tmp + s[i], s[:i] + s[i+1:])\n",
        "                    #dfs(s[i] + tmp, s[:i] + s[i+1:])\n",
        "        \n",
        "        res = []\n",
        "        dfs('', ''.join(sorted(S)))\n",
        "        return res"
      ],
      "execution_count": 0,
      "outputs": []
    },
    {
      "metadata": {
        "id": "GGnqQzPXljCf",
        "colab_type": "text"
      },
      "cell_type": "markdown",
      "source": [
        "### 33. N-Queens\n",
        "The n-queens puzzle is the problem of placing n queens on an n×n chessboard such that no two queens attack each other.\n",
        "\n",
        "Given an integer n, return all distinct solutions to the n-queens puzzle.\n",
        "\n",
        "Each solution contains a distinct board configuration of the n-queens' placement, where 'Q' and '.' both indicate a queen and an empty space respectively.\n",
        "```\n",
        "Example\n",
        "There exist two distinct solutions to the 4-queens puzzle:\n",
        "\n",
        "[\n",
        "  // Solution 1\n",
        "  [\".Q..\",\n",
        "   \"...Q\",\n",
        "   \"Q...\",\n",
        "   \"..Q.\"\n",
        "  ],\n",
        "  // Solution 2\n",
        "  [\"..Q.\",\n",
        "   \"Q...\",\n",
        "   \"...Q\",\n",
        "   \".Q..\"\n",
        "  ]\n",
        "]\n",
        "Challenge\n",
        "Can you do it without recursion?\n",
        "```"
      ]
    },
    {
      "metadata": {
        "id": "VY8y0BxVlq6v",
        "colab_type": "code",
        "colab": {}
      },
      "cell_type": "code",
      "source": [
        "class Solution:\n",
        "    \"\"\"\n",
        "    Get all distinct N-Queen solutions\n",
        "    @param n: The number of queens\n",
        "    @return: All distinct solutions\n",
        "    \"\"\"\n",
        "    def solveNQueens(self, n):\n",
        "        \n",
        "        if n<=0:\n",
        "            return []\n",
        "        N = n\n",
        "        #########################################################\n",
        "        NQueens = [0]*N \n",
        "        \n",
        "        NQ = []\n",
        "        def check_pos_valid(loop,value):\n",
        "            index = 0\n",
        "            data = 0\n",
        "            for index in xrange(loop):\n",
        "                data = NQueens[index]\n",
        "                if value == data:\n",
        "                    return 0\n",
        "                if index+data == loop+value:\n",
        "                    return 0\n",
        "                if index-data == loop-value:\n",
        "                    return 0\n",
        "            return 1\n",
        "        def N_queens(index,NQueens):\n",
        "            \n",
        "            for loop in xrange(N):\n",
        "                if check_pos_valid(index,loop)==1:\n",
        "                    NQueens[index] = loop\n",
        "                    if N-1 == index:\n",
        "                        \n",
        "                        NQ.append(list(NQueens))\n",
        "                        NQueens = map(lambda x:0, NQueens)\n",
        "                        return \n",
        "                    N_queens(index+1,NQueens)\n",
        "                    NQueens[index] = 0 \n",
        "        N_queens(0,NQueens)\n",
        "        \n",
        "        #########################################################\n",
        "        sample = \".\"*n\n",
        "        \n",
        "        sol = []\n",
        "        for nq in NQ:\n",
        "            ans = []\n",
        "            for i in xrange(len(nq)):\n",
        "                k=nq[i]\n",
        "                ans.append(sample[:k]+'Q'+sample[k+1:])\n",
        "            sol.append(ans)\n",
        "        \n",
        "        return sol\n"
      ],
      "execution_count": 0,
      "outputs": []
    },
    {
      "metadata": {
        "id": "TaT8vF3claeX",
        "colab_type": "text"
      },
      "cell_type": "markdown",
      "source": [
        "### 34. N-Queens II\n",
        "Follow up for N-Queens problem.\n",
        "\n",
        "Now, instead outputting board configurations, return the total number of distinct solutions.\n",
        "```\n",
        "Example\n",
        "For n=4, there are 2 distinct solutions.\n",
        "```"
      ]
    },
    {
      "metadata": {
        "id": "in-vLPZFldsJ",
        "colab_type": "code",
        "colab": {}
      },
      "cell_type": "code",
      "source": [
        "class Solution:\n",
        "    \"\"\"\n",
        "    Get all distinct N-Queen solutions\n",
        "    @param n: The number of queens\n",
        "    @return: All distinct solutions\n",
        "    \"\"\"\n",
        "    def totalNQueens(self, n):\n",
        "        \n",
        "        if n<=0:\n",
        "            return []\n",
        "        N = n\n",
        "        #########################################################\n",
        "        NQueens = [0]*N \n",
        "        Count = 0\n",
        "        NQ = []\n",
        "        def check_pos_valid(loop,value):\n",
        "            index = 0\n",
        "            data = 0\n",
        "            for index in xrange(loop):\n",
        "                data = NQueens[index]\n",
        "                if value == data:\n",
        "                    return 0\n",
        "                if index+data == loop+value:\n",
        "                    return 0\n",
        "                if index-data == loop-value:\n",
        "                    return 0\n",
        "            return 1\n",
        "        def N_queens(index,NQueens):\n",
        "            \n",
        "            for loop in xrange(N):\n",
        "                if check_pos_valid(index,loop)==1:\n",
        "                    NQueens[index] = loop\n",
        "                    if N-1 == index:\n",
        "                        \n",
        "                        NQ.append(list(NQueens))\n",
        "                        NQueens = map(lambda x:0, NQueens)\n",
        "                        return \n",
        "                    N_queens(index+1,NQueens)\n",
        "                    NQueens[index] = 0 \n",
        "        N_queens(0,NQueens)\n",
        "        \n",
        "        #########################################################\n",
        "        sample = \".\"*n\n",
        "        \n",
        "        sol = []\n",
        "        for nq in NQ:\n",
        "            ans = []\n",
        "            for i in xrange(len(nq)):\n",
        "                k=nq[i]\n",
        "                ans.append(sample[:k]+'Q'+sample[k+1:])\n",
        "            sol.append(ans)\n",
        "        \n",
        "        return len(sol)\n",
        " "
      ],
      "execution_count": 0,
      "outputs": []
    },
    {
      "metadata": {
        "id": "RK37TTZRl4z1",
        "colab_type": "text"
      },
      "cell_type": "markdown",
      "source": [
        "### 15. Permutations\n",
        "Given a list of numbers, return all possible permutations.\n",
        "```\n",
        "Example\n",
        "For nums = [1,2,3], the permutations are:\n",
        "\n",
        "[\n",
        "  [1,2,3],\n",
        "  [1,3,2],\n",
        "  [2,1,3],\n",
        "  [2,3,1],\n",
        "  [3,1,2],\n",
        "  [3,2,1]\n",
        "]\n",
        "Challenge\n",
        "Do it without recursion.\n",
        "```"
      ]
    },
    {
      "metadata": {
        "id": "3tq_GBCQl8wm",
        "colab_type": "code",
        "colab": {}
      },
      "cell_type": "code",
      "source": [
        "class Solution:\n",
        "    \"\"\"\n",
        "    @param nums: A list of Integers.\n",
        "    @return: A list of permutations.\n",
        "    \"\"\"\n",
        "    def permute1(self, nums):\n",
        "        L  = []\n",
        "        if (nums == None or len(nums)==0):\n",
        "            return L\n",
        "        if(len(nums)==1):\n",
        "            L.append(nums)\n",
        "            return L\n",
        "        for i in range(len(nums)):\n",
        "            nums_cpy = list(nums)\n",
        "            num = nums[i]\n",
        "            del nums_cpy[i]\n",
        "            L2 = self.permute(nums_cpy)\n",
        "            for l2 in L2:\n",
        "                l2.insert(0,num)\n",
        "            L = L + L2\n",
        "        return L        \n",
        "    \n",
        "    def permute(self, S):\n",
        "        res = []\n",
        "        def dfs(tmp, index):\n",
        "            if len(tmp) == len(S):\n",
        "                res.append(tmp)\n",
        "                return \n",
        "            for i in range(len(S)):\n",
        "                if S[i] in tmp:\n",
        "                    continue\n",
        "                dfs(tmp + [S[i]], i+1)\n",
        "        dfs([], 0)\n",
        "        return res"
      ],
      "execution_count": 0,
      "outputs": []
    },
    {
      "metadata": {
        "id": "YTWh_cFJlhCu",
        "colab_type": "text"
      },
      "cell_type": "markdown",
      "source": [
        "### 16. Permutations II\n",
        "Given a list of numbers with duplicate number in it. Find all unique permutations.\n",
        "```\n",
        "Example\n",
        "For numbers [1,2,2] the unique permutations are:\n",
        "\n",
        "[\n",
        "  [1,2,2],\n",
        "  [2,1,2],\n",
        "  [2,2,1]\n",
        "]\n",
        "Challenge\n",
        "Using recursion to do it is acceptable. If you can do it without recursion, that would be great!\n",
        "```"
      ]
    },
    {
      "metadata": {
        "id": "-totR1a5l0ve",
        "colab_type": "code",
        "colab": {}
      },
      "cell_type": "code",
      "source": [
        "class Solution:\n",
        "    \"\"\"\n",
        "    @param nums: A list of Integers.\n",
        "    @return: A list of permutations.\n",
        "    \"\"\"\n",
        "    def permuteUnique(self, S):\n",
        "        res = []\n",
        "        S = sorted(S)\n",
        "    \n",
        "        def dfs(tmp, s):\n",
        "            if len(s) == 0:\n",
        "                res.append(tmp)\n",
        "                return\n",
        "            for i in range(len(s)):\n",
        "                if 0 < i < len(s) and s[i] == s[i-1]:\n",
        "                    continue\n",
        "                dfs(tmp + [s[i]], s[:i] + s[i+1:])\n",
        "                    \n",
        "        dfs([], S)\n",
        "        \n",
        "        return res"
      ],
      "execution_count": 0,
      "outputs": []
    },
    {
      "metadata": {
        "id": "32aoqktIrfFD",
        "colab_type": "text"
      },
      "cell_type": "markdown",
      "source": [
        "### 828. Word Pattern\n",
        "Given a pattern and a string str, find if str follows the same pattern.\n",
        "\n",
        "Here follow means a full match, such that there is a bijection between a letter in pattern and a non-empty word in str.\n",
        "```\n",
        "Example\n",
        "Given pattern = \"abba\", str = \"dog cat cat dog\", return true.\n",
        "Given pattern = \"abba\", str = \"dog cat cat fish\", return false.\n",
        "Given pattern = \"aaaa\", str = \"dog cat cat dog\", return false.\n",
        "Given pattern = \"abba\", str = \"dog dog dog dog\", return false\n",
        "```"
      ]
    },
    {
      "metadata": {
        "id": "5lr3Mk6MrjcD",
        "colab_type": "code",
        "colab": {
          "base_uri": "https://localhost:8080/",
          "height": 52
        },
        "outputId": "c3aff109-610d-4cca-918e-a1f6a4b2ad9c"
      },
      "cell_type": "code",
      "source": [
        "class Solution:\n",
        "    \"\"\"\n",
        "    @param pattern: a string, denote pattern string\n",
        "    @param str: a string, denote matching string\n",
        "    @return: an boolean, denote whether the pattern string and the matching string match or not\n",
        "    \"\"\"\n",
        "    def wordPattern(self, pattern, Str):\n",
        "        words = Str.split(' ')\n",
        "        match = {}\n",
        "        rmatch = {}\n",
        "        for i in range(len(words)):\n",
        "            word = words[i]\n",
        "            ch = pattern[i]\n",
        "            if ch not in match:\n",
        "                match[ch] = word\n",
        "            if word not in rmatch:\n",
        "                rmatch[word] = ch\n",
        "            if len(match) != len(rmatch):\n",
        "                return False\n",
        "                \n",
        "        return True\n",
        "    \n",
        "if __name__ == \"__main__\":\n",
        "    s = Solution()\n",
        "    print s.wordPattern('abba', 'dog dog dog dog')\n",
        "    print s.wordPattern('aa', 'bog bod')\n",
        "    "
      ],
      "execution_count": 0,
      "outputs": [
        {
          "output_type": "stream",
          "text": [
            "False\n",
            "False\n"
          ],
          "name": "stdout"
        }
      ]
    },
    {
      "metadata": {
        "id": "wRFqFMvcuHRm",
        "colab_type": "code",
        "colab": {
          "base_uri": "https://localhost:8080/",
          "height": 35
        },
        "outputId": "e444bb83-08ad-477b-96c3-aba0dd7dbabb"
      },
      "cell_type": "code",
      "source": [
        "d = {'1': 'one', '3': 'three', '2': 'two', '5': 'five', '4': 'four'}\n",
        "type(d.values())"
      ],
      "execution_count": 0,
      "outputs": [
        {
          "output_type": "execute_result",
          "data": {
            "text/plain": [
              "list"
            ]
          },
          "metadata": {
            "tags": []
          },
          "execution_count": 5
        }
      ]
    },
    {
      "metadata": {
        "id": "nJFFaBUA3owm",
        "colab_type": "text"
      },
      "cell_type": "markdown",
      "source": [
        "### 829. Word Pattern II\n",
        "Given a pattern and a string str, find if str follows the same pattern.\n",
        "\n",
        "Here follow means a full match, such that there is a bijection between a letter in pattern and a non-empty substring in str.(i.e if a corresponds to s, then b cannot correspond to s. For example, given pattern = \"ab\", str = \"ss\", return false.)\n",
        "```\n",
        "Example\n",
        "Given pattern = \"abab\", str = \"redblueredblue\", return true.\n",
        "Given pattern = \"aaaa\", str = \"asdasdasdasd\", return true.\n",
        "Given pattern = \"aabb\", str = \"xyzabcxzyabc\", return false.\n",
        "```"
      ]
    },
    {
      "metadata": {
        "id": "3xvsTD-P5fK5",
        "colab_type": "code",
        "colab": {}
      },
      "cell_type": "code",
      "source": [
        "class Solution:\n",
        "    \"\"\"\n",
        "    @param pattern: a string,denote pattern string\n",
        "    @param str: a string, denote matching string\n",
        "    @return: a boolean\n",
        "    \"\"\"\n",
        "    def wordPatternMatch(self, pattern, str):\n",
        "        ptn_dic = {}\n",
        "      \n",
        "        def dfs_is_matched(ptn, s):\n",
        "#            print ptn, s, ptn_dic\n",
        "            if len(ptn) == 0:\n",
        "                return len(s) == 0\n",
        "            \n",
        "            c = ptn[0] \n",
        "            if c in ptn_dic:\n",
        "                if not s.startswith(ptn_dic[c]):\n",
        "                    return False # existing pattern not matching\n",
        "                \n",
        "                l_of_ptn = len(ptn_dic[c])\n",
        "                return dfs_is_matched(ptn[1:], s[l_of_ptn:])\n",
        "            \n",
        "            for i in range(len(s)): \n",
        "                word = s[0:i+1]\n",
        "                if word in ptn_dic.values():\n",
        "                    continue\n",
        "                \n",
        "                ptn_dic[c] = word\n",
        "                if dfs_is_matched(ptn[1:], s[i+1:]):\n",
        "                    return True\n",
        "                ptn_dic.pop(c)\n",
        "            \n",
        "            return False\n",
        "        \n",
        "        return dfs_is_matched(pattern, str)"
      ],
      "execution_count": 0,
      "outputs": []
    },
    {
      "metadata": {
        "id": "x-f8VV0InC3p",
        "colab_type": "text"
      },
      "cell_type": "markdown",
      "source": [
        "### 123. Word Search\n",
        "Given a 2D board and a word, find if the word exists in the grid.\n",
        "\n",
        "The word can be constructed from letters of sequentially adjacent cell, where \"adjacent\" cells are those horizontally or vertically neighboring. The same letter cell may not be used more than once.\n",
        "```\n",
        "Example\n",
        "Given board =\n",
        "\n",
        "[\n",
        "  \"ABCE\",\n",
        "  \"SFCS\",\n",
        "  \"ADEE\"\n",
        "]\n",
        "word = \"ABCCED\", -> returns true,\n",
        "word = \"SEE\", -> returns true,\n",
        "word = \"ABCB\", -> returns false.\n",
        "```"
      ]
    },
    {
      "metadata": {
        "id": "5wQYuLqCnIWR",
        "colab_type": "code",
        "colab": {
          "base_uri": "https://localhost:8080/",
          "height": 34
        },
        "outputId": "4d9aa63f-5590-490c-de64-4670f51d4744"
      },
      "cell_type": "code",
      "source": [
        "class Solution:\n",
        "    \"\"\"\n",
        "    @param: board: A list of lists of character\n",
        "    @param: word: A string\n",
        "    @return: A boolean\n",
        "    \"\"\"\n",
        "    def exist(self, board, word):\n",
        "        if len(word) == 0:\n",
        "            return True\n",
        "        m, n = len(board), len(board[0])\n",
        "        if m == 0 or n == 0:\n",
        "            return False\n",
        "        # Visited Matrix\n",
        "        visited = [[False for j in range(n)] for i in range(m)]\n",
        "        # DFS\n",
        "        for i in range(m):\n",
        "            for j in range(n):\n",
        "                if self.dfs(board, word, visited, i, j):\n",
        "                    return True\n",
        "        return False\n",
        "\n",
        "\n",
        "    def dfs(self, board, word, visited, row, col):\n",
        "        if word == '':\n",
        "            return True\n",
        "        m, n = len(board), len(board[0])\n",
        "        if row < 0 or row >= m or col < 0 or col >= n:\n",
        "            return False\n",
        "        if board[row][col] == word[0] and not visited[row][col]:\n",
        "            visited[row][col] = True\n",
        "            # row -+ 1, col -+ 1\n",
        "            if self.dfs(board, word[1:], visited, row - 1, col) \\\n",
        "            or self.dfs(board, word[1:], visited, row, col - 1) \\\n",
        "            or self.dfs(board, word[1:], visited, row + 1, col) \\\n",
        "            or self.dfs(board, word[1:], visited, row, col + 1):\n",
        "                return True\n",
        "            else:\n",
        "                visited[row][col] = False\n",
        "\n",
        "\n",
        "if __name__ == \"__main__\":\n",
        "    test_case = [\n",
        "                 \"ABCE\",\n",
        "                 \"SFCS\",\n",
        "                 \"ADEE\"\n",
        "                ]\n",
        "    print ( Solution().exist(test_case, 'SEE') )\n",
        "\n"
      ],
      "execution_count": 0,
      "outputs": [
        {
          "output_type": "stream",
          "text": [
            "True\n"
          ],
          "name": "stdout"
        }
      ]
    },
    {
      "metadata": {
        "id": "frBf69gO3oXR",
        "colab_type": "text"
      },
      "cell_type": "markdown",
      "source": [
        "### 132. Word Search II\n",
        "Given a matrix of lower alphabets and a dictionary. Find all words in the dictionary that can be found in the matrix. A word can start from any position in the matrix and go left/right/up/down to the adjacent position. One character only be used once in one word.\n",
        "```\n",
        "Example\n",
        "Given matrix:\n",
        "\n",
        "doaf\n",
        "agai\n",
        "dcan\n",
        "and dictionary:\n",
        "\n",
        "{\"dog\", \"dad\", \"dgdg\", \"can\", \"again\"}\n",
        "\n",
        "return {\"dog\", \"dad\", \"can\", \"again\"}\n",
        "\n",
        "\n",
        "dog:\n",
        "doaf\n",
        "agai\n",
        "dcan\n",
        "dad:\n",
        "\n",
        "doaf\n",
        "agai\n",
        "dcan\n",
        "can:\n",
        "\n",
        "doaf\n",
        "agai\n",
        "dcan\n",
        "again:\n",
        "\n",
        "doaf\n",
        "agai\n",
        "dcan\n",
        "Challenge\n",
        "Using trie to implement your algorithm.\n",
        "```"
      ]
    },
    {
      "metadata": {
        "id": "KiFC4D4c5jQL",
        "colab_type": "code",
        "colab": {
          "base_uri": "https://localhost:8080/",
          "height": 34
        },
        "outputId": "dd546870-f68c-401a-dbb0-c6ebf70fecf8"
      },
      "cell_type": "code",
      "source": [
        "class Solution:\n",
        "    \"\"\"\n",
        "    @param: board: A list of lists of character\n",
        "    @param: word: A string\n",
        "    @return: A boolean\n",
        "    \"\"\"\n",
        "    def exist(self, board, word):\n",
        "        if len(word) == 0:\n",
        "            return True\n",
        "        m, n = len(board), len(board[0])\n",
        "        if m == 0 or n == 0:\n",
        "            return False\n",
        "        # Visited Matrix\n",
        "        visited = [[False for j in range(n)] for i in range(m)]\n",
        "        # DFS\n",
        "        for i in range(m):\n",
        "            for j in range(n):\n",
        "                if self.dfs(board, word, visited, i, j):\n",
        "                    return True\n",
        "        return False\n",
        "\n",
        "\n",
        "    def dfs(self, board, word, visited, row, col):\n",
        "        if word == '':\n",
        "            return True\n",
        "        m, n = len(board), len(board[0])\n",
        "        if row < 0 or row >= m or col < 0 or col >= n:\n",
        "            return False\n",
        "        if board[row][col] == word[0] and not visited[row][col]:\n",
        "            visited[row][col] = True\n",
        "            # row -+ 1, col -+ 1\n",
        "            if self.dfs(board, word[1:], visited, row - 1, col) \\\n",
        "            or self.dfs(board, word[1:], visited, row, col - 1) \\\n",
        "            or self.dfs(board, word[1:], visited, row + 1, col) \\\n",
        "            or self.dfs(board, word[1:], visited, row, col + 1):\n",
        "                return True\n",
        "            else:\n",
        "                visited[row][col] = False\n",
        "\n",
        "\n",
        "    def wordSearchII(self, board, words):\n",
        "        ans = []\n",
        "        for word in words:\n",
        "            if self.exist(board, word):\n",
        "                ans.append(word)\n",
        "        return ans\n",
        "\n",
        "if __name__ == \"__main__\":\n",
        "    test_case = [\"doaf\",\"agai\",\"dcan\"]\n",
        "    words = [\"dog\", \"dad\", \"dgdg\", \"can\", \"again\"]\n",
        "    #print(Solution().exist(test_case, 'SEE'))\n",
        "    print(Solution().wordSearchII(test_case, words))"
      ],
      "execution_count": 0,
      "outputs": [
        {
          "output_type": "stream",
          "text": [
            "['dog', 'dad', 'can', 'again']\n"
          ],
          "name": "stdout"
        }
      ]
    },
    {
      "metadata": {
        "id": "GqkBRrhL3oJx",
        "colab_type": "text"
      },
      "cell_type": "markdown",
      "source": [
        "### 121. Word Ladder II\n",
        "Given two words (start and end), and a dictionary, find all shortest transformation sequence(s) from start to end, such that:\n",
        "\n",
        "Only one letter can be changed at a time\n",
        "Each intermediate word must exist in the dictionary\n",
        "```\n",
        "Example\n",
        "Given:\n",
        "start = \"hit\"\n",
        "end = \"cog\"\n",
        "dict = [\"hot\",\"dot\",\"dog\",\"lot\",\"log\"]\n",
        "Return\n",
        "  [\n",
        "    [\"hit\",\"hot\",\"dot\",\"dog\",\"cog\"],\n",
        "    [\"hit\",\"hot\",\"lot\",\"log\",\"cog\"]\n",
        "  ]\n",
        "  ```"
      ]
    },
    {
      "metadata": {
        "id": "a9eBLTdL5YiU",
        "colab_type": "code",
        "colab": {}
      },
      "cell_type": "code",
      "source": [
        "class Solution(object):\n",
        "    # param start, a string\n",
        "    # param end, a string\n",
        "    # param dict, a set of string\n",
        "    # return a list of lists of string\n",
        "    def findLadders(self, start, end, dict):\n",
        "        # Write your code here\n",
        "        dict.add(start)\n",
        "        dict.add(end)\n",
        "\n",
        "        def buildPath(path,word):\n",
        "            if len(preMap[word]) == 0:\n",
        "                result.append([word] + path)\n",
        "                return\n",
        "            path.insert(0,word)\n",
        "            for w in preMap[word]:\n",
        "                buildPath(path,w)\n",
        "            path.pop(0)\n",
        "\n",
        "        length = len(start)\n",
        "        preMap = {}\n",
        "        for word in dict:\n",
        "            preMap[word] = []\n",
        "        result = []\n",
        "        cur_level = set()\n",
        "        cur_level.add(start)\n",
        "\n",
        "        while True:\n",
        "            pre_level = cur_level\n",
        "            cur_level = set()\n",
        "            for word in pre_level:\n",
        "                dict.remove(word)\n",
        "            for word in pre_level:\n",
        "                for i in range(length):\n",
        "                    left = word[:i]\n",
        "                    right = word[i+1:]\n",
        "                    for c in 'abcdefghijklmnopqrstuvwxyz':\n",
        "                        if c != word[i]:\n",
        "                            nextWord = left + c + right\n",
        "                            if nextWord in dict:\n",
        "                                preMap[nextWord].append(word)\n",
        "                                cur_level.add(nextWord)\n",
        "            if len(cur_level) == 0:\n",
        "                return []\n",
        "            if end in cur_level:\n",
        "                break\n",
        "        buildPath([],end)\n",
        "        return result"
      ],
      "execution_count": 0,
      "outputs": []
    },
    {
      "metadata": {
        "id": "1awE9D_4vunO",
        "colab_type": "text"
      },
      "cell_type": "markdown",
      "source": [
        "### 634. Word Squares\n",
        "Given a set of words without duplicates, find all word squares you can build from them.\n",
        "\n",
        "A sequence of words forms a valid word square if the kth row and column read the exact same string, where 0 ≤ k < max(numRows, numColumns).\n",
        "```\n",
        "For example, the word sequence [\"ball\",\"area\",\"lead\",\"lady\"] forms a word square because each word reads the same both horizontally and vertically.\n",
        "\n",
        "b a l l\n",
        "a r e a\n",
        "l e a d\n",
        "l a d y\n",
        "Example\n",
        "Given a set [\"area\",\"lead\",\"wall\",\"lady\",\"ball\"]\n",
        "return [[\"wall\",\"area\",\"lead\",\"lady\"],[\"ball\",\"area\",\"lead\",\"lady\"]]\n",
        "Explanation:\n",
        "The output consists of two word squares. The order of output does not matter (just the order of words in each word square matters).\n",
        "\n",
        "Given a set [\"abat\",\"baba\",\"atan\",\"atal\"]\n",
        "return [[\"baba\",\"abat\",\"baba\",\"atan\"],[\"baba\",\"abat\",\"baba\",\"atal\"]]\n",
        "Explanation:\n",
        "The output consists of two word squares. The order of output does not matter (just the order of words in each word square matters).\n",
        "```"
      ]
    },
    {
      "metadata": {
        "id": "dryGfGdlvhMg",
        "colab_type": "code",
        "colab": {
          "base_uri": "https://localhost:8080/",
          "height": 35
        },
        "outputId": "8dfadd48-bb66-485a-eaeb-676a2fffd8f8"
      },
      "cell_type": "code",
      "source": [
        "class Trie:\n",
        "    def __init__(self, words):\n",
        "        self.root = {}\n",
        "        for word in words:\n",
        "            self.add_word(word)\n",
        "    \n",
        "    def add_word(self, word):\n",
        "        \n",
        "        def dfs(start, trie):\n",
        "            if start == len(word):\n",
        "                return\n",
        "            ch = word[start]\n",
        "            if ch not in trie:\n",
        "                trie[ch] = {}\n",
        "            dfs(start + 1, trie[ch])\n",
        "        \n",
        "        dfs(0, self.root)\n",
        "            \n",
        "    def get_words(self, prefix):\n",
        "        trie = self.root\n",
        "        \n",
        "        for ch in prefix:\n",
        "            if ch not in trie:\n",
        "                return []\n",
        "            trie = trie[ch]\n",
        "        \n",
        "        res = []\n",
        "        \n",
        "        def dfs(trie, tmp):\n",
        "            if not trie:\n",
        "                res.append(tmp)\n",
        "                return\n",
        "            for ch in trie:\n",
        "                dfs(trie[ch], tmp + ch)\n",
        "                \n",
        "        dfs(trie, prefix)\n",
        "        return res\n",
        "    \n",
        "class Solution(object):\n",
        "    def wordSquares(self, words):\n",
        "        if not words:\n",
        "            return []\n",
        "        res = []\n",
        "        trie = Trie(words)\n",
        "        n = len(words[0])\n",
        "        \n",
        "        def dfs(start, tmp, prefix):\n",
        "            cands = trie.get_words(prefix)\n",
        "            for cand in cands:\n",
        "                tmp.append(cand)\n",
        "                if len(tmp) == n:\n",
        "                    res.append(tmp[:])\n",
        "                    tmp.pop()\n",
        "                    continue\n",
        "                new_prefix = ''.join([word[start+1] for word in tmp])\n",
        "                dfs(start+1, tmp, new_prefix)\n",
        "                tmp.pop()\n",
        "        \n",
        "        dfs(0, [], '')\n",
        "        return res \n",
        "\n",
        "if __name__ == \"__main__\":\n",
        "        \n",
        "    trie = Trie([\"abat\",\"baba\",\"atan\",\"atal\"])\n",
        "    trie.get_words('')\n",
        "    s = Solution()\n",
        "    print s.wordSquares([\"abat\",\"baba\",\"atan\",\"atal\"])\n",
        "    \n"
      ],
      "execution_count": 0,
      "outputs": [
        {
          "output_type": "stream",
          "text": [
            "[['baba', 'abat', 'baba', 'atal'], ['baba', 'abat', 'baba', 'atan']]\n"
          ],
          "name": "stdout"
        }
      ]
    }
  ]
}