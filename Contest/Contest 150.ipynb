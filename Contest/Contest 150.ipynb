{
 "cells": [
  {
   "cell_type": "code",
   "execution_count": 2,
   "metadata": {},
   "outputs": [],
   "source": [
    "from collections import Counter"
   ]
  },
  {
   "cell_type": "code",
   "execution_count": 17,
   "metadata": {},
   "outputs": [
    {
     "data": {
      "text/plain": [
       "Counter({'b': 1})"
      ]
     },
     "execution_count": 17,
     "metadata": {},
     "output_type": "execute_result"
    }
   ],
   "source": [
    "Counter('abc') - Counter ('acc')"
   ]
  },
  {
   "cell_type": "code",
   "execution_count": 18,
   "metadata": {},
   "outputs": [
    {
     "data": {
      "text/plain": [
       "Counter({'a': 1, 'c': 2})"
      ]
     },
     "execution_count": 18,
     "metadata": {},
     "output_type": "execute_result"
    }
   ],
   "source": [
    "Counter ('acc')"
   ]
  },
  {
   "cell_type": "code",
   "execution_count": 5,
   "metadata": {},
   "outputs": [],
   "source": [
    "words = [\"hello\",\"world\",\"leetcode\"]"
   ]
  },
  {
   "cell_type": "code",
   "execution_count": 21,
   "metadata": {},
   "outputs": [],
   "source": [
    "from collections import Counter\n",
    "class Solution:\n",
    "    def countCharacters(self, words:list, chars: str) -> int:\n",
    "        def check(word, counts):\n",
    "            for ch in word:\n",
    "                if ch not in counts:\n",
    "                    return False\n",
    "                counts[ch] -= 1 \n",
    "                if counts[ch] < 0:\n",
    "                    return False\n",
    "            return True\n",
    "        chash = {}\n",
    "        for ch in chars:\n",
    "            if ch in chash:\n",
    "                chash[ch] += 1\n",
    "            else:\n",
    "                chash[ch] = 1                \n",
    "        ans = 0\n",
    "        for word in words:\n",
    "            if check(word, chash.copy()):\n",
    "                ans += len(word)\n",
    "        \n",
    "        return ans"
   ]
  },
  {
   "cell_type": "code",
   "execution_count": 22,
   "metadata": {},
   "outputs": [
    {
     "data": {
      "text/plain": [
       "6"
      ]
     },
     "execution_count": 22,
     "metadata": {},
     "output_type": "execute_result"
    }
   ],
   "source": [
    "Solution().countCharacters([\"cat\",\"bt\",\"hat\",\"tree\"], \"atach\")"
   ]
  },
  {
   "cell_type": "code",
   "execution_count": null,
   "metadata": {},
   "outputs": [],
   "source": [
    "class Solution:\n",
    "    def maxDistance(self, grid: List[List[int]]) -> int:\n",
    "        m, n = len(grid), len(grid[0])\n",
    "        dis = [[-1 for j in range(n)]\n",
    "                   for i in range(m)]\n",
    "        \n",
    "        deck = collections.deque([])\n",
    "        \n",
    "        for i in range(m):\n",
    "            for j in range(n):\n",
    "                if grid[i][j]==1:\n",
    "                    deck.append((i,j))\n",
    "                    dis[i][j]=0\n",
    "                    \n",
    "        dirs = [(1,0),(0,1),(-1,0),(0,-1)]\n",
    "        \n",
    "        while deck:\n",
    "            x, y = deck.popleft()\n",
    "            for dx, dy in dirs:\n",
    "                xd, yd = x + dx, y + dy\n",
    "                if 0 <= xd < m and 0 <= yd < n and dis[xd][yd] == -1:\n",
    "                    dis[xd][yd] = dis[x][y] + 1\n",
    "                    deck.append((xd, yd))       \n",
    "        \n",
    "        A = max([max(s) for s in dis])\n",
    "        return A if A > 0 else -1"
   ]
  },
  {
   "cell_type": "code",
   "execution_count": null,
   "metadata": {},
   "outputs": [],
   "source": []
  },
  {
   "cell_type": "code",
   "execution_count": null,
   "metadata": {},
   "outputs": [],
   "source": []
  }
 ],
 "metadata": {
  "kernelspec": {
   "display_name": "py37",
   "language": "python",
   "name": "python3"
  },
  "language_info": {
   "codemirror_mode": {
    "name": "ipython",
    "version": 3
   },
   "file_extension": ".py",
   "mimetype": "text/x-python",
   "name": "python",
   "nbconvert_exporter": "python",
   "pygments_lexer": "ipython3",
   "version": "3.7.1"
  }
 },
 "nbformat": 4,
 "nbformat_minor": 2
}
