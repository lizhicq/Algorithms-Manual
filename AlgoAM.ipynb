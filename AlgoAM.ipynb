{
 "cells": [
  {
   "cell_type": "markdown",
   "metadata": {},
   "source": [
    "# Algorithm"
   ]
  },
  {
   "cell_type": "markdown",
   "metadata": {},
   "source": [
    "## Pointer"
   ]
  },
  {
   "cell_type": "markdown",
   "metadata": {},
   "source": [
    "### Two Sum"
   ]
  },
  {
   "cell_type": "code",
   "execution_count": null,
   "metadata": {},
   "outputs": [],
   "source": [
    "def twoSum(self, nums: List[int], target: int) -> List[int]:\n",
    "    su = {}\n",
    "    for i, num in enumerate(nums):\n",
    "        x = target - num\n",
    "        if x in su:\n",
    "            return sorted([i, su[x]])            \n",
    "        su[num] = i\n",
    "\n",
    "    return [-1,-1]"
   ]
  },
  {
   "cell_type": "markdown",
   "metadata": {},
   "source": [
    "### Longest Palindromic Substring"
   ]
  },
  {
   "cell_type": "code",
   "execution_count": null,
   "metadata": {},
   "outputs": [],
   "source": [
    "class Solution(object):\n",
    "    def longestPalindrome(self, s):\n",
    "        \"\"\"\n",
    "        :type s: str\n",
    "        :rtype: str\n",
    "        \"\"\"\n",
    "        n = len(s)\n",
    "        maxlen = 0\n",
    "        ans = ''\n",
    "        \n",
    "        for i in range(n):            \n",
    "            # odd\n",
    "            start, end = i, i\n",
    "            while start >= 0 and end < n and s[start] == s[end]:\n",
    "                    start -= 1\n",
    "                    end += 1 \n",
    "            if end - start - 1 > maxlen:\n",
    "                \n",
    "                ans = s[start+1:end]\n",
    "                maxlen = end - start - 1 \n",
    "                \n",
    "            # even\n",
    "            start, end = i, i+1\n",
    "            while start >= 0 and end < n and s[start] == s[end]:\n",
    "                    start -= 1\n",
    "                    end += 1 \n",
    "            if end - start - 1 > maxlen:\n",
    "                ans = s[start+1:end]\n",
    "                maxlen = end - start - 1 \n",
    "                \n",
    "        return ans"
   ]
  },
  {
   "cell_type": "markdown",
   "metadata": {},
   "source": [
    "### Partition Labels\n",
    "\n",
    "A string S of lowercase letters is given. We want to partition this string into as many parts as possible so that each letter appears in at most one part, and return a list of integers representing the size of these parts.\n",
    "\n",
    "\n",
    "Input: S = \"ababcbacadefegdehijhklij\"\n",
    "\n",
    "Output: [9,7,8]"
   ]
  },
  {
   "cell_type": "code",
   "execution_count": null,
   "metadata": {},
   "outputs": [],
   "source": [
    "def partitionLabels(self, S):\n",
    "    sizes = []\n",
    "    while S:\n",
    "        i = 1\n",
    "        while set(S[:i]) & set(S[i:]):\n",
    "            i += 1\n",
    "        sizes.append(i)\n",
    "        S = S[i:]\n",
    "    return sizes"
   ]
  },
  {
   "cell_type": "markdown",
   "metadata": {},
   "source": [
    "### Reorder Logs"
   ]
  },
  {
   "cell_type": "code",
   "execution_count": null,
   "metadata": {},
   "outputs": [],
   "source": [
    "def reorderLogFiles(self, logs: List[str]) -> List[str]:\n",
    "    digits = []\n",
    "    letters = []\n",
    "\n",
    "    for log in logs:\n",
    "        if log.split()[1].isdigit():\n",
    "            digits.append(log)\n",
    "        else:\n",
    "            letters.append(log)\n",
    "    print(letters)\n",
    "    letters.sort(key = lambda x: x.split()[1])\n",
    "    letters.sort(key = lambda x: x.split()[1:])\n",
    "    res = letters + digits\n",
    "    return res "
   ]
  },
  {
   "cell_type": "markdown",
   "metadata": {},
   "source": [
    "### Trapping Water\n",
    "\n",
    "![](https://assets.leetcode.com/uploads/2018/10/22/rainwatertrap.png)"
   ]
  },
  {
   "cell_type": "code",
   "execution_count": null,
   "metadata": {},
   "outputs": [],
   "source": [
    "def trap(self, heights: List[int]) -> int:\n",
    "    if not heights:\n",
    "        return 0\n",
    "    rain = maxleft = maxright = 0\n",
    "    left, right = 0, len(heights) - 1 \n",
    "    while left < right:\n",
    "        if heights[left] < heights[right]:\n",
    "            maxleft = max(heights[left], maxleft)\n",
    "            rain += maxleft - heights[left]\n",
    "            left += 1\n",
    "        else:\n",
    "            maxright = max(heights[right], maxright)\n",
    "            rain += maxright - heights[right]\n",
    "            right -= 1\n",
    "    return rain"
   ]
  },
  {
   "cell_type": "code",
   "execution_count": null,
   "metadata": {},
   "outputs": [],
   "source": []
  },
  {
   "cell_type": "code",
   "execution_count": null,
   "metadata": {},
   "outputs": [],
   "source": []
  },
  {
   "cell_type": "code",
   "execution_count": null,
   "metadata": {},
   "outputs": [],
   "source": []
  },
  {
   "cell_type": "markdown",
   "metadata": {},
   "source": [
    "## LinkedList"
   ]
  },
  {
   "cell_type": "markdown",
   "metadata": {},
   "source": [
    "### Add Two Numbers"
   ]
  },
  {
   "cell_type": "code",
   "execution_count": null,
   "metadata": {},
   "outputs": [],
   "source": [
    "def addTwoNumbers(self, l1, l2):\n",
    "        \"\"\"\n",
    "        :type l1: ListNode\n",
    "        :type l2: ListNode\n",
    "        :rtype: ListNode\n",
    "        \"\"\"\n",
    "        l3 = head = ListNode(-1)\n",
    "        res = 0\n",
    "        while l1 and l2:\n",
    "            val = l1.val + l2.val + res\n",
    "            res = 0\n",
    "            if val >= 10:\n",
    "                res = 1\n",
    "                val -= 10\n",
    "            l3.next = ListNode(val)\n",
    "            l1 = l1.next\n",
    "            l2 = l2.next\n",
    "            l3 = l3.next\n",
    "\n",
    "        while l1:\n",
    "            val = l1.val + res\n",
    "            res = 0\n",
    "            if val >= 10:\n",
    "                res = 1\n",
    "                val -= 10\n",
    "            l3.next = ListNode(val)\n",
    "            l1 = l1.next\n",
    "            l3 = l3.next\n",
    "        \n",
    "        while l2:\n",
    "            val = l2.val + res\n",
    "            res = 0\n",
    "            if val >= 10:\n",
    "                res = 1\n",
    "                val -= 10\n",
    "            l3.next = ListNode(val)\n",
    "            l2 = l2.next\n",
    "            l3 = l3.next\n",
    "\n",
    "        \n",
    "        if res:\n",
    "            l3.next = ListNode(res)\n",
    "            res = 0 \n",
    "            l3 = l3.next\n",
    "        \n",
    "        return head.next"
   ]
  },
  {
   "cell_type": "markdown",
   "metadata": {},
   "source": [
    "### Copy Random List\n",
    "A linked list is given such that each node contains an additional random pointer which could point to any node in the list or null.\n",
    "\n",
    "Return a deep copy of the list.\n",
    "![](https://discuss.leetcode.com/uploads/files/1470150906153-2yxeznm.png)"
   ]
  },
  {
   "cell_type": "code",
   "execution_count": null,
   "metadata": {},
   "outputs": [],
   "source": [
    "#O(2n)\n",
    "def copyRandomList(self, head):\n",
    "    dic = dict()\n",
    "    m = n = head\n",
    "    while m:\n",
    "        dic[m] = RandomListNode(m.label)\n",
    "        m = m.next\n",
    "    while n:\n",
    "        dic[n].next = dic.get(n.next)\n",
    "        dic[n].random = dic.get(n.random)\n",
    "        n = n.next\n",
    "    return dic.get(head)\n",
    "\n",
    "#O(n)\n",
    "def copyRandomList(self, head):\n",
    "    dic = collections.defaultdict(lambda: RandomListNode(0))\n",
    "    dic[None] = None\n",
    "    n = head\n",
    "    while n:\n",
    "        dic[n].label = n.label\n",
    "        dic[n].next = dic[n.next]\n",
    "        dic[n].random = dic[n.random]\n",
    "        n = n.next\n",
    "    return dic[head]"
   ]
  },
  {
   "cell_type": "markdown",
   "metadata": {},
   "source": [
    "## Array"
   ]
  },
  {
   "cell_type": "markdown",
   "metadata": {},
   "source": [
    "## Stack "
   ]
  },
  {
   "cell_type": "markdown",
   "metadata": {},
   "source": [
    "## Deck"
   ]
  },
  {
   "cell_type": "markdown",
   "metadata": {},
   "source": [
    "## Tree"
   ]
  },
  {
   "cell_type": "markdown",
   "metadata": {},
   "source": [
    "### Binary Tree Zigzag Level Order Traversal\n",
    "\n",
    "\n",
    "```\n",
    "For example:\n",
    "Given binary tree [3,9,20,null,null,15,7],\n",
    "    3\n",
    "   / \\\n",
    "  9  20\n",
    "    /  \\\n",
    "   15   7\n",
    "return its zigzag level order traversal as:\n",
    "[\n",
    "  [3],\n",
    "  [20,9],\n",
    "  [15,7]\n",
    "]\n",
    "```"
   ]
  },
  {
   "cell_type": "code",
   "execution_count": null,
   "metadata": {},
   "outputs": [],
   "source": [
    "# Definition for a binary tree node.\n",
    "# class TreeNode:\n",
    "#     def __init__(self, x):\n",
    "#         self.val = x\n",
    "#         self.left = None\n",
    "#         self.right = None\n",
    "from collections import deque\n",
    "class Solution:\n",
    "    def zigzagLevelOrder(self, root: TreeNode) -> List[List[int]]:\n",
    "        if not root:\n",
    "            return []\n",
    "        deck = deque()\n",
    "        deck.append(root)\n",
    "        res = [] \n",
    "        reverse = 0\n",
    "        while deck:\n",
    "            size = len(deck)\n",
    "            tmp = []\n",
    "            for i in range(size):\n",
    "                node = deck.popleft()\n",
    "                tmp.append(node.val)\n",
    "                if node.left:\n",
    "                    deck.append(node.left)\n",
    "                if node.right:\n",
    "                    deck.append(node.right)\n",
    "            res.append(tmp[::-1]) if reverse else res.append(tmp)\n",
    "            reverse = 1 - reverse\n",
    "        return res "
   ]
  },
  {
   "cell_type": "code",
   "execution_count": null,
   "metadata": {},
   "outputs": [],
   "source": [
    "\n"
   ]
  },
  {
   "cell_type": "code",
   "execution_count": null,
   "metadata": {},
   "outputs": [],
   "source": []
  },
  {
   "cell_type": "code",
   "execution_count": null,
   "metadata": {},
   "outputs": [],
   "source": []
  },
  {
   "cell_type": "code",
   "execution_count": null,
   "metadata": {},
   "outputs": [],
   "source": []
  },
  {
   "cell_type": "code",
   "execution_count": null,
   "metadata": {},
   "outputs": [],
   "source": []
  },
  {
   "cell_type": "code",
   "execution_count": null,
   "metadata": {},
   "outputs": [],
   "source": []
  },
  {
   "cell_type": "code",
   "execution_count": null,
   "metadata": {},
   "outputs": [],
   "source": []
  },
  {
   "cell_type": "code",
   "execution_count": null,
   "metadata": {},
   "outputs": [],
   "source": []
  },
  {
   "cell_type": "code",
   "execution_count": null,
   "metadata": {},
   "outputs": [],
   "source": []
  },
  {
   "cell_type": "markdown",
   "metadata": {},
   "source": [
    "## Graph(BFS and DFS)"
   ]
  },
  {
   "cell_type": "markdown",
   "metadata": {},
   "source": [
    "### Number of Islands"
   ]
  },
  {
   "cell_type": "code",
   "execution_count": null,
   "metadata": {},
   "outputs": [],
   "source": [
    "from collections import deque\n",
    "class Solution:\n",
    "    def numIslands(self, grid: List[List[str]]) -> int:\n",
    "        if not grid:\n",
    "            return 0\n",
    "        self.count = 0 \n",
    "        dirs = [(1,0),(0,1),(-1,0),(0,-1)]\n",
    "        m, n = len(grid), len(grid[0])\n",
    "        def bfs(x, y):\n",
    "            self.count += 1 \n",
    "            grid[x][y] = '-1' # visited\n",
    "            deck = deque()\n",
    "            deck.append((x,y))\n",
    "            while deck:\n",
    "                x, y = deck.popleft()\n",
    "                for dx, dy in dirs:\n",
    "                    xd, yd = x + dx, y + dy\n",
    "                    if 0 <= xd < m and 0 <= yd < n and grid[xd][yd] == '1':\n",
    "                        grid[xd][yd] = '-1' #visited\n",
    "                        deck.append((xd, yd))\n",
    "        \n",
    "        for x in range(m):\n",
    "            for y in range(n):\n",
    "                if grid[x][y] == '1':\n",
    "                    bfs(x,y)\n",
    "    \n",
    "        return self.count"
   ]
  },
  {
   "cell_type": "markdown",
   "metadata": {},
   "source": [
    "### Word Ladder \n",
    "```\n",
    "Input:\n",
    "beginWord = \"hit\",\n",
    "endWord = \"cog\",\n",
    "wordList = [\"hot\",\"dot\",\"dog\",\"lot\",\"log\",\"cog\"]\n",
    "\n",
    "Output: 5\n",
    "\n",
    "Explanation: As one shortest transformation is \"hit\" -> \"hot\" -> \"dot\" -> \"dog\" -> \"cog\",\n",
    "return its length 5.\n",
    "```"
   ]
  },
  {
   "cell_type": "code",
   "execution_count": null,
   "metadata": {},
   "outputs": [],
   "source": [
    "from collections import deque\n",
    "class Solution(object):\n",
    "    def ladderLength(self, begin, end, wordList):\n",
    "        \n",
    "        wordSet = set(wordList)\n",
    "        if end not in wordSet:\n",
    "            return 0\n",
    "        \n",
    "        n = len(begin)\n",
    "        \n",
    "        chlist = 'abcdefghijklmnopqrstuvwxyz'\n",
    "        deck = deque()\n",
    "        deck.append((begin, 1))\n",
    "        \n",
    "        while deck:\n",
    "            cur_word, cur_len = deck.popleft()\n",
    "            for ch in chlist:\n",
    "                for j in range(n):\n",
    "                    new_word = cur_word[:j] + ch + cur_word[j+1:]\n",
    "                    if new_word in wordSet:\n",
    "                        if new_word == end:\n",
    "                            return cur_len + 1\n",
    "                        deck.append((new_word, cur_len+1))\n",
    "                        wordSet.remove(new_word)\n",
    "        return 0"
   ]
  },
  {
   "cell_type": "code",
   "execution_count": null,
   "metadata": {},
   "outputs": [],
   "source": []
  },
  {
   "cell_type": "code",
   "execution_count": null,
   "metadata": {},
   "outputs": [],
   "source": []
  },
  {
   "cell_type": "code",
   "execution_count": null,
   "metadata": {},
   "outputs": [],
   "source": []
  },
  {
   "cell_type": "code",
   "execution_count": null,
   "metadata": {},
   "outputs": [],
   "source": []
  },
  {
   "cell_type": "markdown",
   "metadata": {},
   "source": [
    "## Heap"
   ]
  },
  {
   "cell_type": "markdown",
   "metadata": {},
   "source": [
    "## Hash (Set & Table)"
   ]
  },
  {
   "cell_type": "markdown",
   "metadata": {},
   "source": [
    "### Most Commom words"
   ]
  },
  {
   "cell_type": "code",
   "execution_count": 9,
   "metadata": {},
   "outputs": [],
   "source": [
    "def mostCommonWord(self, paragraph, banned):\n",
    "    for c in \"!?',;.\": paragraph = paragraph.replace(c, \" \")\n",
    "    d, res, count = {},\"\",0\n",
    "    for word in paragraph.lower().split():\n",
    "        if word in banned:\n",
    "            continue;\n",
    "        elif word in d:\n",
    "            d[word] += 1\n",
    "        else:\n",
    "            d[word] = 1\n",
    "        if d[word] > count:\n",
    "            count = d[word]\n",
    "            res = word\n",
    "    return res\n",
    "\n",
    "import re, collections\n",
    "def mostCommonWord(self, paragraph, banned):\n",
    "    tokens = [token for token in re.findall(r\"([a-zA-Z]+)\",  paragraph.lower()) if token not in banned]\n",
    "    mostComm = collections.Counter(tokens).most_common(1)\n",
    "    return mostComm[0][0]"
   ]
  },
  {
   "cell_type": "markdown",
   "metadata": {},
   "source": [
    "### Prison Cells After N Days\n",
    "\n",
    "There are 8 prison cells in a row, and each cell is either occupied or vacant.\n",
    "\n",
    "Each day, whether the cell is occupied or vacant changes according to the following rules:\n",
    "\n",
    "If a cell has two adjacent neighbors that are both occupied or both vacant, then the cell becomes occupied.\n",
    "Otherwise, it becomes vacant.\n",
    "(Note that because the prison is a row, the first and the last cells in the row can't have two adjacent neighbors.)\n",
    "\n",
    "We describe the current state of the prison in the following way: cells[i] == 1 if the i-th cell is occupied, else cells[i] == 0.\n",
    "\n",
    "Given the initial state of the prison, return the state of the prison after N days (and N such changes described above.)\n",
    "\n",
    "```\n",
    "Example 1:\n",
    "\n",
    "Input: cells = [0,1,0,1,1,0,0,1], N = 7\n",
    "Output: [0,0,1,1,0,0,0,0]\n",
    "Explanation: \n",
    "The following table summarizes the state of the prison on each day:\n",
    "Day 0: [0, 1, 0, 1, 1, 0, 0, 1]\n",
    "Day 1: [0, 1, 1, 0, 0, 0, 0, 0]\n",
    "Day 2: [0, 0, 0, 0, 1, 1, 1, 0]\n",
    "Day 3: [0, 1, 1, 0, 0, 1, 0, 0]\n",
    "Day 4: [0, 0, 0, 0, 0, 1, 0, 0]\n",
    "Day 5: [0, 1, 1, 1, 0, 1, 0, 0]\n",
    "Day 6: [0, 0, 1, 0, 1, 1, 0, 0]\n",
    "Day 7: [0, 0, 1, 1, 0, 0, 0, 0]\n",
    "\n",
    "Example 2:\n",
    "\n",
    "Input: cells = [1,0,0,1,0,0,1,0], N = 1000000000\n",
    "Output: [0,0,1,1,1,1,1,0]\n",
    " \n",
    "\n",
    "Note:\n",
    "\n",
    "cells.length == 8\n",
    "cells[i] is in {0, 1}\n",
    "1 <= N <= 10^9\n",
    "\n",
    "```\n",
    "So, the state of the cells repeat every after 14 days. If N>14 , we can simply do N = N%14. The only problem is when N%14 == 0, then we do not want the 0th state, but the 14th state, that is the last state.\n",
    "So, I just hardcoded it. Rest all is exactly the same.\n",
    "Please find the solution below:"
   ]
  },
  {
   "cell_type": "code",
   "execution_count": null,
   "metadata": {},
   "outputs": [],
   "source": [
    "def prisonAfterNDays(self, cells, N):\n",
    "    seen = {str(cells): N}\n",
    "    while N:\n",
    "        seen.setdefault(str(cells), N)\n",
    "        N -= 1\n",
    "        cells = [0] + [cells[i - 1] ^ cells[i + 1] ^ 1 for i in range(1, 7)] + [0]\n",
    "        if str(cells) in seen:\n",
    "            N %= seen[str(cells)] - N\n",
    "    return cells"
   ]
  },
  {
   "cell_type": "code",
   "execution_count": null,
   "metadata": {},
   "outputs": [],
   "source": []
  },
  {
   "cell_type": "code",
   "execution_count": null,
   "metadata": {},
   "outputs": [],
   "source": []
  },
  {
   "cell_type": "code",
   "execution_count": null,
   "metadata": {},
   "outputs": [],
   "source": []
  },
  {
   "cell_type": "code",
   "execution_count": null,
   "metadata": {},
   "outputs": [],
   "source": []
  },
  {
   "cell_type": "markdown",
   "metadata": {},
   "source": [
    "### LRU Cache"
   ]
  },
  {
   "cell_type": "code",
   "execution_count": null,
   "metadata": {},
   "outputs": [],
   "source": [
    "from collections import OrderedDict\n",
    "class LRUCache:\n",
    "\n",
    "    def __init__(self, capacity: int):\n",
    "        self.capacity = capacity\n",
    "        self.cache = OrderedDict()\n",
    "\n",
    "    def get(self, key: int) -> int:\n",
    "        if key not in self.cache:\n",
    "            return -1\n",
    "        value = self.cache.pop(key)\n",
    "        self.cache[key] = value\n",
    "        return value\n",
    "\n",
    "    def put(self, key: int, value: int) -> None:\n",
    "        if key in self.cache:\n",
    "            self.cache.pop(key)\n",
    "        elif len(self.cache) == self.capacity:\n",
    "            self.cache.popitem(last=False)\n",
    "        self.cache[key] = value\n"
   ]
  },
  {
   "cell_type": "markdown",
   "metadata": {},
   "source": [
    "### LFU Cache\n",
    "\n",
    "![](https://assets.leetcode.com/users/k_kkkyle/image_1545365613.png)"
   ]
  },
  {
   "cell_type": "code",
   "execution_count": null,
   "metadata": {},
   "outputs": [],
   "source": [
    "import collections\n",
    "\n",
    "class Node:\n",
    "    def __init__(self, key, val):\n",
    "        self.key = key\n",
    "        self.val = val\n",
    "        self.freq = 1\n",
    "        self.prev = self.next = None\n",
    "\n",
    "class DLinkedList:\n",
    "    \"\"\" An implementation of doubly linked list.\n",
    "\t\n",
    "\tTwo APIs provided:\n",
    "    \n",
    "    append(node): append the node to the head of the linked list.\n",
    "    pop(node=None): remove the referenced node. \n",
    "                    If None is given, remove the one from tail, which is the least recently used.\n",
    "                    \n",
    "    Both operation, apparently, are in O(1) complexity.\n",
    "    \"\"\"\n",
    "    def __init__(self):\n",
    "        self._sentinel = Node(None, None) # dummy node\n",
    "        self._sentinel.next = self._sentinel.prev = self._sentinel\n",
    "        self._size = 0\n",
    "    \n",
    "    def __len__(self):\n",
    "        return self._size\n",
    "    \n",
    "    def append(self, node):\n",
    "        node.next = self._sentinel.next\n",
    "        node.prev = self._sentinel\n",
    "        node.next.prev = node\n",
    "        self._sentinel.next = node\n",
    "        self._size += 1\n",
    "    \n",
    "    def pop(self, node=None):\n",
    "        if self._size == 0:\n",
    "            return\n",
    "        \n",
    "        if not node:\n",
    "            node = self._sentinel.prev\n",
    "\n",
    "        node.prev.next = node.next\n",
    "        node.next.prev = node.prev\n",
    "        self._size -= 1\n",
    "        \n",
    "        return node\n",
    "        \n",
    "class LFUCache:\n",
    "    def __init__(self, capacity):\n",
    "        \"\"\"\n",
    "        :type capacity: int\n",
    "        \n",
    "        Three things to maintain:\n",
    "        \n",
    "        1. a dict, named as `self._node`, for the reference of all nodes given key.\n",
    "           That is, O(1) time to retrieve node given a key.\n",
    "           \n",
    "        2. Each frequency has a doubly linked list, store in `self._freq`, where key\n",
    "           is the frequency, and value is an object of `DLinkedList`\n",
    "        \n",
    "        3. The min frequency through all nodes. We can maintain this in O(1) time, taking\n",
    "           advantage of the fact that the frequency can only increment by 1. Use the following\n",
    "\t\t   two rules:\n",
    "           \n",
    "           Rule 1: Whenever we see the size of the DLinkedList of current min frequency is 0,\n",
    "                   the min frequency must increment by 1.\n",
    "           \n",
    "           Rule 2: Whenever put in a new (key, value), the min frequency must 1 (the new node)\n",
    "           \n",
    "        \"\"\"\n",
    "        self._size = 0\n",
    "        self._capacity = capacity\n",
    "        \n",
    "        self._node = dict() # key: Node\n",
    "        self._freq = collections.defaultdict(DLinkedList)\n",
    "        self._minfreq = 0\n",
    "        \n",
    "        \n",
    "    def _update(self, node):\n",
    "        \"\"\" \n",
    "        This is a helper function that used in the following two cases:\n",
    "        \n",
    "            1. when `get(key)` is called; and\n",
    "            2. when `put(key, value)` is called and the key exists.\n",
    "         \n",
    "        The common point of these two cases is that:\n",
    "        \n",
    "            1. no new node comes in, and\n",
    "            2. the node is visited one more times -> node.freq changed -> \n",
    "               thus the place of this node will change\n",
    "        \n",
    "        The logic of this function is:\n",
    "        \n",
    "            1. pop the node from the old DLinkedList (with freq `f`)\n",
    "            2. append the node to new DLinkedList (with freq `f+1`)\n",
    "            3. if old DlinkedList has size 0 and self._minfreq is `f`,\n",
    "               update self._minfreq to `f+1`\n",
    "        \n",
    "        All of the above opeartions took O(1) time.\n",
    "        \"\"\"\n",
    "        freq = node.freq\n",
    "        \n",
    "        self._freq[freq].pop(node)\n",
    "        if self._minfreq == freq and not self._freq[freq]:\n",
    "            self._minfreq += 1\n",
    "        \n",
    "        node.freq += 1\n",
    "        freq = node.freq\n",
    "        self._freq[freq].append(node)\n",
    "    \n",
    "    def get(self, key):\n",
    "        \"\"\"\n",
    "        Through checking self._node[key], we can get the node in O(1) time.\n",
    "        Just performs self._update, then we can return the value of node.\n",
    "        \n",
    "        :type key: int\n",
    "        :rtype: int\n",
    "        \"\"\"\n",
    "        if key not in self._node:\n",
    "            return -1\n",
    "        \n",
    "        node = self._node[key]\n",
    "        self._update(node)\n",
    "        return node.val\n",
    "\n",
    "    def put(self, key, value):\n",
    "        \"\"\"\n",
    "        If `key` already exists in self._node, we do the same operations as `get`, except\n",
    "        updating the node.val to new value.\n",
    "        \n",
    "        Otherwise, the following logic will be performed\n",
    "        \n",
    "        1. if the cache reaches its capacity, pop the least frequently used item. (*)\n",
    "        2. add new node to self._node\n",
    "        3. add new node to the DLinkedList with frequency 1\n",
    "        4. reset self._minfreq to 1\n",
    "        \n",
    "        (*) How to pop the least frequently used item? Two facts:\n",
    "        \n",
    "        1. we maintain the self._minfreq, the minimum possible frequency in cache.\n",
    "        2. All cache with the same frequency are stored as a DLinkedList, with\n",
    "           recently used order (Always append at head)\n",
    "          \n",
    "        Consequence? ==> The tail of the DLinkedList with self._minfreq is the least\n",
    "                         recently used one, pop it...\n",
    "        \n",
    "        :type key: int\n",
    "        :type value: int\n",
    "        :rtype: void\n",
    "        \"\"\"\n",
    "        if self._capacity == 0:\n",
    "            return\n",
    "        \n",
    "        if key in self._node:\n",
    "            node = self._node[key]\n",
    "            self._update(node)\n",
    "            node.val = value\n",
    "        else:\n",
    "            if self._size == self._capacity:\n",
    "                node = self._freq[self._minfreq].pop()\n",
    "                del self._node[node.key]\n",
    "                self._size -= 1\n",
    "                \n",
    "            node = Node(key, value)\n",
    "            self._node[key] = node\n",
    "            self._freq[1].append(node)\n",
    "            self._minfreq = 1\n",
    "            self._size += 1"
   ]
  },
  {
   "cell_type": "markdown",
   "metadata": {},
   "source": [
    "## Heap"
   ]
  },
  {
   "cell_type": "markdown",
   "metadata": {},
   "source": [
    "### K Closest Point"
   ]
  },
  {
   "cell_type": "code",
   "execution_count": null,
   "metadata": {},
   "outputs": [],
   "source": [
    "import heapq\n",
    "def kClosest(self, points: List[List[int]], K: int) -> List[List[int]]:\n",
    "    return sorted(points, key=lambda x: x[0]**2 + x[1]**2)[:K]\n",
    "\n",
    "def kClosest(self, points: List[List[int]], K: int) -> List[List[int]]:\n",
    "    #pop out max\n",
    "    heap = []\n",
    "    for x, y in points:\n",
    "\n",
    "        heapq.heappush(heap, (-(x*x + y*y), x, y))\n",
    "\n",
    "        if len(heap) > K:\n",
    "            heapq.heappop(heap)\n",
    "\n",
    "    ans = [(x, y) for _, x, y in sorted(heap)]\n",
    "\n",
    "    return ans        "
   ]
  },
  {
   "cell_type": "markdown",
   "metadata": {},
   "source": [
    "### Merged K sorted list"
   ]
  },
  {
   "cell_type": "code",
   "execution_count": null,
   "metadata": {},
   "outputs": [],
   "source": [
    "def mergeKLists(self, lists):\n",
    "    \"\"\"\n",
    "    :type lists: List[ListNode]\n",
    "    :rtype: ListNode\n",
    "    \"\"\"\n",
    "    heap = []\n",
    "    from heapq import heappush, heappop\n",
    "    for lis in lists:\n",
    "        heappush(heap, (lis.val, lis)) if lis else \"PASS\"\n",
    "    head = p = ListNode(-1)\n",
    "\n",
    "    while heap:\n",
    "        val, node = heappop(heap)\n",
    "        if node.next:\n",
    "            heappush(heap, (node.next.val, node.next))\n",
    "        p.next = node\n",
    "        p = p.next\n",
    "\n",
    "    return head.next"
   ]
  },
  {
   "cell_type": "code",
   "execution_count": null,
   "metadata": {},
   "outputs": [],
   "source": []
  },
  {
   "cell_type": "code",
   "execution_count": null,
   "metadata": {},
   "outputs": [],
   "source": []
  },
  {
   "cell_type": "code",
   "execution_count": null,
   "metadata": {},
   "outputs": [],
   "source": []
  },
  {
   "cell_type": "markdown",
   "metadata": {},
   "source": [
    " # Object Oriented Desgin"
   ]
  },
  {
   "cell_type": "code",
   "execution_count": null,
   "metadata": {},
   "outputs": [],
   "source": []
  },
  {
   "cell_type": "code",
   "execution_count": null,
   "metadata": {},
   "outputs": [],
   "source": []
  },
  {
   "cell_type": "code",
   "execution_count": null,
   "metadata": {},
   "outputs": [],
   "source": []
  },
  {
   "cell_type": "code",
   "execution_count": null,
   "metadata": {},
   "outputs": [],
   "source": []
  },
  {
   "cell_type": "code",
   "execution_count": null,
   "metadata": {},
   "outputs": [],
   "source": []
  },
  {
   "cell_type": "code",
   "execution_count": null,
   "metadata": {},
   "outputs": [],
   "source": []
  },
  {
   "cell_type": "code",
   "execution_count": null,
   "metadata": {},
   "outputs": [],
   "source": []
  },
  {
   "cell_type": "code",
   "execution_count": null,
   "metadata": {},
   "outputs": [],
   "source": []
  },
  {
   "cell_type": "markdown",
   "metadata": {},
   "source": [
    "# System Design"
   ]
  },
  {
   "cell_type": "code",
   "execution_count": null,
   "metadata": {},
   "outputs": [],
   "source": []
  },
  {
   "cell_type": "code",
   "execution_count": null,
   "metadata": {},
   "outputs": [],
   "source": []
  },
  {
   "cell_type": "code",
   "execution_count": null,
   "metadata": {},
   "outputs": [],
   "source": []
  },
  {
   "cell_type": "code",
   "execution_count": null,
   "metadata": {},
   "outputs": [],
   "source": []
  },
  {
   "cell_type": "code",
   "execution_count": null,
   "metadata": {},
   "outputs": [],
   "source": []
  },
  {
   "cell_type": "markdown",
   "metadata": {},
   "source": [
    "# Behavior Questions"
   ]
  }
 ],
 "metadata": {
  "kernelspec": {
   "display_name": "py37",
   "language": "python",
   "name": "python3"
  },
  "language_info": {
   "codemirror_mode": {
    "name": "ipython",
    "version": 3
   },
   "file_extension": ".py",
   "mimetype": "text/x-python",
   "name": "python",
   "nbconvert_exporter": "python",
   "pygments_lexer": "ipython3",
   "version": "3.7.1"
  },
  "toc": {
   "base_numbering": 1,
   "nav_menu": {},
   "number_sections": true,
   "sideBar": true,
   "skip_h1_title": false,
   "title_cell": "Table of Contents",
   "title_sidebar": "Contents",
   "toc_cell": false,
   "toc_position": {
    "height": "calc(100% - 180px)",
    "left": "10px",
    "top": "150px",
    "width": "172.313px"
   },
   "toc_section_display": true,
   "toc_window_display": true
  }
 },
 "nbformat": 4,
 "nbformat_minor": 2
}
