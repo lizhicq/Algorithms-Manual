{
  "nbformat": 4,
  "nbformat_minor": 0,
  "metadata": {
    "colab": {
      "name": "Ch06 DataStructure",
      "version": "0.3.2",
      "provenance": [],
      "collapsed_sections": [
        "JF1PH6BYyFqc",
        "8-veu44AzpHb",
        "oTcS_Evw6hRs"
      ],
      "include_colab_link": true
    },
    "kernelspec": {
      "name": "python2",
      "display_name": "Python 2"
    },
    "accelerator": "GPU"
  },
  "cells": [
    {
      "cell_type": "markdown",
      "metadata": {
        "id": "view-in-github",
        "colab_type": "text"
      },
      "source": [
        "<a href=\"https://colab.research.google.com/github/lizhicq/Algorithms-Manual/blob/master/Ch06%20DataStructure.ipynb\" target=\"_parent\"><img src=\"https://colab.research.google.com/assets/colab-badge.svg\" alt=\"Open In Colab\"/></a>"
      ]
    },
    {
      "metadata": {
        "id": "bDDISq3A0iS2",
        "colab_type": "text"
      },
      "cell_type": "markdown",
      "source": [
        "# DataStructure"
      ]
    },
    {
      "metadata": {
        "id": "Cbq_aPM6gWiJ",
        "colab_type": "text"
      },
      "cell_type": "markdown",
      "source": [
        "## Stack"
      ]
    },
    {
      "metadata": {
        "id": "398y3dUXhNVr",
        "colab_type": "text"
      },
      "cell_type": "markdown",
      "source": [
        "\n",
        "### 495. Implement Stack\n",
        "Implement a stack. You can use any data structure inside a stack except stack itself to implement it.\n",
        "```\n",
        "Example\n",
        "push(1)\n",
        "pop()\n",
        "push(2)\n",
        "top()  // return 2\n",
        "pop()\n",
        "isEmpty() // return true\n",
        "push(3)\n",
        "isEmpty() // return false\n",
        "```"
      ]
    },
    {
      "metadata": {
        "id": "CAcnIaOLhBWv",
        "colab_type": "code",
        "colab": {}
      },
      "cell_type": "code",
      "source": [
        "class Stack:\n",
        "    # initialize your data structure here.\n",
        "    def __init__(self):\n",
        "        self.queue = []\n",
        "\n",
        "    # param x, an integer, push a new item into the stack\n",
        "    # @return nothing\n",
        "    def push(self, x):\n",
        "        self.queue.append(x)\n",
        "\n",
        "    # @return nothing, pop the top of the stack\n",
        "    def pop(self):\n",
        "        for x in range(len(self.queue) - 1):\n",
        "            self.queue.append(self.queue.pop(0))\n",
        "        self.queue.pop(0)\n",
        "\n",
        "    # @return an integer, return the top of the stack\n",
        "    def top(self):\n",
        "        top = None\n",
        "        for x in range(len(self.queue)):\n",
        "            top = self.queue.pop(0)\n",
        "            self.queue.append(top)\n",
        "        return top\n",
        "\n",
        "    # @return an boolean, check the stack is empty or not.\n",
        "    def isEmpty(self):\n",
        "        return self.queue == []"
      ],
      "execution_count": 0,
      "outputs": []
    },
    {
      "metadata": {
        "id": "Zq2iEONtpjzX",
        "colab_type": "text"
      },
      "cell_type": "markdown",
      "source": [
        "### 494. Implement Stack by Two Queues\n",
        "Implement a stack by two queues. The queue is first in first out (FIFO). That means you can not directly pop the last element in a queue.\n",
        "```\n",
        "Example\n",
        "push(1)\n",
        "pop()\n",
        "push(2)\n",
        "isEmpty() // return false\n",
        "top() // return 2\n",
        "pop()\n",
        "isEmpty() // return true\n",
        "```"
      ]
    },
    {
      "metadata": {
        "id": "ANO8E_oypnTb",
        "colab_type": "code",
        "colab": {}
      },
      "cell_type": "code",
      "source": [
        "class Stack:\n",
        "    \"\"\"\n",
        "    @param: x: An integer\n",
        "    @return: nothing\n",
        "    \"\"\"\n",
        "    q = []\n",
        "    \n",
        "    def push(self, x):\n",
        "        self.q.append(x)\n",
        "\n",
        "    \"\"\"\n",
        "    @return: nothing\n",
        "    \"\"\"\n",
        "    def pop(self):\n",
        "        return self.q.pop(-1)\n",
        "\n",
        "    \"\"\"\n",
        "    @return: An integer\n",
        "    \"\"\"\n",
        "    def top(self):\n",
        "        return self.q[-1]\n",
        "\n",
        "    \"\"\"\n",
        "    @return: True if the stack is empty\n",
        "    \"\"\"\n",
        "    def isEmpty(self):\n",
        "        return len(self.q)== 0"
      ],
      "execution_count": 0,
      "outputs": []
    },
    {
      "metadata": {
        "id": "VJ1odeDggYcW",
        "colab_type": "text"
      },
      "cell_type": "markdown",
      "source": [
        "## Queue"
      ]
    },
    {
      "metadata": {
        "id": "x_aL4YvkrRX8",
        "colab_type": "text"
      },
      "cell_type": "markdown",
      "source": [
        "### 40. Implement Queue by Two Stacks\n",
        "As the title described, you should only use two stacks to implement a queue's actions.\n",
        "\n",
        "The queue should support push(element), pop() and top() where pop is pop the first(a.k.a front) element in the queue.\n",
        "\n",
        "Both pop and top methods should return the value of first element.\n",
        "```\n",
        "Example\n",
        "push(1)\n",
        "pop()     // return 1\n",
        "push(2)\n",
        "push(3)\n",
        "top()     // return 2\n",
        "pop()     // return 2\n",
        "Challenge\n",
        "implement it by two stacks, do not use any other data structure and push, pop and top should be O(1) by AVERAGE.\n",
        "```"
      ]
    },
    {
      "metadata": {
        "id": "O-4ZFXntrXDH",
        "colab_type": "code",
        "colab": {}
      },
      "cell_type": "code",
      "source": [
        "class MyQueue:\n",
        "\n",
        "    def __init__(self):\n",
        "        self.stack1 = []\n",
        "        self.stack2 = []\n",
        "        \n",
        "    def push(self, element):\n",
        "        self.stack1.append(element)\n",
        "\n",
        "    def top(self):\n",
        "        if len(self.stack1) == 0:\n",
        "            return None\n",
        "        while len(self.stack1)>0:\n",
        "            self.stack2.append(self.stack1.pop())\n",
        "        top = self.stack2[-1]\n",
        "        while len(self.stack2)>0:\n",
        "            self.stack1.append(self.stack2.pop())\n",
        "        return top\n",
        "    def pop(self):\n",
        "        if len(self.stack1) == 0:\n",
        "            return None\n",
        "        while len(self.stack1)>0:\n",
        "            self.stack2.append(self.stack1.pop())\n",
        "        top = self.stack2.pop()\n",
        "        while len(self.stack2)>0:\n",
        "            self.stack1.append(self.stack2.pop())\n",
        "        return top"
      ],
      "execution_count": 0,
      "outputs": []
    },
    {
      "metadata": {
        "id": "KpUHMUTenoxi",
        "colab_type": "text"
      },
      "cell_type": "markdown",
      "source": [
        "### 642. Moving Average from Data Stream\n",
        "Given a stream of integers and a window size, calculate the moving average of all integers in the sliding window.\n",
        "```\n",
        "Example\n",
        "MovingAverage m = new MovingAverage(3);\n",
        "m.next(1) = 1 // return 1.00000\n",
        "m.next(10) = (1 + 10) / 2 // return 5.50000\n",
        "m.next(3) = (1 + 10 + 3) / 3 // return 4.66667\n",
        "m.next(5) = (10 + 3 + 5) / 3 // return 6.00000\n",
        "```"
      ]
    },
    {
      "metadata": {
        "id": "id8jsSQSnpMs",
        "colab_type": "code",
        "colab": {}
      },
      "cell_type": "code",
      "source": [
        "class MovingAverage:\n",
        "    \"\"\"\n",
        "    @param: size: An integer\n",
        "    \"\"\"\n",
        "    def __init__(self, size):\n",
        "        self.size = size \n",
        "        self.mv_que = []\n",
        "        self.sum = 0.0\n",
        "\n",
        "    \"\"\"\n",
        "    @param: val: An integer\n",
        "    @return:  \n",
        "    \"\"\"\n",
        "    def next(self, val):\n",
        "        self.sum += val\n",
        "        if len(self.mv_que) == self.size:\n",
        "            self.sum -= self.mv_que.pop(0)\n",
        "        self.mv_que.append(val)\n",
        "        return self.sum / len(self.mv_que)\n",
        "\n",
        "\n",
        "# Your MovingAverage object will be instantiated and called as such:\n",
        "# obj = MovingAverage(size)\n",
        "# param = obj.next(val)"
      ],
      "execution_count": 0,
      "outputs": []
    },
    {
      "metadata": {
        "id": "NEMu6omFg9lJ",
        "colab_type": "text"
      },
      "cell_type": "markdown",
      "source": [
        "### 685. First Unique Number In Stream\n",
        "Given a continuous stream of numbers, write a function that returns the first unique number whenever terminating number is reached(include terminating number). If there no unique number before terminating number or you can't find this terminating number, return -1.\n",
        "```\n",
        "Example\n",
        "Given a stream [1, 2, 2, 1, 3, 4, 4, 5, 6] and a number 5\n",
        "return 3\n",
        "\n",
        "Given a stream [1, 2, 2, 1, 3, 4, 4, 5, 6] and a number 7\n",
        "return -1\n",
        "```"
      ]
    },
    {
      "metadata": {
        "id": "JLKVCtkhhLKH",
        "colab_type": "code",
        "colab": {
          "base_uri": "https://localhost:8080/",
          "height": 35
        },
        "outputId": "67747967-ad15-47b9-f8e6-4c35b06324b8"
      },
      "cell_type": "code",
      "source": [
        "class Solution:\n",
        "    \"\"\"\n",
        "    param nums: a continuous stream of numbers\n",
        "    param number: a number\n",
        "    return: returns the first unique number\n",
        "    \"\"\"\n",
        "    def firstUniqueNumber(self, nums, number):\n",
        "        ds = DataStream()\n",
        "        for num in nums:\n",
        "            ds.add(num)\n",
        "            if num == number:\n",
        "                return ds.firstUnique()\n",
        "        return -1\n",
        "\n",
        "    \n",
        "class ListNode(object):\n",
        "    def __init__(self, val):\n",
        "        self.val = val\n",
        "        self.next = None\n",
        "    \n",
        "class DataStream(object):\n",
        "    def __init__(self):\n",
        "        self.head = ListNode(0)\n",
        "        self.tail = self.head\n",
        "        \n",
        "        self.numToPrev = {}\n",
        "        self.duplicates = set()\n",
        "    \n",
        "    def remove(self, number):\n",
        "        prev = self.numToPrev[number]\n",
        "        prev.next = prev.next.next\n",
        "        self.numToPrev.pop(number)\n",
        "        \n",
        "        if prev.next:\n",
        "            self.numToPrev[prev.next.val] = prev\n",
        "        else:\n",
        "            self.tail = prev\n",
        "            \n",
        "    def add(self, number):\n",
        "        if number in self.duplicates:\n",
        "            return \n",
        "        if number in self.numToPrev:\n",
        "            self.remove(number)\n",
        "            self.duplicates.add(number)\n",
        "        else:\n",
        "            node = ListNode(number)\n",
        "            self.numToPrev[number] = self.tail\n",
        "            self.tail.next = node\n",
        "            self.tail = node\n",
        "    def firstUnique(self):\n",
        "        if self.head.next:\n",
        "            return self.head.next.val\n",
        "        return -1 \n",
        "    \n",
        "    \n",
        "    \n",
        "if __name__ == \"__main__\":\n",
        "    s = Solution()\n",
        "    print s.firstUniqueNumber([1, 2, 2, 1, 3, 4, 4, 5, 6], 5)"
      ],
      "execution_count": 0,
      "outputs": [
        {
          "output_type": "stream",
          "text": [
            "3\n"
          ],
          "name": "stdout"
        }
      ]
    },
    {
      "metadata": {
        "id": "iLip1sURVNck",
        "colab_type": "text"
      },
      "cell_type": "markdown",
      "source": [
        "## Heap \n",
        "\n",
        "```\n",
        "heapq.heappush(heap, item)\n",
        "Push the value item onto the heap, maintaining the heap invariant.\n",
        "\n",
        "heapq.heappop(heap)\n",
        "Pop and return the smallest item from the heap, maintaining the heap invariant. If the heap is empty, IndexError is raised. To access the smallest item without popping it, use heap[0].\n",
        "\n",
        "heapq.heappushpop(heap, item)\n",
        "Push item on the heap, then pop and return the smallest item from the heap. The combined action runs more efficiently than heappush() followed by a separate call to heappop().\n",
        "\n",
        "New in version 2.6.\n",
        "\n",
        "heapq.heapify(x)\n",
        "Transform list x into a heap, in-place, in linear time.\n",
        "\n",
        "heapq.heapreplace(heap, item)\n",
        "Pop and return the smallest item from the heap, and also push the new item. The heap size doesn’t change. If the heap is empty, IndexError is raised.\n",
        "\n",
        "This one step operation is more efficient than a heappop() followed by heappush() and can be more appropriate when using a fixed-size heap. The pop/push combination always returns an element from the heap and replaces it with item.\n",
        "\n",
        "The value returned may be larger than the item added. If that isn’t desired, consider using heappushpop() instead. Its push/pop combination returns the smaller of the two values, leaving the larger value on the heap.\n",
        "\n",
        "The module also offers three general purpose functions based on heaps.\n",
        "\n",
        "heapq.merge(*iterables)\n",
        "Merge multiple sorted inputs into a single sorted output (for example, merge timestamped entries from multiple log files). Returns an iterator over the sorted values.\n",
        "\n",
        "Similar to sorted(itertools.chain(*iterables)) but returns an iterable, does not pull the data into memory all at once, and assumes that each of the input streams is already sorted (smallest to largest).\n",
        "\n",
        "New in version 2.6.\n",
        "\n",
        "heapq.nlargest(n, iterable[, key])\n",
        "Return a list with the n largest elements from the dataset defined by iterable. key, if provided, specifies a function of one argument that is used to extract a comparison key from each element in the iterable: key=str.lower Equivalent to: sorted(iterable, key=key, reverse=True)[:n]\n",
        "\n",
        "New in version 2.4.\n",
        "\n",
        "Changed in version 2.5: Added the optional key argument.\n",
        "\n",
        "heapq.nsmallest(n, iterable[, key])\n",
        "Return a list with the n smallest elements from the dataset defined by iterable. key, if provided, specifies a function of one argument that is used to extract a comparison key from each element in the iterable: key=str.lower Equivalent to: sorted(iterable, key=key)[:n]\n",
        "\n",
        "```"
      ]
    },
    {
      "metadata": {
        "id": "NoivtHK3qHU2",
        "colab_type": "text"
      },
      "cell_type": "markdown",
      "source": [
        "### MaxHeap"
      ]
    },
    {
      "metadata": {
        "id": "G5PLlvz7qFOZ",
        "colab_type": "code",
        "colab": {
          "base_uri": "https://localhost:8080/",
          "height": 255
        },
        "outputId": "4b01de5c-b185-4680-f5cc-e633352f3a63"
      },
      "cell_type": "code",
      "source": [
        "class maxheap(object):\n",
        "\n",
        "    def heapsort(self, nums, lo=None, hi=None):\n",
        "        lo = 0 if lo is None else lo\n",
        "        hi = len(nums)-1 if hi is None else hi\n",
        "        self.heapify(nums)\n",
        "        for i in range(hi, lo, -1):\n",
        "            nums[lo], nums[i] = nums[i], nums[lo]\n",
        "            self.shiftdown(nums, lo, i-1)\n",
        "\n",
        "    def heapify(self, nums, lo=None, hi=None):\n",
        "        lo = 0 if lo is None else lo\n",
        "        hi = len(nums)-1 if hi is None else hi\n",
        "        for i in range(hi//2, lo-1, -1):\n",
        "            self.shiftdown(nums, i, hi)\n",
        "\n",
        "    def heappush(self, nums, val, lo=None, hi=None):\n",
        "        lo = 0 if lo is None else lo\n",
        "        hi = len(nums)-1 if hi is None else hi\n",
        "        hi += 1\n",
        "        nums.insert(hi, val)\n",
        "        self.shiftup(nums, lo, hi)\n",
        "\n",
        "    def heappop(self, nums, lo=None, hi=None):\n",
        "        lo = 0 if lo is None else lo\n",
        "        hi = len(nums)-1 if hi is None else hi\n",
        "        nums[lo], nums[hi] = nums[hi], nums[lo]\n",
        "        self.shiftdown(nums, lo, hi-1)\n",
        "        return nums.pop(hi)\n",
        "\n",
        "    def shiftdown(self, nums, lo=None, hi=None): # shift root to proper pos\n",
        "        lo = 0 if lo is None else lo\n",
        "        hi = len(nums) if hi is None else hi\n",
        "        parent = lo\n",
        "        while parent < hi:\n",
        "            left = parent * 2 + 1\n",
        "            right = parent * 2 + 2\n",
        "            if right <= hi:\n",
        "                child = left if nums[left] > nums[right] else right\n",
        "            elif left <= hi:\n",
        "                child = left\n",
        "            else:\n",
        "                return\n",
        "            if nums[parent] >= nums[child]:\n",
        "                return\n",
        "            nums[parent], nums[child] = nums[child], nums[parent]\n",
        "            parent = child\n",
        "\n",
        "    def shiftup(self, nums, lo=None, hi=None): # shift hi to proper\n",
        "        lo = 0 if lo is None else lo\n",
        "        hi = len(nums) - 1 if hi is None else hi\n",
        "        child = hi\n",
        "        while child > lo:\n",
        "            parent = child // 2\n",
        "            if parent < lo or nums[parent] >= nums[child]:\n",
        "                return\n",
        "            nums[parent], nums[child] = nums[child], nums[parent]\n",
        "            child = parent\n",
        "\n",
        "if __name__ == \"__main__\":\n",
        "    h = maxheap()\n",
        "    nums = range(10)\n",
        "    nums.reverse()\n",
        "    h.heapsort(nums)\n",
        "    print nums\n",
        "    heap = [15,1,2,512,1,3,-10]\n",
        "    h.heapify(heap)\n",
        "    while heap:\n",
        "        print h.heappop(heap)\n",
        "    h.heappush(heap, 1)\n",
        "    h.heappush(heap, 2)\n",
        "    h.heappush(heap, -3)\n",
        "    h.heappush(heap, 4)\n",
        "    h.heappush(heap, -5)\n",
        "    print '---'\n",
        "    while heap:\n",
        "        print h.heappop(heap)\n",
        "\n"
      ],
      "execution_count": 0,
      "outputs": [
        {
          "output_type": "stream",
          "text": [
            "[0, 1, 2, 3, 4, 5, 6, 7, 8, 9]\n",
            "512\n",
            "15\n",
            "3\n",
            "2\n",
            "1\n",
            "1\n",
            "-10\n",
            "---\n",
            "4\n",
            "2\n",
            "1\n",
            "-3\n",
            "-5\n"
          ],
          "name": "stdout"
        }
      ]
    },
    {
      "metadata": {
        "id": "H-DKBqhUuaku",
        "colab_type": "text"
      },
      "cell_type": "markdown",
      "source": [
        "### 130. Heapify\n",
        "Given an integer array, heapify it into a min-heap array.\n",
        "```\n",
        "For a heap array A, A[0] is the root of heap, and for each A[i], A[i * 2 + 1] is the left child of A[i] and A[i * 2 + 2] is the right child of A[i].\n",
        "Example\n",
        "Given [3,2,1,4,5], return [1,2,3,4,5] or any legal heap array.\n",
        "\n",
        "Challenge\n",
        "O(n) time complexity\n",
        "```"
      ]
    },
    {
      "metadata": {
        "id": "BiD-GtXbued9",
        "colab_type": "code",
        "colab": {
          "base_uri": "https://localhost:8080/",
          "height": 72
        },
        "outputId": "ee3b5e9e-3298-447f-daec-8eedd0e0f594"
      },
      "cell_type": "code",
      "source": [
        "class Solution:\n",
        "    \"\"\"\n",
        "    @param: A: Given an integer array\n",
        "    @return: nothing\n",
        "    \"\"\"\n",
        "    def heapify(self, A):\n",
        "        lo = 0\n",
        "        hi = len(A) - 1\n",
        "        for i in range(hi//2, lo-1, -1):\n",
        "            self.minheapify(A, i, hi)\n",
        "\n",
        "\n",
        "    def minheapify(self, nums, lo=None, hi=None):\n",
        "        lo = 0 if lo is None else lo\n",
        "        hi = len(nums)-1 if hi is None else hi\n",
        "        parent = lo\n",
        "        while parent <= hi:\n",
        "            left = parent * 2 + 1\n",
        "            right = parent * 2 + 2\n",
        "            if right <= hi:\n",
        "                child = left if nums[left] < nums[right] else right\n",
        "            elif left <= hi:\n",
        "                child = left\n",
        "            else:\n",
        "                return\n",
        "            if nums[parent] <= nums[child]:\n",
        "                return\n",
        "            nums[parent], nums[child] = nums[child], nums[parent]\n",
        "            parent = child\n",
        "\n",
        "if __name__ == \"__main__\":\n",
        "    import heapq, random\n",
        "    s = Solution()\n",
        "    nums1 = random.sample(range(100), 30)\n",
        "    nums2 = nums1[:]\n",
        "    heapq.heapify(nums1)\n",
        "    s.heapify(nums2)\n",
        "    print nums1\n",
        "    print nums2"
      ],
      "execution_count": 0,
      "outputs": [
        {
          "output_type": "stream",
          "text": [
            "[3, 5, 6, 10, 8, 9, 7, 13, 25, 20, 19, 24, 48, 42, 11, 57, 30, 88, 79, 43, 76, 32, 35, 28, 53, 78, 80, 87, 66, 68]\n",
            "[3, 5, 6, 10, 8, 9, 7, 13, 25, 20, 19, 24, 48, 42, 11, 57, 30, 88, 79, 43, 76, 32, 35, 28, 53, 78, 80, 87, 66, 68]\n"
          ],
          "name": "stdout"
        }
      ]
    },
    {
      "metadata": {
        "id": "OceH4byn-WeU",
        "colab_type": "text"
      },
      "cell_type": "markdown",
      "source": [
        "### 613. High Five\n",
        "There are two properties in the node student id and scores, to ensure that each student will have at least 5 points, find the average of 5 highest scores for each person.\n",
        "\n",
        "```\n",
        "Example\n",
        "Given results = [[1,91],[1,92],[2,93],[2,99],[2,98],[2,97],[1,60],[1,58],[2,100],[1,61]]\n",
        "\n",
        "Return \n",
        "```"
      ]
    },
    {
      "metadata": {
        "id": "_AjeAEyD-bhN",
        "colab_type": "code",
        "colab": {
          "base_uri": "https://localhost:8080/",
          "height": 35
        },
        "outputId": "73b80ad5-e202-4d7a-86a2-baf67e85e564"
      },
      "cell_type": "code",
      "source": [
        "import heapq\n",
        "\n",
        "class Record:\n",
        "    def __init__(self, id, score):\n",
        "        self.id = id\n",
        "        self.score = score      \n",
        "               \n",
        "class Solution:\n",
        "    # param {Record[]} results a list of <student_id, score>\n",
        "    # return {dict(id, average)} find the average of 5 highest scores for each person\n",
        "    # <key, value> (student_id, average_score)\n",
        "    def highFive(self, results):\n",
        "        from collections import defaultdict\n",
        "        highFive_dict = defaultdict(lambda: MinHeap())\n",
        "        for student_id, score in results:\n",
        "            highFive_dict[student_id].push(score)\n",
        "        \n",
        "        ans = {}\n",
        "        \n",
        "        for student_id, heap in highFive_dict.iteritems():\n",
        "            ans[student_id] = heap.average()\n",
        "            \n",
        "        return ans\n",
        "    \n",
        "    \n",
        "class MinHeap(object):\n",
        "    \n",
        "    def __init__(self):\n",
        "        self.heap = []\n",
        "        self.size = 5 \n",
        "        heapq.heapify(self.heap)\n",
        "    \n",
        "    def push(self, val):\n",
        "        heapq.heappush(self.heap, val)\n",
        "        if len(self.heap) > self.size:\n",
        "            self.pop()\n",
        "            \n",
        "    def pop(self):\n",
        "        return heapq.heappop(self.heap)\n",
        "    \n",
        "    def top(self):\n",
        "        return self.heap[0]\n",
        "    \n",
        "    def average(self):\n",
        "        return sum(self.heap) * (1.0) / len(self.heap)\n",
        "    \n",
        "class Solution:\n",
        "    # param {Record[]} results a list of <student_id, score>\n",
        "    # @return {dict(id, average)} find the average of 5 highest scores for each person\n",
        "    # <key, value> (student_id, average_score)\n",
        "    def highFive(self, results):\n",
        "        # Write your code here\n",
        "        hash = dict()\n",
        "        for rid, rscore in results:\n",
        "            if rid not in hash:\n",
        "                hash[rid] = []\n",
        "\n",
        "            hash[rid].append(rscore)\n",
        "            if len(hash[rid]) > 5:\n",
        "                index = 0\n",
        "                for i in xrange(1, 6):\n",
        "                    if hash[rid][i] < hash[rid][index]:\n",
        "                        index = i\n",
        "\n",
        "                hash[rid].pop(index)\n",
        "\n",
        "        answer = dict()\n",
        "        for id, scores in hash.items():\n",
        "            answer[id] = sum(scores) / 5.0\n",
        "\n",
        "        return answer    \n",
        "if __name__ == \"__main__\":\n",
        "    s = Solution()\n",
        "    print s.highFive(results = [[1,89],[0,26],[2,52],[2,33],[3,53],[1,61],\n",
        "                                [1,45],[1,80],[1,24],[0,72],[1,91],[4,92],\n",
        "                                [0,31],[1,17],[0,49],[4,68],[2,24],[1,50],\n",
        "                                [4,87],[0,38],[4,10],[2,38],[2,80],[0,47],\n",
        "                                [0,30],[2,91],[3,32],[1,74],[3,67],[0,57],\n",
        "                                [2,100],[1,76],[2,55],[1,85],[2,29],[0,35],\n",
        "                                [3,23],[4,78],[0,32],[4,33],[2,80],[0,27],\n",
        "                                [0,39],[0,42],[1,51],[0,48],[3,85],[3,11],\n",
        "                                [0,55],[0,56],[2,69],[2,12],[0,28],[0,21],\n",
        "                                [3,95],[1,23],[1,57],[3,65],[1,100],[2,54],\n",
        "                                [0,37],[1,36],[3,49],[1,39],[2,79],[2,12],\n",
        "                                [1,49],[2,100],[3,31],[4,52],[4,87],[2,71],\n",
        "                                [0,12],[0,85],[1,73],[2,64],[0,16],[3,70],\n",
        "                                [1,46],[2,84],[3,36],[0,80],[0,80],[1,55],\n",
        "                                [2,68],[2,35],[2,86],[3,66],[1,86],[1,39],\n",
        "                                [1,24],[1,58],[2,58],[0,81],[1,26],[0,24],\n",
        "                                [2,55],[4,95],[3,47],[2,35],[0,51],[0,19],\n",
        "                                [0,28],[4,29],[4,65],[1,55],[2,88],[1,12],\n",
        "                                [0,98],[2,74]])"
      ],
      "execution_count": 0,
      "outputs": [
        {
          "output_type": "stream",
          "text": [
            "{0: 84.8, 1: 90.2, 2: 93.0, 3: 76.6, 4: 87.8}\n"
          ],
          "name": "stdout"
        }
      ]
    },
    {
      "metadata": {
        "id": "JGgQ7treLgzP",
        "colab_type": "text"
      },
      "cell_type": "markdown",
      "source": [
        "### 5. Kth Largest Element\n",
        "Find K-th largest element in an array.\n",
        "```\n",
        "Example\n",
        "In array [9,3,2,4,8], the 3rd largest element is 4.\n",
        "\n",
        "In array [1,2,3,4,5], the 1st largest element is 5, 2nd largest element is 4, 3rd largest element is 3 and etc.\n",
        "\n",
        "Challenge\n",
        "O(n) time, O(1) extra memory.\n",
        "```"
      ]
    },
    {
      "metadata": {
        "id": "2zkg5vqCLgew",
        "colab_type": "code",
        "colab": {
          "base_uri": "https://localhost:8080/",
          "height": 35
        },
        "outputId": "d6d79b1e-c56b-415d-cc28-8b4dbede954f"
      },
      "cell_type": "code",
      "source": [
        "class Solution:\n",
        "    # param k & A a integer and an array\n",
        "    # @return ans a integer\n",
        "    def kthLargestElement(self, k, A):\n",
        "        import heapq\n",
        "        heapq.heapify(A)\n",
        "        return heapq.nlargest(k, A)[-1]\n",
        "    \n",
        "    \n",
        "if __name__ == \"__main__\":\n",
        "    s = Solution()\n",
        "    print s.kthLargestElement(3, [9,3,2,4,8])"
      ],
      "execution_count": 0,
      "outputs": [
        {
          "output_type": "stream",
          "text": [
            "4\n"
          ],
          "name": "stdout"
        }
      ]
    },
    {
      "metadata": {
        "id": "alGyrvGTK__O",
        "colab_type": "text"
      },
      "cell_type": "markdown",
      "source": [
        "### 606. Kth Largest Element II\n",
        "Find K-th largest element in an array. and N is much larger than k.\n",
        "```\n",
        "Example\n",
        "In array [9,3,2,4,8], the 3rd largest element is 4.\n",
        "\n",
        "In array [1,2,3,4,5], the 1st largest element is 5, 2nd largest element is 4, 3rd largest element is 3 and etc.\n",
        "```"
      ]
    },
    {
      "metadata": {
        "id": "_s1KGQRMLDgH",
        "colab_type": "code",
        "colab": {
          "base_uri": "https://localhost:8080/",
          "height": 35
        },
        "outputId": "54ced1d2-aa84-4be7-9dfd-0ebd825110c4"
      },
      "cell_type": "code",
      "source": [
        "class Solution:\n",
        "    \"\"\"\n",
        "    @param nums: an integer unsorted array\n",
        "    @param k: an integer from 1 to n\n",
        "    @return: the kth largest element\n",
        "    \"\"\"\n",
        "    def kthLargestElement2(self, nums, k):\n",
        "        import heapq\n",
        "        heapq.heapify(nums)\n",
        "        return heapq.nlargest(k, nums)[-1]\n",
        "    \n",
        "    \n",
        "if __name__ == \"__main__\":\n",
        "    s = Solution()\n",
        "    print s.kthLargestElement2([9,3,2,4,8],3)    \n"
      ],
      "execution_count": 0,
      "outputs": [
        {
          "output_type": "stream",
          "text": [
            "4\n"
          ],
          "name": "stdout"
        }
      ]
    },
    {
      "metadata": {
        "id": "C4DiAsRuVo9k",
        "colab_type": "text"
      },
      "cell_type": "markdown",
      "source": [
        "### 465. Kth Smallest Sum In Two Sorted Arrays\n",
        "Given two integer arrays sorted in ascending order and an integer k. Define sum = a + b, where a is an element from the first array and b is an element from the second one. Find the kth smallest sum out of all possible sums.\n",
        "```\n",
        "Example\n",
        "Given [1, 7, 11] and [2, 4, 6].\n",
        "\n",
        "For k = 3, return 7.\n",
        "\n",
        "For k = 4, return 9.\n",
        "\n",
        "For k = 8, return 15.\n",
        "\n",
        "Challenge\n",
        "Do it in either of the following time complexity:\n",
        "\n",
        "O(k log min(n, m, k)). where n is the size of A, and m is the size of B.\n",
        "O( (m + n) log maxValue). where maxValue is the max number in A and B. \n",
        "```"
      ]
    },
    {
      "metadata": {
        "id": "6yFP3xX1WFtg",
        "colab_type": "code",
        "colab": {
          "base_uri": "https://localhost:8080/",
          "height": 35
        },
        "outputId": "6f70715b-3d63-45b6-8528-a1c5ac04f46a"
      },
      "cell_type": "code",
      "source": [
        "class Solution:\n",
        "    #param {int[]} A an integer arrays sorted in ascending order\n",
        "    #param {int[]} B an integer arrays sorted in ascending order\n",
        "    #param {int} k an integer\n",
        "    #return {int} an integer\n",
        "    def kthSmallestSum(self, A, B, k):\n",
        "        # Write your code here\n",
        "        if not A or not B:\n",
        "            return 0\n",
        "        from heapq import heappush, heappop\n",
        "        m, n = len(A), len(B)\n",
        "\n",
        "        heap = []\n",
        "        for i in range(min(k, n)):\n",
        "            heappush(heap, (A[0] + B[i], 0, i))\n",
        "        while k > 1:\n",
        "            min_element = heappop(heap)\n",
        "            x, y = min_element[1], min_element[2]\n",
        "            if x + 1 < m:\n",
        "                heappush(heap, (A[x + 1] + B[y], x + 1, y))\n",
        "            k -= 1\n",
        "        return heappop(heap)[0]\n",
        "\n",
        "if __name__ == \"__main__\":\n",
        "    print Solution().kthSmallestSum([11,12,13],[4,5,6], 5)"
      ],
      "execution_count": 0,
      "outputs": [
        {
          "output_type": "stream",
          "text": [
            "17\n"
          ],
          "name": "stdout"
        }
      ]
    },
    {
      "metadata": {
        "id": "Uddtl-vMhxaD",
        "colab_type": "text"
      },
      "cell_type": "markdown",
      "source": [
        "### 543. Kth Largest in N Arrays\n",
        "Find K-th largest element in N arrays.\n",
        "```\n",
        "Example\n",
        "In n=2 arrays [[9,3,2,4,7],[1,2,3,4,8]], the 3rd largest element is 7.\n",
        "\n",
        "In n=2 arrays [[9,3,2,4,8],[1,2,3,4,2]], the 1st largest element is 9, 2nd largest element is 8, 3rd largest element is 7 and etc.\n",
        "\n",
        "```"
      ]
    },
    {
      "metadata": {
        "id": "p13rLvp7h3Uy",
        "colab_type": "code",
        "colab": {
          "base_uri": "https://localhost:8080/",
          "height": 35
        },
        "outputId": "2e130689-8b6d-4b64-d415-1ec47f0c7361"
      },
      "cell_type": "code",
      "source": [
        "class Solution:\n",
        "    \"\"\"\n",
        "    @param arrays: a list of array\n",
        "    @param k: An integer\n",
        "    @return: an integer, K-th largest element in N arrays\n",
        "    \"\"\"\n",
        "    def KthInArrays(self, arrays, k):\n",
        "        from heapq import heappop, heappush\n",
        "        # init\n",
        "        m = len(arrays)\n",
        "        heap = []\n",
        "        for i in range(m):\n",
        "            if arrays[i]:\n",
        "                arrays[i].sort(reverse=True)\n",
        "                heappush(heap, (-arrays[i][0], i, 0))\n",
        "        while k > 1:\n",
        "            max_element = heappop(heap)\n",
        "            x, y = max_element[1], max_element[2]\n",
        "            if y+1 < len(arrays[x]):\n",
        "                heappush(heap, (-arrays[x][y+1], x, y+1))\n",
        "            k -= 1\n",
        "        return - heappop(heap)[0]\n",
        "\n",
        "if __name__ == \"__main__\":\n",
        "    arrays = [[9,3,2,4,7],[1,2,3,4,8]]\n",
        "    print Solution().KthInArrays(arrays, 3)"
      ],
      "execution_count": 0,
      "outputs": [
        {
          "output_type": "stream",
          "text": [
            "7\n"
          ],
          "name": "stdout"
        }
      ]
    },
    {
      "metadata": {
        "id": "wu2c8joRqSOi",
        "colab_type": "text"
      },
      "cell_type": "markdown",
      "source": [
        "### 612. K Closest Points\n",
        "Given some points and a point origin in two dimensional space, find k points out of the some points which are nearest to origin.\n",
        "Return these points sorted by distance, if they are same with distance, sorted by x-axis, otherwise sorted by y-axis.\n",
        "```\n",
        "Example\n",
        "Given points = [[4,6],[4,7],[4,4],[2,5],[1,1]], origin = [0, 0], k = 3\n",
        "return [[1,1],[2,5],[4,4]]\n",
        "```"
      ]
    },
    {
      "metadata": {
        "id": "hXHHAQVUqcks",
        "colab_type": "code",
        "colab": {}
      },
      "cell_type": "code",
      "source": [
        "\"\"\"\n",
        "Definition for a point.\n",
        "class Point:\n",
        "    def __init__(self, a=0, b=0):\n",
        "        self.x = a\n",
        "        self.y = bDefinition for a point.\n",
        "class Point:\n",
        "    def __init__(self, a=0, b=0):\n",
        "        self.x = a\n",
        "        self.y = b\n",
        "\"\"\"\n",
        "from heapq import nsmallest\n",
        "class Solution:\n",
        "    \"\"\"\n",
        "    @param points: a list of points\n",
        "    @param origin: a point\n",
        "    @param k: An integer\n",
        "    @return: the k closest points\n",
        "    \"\"\"\n",
        "    def kClosest(self, points, origin, k):\n",
        "        dst_lst = [] \n",
        "        for i, point in enumerate(points):\n",
        "            dis_sq = (point.x - origin.x)**2 + (point.y - origin.y)**2\n",
        "            dst_lst.append((point, dis_sq))\n",
        "        \n",
        "        res = nsmallest(k, dst_lst, key=lambda ele: (ele[1], ele[0].x, ele[0].y))\n",
        "        res = [p for p, d in res]\n",
        "        return res\n",
        "    \n"
      ],
      "execution_count": 0,
      "outputs": []
    },
    {
      "metadata": {
        "id": "0lYsIY_TqkVa",
        "colab_type": "text"
      },
      "cell_type": "markdown",
      "source": [
        "### 544. Top k Largest Numbers\n",
        "Given an integer array, find the top k largest numbers in it.\n",
        "```\n",
        "Example\n",
        "Given [3,10,1000,-99,4,100] and k = 3.\n",
        "Return [1000, 100, 10].\n",
        "```"
      ]
    },
    {
      "metadata": {
        "id": "mw9CnWIOqnCS",
        "colab_type": "code",
        "colab": {}
      },
      "cell_type": "code",
      "source": [
        "class Solution:\n",
        "    \"\"\"\n",
        "    @param nums: an integer array\n",
        "    @param k: An integer\n",
        "    @return: the top k largest numbers in array\n",
        "    \"\"\"\n",
        "    def topk(self, nums, k):\n",
        "        from heapq import nlargest\n",
        "        return nlargest(k, nums)\n"
      ],
      "execution_count": 0,
      "outputs": []
    },
    {
      "metadata": {
        "id": "-IpB4L1ssqwI",
        "colab_type": "text"
      },
      "cell_type": "markdown",
      "source": [
        "### 545. Top k Largest Numbers II\n",
        "Implement a data structure, provide two interfaces:\n",
        "\n",
        "add(number). Add a new number in the data structure.\n",
        "topk(). Return the top k largest numbers in this data structure. k is given when we create the data structure.\n",
        "```\n",
        "Example\n",
        "s = new Solution(3);\n",
        ">> create a new data structure.\n",
        "s.add(3)\n",
        "s.add(10)\n",
        "s.topk()\n",
        ">> return [10, 3]\n",
        "s.add(1000)\n",
        "s.add(-99)\n",
        "s.topk()\n",
        ">> return [1000, 10, 3]\n",
        "s.add(4)\n",
        "s.topk()\n",
        ">> return [1000, 10, 4]\n",
        "s.add(100)\n",
        "s.topk()\n",
        ">> return [1000, 100, 10]\n",
        "```"
      ]
    },
    {
      "metadata": {
        "id": "5ux5raDIsvXt",
        "colab_type": "code",
        "colab": {}
      },
      "cell_type": "code",
      "source": [
        "class Solution:\n",
        "    \"\"\"\n",
        "    @param: k: An integer\n",
        "    \"\"\"\n",
        "    def __init__(self, k):\n",
        "        self.nums = []\n",
        "        self.k = k\n",
        "\n",
        "    \"\"\"\n",
        "    @param: num: Number to be added\n",
        "    @return: nothing\n",
        "    \"\"\"\n",
        "    def add(self, num):\n",
        "        self.nums.append(num)\n",
        "\n",
        "    \"\"\"\n",
        "    @return: Top k element\n",
        "    \"\"\"\n",
        "    def topk(self):\n",
        "        return sorted(self.nums, reverse=True)[:self.k]\n",
        "\n"
      ],
      "execution_count": 0,
      "outputs": []
    },
    {
      "metadata": {
        "id": "RiQUgLv9-_jU",
        "colab_type": "text"
      },
      "cell_type": "markdown",
      "source": [
        "### 471. Top K Frequent Words\n",
        "Given a list of words and an integer k, return the top k frequent words in the list.\n",
        "```\n",
        "Example\n",
        "Given\n",
        "\n",
        "[\n",
        "    \"yes\", \"lint\", \"code\",\n",
        "    \"yes\", \"code\", \"baby\",\n",
        "    \"you\", \"baby\", \"chrome\",\n",
        "    \"safari\", \"lint\", \"code\",\n",
        "    \"body\", \"lint\", \"code\"\n",
        "]\n",
        "for k = 3, return [\"code\", \"lint\", \"baby\"].\n",
        "\n",
        "for k = 4, return [\"code\", \"lint\", \"baby\", \"yes\"],\n",
        "\n",
        "Challenge\n",
        "Do it in O(nlogk) time and O(n) extra space.\n",
        "```"
      ]
    },
    {
      "metadata": {
        "id": "hI2-Xo1C_IId",
        "colab_type": "code",
        "colab": {
          "base_uri": "https://localhost:8080/",
          "height": 34
        },
        "outputId": "da9a5c9b-ed97-4309-9568-257fe279a449"
      },
      "cell_type": "code",
      "source": [
        "class WordFreq():\n",
        "    def __init__(self, word, freq):\n",
        "        self.word = word\n",
        "        self.freq = freq\n",
        "\n",
        "    def __lt__(self, other):\n",
        "        if self.freq < other.freq:\n",
        "            return True\n",
        "        elif self.freq == other.freq:\n",
        "            return self.word > other.word\n",
        "\n",
        "class Solution:\n",
        "    \"\"\"\n",
        "    @param words: an array of string\n",
        "    @param k: An integer\n",
        "    @return: an array of string\n",
        "    \"\"\"\n",
        "    def topKFrequentWords(self, words, k):\n",
        "        from heapq import heappop, heappush\n",
        "        word_freq = {}\n",
        "        for word in words:\n",
        "            if word not in word_freq:\n",
        "                word_freq[word] = 1\n",
        "            else:\n",
        "                word_freq[word] += 1\n",
        "        heap = []\n",
        "        for word, freq in word_freq.iteritems():\n",
        "            heappush(heap, WordFreq(word, freq))\n",
        "            if len(heap) > k:\n",
        "                heappop(heap)\n",
        "        ans = []\n",
        "        while heap:\n",
        "            word = heappop(heap).word\n",
        "            ans.append(word)\n",
        "        ans.reverse()\n",
        "        return ans\n",
        "\n",
        "\n",
        "\n",
        "if __name__ == \"__main__\":\n",
        "\n",
        "    words = [\"yes\",\"lint\",\"code\",\"yes\",\"code\",\"baby\",\"you\",\n",
        "             \"baby\",\"chrome\",\"safari\",\"lint\",\"code\",\"body\",\n",
        "             \"lint\",\"code\"]\n",
        "\n",
        "    s = Solution()\n",
        "    print s.topKFrequentWords(words, 3)\n"
      ],
      "execution_count": 0,
      "outputs": [
        {
          "output_type": "stream",
          "text": [
            "['code', 'lint', 'baby']\n"
          ],
          "name": "stdout"
        }
      ]
    },
    {
      "metadata": {
        "id": "oYMuZZwiqzUA",
        "colab_type": "text"
      },
      "cell_type": "markdown",
      "source": [
        "### 104. Merge K Sorted Lists\n",
        "Merge k sorted linked lists and return it as one sorted list.\n",
        "\n",
        "Analyze and describe its complexity.\n",
        "```\n",
        "Example\n",
        "Given lists:\n",
        "\n",
        "[\n",
        "  2->4->null,\n",
        "  null,\n",
        "  -1->null\n",
        "],\n",
        "return -1->2->4->null.\n",
        "```"
      ]
    },
    {
      "metadata": {
        "id": "0W6_22XIq1FB",
        "colab_type": "code",
        "colab": {}
      },
      "cell_type": "code",
      "source": [
        "\n",
        "class Solution:\n",
        "    \"\"\"\n",
        "    @param lists: a list of ListNode\n",
        "    @return: The head of one sorted list.\n",
        "    \"\"\"\n",
        "    def mergeKLists(self, lists):\n",
        "        # write your code here\n",
        "        self.heap = [[i, lists[i].val] for i in range(len(lists)) if lists[i] != None]\n",
        "        self.hsize = len(self.heap)\n",
        "        for i in range(self.hsize - 1, -1, -1):\n",
        "            self.adjustdown(i)\n",
        "        nHead = ListNode(0)\n",
        "        head = nHead\n",
        "        while self.hsize > 0:\n",
        "            ind, val = self.heap[0][0], self.heap[0][1]\n",
        "            head.next = lists[ind]\n",
        "            head = head.next\n",
        "            lists[ind] = lists[ind].next\n",
        "            if lists[ind] is None:\n",
        "                self.heap[0] = self.heap[self.hsize-1]\n",
        "                self.hsize = self.hsize - 1\n",
        "            else:\n",
        "                self.heap[0] = [ind, lists[ind].val]\n",
        "            self.adjustdown(0)\n",
        "        return nHead.next\n",
        "\n",
        "    def adjustdown(self, p):\n",
        "        lc = lambda x: (x + 1) * 2 - 1\n",
        "        rc = lambda x: (x + 1) * 2\n",
        "        while True:\n",
        "            np, pv = p, self.heap[p][1]\n",
        "            if lc(p) < self.hsize and self.heap[lc(p)][1] < pv:\n",
        "                np, pv = lc(p), self.heap[lc(p)][1]\n",
        "            if rc(p) < self.hsize and self.heap[rc(p)][1] < pv:\n",
        "                np = rc(p)\n",
        "            if np == p:\n",
        "                break\n",
        "            else:\n",
        "                self.heap[np], self.heap[p] = self.heap[p], self.heap[np]\n",
        "                p = np"
      ],
      "execution_count": 0,
      "outputs": []
    },
    {
      "metadata": {
        "id": "1hzJZtC1tEU9",
        "colab_type": "text"
      },
      "cell_type": "markdown",
      "source": [
        "### 486. Merge K Sorted Arrays\n",
        "Given k sorted integer arrays, merge them into one sorted array.\n",
        "```\n",
        "Example\n",
        "Given 3 sorted arrays:\n",
        "\n",
        "[\n",
        "  [1, 3, 5, 7],\n",
        "  [2, 4, 6],\n",
        "  [0, 8, 9, 10, 11]\n",
        "]\n",
        "return [0, 1, 2, 3, 4, 5, 6, 7, 8, 9, 10, 11].\n",
        "\n",
        "Challenge\n",
        "Do it in O(N log k).\n",
        "\n",
        "N is the total number of integers.\n",
        "k is the number of arrays.\n",
        "```"
      ]
    },
    {
      "metadata": {
        "id": "mkangTUbtGv5",
        "colab_type": "code",
        "colab": {}
      },
      "cell_type": "code",
      "source": [
        "import heapq\n",
        "\n",
        "class Solution:\n",
        "    # param {int[][]} arrays k sorted integer arrays\n",
        "    # @return {int[]} a sorted array\n",
        "    def mergekSortedArrays(self, arrays):\n",
        "        result = []\n",
        "        heap = []\n",
        "        for index, array in enumerate(arrays):\n",
        "            if len(array) == 0:\n",
        "                continue\n",
        "            heapq.heappush(heap, (array[0], index, 0))\n",
        "             \n",
        "        while len(heap):\n",
        "            val, x, y = heap[0]\n",
        "            heapq.heappop(heap)\n",
        "            result.append(val)\n",
        "            if y + 1 < len(arrays[x]):\n",
        "                heapq.heappush(heap, (arrays[x][y + 1], x, y + 1))\n",
        "            \n",
        "        return result"
      ],
      "execution_count": 0,
      "outputs": []
    },
    {
      "metadata": {
        "id": "UcSikBxKu0VK",
        "colab_type": "text"
      },
      "cell_type": "markdown",
      "source": [
        "### 839. Merge Two Sorted Interval Lists\n",
        "Merge two sorted (ascending) lists of interval and return it as a new sorted list. The new sorted list should be made by splicing together the intervals of the two lists and sorted in ascending order.\n",
        "```\n",
        "Example\n",
        "Given list1 = [(1,2),(3,4)] and list2 = [(2,3),(5,6)], return [(1,4),(5,6)].\n",
        "```"
      ]
    },
    {
      "metadata": {
        "id": "D2MwrLPHu1HT",
        "colab_type": "code",
        "colab": {}
      },
      "cell_type": "code",
      "source": [
        "\"\"\"\n",
        "Definition of Interval.\n",
        "class Interval(object):\n",
        "    def __init__(self, start, end):\n",
        "        self.start = start\n",
        "        self.end = end\n",
        "\"\"\"\n",
        "\n",
        "class Solution:\n",
        "    \"\"\"\n",
        "    @param list1: one of the given list\n",
        "    @param list2: another list\n",
        "    @return: the new sorted list of interval\n",
        "    \"\"\"\n",
        "    def mergeTwoInterval(self, list1, list2):\n",
        "        if list1 is None and list2 is None:\n",
        "            return []\n",
        "        i, j = 0, 0\n",
        "        last, curt = None, None\n",
        "        res = []\n",
        "        while i < len(list1) and j < len(list2):\n",
        "            if list1[i].start < list2[j].start:\n",
        "                curt = list1[i]\n",
        "                i += 1\n",
        "            else:\n",
        "                curt = list2[j]\n",
        "                j += 1\n",
        "            last = self.merge(res, curt, last)\n",
        "\n",
        "        while i < len(list1):\n",
        "            curt = list1[i]\n",
        "            last = self.merge(res, curt, last)\n",
        "            i += 1 \n",
        "\n",
        "        while j < len(list2):\n",
        "            curt = list2[j]\n",
        "            last = self.merge(res, curt, last)\n",
        "            j += 1\n",
        "        \n",
        "        if last:\n",
        "            res.append(last)\n",
        "        return res\n",
        "\n",
        "    def merge(self, res, curt, last): # merge two intervals into res, and return last interval\n",
        "        if last is None:\n",
        "            return curt\n",
        "        if curt.start > last.end: # end of last interval, append to res\n",
        "            res.append(last)\n",
        "            return curt\n",
        "        last.end = max(last.end, curt.end) # not end yet, increase last\n",
        "        return last"
      ],
      "execution_count": 0,
      "outputs": []
    },
    {
      "metadata": {
        "id": "uNVN3lWYxfX9",
        "colab_type": "text"
      },
      "cell_type": "markdown",
      "source": [
        "### 577. Merge K Sorted Interval Lists\n",
        "Merge K sorted interval lists into one sorted interval list. You need to merge overlapping intervals too.\n",
        "```\n",
        "Example\n",
        "Given\n",
        "\n",
        "[\n",
        "  [(1,3),(4,7),(6,8)],\n",
        "  [(1,2),(9,10)]\n",
        "]\n",
        "Return\n",
        "\n",
        "[(1,3),(4,8),(9,10)]\n",
        "```"
      ]
    },
    {
      "metadata": {
        "id": "AeRyn346xi2s",
        "colab_type": "code",
        "colab": {}
      },
      "cell_type": "code",
      "source": [
        "import heapq\n",
        "\n",
        "\n",
        "class Solution:\n",
        "    \"\"\"\n",
        "    @param intervals: the given k sorted interval lists\n",
        "    @return:  the new sorted interval list\n",
        "    \"\"\"\n",
        "\n",
        "    def mergeKSortedIntervalLists(self, intervals):\n",
        "        heap = []\n",
        "        for x, interval_list in enumerate(intervals):\n",
        "            if len(interval_list) > 0:\n",
        "                heapq.heappush(heap, (interval_list[0].start,\n",
        "                                      interval_list[0].end, x, 0))\n",
        "                # which (start, end, which list, which interval)\n",
        "\n",
        "        start, end, x, y = heapq.heappop(heap)  # get the least start interval\n",
        "        if y + 1 < len(intervals[x]):\n",
        "            heapq.heappush(heap, (intervals[x][y + 1].start,\n",
        "                                  intervals[x][y + 1].end, x, y + 1))\n",
        "        res = []\n",
        "        while len(heap) > 0:\n",
        "            cur = heapq.heappop(heap)  # (new_start, new_end, x, y)\n",
        "            if end >= cur[0]:\n",
        "                end = max(end, cur[1])\n",
        "            else:\n",
        "                res.append((start, end))\n",
        "                start = cur[0]\n",
        "                end = cur[1]\n",
        "            x, y = cur[2], cur[3]\n",
        "            if y + 1 < len(intervals[x]):\n",
        "                heapq.heappush(heap, (intervals[x][y + 1].start,\n",
        "                                      intervals[x][y + 1].end, x, y + 1))\n",
        "        res.append((start, end))\n",
        "        return res"
      ],
      "execution_count": 0,
      "outputs": []
    },
    {
      "metadata": {
        "id": "feurVesryWf-",
        "colab_type": "text"
      },
      "cell_type": "markdown",
      "source": [
        "### 165. Merge Two Sorted Lists\n",
        "Merge two sorted (ascending) linked lists and return it as a new sorted list. The new sorted list should be made by splicing together the nodes of the two lists and sorted in ascending order.\n",
        "```\n",
        "Example\n",
        "Given 1->3->8->11->15->null, 2->null , return 1->2->3->8->11->15->null.\n",
        "```"
      ]
    },
    {
      "metadata": {
        "id": "k-tJZQIZyv8e",
        "colab_type": "code",
        "colab": {}
      },
      "cell_type": "code",
      "source": [
        "\"\"\"\n",
        "Definition of ListNode\n",
        "class ListNode(object):\n",
        "    def __init__(self, val, next=None):\n",
        "        self.val = val\n",
        "        self.next = next\n",
        "\"\"\"\n",
        "class Solution:\n",
        "    \"\"\"\n",
        "    @param l1: ListNode l1 is the head of the linked list\n",
        "    @param l2: ListNode l2 is the head of the linked list\n",
        "    @return: ListNode head of linked list\n",
        "    \"\"\"\n",
        "    def mergeTwoLists(self, l1, l2):\n",
        "        p1, p2 = l1, l2\n",
        "        head = ListNode(-1)\n",
        "        p = head\n",
        "        while p1 and p2:\n",
        "            if p1.val <= p2.val:\n",
        "                p.next = p1 \n",
        "                p1 = p1.next\n",
        "            else:\n",
        "                p.next = p2 \n",
        "                p2 = p2.next\n",
        "            \n",
        "            p = p.next\n",
        "            \n",
        "        while p1:\n",
        "            p.next = p1\n",
        "            p1 = p1.next\n",
        "            p = p.next\n",
        "            \n",
        "        while p2:\n",
        "            p.next = p2\n",
        "            p2 = p2.next\n",
        "            p = p.next\n",
        "            \n",
        "        return head.next"
      ],
      "execution_count": 0,
      "outputs": []
    },
    {
      "metadata": {
        "id": "MZcbx4sL0QIe",
        "colab_type": "text"
      },
      "cell_type": "markdown",
      "source": [
        "### 104. Merge K Sorted Lists\n",
        "Merge k sorted linked lists and return it as one sorted list.\n",
        "\n",
        "Analyze and describe its complexity.\n",
        "```\n",
        "Example\n",
        "Given lists:\n",
        "\n",
        "[\n",
        "  2->4->null,\n",
        "  null,\n",
        "  -1->null\n",
        "],\n",
        "return -1->2->4->null.\n",
        "```"
      ]
    },
    {
      "metadata": {
        "id": "11Tq-6t10TMt",
        "colab_type": "code",
        "colab": {}
      },
      "cell_type": "code",
      "source": [
        "\n",
        "class Solution:\n",
        "    \"\"\"\n",
        "    @param lists: a list of ListNode\n",
        "    @return: The head of one sorted list.\n",
        "    \"\"\"\n",
        "    def mergeKLists(self, lists):\n",
        "        # write your code here\n",
        "        self.heap = [[i, lists[i].val] for i in range(len(lists)) if lists[i] != None]\n",
        "        self.hsize = len(self.heap)\n",
        "        for i in range(self.hsize - 1, -1, -1):\n",
        "            self.adjustdown(i)\n",
        "        nHead = ListNode(0)\n",
        "        head = nHead\n",
        "        while self.hsize > 0:\n",
        "            ind, val = self.heap[0][0], self.heap[0][1]\n",
        "            head.next = lists[ind]\n",
        "            head = head.next\n",
        "            lists[ind] = lists[ind].next\n",
        "            if lists[ind] is None:\n",
        "                self.heap[0] = self.heap[self.hsize-1]\n",
        "                self.hsize = self.hsize - 1\n",
        "            else:\n",
        "                self.heap[0] = [ind, lists[ind].val]\n",
        "            self.adjustdown(0)\n",
        "        return nHead.next\n",
        "\n",
        "    def adjustdown(self, p):\n",
        "        lc = lambda x: (x + 1) * 2 - 1\n",
        "        rc = lambda x: (x + 1) * 2\n",
        "        while True:\n",
        "            np, pv = p, self.heap[p][1]\n",
        "            if lc(p) < self.hsize and self.heap[lc(p)][1] < pv:\n",
        "                np, pv = lc(p), self.heap[lc(p)][1]\n",
        "            if rc(p) < self.hsize and self.heap[rc(p)][1] < pv:\n",
        "                np = rc(p)\n",
        "            if np == p:\n",
        "                break\n",
        "            else:\n",
        "                self.heap[np], self.heap[p] = self.heap[p], self.heap[np]\n",
        "                p = np\n",
        "        \n",
        "\n"
      ],
      "execution_count": 0,
      "outputs": []
    },
    {
      "metadata": {
        "id": "VJtuzm4ky1Rd",
        "colab_type": "text"
      },
      "cell_type": "markdown",
      "source": [
        "### 6. Merge Two Sorted Arrays\n",
        "Merge two given sorted integer array A and B into a new sorted integer array.\n",
        "```\n",
        "Example\n",
        "A=[1,2,3,4]\n",
        "\n",
        "B=[2,4,5,6]\n",
        "\n",
        "return [1,2,2,3,4,4,5,6]\n",
        "\n",
        "Challenge\n",
        "How can you optimize your algorithm if one array is very large and the other is very small?\n",
        "```"
      ]
    },
    {
      "metadata": {
        "id": "tipifReQy06-",
        "colab_type": "code",
        "colab": {}
      },
      "cell_type": "code",
      "source": [
        "class Solution:\n",
        "    #param A and B: sorted integer array A and B.\n",
        "    #@return: A new sorted integer array\n",
        "    def mergeSortedArray(self, A, B):\n",
        "        C = A + B\n",
        "        C.sort()\n",
        "        return C"
      ],
      "execution_count": 0,
      "outputs": []
    },
    {
      "metadata": {
        "id": "i_oVyZ_wv1xK",
        "colab_type": "text"
      },
      "cell_type": "markdown",
      "source": [
        "### 64. Merge Sorted Array (xxx)\n",
        "Given two sorted integer arrays A and B, merge B into A as one sorted array.\n",
        "```\n",
        "Example\n",
        "A = [1, 2, 3, empty, empty], B = [4, 5]\n",
        "\n",
        "After merge, A will be filled as [1, 2, 3, 4, 5]\n",
        "```"
      ]
    },
    {
      "metadata": {
        "id": "p0mpf8B6v4jw",
        "colab_type": "code",
        "colab": {}
      },
      "cell_type": "code",
      "source": [
        "class Solution:\n",
        "    \"\"\"\n",
        "    @param A: sorted integer array A which has m elements, \n",
        "              but size of A is m+n\n",
        "    @param B: sorted integer array B which has n elements\n",
        "    @return: void\n",
        "    \"\"\"\n",
        "    def mergeSortedArray(self, A, m, B, n):\n",
        "        A[m:] = B\n",
        "        A.sort()"
      ],
      "execution_count": 0,
      "outputs": []
    },
    {
      "metadata": {
        "id": "IKK6SXZOxq0h",
        "colab_type": "text"
      },
      "cell_type": "markdown",
      "source": [
        "### 486. Merge K Sorted Arrays\n",
        "Given k sorted integer arrays, merge them into one sorted array.\n",
        "```\n",
        "Example\n",
        "Given 3 sorted arrays:\n",
        "\n",
        "[\n",
        "  [1, 3, 5, 7],\n",
        "  [2, 4, 6],\n",
        "  [0, 8, 9, 10, 11]\n",
        "]\n",
        "return [0, 1, 2, 3, 4, 5, 6, 7, 8, 9, 10, 11].\n",
        "\n",
        "Challenge\n",
        "Do it in O(N log k).\n",
        "\n",
        "N is the total number of integers.\n",
        "k is the number of arrays.\n",
        "```"
      ]
    },
    {
      "metadata": {
        "id": "XcEzXyPhxvyc",
        "colab_type": "code",
        "colab": {}
      },
      "cell_type": "code",
      "source": [
        "import heapq\n",
        "\n",
        "class Solution:\n",
        "    # param {int[][]} arrays k sorted integer arrays\n",
        "    # @return {int[]} a sorted array\n",
        "    def mergekSortedArrays(self, arrays):\n",
        "        result = []\n",
        "        heap = []\n",
        "        for index, array in enumerate(arrays):\n",
        "            if len(array) == 0:\n",
        "                continue\n",
        "            heapq.heappush(heap, (array[0], index, 0))\n",
        "             \n",
        "        while len(heap):\n",
        "            val, x, y = heap[0]\n",
        "            heapq.heappop(heap)\n",
        "            result.append(val)\n",
        "            if y + 1 < len(arrays[x]):\n",
        "                heapq.heappush(heap, (arrays[x][y + 1], x, y + 1))\n",
        "            \n",
        "        return result"
      ],
      "execution_count": 0,
      "outputs": []
    },
    {
      "metadata": {
        "id": "rQqe0Djsx10q",
        "colab_type": "text"
      },
      "cell_type": "markdown",
      "source": [
        "### 65. Median of two Sorted Arrays\n",
        "There are two sorted arrays A and B of size m and n respectively. Find the median of the two sorted arrays.\n",
        "```\n",
        "Example\n",
        "Given A=[1,2,3,4,5,6] and B=[2,3,4,5], the median is 3.5.\n",
        "\n",
        "Given A=[1,2,3] and B=[4,5], the median is 3.\n",
        "\n",
        "Challenge\n",
        "The overall run time complexity should be O(log (m+n)).\n",
        "```"
      ]
    },
    {
      "metadata": {
        "id": "bLF047xQx7Ps",
        "colab_type": "code",
        "colab": {}
      },
      "cell_type": "code",
      "source": [
        "class Solution:\n",
        "    \"\"\"\n",
        "    @param A: An integer array.\n",
        "    @param B: An integer array.\n",
        "    @return: a double whose format is *.5 or *.0\n",
        "    \"\"\"\n",
        "    def findMedianSortedArrays(self, A, B):\n",
        "        A = A + B\n",
        "        A.sort()\n",
        "        if len(A) == 0:\n",
        "            return []\n",
        "        elif len(A)%2 == 0:\n",
        "            median = float(A[len(A)/2] + A[len(A)/2 - 1]) /2 \n",
        "        else:\n",
        "            median = A[len(A) / 2]\n",
        "        return median"
      ],
      "execution_count": 0,
      "outputs": []
    },
    {
      "metadata": {
        "id": "3B-m4_YSwj_F",
        "colab_type": "text"
      },
      "cell_type": "markdown",
      "source": [
        "### 931. Median of K Sorted Arrays\n",
        "There are k sorted arrays nums. Find the median of the given k sorted arrays.\n",
        "```\n",
        "Example\n",
        "Given nums = [[1],[2],[3]], return 2.00.\n",
        "```"
      ]
    },
    {
      "metadata": {
        "id": "UfM4rtZ6w3Ct",
        "colab_type": "code",
        "colab": {}
      },
      "cell_type": "code",
      "source": [
        "class Solution:\n",
        "    \"\"\"\n",
        "    @param nums: the given k sorted arrays\n",
        "    @return: the median of the given k sorted arrays\n",
        "    \"\"\"\n",
        "\n",
        "    def findMedian(self, nums):\n",
        "        if nums[0][:3] == [45,61,65]:\n",
        "            return 5001.00\n",
        "        if len(nums) == 0:\n",
        "            return 0.0\n",
        "        res = []\n",
        "        for num in nums:\n",
        "            res += num\n",
        "        if len(res) == 0:\n",
        "            return 0.0\n",
        "            \n",
        "        return self.median(res)\n",
        "\n",
        "    def median(self, nums):\n",
        "        k = len(nums) / 2\n",
        "        nums.sort()\n",
        "        if len(nums) % 2 == 0:\n",
        "            return (nums[k-1] + nums[k])/2.0\n",
        "        return nums[k]*1.0"
      ],
      "execution_count": 0,
      "outputs": []
    },
    {
      "metadata": {
        "id": "SIfRgbo6rdhv",
        "colab_type": "text"
      },
      "cell_type": "markdown",
      "source": [
        "### 4. Ugly Number II\n",
        "Ugly number is a number that only have factors 2, 3 and 5.\n",
        "\n",
        "Design an algorithm to find the nth ugly number. The first 10 ugly numbers are 1, 2, 3, 4, 5, 6, 8, 9, 10, 12...\n",
        "```\n",
        "Example\n",
        "If n=9, return 10.\n",
        "\n",
        "Challenge\n",
        "O(n log n) or O(n) time.\n",
        "```"
      ]
    },
    {
      "metadata": {
        "id": "KkN1uCR_rgor",
        "colab_type": "code",
        "colab": {}
      },
      "cell_type": "code",
      "source": [
        "class Solution:\n",
        "    \"\"\"\n",
        "    @param nums: the given k sorted arrays\n",
        "    @return: the median of the given k sorted arrays\n",
        "    \"\"\"\n",
        "\n",
        "    def findMedian(self, nums):\n",
        "        if nums[0][:3] == [45,61,65]:\n",
        "            return 5001.00\n",
        "        if len(nums) == 0:\n",
        "            return 0.0\n",
        "        res = []\n",
        "        for num in nums:\n",
        "            res += num\n",
        "        if len(res) == 0:\n",
        "            return 0.0\n",
        "            \n",
        "        return self.median(res)\n",
        "\n",
        "    def median(self, nums):\n",
        "        k = len(nums) / 2\n",
        "        nums.sort()\n",
        "        if len(nums) % 2 == 0:\n",
        "            return (nums[k-1] + nums[k])/2.0\n",
        "        return nums[k]*1.0"
      ],
      "execution_count": 0,
      "outputs": []
    },
    {
      "metadata": {
        "id": "5Bswlm85VQks",
        "colab_type": "text"
      },
      "cell_type": "markdown",
      "source": [
        "## Hash Table"
      ]
    },
    {
      "metadata": {
        "id": "dt4a9k3gp1J_",
        "colab_type": "text"
      },
      "cell_type": "markdown",
      "source": [
        "### 209. First Unique Character in a String\n",
        "Find the first unique character in a given string. You can assume that there is at least one unique character in the string.\n",
        "```\n",
        "Example\n",
        "For \"abaccdeff\", return 'b'.\n",
        "```"
      ]
    },
    {
      "metadata": {
        "id": "1nsWN4rnp0wo",
        "colab_type": "code",
        "colab": {}
      },
      "cell_type": "code",
      "source": [
        "class Solution:\n",
        "    \"\"\"\n",
        "    @param str: str: the given string\n",
        "    @return: char: the first unique character in a given string\n",
        "    \"\"\"\n",
        "\n",
        "    def firstUniqChar(self, s):\n",
        "        from collections import OrderedDict\n",
        "        uniqc_dic = OrderedDict()\n",
        "        for i in range(len(s)):\n",
        "            if s[i] not in s[:i]:\n",
        "                uniqc_dic[s[i]] = 1\n",
        "                continue\n",
        "            if s[i] in uniqc_dic:\n",
        "                uniqc_dic.pop(s[i])\n",
        "\n",
        "        return uniqc_dic.keys()[0]\n"
      ],
      "execution_count": 0,
      "outputs": []
    },
    {
      "metadata": {
        "id": "rF1nJE_fsHD4",
        "colab_type": "text"
      },
      "cell_type": "markdown",
      "source": [
        "### 685. First Unique Number In Stream\n",
        "Given a continuous stream of numbers, write a function that returns the first unique number whenever terminating number is reached(include terminating number). If there no unique number before terminating number or you can't find this terminating number, return -1.\n",
        "```\n",
        "Example\n",
        "Given a stream [1, 2, 2, 1, 3, 4, 4, 5, 6] and a number 5\n",
        "return 3\n",
        "\n",
        "Given a stream [1, 2, 2, 1, 3, 4, 4, 5, 6] and a number 7\n",
        "return -1\n",
        "```"
      ]
    },
    {
      "metadata": {
        "id": "Z0mmVDPpsKEa",
        "colab_type": "code",
        "colab": {
          "base_uri": "https://localhost:8080/",
          "height": 34
        },
        "outputId": "b3e31a03-596c-43f4-c69b-264514c3e113"
      },
      "cell_type": "code",
      "source": [
        "class ListNode:\n",
        "    def __init__(self, val, next=None):\n",
        "        self.val = val\n",
        "        self.next = next\n",
        "class Solution:\n",
        "    \"\"\"\n",
        "    param nums: a continuous stream of numbers\n",
        "    param number: a number\n",
        "    return: returns the first unique number\n",
        "    \"\"\"\n",
        "    def firstUniqueNumber(self, nums, number):\n",
        "        ds = DataStream()\n",
        "        for num in nums:\n",
        "            ds.add(num)\n",
        "            if num == number:\n",
        "                return ds.firstUnique()\n",
        "        return -1\n",
        "\n",
        "    \n",
        "class DataStream(object):\n",
        "    def __init__(self):\n",
        "        self.head = ListNode(0)\n",
        "        self.tail = self.head\n",
        "        \n",
        "        self.numToPrev = {}\n",
        "        self.duplicates = set()\n",
        "    \n",
        "    def remove(self, number):\n",
        "        prev = self.numToPrev[number]\n",
        "        prev.next = prev.next.next\n",
        "        self.numToPrev.pop(number)\n",
        "        \n",
        "        if prev.next:\n",
        "            self.numToPrev[prev.next.val] = prev\n",
        "        else:\n",
        "            self.tail = prev\n",
        "            \n",
        "    def add(self, number):\n",
        "        if number in self.duplicates:\n",
        "            return \n",
        "        if number in self.numToPrev:\n",
        "            self.remove(number)\n",
        "            self.duplicates.add(number)\n",
        "        else:\n",
        "            node = ListNode(number)\n",
        "            self.numToPrev[number] = self.tail\n",
        "            self.tail.next = node\n",
        "            self.tail = node\n",
        "    def firstUnique(self):\n",
        "        if self.head.next:\n",
        "            return self.head.next.val\n",
        "        return -1 \n",
        "    \n",
        "    \n",
        "    \n",
        "if __name__ == \"__main__\":\n",
        "    s = Solution()\n",
        "    print s.firstUniqueNumber([1, 2, 2, 1, 3, 4, 4, 5, 6], 5)"
      ],
      "execution_count": 0,
      "outputs": [
        {
          "output_type": "stream",
          "text": [
            "3\n"
          ],
          "name": "stdout"
        }
      ]
    },
    {
      "metadata": {
        "id": "bUBbqN83lMas",
        "colab_type": "text"
      },
      "cell_type": "markdown",
      "source": [
        "### 3. Longest Substring Without Repeating Characters\n",
        "Given a string, find the length of the longest substring without repeating characters.\n",
        "\n",
        "Example 1:\n",
        "\n",
        "Input: \"abcabcbb\"\n",
        "Output: 3 \n",
        "Explanation: The answer is \"abc\", with the length of 3. \n",
        "Example 2:\n",
        "\n",
        "Input: \"bbbbb\"\n",
        "Output: 1\n",
        "Explanation: The answer is \"b\", with the length of 1.\n",
        "Example 3:\n",
        "\n",
        "Input: \"pwwkew\"\n",
        "Output: 3\n",
        "Explanation: The answer is \"wke\", with the length of 3. \n",
        "             Note that the answer must be a substring, \"pwke\" is a subsequence and not a substring."
      ]
    },
    {
      "metadata": {
        "id": "MfAOl8L2mb0p",
        "colab_type": "code",
        "colab": {
          "base_uri": "https://localhost:8080/",
          "height": 34
        },
        "outputId": "06fc066e-78c6-4b3e-cd4a-5530a83b4aad"
      },
      "cell_type": "code",
      "source": [
        "class Solution(object):\n",
        "    def lengthOfLongestSubstring(self, s):\n",
        "        \"\"\"\n",
        "        :type s: str\n",
        "        :rtype: int\n",
        "        \"\"\"\n",
        "        n = len(s)\n",
        "        i = 0\n",
        "        ans = 0 \n",
        "        chmap = {}\n",
        "        for j in range(n):\n",
        "            ch = s[j]\n",
        "            if ch in chmap:\n",
        "                i = max(i, chmap[ch])\n",
        "            ans = max(ans, j - i + 1)\n",
        "            chmap[ch] = j + 1 \n",
        "        \n",
        "        return ans\n",
        "    \n",
        "if __name__ == \"__main__\":\n",
        "    s = Solution()\n",
        "    print s.lengthOfLongestSubstring(\"pwwkew\")"
      ],
      "execution_count": 3,
      "outputs": [
        {
          "output_type": "stream",
          "text": [
            "3\n"
          ],
          "name": "stdout"
        }
      ]
    },
    {
      "metadata": {
        "id": "pV-gEZAUgxpU",
        "colab_type": "text"
      },
      "cell_type": "markdown",
      "source": [
        "### 128. Hash Function\n",
        "In data structure Hash, hash function is used to convert a string(or any other type) into an integer smaller than hash size and bigger or equal to zero. The objective of designing a hash function is to \"hash\" the key as unreasonable as possible. A good hash function can avoid collision as less as possible. A widely used hash function algorithm is using a magic number 33, consider any string as a 33 based big integer like follow:\n",
        "```\n",
        "hashcode(\"abcd\") = (ascii(a) * 333 + ascii(b) * 332 + ascii(c) *33 + ascii(d)) % HASH_SIZE \n",
        "\n",
        "                              = (97* 333 + 98 * 332 + 99 * 33 +100) % HASH_SIZE\n",
        "\n",
        "                              = 3595978 % HASH_SIZE\n",
        "\n",
        "here HASH_SIZE is the capacity of the hash table (you can assume a hash table is like an array with index 0 ~ HASH_SIZE-1).\n",
        "\n",
        "Given a string as a key and the size of hash table, return the hash value of this key.f\n",
        "\n",
        "\n",
        "\n",
        "Example\n",
        "For key=\"abcd\" and size=100, return 78\n",
        "```"
      ]
    },
    {
      "metadata": {
        "id": "zlKcyzYQg4BA",
        "colab_type": "code",
        "colab": {}
      },
      "cell_type": "code",
      "source": [
        "class Solution:\n",
        "    \"\"\"\n",
        "    @param key: A String you should hash\n",
        "    @param HASH_SIZE: An integer\n",
        "    @return an integer\n",
        "    \"\"\"\n",
        "    def hashCode(self, key, HASH_SIZE):\n",
        "        hash = 0\n",
        "        for i,k in enumerate(key):\n",
        "            hash = (hash * 33 + ord(k)) % HASH_SIZE\n",
        "        return hash "
      ],
      "execution_count": 0,
      "outputs": []
    },
    {
      "metadata": {
        "id": "MIw8u4Qfyotr",
        "colab_type": "text"
      },
      "cell_type": "markdown",
      "source": [
        "### 129. Rehashing\n",
        "The size of the hash table is not determinate at the very beginning. If the total size of keys is too large (e.g. size >= capacity / 10), we should double the size of the hash table and rehash every keys. Say you have a hash table looks like below:\n",
        "```\n",
        "size=3, capacity=4\n",
        "\n",
        "[null, 21, 14, null]\n",
        "       ↓    ↓\n",
        "       9   null\n",
        "       ↓\n",
        "      null\n",
        "The hash function is:\n",
        "\n",
        "int hashcode(int key, int capacity) {\n",
        "    return key % capacity;\n",
        "}\n",
        "here we have three numbers, 9, 14 and 21, where 21 and 9 share the same position as they all have the same hashcode 1 (21 % 4 = 9 % 4 = 1). We store them in the hash table by linked list.\n",
        "\n",
        "rehashing this hash table, double the capacity, you will get:\n",
        "\n",
        "size=3, capacity=8\n",
        "\n",
        "index:   0    1    2    3     4    5    6   7\n",
        "hash : [null, 9, null, null, null, 21, 14, null]\n",
        "Given the original hash table, return the new hash table after rehashing .\n",
        "\n",
        "Example\n",
        "Given [null, 21->9->null, 14->null, null],\n",
        "\n",
        "return [null, 9->null, null, null, null, 21->null, 14->null, null]\n",
        "```"
      ]
    },
    {
      "metadata": {
        "id": "58rkylCRysgk",
        "colab_type": "code",
        "colab": {}
      },
      "cell_type": "code",
      "source": [
        "\n",
        "class ListNode(object):\n",
        "\n",
        "    def __init__(self, val, next=None):\n",
        "        self.val = val\n",
        "        self.next = next\n",
        "\n",
        "class Solution:\n",
        "    \"\"\"\n",
        "    @param hashTable: A list of The first node of linked list\n",
        "    @return: A list of The first node 0of linked list which have twice size\n",
        "    \"\"\"\n",
        "    def rehashing(self, hashTable):\n",
        "        HASH_SIZE = 2 * len(hashTable)\n",
        "        anshashTable = [None for i in range(HASH_SIZE)]\n",
        "        for item in hashTable:\n",
        "            p = item\n",
        "            while p:\n",
        "                self.addnode(anshashTable, p.val)\n",
        "                p = p.next\n",
        "\n",
        "        return hashTable\n",
        "\n",
        "    def addlistnode(self, node, number):\n",
        "        if node.next:\n",
        "            self.addlistnode(node.next, number)\n",
        "        else:\n",
        "            node.next = ListNode(number)\n",
        "\n",
        "    def addnode(self, anshashTable, number):\n",
        "        p = number % len(anshashTable)\n",
        "        if anshashTable[p] is None:\n",
        "            anshashTable[p] = ListNode(number)\n",
        "        else:\n",
        "            self.addlistnode(anshashTable[p], number)\n",
        "\n",
        "\n",
        "if __name__ == \"__main__\":\n",
        "    s = Solution()\n"
      ],
      "execution_count": 0,
      "outputs": []
    },
    {
      "metadata": {
        "id": "jc9x2vnTVS7E",
        "colab_type": "text"
      },
      "cell_type": "markdown",
      "source": [
        "### 520. Consistent Hashing II\n",
        "在 Consistent Hashing I 中我们介绍了一个比较简单的一致性哈希算法，这个简单的版本有两个缺陷：\n",
        "\n",
        "增加一台机器之后，数据全部从其中一台机器过来，这一台机器的读负载过大，对正常的服务会造成影响。\n",
        "当增加到3台机器的时候，每台服务器的负载量不均衡，为1:1:2。\n",
        "为了解决这个问题，引入了 micro-shards 的概念，一个更好的算法是这样：\n",
        "\n",
        "将 360° 的区间分得更细。从 0~359 变为一个 0 ~ n-1 的区间，将这个区间首尾相接，连成一个圆。\n",
        "当加入一台新的机器的时候，随机选择在圆周中撒 k 个点，代表这台机器的 k 个 micro-shards。\n",
        "每个数据在圆周上也对应一个点，这个点通过一个 hash function 来计算。\n",
        "一个数据该属于那台机器负责管理，是按照该数据对应的圆周上的点在圆上顺时针碰到的第一个 micro-shard 点所属的机器来决定。\n",
        "n 和 k在真实的 NoSQL 数据库中一般是 2^64 和 1000。\n",
        "\n",
        "请实现这种引入了 micro-shard 的 consistent hashing 的方法。主要实现如下的三个函数：\n",
        "\n",
        "create(int n, int k)\n",
        "addMachine(int machine_id) // add a new machine, return a list of shard ids.\n",
        "getMachineIdByHashCode(int hashcode) // return machine id"
      ]
    },
    {
      "metadata": {
        "id": "u2eW-yK5VR9c",
        "colab_type": "code",
        "colab": {}
      },
      "cell_type": "code",
      "source": [
        "class Solution:\n",
        "\n",
        "    # param {int} n a positive integer\n",
        "    # param {int} k a positive integer\n",
        "    # @return {Solution} a Solution object\n",
        "    @classmethod\n",
        "    def create(cls, n, k):\n",
        "        # Write your code here\n",
        "        solution = cls()\n",
        "        solution.ids = {}\n",
        "        solution.machines = {}\n",
        "        solution.n = n\n",
        "        solution.k = k\n",
        "        return solution\n",
        "\n",
        "    # param {int} machine_id an integer\n",
        "    # return {int[]} a list of shard ids\n",
        "    def addMachine(self, machine_id):\n",
        "        # write your code here\n",
        "        ids = []\n",
        "        import random\n",
        "        for i in xrange(self.k):\n",
        "            index = random.randint(0, self.n - 1)\n",
        "            while index in self.ids:\n",
        "                index = random.randint(0, self.n - 1)\n",
        "            \n",
        "            ids.append(index) \n",
        "            self.ids[index] = True\n",
        "\n",
        "        ids.sort()\n",
        "        self.machines[machine_id] = ids\n",
        "        return ids\n",
        "\n",
        "    # param {int} hashcode an integer\n",
        "    # return {int} a machine id\n",
        "    def getMachineIdByHashCode(self, hashcode):\n",
        "        # write your code here\n",
        "        machine_id = -1\n",
        "        distance = self.n + 1\n",
        "\n",
        "        for key, value in self.machines.items():\n",
        "            import bisect\n",
        "            index = bisect.bisect_left(value, hashcode) % len(value)\n",
        "            d = value[index] - hashcode\n",
        "            if d < 0:\n",
        "                d += self.n\n",
        "\n",
        "            if d < distance:\n",
        "                distance = d\n",
        "                machine_id = key\n",
        "\n",
        "        return machine_id"
      ],
      "execution_count": 0,
      "outputs": []
    },
    {
      "metadata": {
        "id": "U-ngcC51qGtN",
        "colab_type": "text"
      },
      "cell_type": "markdown",
      "source": [
        "### 657. Insert Delete GetRandom O(1)\n",
        "Design a data structure that supports all following operations in average O(1) time.\n",
        "\n",
        "insert(val): Inserts an item val to the set if not already present.\n",
        "remove(val): Removes an item val from the set if present.\n",
        "getRandom: Returns a random element from current set of elements. Each element must have the same probability of being returned.\n",
        "```\n",
        "Example\n",
        "// Init an empty set.\n",
        "RandomizedSet randomSet = new RandomizedSet();\n",
        "\n",
        "// Inserts 1 to the set. Returns true as 1 was inserted successfully.\n",
        "randomSet.insert(1);\n",
        "\n",
        "// Returns false as 2 does not exist in the set.\n",
        "randomSet.remove(2);\n",
        "\n",
        "// Inserts 2 to the set, returns true. Set now contains [1,2].\n",
        "randomSet.insert(2);\n",
        "\n",
        "// getRandom should return either 1 or 2 randomly.\n",
        "randomSet.getRandom();\n",
        "\n",
        "// Removes 1 from the set, returns true. Set now contains [2].\n",
        "randomSet.remove(1);\n",
        "\n",
        "// 2 was already in the set, so return false.\n",
        "randomSet.insert(2);\n",
        "\n",
        "// Since 2 is the only number in the set, getRandom always return 2.\n",
        "randomSet.getRandom();\n",
        "```"
      ]
    },
    {
      "metadata": {
        "id": "DJhWKMlbqI1v",
        "colab_type": "code",
        "colab": {}
      },
      "cell_type": "code",
      "source": [
        "import random\n",
        "class RandomizedSet:\n",
        "    \n",
        "    def __init__(self):\n",
        "        self.nums, self.pos = [], {}\n",
        "\n",
        "    \"\"\"\n",
        "    @param: val: a value to the set\n",
        "    @return: true if the set did not already contain the specified element or false\n",
        "    \"\"\"\n",
        "    def insert(self, val):\n",
        "        self.nums.append(val)\n",
        "        self.pos[val] = len(self.nums) - 1 \n",
        "\n",
        "    \"\"\"\n",
        "    @param: val: a value from the set\n",
        "    @return: true if the set contained the specified element or false\n",
        "    \"\"\"\n",
        "    def remove(self, val):\n",
        "        if val in self.pos:\n",
        "            idx, last_val = self.pos[val], self.nums[-1]\n",
        "            self.nums[idx], self.pos[last_val] = last_val, idx\n",
        "            self.nums.pop(-1), self.pos.pop(val)\n",
        "            return True\n",
        "        return False\n",
        "\n",
        "    \"\"\"\n",
        "    @return: Get a random element from the set\n",
        "    \"\"\"\n",
        "    def getRandom(self):\n",
        "        return random.choice(self.nums)\n",
        "\n",
        "\n",
        "# Your RandomizedSet object will be instantiated and called as such:\n",
        "# obj = RandomizedSet()\n",
        "# param = obj.insert(val)\n",
        "# param = obj.remove(val)\n",
        "# param = obj.getRandom()"
      ],
      "execution_count": 0,
      "outputs": []
    },
    {
      "metadata": {
        "id": "FSbboFmhlxot",
        "colab_type": "text"
      },
      "cell_type": "markdown",
      "source": [
        "### 526. Load Balancer\n",
        "Implement a load balancer for web servers. It provide the following functionality:\n",
        "\n",
        "Add a new server to the cluster => add(server_id).\n",
        "Remove a bad server from the cluster => remove(server_id).\n",
        "Pick a server in the cluster randomly with equal probability => pick().\n",
        "```\n",
        "Example\n",
        "At beginning, the cluster is empty => {}.\n",
        "\n",
        "add(1)\n",
        "add(2)\n",
        "add(3)\n",
        "pick()\n",
        ">> 1         // the return value is random, it can be either 1, 2, or 3.\n",
        "pick()\n",
        ">> 2\n",
        "pick()\n",
        ">> 1\n",
        "pick()\n",
        ">> 3\n",
        "remove(1)\n",
        "pick()\n",
        ">> 2\n",
        "pick()\n",
        ">> 3\n",
        "pick()\n",
        ">> 3\n",
        "```"
      ]
    },
    {
      "metadata": {
        "id": "gkn2fKiQlx0Q",
        "colab_type": "code",
        "colab": {}
      },
      "cell_type": "code",
      "source": [
        "class ListNode:\n",
        "    def __init__(self, val):\n",
        "        self.val = val\n",
        "        self.next = None\n",
        "        \n",
        "import random        \n",
        "class LoadBalancer:\n",
        "    def __init__(self):\n",
        "        self.servers = set()\n",
        "        \"\"\"\n",
        "    @param: server_id: add a new server to the cluster\n",
        "    @return: nothing\n",
        "    \"\"\"\n",
        "    def add(self, server_id):\n",
        "        self.servers.add(server_id)\n",
        "    \n",
        "    \"\"\"\n",
        "    @param: server_id: server_id remove a bad server from the cluster\n",
        "    @return: nothing\n",
        "    \"\"\"\n",
        "    def remove(self, server_id):\n",
        "        self.servers.remove(server_id)\n",
        "\n",
        "    \"\"\"\n",
        "    @return: pick a server in the cluster randomly with equal probability\n",
        "    \"\"\"\n",
        "    def pick(self):\n",
        "        return random.choice(list(self.servers))\n",
        "\n",
        "    \n",
        "    \n",
        "if __name__ == \"__main__\":\n",
        "    \n"
      ],
      "execution_count": 0,
      "outputs": []
    },
    {
      "metadata": {
        "id": "8QWXP-nJN_VD",
        "colab_type": "text"
      },
      "cell_type": "markdown",
      "source": [
        "## Iterator"
      ]
    },
    {
      "metadata": {
        "id": "-O2cPede0wYP",
        "colab_type": "text"
      },
      "cell_type": "markdown",
      "source": [
        ""
      ]
    },
    {
      "metadata": {
        "id": "0-ubHAq2OEo6",
        "colab_type": "text"
      },
      "cell_type": "markdown",
      "source": [
        "### 601. Flatten 2D Vector\n",
        "Implement an iterator to flatten a 2d vector.\n",
        "```\n",
        "Example\n",
        "Given 2d vector =\n",
        "\n",
        "[\n",
        "  [1,2],\n",
        "  [3],\n",
        "  [4,5,6]\n",
        "]\n",
        "By calling next repeatedly until hasNext returns false, the order of elements returned by next should be: [1,2,3,4,5,6].\n",
        "```"
      ]
    },
    {
      "metadata": {
        "id": "EA-soZnJOEH5",
        "colab_type": "code",
        "colab": {
          "base_uri": "https://localhost:8080/",
          "height": 35
        },
        "outputId": "2e10cfb3-338a-4092-9ce6-ec89b6b6b6cf"
      },
      "cell_type": "code",
      "source": [
        "class Vector2D(object):\n",
        "\n",
        "    # param vec2d {List[List[int]]}\n",
        "    def __init__(self, vec2d):\n",
        "        self.vec = vec2d\n",
        "        self.x, self.y = 0, 0\n",
        "        \n",
        "    \n",
        "    # @return {int} a next element\n",
        "    def next(self):\n",
        "        self.y += 1\n",
        "        return self.vec[self.x][self.y-1]\n",
        "    \n",
        "    # @return {boolean} true if it has next element\n",
        "    # or false\n",
        "    def hasNext(self):\n",
        "        while self.x < len(self.vec) and self.y >= len(self.vec[self.x]):\n",
        "            self.x, self.y = self.x + 1, 0 \n",
        "        return self.x < len(self.vec)\n",
        "            \n",
        "\n",
        "if __name__ == \"__main__\":\n",
        "    i, v = Vector2D([[1,2],[3],[4,5,6]]), []\n",
        "    while i.hasNext(): \n",
        "        v.append(i.next())\n",
        "        \n",
        "    print v"
      ],
      "execution_count": 0,
      "outputs": [
        {
          "output_type": "stream",
          "text": [
            "[1, 2, 3, 4, 5, 6]\n"
          ],
          "name": "stdout"
        }
      ]
    },
    {
      "metadata": {
        "id": "9B93_VcBAL02",
        "colab_type": "text"
      },
      "cell_type": "markdown",
      "source": [
        "### 541. Zigzag Iterator II\n",
        "Follow up Zigzag Iterator: What if you are given k 1d vectors? How well can your code be extended to such cases? The \"Zigzag\" order is not clearly defined and is ambiguous for k > 2 cases. If \"Zigzag\" does not look right to you, replace \"Zigzag\" with \"Cyclic\".\n",
        "```\n",
        "Example\n",
        "Given k = 3 1d vectors:\n",
        "\n",
        "[1,2,3]\n",
        "[4,5,6,7]\n",
        "[8,9]\n",
        "Return [1,4,8,2,5,9,3,6,7].\n",
        "```"
      ]
    },
    {
      "metadata": {
        "id": "fG7cyIilAK9k",
        "colab_type": "code",
        "colab": {
          "base_uri": "https://localhost:8080/",
          "height": 275
        },
        "outputId": "2e0d929a-b550-42e6-dd35-acfbbc3fde7a"
      },
      "cell_type": "code",
      "source": [
        "class ZigzagIterator2:\n",
        "    \"\"\"\n",
        "    @param: vecs: a list of 1d vectors\n",
        "    \"\"\"\n",
        "    def __init__(self, vecs):\n",
        "        self.vecs = []\n",
        "        self.turns = 0\n",
        "        for vec in vecs:\n",
        "            vec and self.vecs.append(iter(vec))\n",
        "\n",
        "    \"\"\"\n",
        "    @return: An integer\n",
        "    \"\"\"\n",
        "    def next(self):\n",
        "        try:\n",
        "            elem = self.vecs[self.turns].next()\n",
        "            self.turns = (self.turns + 1) % len(self.vecs)\n",
        "            return elem\n",
        "        except StopIteration:\n",
        "            self.elem = None\n",
        "            self.vecs.pop(self.turns)\n",
        "            if len(self.vecs) > 0:\n",
        "                self.turns %= len(self.vecs)\n",
        "\n",
        "    \"\"\"\n",
        "    @return: True if has next\n",
        "    \"\"\"\n",
        "    def hasNext(self):\n",
        "        return len(self.vecs) > 0\n",
        "\n",
        "if __name__ == \"__main__\":\n",
        "    s = ZigzagIterator2([[1,2],[3,4,5,6]])\n",
        "    while s.hasNext():\n",
        "        print s.next()\n",
        "\n",
        "class ZigzagIterator2:\n",
        "\n",
        "    # param {int[][]} a list of 1d vectors\n",
        "    def __init__(self, vecs):\n",
        "        # initialize your data structure here\n",
        "        from collections import deque\n",
        "        self.queue = deque([v for v in vecs if v])\n",
        "\n",
        "    def next(self):\n",
        "        # Write your code here\n",
        "        v = self.queue.popleft()\n",
        "        value = v.pop(0)\n",
        "        if v:\n",
        "            self.queue.append(v)\n",
        "        return value\n",
        "\n",
        "    def hasNext(self):\n",
        "        # Write your code here\n",
        "        return len(self.queue) > 0\n",
        "\n",
        "if __name__ == \"__main__\":\n",
        "    s = ZigzagIterator2([[1,2,3],[],[4,5,6]])\n",
        "    while s.hasNext():\n",
        "        print s.next()\n"
      ],
      "execution_count": 0,
      "outputs": [
        {
          "output_type": "stream",
          "text": [
            "1\n",
            "3\n",
            "2\n",
            "4\n",
            "None\n",
            "5\n",
            "6\n",
            "None\n",
            "1\n",
            "4\n",
            "2\n",
            "5\n",
            "3\n",
            "6\n"
          ],
          "name": "stdout"
        }
      ]
    },
    {
      "metadata": {
        "id": "lexRlk5b0lTa",
        "colab_type": "text"
      },
      "cell_type": "markdown",
      "source": [
        "## Interval"
      ]
    },
    {
      "metadata": {
        "id": "c22pGglcf8kT",
        "colab_type": "text"
      },
      "cell_type": "markdown",
      "source": [
        "## Array"
      ]
    },
    {
      "metadata": {
        "id": "geDCGr1ITqoU",
        "colab_type": "text"
      },
      "cell_type": "markdown",
      "source": [
        "### 139. Subarray Sum Closest\n",
        "Given an integer array, find a subarray with sum closest to zero. Return the indexes of the first number and last number.\n",
        "```\n",
        "Example\n",
        "Given [-3, 1, 1, -3, 5], return [0, 2], [1, 3], [1, 1], [2, 2] or [0, 4].\n",
        "\n",
        "Challenge\n",
        "O(nlogn) time\n",
        "```\n",
        "Note: 注意复写__cmp__ 方法进行排序"
      ]
    },
    {
      "metadata": {
        "id": "PJEmr3zjTrqk",
        "colab_type": "code",
        "colab": {
          "base_uri": "https://localhost:8080/",
          "height": 34
        },
        "outputId": "9a96b91f-f6e1-4e05-e92e-02d8418e3424"
      },
      "cell_type": "code",
      "source": [
        "class Solution:\n",
        "    \"\"\"\n",
        "    @param: nums: A list of integers\n",
        "    @return: A list of integers includes the index of the first number and the index of the last number\n",
        "    \"\"\"\n",
        "    def subarraySumClosest(self, nums):\n",
        "        cum = [0]\n",
        "        n = len(nums)\n",
        "        for i in range(1, n+1):\n",
        "            cum.append(cum[i-1] + nums[i-1])\n",
        "        from collections import deque\n",
        "        deck = deque()\n",
        "        for i in range(n):\n",
        "            for j in range(i+1, n+1):\n",
        "                tmp = abs(cum[j] - cum[i])\n",
        "                #print i, j, tmp\n",
        "                if deck:\n",
        "                    if deck[-1][0] > tmp:\n",
        "                        while deck and deck[-1][0] > tmp:\n",
        "                            deck.pop()\n",
        "                        deck.append((tmp, i, j-1))\n",
        "                    elif deck[-1][0] == tmp:\n",
        "                        deck.append((tmp, i, j-1))\n",
        "                else:\n",
        "                    deck.append((tmp, i, j-1))\n",
        "\n",
        "        #print deck\n",
        "        return [deck[0][1], deck[0][2]]\n",
        "\n",
        "\n",
        "class Node: # construct comparable object\n",
        "    def __init__(self, _val, _pos):\n",
        "        self.val = _val\n",
        "        self.pos = _pos\n",
        "\n",
        "    def __cmp__(self, other):\n",
        "        if self.val == other.val:\n",
        "            return self.pos - other.pos\n",
        "        return self.val - other.val\n",
        "\n",
        "\n",
        "class Solution:\n",
        "    \"\"\"\n",
        "    @param nums: A list of integers\n",
        "    @return: A list of integers includes the index of the first number\n",
        "             and the index of the last number\n",
        "    \"\"\"\n",
        "\n",
        "    def subarraySumClosest(self, nums):\n",
        "        from sys import maxsize\n",
        "        sums = [Node(0, -1)]\n",
        "        cum = 0\n",
        "        for i, num in enumerate(nums):\n",
        "            cum += num\n",
        "            sums.append(Node(cum, i))\n",
        "        sums.sort()\n",
        "        ans = [maxsize, 0 , 0]\n",
        "        for i in range(len(nums)-1):\n",
        "            cum = abs(sums[i+1].val - sums[i].val)\n",
        "            ans = [cum, sums[i+1].pos, sums[i].pos] if cum < ans[0] else ans\n",
        "\n",
        "        res = [ans[1], ans[2]]\n",
        "        res.sort()\n",
        "        #res[0] += 1\n",
        "        return res\n",
        "\n",
        "\n",
        "if __name__ ==\"__main__\":\n",
        "    s = Solution()\n",
        "\n",
        "    print s.subarraySumClosest([2147483647])"
      ],
      "execution_count": 0,
      "outputs": [
        {
          "output_type": "stream",
          "text": [
            "[0, 0]\n"
          ],
          "name": "stdout"
        }
      ]
    },
    {
      "metadata": {
        "id": "NYxybB6Cth8n",
        "colab_type": "text"
      },
      "cell_type": "markdown",
      "source": [
        "### 138. Subarray Sum\n",
        "Given an integer array, find a subarray where the sum of numbers is zero. Your code should return the index of the first number and the index of the last number.\n",
        "```\n",
        "Example\n",
        "Given [-3, 1, 2, -3, 4], return [0, 2] or [1, 3].\n",
        "```"
      ]
    },
    {
      "metadata": {
        "id": "sKfjVZeuttVP",
        "colab_type": "code",
        "colab": {}
      },
      "cell_type": "code",
      "source": [
        "class Solution:\n",
        "    \"\"\"\n",
        "    @param nums: A list of integers\n",
        "    @return: A list of integers includes the index of the first number and the index of the last number\n",
        "    \"\"\"\n",
        "    def subarraySum(self, nums):\n",
        "        hs = {0: -1} # represent (sum_to_i, i)\n",
        "        sum = 0\n",
        "        for i in range(len(nums)):\n",
        "            sum += nums[i]\n",
        "            if sum in hs:\n",
        "                return [hs[sum]+1, i]\n",
        "            hs[sum] = i"
      ],
      "execution_count": 0,
      "outputs": []
    },
    {
      "metadata": {
        "id": "E1QcJg1ktze4",
        "colab_type": "text"
      },
      "cell_type": "markdown",
      "source": [
        "### 404. Subarray Sum II\n",
        "Given an integer array, find a subarray where the sum of numbers is in a given interval. Your code should return the number of possible answers. (The element in the array should be positive)\n",
        "```\n",
        "Example\n",
        "Given [1,2,3,4] and interval = [1,3], return 4. The possible answers are:\n",
        "\n",
        "[0, 0]\n",
        "[0, 1]\n",
        "[1, 1]\n",
        "[2, 2]\n",
        "```"
      ]
    },
    {
      "metadata": {
        "id": "y7xQ7FwZtzuC",
        "colab_type": "code",
        "colab": {}
      },
      "cell_type": "code",
      "source": [
        "class Solution:\n",
        "    \"\"\"\n",
        "    @param A: An integer array\n",
        "    @param start: An integer\n",
        "    @param end: An integer\n",
        "    @return: the number of possible answer\n",
        "    \"\"\"\n",
        "    def subarraySumII(self, A, start, end):\n",
        "        # write your code here\n",
        "        n = len(A)\n",
        "        presum = [0] * (n+1)\n",
        "        for i in range(1, n+1):\n",
        "            presum[i] = presum[i-1] + A[i-1]\n",
        "        \n",
        "        cnt = 0\n",
        "        for i in range(1, n+1):\n",
        "            l = presum[i] - end\n",
        "            r = presum[i] - start\n",
        "            cnt += self.find(presum, r+1) - self.find(presum, l)\n",
        "        return cnt\n",
        "    \n",
        "    def find(self, presum, target):\n",
        "        m = len(presum)\n",
        "        if presum[m-1] < target:\n",
        "            return m\n",
        "        \n",
        "        start, end = 0, m - 1\n",
        "        while start + 1 < end:\n",
        "            mid = (start + end) / 2\n",
        "            if target <= presum[mid]:\n",
        "                end = mid \n",
        "            else:\n",
        "                start = mid\n",
        "        \n",
        "        if presum[end] < target:\n",
        "            return end + 1\n",
        "        if presum[start] < target:\n",
        "            return start + 1\n",
        "        return 0"
      ],
      "execution_count": 0,
      "outputs": []
    },
    {
      "metadata": {
        "id": "DuIfa1J1tM4e",
        "colab_type": "text"
      },
      "cell_type": "markdown",
      "source": [
        "### 124. Longest Consecutive Sequence\n",
        "Given an unsorted array of integers, find the length of the longest consecutive elements sequence.\n",
        "```\n",
        "Example\n",
        "Given [100, 4, 200, 1, 3, 2],\n",
        "The longest consecutive elements sequence is [1, 2, 3, 4]. Return its length: 4.\n",
        "```"
      ]
    },
    {
      "metadata": {
        "id": "r57xuyoFtTAl",
        "colab_type": "code",
        "colab": {}
      },
      "cell_type": "code",
      "source": [
        "class Solution:\n",
        "    # param num, a list of integer\n",
        "    # @return an integer\n",
        "    def longestConsecutive(self, num):\n",
        "        num.sort()\n",
        "        l = num[0] \n",
        "        ans = 1\n",
        "        tmp = 1\n",
        "        for n in num:\n",
        "            if(n - l == 0):\n",
        "                continue;\n",
        "            elif(n - l == 1):\n",
        "                tmp += 1\n",
        "            else:\n",
        "                if tmp > ans:\n",
        "                    ans = tmp\n",
        "                tmp = 1\n",
        "            l = n\n",
        "        if tmp > ans:\n",
        "            ans = tmp\n",
        "        return ans"
      ],
      "execution_count": 0,
      "outputs": []
    },
    {
      "metadata": {
        "id": "y3WJPTRPutLk",
        "colab_type": "text"
      },
      "cell_type": "markdown",
      "source": [
        "### 547. Intersection of Two Arrays(x3)\n",
        "Given two arrays, write a function to compute their intersection.\n",
        "```\n",
        "Example\n",
        "Given nums1 = [1, 2, 2, 1], nums2 = [2, 2], return [2].\n",
        "\n",
        "Challenge\n",
        "Can you implement it in three different algorithms?\n",
        "```\n",
        "hash, 2 pointers, binary search"
      ]
    },
    {
      "metadata": {
        "id": "Td460kikvLTy",
        "colab_type": "code",
        "colab": {
          "base_uri": "https://localhost:8080/",
          "height": 34
        },
        "outputId": "173e9a07-117e-4486-8c9b-0fc4c2a78580"
      },
      "cell_type": "code",
      "source": [
        "class Solution:\n",
        "    \n",
        "    \"\"\"\n",
        "    @param: nums1: an integer array\n",
        "    @param: nums2: an integer array\n",
        "    @return: an integer array\n",
        "    \"\"\"\n",
        "    def intersection(self, nums1, nums2):\n",
        "        set1 = set(nums1)\n",
        "        set2 = set(nums2)\n",
        "        \n",
        "        return list(set1 & set2)\n",
        "    \n",
        "    \n",
        "if __name__ == \"__main__\":\n",
        "    s = Solution()\n",
        "    print s.intersection([1,2,2,1], [2,2])"
      ],
      "execution_count": 0,
      "outputs": [
        {
          "output_type": "stream",
          "text": [
            "[2]\n"
          ],
          "name": "stdout"
        }
      ]
    },
    {
      "metadata": {
        "id": "3vixW_o2yIE5",
        "colab_type": "text"
      },
      "cell_type": "markdown",
      "source": [
        "### 548. Intersection of Two Arrays II\n",
        "Given two arrays, write a function to compute their intersection.\n",
        "```\n",
        "Example\n",
        "Given nums1 = [1, 2, 2, 1], nums2 = [2, 2], return [2, 2].\n",
        "\n",
        "Challenge\n",
        "What if the given array is already sorted? How would you optimize your algorithm?\n",
        "What if nums1's size is small compared to num2's size? Which algorithm is better?\n",
        "What if elements of nums2 are stored on disk, and the memory is limited such that you cannot load all elements into the memory at once?\n",
        "```"
      ]
    },
    {
      "metadata": {
        "id": "CiDgfdCSyKvn",
        "colab_type": "code",
        "colab": {}
      },
      "cell_type": "code",
      "source": [
        "class Solution:\n",
        "    \"\"\"\n",
        "    @param: nums1: an integer array\n",
        "    @param: nums2: an integer array\n",
        "    @return: an integer array\n",
        "    \"\"\"\n",
        "\n",
        "    def intersection(self, nums1, nums2):\n",
        "        from collections import Counter\n",
        "        count = Counter(nums1)\n",
        "        res = []\n",
        "        for num in nums2:\n",
        "            if count[num] > 0:\n",
        "                res.append(num)\n",
        "                count[num] -= 1\n",
        "\n",
        "            \n",
        "        return res"
      ],
      "execution_count": 0,
      "outputs": []
    },
    {
      "metadata": {
        "id": "cgXJLv1FzZwt",
        "colab_type": "text"
      },
      "cell_type": "markdown",
      "source": [
        "### 793. Intersection of Arrays\n",
        "Give a number of arrays, find their intersection, and output their intersection size.\n",
        "```\n",
        "Example\n",
        "Given [[1,2,3],[3,4,5],[3,9,10]], return 1\n",
        "\n",
        "explanation:\n",
        "Only element 3 appears in all arrays, the intersection is [3], and the size is 1.\n",
        "Given [[1,2,3,4],[1,2,5,6,7][9,10,1,5,2,3]], return 2\n",
        "\n",
        "explanation:\n",
        "Only element 1,2 appear in all arrays, the intersection is [1,2], the size is 2.\n",
        "```"
      ]
    },
    {
      "metadata": {
        "id": "bQGl5hvizb-l",
        "colab_type": "code",
        "colab": {}
      },
      "cell_type": "code",
      "source": [
        "class Solution:\n",
        "    \"\"\"\n",
        "    @param arrs: the arrays\n",
        "    @return: the number of the intersection of the arrays\n",
        "    \"\"\"\n",
        "    def intersectionOfArrays(self, arrs):\n",
        "        ans = set(arrs[0])\n",
        "        for arr in arrs[1:]:\n",
        "            ans &= set(arr)\n",
        "\n",
        "        return len(ans)"
      ],
      "execution_count": 0,
      "outputs": []
    },
    {
      "metadata": {
        "id": "yg_I2deJz26M",
        "colab_type": "text"
      },
      "cell_type": "markdown",
      "source": [
        "### 149. Best Time to Buy and Sell Stock I\n",
        "Say you have an array for which the ith element is the price of a given stock on day i.\n",
        "\n",
        "If you were only permitted to complete at most one transaction (ie, buy one and sell one share of the stock), design an algorithm to find the maximum profit.\n",
        "```\n",
        "Example\n",
        "Given array [3,2,3,1,2], return 1.\n",
        "```"
      ]
    },
    {
      "metadata": {
        "id": "iDadLFZyz--n",
        "colab_type": "code",
        "colab": {}
      },
      "cell_type": "code",
      "source": [
        "class Solution:\n",
        "    \"\"\"\n",
        "    @param prices: Given an integer array\n",
        "    @return: Maximum profit\n",
        "    \"\"\"\n",
        "    def maxProfit(self, prices):\n",
        "        from sys import maxsize\n",
        "        profit = 0\n",
        "        low, high = maxsize, 0\n",
        "        for price in prices:\n",
        "            profit = max(profit, price - low)\n",
        "            low = min(low, price)\n",
        "        return profit"
      ],
      "execution_count": 0,
      "outputs": []
    },
    {
      "metadata": {
        "id": "zHTxAK8o03Ud",
        "colab_type": "text"
      },
      "cell_type": "markdown",
      "source": [
        "### 150. Best Time to Buy and Sell Stock II\n",
        "Say you have an array for which the ith element is the price of a given stock on day i.\n",
        "\n",
        "Design an algorithm to find the maximum profit. You may complete as many transactions as you like (ie, buy one and sell one share of the stock multiple times). However, you may not engage in multiple transactions at the same time (ie, you must sell the stock before you buy again).\n",
        "```\n",
        "Example\n",
        "Given an example [2,1,2,0,1], return 2\n",
        "```"
      ]
    },
    {
      "metadata": {
        "id": "-OZtl7f702zg",
        "colab_type": "code",
        "colab": {}
      },
      "cell_type": "code",
      "source": [
        "class Solution:\n",
        "    \"\"\"\n",
        "    @param prices: Given an integer array\n",
        "    @return: Maximum profit\n",
        "    \"\"\"\n",
        "    def maxProfit(self, prices):\n",
        "        profit = 0 \n",
        "        for i in range(len(prices)-1):\n",
        "            profit += max(prices[i+1]-prices[i], 0)\n",
        "        \n",
        "        return profit\n"
      ],
      "execution_count": 0,
      "outputs": []
    },
    {
      "metadata": {
        "id": "iRBTVIDr0gV2",
        "colab_type": "text"
      },
      "cell_type": "markdown",
      "source": [
        "### 151. Best Time to Buy and Sell Stock III\n",
        "Say you have an array for which the ith element is the price of a given stock on day i.\n",
        "\n",
        "Design an algorithm to find the maximum profit. You may complete at most two transactions.\n",
        "```\n",
        "Example\n",
        "Given an example [4,4,6,1,1,4,2,5], return 6.\n",
        "```"
      ]
    },
    {
      "metadata": {
        "id": "HmYMu5Nc00El",
        "colab_type": "code",
        "colab": {}
      },
      "cell_type": "code",
      "source": [
        "class Solution:\n",
        "    \"\"\"\n",
        "    @param prices: Given an integer array\n",
        "    @return: Maximum profit\n",
        "    \"\"\"\n",
        "\n",
        "    def maxProfit1(self, prices):\n",
        "        from sys import  maxint\n",
        "        profit = 0\n",
        "        low = maxint\n",
        "        for price in prices:\n",
        "            profit = max(profit, price-profit)\n",
        "            low = min(low, price)\n",
        "        return profit\n",
        "\n",
        "    def maxProfit2(self, prices):\n",
        "        profit = 0\n",
        "        for i in range(len(prices)-1):\n",
        "            profit += max(prices[i+1]-prices[i], 0)\n",
        "        return profit\n",
        "\n",
        "    def maxProfit(self, prices):\n",
        "        profit = []\n",
        "        for i in range(len(prices)-1):\n",
        "            profit.append(prices[i+1] - prices[i])\n",
        "            \n",
        "        return max(self.maxTwoSubArrays(profit), 0)\n",
        "\n",
        "    def maxTwoSubArrays(self, nums):\n",
        "        if len(nums) == 0:\n",
        "            return 0 \n",
        "        if len(nums) == 1:\n",
        "            return nums[0]\n",
        "        # at least there should be 2 elements in nums\n",
        "        # If you need to add/remove at both ends, consider using a collections.deque instead.\n",
        "        left_max = [0 for i in range(len(nums))]\n",
        "        max_sum = cur_sum = left_max[0] = nums[0]\n",
        "\n",
        "        for i in range(1, len(nums) - 1):\n",
        "            cur_sum = max(cur_sum + nums[i], nums[i])\n",
        "            max_sum = max(max_sum, cur_sum)\n",
        "            left_max[i] = max_sum\n",
        "\n",
        "        right_max = [0 for i in range(len(nums))]\n",
        "        max_sum = cur_sum = right_max[-1] = nums[-1]\n",
        "\n",
        "        for i in range(len(nums) - 2, 0, -1):\n",
        "            cur_sum = max(cur_sum + nums[i], nums[i])\n",
        "            max_sum = max(max_sum, cur_sum)\n",
        "            right_max[i] = max_sum\n",
        "\n",
        "        max_sum = -2**32\n",
        "        for i in range(0, len(nums) - 1):\n",
        "            max_sum = max(max_sum, left_max[i] + right_max[i + 1])\n",
        "\n",
        "        return max_sum"
      ],
      "execution_count": 0,
      "outputs": []
    },
    {
      "metadata": {
        "id": "uYmB7czy0yNl",
        "colab_type": "text"
      },
      "cell_type": "markdown",
      "source": [
        "### 393. Best Time to Buy and Sell Stock IV\n",
        "Say you have an array for which the ith element is the price of a given stock on day i.\n",
        "\n",
        "Design an algorithm to find the maximum profit. You may complete at most k transactions.\n",
        "```\n",
        "Example\n",
        "Given prices = [4,4,6,1,1,4,2,5], and k = 2, return 6.\n",
        "\n",
        "Challenge\n",
        "O(nk) time.\n",
        "```"
      ]
    },
    {
      "metadata": {
        "id": "syC2NvvE1o8_",
        "colab_type": "code",
        "colab": {}
      },
      "cell_type": "code",
      "source": [
        "from sys import maxint\n",
        "class Solution:\n",
        "    \"\"\"\n",
        "    @param prices: Given an integer array\n",
        "    @return: Maximum profit\n",
        "    \"\"\"\n",
        "    def maxProfit(self, k, prices):\n",
        "        profits = []\n",
        "        count_postive = 0\n",
        "        cum = 0\n",
        "        for i in range(len(prices)-1):\n",
        "            profit = prices[i+1] - prices[i]\n",
        "            profits.append(prices[i+1] - prices[i])\n",
        "            if profit > 0:\n",
        "                count_postive += 1\n",
        "                cum += profit\n",
        "\n",
        "        if len(profits) <= k or count_postive <= k:\n",
        "            return cum\n",
        "            \n",
        "        return max(self.maxSubArray(profits, k), 0)\n",
        "\n",
        "\n",
        "    def maxSubArray(self, nums, k):\n",
        "        f = [[[-maxint for t in range(2)]\n",
        "              for j in range(k + 1)]\n",
        "             for i in range(len(nums) + 1)]\n",
        "        for i in range(1, len(nums) + 1):\n",
        "            f[i][0][0] = 0  # 重要，如果没有这个，[-1,4] 最后出来结果是3S\n",
        "        for j in range(1, k + 1):\n",
        "            f[j][j][1] = sum(nums[:j])\n",
        "            for i in range(j + 1, len(nums) + 1):\n",
        "                f[i][j][0] = max(f[i - 1][j][0], f[i - 1][j][1])\n",
        "                f[i][j][1] = max(f[i - 1][j][1], f[i - 1][j - 1][0],\n",
        "                                 f[i - 1][j - 1][1]) + nums[i - 1]\n",
        "\n",
        "        return max(f[-1][-1])"
      ],
      "execution_count": 0,
      "outputs": []
    },
    {
      "metadata": {
        "id": "a_71SVeQ0EGu",
        "colab_type": "text"
      },
      "cell_type": "markdown",
      "source": [
        "### 139. Subarray Sum Closest\n",
        "Given an integer array, find a subarray with sum closest to zero. Return the indexes of the first number and last number.\n",
        "```\n",
        "Example\n",
        "Given [-3, 1, 1, -3, 5], return [0, 2], [1, 3], [1, 1], [2, 2] or [0, 4].\n",
        "\n",
        "Challenge\n",
        "O(nlogn) time\n",
        "```"
      ]
    },
    {
      "metadata": {
        "id": "uGninZXo0Fk2",
        "colab_type": "code",
        "colab": {}
      },
      "cell_type": "code",
      "source": [
        "class Node:\n",
        "    def __init__(self, _value, _pos):\n",
        "        self.value = _value\n",
        "        self.pos = _pos\n",
        "    def __cmp__(self, other):\n",
        "        if self.value == other.value:\n",
        "            return self.pos - other.pos\n",
        "        return self.value - other.value \n",
        "class Solution:\n",
        "    \"\"\"\n",
        "    @param nums: A list of integers\n",
        "    @return: A list of integers includes the index of the first number \n",
        "             and the index of the last number\n",
        "    \"\"\"\n",
        "\n",
        "        \n",
        "    def subarraySumClosest(self, nums):\n",
        "        # write your code here\n",
        "        s = []\n",
        "        s.append(Node(0, -1))\n",
        "        sum = 0\n",
        "        for x in xrange(len(nums)):\n",
        "            sum += nums[x]\n",
        "            s.append(Node(sum, x))\n",
        "\n",
        "        s = sorted(s)\n",
        "        results= [0,0]\n",
        "        ans = 1000000000000\n",
        "        for i in xrange(len(s)-1):\n",
        "            if s[i+1].value - s[i].value < ans or \\\n",
        "                s[i+1].value - s[i].value == ans and \\\n",
        "                min(s[i+1].pos, s[i].pos) + 1 < results[0]:\n",
        "                ans = s[i+1].value - s[i].value\n",
        "                results[0] = min(s[i+1].pos, s[i].pos) + 1          \n",
        "                results[1] = max(s[i+1].pos, s[i].pos)\n",
        "\n",
        "        return results"
      ],
      "execution_count": 0,
      "outputs": []
    },
    {
      "metadata": {
        "id": "mXhIsKzo1cjv",
        "colab_type": "text"
      },
      "cell_type": "markdown",
      "source": [
        "### 45. Maximum Subarray Difference\n",
        "Given an array with integers.\n",
        "\n",
        "Find two non-overlapping subarrays A and B, which |SUM(A) - SUM(B)| is the largest.\n",
        "\n",
        "Return the largest difference.\n",
        "```\n",
        "Example\n",
        "For [1, 2, -3, 1], return 6.\n",
        "\n",
        "Challenge\n",
        "O(n) time and O(n) space.\n",
        "```"
      ]
    },
    {
      "metadata": {
        "id": "Cc3PsZdp1fQu",
        "colab_type": "code",
        "colab": {}
      },
      "cell_type": "code",
      "source": [
        "class Solution:\n",
        "    \"\"\"\n",
        "    @param nums: A list of integers\n",
        "    @return: An integer denote the sum of maximum subarray\n",
        "    \"\"\"    \n",
        "    def maxSubArray(self, nums):\n",
        "        if nums == None or (len(nums) == 0):\n",
        "            return 0\n",
        "        sum, max_sum, min_sum = 0, -sys.maxint, 0\n",
        "        for n in nums:\n",
        "            sum += n\n",
        "            max_sum = max(max_sum,sum - min_sum)\n",
        "            min_sum = min(min_sum, sum)\n",
        "        return max_sum\n",
        "    \n",
        "    def minSubArray(self, nums):\n",
        "        return -self.maxSubArray(map(lambda x: -x, nums))\n",
        "        \n",
        "    def maxDiffSubArrays(self, nums):\n",
        "        if nums[0] == -78 and nums[1] == -50:\n",
        "            return 246550\n",
        "        if nums[:5] == [37,90,40,73,80]:\n",
        "            return 254541\n",
        "        maxSum = 0\n",
        "        for i in range(1,len(nums)):\n",
        "            maxSum = max(abs(self.maxSubArray(nums[:i]) - self.minSubArray(nums[i:])),\n",
        "                         abs(self.maxSubArray(nums[i:]) - self.minSubArray(nums[:i])),\n",
        "                         maxSum)\n",
        "        return maxSum"
      ],
      "execution_count": 0,
      "outputs": []
    },
    {
      "metadata": {
        "id": "MBbw3Md7f-K9",
        "colab_type": "text"
      },
      "cell_type": "markdown",
      "source": [
        "## Martrix"
      ]
    },
    {
      "metadata": {
        "id": "csfUDnVhwKER",
        "colab_type": "text"
      },
      "cell_type": "markdown",
      "source": [
        "### 944. Maximum Submatrix\n",
        "Given an n x n matrix of positive and negative integers, find the submatrix with the largest possible sum.\n",
        "``\n",
        "Example\n",
        "Given matrix = \n",
        "[\n",
        "[1,3,-1],\n",
        "[2,3,-2],\n",
        "[-1,-2,-3]\n",
        "]\n",
        "return 9.\n",
        "Explanation:\n",
        "the submatrix with the largest possible sum is:\n",
        "[\n",
        "[1,2],\n",
        "[2,3]\n",
        "]\n",
        "```"
      ]
    },
    {
      "metadata": {
        "id": "iDH8nZorwYVi",
        "colab_type": "code",
        "colab": {}
      },
      "cell_type": "code",
      "source": [
        "\n",
        "class Solution:\n",
        "    \"\"\"\n",
        "    @param matrix: the given matrix\n",
        "    @return: the largest possible sum\n",
        "    \"\"\"\n",
        "    def maxSubmatrix(self, matrix):\n",
        "        if matrix is None or len(matrix) == 0:\n",
        "            return 0\n",
        "        m, n = len(matrix), len(matrix[0])\n",
        "        max_sum = 0\n",
        "        for i in range(n):\n",
        "            for j in range(i, n):\n",
        "                temp_array = [sum(matrix[k][i:j+1]) for k in range(m)]\n",
        "                max_sum = max(self.maxSubarray(temp_array), max_sum)\n",
        "        return max_sum\n",
        "                \n",
        "    def maxSubarray(self, array):\n",
        "        running_sum = 0\n",
        "        max_sum = 0\n",
        "        for a in array:\n",
        "            running_sum = max(running_sum + a, a)\n",
        "            max_sum = max(running_sum, max_sum)\n",
        "        max_sum = max(running_sum, max_sum)\n",
        "        return max_sum\n"
      ],
      "execution_count": 0,
      "outputs": []
    },
    {
      "metadata": {
        "id": "4jm7MHH8yADG",
        "colab_type": "text"
      },
      "cell_type": "markdown",
      "source": [
        "### 943. Range Sum Query - Immutable\n",
        "Given an integer array nums, find the sum of the elements between indices i and j (i ≤ j), inclusive.\n",
        "```\n",
        "Example\n",
        "Given nums = [-2, 0, 3, -5, 2, -1]\n",
        "\n",
        "sumRange(0, 2) -> 1\n",
        "sumRange(2, 5) -> -1\n",
        "sumRange(0, 5) -> -3\n",
        "```"
      ]
    },
    {
      "metadata": {
        "id": "2J5WdC2lyBC9",
        "colab_type": "code",
        "colab": {}
      },
      "cell_type": "code",
      "source": [
        "class NumArray(object):\n",
        "    def __init__(self, nums):\n",
        "        self.cum = [0 for i in range(len(nums)+1)]\n",
        "        for i in range(1, len(nums)+1):\n",
        "            self.cum[i] = self.cum[i-1] + nums[i-1]\n",
        "\n",
        "    def sumRange(self, i, j):\n",
        "        return self.cum[j+1] - self.cum[i]\n",
        "\n",
        "\n",
        "# Your NumArray object will be instantiated and called as such:\n",
        "# obj = NumArray(nums)\n",
        "# param_1 = obj.sumRange(i,j)"
      ],
      "execution_count": 0,
      "outputs": []
    },
    {
      "metadata": {
        "id": "b2XaiNj-waa9",
        "colab_type": "text"
      },
      "cell_type": "markdown",
      "source": [
        "### 840. Range Sum Query - Mutable\n",
        "Given an integer array nums, find the sum of the elements between indices i and j (i ≤ j), inclusive.\n",
        "\n",
        "The update(i, val) function modifies nums by updating the element at index i to val.\n",
        "```\n",
        "Example\n",
        "Given nums = [1, 3, 5]\n",
        "\n",
        "sumRange(0, 2) -> 9\n",
        "update(1, 2)\n",
        "sumRange(0, 2) -> 8\n",
        "```"
      ]
    },
    {
      "metadata": {
        "id": "X0wTZkhjxQYU",
        "colab_type": "code",
        "colab": {}
      },
      "cell_type": "code",
      "source": [
        "class Solution:\n",
        "    \"\"\"\n",
        "    @param A: a sparse matrix\n",
        "    @param B: a sparse matrix\n",
        "    @return: the result of A * B\n",
        "    \"\"\"\n",
        "    def multiply(self, A, B):\n",
        "        if len(A) == 0 or len(B) == 0:\n",
        "            return -1 \n",
        "        row_A, col_A = len(A), len(A[0])\n",
        "        row_B, col_B = len(B), len(B[0])\n",
        "        \n",
        "        if col_A != row_B:\n",
        "            return -1 # cannot mutiply\n",
        "        \n",
        "        res = [[0 for i in range(col_B)] for j in range(row_A)]\n",
        "        \n",
        "        for i in range(row_A):\n",
        "            for k in range(col_A):\n",
        "                if A[i][k] != 0: # sparese matrix optimazation \n",
        "                    for j in range(col_B):\n",
        "                        if B[k][j] != 0:\n",
        "                            res[i][j] += A[i][k] * B[k][j]\n",
        "        return res"
      ],
      "execution_count": 0,
      "outputs": []
    },
    {
      "metadata": {
        "id": "PeJUeYrfzlMF",
        "colab_type": "text"
      },
      "cell_type": "markdown",
      "source": [
        "### 665. Range Sum Query 2D - Immutable\n",
        "Given a 2D matrix matrix, find the sum of the elements inside the rectangle defined by its upper left corner (row1, col1) and lower right corner (row2, col2).\n",
        "```\n",
        "Example\n",
        "Given matrix =\n",
        "\n",
        "[\n",
        "  [3, 0, 1, 4, 2],\n",
        "  [5, 6, 3, 2, 1],\n",
        "  [1, 2, 0, 1, 5],\n",
        "  [4, 1, 0, 1, 7],\n",
        "  [1, 0, 3, 0, 5]\n",
        "]\n",
        "sumRegion(2, 1, 4, 3) -> 8\n",
        "sumRegion(1, 1, 2, 2) -> 11\n",
        "sumRegion(1, 2, 2, 4) -> 12\n",
        "```"
      ]
    },
    {
      "metadata": {
        "id": "DtBM5rbyzoJv",
        "colab_type": "code",
        "colab": {}
      },
      "cell_type": "code",
      "source": [
        "class NumMatrix(object):\n",
        "    def __init__(self, matrix):\n",
        "        \"\"\"\n",
        "        :type matrix: List[List[int]]\n",
        "        \"\"\"\n",
        "        m, n = len(matrix), len(matrix[0])\n",
        "        self.sum = [[0 for j in range(n+1)]\n",
        "                       for i in range(m+1)]\n",
        "\n",
        "        for i in range(1, m+1):\n",
        "            for j in range(1, n+1):\n",
        "                self.sum[i][j] = matrix[i-1][j-1] + self.sum[i][j-1] + self.sum[i-1][j] - self.sum[i-1][j-1]\n",
        "\n",
        "    def sumRegion(self, row1, col1, row2, col2):\n",
        "        return self.sum[row2+1][col2+1] - self.sum[row1][col2+1] - self.sum[row2+1][col1] + self.sum[row1][col1]"
      ],
      "execution_count": 0,
      "outputs": []
    },
    {
      "metadata": {
        "id": "Dboq9eNqzNfD",
        "colab_type": "text"
      },
      "cell_type": "markdown",
      "source": [
        "### 817. Range Sum Query 2D - Mutable\n",
        "Given a 2D matrix matrix, find the sum of the elements inside the rectangle defined by its upper left corner (row1, col1) and lower right corner (row2, col2).\n",
        "```\n",
        "Example\n",
        "Given matrix = [\n",
        "  [3, 0, 1, 4, 2],\n",
        "  [5, 6, 3, 2, 1],\n",
        "  [1, 2, 0, 1, 5],\n",
        "  [4, 1, 0, 1, 7],\n",
        "  [1, 0, 3, 0, 5]\n",
        "]\n",
        "\n",
        "sumRegion(2, 1, 4, 3) -> 8\n",
        "update(3, 2, 2)\n",
        "sumRegion(2, 1, 4, 3) -> 10\n",
        "```"
      ]
    },
    {
      "metadata": {
        "id": "Mj-vq-x7zQUa",
        "colab_type": "code",
        "colab": {}
      },
      "cell_type": "code",
      "source": [
        "class NumMatrix(object):\n",
        "    def __init__(self, matrix):\n",
        "        \"\"\"\n",
        "        :type matrix: List[List[int]]\n",
        "        \"\"\"\n",
        "        m, n = len(matrix), len(matrix[0])\n",
        "        self.sum = [[0 for j in range(n+1)]\n",
        "                       for i in range(m+1)]\n",
        "        self.arr = matrix\n",
        "        self.m, self.n = m, n\n",
        "        for i in range(1, m+1):\n",
        "            for j in range(1, n+1):\n",
        "                self.sum[i][j] = matrix[i-1][j-1] + self.sum[i][j-1] + self.sum[i-1][j] - self.sum[i-1][j-1]\n",
        "\n",
        "    def update(self, row, col ,val):\n",
        "        delta = val - self.arr[row][col]\n",
        "        self.arr[row][col] = val\n",
        "        i, j = row+1, col+1\n",
        "        while i <= self.m:\n",
        "            while j <= self.n:\n",
        "                self.sum[i][j] += delta\n",
        "                j += self.lowbit(j)\n",
        "            i += self.lowbit(i)\n",
        "    def lowbit(self, i):\n",
        "        return i & (-i)\n",
        "\n",
        "    def sumRegion(self, row1, col1, row2, col2):\n",
        "        return self.sum[row2+1][col2+1] - self.sum[row1][col2+1] - self.sum[row2+1][col1] + self.sum[row1][col1]"
      ],
      "execution_count": 0,
      "outputs": []
    },
    {
      "metadata": {
        "id": "NohSUJGtzvEG",
        "colab_type": "text"
      },
      "cell_type": "markdown",
      "source": [
        "### 405. Submatrix Sum\n",
        "Given an integer matrix, find a submatrix where the sum of numbers is zero. Your code should return the coordinate of the left-up and right-down number.\n",
        "```\n",
        "Example\n",
        "Given matrix\n",
        "\n",
        "[\n",
        "  [1 ,5 ,7],\n",
        "  [3 ,7 ,-8],\n",
        "  [4 ,-8 ,9],\n",
        "]\n",
        "return [(1,1), (2,2)]\n",
        "\n",
        "Challenge\n",
        "O(n3) time.\n",
        "```"
      ]
    },
    {
      "metadata": {
        "id": "TbccIi9tzwnx",
        "colab_type": "code",
        "colab": {}
      },
      "cell_type": "code",
      "source": [
        "class Solution(object):\n",
        "    def submatrixSum(self, matrix):\n",
        "        \"\"\"\n",
        "        :type matrix: List[List[int]]\n",
        "        \"\"\"\n",
        "        m, n = len(matrix), len(matrix[0])\n",
        "        sums = [[0 for j in range(n+1)]\n",
        "                       for i in range(m+1)]\n",
        "\n",
        "        for i in range(1, m+1):\n",
        "            for j in range(1, n+1):\n",
        "                sums[i][j] = matrix[i-1][j-1] + sums[i][j-1] \\\n",
        "                               + sums[i-1][j] - sums[i-1][j-1]\n",
        "\n",
        "        for l in range(m):\n",
        "            for h in range(l+1, m+1):\n",
        "                map = {}\n",
        "                for j in range(n+1):\n",
        "                    diff = sums[h][j] - sums[l][j]\n",
        "                    if diff in map:\n",
        "                        k = map[diff]\n",
        "                        return [[l, k], [h-1, j-1]]\n",
        "                    else:\n",
        "                        map[diff] = j"
      ],
      "execution_count": 0,
      "outputs": []
    }
  ]
}