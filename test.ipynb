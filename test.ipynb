{
 "cells": [
  {
   "cell_type": "code",
   "execution_count": 4,
   "metadata": {},
   "outputs": [],
   "source": [
    "import math\n",
    "import sys\n",
    "def minimumCost(d, p):\n",
    "    # find v which is less than or equal to p\n",
    "    def round(v):\n",
    "        csum = 0\n",
    "        for dd in d:\n",
    "            csum += math.ceil(dd//v)\n",
    "        return csum\n",
    "    start, end = 0, sys.maxsize\n",
    "    \n",
    "    while start + 1 < end:\n",
    "        mid = start + (end - start) // 2\n",
    "        if round(mid) > p:\n",
    "            start = mid \n",
    "        else:\n",
    "            end = mid\n",
    "    \n",
    "    v = end if round(end) <= p else start\n",
    "    return v\n"
   ]
  },
  {
   "cell_type": "code",
   "execution_count": 43,
   "metadata": {},
   "outputs": [
    {
     "data": {
      "text/plain": [
       "2"
      ]
     },
     "execution_count": 43,
     "metadata": {},
     "output_type": "execute_result"
    }
   ],
   "source": [
    "editDistDP('sss','ssh')"
   ]
  },
  {
   "cell_type": "code",
   "execution_count": 41,
   "metadata": {},
   "outputs": [],
   "source": [
    "from sys import maxsize\n",
    "def editDistDP(str1, str2):\n",
    "    m, n = len(str1), len(str2)\n",
    "    dp = [[0 for x in range(n+1)] for x in range(m+1)] \n",
    "    for i in range(m+1): \n",
    "        for j in range(n+1): \n",
    "            if i == 0: \n",
    "                dp[i][j] = j    # Min. operations = j \n",
    "            elif j == 0: \n",
    "                dp[i][j] = i    # Min. operations = i \n",
    "            elif str1[i-1] == str2[j-1]: \n",
    "                dp[i][j] = dp[i-1][j-1] \n",
    "            else: \n",
    "                dp[i][j] = 1 + min(dp[i][j-1],        # Insert \n",
    "                                   dp[i-1][j],        # Remove \n",
    "                                   dp[i-1][j-1]+1)    # Replace \n",
    "    return dp[m][n]\n",
    "\n",
    "def CaesarCipher(stri, shift):\n",
    "    strList = list(map(ord, stri))\n",
    "    for i, num in enumerate(strList):\n",
    "        new_num = num + shift\n",
    "        strList[i] = new_num if new_num <= ord('z') else new_num - 26\n",
    "    return ''.join(map(chr, strList))\n",
    "\n",
    "def CaesarCipher2(s, k):\n",
    "    abc = \"abcdefghijklmnopqrstuvwxyz\"\n",
    "    pos = {c: i for i, c in enumerate(abc)}\n",
    "\n",
    "    ciphered = []\n",
    "    for c in s:\n",
    "        cl = c.lower()\n",
    "        if cl in abc:\n",
    "            new_ind = (pos[cl] + k) % 26\n",
    "            cipher_letter = abc[new_ind] if c.islower() else abc[new_ind].upper()\n",
    "            ciphered.append(cipher_letter)\n",
    "        else:\n",
    "            ciphered.append(c)\n",
    "        \n",
    "    return \"\".join(ciphered)\n",
    "\n",
    "def editDistance(a, b):\n",
    "    ret = maxsize\n",
    "    for shift in range(26):\n",
    "        shifta = CaesarCipher2(a, shift)\n",
    "        ret = min(ret, editDistDP(shifta, b))\n",
    "        print(shifta, b, editDistDP(shifta, b))\n",
    "    return ret\n",
    "\n"
   ]
  },
  {
   "cell_type": "code",
   "execution_count": 28,
   "metadata": {},
   "outputs": [
    {
     "name": "stdout",
     "output_type": "stream",
     "text": [
      "abdh\n",
      "bcei\n",
      "cdfj\n",
      "degk\n",
      "efhl\n",
      "fgim\n",
      "ghjn\n",
      "hiko\n",
      "ijlp\n",
      "jkmq\n",
      "klnr\n",
      "lmos\n",
      "mnpt\n",
      "noqu\n",
      "oprv\n",
      "pqsw\n",
      "qrtx\n",
      "rsuy\n",
      "stvz\n",
      "tuwa\n",
      "uvxb\n",
      "vwyc\n",
      "wxzd\n",
      "xyae\n",
      "yzbf\n",
      "zacg\n"
     ]
    }
   ],
   "source": [
    "    for shift in range(26):\n",
    "        shifta = CaesarCipher('abdh', shift)\n",
    "        print(shifta)"
   ]
  },
  {
   "cell_type": "code",
   "execution_count": 50,
   "metadata": {},
   "outputs": [
    {
     "data": {
      "text/plain": [
       "3"
      ]
     },
     "execution_count": 50,
     "metadata": {},
     "output_type": "execute_result"
    }
   ],
   "source": [
    "def segment(x, arr):\n",
    "    if not arr or x == 0:\n",
    "        return -1\n",
    "    cur_min = min(nums[0:x])\n",
    "    idx = arr[0:x].index(cur_min)\n",
    "    answer = cur_min\n",
    "    for i in range(1, len(arr)-x+1):\n",
    "        j = i + x - 1\n",
    "        if idx >= i:\n",
    "            if cur_min > arr[j]:\n",
    "                cur_min = arr[j]\n",
    "                idx = j\n",
    "        else:\n",
    "            cur_min = min(arr[i:i+x])\n",
    "            idx = arr[i:i+x].index(cur_min) + i\n",
    "        \n",
    "        answer = max(cur_min, answer)\n",
    "    return answer"
   ]
  },
  {
   "cell_type": "code",
   "execution_count": null,
   "metadata": {},
   "outputs": [],
   "source": [
    "#!/bin/python3\n",
    "\n",
    "import math\n",
    "import os\n",
    "import random\n",
    "import re\n",
    "import sys\n",
    "\n",
    "\n",
    "\n",
    "#\n",
    "# Complete the 'editDistance' function below.\n",
    "#\n",
    "# The function is expected to return an INTEGER.\n",
    "# The function accepts following parameters:\n",
    "#  1. STRING a\n",
    "#  2. STRING b\n",
    "#\n",
    "\n",
    "from sys import maxsize\n",
    "\n",
    "def minDistance1(str1, str2):\n",
    "    m, n = len(str1), len(str2)\n",
    "    dp = [[0 for x in range(n+1)] for x in range(m+1)] \n",
    "    for i in range(m+1): \n",
    "        for j in range(n+1): \n",
    "            if i == 0: \n",
    "                dp[i][j] = j    # Min. operations = j \n",
    "            elif j == 0: \n",
    "                dp[i][j] = i    # Min. operations = i \n",
    "            elif str1[i-1] == str2[j-1]: \n",
    "                dp[i][j] = dp[i-1][j-1] \n",
    "            else: \n",
    "                dp[i][j] = 1 + min(dp[i][j-1],        # Insert \n",
    "                                   dp[i-1][j],        # Remove \n",
    "                                   dp[i-1][j-1]+1)    # Replace \n",
    "    return dp[m][n]\n",
    "\n",
    "def minDistance(word1, word2):\n",
    "    l1, l2 = len(word1)+1, len(word2)+1\n",
    "    pre = [0 for _ in range(l2)]\n",
    "    for j in range(l2):\n",
    "        pre[j] = j\n",
    "    for i in range(1, l1):\n",
    "        cur = [i]*l2\n",
    "        for j in range(1, l2):\n",
    "            cur[j] = min(cur[j-1]+1, pre[j]+1, pre[j-1]+(word1[i-1]!=word2[j-1])*2)\n",
    "        pre = cur[:]\n",
    "    return pre[-1]\n",
    "\n",
    "\n",
    "def CaesarCipher(stri, shift):\n",
    "    strList = list(map(ord, stri))\n",
    "    for i, num in enumerate(strList):\n",
    "        new_num = num + shift\n",
    "        strList[i] = new_num if new_num <= ord('z') else new_num - 26\n",
    "    return ''.join(map(chr, strList))\n",
    "\n",
    "def editDistance(a, b):\n",
    "    ret = maxsize\n",
    "    for shift in range(26):\n",
    "        shifta = CaesarCipher(a, shift)\n",
    "        ret = min(ret, minDistance1(shifta, b))\n",
    "    return ret\n",
    "\n",
    "if __name__ == '__main__':"
   ]
  },
  {
   "cell_type": "code",
   "execution_count": null,
   "metadata": {},
   "outputs": [],
   "source": [
    "def segment(x, arr):\n",
    "    queue = []\n",
    "    i, res = 0, min(arr)\n",
    "    while i < len(arr):\n",
    "        if len(queue) > 0 and i - x + 1 > queue[0]: #Exceeding the scope\n",
    "            queue.pop(0)\n",
    "        while len(queue) > 0 and arr[queue[-1]] > arr[i]: #The small num replace the large\n",
    "            queue.pop()\n",
    "        queue.append(i)  #add the arr position\n",
    "        if i >= k -1: \n",
    "            res = max(res, arr[queue[0]])\n",
    "        i += 1\n",
    "    return res"
   ]
  }
 ],
 "metadata": {
  "kernelspec": {
   "display_name": "py37",
   "language": "python",
   "name": "python3"
  },
  "language_info": {
   "codemirror_mode": {
    "name": "ipython",
    "version": 3
   },
   "file_extension": ".py",
   "mimetype": "text/x-python",
   "name": "python",
   "nbconvert_exporter": "python",
   "pygments_lexer": "ipython3",
   "version": "3.7.1"
  }
 },
 "nbformat": 4,
 "nbformat_minor": 2
}
