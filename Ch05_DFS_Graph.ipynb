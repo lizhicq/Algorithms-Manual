{
 "cells": [
  {
   "cell_type": "markdown",
   "metadata": {
    "colab_type": "text",
    "id": "view-in-github"
   },
   "source": [
    "<a href=\"https://colab.research.google.com/github/lizhicq/Algorithms-Manual/blob/master/Ch05_DFS%26Graph.ipynb\" target=\"_parent\"><img src=\"https://colab.research.google.com/assets/colab-badge.svg\" alt=\"Open In Colab\"/></a>"
   ]
  },
  {
   "cell_type": "markdown",
   "metadata": {
    "colab_type": "text",
    "id": "4CYD6y8Sz1R-"
   },
   "source": [
    "# Combination DFS"
   ]
  },
  {
   "cell_type": "markdown",
   "metadata": {
    "colab_type": "text",
    "id": "GghjvvBvUhe1"
   },
   "source": [
    "### Subsets I, II\n",
    "\n",
    "Given a list of numbers that may has duplicate numbers, return all possible subsets. \n",
    "\n",
    "Subset I does not have duplicate number version. \n",
    "\n",
    "```\n",
    "If S = [2,2,2], a solution is:\n",
    "\n",
    "[[[2], [2], [2]], [[2], [2,2]], [[2, 2, 2]]]\n",
    "\n",
    "```\n",
    "这道题是样板题，基于组合的DFS题目很多都可以用这道题的写法改过来，推荐使用下面第一个个模板，我测试过速度最快。可扩展性也最高。"
   ]
  },
  {
   "cell_type": "code",
   "execution_count": null,
   "metadata": {
    "colab": {
     "base_uri": "https://localhost:8080/",
     "height": 87
    },
    "colab_type": "code",
    "id": "7DHFkcg5UjpO",
    "outputId": "0382e88e-7a6a-4baf-8f51-6a5a2f18d928"
   },
   "outputs": [
    {
     "name": "stdout",
     "output_type": "stream",
     "text": [
      "dfs count: 8 [[], [1], [1, 2], [1, 2, 3], [1, 3], [2], [2, 3], [3]]\n",
      "dfs count: 6 [[], [1], [1, 2], [1, 2, 2], [2], [2, 2]]\n",
      "dfs count: 8 [[[1], [2], [3]], [[1], [2, 3]], [[1, 2], [3]], [[1, 2, 3]]]\n",
      "dfs count: 7 [[[2], [2], [2]], [[2], [2, 2]], [[2, 2, 2]]]\n"
     ]
    }
   ],
   "source": [
    "class Solution:\n",
    "    def subsets1(self, S):\n",
    "        res = []\n",
    "        self.count = 0 \n",
    "        def dfs(start_index, tmp):\n",
    "            self.count += 1 \n",
    "            res.append(tmp)\n",
    "            for i in range(start_index, len(S)):\n",
    "                \n",
    "                    dfs(i+1, tmp + [S[i]])\n",
    "        S.sort()    \n",
    "        dfs(0, [])\n",
    "        print 'dfs count:', self.count,\n",
    "        return res\n",
    "    \n",
    "    def subsets2(self, S):\n",
    "        res = []\n",
    "        self.count = 0\n",
    "        def dfs(start_index, tmp):\n",
    "            self.count += 1\n",
    "            \n",
    "            res.append(tmp)\n",
    "                \n",
    "            for i in range(start_index, len(S)):\n",
    "                if i == start_index or S[i-1] != S[i]: \n",
    "                    dfs(i+1, tmp + [S[i]])\n",
    "        S.sort()    \n",
    "        dfs(0, [])\n",
    "        print 'dfs count:', self.count,\n",
    "        return res\n",
    "       \n",
    "    def subsets3(self, S):\n",
    "        res = []\n",
    "        self.count = 0\n",
    "        def dfs(start_index, tmp):\n",
    "            self.count += 1\n",
    "            if start_index == len(S):\n",
    "                res.append(tmp)\n",
    "                \n",
    "            for i in range(start_index, len(S)):\n",
    "                dfs(i+1, tmp + [S[start_index:i+1]])\n",
    "        S.sort()    \n",
    "        dfs(0, [])\n",
    "        print 'dfs count:', self.count,\n",
    "        return res\n",
    "    \n",
    "    def subsets4(self, S):\n",
    "        res = []\n",
    "        split = [False for _ in range(len(S))]\n",
    "        split_num = {}\n",
    "        self.count = 0 \n",
    "        def dfs(start_index, tmp):\n",
    "            self.count += 1 \n",
    "            if start_index == len(S):\n",
    "                res.append(tmp)\n",
    "                return \n",
    "            for i in range(start_index,len(S)):\n",
    "                if (i >=2 and S[i-1] == S[i] and split[i-2] == False and split_num[S[i]] != False):\n",
    "                    continue\n",
    "                split[i] = True\n",
    "                if S[start_index] == S[i]:\n",
    "                    split_num[S[i]] = True\n",
    "                dfs(i + 1, tmp + [S[start_index:i+1]])\n",
    "                split_num[S[i]] = False\n",
    "                split[i] = False\n",
    "        S.sort()\n",
    "        dfs(0, [])\n",
    "        print 'dfs count:', self.count,\n",
    "        return res \n",
    "\n",
    "\n",
    "if __name__ == \"__main__\":\n",
    "    s = Solution()\n",
    "    print s.subsets1([1,2,3])\n",
    "    print s.subsets2([1,2,2])\n",
    "    print s.subsets3([1,2,3])\n",
    "    print s.subsets4([2,2,2])\n",
    "    "
   ]
  },
  {
   "cell_type": "markdown",
   "metadata": {
    "colab_type": "text",
    "id": "cYecwhZqnfFT"
   },
   "source": [
    "### 680. Split String\n",
    "Give a string, you can choose to split the string after one character or two adjacent characters, and make the string to be composed of only one character or two characters. Output all possible results.\n",
    "```\n",
    "Example\n",
    "Given the string \"123\"\n",
    "return [[\"1\",\"2\",\"3\"],[\"12\",\"3\"],[\"1\",\"23\"]]\n",
    "```"
   ]
  },
  {
   "cell_type": "code",
   "execution_count": null,
   "metadata": {
    "colab": {
     "base_uri": "https://localhost:8080/",
     "height": 35
    },
    "colab_type": "code",
    "id": "CgZprYxsnjxE",
    "outputId": "208eecf1-ab70-47d8-e48a-2ad026166557"
   },
   "outputs": [
    {
     "name": "stdout",
     "output_type": "stream",
     "text": [
      "[['1', '2', '3'], ['1', '23'], ['12', '3']]\n"
     ]
    }
   ],
   "source": [
    "class Solution:\n",
    "    \"\"\"\n",
    "    @param: : a string to be split\n",
    "    @return: all possible split string array\n",
    "    \"\"\"\n",
    "\n",
    "    def splitString(self, S):\n",
    "        if s is None:\n",
    "            return []\n",
    "            \n",
    "        res = []\n",
    "        # dfs helper to search solution for index + 1, index + 2\n",
    "        def dfs(start, tmp):\n",
    "            if start == len(S):\n",
    "                res.append(tmp)\n",
    "            end = min(start + 2, len(S))\n",
    "            for i in range(start, end):\n",
    "                dfs(i+1, tmp + [S[start:i+1]])\n",
    "                     \n",
    "        dfs(0, [])\n",
    "        return res\n",
    "    \n",
    "if __name__ == \"__main__\":\n",
    "    s = Solution()\n",
    "    print s.splitString('123')"
   ]
  },
  {
   "cell_type": "markdown",
   "metadata": {
    "colab_type": "text",
    "id": "TXIGRmIXsUNs"
   },
   "source": [
    "###  Split String II \n",
    "Give a string, you can choose to split the string after one character or any adjacent characters, and make the string to be composed of these characters. Output all possible results.\n",
    "```\n",
    "Example\n",
    "Given the string \"123\"\n",
    "return [['1', '2', '3'], ['1', '23'], ['12', '3'], ['123']]\n",
    "```"
   ]
  },
  {
   "cell_type": "code",
   "execution_count": null,
   "metadata": {
    "colab": {
     "base_uri": "https://localhost:8080/",
     "height": 35
    },
    "colab_type": "code",
    "id": "8w_tFPExsSZN",
    "outputId": "bffd314e-6210-4626-c058-01bbc8337c87"
   },
   "outputs": [
    {
     "name": "stdout",
     "output_type": "stream",
     "text": [
      "[['1', '2', '3'], ['1', '23'], ['12', '3'], ['123']]\n"
     ]
    }
   ],
   "source": [
    "class Solution:\n",
    "    \"\"\"\n",
    "    @param: : a string to be split\n",
    "    @return: all possible split string array\n",
    "    \"\"\"\n",
    "\n",
    "    def splitString2(self, S):\n",
    "        if s is None:\n",
    "            return []\n",
    "            \n",
    "        res = []\n",
    "        # dfs helper to search solution for index + 1, index + 2\n",
    "        def dfs(start, tmp):\n",
    "            if start == len(S):\n",
    "                res.append(tmp)\n",
    "            end = len(S)\n",
    "            for i in range(start, end):\n",
    "                dfs(i+1, tmp + [S[start:i+1]])\n",
    "                     \n",
    "        dfs(0, [])\n",
    "        return res\n",
    "    \n",
    "if __name__ == \"__main__\":\n",
    "    s = Solution()\n",
    "    print s.splitString2('123')"
   ]
  },
  {
   "cell_type": "markdown",
   "metadata": {
    "colab_type": "text",
    "id": "SPOGXuXnspJP"
   },
   "source": [
    "###  Split String III \n",
    "Give a string, you can choose to split the string after one character or any adjacent characters, and make the string to be composed of these characters. Output all possible results. String may contain duplicate numbers, reduce the duplicated results, keep them in lexicographically order.\n",
    "```\n",
    "Example\n",
    "Given the string \"222\"\n",
    "return [['2', '2', '2'], ['2', '22'], ['222']]\n",
    "```"
   ]
  },
  {
   "cell_type": "code",
   "execution_count": null,
   "metadata": {
    "colab": {
     "base_uri": "https://localhost:8080/",
     "height": 35
    },
    "colab_type": "code",
    "id": "03mstPYGtBdf",
    "outputId": "12f19ef1-1543-4a14-fc58-2a966da9883a"
   },
   "outputs": [
    {
     "name": "stdout",
     "output_type": "stream",
     "text": [
      "[['2', '2', '2'], ['2', '22'], ['222']]\n"
     ]
    }
   ],
   "source": [
    "class Solution:\n",
    "    \"\"\"\n",
    "    @param: : a string to be split\n",
    "    @return: all possible split string array\n",
    "    \"\"\"\n",
    "\n",
    "    def splitString3(self, S):\n",
    "        res = []\n",
    "        split = [False for _ in range(len(S))]\n",
    "        split_num = {}\n",
    "        \n",
    "        def dfs(start, tmp):\n",
    "            if start == len(S):\n",
    "                res.append(tmp)\n",
    "                return \n",
    "            for i in range(start,len(S)):\n",
    "                if (i >=2 and S[i-1] == S[i] and split[i-2] == False \n",
    "                    and split_num[S[i]] != False):\n",
    "                    continue\n",
    "                split[i] = True\n",
    "                if S[start] == S[i]:\n",
    "                    split_num[S[i]] = True\n",
    "                dfs(i + 1, tmp + [S[start:i+1]])\n",
    "                split_num[S[i]] = False\n",
    "                split[i] = False\n",
    "        \n",
    "        dfs(0, [])\n",
    "        return res \n",
    "    \n",
    "if __name__ == \"__main__\":\n",
    "    s = Solution()\n",
    "    print s.splitString3('222')"
   ]
  },
  {
   "cell_type": "markdown",
   "metadata": {
    "colab_type": "text",
    "id": "EEr0BExSn5Oy"
   },
   "source": [
    "### 196. Missing Number\n",
    "Given an array contains N numbers of 0 .. N, find which number doesn't exist in the array.\n",
    "```\n",
    "Example\n",
    "Given N = 3 and the array [0, 1, 3], return 2.\n",
    "\n",
    "Challenge\n",
    "Do it in-place with O(1) extra memory and O(n) time.\n",
    "```"
   ]
  },
  {
   "cell_type": "code",
   "execution_count": null,
   "metadata": {
    "colab": {},
    "colab_type": "code",
    "id": "5UrqcNjCoFrr"
   },
   "outputs": [],
   "source": [
    "class Solution:\n",
    "    \"\"\"\n",
    "    @param nums: An array of integers\n",
    "    @return: An integer\n",
    "    \"\"\"\n",
    "    def findMissing(self, nums):\n",
    "        n = len(nums)\n",
    "        cum1 = (n+1) * n / 2 \n",
    "        cum2 = sum(nums)\n",
    "        \n",
    "        return cum1 - cum2"
   ]
  },
  {
   "cell_type": "markdown",
   "metadata": {
    "colab_type": "text",
    "id": "Ga123hi1oHCr"
   },
   "source": [
    "### 570. Missing Number II\n",
    "Giving a string with number from 1-n in random order, but miss 1 number.Find that number.\n",
    "```\n",
    "Example\n",
    "Given n = 20, str = 19201234567891011121314151618\n",
    "\n",
    "return 17\n",
    "```"
   ]
  },
  {
   "cell_type": "code",
   "execution_count": null,
   "metadata": {
    "colab": {
     "base_uri": "https://localhost:8080/",
     "height": 35
    },
    "colab_type": "code",
    "id": "WmXTDGwmeFMQ",
    "outputId": "f55e2b24-bf1e-4b14-bc2f-245e9968ad65"
   },
   "outputs": [
    {
     "name": "stdout",
     "output_type": "stream",
     "text": [
      "17\n"
     ]
    }
   ],
   "source": [
    "class Solution(object):\n",
    "    \n",
    "    def findMissing2(self, n, numstr):\n",
    "        used = [0 for i in range(n+1)]\n",
    "        \n",
    "        def helper(start):\n",
    "            \n",
    "            if start == len(numstr):\n",
    "                res = []\n",
    "                for i in range(1, n+1):\n",
    "                    if not used[i]:\n",
    "                        res.append(i)\n",
    "                return res[0] if len(res) == 1 else -1\n",
    "            \n",
    "            if numstr[start] == '0':\n",
    "                    return -1\n",
    "            \n",
    "            for i in range(1,3):\n",
    "                num = numstr[start:start+i]\n",
    "                num = int(num)\n",
    "                if 1 <= num <= n and not used[num]:\n",
    "                    used[num] = 1\n",
    "                    target = helper(start+i)\n",
    "                    if target != -1:\n",
    "                        return target\n",
    "                    used[num] = 0\n",
    "            return -1 \n",
    "        \n",
    "        return helper(0)\n",
    "if __name__ == \"__main__\":\n",
    "    s = Solution()\n",
    "    print s.findMissing2(20, '19201234567891011121314151618')"
   ]
  },
  {
   "cell_type": "markdown",
   "metadata": {
    "colab_type": "text",
    "id": "9v1gITbqoUTs"
   },
   "source": [
    "### 135. Combination Sum\n",
    "Given a set of candidate numbers (C) and a target number (T), find all unique combinations in C where the candidate numbers sums to T.\n",
    "\n",
    "The same repeated number may be chosen from C unlimited number of times.\n",
    "```\n",
    "Example\n",
    "Given candidate set [2,3,6,7] and target 7, a solution set is:\n",
    "\n",
    "[7]\n",
    "[2, 2, 3]\n",
    "```"
   ]
  },
  {
   "cell_type": "code",
   "execution_count": null,
   "metadata": {
    "colab": {
     "base_uri": "https://localhost:8080/",
     "height": 35
    },
    "colab_type": "code",
    "id": "ajqEjoeSoTz8",
    "outputId": "3be349f2-e617-4f4b-9461-177ff60ec7d8"
   },
   "outputs": [
    {
     "name": "stdout",
     "output_type": "stream",
     "text": [
      "[[2, 2, 3], [7]]\n"
     ]
    }
   ],
   "source": [
    "class Solution(object):\n",
    "    def combinationSum(self, nums, target):\n",
    "        nums = list(set(nums))\n",
    "        nums.sort()\n",
    "        res = []\n",
    "        def dfs(start, tmp, target):\n",
    "            if 0 == target:\n",
    "                res.append(tmp)\n",
    "                return\n",
    "            for i in range(start, len(nums)):\n",
    "                if nums[i] > target:\n",
    "                    return\n",
    "                dfs(i, tmp + [nums[i]], target - nums[i])\n",
    "\n",
    "        dfs(0, [], target)\n",
    "        return res\n",
    "\n",
    "if __name__ == \"__main__\":\n",
    "    s = Solution()\n",
    "    print s.combinationSum([2,3,6,7], 7)\n",
    "\n",
    "\n"
   ]
  },
  {
   "cell_type": "markdown",
   "metadata": {
    "colab_type": "text",
    "id": "ykV3kVbb15Rv"
   },
   "source": [
    "### 153. Combination Sum II\n",
    "Given a collection of candidate numbers (C) and a target number (T), find all unique combinations in C where the candidate numbers sums to T.\n",
    "\n",
    "Each number in C may only be used once in the combination.\n",
    "```\n",
    "Example\n",
    "Given candidate set [10,1,6,7,2,1,5] and target 8,\n",
    "\n",
    "A solution set is:\n",
    "\n",
    "[\n",
    "  [1,7],\n",
    "  [1,2,5],\n",
    "  [2,6],\n",
    "  [1,1,6]\n",
    "]\n",
    "```"
   ]
  },
  {
   "cell_type": "code",
   "execution_count": null,
   "metadata": {
    "colab": {
     "base_uri": "https://localhost:8080/",
     "height": 35
    },
    "colab_type": "code",
    "id": "l_Kh_m7Ajuh3",
    "outputId": "6521318a-bc5b-4207-da95-76f0dbf3a9d8"
   },
   "outputs": [
    {
     "name": "stdout",
     "output_type": "stream",
     "text": [
      "[[1, 1, 6], [1, 2, 5], [1, 7], [2, 6]]\n"
     ]
    }
   ],
   "source": [
    "class Solution:\n",
    "    \"\"\"\n",
    "    @param num: Given the candidate numbers\n",
    "    @param target: Given the target number\n",
    "    @return: All the combinations that sum to target\n",
    "    \"\"\"\n",
    "    def combinationSum2(self, can, target):\n",
    "        can.sort()\n",
    "        ans = []\n",
    "        use = [False] * len(can)\n",
    "        \n",
    "        def dfs(index, tmp, use, ans):\n",
    "            if sum(tmp) == target:\n",
    "                ans.append(tmp)\n",
    "                return\n",
    "            for i in range(index, len(can)):\n",
    "                if sum(tmp) + can[i] <= target and (i == index or can[i] != can[i-1] or use[i-1]):\n",
    "                    use[i] = True\n",
    "                    dfs(i+1, tmp + [can[i]], use, ans)\n",
    "                    use[i] = False\n",
    "        \n",
    "        dfs(0, [], use, ans)\n",
    "        return ans\n",
    "if __name__ == \"__main__\":\n",
    "    s = Solution()\n",
    "    print(s.combinationSum2([7,1,2,5,1,6,10], 8))"
   ]
  },
  {
   "cell_type": "markdown",
   "metadata": {
    "colab_type": "text",
    "id": "IARiO17Ogb61"
   },
   "source": [
    "\n",
    "\n",
    "*  不用used记录，似乎也可以，这个怎么做到的呢？"
   ]
  },
  {
   "cell_type": "code",
   "execution_count": null,
   "metadata": {
    "colab": {
     "base_uri": "https://localhost:8080/",
     "height": 35
    },
    "colab_type": "code",
    "id": "1s734S4Yc7W4",
    "outputId": "357522d7-f0b6-4fad-ac41-cd111aeaf1fc"
   },
   "outputs": [
    {
     "name": "stdout",
     "output_type": "stream",
     "text": [
      "[[1, 1, 2, 2, 2], [1, 1, 6], [1, 2, 5], [1, 7], [2, 6]]\n"
     ]
    }
   ],
   "source": [
    "class Solution:\n",
    "    \"\"\"\n",
    "    @param num: Given the candidate numbers\n",
    "    @param target: Given the target number\n",
    "    @return: All the combinations that sum to target\n",
    "    \"\"\"\n",
    "    def combinationSum2(self, nums, target):\n",
    "        nums.sort()\n",
    "        ret = []\n",
    "        def dfs(start, tmp, target):\n",
    "            if 0 == target:\n",
    "                ret.append(tmp)\n",
    "                return\n",
    "            for i in range(start, len(nums)):\n",
    "                if nums[i] > target:\n",
    "                    return\n",
    "                # nums[i] <= target:\n",
    "                if i == start or nums[i] != nums[i-1]:\n",
    "                    dfs(i+1, tmp + [nums[i]], target - nums[i])\n",
    "        \n",
    "        dfs(0, [], target)\n",
    "        return ret\n",
    "    \n",
    "if __name__ == \"__main__\":\n",
    "    s = Solution()\n",
    "    print(s.combinationSum2([7,1,2,2,2,5,1,6,10], 8))\n"
   ]
  },
  {
   "cell_type": "markdown",
   "metadata": {
    "colab_type": "text",
    "id": "-dN2bTJz2BS4"
   },
   "source": [
    "### 152. Combinations\n",
    "Given two integers n and k, return all possible combinations of k numbers out of 1 ... n.\n",
    "```\n",
    "Example\n",
    "Given n = 4 and k = 2, a solution is:\n",
    "\n",
    "[\n",
    "  [2,4],\n",
    "  [3,4],\n",
    "  [2,3],\n",
    "  [1,2],\n",
    "  [1,3],\n",
    "  [1,4]\n",
    "]\n",
    "```"
   ]
  },
  {
   "cell_type": "code",
   "execution_count": null,
   "metadata": {
    "colab": {},
    "colab_type": "code",
    "id": "vzUEniZy2GUc"
   },
   "outputs": [],
   "source": [
    "class Solution:\n",
    "    \"\"\"\n",
    "    @param n: Given the range of numbers\n",
    "    @param k: Given the numbers of combinations\n",
    "    @return: All the combinations of k numbers out of 1..n\n",
    "    \"\"\"\n",
    "    def combine(self, n, k):\n",
    "        if k == 0 or n == 0:\n",
    "            return []\n",
    "        S = range(1, n+1)\n",
    "        res = []\n",
    "        \n",
    "        def dfs(tmp, index): #conbination.\n",
    "            if len(tmp) == k:\n",
    "                res.append(tmp)\n",
    "                return \n",
    "            if index == len(S):\n",
    "                return\n",
    "            dfs(tmp + [S[index]], index + 1)\n",
    "            dfs(tmp, index + 1)\n",
    "        \n",
    "        dfs([], 0)\n",
    "   \n",
    "        return res"
   ]
  },
  {
   "cell_type": "markdown",
   "metadata": {
    "colab_type": "text",
    "id": "zqt3dIWp2QmP"
   },
   "source": [
    "### 136. Palindrome Partitioning\n",
    "Given a string s, partition s such that every substring of the partition is a palindrome.\n",
    "\n",
    "Return all possible palindrome partitioning of s.\n",
    "```\n",
    "Example\n",
    "Given s = \"aab\", return:\n",
    "\n",
    "[\n",
    "  [\"aa\",\"b\"],\n",
    "  [\"a\",\"a\",\"b\"]\n",
    "]\n",
    "```"
   ]
  },
  {
   "cell_type": "code",
   "execution_count": null,
   "metadata": {
    "colab": {},
    "colab_type": "code",
    "id": "U2P9wZaB2Sfn"
   },
   "outputs": [],
   "source": [
    "class Solution:\n",
    "    \"\"\"\n",
    "    @param: s: A string\n",
    "    @return: A list of lists of string\n",
    "    \"\"\"\n",
    "    def partition(self, S):\n",
    "        if len(S) == 0:\n",
    "            return []\n",
    "        res = []\n",
    "    \n",
    "        def isPalindrome(s):\n",
    "            start, end = 0, len(s)-1,\n",
    "            while start < end:\n",
    "                if s[start] != s[end]:\n",
    "                    return False\n",
    "                start += 1\n",
    "                end -= 1\n",
    "            return True\n",
    "    \n",
    "        def dfs(index, tmp):\n",
    "            if index == len(S):\n",
    "                res.append(tmp)\n",
    "                return\n",
    "            for i in range(index, len(S)):\n",
    "                if not isPalindrome(S[index:i+1]):\n",
    "                    continue\n",
    "                \n",
    "                dfs(i+1, tmp + [S[index:i+1]])\n",
    "                \n",
    "    \n",
    "        dfs(0, [])\n",
    "        return res\n"
   ]
  },
  {
   "cell_type": "markdown",
   "metadata": {
    "colab_type": "text",
    "id": "p1JuevpY2vdo"
   },
   "source": [
    "### 108. Palindrome Partitioning II\n",
    "Given a string s, cut s into some substrings such that every substring is a palindrome.\n",
    "\n",
    "Return the minimum cuts needed for a palindrome partitioning of s.\n",
    "```\n",
    "Example\n",
    "Given s = \"aab\",\n",
    "\n",
    "Return 1 since the palindrome partitioning [\"aa\", \"b\"] could be produced using 1 cut.\n",
    "```"
   ]
  },
  {
   "cell_type": "code",
   "execution_count": null,
   "metadata": {
    "colab": {
     "base_uri": "https://localhost:8080/",
     "height": 104
    },
    "colab_type": "code",
    "id": "CJY39JYE2xaA",
    "outputId": "2f214358-20a5-4177-f304-e0057d76c670"
   },
   "outputs": [
    {
     "name": "stdout",
     "output_type": "stream",
     "text": [
      "2 2 [2, 1, 0, -1]\n",
      "1 1 [2, 1, 0, -1]\n",
      "0 0 [2, 1, 0, -1]\n",
      "0 1 [1, 1, 0, -1]\n",
      "1\n"
     ]
    }
   ],
   "source": [
    "class Solution(object):\n",
    "\n",
    "    def minCut(self, S):\n",
    "        n = len(S)\n",
    "        f = [n-i-1 for i in range(n+1)]\n",
    "        # f[i] stands for mincut num at position i\n",
    "        p = [[False for i in range(n)]\n",
    "                    for j in range(n)] \n",
    "        # p[i][j] = True if S[i:j+1] is palindrome\n",
    "\n",
    "        for i in reversed(range(n)):\n",
    "            for j in range(i, n):\n",
    "                if S[i] == S[j] and (j-i < 2 or p[i+1][j-1]):\n",
    "                    p[i][j] = True\n",
    "                    f[i] = min(f[i], f[j+1] + 1)\n",
    "                    print i, j, f\n",
    "        return f[0]\n",
    "if __name__ == \"__main__\":\n",
    "    s = Solution()\n",
    "    print s.minCut(\"aab\")"
   ]
  },
  {
   "cell_type": "markdown",
   "metadata": {
    "colab_type": "text",
    "id": "NjDO5eLygugc"
   },
   "source": [
    "### 652. Factorization\n",
    "A non-negative numbers can be regarded as product of its factors.\n",
    "Write a function that takes an integer n and return all possible combinations of its factors.\n",
    "```\n",
    "Example\n",
    "Given n = 8\n",
    "return [[2,2,2],[2,4]]\n",
    "// 8 = 2 x 2 x 2 = 2 x 4.\n",
    "\n",
    "Given n = 1\n",
    "return []\n",
    "\n",
    "Given n = 12\n",
    "return [[2,6],[2,2,3],[3,4]]\n",
    "```"
   ]
  },
  {
   "cell_type": "code",
   "execution_count": null,
   "metadata": {
    "colab": {
     "base_uri": "https://localhost:8080/",
     "height": 35
    },
    "colab_type": "code",
    "id": "GFT10WAIgy2K",
    "outputId": "abf2fda9-eae9-4b4b-c8f0-40856bd30b27"
   },
   "outputs": [
    {
     "name": "stdout",
     "output_type": "stream",
     "text": [
      "[[2, 5, 5], [2, 25], [5, 10]]\n"
     ]
    }
   ],
   "source": [
    "class Solution:\n",
    "    \"\"\"\n",
    "    @param n: An integer\n",
    "    @return: a list of combination\n",
    "    \"\"\"\n",
    "    def getFactors(self, n):\n",
    "        res = []\n",
    "        from math import sqrt\n",
    "        \n",
    "        def dfs(tmp, n, start):        \n",
    "            for i in range(start, int(sqrt(n)) + 1):\n",
    "                if n % i == 0:                    \n",
    "                    dfs(tmp + [i], n / i, i)\n",
    "            \n",
    "            res.append(tmp + [n])\n",
    "     \n",
    "        dfs([], n , 2)\n",
    "        res.pop()\n",
    "        return res \n",
    "\n",
    "if __name__ == \"__main__\":\n",
    "    s = Solution()\n",
    "    print s.getFactors(50)\n",
    "            "
   ]
  },
  {
   "cell_type": "markdown",
   "metadata": {
    "colab_type": "text",
    "id": "fFxcAZ6b25C3"
   },
   "source": [
    "### 427. Generate Parentheses\n",
    "Given n pairs of parentheses, write a function to generate all combinations of well-formed parentheses.\n",
    "```\n",
    "Example\n",
    "Given n = 3, a solution set is:\n",
    "\n",
    "\"((()))\", \"(()())\", \"(())()\", \"()(())\", \"()()()\"\n",
    "```"
   ]
  },
  {
   "cell_type": "code",
   "execution_count": null,
   "metadata": {
    "colab": {
     "base_uri": "https://localhost:8080/",
     "height": 35
    },
    "colab_type": "code",
    "id": "m-_wyHzO25O3",
    "outputId": "bbff6e01-29e9-4cd8-9981-38b607bea6fe"
   },
   "outputs": [
    {
     "name": "stdout",
     "output_type": "stream",
     "text": [
      "['((()))', '(()())', '(())()', '()(())', '()()()']\n"
     ]
    }
   ],
   "source": [
    "class Solution:\n",
    "    \"\"\"\n",
    "    @param n: n pairs\n",
    "    @return: All combinations of well-formed parentheses\n",
    "    \"\"\"\n",
    "    def generateParenthesis(self, n):\n",
    "\n",
    "        res = []\n",
    "        def dfs(nleft, nright, tmp):\n",
    "            if nleft == n and nright == n:\n",
    "                res.append(tmp)\n",
    "                return\n",
    "            if nleft < n:\n",
    "                dfs(nleft + 1, nright, tmp + '(')\n",
    "            if nright < n and nright < nleft:\n",
    "                dfs(nleft, nright+1, tmp + ')')\n",
    "\n",
    "        dfs(0, 0, '')\n",
    "        return res\n",
    "\n",
    "if __name__ == \"__main__\":\n",
    "    s = Solution()\n",
    "    print s.generateParenthesis(3)"
   ]
  },
  {
   "cell_type": "markdown",
   "metadata": {
    "colab_type": "text",
    "id": "DG-MvsSc2Z2J"
   },
   "source": [
    "### 780. Remove Invalid Parentheses\n",
    "Remove the minimum number of invalid parentheses in order to make the input string valid. Return all possible results.\n",
    "```\n",
    "Example\n",
    "\"()())()\" -> [\"()()()\", \"(())()\"]\n",
    "\"(a)())()\" -> [\"(a)()()\", \"(a())()\"]\n",
    "\")(\" -> [\"\"]\n",
    "```"
   ]
  },
  {
   "cell_type": "code",
   "execution_count": null,
   "metadata": {
    "colab": {},
    "colab_type": "code",
    "id": "7yFk6GUq2cqY"
   },
   "outputs": [],
   "source": [
    "class Solution:\n",
    "    def removeInvalidParentheses(self, S):\n",
    "        if len(S) == 0:\n",
    "            return [\"\"]\n",
    "        ans = []\n",
    "        \n",
    "        def dfs(tmp, last_i, last_j, par):\n",
    "            count = 0\n",
    "            for i in range(last_i, len(tmp)):\n",
    "                if tmp[i] == par[0]: count += 1\n",
    "                if tmp[i] == par[1]: count -= 1\n",
    "                if count >= 0: \n",
    "                    continue                \n",
    "                for j in range(last_j, i+1):\n",
    "                    if (tmp[j] == par[1]) and (j == last_j or tmp[j-1] != par[1]):\n",
    "                        dfs(tmp[:j] + tmp[j+1:], i, j, par)\n",
    "                return\n",
    "            \n",
    "            reverse = tmp[::-1]\n",
    "            \n",
    "            if par[0] == '(':\n",
    "                dfs(reverse, 0, 0, [')', '('])\n",
    "            else: #par[0] == ')'\n",
    "                ans.append(reverse)\n",
    "               \n",
    "        dfs(S, 0, 0, ['(', ')'])\n",
    "        \n",
    "        return ans"
   ]
  },
  {
   "cell_type": "markdown",
   "metadata": {
    "colab_type": "text",
    "id": "Qv3WpgAu2Cg2"
   },
   "source": [
    "### 426. Restore IP Addresses\n",
    "Given a string containing only digits, restore it by returning all possible valid IP address combinations.\n",
    "```\n",
    "Example\n",
    "Given \"25525511135\", return\n",
    "\n",
    "[\n",
    "  \"255.255.11.135\",\n",
    "  \"255.255.111.35\"\n",
    "]\n",
    "Order does not matter.\n",
    "```"
   ]
  },
  {
   "cell_type": "code",
   "execution_count": null,
   "metadata": {
    "colab": {
     "base_uri": "https://localhost:8080/",
     "height": 35
    },
    "colab_type": "code",
    "id": "T-og2-vQ2Fv2",
    "outputId": "bf9bd36f-c5f8-4b31-adc1-8a1b79fbd2bb"
   },
   "outputs": [
    {
     "name": "stdout",
     "output_type": "stream",
     "text": [
      "['0.0.0.0']\n"
     ]
    }
   ],
   "source": [
    "class Solution:\n",
    "    \"\"\"\n",
    "    @param s: the IP string\n",
    "    @return: All possible valid IP addresses\n",
    "    \"\"\"\n",
    "    def restoreIpAddresses(self, S):\n",
    "        res = []\n",
    "        def dfs(start, step, tmp):\n",
    "            if step == 4:\n",
    "                if start == len(S):\n",
    "                    res.append(tmp[1:])\n",
    "                return\n",
    "\n",
    "            for l in range(1, 4):\n",
    "                if start + l <= len(S):\n",
    "                    subip = S[start:start+l]\n",
    "                    if int(subip) <= 255:\n",
    "                        dfs(start+l, step+1, tmp + '.' + subip)\n",
    "                    if S[start] == '0':\n",
    "                        break\n",
    "        dfs(0, 0, '')\n",
    "        return res\n",
    "\n",
    "if __name__ == \"__main__\":\n",
    "    s = Solution()\n",
    "    print s.restoreIpAddresses(\"0000\")"
   ]
  },
  {
   "cell_type": "markdown",
   "metadata": {
    "colab_type": "text",
    "id": "--qGSD3Z9_dW"
   },
   "source": [
    "### 58. 4Sum\n",
    "Given an array S of n integers, are there elements a, b, c, and d in S such that a + b + c + d = target?\n",
    "\n",
    "Find all unique quadruplets in the array which gives the sum of target.\n",
    "```\n",
    "Example\n",
    "Given array S = {1 0 -1 0 -2 2}, and target = 0. A solution set is:\n",
    "\n",
    "(-1, 0, 0, 1)\n",
    "(-2, -1, 1, 2)\n",
    "(-2, 0, 0, 2)\n",
    "```\n",
    "\n"
   ]
  },
  {
   "cell_type": "code",
   "execution_count": null,
   "metadata": {
    "colab": {
     "base_uri": "https://localhost:8080/",
     "height": 208
    },
    "colab_type": "code",
    "id": "EzS4dgX5fUjR",
    "outputId": "71cc1c46-2b7e-4200-fd74-cb75f6ddd80a"
   },
   "outputs": [
    {
     "name": "stdout",
     "output_type": "stream",
     "text": [
      "[(-2, -1, 1, 2), (-2, 0, 0, 2), (-1, 0, 0, 1)]\n",
      "0.0267899036407 0.0256600379944 0.00413703918457\n",
      "0.0256309509277 0.0250270366669 0.00398707389832\n",
      "0.0250401496887 0.024582862854 0.00415897369385\n",
      "0.0245580673218 0.0291340351105 0.00397300720215\n",
      "0.0250759124756 0.0246918201447 0.00390791893005\n",
      "0.0251479148865 0.025573015213 0.00386905670166\n",
      "0.0254220962524 0.0246438980103 0.00393295288086\n",
      "0.0252628326416 0.0274131298065 0.0039050579071\n",
      "0.0253250598907 0.0253059864044 0.00391793251038\n",
      "0.0264499187469 0.0249390602112 0.00388813018799\n"
     ]
    }
   ],
   "source": [
    "class Solution:\n",
    "    \"\"\"\n",
    "    @param numbers: Give an array\n",
    "    @param target: An integer\n",
    "    @return: Find all unique quadruplets in the array which gives the sum of zero\n",
    "    \"\"\"\n",
    "    def fourSum1(self, S, target):\n",
    "        S.sort()\n",
    "        res = []\n",
    "\n",
    "        def dfs(tmp, index):\n",
    "            if len(tmp) == 4:\n",
    "                if sum(tmp) == target:\n",
    "                    res.append(tuple(tmp))\n",
    "                return\n",
    "            for i in range(index, len(S)):\n",
    "                if i == index or S[i-1] != S[i]:\n",
    "                    dfs(tmp + [S[i]], i+1)\n",
    "\n",
    "        dfs([], 0)\n",
    "        return res\n",
    "\n",
    "    def fourSum2(self, S, target):\n",
    "        S.sort()\n",
    "        res = []\n",
    "\n",
    "        def dfs(tmp, index):\n",
    "            if len(tmp) == 4:\n",
    "                if sum(tmp) == target:\n",
    "                    res.append(tuple(tmp))\n",
    "                return\n",
    "            for i in range(index, len(S)):\n",
    "                if i != index and S[i-1] == S[i]:\n",
    "                    continue\n",
    "                dfs(tmp + [S[i]], i+1)\n",
    "\n",
    "        dfs([], 0)\n",
    "        return res\n",
    "\n",
    "    def fourSum3(self, nums, target):\n",
    "        nums.sort()\n",
    "        res = []\n",
    "        length = len(nums)\n",
    "        for i in range(0, length - 3):\n",
    "            if i and nums[i] == nums[i - 1]:\n",
    "                continue\n",
    "            for j in range(i + 1, length - 2):\n",
    "                if j != i + 1 and nums[j] == nums[j - 1]:\n",
    "                    continue\n",
    "                sum = target - nums[i] - nums[j]\n",
    "                left, right = j + 1, length - 1\n",
    "                while left < right:\n",
    "                    if nums[left] + nums[right] == sum:\n",
    "                        res.append([nums[i], nums[j], nums[left], nums[right]])\n",
    "                        right -= 1\n",
    "                        left += 1\n",
    "                        while left < right and nums[left] == nums[left - 1]:\n",
    "                            left += 1\n",
    "                        while left < right and nums[right] == nums[right + 1]:\n",
    "                            right -= 1\n",
    "                    elif nums[left] + nums[right] > sum:\n",
    "                        right -= 1\n",
    "                    else:\n",
    "                        left += 1\n",
    "        return res\n",
    "\n",
    "if __name__ ==\"__main__\":\n",
    "    S = [1, 0, -1, 0, -2, 2]\n",
    "    target = 0\n",
    "    print Solution().fourSum2(S, target)\n",
    "    from timeit import timeit\n",
    "    count = 0\n",
    "    for i in range(10):\n",
    "        a = timeit(\"Solution().fourSum1(S, target)\",\n",
    "                 setup=\"from __main__ import Solution, S, target\", number=1000)\n",
    "        b = timeit(\"Solution().fourSum2(S, target)\",\n",
    "                 setup=\"from __main__ import Solution, S, target\", number=1000)\n",
    "        c = timeit(\"Solution().fourSum3(S, target)\",\n",
    "                 setup=\"from __main__ import Solution, S, target\", number=1000)\n",
    "\n",
    "        print a, b, c\n"
   ]
  },
  {
   "cell_type": "markdown",
   "metadata": {
    "colab_type": "text",
    "id": "2x6DKtbOum7W"
   },
   "source": [
    "### 107. Word Break I \n",
    "Given a string s and a dictionary of words dict, determine if s can be break into a space-separated sequence of one or more dictionary words.\n",
    "```\n",
    "Example\n",
    "Given s = \"lintcode\", dict = [\"lint\", \"code\"].\n",
    "\n",
    "Return true because \"lintcode\" can be break as \"lint code\".\n",
    "```"
   ]
  },
  {
   "cell_type": "code",
   "execution_count": null,
   "metadata": {
    "colab": {
     "base_uri": "https://localhost:8080/",
     "height": 35
    },
    "colab_type": "code",
    "id": "zLHQpADruvvV",
    "outputId": "ed639d63-84e9-45bc-98ae-c94cfc1634e6"
   },
   "outputs": [
    {
     "name": "stdout",
     "output_type": "stream",
     "text": [
      "True\n"
     ]
    }
   ],
   "source": [
    "class Solution:\n",
    "    # param s: A string s\n",
    "    # param dict: A dictionary of words dict\n",
    "    def wordBreak(self, S, word_dict):\n",
    "        if len(word_dict) == 0:\n",
    "            return len(S) == 0\n",
    "\n",
    "        n = len(S)\n",
    "        f = [False] * (n + 1)\n",
    "        f[0] = True\n",
    "\n",
    "        maxLength = max([len(w) for w in word_dict])\n",
    "        \n",
    "        for i in range(1, n + 1):\n",
    "            for j in range(1, min(i, maxLength) + 1):\n",
    "                if not f[i - j]:\n",
    "                    continue\n",
    "                if S[i - j:i] in word_dict:\n",
    "                    f[i] = True # f[i] is True if s[i - j : i] in dict and f[i - j] is True\n",
    "                    break\n",
    "\n",
    "        return f[n] # f[i] stands for s[:i] is matched.\n",
    "    \n",
    "    \n",
    "if __name__ == \"__main__\":\n",
    "    s = Solution()\n",
    "    print s.wordBreak(\"Lintcode\", ['Lint', 'code'])"
   ]
  },
  {
   "cell_type": "markdown",
   "metadata": {
    "colab_type": "text",
    "id": "XEpyX1Ia3n96"
   },
   "source": [
    "### 582. Word Break II\n",
    "Given a string s and a dictionary of words dict, add spaces in s to construct a sentence where each word is a valid dictionary word.\n",
    "\n",
    "Return all such possible sentences.\n",
    "```\n",
    "Example\n",
    "Gieve s = lintcode,\n",
    "dict = [\"de\", \"ding\", \"co\", \"code\", \"lint\"].\n",
    "\n",
    "A solution is [\"lint code\", \"lint co de\"].\n",
    "```"
   ]
  },
  {
   "cell_type": "code",
   "execution_count": null,
   "metadata": {
    "colab": {},
    "colab_type": "code",
    "id": "dx6anE5mO1pf"
   },
   "outputs": [],
   "source": [
    "class Solution:\n",
    "    \"\"\"\n",
    "    @param: s: A string\n",
    "    @param: wordDict: A set of words.\n",
    "    @return: All possible sentences.\n",
    "    \"\"\"\n",
    "    def wordBreak(self, S, wordDict):\n",
    "        s1 = set(S)\n",
    "        s2 = set(''.join(wordDict))\n",
    "        if not s2.issuperset(s1):\n",
    "            return []\n",
    "        res = []\n",
    "        \n",
    "        def dfs(tmp, start_index):\n",
    "            if start_index == len(S):\n",
    "                res.append(' '.join(tmp))\n",
    "            for i in range(start_index, len(S)+1):\n",
    "                if start_index != i and S[start_index:i] in wordDict:\n",
    "                    dfs(tmp + [S[start_index:i]], i)\n",
    "        dfs([], 0)\n",
    "        \n",
    "        return res"
   ]
  },
  {
   "cell_type": "markdown",
   "metadata": {
    "colab_type": "text",
    "id": "v-yg-pGwO2t2"
   },
   "source": [
    "### 683. Word Break III\n",
    "Give a dictionary of words and a sentence with all whitespace removed, return the number of sentences you can form by inserting whitespaces to the sentence so that each word can be found in the dictionary.\n",
    "```\n",
    "Example\n",
    "Given a String CatMat\n",
    "Given a dictionary [\"Cat\", \"Mat\", \"Ca\", \"tM\", \"at\", \"C\", \"Dog\", \"og\", \"Do\"]\n",
    "return 3\n",
    "\n",
    "we can form 3 sentences, as follows:\n",
    "CatMat = Cat Mat\n",
    "CatMat = Ca tM at\n",
    "CatMat = C at Mat\n",
    "```"
   ]
  },
  {
   "cell_type": "code",
   "execution_count": null,
   "metadata": {
    "colab": {
     "base_uri": "https://localhost:8080/",
     "height": 35
    },
    "colab_type": "code",
    "id": "CcOOzGxPPAAN",
    "outputId": "1f35c2a4-7acd-43c0-9999-75f85e546e9c"
   },
   "outputs": [
    {
     "name": "stdout",
     "output_type": "stream",
     "text": [
      "3\n"
     ]
    }
   ],
   "source": [
    "class Solution:\n",
    "    \"\"\"\n",
    "    @param: : A string\n",
    "    @param: : A set of word\n",
    "    @return: the number of possible sentences.\n",
    "    \"\"\"\n",
    "\n",
    "    def wordBreak3_dfs(self, S, word_dict):\n",
    "        \n",
    "        self.count = 0\n",
    "        S = S.lower()\n",
    "        word_dict = set([word.lower() for word in word_dict])\n",
    "\n",
    "        def dfs(start_index, tmp):\n",
    "            if start_index == len(S):\n",
    "                self.count += 1\n",
    "\n",
    "            for i in range(start_index, len(S)):\n",
    "                if S[start_index:i+1] in word_dict:\n",
    "                    dfs(i+1, tmp +[S[start_index:i+1]])\n",
    "        \n",
    "        dfs(0, [])\n",
    "        return self.count\n",
    "    \n",
    "    def wordBreak3_dp(self, S, word_dict):\n",
    "        if len(S) == 0 or len(word_dict) == 0:\n",
    "            return 0\n",
    "        \n",
    "        dict_lower = set()\n",
    "        for word in word_dict:\n",
    "            dict_lower.add(word.lower())\n",
    "        \n",
    "        n = len(S)\n",
    "        maxLength = max([len(w) for w in word_dict])\n",
    "        \n",
    "        # define f[i]: number of sentences that S[:i] can be breaked into\n",
    "        f = [0 for _ in range(n + 1)]\n",
    "        \n",
    "        # init\n",
    "        f[0] = 1\n",
    "        \n",
    "        # function\n",
    "        for i in range(1, n + 1):\n",
    "            start_index = max(0, i - maxLength)\n",
    "            for j in range(start_index, i):\n",
    "                if f[j] and S[j:i].lower() in dict_lower:\n",
    "                    f[i] += f[j] # 这里也可以用f[i-j] 不过相应就变成S[i-j:i]\n",
    "        \n",
    "        # ans\n",
    "        return f[n]\n",
    "    \n",
    "if __name__ == \"__main__\":\n",
    "    s = Solution()\n",
    "    print s.wordBreak3_dp(S = \"Catmat\", \n",
    "        word_dict = [\"Cat\",\"mat\",\"ca\",\"tm\",\"at\",\"C\",\"Dog\",\"og\",\"Do\"])\n",
    "            \n",
    "        "
   ]
  },
  {
   "cell_type": "markdown",
   "metadata": {
    "colab_type": "text",
    "id": "IhWfnO4Dz1Kn"
   },
   "source": [
    "# Permutation DFS"
   ]
  },
  {
   "cell_type": "markdown",
   "metadata": {
    "colab_type": "text",
    "id": "w5NLlXtxlMRN"
   },
   "source": [
    "### 197. Permutation Index\n",
    "Given a permutation which contains no repeated number, find its index in all the permutations of these numbers, which are ordered in lexicographical order. The index begins at 1.\n",
    "```\n",
    "Example\n",
    "Given [1,2,4], return 1.\n",
    "```"
   ]
  },
  {
   "cell_type": "code",
   "execution_count": null,
   "metadata": {
    "colab": {
     "base_uri": "https://localhost:8080/",
     "height": 35
    },
    "colab_type": "code",
    "id": "X54jJqqHlcIC",
    "outputId": "87d2a098-44e2-4002-f2e9-7c06bfac16a2"
   },
   "outputs": [
    {
     "name": "stdout",
     "output_type": "stream",
     "text": [
      "5\n"
     ]
    }
   ],
   "source": [
    "class Solution:\n",
    "    \"\"\"\n",
    "    @param A: An array of integers\n",
    "    @return: A long integer\n",
    "    \"\"\"\n",
    "    def permutationIndex(self, A):\n",
    "        index = 1\n",
    "        for i in range(len(A)):\n",
    "            count, factor = 0, 1\n",
    "            for j in range(i+1, len(A)):\n",
    "                if A[i] > A[j]:\n",
    "                    count += 1\n",
    "            if count > 0:\n",
    "                for k in range(1, len(A)-i):\n",
    "                    factor *= k\n",
    "            index += factor * count\n",
    "        return index\n",
    "    \n",
    "if __name__ == \"__main__\":\n",
    "    s = Solution()\n",
    "    print s.permutationIndex([1,4,2,3])"
   ]
  },
  {
   "cell_type": "markdown",
   "metadata": {
    "colab_type": "text",
    "id": "QayZ8ixl3J4o"
   },
   "source": [
    "### 198. Permutation Index II\n",
    "Given a permutation which may contain repeated numbers, find its index in all the permutations of these numbers, which are ordered in lexicographical order. The index begins at 1.\n",
    "```\n",
    "Example\n",
    "Given the permutation [1, 4, 2, 2], return 3.\n",
    "```"
   ]
  },
  {
   "cell_type": "code",
   "execution_count": null,
   "metadata": {
    "colab": {
     "base_uri": "https://localhost:8080/",
     "height": 35
    },
    "colab_type": "code",
    "id": "1onVlewa4Uht",
    "outputId": "f6224ef3-352d-4730-8535-78d0cecbe06a"
   },
   "outputs": [
    {
     "name": "stdout",
     "output_type": "stream",
     "text": [
      "3\n"
     ]
    }
   ],
   "source": [
    "class Solution:\n",
    "    def permutationIndexII(self, A):\n",
    "        \n",
    "        from collections import defaultdict\n",
    "        if A is None or len(A) == 0:\n",
    "            return 0 \n",
    "        counter = defaultdict(int)\n",
    "        index, fact, multiFact = 1,1,1\n",
    "        \n",
    "        for i in range(len(A)-1, -1, -1):\n",
    "            counter[A[i]] += 1\n",
    "            multiFact *= counter[A[i]]\n",
    "            count = 0 \n",
    "            \n",
    "            for j in range(i+1, len(A)):\n",
    "                if A[i] > A[j]:\n",
    "                    count += 1\n",
    "            \n",
    "            index += count * fact / multiFact\n",
    "            fact *= len(A) - i\n",
    "        \n",
    "        return index \n",
    "    \n",
    "    \n",
    "if __name__ == \"__main__\":\n",
    "    s = Solution()\n",
    "    print s.permutationIndexII([1,4,2,2])\n",
    "                "
   ]
  },
  {
   "cell_type": "markdown",
   "metadata": {
    "colab_type": "text",
    "id": "i4BOySBN3Vv1"
   },
   "source": [
    "### 52. Next Permutation\n",
    "Given a list of integers, which denote a permutation.\n",
    "\n",
    "Find the next permutation in ascending order.\n",
    "```\n",
    "Example\n",
    "For [1,3,2,3], the next permutation is [1,3,3,2]\n",
    "\n",
    "For [4,3,2,1], the next permutation is [1,2,3,4]\n",
    "```\n",
    "notes:\n",
    "1. 找到右起第一个<关系的 i， nums[i] < nums[i+1]\n",
    "2. 找到右起第一个大于这个nums[i]的nums[j]， 互换\n",
    "3. 对调i+1到end部分"
   ]
  },
  {
   "cell_type": "code",
   "execution_count": null,
   "metadata": {
    "colab": {
     "base_uri": "https://localhost:8080/",
     "height": 52
    },
    "colab_type": "code",
    "id": "vlN7Sgxz3Y_z",
    "outputId": "89dd860f-f742-4511-83d4-7bcb30f73e18"
   },
   "outputs": [
    {
     "name": "stdout",
     "output_type": "stream",
     "text": [
      "[2, 3, 1]\n",
      "[2, 1, 3]\n"
     ]
    }
   ],
   "source": [
    "class Solution:\n",
    "    \"\"\"\n",
    "    @param nums: A list of integers\n",
    "    @return: A list of integers\n",
    "    \"\"\"\n",
    "    def nextPermutation(self, nums):\n",
    "        if nums is None or len(nums) == 0:\n",
    "            return nums\n",
    "        n = len(nums)        \n",
    "        for i in range(n-2, -1, -1):\n",
    "            if nums[i] < nums[i+1]:\n",
    "                break\n",
    "        else:\n",
    "            nums.reverse()\n",
    "            return nums\n",
    "        \n",
    "        # find the first element larger than i\n",
    "        for j in range(n-1, i, -1):\n",
    "            if nums[j] > nums[i]:\n",
    "                nums[i], nums[j] = nums[j], nums[i]\n",
    "                break\n",
    "        \n",
    "        nums[i+1:] = reversed(nums[i+1:])\n",
    "        return nums\n",
    "        \n",
    "if __name__ == \"__main__\":\n",
    "    s = Solution()\n",
    "    print s.nextPermutation([1,3,2])"
   ]
  },
  {
   "cell_type": "code",
   "execution_count": null,
   "metadata": {
    "colab": {
     "base_uri": "https://localhost:8080/",
     "height": 35
    },
    "colab_type": "code",
    "id": "-zHNcZcJbuig",
    "outputId": "a065d07d-a0c3-40d5-92cb-d3593635d245"
   },
   "outputs": [
    {
     "data": {
      "text/plain": [
       "[0, 4, 3, 2, 1, 5, 6, 7, 8, 9]"
      ]
     },
     "execution_count": 1,
     "metadata": {
      "tags": []
     },
     "output_type": "execute_result"
    }
   ],
   "source": [
    "nums = range(10)\n",
    "nums[1:5] = reversed(nums[1:5])\n",
    "nums"
   ]
  },
  {
   "cell_type": "markdown",
   "metadata": {
    "colab_type": "text",
    "id": "u88G0HPr3Zac"
   },
   "source": [
    "### 190. Next Permutation II\n",
    "Implement next permutation, which rearranges numbers into the lexicographically next greater permutation of numbers.\n",
    "\n",
    "If such arrangement is not possible, it must rearrange it as the lowest possible order (ie, sorted in ascending order).\n",
    "```\n",
    "Example\n",
    "Here are some examples. Inputs are in the left-hand column and its corresponding outputs are in the right-hand column.\n",
    "\n",
    "1,2,3 → 1,3,2\n",
    "\n",
    "3,2,1 → 1,2,3\n",
    "\n",
    "1,1,5 → 1,5,1\n",
    "\n",
    "Challenge\n",
    "The replacement must be in-place, do not allocate extra memory.\n",
    "```"
   ]
  },
  {
   "cell_type": "code",
   "execution_count": null,
   "metadata": {
    "colab": {
     "base_uri": "https://localhost:8080/",
     "height": 35
    },
    "colab_type": "code",
    "id": "4VYYAmkw36pV",
    "outputId": "334e4028-7460-4c41-df33-9e099f9c45ab"
   },
   "outputs": [
    {
     "name": "stdout",
     "output_type": "stream",
     "text": [
      "[2, 1, 3]\n"
     ]
    }
   ],
   "source": [
    "class Solution:\n",
    "    \"\"\"\n",
    "    @param nums: A list of integers\n",
    "    @return: A list of integers\n",
    "    \"\"\"\n",
    "    def nextPermutation(self, nums):\n",
    "        if nums is None or len(nums) == 0:\n",
    "            return nums\n",
    "        n = len(nums)        \n",
    "        for i in range(n-2, -1, -1):\n",
    "            if nums[i] < nums[i+1]:\n",
    "                break\n",
    "        else:\n",
    "            nums.reverse()\n",
    "            return nums\n",
    "        \n",
    "        # find the first element larger than i\n",
    "        for j in range(n-1, i, -1):\n",
    "            if nums[j] > nums[i]:\n",
    "                nums[i], nums[j] = nums[j], nums[i]\n",
    "                break\n",
    "        \n",
    "        self.reverse(nums, i+1, n-1)\n",
    "        \n",
    "        return nums\n",
    "    \n",
    "    def reverse(self, nums, start, end):\n",
    "        while start < end:\n",
    "            nums[start], nums[end] = nums[end], nums[start]\n",
    "            start += 1\n",
    "            end -= 1 \n",
    "        \n",
    "if __name__ == \"__main__\":\n",
    "    s = Solution()\n",
    "    print s.nextPermutation([1,3,2])"
   ]
  },
  {
   "cell_type": "markdown",
   "metadata": {
    "colab_type": "text",
    "id": "-0g3tP1G3fic"
   },
   "source": [
    "### 51. Previous Permutation\n",
    "Given a list of integers, which denote a permutation.\n",
    "\n",
    "Find the previous permutation in ascending order.\n",
    "```\n",
    "Example\n",
    "For [1,3,2,3], the previous permutation is [1,2,3,3]\n",
    "\n",
    "For [1,2,3,4], the previous permutation is [4,3,2,1]\n",
    "```"
   ]
  },
  {
   "cell_type": "code",
   "execution_count": null,
   "metadata": {
    "colab": {
     "base_uri": "https://localhost:8080/",
     "height": 35
    },
    "colab_type": "code",
    "id": "4PIKT8Us35nV",
    "outputId": "b65e3e56-819f-4b27-9cd7-73999dc1b42a"
   },
   "outputs": [
    {
     "name": "stdout",
     "output_type": "stream",
     "text": [
      "[1, 2, 3]\n"
     ]
    }
   ],
   "source": [
    "class Solution:\n",
    "    \"\"\"\n",
    "    param: nums: A list of integers\n",
    "    @return: A list of integers that's previous permuation\n",
    "    \"\"\"\n",
    "    def previousPermuation(self, nums):\n",
    "        if nums is None or len(nums) == 0:\n",
    "            return nums\n",
    "        n = len(nums)        \n",
    "        for i in range(n-2, -1, -1):\n",
    "            if nums[i] > nums[i+1]:\n",
    "                break\n",
    "        else:\n",
    "            nums.reverse()\n",
    "            return nums\n",
    "        \n",
    "        # find the first element larger than i\n",
    "        for j in range(n-1, i, -1):\n",
    "            if nums[j] < nums[i]:\n",
    "                nums[i], nums[j] = nums[j], nums[i]\n",
    "                break\n",
    "        \n",
    "        self.reverse(nums, i+1, n-1)\n",
    "        \n",
    "        return nums\n",
    "    \n",
    "    def reverse(self, nums, start, end):\n",
    "        while start < end:\n",
    "            nums[start], nums[end] = nums[end], nums[start]\n",
    "            start += 1\n",
    "            end -= 1 \n",
    "\n",
    "if __name__ == \"__main__\":\n",
    "    s = Solution()\n",
    "    print s.previousPermuation([1,3,2])"
   ]
  },
  {
   "cell_type": "markdown",
   "metadata": {
    "colab_type": "text",
    "id": "CTaWeMeNkr3Z"
   },
   "source": [
    "### 862. Next Closest Time\n",
    "Given a time represented in the format \"HH:MM\", form the next closest time by reusing the current digits. There is no limit on how many times a digit can be reused.\n",
    "\n",
    "You may assume the given input string is always valid. For example, \"01:34\", \"12:09\" are all valid. \"1:34\", \"12:9\" are all invalid.\n",
    "```\n",
    "Example\n",
    "Given time = \"19:34\", return \"19:39\".\n",
    "\n",
    "Explanation: \n",
    "The next closest time choosing from digits 1, 9, 3, 4, is 19:39, which occurs 5 minutes later.  It is not 19:33, because this occurs 23 hours and 59 minutes later.\n",
    "Given time = \"23:59\", return \"22:22\".\n",
    "\n",
    "Explanation: \n",
    "The next closest time choosing from digits 2, 3, 5, 9, is 22:22. It may be assumed that the returned time is next day's time since it is smaller than the input time numerically.\n",
    "```"
   ]
  },
  {
   "cell_type": "code",
   "execution_count": null,
   "metadata": {
    "colab": {},
    "colab_type": "code",
    "id": "ImJlkKgRk0bN"
   },
   "outputs": [],
   "source": [
    "class Solution:\n",
    "    \"\"\"\n",
    "    @param time: the given time\n",
    "    @return: the next closest time\n",
    "    \"\"\"\n",
    "    def nextClosestTime(self, time):\n",
    "        h, m = time.split(\":\")\n",
    "        curr = int(h) * 60 + int(m)  # æ¢ç®æåéæ°\n",
    "        result = None\n",
    "        for i in range(curr+1, curr+1441):\n",
    "            t = i % 1440 # modå¾å°å½å¤©çåéæ°\n",
    "            h, m = t // 60, t % 60 \n",
    "            result = \"%02d:%02d\" % (h, m)\n",
    "            if set(result) <= set(time): # åªå°resultéçå",
    "ç´ ä¸ªæ°å°äºç­äºåæ¶é´ï¼è¯´ææ²¡æç¨å°é¢å¤çå",
    "ç´ \n",
    "                break\n",
    "        return result"
   ]
  },
  {
   "cell_type": "markdown",
   "metadata": {
    "colab_type": "text",
    "id": "5ZgiPsUHlFRk"
   },
   "source": [
    "### 425. Letter Combinations of a Phone Number\n",
    "Given a digit string excluded 01, return all possible letter combinations that the number could represent.\n",
    "\n",
    "A mapping of digit to letters (just like on the telephone buttons) is given below.\n",
    "\n",
    "Cellphone\n",
    "![alt text](https://lintcode-media.s3.amazonaws.com/problem/200px-Telephone-keypad2.svg.png)\n",
    "```\n",
    "Example\n",
    "Given \"23\"\n",
    "\n",
    "Return [\"ad\", \"ae\", \"af\", \"bd\", \"be\", \"bf\", \"cd\", \"ce\", \"cf\"]\n",
    "```"
   ]
  },
  {
   "cell_type": "code",
   "execution_count": null,
   "metadata": {
    "colab": {},
    "colab_type": "code",
    "id": "4RXSWz7ClP7h"
   },
   "outputs": [],
   "source": [
    "class Solution(object):\n",
    "    def letterCombinations(self, digits):\n",
    "        \"\"\"\n",
    "        :type digits: str\n",
    "        :rtype: List[str]\n",
    "        \"\"\"\n",
    "        res=[]\n",
    "        if not digits: return res\n",
    "        res.append(\"\")\n",
    "        mp = ['0','1','abc','def','ghi','jkl','mno','pqrs','tuv','wxyz']\n",
    "        for c in digits:\n",
    "            tmp = []\n",
    "            for x in res:\n",
    "                for y in mp[int(c)]:\n",
    "                    tmp.append(x+y)\n",
    "            res=tmp        \n",
    "        return res\n",
    "            "
   ]
  },
  {
   "cell_type": "markdown",
   "metadata": {
    "colab_type": "text",
    "id": "YruwFstBmJ-a"
   },
   "source": [
    "### 211. String Permutation\n",
    "Given two strings, write a method to decide if one is a permutation of the other.\n",
    "```\n",
    "Example\n",
    "abcd is a permutation of bcad, but abbe is not a permutation of abe\n",
    "```"
   ]
  },
  {
   "cell_type": "code",
   "execution_count": null,
   "metadata": {
    "colab": {},
    "colab_type": "code",
    "id": "TbURE9mlmUx8"
   },
   "outputs": [],
   "source": [
    "class Solution:\n",
    "    \"\"\"\n",
    "    @param A: a string\n",
    "    @param B: a string\n",
    "    @return: a boolean\n",
    "    \"\"\"\n",
    "    def Permutation(self, A, B):\n",
    "        from collections import Counter\n",
    "        return Counter(A) == Counter(B)"
   ]
  },
  {
   "cell_type": "markdown",
   "metadata": {
    "colab_type": "text",
    "id": "2mUrGuyalW2p"
   },
   "source": [
    "### 10. String Permutation II\n",
    "Given a string, find all permutations of it without duplicates.\n",
    "```\n",
    "Example\n",
    "Given \"abb\", return [\"abb\", \"bab\", \"bba\"].\n",
    "\n",
    "Given \"aabb\", return [\"aabb\", \"abab\", \"baba\", \"bbaa\", \"abba\", \"baab\"].\n",
    "```"
   ]
  },
  {
   "cell_type": "code",
   "execution_count": null,
   "metadata": {
    "colab": {},
    "colab_type": "code",
    "id": "7tI7YdrRlYqw"
   },
   "outputs": [],
   "source": [
    "class Solution:\n",
    "    \"\"\"\n",
    "    @param str: A string\n",
    "    @return: all permutations\n",
    "    \"\"\"\n",
    "    def stringPermutation2(self, S):\n",
    "        if S is None:\n",
    "            return []\n",
    "        if S is []:\n",
    "            return [[]]\n",
    "            \n",
    "        def dfs(tmp, s):\n",
    "            if s is '':\n",
    "                res.append(tmp)\n",
    "                return\n",
    "            else:\n",
    "                for i in range(len(s)):\n",
    "                    if 0 < i < len(s) and s[i] == s[i-1]:\n",
    "                        continue\n",
    "                    dfs(tmp + s[i], s[:i] + s[i+1:])\n",
    "                    #dfs(s[i] + tmp, s[:i] + s[i+1:])\n",
    "        \n",
    "        res = []\n",
    "        dfs('', ''.join(sorted(S)))\n",
    "        return res"
   ]
  },
  {
   "cell_type": "markdown",
   "metadata": {
    "colab_type": "text",
    "id": "GGnqQzPXljCf"
   },
   "source": [
    "### 33. N-Queens\n",
    "The n-queens puzzle is the problem of placing n queens on an n×n chessboard such that no two queens attack each other.\n",
    "\n",
    "Given an integer n, return all distinct solutions to the n-queens puzzle.\n",
    "\n",
    "Each solution contains a distinct board configuration of the n-queens' placement, where 'Q' and '.' both indicate a queen and an empty space respectively.\n",
    "```\n",
    "Example\n",
    "There exist two distinct solutions to the 4-queens puzzle:\n",
    "\n",
    "[\n",
    "  // Solution 1\n",
    "  [\".Q..\",\n",
    "   \"...Q\",\n",
    "   \"Q...\",\n",
    "   \"..Q.\"\n",
    "  ],\n",
    "  // Solution 2\n",
    "  [\"..Q.\",\n",
    "   \"Q...\",\n",
    "   \"...Q\",\n",
    "   \".Q..\"\n",
    "  ]\n",
    "]\n",
    "Challenge\n",
    "Can you do it without recursion?\n",
    "```"
   ]
  },
  {
   "cell_type": "code",
   "execution_count": null,
   "metadata": {
    "colab": {},
    "colab_type": "code",
    "id": "VY8y0BxVlq6v"
   },
   "outputs": [],
   "source": [
    "class Solution:\n",
    "    \"\"\"\n",
    "    Get all distinct N-Queen solutions\n",
    "    @param n: The number of queens\n",
    "    @return: All distinct solutions\n",
    "    \"\"\"\n",
    "    def solveNQueens(self, n):\n",
    "        \n",
    "        if n<=0:\n",
    "            return []\n",
    "        N = n\n",
    "        #########################################################\n",
    "        NQueens = [0]*N \n",
    "        \n",
    "        NQ = []\n",
    "        def check_pos_valid(loop,value):\n",
    "            index = 0\n",
    "            data = 0\n",
    "            for index in xrange(loop):\n",
    "                data = NQueens[index]\n",
    "                if value == data:\n",
    "                    return 0\n",
    "                if index+data == loop+value:\n",
    "                    return 0\n",
    "                if index-data == loop-value:\n",
    "                    return 0\n",
    "            return 1\n",
    "        def N_queens(index,NQueens):\n",
    "            \n",
    "            for loop in xrange(N):\n",
    "                if check_pos_valid(index,loop)==1:\n",
    "                    NQueens[index] = loop\n",
    "                    if N-1 == index:\n",
    "                        \n",
    "                        NQ.append(list(NQueens))\n",
    "                        NQueens = map(lambda x:0, NQueens)\n",
    "                        return \n",
    "                    N_queens(index+1,NQueens)\n",
    "                    NQueens[index] = 0 \n",
    "        N_queens(0,NQueens)\n",
    "        \n",
    "        #########################################################\n",
    "        sample = \".\"*n\n",
    "        \n",
    "        sol = []\n",
    "        for nq in NQ:\n",
    "            ans = []\n",
    "            for i in xrange(len(nq)):\n",
    "                k=nq[i]\n",
    "                ans.append(sample[:k]+'Q'+sample[k+1:])\n",
    "            sol.append(ans)\n",
    "        \n",
    "        return sol\n"
   ]
  },
  {
   "cell_type": "markdown",
   "metadata": {
    "colab_type": "text",
    "id": "TaT8vF3claeX"
   },
   "source": [
    "### 34. N-Queens II\n",
    "Follow up for N-Queens problem.\n",
    "\n",
    "Now, instead outputting board configurations, return the total number of distinct solutions.\n",
    "```\n",
    "Example\n",
    "For n=4, there are 2 distinct solutions.\n",
    "```"
   ]
  },
  {
   "cell_type": "code",
   "execution_count": null,
   "metadata": {
    "colab": {},
    "colab_type": "code",
    "id": "in-vLPZFldsJ"
   },
   "outputs": [],
   "source": [
    "class Solution:\n",
    "    \"\"\"\n",
    "    Get all distinct N-Queen solutions\n",
    "    @param n: The number of queens\n",
    "    @return: All distinct solutions\n",
    "    \"\"\"\n",
    "    def totalNQueens(self, n):\n",
    "        \n",
    "        if n<=0:\n",
    "            return []\n",
    "        N = n\n",
    "        #########################################################\n",
    "        NQueens = [0]*N \n",
    "        Count = 0\n",
    "        NQ = []\n",
    "        def check_pos_valid(loop,value):\n",
    "            index = 0\n",
    "            data = 0\n",
    "            for index in xrange(loop):\n",
    "                data = NQueens[index]\n",
    "                if value == data:\n",
    "                    return 0\n",
    "                if index+data == loop+value:\n",
    "                    return 0\n",
    "                if index-data == loop-value:\n",
    "                    return 0\n",
    "            return 1\n",
    "        def N_queens(index,NQueens):\n",
    "            \n",
    "            for loop in xrange(N):\n",
    "                if check_pos_valid(index,loop)==1:\n",
    "                    NQueens[index] = loop\n",
    "                    if N-1 == index:\n",
    "                        \n",
    "                        NQ.append(list(NQueens))\n",
    "                        NQueens = map(lambda x:0, NQueens)\n",
    "                        return \n",
    "                    N_queens(index+1,NQueens)\n",
    "                    NQueens[index] = 0 \n",
    "        N_queens(0,NQueens)\n",
    "        \n",
    "        #########################################################\n",
    "        sample = \".\"*n\n",
    "        \n",
    "        sol = []\n",
    "        for nq in NQ:\n",
    "            ans = []\n",
    "            for i in xrange(len(nq)):\n",
    "                k=nq[i]\n",
    "                ans.append(sample[:k]+'Q'+sample[k+1:])\n",
    "            sol.append(ans)\n",
    "        \n",
    "        return len(sol)\n",
    " "
   ]
  },
  {
   "cell_type": "markdown",
   "metadata": {
    "colab_type": "text",
    "id": "RK37TTZRl4z1"
   },
   "source": [
    "### 15. Permutations\n",
    "Given a list of numbers, return all possible permutations.\n",
    "```\n",
    "Example\n",
    "For nums = [1,2,3], the permutations are:\n",
    "\n",
    "[\n",
    "  [1,2,3],\n",
    "  [1,3,2],\n",
    "  [2,1,3],\n",
    "  [2,3,1],\n",
    "  [3,1,2],\n",
    "  [3,2,1]\n",
    "]\n",
    "Challenge\n",
    "Do it without recursion.\n",
    "```"
   ]
  },
  {
   "cell_type": "code",
   "execution_count": null,
   "metadata": {
    "colab": {},
    "colab_type": "code",
    "id": "3tq_GBCQl8wm"
   },
   "outputs": [],
   "source": [
    "class Solution:\n",
    "    \"\"\"\n",
    "    @param nums: A list of Integers.\n",
    "    @return: A list of permutations.\n",
    "    \"\"\"\n",
    "    def permute1(self, nums):\n",
    "        L  = []\n",
    "        if (nums == None or len(nums)==0):\n",
    "            return L\n",
    "        if(len(nums)==1):\n",
    "            L.append(nums)\n",
    "            return L\n",
    "        for i in range(len(nums)):\n",
    "            nums_cpy = list(nums)\n",
    "            num = nums[i]\n",
    "            del nums_cpy[i]\n",
    "            L2 = self.permute(nums_cpy)\n",
    "            for l2 in L2:\n",
    "                l2.insert(0,num)\n",
    "            L = L + L2\n",
    "        return L        \n",
    "    \n",
    "    def permute(self, S):\n",
    "        res = []\n",
    "        def dfs(tmp, index):\n",
    "            if len(tmp) == len(S):\n",
    "                res.append(tmp)\n",
    "                return \n",
    "            for i in range(len(S)):\n",
    "                if S[i] in tmp:\n",
    "                    continue\n",
    "                dfs(tmp + [S[i]], i+1)\n",
    "        dfs([], 0)\n",
    "        return res"
   ]
  },
  {
   "cell_type": "markdown",
   "metadata": {
    "colab_type": "text",
    "id": "YTWh_cFJlhCu"
   },
   "source": [
    "### 16. Permutations II\n",
    "Given a list of numbers with duplicate number in it. Find all unique permutations.\n",
    "```\n",
    "Example\n",
    "For numbers [1,2,2] the unique permutations are:\n",
    "\n",
    "[\n",
    "  [1,2,2],\n",
    "  [2,1,2],\n",
    "  [2,2,1]\n",
    "]\n",
    "Challenge\n",
    "Using recursion to do it is acceptable. If you can do it without recursion, that would be great!\n",
    "```"
   ]
  },
  {
   "cell_type": "code",
   "execution_count": null,
   "metadata": {
    "colab": {},
    "colab_type": "code",
    "id": "-totR1a5l0ve"
   },
   "outputs": [],
   "source": [
    "class Solution:\n",
    "    \"\"\"\n",
    "    @param nums: A list of Integers.\n",
    "    @return: A list of permutations.\n",
    "    \"\"\"\n",
    "    def permuteUnique(self, S):\n",
    "        res = []\n",
    "        S = sorted(S)\n",
    "    \n",
    "        def dfs(tmp, s):\n",
    "            if len(s) == 0:\n",
    "                res.append(tmp)\n",
    "                return\n",
    "            for i in range(len(s)):\n",
    "                if 0 < i < len(s) and s[i] == s[i-1]:\n",
    "                    continue\n",
    "                dfs(tmp + [s[i]], s[:i] + s[i+1:])\n",
    "                    \n",
    "        dfs([], S)\n",
    "        \n",
    "        return res"
   ]
  },
  {
   "cell_type": "markdown",
   "metadata": {
    "colab_type": "text",
    "id": "32aoqktIrfFD"
   },
   "source": [
    "### 828. Word Pattern\n",
    "Given a pattern and a string str, find if str follows the same pattern.\n",
    "\n",
    "Here follow means a full match, such that there is a bijection between a letter in pattern and a non-empty word in str.\n",
    "```\n",
    "Example\n",
    "Given pattern = \"abba\", str = \"dog cat cat dog\", return true.\n",
    "Given pattern = \"abba\", str = \"dog cat cat fish\", return false.\n",
    "Given pattern = \"aaaa\", str = \"dog cat cat dog\", return false.\n",
    "Given pattern = \"abba\", str = \"dog dog dog dog\", return false\n",
    "```"
   ]
  },
  {
   "cell_type": "code",
   "execution_count": null,
   "metadata": {
    "colab": {
     "base_uri": "https://localhost:8080/",
     "height": 52
    },
    "colab_type": "code",
    "id": "5lr3Mk6MrjcD",
    "outputId": "c3aff109-610d-4cca-918e-a1f6a4b2ad9c"
   },
   "outputs": [
    {
     "name": "stdout",
     "output_type": "stream",
     "text": [
      "False\n",
      "False\n"
     ]
    }
   ],
   "source": [
    "class Solution:\n",
    "    \"\"\"\n",
    "    @param pattern: a string, denote pattern string\n",
    "    @param str: a string, denote matching string\n",
    "    @return: an boolean, denote whether the pattern string and the matching string match or not\n",
    "    \"\"\"\n",
    "    def wordPattern(self, pattern, Str):\n",
    "        words = Str.split(' ')\n",
    "        match = {}\n",
    "        rmatch = {}\n",
    "        for i in range(len(words)):\n",
    "            word = words[i]\n",
    "            ch = pattern[i]\n",
    "            if ch not in match:\n",
    "                match[ch] = word\n",
    "            if word not in rmatch:\n",
    "                rmatch[word] = ch\n",
    "            if len(match) != len(rmatch):\n",
    "                return False\n",
    "                \n",
    "        return True\n",
    "    \n",
    "if __name__ == \"__main__\":\n",
    "    s = Solution()\n",
    "    print s.wordPattern('abba', 'dog dog dog dog')\n",
    "    print s.wordPattern('aa', 'bog bod')\n",
    "    "
   ]
  },
  {
   "cell_type": "code",
   "execution_count": null,
   "metadata": {
    "colab": {
     "base_uri": "https://localhost:8080/",
     "height": 35
    },
    "colab_type": "code",
    "id": "wRFqFMvcuHRm",
    "outputId": "e444bb83-08ad-477b-96c3-aba0dd7dbabb"
   },
   "outputs": [
    {
     "data": {
      "text/plain": [
       "list"
      ]
     },
     "execution_count": 5,
     "metadata": {
      "tags": []
     },
     "output_type": "execute_result"
    }
   ],
   "source": [
    "d = {'1': 'one', '3': 'three', '2': 'two', '5': 'five', '4': 'four'}\n",
    "type(d.values())"
   ]
  },
  {
   "cell_type": "markdown",
   "metadata": {
    "colab_type": "text",
    "id": "nJFFaBUA3owm"
   },
   "source": [
    "### 829. Word Pattern II\n",
    "Given a pattern and a string str, find if str follows the same pattern.\n",
    "\n",
    "Here follow means a full match, such that there is a bijection between a letter in pattern and a non-empty substring in str.(i.e if a corresponds to s, then b cannot correspond to s. For example, given pattern = \"ab\", str = \"ss\", return false.)\n",
    "```\n",
    "Example\n",
    "Given pattern = \"abab\", str = \"redblueredblue\", return true.\n",
    "Given pattern = \"aaaa\", str = \"asdasdasdasd\", return true.\n",
    "Given pattern = \"aabb\", str = \"xyzabcxzyabc\", return false.\n",
    "```"
   ]
  },
  {
   "cell_type": "code",
   "execution_count": null,
   "metadata": {
    "colab": {},
    "colab_type": "code",
    "id": "3xvsTD-P5fK5"
   },
   "outputs": [],
   "source": [
    "class Solution:\n",
    "    \"\"\"\n",
    "    @param pattern: a string,denote pattern string\n",
    "    @param str: a string, denote matching string\n",
    "    @return: a boolean\n",
    "    \"\"\"\n",
    "    def wordPatternMatch(self, pattern, str):\n",
    "        ptn_dic = {}\n",
    "      \n",
    "        def dfs_is_matched(ptn, s):\n",
    "#            print ptn, s, ptn_dic\n",
    "            if len(ptn) == 0:\n",
    "                return len(s) == 0\n",
    "            \n",
    "            c = ptn[0] \n",
    "            if c in ptn_dic:\n",
    "                if not s.startswith(ptn_dic[c]):\n",
    "                    return False # existing pattern not matching\n",
    "                \n",
    "                l_of_ptn = len(ptn_dic[c])\n",
    "                return dfs_is_matched(ptn[1:], s[l_of_ptn:])\n",
    "            \n",
    "            for i in range(len(s)): \n",
    "                word = s[0:i+1]\n",
    "                if word in ptn_dic.values():\n",
    "                    continue\n",
    "                \n",
    "                ptn_dic[c] = word\n",
    "                if dfs_is_matched(ptn[1:], s[i+1:]):\n",
    "                    return True\n",
    "                ptn_dic.pop(c)\n",
    "            \n",
    "            return False\n",
    "        \n",
    "        return dfs_is_matched(pattern, str)"
   ]
  },
  {
   "cell_type": "markdown",
   "metadata": {
    "colab_type": "text",
    "id": "x-f8VV0InC3p"
   },
   "source": [
    "### 123. Word Search\n",
    "Given a 2D board and a word, find if the word exists in the grid.\n",
    "\n",
    "The word can be constructed from letters of sequentially adjacent cell, where \"adjacent\" cells are those horizontally or vertically neighboring. The same letter cell may not be used more than once.\n",
    "```\n",
    "Example\n",
    "Given board =\n",
    "\n",
    "[\n",
    "  \"ABCE\",\n",
    "  \"SFCS\",\n",
    "  \"ADEE\"\n",
    "]\n",
    "word = \"ABCCED\", -> returns true,\n",
    "word = \"SEE\", -> returns true,\n",
    "word = \"ABCB\", -> returns false.\n",
    "```"
   ]
  },
  {
   "cell_type": "code",
   "execution_count": null,
   "metadata": {
    "colab": {
     "base_uri": "https://localhost:8080/",
     "height": 34
    },
    "colab_type": "code",
    "id": "5wQYuLqCnIWR",
    "outputId": "4d9aa63f-5590-490c-de64-4670f51d4744"
   },
   "outputs": [
    {
     "name": "stdout",
     "output_type": "stream",
     "text": [
      "True\n"
     ]
    }
   ],
   "source": [
    "class Solution:\n",
    "    \"\"\"\n",
    "    @param: board: A list of lists of character\n",
    "    @param: word: A string\n",
    "    @return: A boolean\n",
    "    \"\"\"\n",
    "    def exist(self, board, word):\n",
    "        if len(word) == 0:\n",
    "            return True\n",
    "        m, n = len(board), len(board[0])\n",
    "        if m == 0 or n == 0:\n",
    "            return False\n",
    "        # Visited Matrix\n",
    "        visited = [[False for j in range(n)] for i in range(m)]\n",
    "        # DFS\n",
    "        for i in range(m):\n",
    "            for j in range(n):\n",
    "                if self.dfs(board, word, visited, i, j):\n",
    "                    return True\n",
    "        return False\n",
    "\n",
    "\n",
    "    def dfs(self, board, word, visited, row, col):\n",
    "        if word == '':\n",
    "            return True\n",
    "        m, n = len(board), len(board[0])\n",
    "        if row < 0 or row >= m or col < 0 or col >= n:\n",
    "            return False\n",
    "        if board[row][col] == word[0] and not visited[row][col]:\n",
    "            visited[row][col] = True\n",
    "            # row -+ 1, col -+ 1\n",
    "            if self.dfs(board, word[1:], visited, row - 1, col) \\\n",
    "            or self.dfs(board, word[1:], visited, row, col - 1) \\\n",
    "            or self.dfs(board, word[1:], visited, row + 1, col) \\\n",
    "            or self.dfs(board, word[1:], visited, row, col + 1):\n",
    "                return True\n",
    "            else:\n",
    "                visited[row][col] = False\n",
    "\n",
    "\n",
    "if __name__ == \"__main__\":\n",
    "    test_case = [\n",
    "                 \"ABCE\",\n",
    "                 \"SFCS\",\n",
    "                 \"ADEE\"\n",
    "                ]\n",
    "    print ( Solution().exist(test_case, 'SEE') )\n",
    "\n"
   ]
  },
  {
   "cell_type": "markdown",
   "metadata": {
    "colab_type": "text",
    "id": "frBf69gO3oXR"
   },
   "source": [
    "### 132. Word Search II\n",
    "Given a matrix of lower alphabets and a dictionary. Find all words in the dictionary that can be found in the matrix. A word can start from any position in the matrix and go left/right/up/down to the adjacent position. One character only be used once in one word.\n",
    "```\n",
    "Example\n",
    "Given matrix:\n",
    "\n",
    "doaf\n",
    "agai\n",
    "dcan\n",
    "and dictionary:\n",
    "\n",
    "{\"dog\", \"dad\", \"dgdg\", \"can\", \"again\"}\n",
    "\n",
    "return {\"dog\", \"dad\", \"can\", \"again\"}\n",
    "\n",
    "\n",
    "dog:\n",
    "doaf\n",
    "agai\n",
    "dcan\n",
    "dad:\n",
    "\n",
    "doaf\n",
    "agai\n",
    "dcan\n",
    "can:\n",
    "\n",
    "doaf\n",
    "agai\n",
    "dcan\n",
    "again:\n",
    "\n",
    "doaf\n",
    "agai\n",
    "dcan\n",
    "Challenge\n",
    "Using trie to implement your algorithm.\n",
    "```"
   ]
  },
  {
   "cell_type": "code",
   "execution_count": null,
   "metadata": {
    "colab": {
     "base_uri": "https://localhost:8080/",
     "height": 34
    },
    "colab_type": "code",
    "id": "KiFC4D4c5jQL",
    "outputId": "dd546870-f68c-401a-dbb0-c6ebf70fecf8"
   },
   "outputs": [
    {
     "name": "stdout",
     "output_type": "stream",
     "text": [
      "['dog', 'dad', 'can', 'again']\n"
     ]
    }
   ],
   "source": [
    "class Solution:\n",
    "    \"\"\"\n",
    "    @param: board: A list of lists of character\n",
    "    @param: word: A string\n",
    "    @return: A boolean\n",
    "    \"\"\"\n",
    "    def exist(self, board, word):\n",
    "        if len(word) == 0:\n",
    "            return True\n",
    "        m, n = len(board), len(board[0])\n",
    "        if m == 0 or n == 0:\n",
    "            return False\n",
    "        # Visited Matrix\n",
    "        visited = [[False for j in range(n)] for i in range(m)]\n",
    "        # DFS\n",
    "        for i in range(m):\n",
    "            for j in range(n):\n",
    "                if self.dfs(board, word, visited, i, j):\n",
    "                    return True\n",
    "        return False\n",
    "\n",
    "\n",
    "    def dfs(self, board, word, visited, row, col):\n",
    "        if word == '':\n",
    "            return True\n",
    "        m, n = len(board), len(board[0])\n",
    "        if row < 0 or row >= m or col < 0 or col >= n:\n",
    "            return False\n",
    "        if board[row][col] == word[0] and not visited[row][col]:\n",
    "            visited[row][col] = True\n",
    "            # row -+ 1, col -+ 1\n",
    "            if self.dfs(board, word[1:], visited, row - 1, col) \\\n",
    "            or self.dfs(board, word[1:], visited, row, col - 1) \\\n",
    "            or self.dfs(board, word[1:], visited, row + 1, col) \\\n",
    "            or self.dfs(board, word[1:], visited, row, col + 1):\n",
    "                return True\n",
    "            else:\n",
    "                visited[row][col] = False\n",
    "\n",
    "\n",
    "    def wordSearchII(self, board, words):\n",
    "        ans = []\n",
    "        for word in words:\n",
    "            if self.exist(board, word):\n",
    "                ans.append(word)\n",
    "        return ans\n",
    "\n",
    "if __name__ == \"__main__\":\n",
    "    test_case = [\"doaf\",\"agai\",\"dcan\"]\n",
    "    words = [\"dog\", \"dad\", \"dgdg\", \"can\", \"again\"]\n",
    "    #print(Solution().exist(test_case, 'SEE'))\n",
    "    print(Solution().wordSearchII(test_case, words))"
   ]
  },
  {
   "cell_type": "markdown",
   "metadata": {
    "colab_type": "text",
    "id": "0lGiRe1k7uuG"
   },
   "source": [
    "### Word Ladder I \n",
    "\n",
    "Given two words (beginWord and endWord), and a dictionary's word list, find the length of shortest transformation sequence from beginWord to endWord, such that:\n",
    "\n",
    "Only one letter can be changed at a time.\n",
    "Each transformed word must exist in the word list. Note that beginWord is not a transformed word.\n",
    "Note:\n",
    "\n",
    "Return 0 if there is no such transformation sequence.\n",
    "All words have the same length.\n",
    "All words contain only lowercase alphabetic characters.\n",
    "You may assume no duplicates in the word list.\n",
    "You may assume beginWord and endWord are non-empty and are not the same.\n",
    "```\n",
    "Example 1:\n",
    "\n",
    "Input:\n",
    "beginWord = \"hit\",\n",
    "endWord = \"cog\",\n",
    "wordList = [\"hot\",\"dot\",\"dog\",\"lot\",\"log\",\"cog\"]\n",
    "\n",
    "Output: 5\n",
    "\n",
    "Explanation: As one shortest transformation is \"hit\" -> \"hot\" -> \"dot\" -> \"dog\" -> \"cog\",\n",
    "return its length 5.\n",
    "Example 2:\n",
    "\n",
    "Input:\n",
    "beginWord = \"hit\"\n",
    "endWord = \"cog\"\n",
    "wordList = [\"hot\",\"dot\",\"dog\",\"lot\",\"log\"]\n",
    "\n",
    "Output: 0\n",
    "\n",
    "Explanation: The endWord \"cog\" is not in wordList, therefore no possible transformation.\n",
    "```\n",
    "\n",
    "notes:\n",
    "1. resolved by bfs, shortest path problem"
   ]
  },
  {
   "cell_type": "code",
   "execution_count": null,
   "metadata": {
    "colab": {},
    "colab_type": "code",
    "id": "Ib6IoEk874Pt"
   },
   "outputs": [],
   "source": [
    "class Solution:\n",
    "    \"\"\"\n",
    "    @param: start: a string\n",
    "    @param: end: a string\n",
    "    @param: dict: a set of string\n",
    "    @return: An integer\n",
    "    \"\"\"\n",
    "    def ladderLength(self, start, end, dict):\n",
    "        dict.add(end)\n",
    "        queue = collections.deque([start])\n",
    "        visited = set([start])\n",
    "        \n",
    "        distance = 0\n",
    "        while queue:\n",
    "            distance += 1\n",
    "            for i in range(len(queue)):\n",
    "                word = queue.popleft()\n",
    "                if word == end:\n",
    "                    return distance\n",
    "                \n",
    "                for next_word in self.get_next_words(word):\n",
    "                    if next_word not in dict or next_word in visited:\n",
    "                        continue\n",
    "                    queue.append(next_word)\n",
    "                    visited.add(next_word) \n",
    "\n",
    "        return 0\n",
    "        \n",
    "    # O(26 * L^2)\n",
    "    # L is the length of word\n",
    "    def get_next_words(self, word):\n",
    "        words = []\n",
    "        for i in range(len(word)):\n",
    "            left, right = word[:i], word[i + 1:]\n",
    "            for char in 'abcdefghijklmnopqrstuvwxyz':\n",
    "                if word[i] == char:\n",
    "                    continue\n",
    "                words.append(left + char + right)\n",
    "        return words"
   ]
  },
  {
   "cell_type": "markdown",
   "metadata": {
    "colab_type": "text",
    "id": "GqkBRrhL3oJx"
   },
   "source": [
    "### 121. Word Ladder II\n",
    "Given two words (start and end), and a dictionary, find all shortest transformation sequence(s) from start to end, such that:\n",
    "\n",
    "Only one letter can be changed at a time\n",
    "Each intermediate word must exist in the dictionary\n",
    "```\n",
    "Example\n",
    "Given:\n",
    "start = \"hit\"\n",
    "end = \"cog\"\n",
    "dict = [\"hot\",\"dot\",\"dog\",\"lot\",\"log\"]\n",
    "Return\n",
    "  [\n",
    "    [\"hit\",\"hot\",\"dot\",\"dog\",\"cog\"],\n",
    "    [\"hit\",\"hot\",\"lot\",\"log\",\"cog\"]\n",
    "  ]\n",
    "  ```"
   ]
  },
  {
   "cell_type": "code",
   "execution_count": null,
   "metadata": {
    "colab": {},
    "colab_type": "code",
    "id": "a9eBLTdL5YiU"
   },
   "outputs": [],
   "source": [
    "class Solution(object):\n",
    "    # param start, a string\n",
    "    # param end, a string\n",
    "    # param dict, a set of string\n",
    "    # return a list of lists of string\n",
    "    def findLadders(self, start, end, dict):\n",
    "        # Write your code here\n",
    "        dict.add(start)\n",
    "        dict.add(end)\n",
    "\n",
    "        length = len(start)\n",
    "        preMap = {}\n",
    "        for word in dict:\n",
    "            preMap[word] = []\n",
    "        \n",
    "        result = []\n",
    "        cur_level = set()\n",
    "        cur_level.add(start)\n",
    "        \n",
    "        \n",
    "        #BFS part, build premap\n",
    "        while True:\n",
    "            pre_level = cur_level\n",
    "            cur_level = set()\n",
    "            for word in pre_level:\n",
    "                dict.remove(word)\n",
    "            for word in pre_level:\n",
    "                for i in range(length):\n",
    "                    left = word[:i]\n",
    "                    right = word[i+1:]\n",
    "                    for c in 'abcdefghijklmnopqrstuvwxyz':\n",
    "                        if c != word[i]:\n",
    "                            nextWord = left + c + right\n",
    "                            if nextWord in dict:\n",
    "                                preMap[nextWord].append(word)\n",
    "                                cur_level.add(nextWord)\n",
    "            if len(cur_level) == 0:\n",
    "                return []\n",
    "            if end in cur_level:\n",
    "                break\n",
    "\n",
    "        # dfs part \n",
    "        def buildPath(path, word):\n",
    "            if len(preMap[word]) == 0:\n",
    "                result.append([word] + path)\n",
    "                return\n",
    "            path.insert(0,word)\n",
    "            for w in preMap[word]:\n",
    "                buildPath(path,w)\n",
    "            path.pop(0)\n",
    "                \n",
    "                \n",
    "        buildPath([], end)\n",
    "        return result"
   ]
  },
  {
   "cell_type": "markdown",
   "metadata": {
    "colab_type": "text",
    "id": "1awE9D_4vunO"
   },
   "source": [
    "### 634. Word Squares\n",
    "Given a set of words without duplicates, find all word squares you can build from them.\n",
    "\n",
    "A sequence of words forms a valid word square if the kth row and column read the exact same string, where 0 ≤ k < max(numRows, numColumns).\n",
    "```\n",
    "For example, the word sequence [\"ball\",\"area\",\"lead\",\"lady\"] forms a word square because each word reads the same both horizontally and vertically.\n",
    "\n",
    "b a l l\n",
    "a r e a\n",
    "l e a d\n",
    "l a d y\n",
    "Example\n",
    "Given a set [\"area\",\"lead\",\"wall\",\"lady\",\"ball\"]\n",
    "return [[\"wall\",\"area\",\"lead\",\"lady\"],[\"ball\",\"area\",\"lead\",\"lady\"]]\n",
    "Explanation:\n",
    "The output consists of two word squares. The order of output does not matter (just the order of words in each word square matters).\n",
    "\n",
    "Given a set [\"abat\",\"baba\",\"atan\",\"atal\"]\n",
    "return [[\"baba\",\"abat\",\"baba\",\"atan\"],[\"baba\",\"abat\",\"baba\",\"atal\"]]\n",
    "Explanation:\n",
    "The output consists of two word squares. The order of output does not matter (just the order of words in each word square matters).\n",
    "```"
   ]
  },
  {
   "cell_type": "code",
   "execution_count": null,
   "metadata": {
    "colab": {
     "base_uri": "https://localhost:8080/",
     "height": 35
    },
    "colab_type": "code",
    "id": "dryGfGdlvhMg",
    "outputId": "8dfadd48-bb66-485a-eaeb-676a2fffd8f8"
   },
   "outputs": [
    {
     "name": "stdout",
     "output_type": "stream",
     "text": [
      "[['baba', 'abat', 'baba', 'atal'], ['baba', 'abat', 'baba', 'atan']]\n"
     ]
    }
   ],
   "source": [
    "class Trie:\n",
    "    def __init__(self, words):\n",
    "        self.root = {}\n",
    "        for word in words:\n",
    "            self.add_word(word)\n",
    "    \n",
    "    def add_word(self, word):\n",
    "        \n",
    "        def dfs(start, trie):\n",
    "            if start == len(word):\n",
    "                return\n",
    "            ch = word[start]\n",
    "            if ch not in trie:\n",
    "                trie[ch] = {}\n",
    "            dfs(start + 1, trie[ch])\n",
    "        \n",
    "        dfs(0, self.root)\n",
    "            \n",
    "    def get_words(self, prefix):\n",
    "        trie = self.root\n",
    "        \n",
    "        for ch in prefix:\n",
    "            if ch not in trie:\n",
    "                return []\n",
    "            trie = trie[ch]\n",
    "        \n",
    "        res = []\n",
    "        \n",
    "        def dfs(trie, tmp):\n",
    "            if not trie:\n",
    "                res.append(tmp)\n",
    "                return\n",
    "            for ch in trie:\n",
    "                dfs(trie[ch], tmp + ch)\n",
    "                \n",
    "        dfs(trie, prefix)\n",
    "        return res\n",
    "    \n",
    "class Solution(object):\n",
    "    def wordSquares(self, words):\n",
    "        if not words:\n",
    "            return []\n",
    "        res = []\n",
    "        trie = Trie(words)\n",
    "        n = len(words[0])\n",
    "        \n",
    "        def dfs(start, tmp, prefix):\n",
    "            cands = trie.get_words(prefix)\n",
    "            for cand in cands:\n",
    "                tmp.append(cand)\n",
    "                if len(tmp) == n:\n",
    "                    res.append(tmp[:])\n",
    "                    tmp.pop()\n",
    "                    continue\n",
    "                new_prefix = ''.join([word[start+1] for word in tmp])\n",
    "                dfs(start+1, tmp, new_prefix)\n",
    "                tmp.pop()\n",
    "        \n",
    "        dfs(0, [], '')\n",
    "        return res \n",
    "\n",
    "if __name__ == \"__main__\":\n",
    "        \n",
    "    trie = Trie([\"abat\",\"baba\",\"atan\",\"atal\"])\n",
    "    trie.get_words('')\n",
    "    s = Solution()\n",
    "    print s.wordSquares([\"abat\",\"baba\",\"atan\",\"atal\"])\n",
    "    \n"
   ]
  },
  {
   "cell_type": "markdown",
   "metadata": {
    "colab_type": "text",
    "id": "AGZO2YVBzgXx"
   },
   "source": [
    "# Graph Based DFS\n",
    "\n"
   ]
  },
  {
   "cell_type": "code",
   "execution_count": null,
   "metadata": {
    "colab": {},
    "colab_type": "code",
    "id": "0dPY2xCDqvMq"
   },
   "outputs": [],
   "source": [
    "class UndirectedGraphNode:\n",
    "    def __init__(self, x):\n",
    "        self.label = x\n",
    "        self.neighbors = []\n",
    "    \n",
    "    @staticmethod\n",
    "    def deserialize(data):\n",
    "        data = data[1:-1]\n",
    "        nodes = [node[0] for node in data.split('#')]\n",
    "        mapping = {}\n",
    "        for node in nodes:\n",
    "            mapping[node] = UndirectedGraphNode(node)         \n",
    "        graph = []\n",
    "        data = data.split('#')    \n",
    "        for node_str in data:\n",
    "            node_list = node_str.split(',')\n",
    "            base = mapping[node_list[0]]\n",
    "            for nb in node_list[1:]:\n",
    "                base.neighbors.append(mapping[nb])\n",
    "            graph.append(base)\n",
    "        \n",
    "        return graph\n",
    "   \n",
    "    @staticmethod \n",
    "    def serialize(graph):\n",
    "        ser = ''\n",
    "        for node in graph:\n",
    "            tmp = str(node.label)\n",
    "            for nb in node.neighbors:\n",
    "                tmp += ',' + str(nb.label)\n",
    "            ser += '#' + tmp\n",
    "        return '{' + ser[1:] + '}'\n",
    "    \n",
    "if __name__ == \"__main__\":\n",
    "    graph = UndirectedGraphNode.deserialize(\"{1,2,3,4#2,1,3#3,1#4,1,5#5,4}\")\n",
    "    print UndirectedGraphNode.serialize(graph)"
   ]
  }
 ],
 "metadata": {
  "accelerator": "GPU",
  "colab": {
   "collapsed_sections": [],
   "include_colab_link": true,
   "name": "Ch05 DFS & Graph",
   "provenance": [],
   "version": "0.3.2"
  },
  "kernelspec": {
   "display_name": "py37",
   "language": "python",
   "name": "python3"
  },
  "language_info": {
   "codemirror_mode": {
    "name": "ipython",
    "version": 3
   },
   "file_extension": ".py",
   "mimetype": "text/x-python",
   "name": "python",
   "nbconvert_exporter": "python",
   "pygments_lexer": "ipython3",
   "version": "3.7.1"
  }
 },
 "nbformat": 4,
 "nbformat_minor": 2
}
