{
 "cells": [
  {
   "cell_type": "markdown",
   "metadata": {},
   "source": [
    "## 2019.4 ~ 2019.6"
   ]
  },
  {
   "cell_type": "markdown",
   "metadata": {},
   "source": [
    "### 2019(4-6月) 码农类General 本科 全职@Facebook - 猎头 - Onsite  | Fail/Rej | 在职跳槽\n",
    "skip了 Phone, 直接昂赛\n",
    "1. 面经验，面简历\n",
    "    最后做了个题 2个array的intersection. 很简单，要求多解法，分析什么时候用什么方法\n",
    "2. coding: meeting room  + alien dictionary\n",
    "3. lunch\n",
    "4. system design: design instagram，面试官说这个是API design 不是system design\n",
    "\n",
    "要设计的功能包括Post，view, 小头像怎么存，如何like, 如何显示like (liked by xxx and 50 others), 如何评论，如何显示评论，如果网络不好会有什么影响 (还有一些不记得了）\n",
    "5. coding: 第一个问题忘了(easy) + roman number to integer + 一个简单的follow up.\n",
    "\n",
    "总体来说\n",
    "coding 太简单了\n",
    "system design表现很差，节奏很快的甩过来，没法想得很仔细\n",
    "来年再战吧，加油加油！"
   ]
  },
  {
   "cell_type": "markdown",
   "metadata": {},
   "source": [
    "### 2019(4-6月) 码农类General 硕士 全职@Facebook - Other - Onsite  | Fail/Rej | 在职跳槽\n",
    "1. BQ 比较多，问的比较细  \n",
    "2. System design question: design a dropbox/file-sharing system \n",
    "3. Coding problems：\n",
    "*   \n",
    "以下内容需要积分高于 200 您已经可以浏览\n",
    "\n",
    "check if a string list/array is in a custom order: arr = ['abc', 'bc', 'cd'..] , order = ['c', 'b', 'a'] , 题刷的少不知道是不是原题，求指点~\n",
    "\n",
    ". From 1point 3acres bbs\n",
    "*  \n",
    "以下内容需要积分高于 200 您已经可以浏览\n",
    "\n",
    "Trapping Rain Water\n",
    "\n",
    "\n",
    "*  \n",
    "以下内容需要积分高于 200 您已经可以浏览\n",
    "\n",
    "Interleave two linked lists"
   ]
  },
  {
   "cell_type": "markdown",
   "metadata": {},
   "source": []
  },
  {
   "cell_type": "markdown",
   "metadata": {},
   "source": []
  },
  {
   "cell_type": "markdown",
   "metadata": {},
   "source": []
  },
  {
   "cell_type": "markdown",
   "metadata": {},
   "source": []
  },
  {
   "cell_type": "markdown",
   "metadata": {},
   "source": []
  },
  {
   "cell_type": "markdown",
   "metadata": {},
   "source": []
  }
 ],
 "metadata": {
  "kernelspec": {
   "display_name": "py37",
   "language": "python",
   "name": "python3"
  },
  "language_info": {
   "codemirror_mode": {
    "name": "ipython",
    "version": 3
   },
   "file_extension": ".py",
   "mimetype": "text/x-python",
   "name": "python",
   "nbconvert_exporter": "python",
   "pygments_lexer": "ipython3",
   "version": "3.7.1"
  }
 },
 "nbformat": 4,
 "nbformat_minor": 2
}
