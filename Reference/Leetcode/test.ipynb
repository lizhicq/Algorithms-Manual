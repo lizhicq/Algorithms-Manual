{
 "cells": [
  {
   "cell_type": "code",
   "execution_count": 19,
   "metadata": {},
   "outputs": [
    {
     "name": "stdout",
     "output_type": "stream",
     "text": [
      "[2, 1, 3]\n"
     ]
    }
   ],
   "source": [
    "class Solution:\n",
    "    \"\"\"\n",
    "    @param nums: A list of integers\n",
    "    @return: A list of integers\n",
    "    \"\"\"\n",
    "    def nextPermutation(self, nums):\n",
    "        if nums is None or len(nums) == 0:\n",
    "            return nums\n",
    "        n = len(nums)        \n",
    "        for i in range(n-2, -1, -1):\n",
    "            if nums[i] < nums[i+1]:\n",
    "                break\n",
    "        else:\n",
    "            nums.reverse()\n",
    "            return nums\n",
    "        \n",
    "        # find the first element larger than i\n",
    "        for j in range(n-1, i, -1):\n",
    "            if nums[j] > nums[i]:\n",
    "                nums[i], nums[j] = nums[j], nums[i]\n",
    "                break\n",
    "        \n",
    "        self.reverse(nums, i+1, n-1)\n",
    "        \n",
    "        return nums\n",
    "    \n",
    "    def reverse(self, nums, start, end):\n",
    "        while start < end:\n",
    "            nums[start], nums[end] = nums[end], nums[start]\n",
    "            start += 1\n",
    "            end -= 1 \n",
    "\n",
    "if __name__ == \"__main__\":\n",
    "    s = Solution()\n",
    "    print(s.nextPermutation([1,3,2]))"
   ]
  }
 ],
 "metadata": {
  "kernelspec": {
   "display_name": "py36",
   "language": "python",
   "name": "py36"
  },
  "language_info": {
   "codemirror_mode": {
    "name": "ipython",
    "version": 3
   },
   "file_extension": ".py",
   "mimetype": "text/x-python",
   "name": "python",
   "nbconvert_exporter": "python",
   "pygments_lexer": "ipython3",
   "version": "3.6.8"
  }
 },
 "nbformat": 4,
 "nbformat_minor": 2
}
