{
 "cells": [
  {
   "cell_type": "markdown",
   "metadata": {
    "colab_type": "text",
    "id": "view-in-github"
   },
   "source": [
    "<a href=\"https://colab.research.google.com/github/lizhicq/Algorithms-Manual/blob/master/Ch01_Binary_Search.ipynb\" target=\"_parent\"><img src=\"https://colab.research.google.com/assets/colab-badge.svg\" alt=\"Open In Colab\"/></a>"
   ]
  },
  {
   "cell_type": "markdown",
   "metadata": {
    "colab_type": "text",
    "id": "LNfsww28z1dE"
   },
   "source": [
    "# Binary Search & Log N\n",
    "\n",
    "\n",
    "\n",
    "\n",
    "*   Universal fitable binary search model \n",
    "*   How to avoid dead loop?\n",
    "*   Corner case dealing\n",
    "\n",
    "\n",
    "\n",
    "---\n",
    "\n",
    "\n",
    "*  三步翻转法\n",
    "*  递增矩阵找数\n",
    "*  快速幂算法\n",
    "*  辗转相除法\n",
    "\n",
    "  "
   ]
  },
  {
   "cell_type": "markdown",
   "metadata": {
    "colab_type": "text",
    "id": "9ggxQacS8Zjk"
   },
   "source": [
    "## Mathematics\n",
    "\n",
    "```\n",
    "原本O(n)O(n)的问题，我们可以用O(logn)O(logn)复杂度的算法来解决。\n",
    "\n",
    "```\n",
    "\n",
    "\n"
   ]
  },
  {
   "cell_type": "markdown",
   "metadata": {
    "colab_type": "text",
    "id": "hBQkHiOw3Qqb"
   },
   "source": [
    "### 428. Pow(x, n)\n",
    "快速幂算法\n",
    "Implement pow(x, n).\n",
    "```\n",
    "Example\n",
    "Pow(2.1, 3) = 9.261\n",
    "Pow(0, 1) = 0\n",
    "Pow(1, 0) = 1\n",
    "Challenge\n",
    "O(logn) time\n",
    "```"
   ]
  },
  {
   "cell_type": "code",
   "execution_count": null,
   "metadata": {
    "colab": {},
    "colab_type": "code",
    "id": "NsVDpyQJ3Yb6"
   },
   "outputs": [],
   "source": [
    "class Solution:\n",
    "    \"\"\"\n",
    "    @param: x: the base number, float\n",
    "    @param: n: the power number, int\n",
    "    @return: the results\n",
    "    \"\"\"\n",
    "    def myPow(self, x, n):\n",
    "        if n < 0:\n",
    "            n = -n \n",
    "            x = 1 / x\n",
    "        \n",
    "        ans = 1\n",
    "        tmp = x\n",
    "\n",
    "        while n != 0:\n",
    "            if n % 2 == 1:\n",
    "                ans *= tmp\n",
    "            tmp *= tmp\n",
    "            n //= 2 \n",
    "            \n",
    "        return ans "
   ]
  },
  {
   "cell_type": "markdown",
   "metadata": {
    "colab_type": "text",
    "id": "sOPQ2ogi3js2"
   },
   "source": [
    "###  140. Fast Power(快速幂算法)\n",
    "Calculate the an % b where a, b and n are all 32bit integers.\n",
    "```\n",
    "Example\n",
    "For 231 % 3 = 2\n",
    "\n",
    "For 1001000 % 1000 = 0\n",
    "\n",
    "Challenge\n",
    "O(logn)\n",
    "```"
   ]
  },
  {
   "cell_type": "code",
   "execution_count": null,
   "metadata": {
    "colab": {},
    "colab_type": "code",
    "id": "_Q0TFxHB3p7a"
   },
   "outputs": [],
   "source": [
    "class Solution:\n",
    "    \"\"\"\n",
    "    @param a: A 32bit integer\n",
    "    @param b: A 32bit integer\n",
    "    @param n: A 32bit integer\n",
    "    @return: An integer\n",
    "    \"\"\"\n",
    "    def fastPower(self, a, b, n):\n",
    "        \n",
    "        ans = 1\n",
    "        tmp = a\n",
    "        \n",
    "        while n != 0:\n",
    "            if n % 2 == 1:\n",
    "                ans  *= tmp % b\n",
    "            tmp *= tmp % b\n",
    "            n /= 2 \n",
    "        ans = ans % b\n",
    "        \n",
    "        return ans\n"
   ]
  },
  {
   "cell_type": "markdown",
   "metadata": {
    "colab_type": "text",
    "id": "aTN9WnE0YcDa"
   },
   "source": [
    "### 1275. Super Pow\n",
    "Your task is to calculate a^b mod 1337 where a is a positive integer and b is an extremely large positive integer given in the form of an array.\n",
    "```\n",
    "Example\n",
    "Example1:\n",
    "\n",
    "a = 2\n",
    "b = [3]\n",
    "\n",
    "Result: 8\n",
    "Example2:\n",
    "\n",
    "a = 2\n",
    "b = [1,0]\n",
    "\n",
    "Result: 1024\n",
    "Notice\n",
    "The length of b is in range [1, 1100]\n",
    "```"
   ]
  },
  {
   "cell_type": "code",
   "execution_count": null,
   "metadata": {
    "colab": {
     "base_uri": "https://localhost:8080/",
     "height": 34
    },
    "colab_type": "code",
    "id": "oXrKqmOdYbZl",
    "outputId": "528a9224-15f7-413c-f567-38436f72457a"
   },
   "outputs": [
    {
     "name": "stdout",
     "output_type": "stream",
     "text": [
      "1024\n"
     ]
    }
   ],
   "source": [
    "class Solution:\n",
    "    \"\"\"\n",
    "    @param a: the given number a\n",
    "    @param b: the given array\n",
    "    @return: the result\n",
    "    \"\"\"\n",
    "\n",
    "    def superPow(self, a, b):\n",
    "        if a == 0:\n",
    "            return 0\n",
    "        res = 1\n",
    "        for i in b:\n",
    "            res = self.modPow(res, 10) * self.modPow(a, i) % 1337\n",
    "        return res\n",
    "\n",
    "    def modPow(self, x, n):\n",
    "        ans = 1\n",
    "        tmp = x\n",
    "\n",
    "        while n != 0:\n",
    "            if n % 2 == 1:\n",
    "                ans *= tmp % 1337\n",
    "            tmp *= tmp % 1337\n",
    "            n /= 2\n",
    "        return ans % 1337\n",
    "\n",
    "if __name__ == \"__main__\":\n",
    "    s = Solution()\n",
    "    print s.superPow(2, [1,0])"
   ]
  },
  {
   "cell_type": "markdown",
   "metadata": {
    "colab_type": "text",
    "id": "a25PvqylCkEx"
   },
   "source": [
    "### 949. Fibonacci II\n",
    "In the Fibonacci integer sequence, F0 = 0, F1 = 1, and Fn = Fn − 1 + Fn − 2 for n ≥ 2. For example, the first ten terms of the Fibonacci sequence are:0,1,1,2,3,5,8,13,21,34,…\n",
    "An alternative formula for the Fibonacci sequence is:\n",
    "\n",
    "Given an integer n, your goal is to compute the last 4 digits of Fn\n",
    "```\n",
    "Example\n",
    "Given: n = 9\n",
    "Return: 34\n",
    "\n",
    "Notice\n",
    "1.0 ≤ n ≤ 1,000,000,000\n",
    "2.If the last four digits of Fn are all zeros, print ‘0’; otherwise, omit any leading zeros(print Fn mod 10000)\n",
    "```"
   ]
  },
  {
   "cell_type": "code",
   "execution_count": null,
   "metadata": {
    "colab": {},
    "colab_type": "code",
    "id": "g4xZADWBClhp"
   },
   "outputs": [],
   "source": [
    "class Solution:\n",
    "    \"\"\"\n",
    "    @param n: an integer\n",
    "    @return: return a string\n",
    "    \"\"\"\n",
    "    def lastFourDigitsOfFn(self, n):\n",
    "        A = [[1,1],[1,0]]\n",
    "        fn = self.Pow(A, n)\n",
    "        return str(fn[0][1])\n",
    "\n",
    "\n",
    "    def Pow(self, A, n):\n",
    "        '''\n",
    "        :param A: matrix\n",
    "        :param n: power\n",
    "        :return: mod of Power\n",
    "        '''\n",
    "        if n == 1:\n",
    "            return [[1,1],[1,0]]\n",
    "        if n == 0:\n",
    "            return [[1,0],[0,1]]\n",
    "        tmp = self.Pow(A, n//2)\n",
    "        if n % 2 == 0:\n",
    "            return self.dot(tmp, tmp)\n",
    "        else:\n",
    "            return self.dot(self.dot(tmp, tmp), A)\n",
    "\n",
    "    def dot(self, A, B):\n",
    "        m, n = len(A), len(B[0])\n",
    "        C = [[0 for j in range(n)]\n",
    "                for i in range(m)]\n",
    "        for i in range(m):\n",
    "            for j in range(n):\n",
    "                for k in range(m):\n",
    "                    C[i][j] += A[i][k] * B[k][j]\n",
    "                    C[i][j] %= 10000\n",
    "        return C"
   ]
  },
  {
   "cell_type": "markdown",
   "metadata": {
    "colab_type": "text",
    "id": "FdgSPVOB-Ibc"
   },
   "source": [
    "### 141. Sqrt(x)\n",
    "Implement int sqrt(int x).\n",
    "\n",
    "Compute and return the square root of x.\n",
    "```\n",
    "Example\n",
    "sqrt(3) = 1\n",
    "\n",
    "sqrt(4) = 2\n",
    "\n",
    "sqrt(5) = 2\n",
    "\n",
    "sqrt(10) = 3\n",
    "\n",
    "Challenge\n",
    "O(log(x))\n",
    "```"
   ]
  },
  {
   "cell_type": "code",
   "execution_count": null,
   "metadata": {
    "colab": {},
    "colab_type": "code",
    "id": "jTpt5zDp-TpV"
   },
   "outputs": [],
   "source": [
    "class Solution:\n",
    "    \"\"\"\n",
    "    @param x: An integer\n",
    "    @return: The sqrt of x\n",
    "    \"\"\"\n",
    "    def sqrt(self, x):\n",
    "        start, end = 0.0, 65535\n",
    "        eps = 1e-1\n",
    "        while start + eps < end:\n",
    "            mid = start + (end - start) / 2\n",
    "            if mid * mid < x:\n",
    "                start = mid\n",
    "            else:\n",
    "                end = mid\n",
    "        return int(end)"
   ]
  },
  {
   "cell_type": "markdown",
   "metadata": {
    "colab_type": "text",
    "id": "j5tAeikrzM8f"
   },
   "source": [
    "\n",
    "### 845. Greatest Common Divisor (辗转相除法)\n",
    "\n",
    "\n",
    "Given two numbers, number a and number b. Find the greatest common divisor of the given two numbers.\n",
    "```\n",
    "Example\n",
    "Given a = 10, b = 15, return 5.\n",
    "Given a = 15, b = 30, return 15.\n",
    "```\n",
    "辗转相除法， 又名欧几里德算法， 是求最大公约数的一种方法。它的具体做法是：用较大的数除以较小的数，再用除数除以出现的余数（第一余数），再用第一余数除以出现的余数（第二余数），如此反复，直到最后余数是0为止。如果是求两个数的最大公约数，那么最后的除数就是这两个数的最大公约数。\n",
    "```\n",
    "代码\n",
    "public int gcd(int big, int small) {\n",
    "    if (small != 0) {\n",
    "        return gcd(small, big % small);\n",
    "    } else {\n",
    "        return big;\n",
    "    }\n",
    "}\n",
    "```"
   ]
  },
  {
   "cell_type": "code",
   "execution_count": null,
   "metadata": {
    "colab": {
     "base_uri": "https://localhost:8080/",
     "height": 35
    },
    "colab_type": "code",
    "id": "efH9IHvkzfpn",
    "outputId": "d7b2c59c-b389-4bd8-b268-4ac182a3a88e"
   },
   "outputs": [
    {
     "name": "stdout",
     "output_type": "stream",
     "text": [
      "5\n"
     ]
    }
   ],
   "source": [
    "class Solution(object):\n",
    "    def gcd(self, big, small):\n",
    "        if big < small:\n",
    "            big, small = small, big\n",
    "        if small != 0:\n",
    "            return self.gcd(small, big % small)\n",
    "        else:\n",
    "            return big\n",
    "        \n",
    "        \n",
    "if __name__ == \"__main__\":\n",
    "    s = Solution()\n",
    "    print s.gcd(10, 5)"
   ]
  },
  {
   "cell_type": "markdown",
   "metadata": {
    "colab_type": "text",
    "id": "OBzuk2LW-6z9"
   },
   "source": [
    "### 235. Prime Factorization\n",
    "Prime factorize a given integer.\n",
    "```\n",
    "Example\n",
    "Given 10, return [2, 5].\n",
    "\n",
    "Given 660, return [2, 2, 3, 5, 11].\n",
    "```"
   ]
  },
  {
   "cell_type": "code",
   "execution_count": null,
   "metadata": {
    "colab": {},
    "colab_type": "code",
    "id": "0u40H6zu034N"
   },
   "outputs": [],
   "source": [
    "class Solution:\n",
    "    \"\"\"\n",
    "    @param num: An integer\n",
    "    @return: an integer array\n",
    "    \"\"\"\n",
    "    def primeFactorization(self, num):\n",
    "        import math\n",
    "        up = int(math.sqrt(num)) + 1\n",
    "        prime = []\n",
    "        f = [0 for x in range(up)]\n",
    "        for i in range(2, up): # up >= 2\n",
    "            if f[i] == 0:\n",
    "                prime.append(i)\n",
    "                for j in range(i*i, up, i):\n",
    "                    f[j] = 1\n",
    "        ret = [] \n",
    "        for a in prime:\n",
    "            while num % a == 0:\n",
    "                ret.append(a)\n",
    "                num /= a\n",
    "        if num != 1:\n",
    "            ret.append(num)\n",
    "        return ret"
   ]
  },
  {
   "cell_type": "markdown",
   "metadata": {
    "colab_type": "text",
    "id": "Hmw5-Z_b6Ffq"
   },
   "source": [
    "### 414. Divide Two Integers\n",
    "Divide two integers without using multiplication, division and mod operator.\n",
    "\n",
    "If it is overflow, return 2147483647\n",
    "```\n",
    "Example\n",
    "Given dividend = 100 and divisor = 9, return 11.\n",
    "```"
   ]
  },
  {
   "cell_type": "code",
   "execution_count": null,
   "metadata": {
    "colab": {},
    "colab_type": "code",
    "id": "dRBJ2-1q1ZNe"
   },
   "outputs": [],
   "source": [
    "class Solution(object):\n",
    "    def divide(self, dividend, divisor):\n",
    "        maxsize = 2147483647\n",
    "        if divisor == 0:\n",
    "            return maxsize\n",
    "        if abs(dividend) < abs(divisor):\n",
    "            return 0\n",
    "\n",
    "        is_negtive = (dividend < 0 and divisor > 0\n",
    "                     ) or (dividend > 0 and divisor < 0)\n",
    "        a = abs(dividend)\n",
    "        b = abs(divisor)\n",
    "\n",
    "        ans = 0\n",
    "        while a >= b:\n",
    "            shift = 0\n",
    "            while a >= (b << shift):\n",
    "                shift += 1\n",
    "            a -= b << (shift - 1)\n",
    "            ans += 1 << (shift - 1)\n",
    "        if is_negtive:\n",
    "            ans = - ans\n",
    "        if ans > maxsize:\n",
    "            return maxsize\n",
    "        return ans\n",
    "    \n",
    "\n",
    "\n",
    "if __name__ == \"__main__\":\n",
    "    print Solution().divide(100, 2)"
   ]
  },
  {
   "cell_type": "markdown",
   "metadata": {
    "colab_type": "text",
    "id": "Sl9FDAUzz3eD"
   },
   "source": [
    "## Array"
   ]
  },
  {
   "cell_type": "markdown",
   "metadata": {
    "colab_type": "text",
    "id": "4mPwJmOX-5TQ"
   },
   "source": [
    "### 458. Last Position of Target\n",
    "\n",
    "Description\n",
    "Find the last position of a target number in a sorted array. Return -1 if target does not exist.\n",
    "\n",
    "Have you met this question in a real interview?  \n",
    "Example\n",
    "Given [1, 2, 2, 4, 5, 5].\n",
    "\n",
    "For target = 2, return 2.\n",
    "\n",
    "For target = 5, return 5.\n",
    "\n",
    "For target = 6, return -1."
   ]
  },
  {
   "cell_type": "code",
   "execution_count": null,
   "metadata": {
    "colab": {},
    "colab_type": "code",
    "id": "0UkWrIJ-_CWC"
   },
   "outputs": [],
   "source": [
    "class Solution(object):\n",
    "    def lastPosition(self, nums, target):\n",
    "        if len(nums) == 0:\n",
    "            return -1\n",
    "        start, end = 0, len(nums) - 1\n",
    "        while start + 1 < end:\n",
    "            mid = start + (end - start) // 2 \n",
    "            if nums[mid] <= target:\n",
    "                start = mid\n",
    "            else:\n",
    "                end = mid\n",
    "        if nums[end] == target:\n",
    "            return end\n",
    "        elif nums[start] == target:\n",
    "            return start\n",
    "        else:\n",
    "            return -1"
   ]
  },
  {
   "cell_type": "markdown",
   "metadata": {
    "colab_type": "text",
    "id": "GgpFs8cK3FTG"
   },
   "source": [
    "### 460. Find K Closest Elements\n",
    "Given a target number, a non-negative integer k and an integer array A sorted in ascending order, find the k closest numbers to target in A, sorted in ascending order by the difference between the number and target. Otherwise, sorted in ascending order by number if the difference is same.\n",
    "```\n",
    "Example\n",
    "Given A = [1, 2, 3], target = 2 and k = 3, return [2, 1, 3].\n",
    "\n",
    "Given A = [1, 4, 6, 8], target = 3 and k = 3, return [4, 1, 6].\n",
    "\n",
    "Challenge\n",
    "O(logn + k) time complexity.\n",
    "```"
   ]
  },
  {
   "cell_type": "code",
   "execution_count": null,
   "metadata": {
    "colab": {},
    "colab_type": "code",
    "id": "Pus_y80V3HhD"
   },
   "outputs": [],
   "source": [
    "class Solution:\n",
    "    \"\"\"\n",
    "    @param A: an integer array\n",
    "    @param target: An integer\n",
    "    @param k: An integer\n",
    "    @return: an integer array\n",
    "    \"\"\"\n",
    "\n",
    "    def kClosestNumbers(self, A, target, k):\n",
    "        start, end = 0, len(A) - 1\n",
    "        while start + 1 < end:\n",
    "            mid = start + (end - start) // 2\n",
    "            if A[mid] < target:\n",
    "                start = mid\n",
    "            else:\n",
    "                end = mid\n",
    "        res = []\n",
    "        while len(res) != k:\n",
    "            left_diff = target - A[start] if start >= 0 else None\n",
    "            right_diff = A[end] - target if end < len(A) else None\n",
    "\n",
    "            if left_diff is not None and right_diff is not None:\n",
    "                if right_diff < left_diff:\n",
    "                    res.append(A[end])\n",
    "                    end = end + 1\n",
    "                else:\n",
    "                    res.append(A[start])\n",
    "                    start = start - 1\n",
    "            elif left_diff is None and right_diff is not None:\n",
    "                res.append(A[end])\n",
    "                end = end + 1\n",
    "            elif left_diff is not None and right_diff is None:\n",
    "                res.append(A[start])\n",
    "                start = start - 1\n",
    "            else:\n",
    "                break  # K is larger than len(A)\n",
    "        return res"
   ]
  },
  {
   "cell_type": "markdown",
   "metadata": {
    "colab_type": "text",
    "id": "tPWp_JDw-5eG"
   },
   "source": [
    "### 585. Maximum Number in Mountain Sequence\n",
    "\n",
    "Description\n",
    "Given a mountain sequence of n integers which increase firstly and then decrease, find the mountain top.\n",
    "```\n",
    "Example\n",
    "Given nums = [1, 2, 4, 8, 6, 3] return 8\n",
    "Given nums = [10, 9, 8, 7], return 10\n",
    "```"
   ]
  },
  {
   "cell_type": "code",
   "execution_count": null,
   "metadata": {
    "colab": {},
    "colab_type": "code",
    "id": "C7GGf3jU0ckM"
   },
   "outputs": [],
   "source": [
    "class Solution:\n",
    "    \"\"\"\n",
    "    @param: nums: a mountain sequence which increase firstly and then decrease\n",
    "    @return: then mountain top\n",
    "    \"\"\"\n",
    "    def mountainSequence(self, nums):\n",
    "        if len(nums) == 0: \n",
    "            return None\n",
    "        if len(nums) == 1:\n",
    "            return nums[0]\n",
    "        if len(nums) == 2:\n",
    "            return nums[0] if nums[0] > nums[1] else nums[1]\n",
    "    \n",
    "        start, end = 0, len(nums) - 1 \n",
    "        \n",
    "        while start + 1 < end:\n",
    "            mid = start + (end - start) // 2 \n",
    "            if nums[mid] < nums[mid+1]:\n",
    "                start = mid\n",
    "            elif nums[mid] > nums[mid+1]:\n",
    "                end = mid\n",
    "        if nums[start] > nums[end]:\n",
    "            return nums[start]\n",
    "        elif nums[start] < nums[end]:\n",
    "            return nums[end]\n",
    "        else:\n",
    "            return -1"
   ]
  },
  {
   "cell_type": "markdown",
   "metadata": {
    "colab_type": "text",
    "id": "UhM2GYzz3rpU"
   },
   "source": [
    "### 74. First Bad Version\n",
    "The code base version is an integer start from 1 to n. One day, someone committed a bad version in the code case, so it caused this version and the following versions are all failed in the unit tests. Find the first bad version.\n",
    "\n",
    "You can call isBadVersion to help you determine which version is the first bad one. The details interface can be found in the code's annotation part.\n",
    "```\n",
    "Example\n",
    "Given n = 5:\n",
    "\n",
    "isBadVersion(3) -> false\n",
    "isBadVersion(5) -> true\n",
    "isBadVersion(4) -> true\n",
    "Here we are 100% sure that the 4th version is the first bad version.\n",
    "\n",
    "Challenge\n",
    "You should call isBadVersion as few as possible.\n",
    "\n",
    "```"
   ]
  },
  {
   "cell_type": "code",
   "execution_count": null,
   "metadata": {
    "colab": {},
    "colab_type": "code",
    "id": "z868kUJj32s3"
   },
   "outputs": [],
   "source": [
    "class SVNRepo:\n",
    "    @classmethod\n",
    "    def isBadVersion(cls, id):\n",
    "        pass\n",
    "        # Run unit tests to check whether verison `id` is a bad version\n",
    "        # return true if unit tests passed else false.\n",
    "# You can use SVNRepo.isBadVersion(10) to check whether version 10 is a \n",
    "# bad version.\n",
    "\n",
    "class Solution:\n",
    "    \"\"\"\n",
    "    @param n: An integers.\n",
    "    @return: An integer which is the first bad version.\n",
    "    \"\"\"\n",
    "    def findFirstBadVersion(self, n):\n",
    "        start, end = 1, n\n",
    "        while start + 1 < end:\n",
    "            mid = start + (end - start) // 2\n",
    "            if SVNRepo.isBadVersion(mid):\n",
    "                end = mid\n",
    "            else:\n",
    "                start = mid\n",
    "        if SVNRepo.isBadVersion(start):\n",
    "            return start\n",
    "        return end"
   ]
  },
  {
   "cell_type": "markdown",
   "metadata": {
    "colab_type": "text",
    "id": "LTbWxqcE-5h9"
   },
   "source": [
    "###75. Find Peak Element\n",
    "There is an integer array which has the following features:\n",
    "```\n",
    "The numbers in adjacent positions are different.\n",
    "A[0] < A[1] && A[A.length - 2] > A[A.length - 1].\n",
    "We define a position P is a peak if:\n",
    "\n",
    "A[P] > A[P-1] && A[P] > A[P+1]\n",
    "Find a peak element in this array. Return the index of the peak.\n",
    "\n",
    "Example\n",
    "Given [1, 2, 1, 3, 4, 5, 7, 6]\n",
    "\n",
    "Return index 1 (which is number 2) or 6 (which is number 7)\n",
    "\n",
    "Challenge\n",
    "Time complexity O(logN)\n",
    "```"
   ]
  },
  {
   "cell_type": "code",
   "execution_count": null,
   "metadata": {
    "colab": {},
    "colab_type": "code",
    "id": "813gsL6YA0SG"
   },
   "outputs": [],
   "source": [
    "class Solution(object):\n",
    "    def findPeak(self, nums):\n",
    "        start, end = 0, len(nums) - 2 # prevent overlap\n",
    "        while start + 1 < end:\n",
    "            mid = start + (end - start) // 2\n",
    "\n",
    "            if nums[mid] < nums[mid + 1]:\n",
    "                 start = mid\n",
    "            else:\n",
    "                 end = mid\n",
    "        if nums[start] < nums[end]:\n",
    "            return end\n",
    "        else:\n",
    "            return start"
   ]
  },
  {
   "cell_type": "markdown",
   "metadata": {
    "colab_type": "text",
    "id": "CVi9lutj3JON"
   },
   "source": [
    "### 447. Search in a Big Sorted Array\n",
    "Given a big sorted array with positive integers sorted by ascending order. The array is so big so that you can not get the length of the whole array directly, and you can only access the kth number by ArrayReader.get(k) (or ArrayReader->get(k) for C++). Find the first index of a target number. Your algorithm should be in O(log k), where k is the first index of the target number.\n",
    "\n",
    "Return -1, if the number doesn't exist in the array.\n",
    "```\n",
    "Example\n",
    "Given [1, 3, 6, 9, 21, ...], and target = 3, return 1.\n",
    "\n",
    "Given [1, 3, 6, 9, 21, ...], and target = 4, return -1.\n",
    "\n",
    "Challenge\n",
    "O(log k), k is the first index of the given target number.\n",
    "```"
   ]
  },
  {
   "cell_type": "code",
   "execution_count": null,
   "metadata": {
    "colab": {},
    "colab_type": "code",
    "id": "B2oT7WxA1JV9"
   },
   "outputs": [],
   "source": [
    "class Solution(object):\n",
    "    def searchBigSortedArray(self, reader, target):\n",
    "        start, end = 0, 1\n",
    "        while reader.get(end) < target:\n",
    "            end = 2 * end + 1\n",
    "        while start + 1 < end:\n",
    "            mid = start + (end - start) // 2      \n",
    "            if reader.get(mid) < target:\n",
    "                start = mid\n",
    "            elif reader.get(mid) >= target:\n",
    "                end = mid\n",
    "        if reader.get(start) == target:\n",
    "            return start\n",
    "        elif reader.get(end) == target:\n",
    "            return end\n",
    "        return -1 "
   ]
  },
  {
   "cell_type": "markdown",
   "metadata": {
    "colab_type": "text",
    "id": "lD_heWY73ZjB"
   },
   "source": [
    "### 159. Find Minimum in Rotated Sorted Array\n",
    "Suppose a sorted array is rotated at some pivot unknown to you beforehand.\n",
    "\n",
    "(i.e., 0 1 2 4 5 6 7 might become 4 5 6 7 0 1 2).\n",
    "\n",
    "Find the minimum element.\n",
    "```\n",
    "Example\n",
    "Given [4, 5, 6, 7, 0, 1, 2] return 0\n",
    "\n",
    "```"
   ]
  },
  {
   "cell_type": "code",
   "execution_count": null,
   "metadata": {
    "colab": {},
    "colab_type": "code",
    "id": "IpJotTRZ1Dc9"
   },
   "outputs": [],
   "source": [
    "class Solution(object):\n",
    "    def findMin(self, nums) :\n",
    "        if len(nums) == 0:\n",
    "            return -1\n",
    "        start, end = 0, len(nums) - 1 \n",
    "        while start + 1 < end:\n",
    "            mid = start + (end - start) // 2 \n",
    "            if nums[mid] > nums[-1]:\n",
    "                start = mid\n",
    "            else:\n",
    "                end = mid\n",
    "        if nums[start] < nums[end]:\n",
    "            return nums[start]\n",
    "        else:\n",
    "            return nums[end]"
   ]
  },
  {
   "cell_type": "markdown",
   "metadata": {
    "colab_type": "text",
    "id": "MXqlaJ7GBoOH"
   },
   "source": [
    "### 62. Search in Rotated Sorted Array\n",
    "Suppose a sorted array is rotated at some pivot unknown to you beforehand.\n",
    "\n",
    "(i.e., 0 1 2 4 5 6 7 might become 4 5 6 7 0 1 2).\n",
    "\n",
    "You are given a target value to search. If found in the array return its index, otherwise return -1.\n",
    "\n",
    "You may assume no duplicate exists in the array.\n",
    "```\n",
    "Example\n",
    "For [4, 5, 1, 2, 3] and target=1, return 2.\n",
    "\n",
    "For [4, 5, 1, 2, 3] and target=0, return -1.\n",
    "\n",
    "Challenge\n",
    "O(logN) time\n",
    "\n",
    "```"
   ]
  },
  {
   "cell_type": "code",
   "execution_count": null,
   "metadata": {
    "colab": {},
    "colab_type": "code",
    "id": "UNjkL2g1Bm2_"
   },
   "outputs": [],
   "source": [
    "class Solution:\n",
    "    \"\"\"\n",
    "    @param A : a list of integers\n",
    "    @param target : an integer to be searched\n",
    "    @return : an integer\n",
    "    \"\"\"\n",
    "    def search(self, A, target):\n",
    "        if A == None or len(A) == 0:\n",
    "            return -1\n",
    "        start, end = 0, len(A) - 1,\n",
    "        while start + 1 < end:\n",
    "            mid = start + (end - start) / 2\n",
    "            if A[mid] == target:\n",
    "                return mid\n",
    "            if A[start] < A[mid]:\n",
    "                if A[start] <= target <= A[mid]:\n",
    "                    end = mid\n",
    "                else:\n",
    "                    start = mid\n",
    "            else:\n",
    "                if A[mid] <= target <= A[end]:\n",
    "                    start = mid\n",
    "                else:\n",
    "                    end = mid\n",
    "        if A[start] == target:\n",
    "            return start\n",
    "        if A[end] == target:\n",
    "            return end\n",
    "        return -1"
   ]
  },
  {
   "cell_type": "markdown",
   "metadata": {
    "colab_type": "text",
    "id": "E3r1OStq5H_y"
   },
   "source": [
    "### 462. Total Occurrence of Target\n",
    "Given a target number and an integer array sorted in ascending order. Find the total number of occurrences of target in the array.\n",
    "```\n",
    "Example\n",
    "Given [1, 3, 3, 4, 5] and target = 3, return 2.\n",
    "\n",
    "Given [2, 2, 3, 4, 6] and target = 4, return 1.\n",
    "\n",
    "Given [1, 2, 3, 4, 5] and target = 6, return 0.\n",
    "\n",
    "Challenge\n",
    "Time complexity in O(logn)\n",
    "```"
   ]
  },
  {
   "cell_type": "code",
   "execution_count": null,
   "metadata": {
    "colab": {},
    "colab_type": "code",
    "id": "l7HlAarr5KBE"
   },
   "outputs": [],
   "source": [
    "class Solution:\n",
    "    # param {int[]} A an integer array sorted in ascending order\n",
    "    # param {int} target an integer\n",
    "    # return {int} an integer\n",
    "    def totalOccurrence(self, A, target):\n",
    "        # Write your code here\n",
    "        if not A:\n",
    "            return 0\n",
    "\n",
    "        length = len(A)\n",
    "\n",
    "        start = 0\n",
    "        end = length - 1\n",
    "        while start + 1 < end:\n",
    "            mid = start + (end - start) / 2\n",
    "            if A[mid] < target:\n",
    "                start = mid\n",
    "            else:\n",
    "                end = mid\n",
    "        if A[start] == target:\n",
    "            head = start\n",
    "        elif A[end] == target:\n",
    "            head = end\n",
    "        else:\n",
    "            head = -1\n",
    "\n",
    "        start = head\n",
    "        end = length - 1\n",
    "        while start + 1 < end:\n",
    "            mid = start + (end - start) / 2\n",
    "            if A[mid] <= target:\n",
    "                start = mid\n",
    "            else:\n",
    "                end = mid\n",
    "        if A[end] == target:\n",
    "            tail = end\n",
    "        elif A[start] == target:\n",
    "            tail = start\n",
    "        else:\n",
    "            tail = -1\n",
    "\n",
    "        if head >= 0 and tail >= 0:\n",
    "            return tail - head + 1\n",
    "        else:\n",
    "            return 0"
   ]
  },
  {
   "cell_type": "markdown",
   "metadata": {
    "colab_type": "text",
    "id": "HRGc9jjW513S"
   },
   "source": [
    "### 14. First Position of Target\n",
    "For a given sorted array (ascending order) and a target number, find the first index of this number in O(log n) time complexity.\n",
    "\n",
    "If the target number does not exist in the array, return -1.\n",
    "```\n",
    "Example\n",
    "If the array is [1, 2, 3, 3, 4, 5, 10], for given target 3, return 2.\n",
    "\n",
    "Challenge\n",
    "If the count of numbers is bigger than 2^32, can your code work properly?\n",
    "```"
   ]
  },
  {
   "cell_type": "code",
   "execution_count": null,
   "metadata": {
    "colab": {},
    "colab_type": "code",
    "id": "Do_9Qcm856hN"
   },
   "outputs": [],
   "source": [
    "class Solution:\n",
    "    # param nums: The integer array\n",
    "    # param target: Target number to find\n",
    "    # return the first position of target in nums, position start from 0 \n",
    "    def binarySearch(self, nums, target):\n",
    "        # write your code here\n",
    "        left, right = 0, len(nums)\n",
    "        while left + 1 < right :\n",
    "            mid = (left + right) / 2\n",
    "            if nums[mid] < target :\n",
    "                left = mid\n",
    "            else :\n",
    "                right = mid\n",
    "        if nums[left] == target :\n",
    "            return left\n",
    "        elif nums[right] == target :\n",
    "            return right\n",
    "        return -1;"
   ]
  },
  {
   "cell_type": "markdown",
   "metadata": {
    "colab_type": "text",
    "id": "81-mV2P_4UE7"
   },
   "source": [
    "### 28. Search a 2D Matrix\n",
    "Write an efficient algorithm that searches for a value in an m x n matrix.\n",
    "\n",
    "This matrix has the following properties:\n",
    "\n",
    "Integers in each row are sorted from left to right.\n",
    "The first integer of each row is greater than the last integer of the previous row.\n",
    "```\n",
    "Example\n",
    "Consider the following matrix:\n",
    "\n",
    "[\n",
    "    [1, 3, 5, 7],\n",
    "    [10, 11, 16, 20],\n",
    "    [23, 30, 34, 50]\n",
    "]\n",
    "Given target = 3, return true.\n",
    "\n",
    "Challenge\n",
    "O(log(n) + log(m)) time\n",
    " \n",
    "```"
   ]
  },
  {
   "cell_type": "code",
   "execution_count": null,
   "metadata": {
    "colab": {},
    "colab_type": "code",
    "id": "CtuGSELy4zIh"
   },
   "outputs": [],
   "source": [
    "class Solution:\n",
    "    \"\"\"\n",
    "    @param matrix, a list of lists of integers\n",
    "    @param target, an integer\n",
    "    @return a boolean, indicate whether matrix contains target\n",
    "    \"\"\"\n",
    "\n",
    "    def searchMatrix(self, matrix, target):\n",
    "        if len(matrix) == 0:\n",
    "            return False\n",
    "        row_start, row_end = 0, len(matrix) - 1\n",
    "        \n",
    "        while row_start + 1 < row_end:\n",
    "            row_mid = row_start + (row_end - row_start) // 2\n",
    "            if matrix[row_mid][0] == target:\n",
    "                return True\n",
    "            elif matrix[row_mid][0] < target:\n",
    "                row_start = row_mid\n",
    "            elif matrix[row_mid][0] > target:\n",
    "                row_end = row_mid\n",
    "\n",
    "        if self.searchRow(matrix[row_start], target) or self.searchRow(matrix[row_end], target):\n",
    "            return True\n",
    "\n",
    "        return False\n",
    "\n",
    "    def searchRow(self, nums, target):\n",
    "        start, end = 0, len(nums) - 1\n",
    "        while start + 1 < end:\n",
    "            mid = start + (end - start) // 2\n",
    "            if nums[mid] == target:\n",
    "                return True\n",
    "            elif nums[mid] < target:\n",
    "                start = mid\n",
    "            else:\n",
    "                end = mid\n",
    "        if nums[start] == target or nums[end] == target:\n",
    "            return True\n",
    "        return False"
   ]
  },
  {
   "cell_type": "markdown",
   "metadata": {
    "colab_type": "text",
    "id": "SsA6KxiY6fBs"
   },
   "source": [
    "### 38. Search a 2D Matrix II\n",
    "Write an efficient algorithm that searches for a value in an m x n matrix, return the occurrence of it.\n",
    "\n",
    "This matrix has the following properties:\n",
    "\n",
    "Integers in each row are sorted from left to right.\n",
    "Integers in each column are sorted from up to bottom.\n",
    "No duplicate integers in each row or column.\n",
    "```\n",
    "Example\n",
    "Consider the following matrix:\n",
    "\n",
    "[\n",
    "  [1, 3, 5, 7],\n",
    "  [2, 4, 7, 8],\n",
    "  [3, 5, 9, 10]\n",
    "]\n",
    "Given target = 3, return 2.\n",
    "\n",
    "Challenge\n",
    "O(m+n) time and O(1) extra space\n",
    "```"
   ]
  },
  {
   "cell_type": "code",
   "execution_count": null,
   "metadata": {
    "colab": {},
    "colab_type": "code",
    "id": "H6uJI8lV6iC5"
   },
   "outputs": [],
   "source": [
    "class Solution:\n",
    "    \"\"\"\n",
    "    @param matrix: An list of lists of integers\n",
    "    @param target: An integer you want to search in matrix\n",
    "    @return: An integer indicates the total occurrence of target in the given matrix\n",
    "    \"\"\"\n",
    "    def searchMatrix(self, matrix, target):\n",
    "        if matrix == [] or matrix[0] == []:\n",
    "            return 0\n",
    "            \n",
    "        row, column = len(matrix), len(matrix[0])\n",
    "        i, j = row - 1, 0\n",
    "        count = 0\n",
    "        while i >= 0 and j < column:\n",
    "            if matrix[i][j] == target:\n",
    "                count += 1\n",
    "                i -= 1\n",
    "                j += 1\n",
    "            elif matrix[i][j] < target:\n",
    "                j += 1\n",
    "            elif matrix[i][j] > target:\n",
    "                i -= 1\n",
    "        return count"
   ]
  },
  {
   "cell_type": "code",
   "execution_count": null,
   "metadata": {
    "colab": {
     "base_uri": "https://localhost:8080/",
     "height": 34
    },
    "colab_type": "code",
    "id": "ZXqZZWqGzEK2",
    "outputId": "fa9f7f2c-5e1d-4236-c336-fa3187932cce"
   },
   "outputs": [
    {
     "name": "stdout",
     "output_type": "stream",
     "text": [
      "3\n"
     ]
    }
   ],
   "source": [
    "class Solution(object):\n",
    "    def searchMatrix(self, A, target):\n",
    "        if len(A) == 0 or len(A[0]) == 0:\n",
    "            return 0\n",
    "        m, n = len(A), len(A[0])\n",
    "        self.ans = set()\n",
    "        self.search(0, 0, m-1, n-1, A, target)\n",
    "        return len(self.ans)\n",
    "\n",
    "    def search(self, x1, y1, x2, y2, A, target):\n",
    "\n",
    "        if not (0 <= x1 <= x2 < len(A)):\n",
    "            return\n",
    "        if not (0 <= y1 <= y2 < len(A[0])):\n",
    "            return\n",
    "\n",
    "        #print array(A)[x1:x2 + 1, y1:y2 + 1]\n",
    "\n",
    "        if x1 + 1 >= x2 and y1 + 1 >= y2:\n",
    "            for x in range(x1, x2+1):\n",
    "                for y in range(y1, y2+1):\n",
    "                    if A[x][y] == target:\n",
    "                        self.ans.add((x, y))\n",
    "\n",
    "            return\n",
    "\n",
    "        mx = (x1 + x2) / 2\n",
    "        my = (y1 + y2) / 2\n",
    "\n",
    "\n",
    "        if A[mx][my] == target:\n",
    "            self.ans.add((mx, my))\n",
    "            self.search(x1, my+1, mx-1, y2, A, target)\n",
    "            self.search(mx+1, y1, x2, my-1, A, target)\n",
    "\n",
    "        elif A[mx][my] > target:\n",
    "            self.search(x1, y1, mx, my, A, target)\n",
    "            self.search(x1, my+1, mx-1, y2, A, target)\n",
    "            self.search(mx+1, y1, x2, my-1, A, target)\n",
    "\n",
    "        elif A[mx][my] < target:\n",
    "            self.search(mx, my, x2, y2, A, target)\n",
    "            self.search(x1, my+1, mx-1, y2, A, target)\n",
    "            self.search(mx+1, y1, x2, my-1, A, target)\n",
    "            \n",
    "            \n",
    "            \n",
    "            \n",
    "if __name__ == \"__main__\":\n",
    "    s = Solution()\n",
    "    print s.searchMatrix([[1,2,3,4,5],[2,3,4,5,6],[3,4,5,6,7],[6,7,8,9,10]], 5)"
   ]
  },
  {
   "cell_type": "markdown",
   "metadata": {
    "colab_type": "text",
    "id": "2j90jT6XXN6n"
   },
   "source": [
    "### 28. Search a 2D Matrix III\n",
    "Write an efficient algorithm that searches for a value in an m x n matrix.\n",
    "\n",
    "This matrix has the following properties:\n",
    "\n",
    "Integers in each row are sorted from left to right.\n",
    "The first integer of each row is not necessarilly larger than the last integer of the previous row.\n",
    "```\n",
    "Example\n",
    "Consider the following matrix:\n",
    "\n",
    "[\n",
    "    [1, 3, 5, 7],\n",
    "    [6, 10, 11, 12],\n",
    "    [10, 11, 12, 13]\n",
    "]\n",
    "Given target = 11, return the position.\n",
    "\n",
    "Challenge\n",
    "O(log(n) + log(m)) time\n",
    " \n",
    "```"
   ]
  },
  {
   "cell_type": "code",
   "execution_count": null,
   "metadata": {
    "colab": {
     "base_uri": "https://localhost:8080/",
     "height": 34
    },
    "colab_type": "code",
    "id": "zHupLsXaOUKD",
    "outputId": "c06025c3-79d6-4b76-cdb7-2513b0f2eb6d"
   },
   "outputs": [
    {
     "name": "stdout",
     "output_type": "stream",
     "text": [
      "2\n"
     ]
    }
   ],
   "source": [
    "class Solution:\n",
    "    \"\"\"\n",
    "    @param matrix: A list of lists of integers\n",
    "    @param target: An integer you want to search in matrix\n",
    "    @return: An integer indicate the total occurrence of target in the given matrix\n",
    "    \"\"\"\n",
    "    def searchMatrix(self, A, target):\n",
    "        if not A or not A[0]:\n",
    "            return -1\n",
    "        \n",
    "        m, n = len(A), len(A[0])\n",
    "        i, j = 0, n-1\n",
    "        count = 0\n",
    "        while i < m and j >= 0:\n",
    "            if A[i][j] < target:\n",
    "                i += 1 \n",
    "            elif A[i][j] > target:\n",
    "                j -= 1\n",
    "            else:\n",
    "                i += 1\n",
    "                j -= 1\n",
    "                count += 1\n",
    "        return count \n",
    "\n",
    "if __name__ == \"__main__\":\n",
    "    s = Solution()\n",
    "    print s.searchMatrix([[1, 3, 5, 7],\n",
    "                          [2, 4, 7, 8],\n",
    "                          [3, 5, 9, 10]],3)"
   ]
  },
  {
   "cell_type": "markdown",
   "metadata": {
    "colab_type": "text",
    "id": "UuPxxIyd6XOD"
   },
   "source": [
    "### 61. Search for a Range\n",
    "Given a sorted array of n integers, find the starting and ending position of a given target value.\n",
    "\n",
    "If the target is not found in the array, return [-1, -1].\n",
    "```\n",
    "Example\n",
    "Given [5, 7, 7, 8, 8, 10] and target value 8,\n",
    "return [3, 4].\n",
    "\n",
    "Challenge\n",
    "O(log n) time.\n",
    "```"
   ]
  },
  {
   "cell_type": "code",
   "execution_count": null,
   "metadata": {
    "colab": {},
    "colab_type": "code",
    "id": "Djo5rUtJ6Z0s"
   },
   "outputs": [],
   "source": [
    "class Solution:\n",
    "    \"\"\"\n",
    "    @param A : a list of integers\n",
    "    @param target : an integer to be searched\n",
    "    @return : a list of length 2, [index1, index2]\n",
    "    \"\"\"\n",
    "    def searchRange(self, A, target):\n",
    "        try:\n",
    "            pos = A.index(target)\n",
    "        except:\n",
    "            return [-1,-1]\n",
    "        res = [pos]\n",
    "        for i in range(pos + 1,len(A)):\n",
    "            if A[pos] == A[pos + 1]:\n",
    "                pos += 1\n",
    "            else:\n",
    "                break\n",
    "        res.append(pos)\n",
    "        return res\n",
    "        \n",
    "        "
   ]
  },
  {
   "cell_type": "markdown",
   "metadata": {
    "colab_type": "text",
    "id": "wjhBDAN35O7s"
   },
   "source": [
    "### 459. Closest Number in Sorted Array\n",
    "Given a target number and an integer array A sorted in ascending order, find the index i in A such that A[i] is closest to the given target.\n",
    "\n",
    "Return -1 if there is no element in the array.\n",
    "```\n",
    "Example\n",
    "Given [1, 2, 3] and target = 2, return 1.\n",
    "\n",
    "Given [1, 4, 6] and target = 3, return 1.\n",
    "\n",
    "Given [1, 4, 6] and target = 5, return 1 or 2.\n",
    "\n",
    "Given [1, 3, 3, 4] and target = 2, return 0 or 1 or 2.\n",
    "\n",
    "Challenge\n",
    "O(logn) time complexity.\n",
    "```"
   ]
  },
  {
   "cell_type": "code",
   "execution_count": null,
   "metadata": {
    "colab": {},
    "colab_type": "code",
    "id": "1j84paxN5Skc"
   },
   "outputs": [],
   "source": [
    "class Solution:\n",
    "    def closestNumber(self, A, target):\n",
    "        nums = A\n",
    "        start, end = 0, len(nums) - 1\n",
    "        while start + 1 < end:\n",
    "            mid = start + (end - start) // 2 \n",
    "            if nums[mid] == target:\n",
    "                return mid\n",
    "            elif nums[mid] > target:\n",
    "                end = mid\n",
    "            elif nums[mid] < target:\n",
    "                start = mid\n",
    "        if A[end] - target < target - A[start]:\n",
    "            return end\n",
    "        else:\n",
    "            return start\n"
   ]
  },
  {
   "cell_type": "markdown",
   "metadata": {
    "colab_type": "text",
    "id": "oGzHqcQI5VC7"
   },
   "source": [
    "### 254. Drop Eggs\n",
    "There is a building of n floors. If an egg drops from the k th floor or above, it will break. If it's dropped from any floor below, it will not break.\n",
    "\n",
    "You're given two eggs, Find k while minimize the number of drops for the worst case. Return the number of drops in the worst case.\n",
    "```\n",
    "Example\n",
    "Given n = 10, return 4.\n",
    "Given n = 100, return 14.\n",
    "```"
   ]
  },
  {
   "cell_type": "code",
   "execution_count": null,
   "metadata": {
    "colab": {},
    "colab_type": "code",
    "id": "3CagoFO_5Wvk"
   },
   "outputs": [],
   "source": [
    "import math\n",
    "class Solution(object):\n",
    "    def dropEggs(self, n):\n",
    "        return int(math.ceil((math.sqrt(8*n+1)-1)/2))"
   ]
  },
  {
   "cell_type": "markdown",
   "metadata": {
    "colab_type": "text",
    "id": "e_x-zxOx5dda"
   },
   "source": [
    "### 584. Drop Eggs II\n",
    "There is a building of n floors. If an egg drops from the k th floor or above, it will break. If it's dropped from any floor below, it will not break.\n",
    "\n",
    "You're given m eggs, Find k while minimize the number of drops for the worst case. Return the number of drops in the worst case.\n",
    "\n",
    "Example\n",
    "Given m = 2, n = 100 return 14\n",
    "Given m = 2, n = 36 return 8"
   ]
  },
  {
   "cell_type": "code",
   "execution_count": null,
   "metadata": {
    "colab": {},
    "colab_type": "code",
    "id": "MJneE3k05czU"
   },
   "outputs": [],
   "source": [
    "class Solution(object):\n",
    "    def dropEggs2(self, m, n):\n",
    "        maxint = 65535\n",
    "        f = [[maxint for j in range(n+1)]\n",
    "                      for i in range(m+1)]\n",
    "        f[1][1] = 1\n",
    "        for i in range(1, m+1):\n",
    "            f[i][1] = 1\n",
    "\n",
    "        for j in range(1, n+1):\n",
    "            f[1][j] = j\n",
    "\n",
    "        for i in range(2, m+1):\n",
    "            for j in range(2, n+1):\n",
    "                for k in range(2, j):\n",
    "                    f[i][j] = min(f[i][j], 1 + max(f[i-1][k-1], f[i][j-k]))\n",
    "                    #print i, j, k, f[i][j]\n",
    "        return f[m][n]"
   ]
  },
  {
   "cell_type": "markdown",
   "metadata": {
    "colab_type": "text",
    "id": "UbZz3EB67rFk"
   },
   "source": [
    "## Check"
   ]
  },
  {
   "cell_type": "markdown",
   "metadata": {
    "colab_type": "text",
    "id": "o-ejMEPU_Jz1"
   },
   "source": [
    "### 437. Copy Books\n",
    "Given n books and the ith book has A[i] pages. You are given k people to copy the n books.\n",
    "\n",
    "n books list in a row and each person can claim a continous range of the n books. For example one copier can copy the books from ith to jth continously, but he can not copy the 1st book, 2nd book and 4th book (without 3rd book).\n",
    "\n",
    "They start copying books at the same time and they all cost 1 minute to copy 1 page of a book. What's the best strategy to assign books so that the slowest copier can finish at earliest time?\n",
    "\n",
    "Example\n",
    "Given array A = [3,2,4], k = 2.\n",
    "\n",
    "Return 5( First person spends 5 minutes to copy book 1 and book 2 and second person spends 4 minutes to copy book 3. )\n",
    "```"
   ]
  },
  {
   "cell_type": "code",
   "execution_count": null,
   "metadata": {
    "colab": {},
    "colab_type": "code",
    "id": "l7GqxHNi7TMt"
   },
   "outputs": [],
   "source": [
    "from sys import maxsize\n",
    "class Solution:\n",
    "    \"\"\"\n",
    "    @param pages: an array of integers\n",
    "    @param k: An integer\n",
    "    @return: an integer\n",
    "    \"\"\"\n",
    "    def copyBooks(self, pages, k):\n",
    "\n",
    "        def check(mid): # if mid is large enough to make k people finish their work before mid\n",
    "            page_left = num = 0 \n",
    "            for page in pages:\n",
    "                if page > mid:\n",
    "                    return False\n",
    "                if page > page_left:\n",
    "                    page_left = mid \n",
    "                    num += 1 \n",
    "                if page <= page_left:\n",
    "                    page_left -= page\n",
    "            return num <= k \n",
    "        \n",
    "        start, end = 0, maxsize\n",
    "        while start + 1 < end:\n",
    "            mid = start + (end - start) / 2 \n",
    "            if check(mid):\n",
    "                end = mid\n",
    "            else:\n",
    "                start = mid\n",
    "        \n",
    "        if check(start): # start is large enough \n",
    "            return start\n",
    "        return end"
   ]
  },
  {
   "cell_type": "markdown",
   "metadata": {
    "colab_type": "text",
    "id": "4CkMuhgX_OGL"
   },
   "source": [
    "### 183. Wood Cut\n",
    "Given n pieces of wood with length L[i] (integer array). Cut them into small pieces to guarantee you could have equal or more than k pieces with the same length. What is the longest length you can get from the n pieces of wood? Given L & k, return the maximum length of the small pieces.\n",
    "```\n",
    "Example\n",
    "For L=[232, 124, 456], k=7, return 114.\n",
    "\n",
    "Challenge\n",
    "O(n log Len), where Len is the longest length of the wood.\n",
    "```"
   ]
  },
  {
   "cell_type": "code",
   "execution_count": null,
   "metadata": {
    "colab": {},
    "colab_type": "code",
    "id": "jL_9KStj_Shm"
   },
   "outputs": [],
   "source": [
    "class Solution:\n",
    "    \"\"\"\n",
    "    @param L: Given n pieces of wood with length L[i]\n",
    "    @param k: An integer\n",
    "    @return: The maximum length of the small pieces\n",
    "    \"\"\"\n",
    "    def woodCut(self, L, k):\n",
    "        if L == []:\n",
    "            return 0 \n",
    "        start, end = 0, max(L)\n",
    "        while start + 1 < end:\n",
    "            mid = start + (end - start) // 2\n",
    "            if self.check(mid, L, k):\n",
    "                start = mid\n",
    "            else:\n",
    "                end = mid\n",
    "        if self.check(end, L, k):\n",
    "            return end\n",
    "        return start\n",
    "\n",
    "    def check(self, mid, L, k):# check if mid is smal enough to make more than k woods\n",
    "        num = 0\n",
    "        for wood in L:\n",
    "            num += wood // mid\n",
    "        return num >= k"
   ]
  },
  {
   "cell_type": "markdown",
   "metadata": {
    "colab_type": "text",
    "id": "ljJZmr_xqi_U"
   },
   "source": [
    "### Maximum Average Subarray II\n",
    "Given an array with positive and negative numbers, find the maximum average subarray which length should be greater or equal to given length k.\n",
    "\n",
    "```\n",
    "Example\n",
    "Given nums = [1, 12, -5, -6, 50, 3], k = 3\n",
    "\n",
    "Return 15.667 // (-6 + 50 + 3) / 3 = 15.667\n",
    "```\n",
    "\n",
    "我们建立一个累加和数组sums，然后求出原数组中最小值赋给left，最大值赋给right，题目中说了误差是1e-5，所以我们的循环条件就是right比left大1e-5，然后我们算出来mid，定义一个minSum初始化为0，布尔型变量check，初始化为false。然后开始遍历数组，先更新累加和数组sums，注意这个累加和数组不是原始数字的累加，而是它们和mid相减的差值累加。我们的目标是找长度大于等于k的子数组的平均值大于mid，由于我们每个数组都减去了mid，那么就转换为找长度大于等于k的子数组的差累积值大于0。我们建立差值累加数组的意义就在于通过sums[i] - sums[j]来快速算出j和i位置中间数字之和，那么我们只要j和i中间正好差k个数字即可，然后minSum就是用来保存j位置之前的子数组差累积的最小值，所以当i >= k时，我们用sums[i - k]来更新minSum，这里的i - k就是j的位置，然后判断如果sums[i] - minSum > 0了，说明我们找到了一段长度大于等k的子数组平均值大于mid了，就可以更新left为mid了，我们标记check为true，并退出循环。在for循环外面，当check为true的时候，left更新为mid，否则right更新为mid，参见代码如下："
   ]
  },
  {
   "cell_type": "code",
   "execution_count": null,
   "metadata": {
    "colab": {
     "base_uri": "https://localhost:8080/",
     "height": 34
    },
    "colab_type": "code",
    "id": "cHQ0Oi4eqiUH",
    "outputId": "2807ab6a-ce5e-4616-bfe5-78079ba9235c"
   },
   "outputs": [
    {
     "name": "stdout",
     "output_type": "stream",
     "text": [
      "3.4999961853\n"
     ]
    }
   ],
   "source": [
    "class Solution:\n",
    "    \"\"\"\n",
    "    @param: nums: an array with positive and negative numbers\n",
    "    @param: k: an integer\n",
    "    @return: the maximum average\n",
    "    \"\"\"\n",
    "    def maxAverage(self, nums, k):\n",
    "        left = min(nums) * 1.0\n",
    "        right = max(nums)\n",
    "        eps = 1e-5\n",
    "        csum = [0 for i in range(len(nums)+1)]\n",
    "        min_pre = [0 for i in range(len(nums)+1)]\n",
    "        \n",
    "        def check(mid):\n",
    "            csum[0] = 0.0\n",
    "            min_pre[0] = 0.0\n",
    "          \n",
    "            for i in range(1, len(nums)+1):\n",
    "                csum[i] = csum[i-1] + nums[i-1] - mid\n",
    "                min_pre[i] = min(min_pre[i-1], csum[i])\n",
    "            \n",
    "            if i >= k and csum[i] - min_pre[i-k] >= 0:\n",
    "                return True\n",
    "            return False\n",
    "        \n",
    "        while left + eps < right:\n",
    "            mid = left + (right -left)/2\n",
    "            if check(mid):\n",
    "                left = mid\n",
    "            else:\n",
    "                right = mid\n",
    "        \n",
    "        return left\n",
    "      \n",
    "if __name__ == \"__main__\":\n",
    "    print Solution().maxAverage([1,2,3,4], 2)"
   ]
  },
  {
   "cell_type": "markdown",
   "metadata": {
    "colab_type": "text",
    "id": "2eUwVTsKjTIB"
   },
   "source": [
    "### Maximum Average Subarray III\n",
    "Given an array with positive and negative numbers, find the maximum average subarray which length should be [k1, k2].\n",
    "\n",
    "```\n",
    "Example\n",
    "Given nums = [1, 12, -5, -6, 50, 3], k = 3\n",
    "\n",
    "Return 15.667 // (-6 + 50 + 3) / 3 = 15.667\n",
    "```"
   ]
  },
  {
   "cell_type": "markdown",
   "metadata": {
    "colab_type": "text",
    "id": "TbT7k2d36y_E"
   },
   "source": [
    "### 600. Smallest Rectangle Enclosing Black Pixels\n",
    "An image is represented by a binary matrix with 0 as a white pixel and 1 as a black pixel. The black pixels are connected, i.e., there is only one black region. Pixels are connected horizontally and vertically. Given the location (x, y) of one of the black pixels, return the area of the smallest (axis-aligned) rectangle that encloses all black pixels.\n",
    "```\n",
    "Example\n",
    "For example, given the following image:\n",
    "\n",
    "[\n",
    "  \"0010\",\n",
    "  \"0110\",\n",
    "  \"0100\"\n",
    "]\n",
    "and x = 0, y = 2,\n",
    "Return 6.\n",
    "```"
   ]
  },
  {
   "cell_type": "code",
   "execution_count": null,
   "metadata": {
    "colab": {},
    "colab_type": "code",
    "id": "JsEH3yrL65Oc"
   },
   "outputs": [],
   "source": [
    "class Solution(object):\n",
    "    # param image {List[List[str]]}  a binary matrix with '0' and '1'\n",
    "    # param x, y {int} the location of one of the black pixels\n",
    "    # return an integer\n",
    "\n",
    "    def minArea(self, image, x, y):\n",
    "        m = len(image)\n",
    "        if m == 0:\n",
    "            return 0\n",
    "        n = len(image[0])\n",
    "        if n == 0:\n",
    "            return 0\n",
    "\n",
    "        # search left\n",
    "        start, end = 0, y\n",
    "        while start + 1 < end:\n",
    "            mid = start + (end - start) // 2\n",
    "            if self.checkCol(image, mid):\n",
    "                end = mid\n",
    "            else:\n",
    "                start = mid\n",
    "        left = start if self.checkCol(image, start) else end\n",
    " \n",
    "        # search right\n",
    "        start, end = y, len(image[0]) - 1\n",
    "        while start + 1 < end:\n",
    "            mid = start + (end - start) // 2\n",
    "            if self.checkCol(image, mid):\n",
    "                start = mid\n",
    "            else:\n",
    "                end = mid\n",
    "        right = end if self.checkCol(image, end) else start\n",
    "\n",
    "        start, end = 0, x\n",
    "        while start + 1 < end:\n",
    "            mid = start + (end - start) // 2\n",
    "            if self.checkRow(image, mid):\n",
    "                end = mid\n",
    "            else:\n",
    "                start = mid\n",
    "\n",
    "        up = start if self.checkRow(image, start) else end\n",
    "\n",
    "        start, end = x, len(image) - 1\n",
    "        while start + 1 < end:\n",
    "            mid = start + (end - start) // 2\n",
    "            if self.checkRow(image, mid):\n",
    "                start = mid\n",
    "            else:\n",
    "                end = mid\n",
    "        down = end if self.checkRow(image, end) else start\n",
    "        \n",
    "        return (right - left + 1) * (down - up + 1)\n",
    "\n",
    "    def checkCol(self, image, col):\n",
    "        for i in range(len(image)):\n",
    "            if image[i][col] == '1':\n",
    "                return True\n",
    "        return False\n",
    "\n",
    "    def checkRow(self, image, row):\n",
    "        for j in range(len(image[0])):\n",
    "            if image[row][j] == '1':\n",
    "                return True\n",
    "        return False"
   ]
  },
  {
   "cell_type": "markdown",
   "metadata": {
    "colab_type": "text",
    "id": "L3MlSRnY3HZW"
   },
   "source": [
    "## Swipe Line "
   ]
  },
  {
   "cell_type": "markdown",
   "metadata": {
    "colab_type": "text",
    "id": "8Dtpkgcs3QBF"
   },
   "source": [
    "### 919. Meeting Rooms II\n",
    "Given an array of meeting time intervals consisting of start and end times [[s1,e1],[s2,e2],...] (si < ei), find the minimum number of conference rooms required.\n",
    "```\n",
    "Example\n",
    "Given intervals = [(0,30),(5,10),(15,20)], return 2.\n",
    "```\n",
    "\n",
    "按开始时间正排序，结束时间逆排序，然后扫描"
   ]
  },
  {
   "cell_type": "code",
   "execution_count": null,
   "metadata": {
    "colab": {
     "base_uri": "https://localhost:8080/",
     "height": 34
    },
    "colab_type": "code",
    "id": "tLCNFPE33Jf9",
    "outputId": "16b601d4-596f-41df-fc59-11dfb7cc1cf0"
   },
   "outputs": [
    {
     "name": "stdout",
     "output_type": "stream",
     "text": [
      "2\n"
     ]
    }
   ],
   "source": [
    "class Interval(object):\n",
    "    def __init__(self, start, end):\n",
    "        self.start = start\n",
    "        self.end = end\n",
    "\n",
    "\n",
    "class Solution:\n",
    "    \"\"\"\n",
    "    @param intervals: an array of meeting time intervals\n",
    "    @return: the minimum number of conference rooms required\n",
    "    \"\"\"\n",
    "    def minMeetingRooms(self, intervals):\n",
    "        points = [] \n",
    "        for inv in intervals:\n",
    "            points.append((inv.start, 1))\n",
    "            points.append((inv.end, -1))\n",
    "        \n",
    "        on_going_meetings = 0 \n",
    "        max_rooms = 0 \n",
    "        \n",
    "        for _, delta in sorted(points):\n",
    "            on_going_meetings += delta\n",
    "            max_rooms = max(max_rooms, on_going_meetings)\n",
    "        \n",
    "        return max_rooms\n",
    "    \n",
    "if __name__ == \"__main__\":\n",
    "    s = Solution()\n",
    "    print s.minMeetingRooms([Interval(0,30), Interval(5,10), Interval(15, 20)])\n"
   ]
  },
  {
   "cell_type": "markdown",
   "metadata": {
    "colab_type": "text",
    "id": "zAKfRQ6kDM-G"
   },
   "source": [
    "### 迷离傍地走\n",
    "\n",
    "\n",
    "为庆祝强汉文武盛世暨废除和亲七百周年，武后决定拜孙武和王翦对春夏秋冬四官细君、昭君、探春、文成做军事训练。\n",
    "孙武和王翦分别负责四官的站军姿和踢正步科目。根据军训要求，只有在学会站军姿之后才能进行踢正步训练。由于四官天资差别，学习时间如下表。\n",
    "\n",
    "\n",
    "\n",
    "![alt text](https://img-blog.csdn.net/20160923143148625)\n",
    "\n"
   ]
  },
  {
   "cell_type": "code",
   "execution_count": null,
   "metadata": {
    "colab": {
     "base_uri": "https://localhost:8080/",
     "height": 50
    },
    "colab_type": "code",
    "id": "Zzt-G24rEnGU",
    "outputId": "9df134cb-9ceb-4044-a9e7-55879799a728"
   },
   "outputs": [
    {
     "name": "stdout",
     "output_type": "stream",
     "text": [
      "[(4, 12), (2, 3), (8, 3), (6, 1)]\n",
      "21\n"
     ]
    }
   ],
   "source": [
    "class Solution(object):\n",
    "    def least_time(self, intervals):\n",
    "        intervals.sort(key = lambda x: (-x[1], x[0]))\n",
    "        time1 = time2 = 0 \n",
    "        print intervals\n",
    "        for inv in intervals:\n",
    "            item1, item2 = inv\n",
    "            if time1 + item1 <= time2 + item2:\n",
    "                time1 += item1 \n",
    "                time2 += item2\n",
    "            else:\n",
    "                time1 += item1\n",
    "                time2 = time1 + item2\n",
    "                \n",
    "        \n",
    "        return time2\n",
    "    \n",
    "    \n",
    "if __name__ == \"__main__\":\n",
    "    s = Solution()\n",
    "    invs = [(8,3), (6,1), (2,3), (4,12)]\n",
    "    print(s.least_time(invs))\n",
    "            \n",
    "            "
   ]
  },
  {
   "cell_type": "markdown",
   "metadata": {
    "colab_type": "text",
    "id": "qRgfOvCdz1aE"
   },
   "source": [
    "# Two Pointers & LinkedList"
   ]
  },
  {
   "cell_type": "markdown",
   "metadata": {
    "colab_type": "text",
    "id": "0YhRJecLmE7Q"
   },
   "source": [
    "## 同向双指针（数组去重，滑动窗口，两数之差，链表中点，带环链表）"
   ]
  },
  {
   "cell_type": "markdown",
   "metadata": {
    "colab_type": "text",
    "id": "1uDO-KLARZOj"
   },
   "source": [
    "### 1. Two Sum\n",
    "Given an array of integers, return indices of the two numbers such that they add up to a specific target.\n",
    "\n",
    "You may assume that each input would have exactly one solution, and you may not use the same element twice.\n",
    "\n",
    "Example:\n",
    "\n",
    "Given nums = [2, 7, 11, 15], target = 9,\n",
    "\n",
    "Because nums[0] + nums[1] = 2 + 7 = 9,\n",
    "return [0, 1]."
   ]
  },
  {
   "cell_type": "code",
   "execution_count": null,
   "metadata": {
    "colab": {},
    "colab_type": "code",
    "id": "z4FYSSFKRlOo"
   },
   "outputs": [],
   "source": [
    "class Solution(object):\n",
    "    def twoSum(self, nums, target):\n",
    "        \"\"\"\n",
    "        :type nums: List[int]\n",
    "        :type target: int\n",
    "        :rtype: List[int]\n",
    "        \"\"\"\n",
    "        nmap = {}\n",
    "        \n",
    "        for i in range(len(nums)):\n",
    "            num = nums[i]\n",
    "            if target - num in nmap:\n",
    "                return sorted([i, nmap[target - num]])\n",
    "            else:\n",
    "                nmap[num] = i\n",
    "        \n",
    "        return [-1,-1]"
   ]
  },
  {
   "cell_type": "markdown",
   "metadata": {
    "colab_type": "text",
    "id": "c2s3o-XWSI24"
   },
   "source": [
    "You are given two non-empty linked lists representing two non-negative integers. The digits are stored in reverse order and each of their nodes contain a single digit. Add the two numbers and return it as a linked list.\n",
    "\n",
    "You may assume the two numbers do not contain any leading zero, except the number 0 itself.\n",
    "```\n",
    "Example:\n",
    "\n",
    "Input: (2 -> 4 -> 3) + (5 -> 6 -> 4)\n",
    "Output: 7 -> 0 -> 8\n",
    "Explanation: 342 + 465 = 807.\n",
    "```"
   ]
  },
  {
   "cell_type": "code",
   "execution_count": null,
   "metadata": {
    "colab": {},
    "colab_type": "code",
    "id": "_vjPBho4SLhR"
   },
   "outputs": [],
   "source": [
    "class Solution(object):\n",
    "    def addTwoNumbers(self, l1, l2):\n",
    "        \"\"\"\n",
    "        :type l1: ListNode\n",
    "        :type l2: ListNode\n",
    "        :rtype: ListNode\n",
    "        \"\"\"\n",
    "        l3 = head = ListNode(-1)\n",
    "        res = 0\n",
    "        while l1 and l2:\n",
    "            val = l1.val + l2.val + res\n",
    "            res = 0\n",
    "            if val >= 10:\n",
    "                res = 1\n",
    "                val -= 10\n",
    "            l3.next = ListNode(val)\n",
    "            l1 = l1.next\n",
    "            l2 = l2.next\n",
    "            l3 = l3.next\n",
    "\n",
    "        while l1:\n",
    "            val = l1.val + res\n",
    "            res = 0\n",
    "            if val >= 10:\n",
    "                res = 1\n",
    "                val -= 10\n",
    "            l3.next = ListNode(val)\n",
    "            l1 = l1.next\n",
    "            l3 = l3.next\n",
    "        \n",
    "        while l2:\n",
    "            val = l2.val + res\n",
    "            res = 0\n",
    "            if val >= 10:\n",
    "                res = 1\n",
    "                val -= 10\n",
    "            l3.next = ListNode(val)\n",
    "            l2 = l2.next\n",
    "            l3 = l3.next\n",
    "\n",
    "        \n",
    "        if res:\n",
    "            l3.next = ListNode(res)\n",
    "            res = 0 \n",
    "            l3 = l3.next\n",
    "        \n",
    "        return head.next"
   ]
  },
  {
   "cell_type": "markdown",
   "metadata": {
    "colab_type": "text",
    "id": "GAJTOZc_HSNN"
   },
   "source": [
    "### 228. Middle of Linked List\n",
    "Description\n",
    "Find the middle node of a linked list.\n",
    "\n",
    "Have you met this question in a real interview?  \n",
    "```\n",
    "Example\n",
    "Given 1->2->3, return the node with value 2.\n",
    "\n",
    "Given 1->2, return the node with value 1.\n",
    "\n",
    "Challenge\n",
    "If the linked list is in a data stream, can you find the middle without iterating the linked list again?\n",
    "```"
   ]
  },
  {
   "cell_type": "code",
   "execution_count": null,
   "metadata": {
    "colab": {},
    "colab_type": "code",
    "id": "729mg0sEI8_N"
   },
   "outputs": [],
   "source": [
    "class Solution:\n",
    "    # @ head: the head of linked list.\n",
    "    # @ return: a middle node of the linked list\n",
    "    def middleNode(self, head):\n",
    "        if head is None:\n",
    "            return None\n",
    "        slow = head\n",
    "        fast = slow.next\n",
    "        while fast is not None and fast.next is not None:\n",
    "            slow = slow.next\n",
    "            fast = fast.next.next\n",
    "\n",
    "        return slow"
   ]
  },
  {
   "cell_type": "markdown",
   "metadata": {
    "colab_type": "text",
    "id": "7kFwcxhmHSqE"
   },
   "source": [
    "### 539. Move Zeroes\n",
    "\n",
    "Description\n",
    "Given an array nums, write a function to move all 0's to the end of it while maintaining the relative order of the non-zero elements.\n",
    "\n",
    "You must do this in-place without making a copy of the array.\n",
    "Minimize the total number of operations.\n",
    "Have you met this question in a real interview?  \n",
    "```\n",
    "Example\n",
    "Given nums = [0, 1, 0, 3, 12], after calling your function, nums should be [1, 3, 12, 0, 0].\n",
    "```"
   ]
  },
  {
   "cell_type": "code",
   "execution_count": null,
   "metadata": {
    "colab": {
     "base_uri": "https://localhost:8080/",
     "height": 34
    },
    "colab_type": "code",
    "id": "W8I_EajoKIB7",
    "outputId": "49088211-f07b-4c03-d4ba-4e7c9e30fed3"
   },
   "outputs": [
    {
     "name": "stdout",
     "output_type": "stream",
     "text": [
      "[1, 3, 12, 0, 0]\n"
     ]
    }
   ],
   "source": [
    "class Solution:\n",
    "    # @{int[]} nums an integer array\n",
    "    # @return nothing, do this in-place\n",
    "    def moveZeroes(self, nums):\n",
    "        left = right = 0\n",
    "        while right < len(nums):\n",
    "            if nums[right] != 0:\n",
    "                nums[left], nums[right] = nums[right], nums[left]\n",
    "                left += 1\n",
    "            right += 1\n",
    "        return nums\n",
    "      \n",
    "if __name__ == \"__main__\":\n",
    "    print Solution().moveZeroes([0, 1, 0, 3, 12])"
   ]
  },
  {
   "cell_type": "markdown",
   "metadata": {
    "colab_type": "text",
    "id": "5-JSiUxbHSJL"
   },
   "source": [
    "### 521. Remove Duplicate Numbers in Array\n",
    "\n",
    "Description\n",
    "Given an array of integers, remove the duplicate numbers in it.\n",
    "\n",
    "You should:\n",
    "\n",
    "Do it in place in the array.\n",
    "Move the unique numbers to the front of the array.\n",
    "Return the total number of the unique numbers.\n",
    "You don't need to keep the original order of the integers.\n",
    "\n",
    "Have you met this question in a real interview?  \n",
    "\n",
    "```\n",
    "Example\n",
    "Given nums = [1,3,1,4,4,2], you should:\n",
    "\n",
    "Move duplicate integers to the tail of nums => nums = [1,3,4,2,?,?].\n",
    "Return the number of unique integers in nums => 4.\n",
    "Actually we don't care about what you place in ?, we only care about the part which has no duplicate integers.\n",
    "\n",
    "Challenge\n",
    "Do it in O(n) time complexity.\n",
    "Do it in O(nlogn) time without extra space.\n",
    "```"
   ]
  },
  {
   "cell_type": "code",
   "execution_count": null,
   "metadata": {
    "colab": {
     "base_uri": "https://localhost:8080/",
     "height": 34
    },
    "colab_type": "code",
    "id": "IMzlFyQ6K_qs",
    "outputId": "1da968e5-7e79-471a-c828-c0a4a40049fb"
   },
   "outputs": [
    {
     "name": "stdout",
     "output_type": "stream",
     "text": [
      "5\n"
     ]
    }
   ],
   "source": [
    "class Solution:\n",
    "    # @{int[]} nums an array of integers\n",
    "    # @return {int} the number of unique integers\n",
    "    def deduplication(self, nums):\n",
    "        return len(set(nums)) \n",
    "    \n",
    "    def deduplication2(self, nums):\n",
    "        nums.sort()\n",
    "        pvt = 0\n",
    "        for i in range(len(nums)):\n",
    "            if nums[i] != nums[pvt]:\n",
    "                pvt += 1\n",
    "                nums[pvt] = nums[i]\n",
    "        return pvt + 1\n",
    "      \n",
    "if __name__ == \"__main__\":\n",
    "    print(Solution().deduplication2([1,2,3,4,5,1,3,2]))"
   ]
  },
  {
   "cell_type": "markdown",
   "metadata": {
    "colab_type": "text",
    "id": "QusJcqafmUdP"
   },
   "source": [
    "### 610. Two Sum - Difference equals to target\n",
    "\n",
    "610. Two Sum - Difference equals to target\n",
    "Given an array of integers, find two numbers that their difference equals to a target value.\n",
    "where index1 must be less than index2. Please note that your returned answers (both index1 and index2) are NOT zero-based.\n",
    "\n",
    "Example\n",
    "Given nums = [2, 7, 15, 24], target = 5\n",
    "return [1, 2] (7 - 2 = 5)"
   ]
  },
  {
   "cell_type": "code",
   "execution_count": null,
   "metadata": {
    "colab": {
     "base_uri": "https://localhost:8080/",
     "height": 34
    },
    "colab_type": "code",
    "id": "oRR4dtmPqmDu",
    "outputId": "09dd49e9-608b-45f3-8573-21e60f5dc0a1"
   },
   "outputs": [
    {
     "name": "stdout",
     "output_type": "stream",
     "text": [
      "(1, 2)\n"
     ]
    }
   ],
   "source": [
    "class Solution:\n",
    "    \"\"\"\n",
    "    @param nums {int[]} n array of Integer\n",
    "    @param target {int} an integer\n",
    "    @return {int[]} [index1 + 1, index2 + 1] (index1 < index2)\n",
    "    \"\"\"\n",
    "\n",
    "    def twoSum7(self, nums, target):\n",
    "        # Write your code here\n",
    "        dct = {}\n",
    "        for i in range(len(nums)):\n",
    "            if nums[i] - target in dct:\n",
    "                return (dct[nums[i] - target] + 1, i + 1)\n",
    "            if nums[i] + target in dct:\n",
    "                return (dct[nums[i] + target] + 1, i + 1)\n",
    "            dct[nums[i]] = i ## 5+5 = 10?\n",
    "\n",
    "\n",
    "if __name__ == \"__main__\":\n",
    "    print Solution().twoSum7([2, 7, 15, 24], 5)"
   ]
  },
  {
   "cell_type": "markdown",
   "metadata": {
    "colab_type": "text",
    "id": "DLTBKQBet-fH"
   },
   "source": [
    "### 380. Intersection of Two Linked Lists\n",
    "Write a program to find the node at which the intersection of two singly linked lists begins.\n",
    "```\n",
    "Example\n",
    "The following two linked lists:\n",
    "\n",
    "A:          a1 → a2\n",
    "                   ↘\n",
    "                     c1 → c2 → c3\n",
    "                   ↗            \n",
    "B:     b1 → b2 → b3\n",
    "begin to intersect at node c1.\n",
    "```\n",
    "Challenge\n",
    "Your code should preferably run in O(n) time and use only O(1) memory.\n",
    "\n"
   ]
  },
  {
   "cell_type": "code",
   "execution_count": null,
   "metadata": {
    "colab": {
     "base_uri": "https://localhost:8080/",
     "height": 34
    },
    "colab_type": "code",
    "id": "x1btOrLXt-i7",
    "outputId": "f791e671-0916-429a-8bad-9832e3533755"
   },
   "outputs": [
    {
     "name": "stdout",
     "output_type": "stream",
     "text": [
      "None\n"
     ]
    }
   ],
   "source": [
    "# Definition for singly-linked list.\n",
    "class ListNode:\n",
    "     def __init__(self, x):\n",
    "        self.val = x\n",
    "        self.next = None\n",
    "\n",
    "\n",
    "class Solution:\n",
    "    # param headA: the first list\n",
    "    # param headB: the second list\n",
    "    # @return: a ListNode\n",
    "    def getIntersectionNode(self, headA, headB):\n",
    "        # Write your code here\n",
    "        lenA, lenB = 0, 0\n",
    "        node1, node2 = headA, headB\n",
    "        while node1 is not None:\n",
    "            lenA += 1\n",
    "            node1 = node1.next\n",
    "        while node2 is not None:\n",
    "            lenB += 1\n",
    "            node2 = node2.next\n",
    "\n",
    "        node1, node2 = headA, headB\n",
    "        while lenA > lenB:\n",
    "            node1 = node1.next\n",
    "            lenA -= 1\n",
    "        while lenB > lenA:\n",
    "            node2 = node2.next\n",
    "            lenB -= 1\n",
    "        while node1 is not node2:\n",
    "            node1 = node1.next\n",
    "            node2 = node2.next\n",
    "        return node1\n",
    "\n",
    "\n",
    "print Solution().getIntersectionNode(None, None)"
   ]
  },
  {
   "cell_type": "markdown",
   "metadata": {
    "colab_type": "text",
    "id": "ZgIlhz3_xbvE"
   },
   "source": [
    "### 102. Linked List Cycle\n",
    "Given a linked list, determine if it has a cycle in it.\n",
    "\n",
    "\n",
    "```\n",
    "Example\n",
    "Given -21->10->4->5, tail connects to node index 1, return true\n",
    "\n",
    "Challenge\n",
    "Follow up:\n",
    "Can you solve it without using extra space?\n",
    "```\n",
    "这题要问的是，会不会永远不相遇，绝对不会，因为fast同奇偶，slow变奇偶，所以一定有相遇的时候。\n"
   ]
  },
  {
   "cell_type": "code",
   "execution_count": null,
   "metadata": {
    "colab": {
     "base_uri": "https://localhost:8080/",
     "height": 34
    },
    "colab_type": "code",
    "id": "2Iq8qvfZxbzG",
    "outputId": "2e211f12-4d2b-4dab-d527-c16071a745c8"
   },
   "outputs": [
    {
     "name": "stdout",
     "output_type": "stream",
     "text": [
      "False\n"
     ]
    }
   ],
   "source": [
    "class ListNode:\n",
    "     def __init__(self, x):\n",
    "        self.val = x\n",
    "        self.next = None\n",
    "class Solution:\n",
    "    \"\"\"\n",
    "    @param head: The first node of the linked list.\n",
    "    @return: True if it has a cycle, or false\n",
    "    \"\"\"\n",
    "    def hasCycle(self, head):\n",
    "        # write your code here\n",
    "        if head is None:\n",
    "            return False\n",
    "        fast = head\n",
    "        slow = head\n",
    "        while fast.next is not None:\n",
    "            fast = fast.next.next\n",
    "            slow = slow.next\n",
    "            if fast is None:\n",
    "                return False\n",
    "            elif fast == slow:\n",
    "                return True\n",
    "        return False\n",
    "\n",
    "print Solution().hasCycle(None)"
   ]
  },
  {
   "cell_type": "markdown",
   "metadata": {
    "colab_type": "text",
    "id": "2LyK4vzQLnDH"
   },
   "source": [
    "### 103. Linked List Cycle II\n",
    "Given a linked list, return the node where the cycle begins.\n",
    "\n",
    "If there is no cycle, return null.\n",
    "```\n",
    "Example\n",
    "Given -21->10->4->5, tail connects to node index 1，return 10\n",
    "\n",
    "Challenge\n",
    "Follow up:\n",
    "\n",
    "Can you solve it without using extra space?\n",
    "\n",
    "    a            b\n",
    "A ------ B --------+\n",
    "         |         |\n",
    "       c |         |\n",
    "         +-------- C\n",
    "\n",
    "\n",
    "\n",
    "* A: 起始点\n",
    "* B: Cycle Begins\n",
    "* C: 1st 快慢指针相遇点\n",
    "\n",
    "\n",
    "* A->B: a\n",
    "* B->C: b\n",
    "* C->B: c\n",
    "* 环的长度 (b+c) 为 R\n",
    "\n",
    "第一次相遇时，慢指针所走步数为\n",
    "a + b + mR\n",
    "快指针走的步数为\n",
    "a + b + nR\n",
    "我们知道快指针是慢指针速度的2倍，因此\n",
    "2(a + b + mR) = a + b + nR\n",
    "那么\n",
    "a + b = (n-2m)R\n",
    "同时\n",
    "b + c = R\n",
    "所以\n",
    "a = (n - 2m - 1)R + c;\n",
    "也就是说，从A点和C点同时出发，以相同的速度前进，那么下一次相遇的位置将是B。\n",
    "```"
   ]
  },
  {
   "cell_type": "code",
   "execution_count": null,
   "metadata": {
    "colab": {
     "base_uri": "https://localhost:8080/",
     "height": 34
    },
    "colab_type": "code",
    "id": "3KACQWwtLnK3",
    "outputId": "20ed8e02-c5a6-4b5d-bac0-4fcd2d7de7bc"
   },
   "outputs": [
    {
     "name": "stdout",
     "output_type": "stream",
     "text": [
      "21\n"
     ]
    }
   ],
   "source": [
    "class ListNode(object):\n",
    "    def __init__(self, val, next=None):\n",
    "        self.val = val\n",
    "        self.next =Vnext\n",
    "\n",
    "\n",
    "class Solution:\n",
    "    \"\"\"\n",
    "    @param: head: The first node of linked list.\n",
    "    @return: The node where the cycle begins. if there is no cycle, return null\n",
    "    \"\"\"\n",
    "    def detectCycle(self, head):\n",
    "        if head is None:\n",
    "            return False\n",
    "        fast = head\n",
    "        slow = head\n",
    "        while fast.next is not None:\n",
    "            fast = fast.next.next\n",
    "            slow = slow.next\n",
    "            if fast is None:\n",
    "                return False\n",
    "            elif fast == slow:\n",
    "                fast = head\n",
    "                while fast != slow:\n",
    "                    fast = fast.next\n",
    "                    slow = slow.next\n",
    "                return fast\n",
    "        return False\n",
    "      \n",
    "if __name__ == \"__main__\":\n",
    "    #21->10->4->5\n",
    "\n",
    "    root = ListNode(21)\n",
    "    root.next = ListNode(10)\n",
    "    root.next.next = ListNode(4)\n",
    "    root.next.next.next = ListNode(5)\n",
    "    root.next.next.next.next = root\n",
    "    print Solution().detectCycle(root).val"
   ]
  },
  {
   "cell_type": "markdown",
   "metadata": {
    "colab_type": "text",
    "id": "aYgSHjiOVkXO"
   },
   "source": [
    "###406. Minimum Size Subarray Sum\n",
    "Given an array of n positive integers and a positive integer s, find the minimal length of a subarray of which the sum ≥ s. If there isn't one, return -1 instead.\n",
    "```\n",
    "Example\n",
    "Given the array [2,3,1,2,4,3] and s = 7, the subarray [4,3] has the minimal length under the problem constraint.\n",
    "\n",
    "Challenge\n",
    "If you have figured out the O(n) solution, try coding another solution of which the time complexity is O(n log n).\n",
    "\n",
    "```"
   ]
  },
  {
   "cell_type": "code",
   "execution_count": null,
   "metadata": {
    "colab": {
     "base_uri": "https://localhost:8080/",
     "height": 35
    },
    "colab_type": "code",
    "id": "0UHZK_MTVxJd",
    "outputId": "ccf2add2-9707-4c7d-c31d-c6508e798bcc"
   },
   "outputs": [
    {
     "name": "stdout",
     "output_type": "stream",
     "text": [
      "4\n"
     ]
    }
   ],
   "source": [
    "class Solution:\n",
    "    \"\"\"\n",
    "    @param nums: an array of integers\n",
    "    @param s: An integer\n",
    "    @return: an integer representing the minimum size of subarray\n",
    "    \"\"\"\n",
    "    def minimumSize1(self, nums, s): # 34.40%\n",
    "        n = len(nums)\n",
    "        if n == 0 or sum(nums) < s:\n",
    "            return -1\n",
    "        start, end = 1, n\n",
    "        cum = [0]\n",
    "        for i in range(1, n+1):\n",
    "            cum.append(nums[i-1] + cum[i-1])\n",
    "        def check(k):  # k is large enough\n",
    "            for i in range(len(nums) - k + 1):\n",
    "                if cum[i+k] - cum[i] >= s:\n",
    "                    return True\n",
    "            return False\n",
    "\n",
    "        while start + 1 < end:\n",
    "            mid = start + (end - start) // 2\n",
    "            if check(mid):\n",
    "                end = mid\n",
    "            else:\n",
    "                start = mid\n",
    "\n",
    "        if check(start):\n",
    "            return start\n",
    "        if check(end):\n",
    "            return end\n",
    "        return -1\n",
    "\n",
    "    def minimumSize(self, nums, s): # 34.40%\n",
    "        from sys import maxsize\n",
    "        i = j = 0\n",
    "        cum = 0\n",
    "        ans = maxsize\n",
    "        for i in range(len(nums)):\n",
    "            while j < len(nums) and cum < s:\n",
    "                cum += nums[j]\n",
    "                j += 1\n",
    "            if cum >= s:\n",
    "                ans = min(ans, j-i)\n",
    "            cum -= nums[i]\n",
    "\n",
    "        return ans if ans != maxsize else -1\n",
    "\n",
    "\n",
    "if __name__ == \"__main__\":\n",
    "    nums = [100,50,99,50,100,50,99,50,100,50]\n",
    "    s = 250\n",
    "    print Solution().minimumSize(nums, s)"
   ]
  },
  {
   "cell_type": "markdown",
   "metadata": {
    "colab_type": "text",
    "id": "wyQFcNc0mj7T"
   },
   "source": [
    "### 362. Sliding Window Maximum\n",
    "Given an array of n integer with duplicate number, and a moving window(size k), move the window at each iteration from the start of the array, find the maximum number inside the window at each moving.\n",
    "```\n",
    "Example\n",
    "For array [1, 2, 7, 7, 8], moving window size k = 3. return [7, 7, 8]\n",
    "\n",
    "At first the window is at the start of the array like this\n",
    "\n",
    "[|1, 2, 7| ,7, 8] , return the maximum 7;\n",
    "\n",
    "then the window move one step forward.\n",
    "\n",
    "[1, |2, 7 ,7|, 8], return the maximum 7;\n",
    "\n",
    "then the window move one step forward again.\n",
    "\n",
    "[1, 2, |7, 7, 8|], return the maximum 8;\n",
    "\n",
    "Challenge\n",
    "o(n) time and O(k) memory.\n",
    "```"
   ]
  },
  {
   "cell_type": "code",
   "execution_count": null,
   "metadata": {
    "colab": {},
    "colab_type": "code",
    "id": "X9187ikvmntS"
   },
   "outputs": [],
   "source": [
    "from collections import deque\n",
    "class Solution:\n",
    "    \"\"\"\n",
    "    @param nums: A list of integers.\n",
    "    @return: The maximum number inside the window at each moving.\n",
    "    \"\"\"\n",
    "    def maxSlidingWindow(self, nums, k):\n",
    "        # write your code here\n",
    "        q = deque()\n",
    "        result = []\n",
    "        if len(nums) < k or k == 0:\n",
    "            return []\n",
    "\n",
    "        n = len(nums)\n",
    "        for i in xrange(n):\n",
    "            while len(q) and nums[q[-1]] < nums[i]:\n",
    "                q.pop()\n",
    "            q.append(i)\n",
    "\n",
    "            if i < k - 1:                        \n",
    "                continue\n",
    "\n",
    "            while len(q) and q[0] <= i - k:\n",
    "                q.popleft()\n",
    "            \n",
    "            result.append(nums[q[0]])\n",
    "\n",
    "        return result;"
   ]
  },
  {
   "cell_type": "markdown",
   "metadata": {
    "colab_type": "text",
    "id": "lpW2GTuaVqLM"
   },
   "source": [
    "### 384. Longest Substring Without Repeating Characters\n",
    "Given a string, find the length of the longest substring without repeating characters.\n",
    "```\n",
    "Example\n",
    "For example, the longest substring without repeating letters for \"abcabcbb\" is \"abc\", which the length is 3.\n",
    "\n",
    "For \"bbbbb\" the longest substring is \"b\", with the length of 1.\n",
    "\n",
    "Challenge\n",
    "O(n) time\n",
    "```"
   ]
  },
  {
   "cell_type": "code",
   "execution_count": null,
   "metadata": {
    "colab": {
     "base_uri": "https://localhost:8080/",
     "height": 35
    },
    "colab_type": "code",
    "id": "2BpXqFI3Y-o3",
    "outputId": "15f27fe7-32b3-41ac-a646-a990b4f781c1"
   },
   "outputs": [
    {
     "name": "stdout",
     "output_type": "stream",
     "text": [
      "3\n"
     ]
    }
   ],
   "source": [
    "class Solution:\n",
    "    \"\"\"\n",
    "    @param s: a string\n",
    "    @return: an integer\n",
    "    \"\"\"\n",
    "    def lengthOfLongestSubstring(self, s):\n",
    "        i = j = 0\n",
    "        ch_set = set()\n",
    "        ans = 0\n",
    "        for i in range(len(s)):\n",
    "            while j < len(s) and s[j] not in ch_set:\n",
    "                ch_set.add(s[j])\n",
    "                j += 1\n",
    "            ans = max(ans, j-i)\n",
    "            ch_set.remove(s[i])\n",
    "        return ans\n",
    "\n",
    "\n",
    "if __name__ == \"__main__\":\n",
    "    s = \"abcabcbb\"\n",
    "    print Solution().lengthOfLongestSubstring(s)\n"
   ]
  },
  {
   "cell_type": "code",
   "execution_count": null,
   "metadata": {
    "colab": {
     "base_uri": "https://localhost:8080/",
     "height": 35
    },
    "colab_type": "code",
    "id": "4RIoigj8SnVl",
    "outputId": "7105978a-c35d-401c-f80f-975325b7d1ec"
   },
   "outputs": [
    {
     "name": "stdout",
     "output_type": "stream",
     "text": [
      "3\n"
     ]
    }
   ],
   "source": [
    "class Solution(object):\n",
    "    def lengthOfLongestSubstring(self, s):\n",
    "        \"\"\"\n",
    "        :type s: str\n",
    "        :rtype: int\n",
    "        \"\"\"\n",
    "        maxlen = 0 \n",
    "        ch_dict = {}\n",
    "        i = 0 \n",
    "        \n",
    "        for j, ch in enumerate(s):    \n",
    "            if ch in ch_dict:\n",
    "                i = max(ch_dict[ch], i)\n",
    "            maxlen = max(maxlen, j - i)\n",
    "            ch_dict[ch] = j\n",
    "        \n",
    "        #print(ch_dict)\n",
    "        return maxlen\n",
    "if __name__ == \"__main__\":\n",
    "    s = \"abcabcbb\"\n",
    "    print Solution().lengthOfLongestSubstring(s)"
   ]
  },
  {
   "cell_type": "markdown",
   "metadata": {
    "colab_type": "text",
    "id": "WNFiFll1ZBu-"
   },
   "source": [
    "###386. Longest Substring with At Most K Distinct Characters\n",
    "Given a string s, find the length of the longest substring T that contains at most k distinct characters.\n",
    "```\n",
    "Example\n",
    "For example, Given s = \"eceba\", k = 3,\n",
    "\n",
    "T is \"eceb\" which its length is 4.\n",
    "\n",
    "Challenge\n",
    "O(n), n is the size of the string s.\n",
    "\n",
    "```"
   ]
  },
  {
   "cell_type": "code",
   "execution_count": null,
   "metadata": {
    "colab": {
     "base_uri": "https://localhost:8080/",
     "height": 35
    },
    "colab_type": "code",
    "id": "zQCUOonXZB51",
    "outputId": "03fb9efe-8c0f-4812-ce79-74a42e639c61"
   },
   "outputs": [
    {
     "name": "stdout",
     "output_type": "stream",
     "text": [
      "27\n"
     ]
    }
   ],
   "source": [
    "class Solution:\n",
    "    \"\"\"\n",
    "    @param s: A string\n",
    "    @param k: An integer\n",
    "    @return: An integer\n",
    "    \"\"\"\n",
    "    def lengthOfLongestSubstringKDistinct(self, s, k):\n",
    "        j = 0\n",
    "        ch_dic = {}\n",
    "        ans = 0\n",
    "        for i in range(len(s)):\n",
    "            while j < len(s):\n",
    "                if s[j] in ch_dic:\n",
    "                    ch_dic[s[j]] += 1\n",
    "                else:\n",
    "                    if len(ch_dic) == k:\n",
    "                        break\n",
    "                    ch_dic[s[j]] = 1\n",
    "                j += 1\n",
    "\n",
    "            ans = max(ans, j-i)\n",
    "            if s[i] in ch_dic:\n",
    "                if ch_dic[s[i]] > 1:\n",
    "                    ch_dic[s[i]] -= 1\n",
    "                else:\n",
    "                    ch_dic.pop(s[i])\n",
    "        return ans\n",
    "\n",
    "if __name__ ==\"__main__\":\n",
    "    s = \"eqgkcwGFvjjmxutystqdfhuMblWbylgjxsxgnoh\"\n",
    "    k = 16\n",
    "    print Solution().lengthOfLongestSubstringKDistinct(s, k)\n"
   ]
  },
  {
   "cell_type": "markdown",
   "metadata": {
    "colab_type": "text",
    "id": "e0vnSqvMS5vu"
   },
   "source": [
    "### 5. Longest Palindromic Substring\n",
    "Medium\n",
    "Given a string s, find the longest palindromic substring in s. You may assume that the maximum length of s is 1000.\n",
    "```\n",
    "Example 1:\n",
    "\n",
    "Input: \"babad\"\n",
    "Output: \"bab\"\n",
    "Note: \"aba\" is also a valid answer.\n",
    "Example 2:\n",
    "\n",
    "Input: \"cbbd\"\n",
    "Output: \"bb\"\n",
    "```"
   ]
  },
  {
   "cell_type": "code",
   "execution_count": null,
   "metadata": {
    "colab": {},
    "colab_type": "code",
    "id": "KQvLZxyeTGP0"
   },
   "outputs": [],
   "source": [
    "class Solution(object):\n",
    "    def longestPalindrome(self, s):\n",
    "        \"\"\"\n",
    "        :type s: str\n",
    "        :rtype: str\n",
    "        \"\"\"\n",
    "        n = len(s)\n",
    "        maxlen = 0\n",
    "        ans = ''\n",
    "        \n",
    "        for i in range(n):            \n",
    "            # odd\n",
    "            start, end = i, i\n",
    "            while start >= 0 and end < n and s[start] == s[end]:\n",
    "                    start -= 1\n",
    "                    end += 1 \n",
    "            if end - start - 1 > maxlen:\n",
    "                \n",
    "                ans = s[start+1:end]\n",
    "                maxlen = end - start - 1 \n",
    "                \n",
    "            # even\n",
    "            start, end = i, i+1\n",
    "            while start >= 0 and end < n and s[start] == s[end]:\n",
    "                    start -= 1\n",
    "                    end += 1 \n",
    "            if end - start - 1 > maxlen:\n",
    "                ans = s[start+1:end]\n",
    "                maxlen = end - start - 1 \n",
    "                \n",
    "        return ans"
   ]
  },
  {
   "cell_type": "markdown",
   "metadata": {
    "colab_type": "text",
    "id": "cqGsKQKaTn_i"
   },
   "source": [
    "### 76. Minimum Window Substring\n",
    "Hard\n",
    "Given a string S and a string T, find the minimum window in S which will contain all the characters in T in complexity O(n).\n",
    "```\n",
    "Example:\n",
    "\n",
    "Input: S = \"ADOBECODEBANC\", T = \"ABC\"\n",
    "Output: \"BANC\"\n",
    "Note:\n",
    "\n",
    "If there is no such window in S that covers all characters in T, return the empty string \"\".\n",
    "If there is such window, you are guaranteed that there will always be only one unique minimum window in S.\n",
    "Accepted\n",
    "210,710\n",
    "Submissions\n",
    "707,191\n",
    "```"
   ]
  },
  {
   "cell_type": "code",
   "execution_count": null,
   "metadata": {
    "colab": {},
    "colab_type": "code",
    "id": "HV3Uxjs6TtP1"
   },
   "outputs": [],
   "source": [
    "from collections import Counter\n",
    "class Solution:\n",
    "    def minWindow(self, s, t):\n",
    "        \"\"\"\n",
    "        :type s: str\n",
    "        :type t: str\n",
    "        :rtype: str\n",
    "        \"\"\"\n",
    "        mapt = Counter(t)\n",
    "        count = len(t)\n",
    "        head = left = right = 0\n",
    "        dis = 2**32 \n",
    "        \n",
    "        while right < len(s):\n",
    "            if mapt[s[right]] > 0:\n",
    "                count -= 1\n",
    "            mapt[s[right]] -= 1\n",
    "            right += 1\n",
    "                \n",
    "            while count == 0:\n",
    "                if right - left < dis:\n",
    "                    dis = right - left\n",
    "                    head = left\n",
    "                \n",
    "                if mapt[s[left]] == 0:\n",
    "                    count += 1\n",
    "                \n",
    "                mapt[s[left]] += 1\n",
    "                left += 1\n",
    "\n",
    "        return \"\" if dis == 2 ** 32 else s[head:head+dis]"
   ]
  },
  {
   "cell_type": "markdown",
   "metadata": {
    "colab_type": "text",
    "id": "NwxnnextlXnI"
   },
   "source": [
    "## 相向双指针（两数之和,  判断回文串）\n"
   ]
  },
  {
   "cell_type": "markdown",
   "metadata": {
    "colab_type": "text",
    "id": "-24yfHjfHSFy"
   },
   "source": [
    "### 608. Two Sum II - Input array is sorted\n",
    "Description\n",
    "Given an array of integers that is already sorted in ascending order, find two numbers such that they add up to a specific target number.\n",
    "\n",
    "The function twoSum should return indices of the two numbers such that they add up to the target, where index1 must be less than index2. Please note that your returned answers (both index1 and index2) are not zero-based.\n",
    "\n",
    "You may assume that each input would have exactly one solution.\n",
    "\n",
    "```\n",
    "Example\n",
    "Given nums = [2, 7, 11, 15], target = 9\n",
    "return [1, 2]\n",
    "```"
   ]
  },
  {
   "cell_type": "code",
   "execution_count": null,
   "metadata": {
    "colab": {},
    "colab_type": "code",
    "id": "eyuutwY1Fq__"
   },
   "outputs": [],
   "source": [
    "class Solution:\n",
    "    \"\"\"\n",
    "    @param nums: an array of Integer\n",
    "    @param target: target = nums[index1] + nums[index2]\n",
    "    @return: [index1 + 1, index2 + 1] (index1 < index2)\n",
    "    \"\"\"\n",
    "    def twoSum(self, nums, target):\n",
    "        start, end = 0, len(nums) - 1\n",
    "        while start < end :\n",
    "            csum = nums[start] + nums[end]\n",
    "            if csum == target:\n",
    "                return [start+1, end+1]\n",
    "            elif csum < target:\n",
    "                start += 1\n",
    "            else:\n",
    "                end -=1\n",
    "        return []"
   ]
  },
  {
   "cell_type": "markdown",
   "metadata": {
    "colab_type": "text",
    "id": "b700s9htdFsY"
   },
   "source": [
    "### 607. Two Sum III - Data structure design\n",
    "\n",
    "Description\n",
    "Design and implement a TwoSum class. It should support the following operations: add and find.\n",
    "\n",
    "add - Add the number to an internal data structure.\n",
    "find - Find if there exists any pair of numbers which sum is equal to the value.\n",
    "```\n",
    "Have you met this question in a real interview?  \n",
    "Example\n",
    "add(1); add(3); add(5);\n",
    "find(4) // return true\n",
    "find(7) // return false\n",
    "```"
   ]
  },
  {
   "cell_type": "code",
   "execution_count": null,
   "metadata": {
    "colab": {},
    "colab_type": "code",
    "id": "Z231__usdOvU"
   },
   "outputs": [],
   "source": [
    "class TwoSum(object):\n",
    "\n",
    "    def __init__(self):\n",
    "        # initialize your data structure here\n",
    "        self.count = {}\n",
    "\n",
    "    # Add the number to an internal data structure.\n",
    "    # @number {int}\n",
    "    # @return nothing\n",
    "    def add(self, number):\n",
    "        # Write your code here\n",
    "        if number in self.count:\n",
    "            self.count[number] += 1\n",
    "        else:\n",
    "            self.count[number] = 1\n",
    "            \n",
    "    # Find if there exists any pair of numbers which sum is equal to the value.\n",
    "    # @value {int}\n",
    "    # @return true if can be found or false\n",
    "    def find(self, value):\n",
    "        # Write your code here\n",
    "        for num in self.count:\n",
    "            if (value - num in self.count and \n",
    "                value - num != num or self.count[num] > 1):\n",
    "                return True\n",
    "        return False"
   ]
  },
  {
   "cell_type": "markdown",
   "metadata": {
    "colab_type": "text",
    "id": "JMKPNByxob3g"
   },
   "source": [
    "### 609. Two Sum - Less than or equal to target\n",
    "Given an array of integers, find how many pairs in the array such that their sum is less than or equal to a specific target number. Please return the number of pairs.\n",
    "```\n",
    "Example\n",
    "Given nums = [2, 7, 11, 15], target = 24.\n",
    "Return 5.\n",
    "2 + 7 < 24\n",
    "2 + 11 < 24\n",
    "2 + 15 < 24\n",
    "7 + 11 < 24\n",
    "7 + 15 < 25\n",
    "```"
   ]
  },
  {
   "cell_type": "code",
   "execution_count": null,
   "metadata": {
    "colab": {
     "base_uri": "https://localhost:8080/",
     "height": 50
    },
    "colab_type": "code",
    "id": "Z4Kmu1sSohwI",
    "outputId": "ef552b0c-e8db-465e-c579-e17bf0c90cd1"
   },
   "outputs": [
    {
     "name": "stdout",
     "output_type": "stream",
     "text": [
      "0.00830793380737\n",
      "0.0209789276123\n"
     ]
    }
   ],
   "source": [
    "class Solution:\n",
    "    \"\"\"\n",
    "    @param nums: an array of integer\n",
    "    @param target: an integer\n",
    "    @return: an integer\n",
    "    \"\"\"\n",
    "    def twoSum5_method1(self, nums, target):\n",
    "        n = len(nums)\n",
    "        if n <= 0:\n",
    "            return 0\n",
    "        nums.sort()\n",
    "        count = 0\n",
    "        for i in range(n):\n",
    "            for j in range(n-1, i, -1):\n",
    "                if nums[i] + nums[j] > target:\n",
    "                    continue\n",
    "                count += j - i\n",
    "                break\n",
    "        return count\n",
    "\n",
    "    def twoSum5(self, nums, target):\n",
    "        # Write your code here\n",
    "    v     l, r = 0, len(nums) - 1\n",
    "        cnt = 0\n",
    "        nums.sort()\n",
    "        while l < r:\n",
    "            value = nums[l] + nums[r]\n",
    "            if value > target:\n",
    "                r -= 1\n",
    "            else:\n",
    "                cnt += r - l\n",
    "                l += 1\n",
    "        return cnt\n",
    "\n",
    "\n",
    "if __name__ == \"__main__\":\n",
    "    nums = [2,7,11,15]\n",
    "    target = 24\n",
    "    from timeit import timeit\n",
    "    print timeit(\"Solution().twoSum5(nums, target)\", \n",
    "           setup=\"from __main__ import Solution, nums, target\", number=10000)\n",
    "    print timeit(\"Solution().twoSum5_method1(nums, target)\", \n",
    "           setup=\"from __main__ import Solution, nums, target\", number=10000)"
   ]
  },
  {
   "cell_type": "markdown",
   "metadata": {
    "colab_type": "text",
    "id": "1KR5TAcjdV4R"
   },
   "source": [
    "### 587. Two Sum - Unique pairs\n",
    "Given an array of integers, find how many unique pairs in the array such that their sum is equal to a specific target number. Please return the number of pairs.\n",
    "```\n",
    "Example\n",
    "Given nums = [1,1,2,45,46,46], target = 47\n",
    "return 2\n",
    "\n",
    "1 + 46 = 47\n",
    "2 + 45 = 47\n",
    "```"
   ]
  },
  {
   "cell_type": "code",
   "execution_count": null,
   "metadata": {
    "colab": {
     "base_uri": "https://localhost:8080/",
     "height": 68
    },
    "colab_type": "code",
    "id": "IvsTHJlagk2S",
    "outputId": "ac609359-4c2c-452c-8012-4f45607cad51"
   },
   "outputs": [
    {
     "name": "stdout",
     "output_type": "stream",
     "text": [
      "2\n",
      "0.0146870613098\n",
      "0.0122129917145\n"
     ]
    }
   ],
   "source": [
    "class Solution:\n",
    "    \"\"\"\n",
    "    @param nums: an array of integer\n",
    "    @param target: An integer\n",
    "    @return: An integer\n",
    "    \"\"\"\n",
    "    def twoSum6_method1(self, nums, target):\n",
    "        nums.sort()\n",
    "        left, right = 0, len(nums) - 1\n",
    "        count = 0\n",
    "        while left < right:\n",
    "            value = nums[left] + nums[right]\n",
    "            if value < target:\n",
    "                left += 1\n",
    "            elif value == target:\n",
    "                if left == 0 or nums[left-1] != nums[left]:\n",
    "                    count += 1\n",
    "                left += 1\n",
    "            else: # value > target\n",
    "                right -= 1\n",
    "        return count\n",
    "    def twoSum6(self, nums, target):\n",
    "        nums.sort()\n",
    "        left, right = 0, len(nums) - 1\n",
    "        count = 0\n",
    "        while left < right:\n",
    "            value = nums[left] + nums[right]\n",
    "            if value < target:\n",
    "                left += 1\n",
    "            elif value == target:\n",
    "                count += 1\n",
    "                left += 1\n",
    "                right -= 1\n",
    "                while left < right and nums[right] == nums[right+1]:\n",
    "                    right -= 1\n",
    "                while left < right and nums[left] == nums[left-1]:\n",
    "                    left += 1\n",
    "            else: # value > target\n",
    "                right -= 1\n",
    "        return count\n",
    "\n",
    "if __name__ == \"__main__\":\n",
    "    nums, k = [1,1,2,45,46,46], 47\n",
    "    print Solution().twoSum6(nums, k)\n",
    "    from timeit import timeit\n",
    "    print timeit(\"Solution().twoSum6_method1(nums, k)\",\n",
    "                 setup=\"from __main__ import nums, k, Solution\", number=10000)\n",
    "    print timeit(\"Solution().twoSum6(nums, k)\",\n",
    "                 setup=\"from __main__ import nums, k, Solution\", number=10000)"
   ]
  },
  {
   "cell_type": "markdown",
   "metadata": {
    "colab_type": "text",
    "id": "OmpzOWI3dWBp"
   },
   "source": [
    "### 533. Two Sum - Closest to target\n",
    "Given an array nums of n integers, find two integers in nums such that the sum is closest to a given number, target.\n",
    "\n",
    "Return the difference between the sum of the two integers and the target.\n",
    "```\n",
    "Example\n",
    "Given array nums = [-1, 2, 1, -4], and target = 4.\n",
    "\n",
    "The minimum difference is 1. (4 - (2 + 1) = 1).\n",
    "\n",
    "Challenge\n",
    "Do it in O(nlogn) time complexity.\n",
    "```\n"
   ]
  },
  {
   "cell_type": "code",
   "execution_count": null,
   "metadata": {
    "colab": {
     "base_uri": "https://localhost:8080/",
     "height": 34
    },
    "colab_type": "code",
    "id": "cxVvEKwCjDL6",
    "outputId": "f554ab30-f28f-4e26-c42e-795abfc72a36"
   },
   "outputs": [
    {
     "name": "stdout",
     "output_type": "stream",
     "text": [
      "1\n"
     ]
    }
   ],
   "source": [
    "class Solution:\n",
    "    \"\"\"\n",
    "    @param nums: an integer array\n",
    "    @param target: An integer\n",
    "    @return: the difference between the sum and the target\n",
    "    \"\"\"\n",
    "    def twoSumClosest(self, nums, target):\n",
    "        if len(nums) < 2:\n",
    "            return -1 \n",
    "        nums.sort()\n",
    "        left, right = 0, len(nums) - 1\n",
    "        min_diff = 65535 # MAX_INT\n",
    "        while left < right:\n",
    "            value = nums[left] + nums[right]\n",
    "            if value < target:\n",
    "                min_diff = min(min_diff, target-value)\n",
    "                left += 1\n",
    "            elif value == target:\n",
    "                return 0\n",
    "            else: # value >  target\n",
    "                min_diff = min(min_diff, value-target)\n",
    "                right -= 1\n",
    "        return min_diff\n",
    "\n",
    "if __name__ == \"__main__\":\n",
    "    nums, target = [-1,2,1,-4], 4\n",
    "    print Solution().twoSumClosest(nums, target)"
   ]
  },
  {
   "cell_type": "markdown",
   "metadata": {
    "colab_type": "text",
    "id": "QsiK49IsdWJx"
   },
   "source": [
    "### 443. Two Sum - Greater than target\n",
    "Given an array of integers, find how many pairs in the array such that their sum is bigger than a specific target number. Please return the number of pairs.\n",
    "```\n",
    "Example\n",
    "Given numbers = [2, 7, 11, 15], target = 24. Return 1. (11 + 15 is the only pair)\n",
    "\n",
    "Challenge\n",
    "Do it in O(1) extra space and O(nlogn) time.\n",
    "```"
   ]
  },
  {
   "cell_type": "code",
   "execution_count": null,
   "metadata": {
    "colab": {
     "base_uri": "https://localhost:8080/",
     "height": 34
    },
    "colab_type": "code",
    "id": "6aGFy4XRmDOw",
    "outputId": "2de09e93-6cef-4550-a002-f4e37937cd0f"
   },
   "outputs": [
    {
     "name": "stdout",
     "output_type": "stream",
     "text": [
      "1\n"
     ]
    }
   ],
   "source": [
    "class Solution:\n",
    "    \"\"\"\n",
    "    @param nums: an array of integer\n",
    "    @param target: An integer\n",
    "    @return: an integer\n",
    "    \"\"\"\n",
    "    def twoSum2(self, nums, target):\n",
    "        if len(nums) < 2:\n",
    "            return -1\n",
    "        nums.sort()\n",
    "        left, right = 0, len(nums) - 1\n",
    "        count = 0\n",
    "        while left < right:\n",
    "            value = nums[left] + nums[right]\n",
    "            if value <= target:\n",
    "                left += 1\n",
    "            else:\n",
    "                count += right - left\n",
    "                right -= 1\n",
    "        return count\n",
    "\n",
    "if __name__ == \"__main__\":\n",
    "    nums, target = [2,7,11,15], 24\n",
    "    print Solution().twoSum2(nums, target)"
   ]
  },
  {
   "cell_type": "markdown",
   "metadata": {
    "colab_type": "text",
    "id": "QH3CkLZ_HR-F"
   },
   "source": [
    "### 57. 3Sum\n",
    "Description\n",
    "Given an array S of n integers, are there elements a, b, c in S such that a + b + c = 0? Find all unique triplets in the array which gives the sum of zero.\n",
    "\n",
    "Elements in a triplet (a,b,c) must be in non-descending order. (ie, a ≤ b ≤ c)\n",
    "\n",
    "The solution set must not contain duplicate triplets.\n",
    "```\n",
    "Example\n",
    "For example, given array S = {-1 0 1 2 -1 -4}, A solution set is:\n",
    "\n",
    "(-1, 0, 1)\n",
    "(-1, -1, 2)\n",
    "```"
   ]
  },
  {
   "cell_type": "code",
   "execution_count": null,
   "metadata": {
    "colab": {
     "base_uri": "https://localhost:8080/",
     "height": 33
    },
    "colab_type": "code",
    "id": "jWLw_p3fgKW-",
    "outputId": "cf1f608b-5ad5-422b-b7aa-1d7ef6d5fa72"
   },
   "outputs": [
    {
     "name": "stdout",
     "output_type": "stream",
     "text": [
      "[(-11, 4, 7), (-7, 2, 5), (-7, 3, 4), (-5, 1, 4), (-5, 2, 3), (-4, 1, 3)]\n"
     ]
    }
   ],
   "source": [
    "class Solution:\n",
    "    \"\"\"\n",
    "    @param numbers: Give an array numbers of n integer\n",
    "    @return: Find all unique triplets in the array which gives the sum of zero.\n",
    "    \"\"\"\n",
    "    def threeSum(self, numbers):\n",
    "        res = []\n",
    "        numbers.sort()\n",
    "        self.dfs([], 0, res, numbers)\n",
    "        return res\n",
    "\n",
    "    def dfs(self, tmp, start_index, res, S):\n",
    "        #print tmp, start_index\n",
    "        if len(tmp) == 3:\n",
    "            if sum(tmp) == 0:\n",
    "                #print tmp, start_index\n",
    "                res.append(tuple(tmp))\n",
    "            #print 'return'\n",
    "            return\n",
    "        for i in range(start_index, len(S)):\n",
    "            if i == start_index or S[i-1] != S[i]: # duplicate or not ?\n",
    "                self.dfs(tmp + [S[i]], i+1, res, S)\n",
    "\n",
    "if __name__ == \"__main__\":\n",
    "    nums = [-11, -7, -5, -4, 3, 1, 2, 3, 4, 5, 5, 7]\n",
    "    print Solution().threeSum(nums)"
   ]
  },
  {
   "cell_type": "code",
   "execution_count": null,
   "metadata": {
    "colab": {},
    "colab_type": "code",
    "id": "0o6LYV2YUKXb"
   },
   "outputs": [],
   "source": [
    "class Solution(object):\n",
    "    def threeSum(self, nums):\n",
    "        \"\"\"\n",
    "        :type nums: List[int]\n",
    "        :rtype: List[List[int]]\n",
    "        \"\"\"\n",
    "        nums.sort()\n",
    "        ans = []\n",
    "        for i in range(0, len(nums)):\n",
    "            if i > 0 and nums[i] == nums[i-1]:\n",
    "                continue\n",
    "            if nums[i] > 0:\n",
    "                break\n",
    "            \n",
    "            lo = i + 1 \n",
    "            hi = len(nums) - 1 \n",
    "            \n",
    "            while lo < hi:\n",
    "                target = nums[i] + nums[lo] + nums[hi]\n",
    "                if target > 0:\n",
    "                    hi -= 1\n",
    "                elif target < 0:\n",
    "                    lo += 1\n",
    "                else:\n",
    "                    ans.append([nums[i], nums[lo], nums[hi]])\n",
    "                    lo += 1\n",
    "                    \n",
    "                    while lo < len(nums) and nums[i] + nums[lo] + nums[hi] == 0:\n",
    "                        lo += 1\n",
    "        return ans"
   ]
  },
  {
   "cell_type": "markdown",
   "metadata": {
    "colab_type": "text",
    "id": "K1OmKDy1UN6s"
   },
   "source": [
    "### 18. 4Sum\n",
    "Medium\n",
    "\n",
    "```\n",
    "Given an array nums of n integers and an integer target, are there elements a, b, c, and d in nums such that a + b + c + d = target? Find all unique quadruplets in the array which gives the sum of target.\n",
    "\n",
    "Note:\n",
    "\n",
    "The solution set must not contain duplicate quadruplets.\n",
    "\n",
    "Example:\n",
    "\n",
    "Given array nums = [1, 0, -1, 0, -2, 2], and target = 0.\n",
    "\n",
    "A solution set is:\n",
    "[\n",
    "  [-1,  0, 0, 1],\n",
    "  [-2, -1, 1, 2],\n",
    "  [-2,  0, 0, 2]\n",
    "]\n",
    "```"
   ]
  },
  {
   "cell_type": "code",
   "execution_count": null,
   "metadata": {
    "colab": {},
    "colab_type": "code",
    "id": "jkYP_vb9UjJO"
   },
   "outputs": [],
   "source": [
    "class Solution(object):\n",
    "    def fourSum(self, nums, target):\n",
    "        \"\"\"\n",
    "        :type nums: List[int]\n",
    "        :type target: int\n",
    "        :rtype: List[List[int]]\n",
    "        \"\"\"\n",
    "        \n",
    "        def findNSum(nums, target, N, tmp, res):\n",
    "            \n",
    "            if N < 2 or len(nums) < N or target > N * nums[-1] or target < N * nums[0]:\n",
    "                return # early termination\n",
    "            \n",
    "            elif N == 2:\n",
    "                left, right = 0, len(nums) - 1 \n",
    "                while left < right:\n",
    "                    s = nums[left] + nums[right]\n",
    "                    if s == target:\n",
    "                        res.append(tmp + [nums[left], nums[right]])\n",
    "                        left += 1\n",
    "                        while left < right and nums[left] == nums[left-1]:\n",
    "                            left += 1 \n",
    "                    \n",
    "                    elif s < target:\n",
    "                        left += 1\n",
    "                    else:\n",
    "                        right -= 1\n",
    "            \n",
    "            else:\n",
    "                for i in range(len(nums)-N+1):\n",
    "                    if i == 0 or (nums[i-1] != nums[i]):\n",
    "                        findNSum(nums[i+1:], target - nums[i], N-1, tmp + [nums[i]], res)\n",
    "        nums.sort()\n",
    "        res = [] \n",
    "        findNSum(nums, target, 4, [], res)\n",
    "        return res \n",
    "        "
   ]
  },
  {
   "cell_type": "markdown",
   "metadata": {
    "colab_type": "text",
    "id": "dQaFDifSv7WE"
   },
   "source": [
    "### 382. Triangle Count\n",
    "Given an array of integers, how many three numbers can be found in the array, so that we can build an triangle whose three edges length is the three numbers that we find?\n",
    "```\n",
    "Example\n",
    "Given array S = [3,4,6,7], return 3. They are:\n",
    "\n",
    "[3,4,6]\n",
    "[3,6,7]\n",
    "[4,6,7]\n",
    "Given array S = [4,4,4,4], return 4. They are:\n",
    "\n",
    "[4(1),4(2),4(3)]\n",
    "[4(1),4(2),4(4)]\n",
    "[4(1),4(3),4(4)]\n",
    "[4(2),4(3),4(4)]\n",
    "```"
   ]
  },
  {
   "cell_type": "code",
   "execution_count": null,
   "metadata": {
    "colab": {
     "base_uri": "https://localhost:8080/",
     "height": 34
    },
    "colab_type": "code",
    "id": "k3R9ib36v-eO",
    "outputId": "690106c5-ea7c-43bc-c3a6-592794b5d216"
   },
   "outputs": [
    {
     "name": "stdout",
     "output_type": "stream",
     "text": [
      "14\n"
     ]
    }
   ],
   "source": [
    "class Solution:\n",
    "    \"\"\"\n",
    "    @param S: A list of integers\n",
    "    @return: An integer\n",
    "    \"\"\"\n",
    "    def triangleCount(self, S):\n",
    "        S.sort()\n",
    "        left, right = 0, len(S) - 1\n",
    "        ans = 0\n",
    "        for i in range(len(S)):\n",
    "            left, right = 0, i-1\n",
    "            while left < right:\n",
    "                if S[left] + S[right] > S[i]:\n",
    "                    ans += right - left\n",
    "                    right -= 1\n",
    "                else:\n",
    "                    left += 1\n",
    "        return ans\n",
    "\n",
    "\n",
    "\n",
    "if __name__ == \"__main__\":\n",
    "    nums = [1, 2, 3, 4, 5, 5, 7]\n",
    "    print Solution().triangleCount(nums)"
   ]
  },
  {
   "cell_type": "markdown",
   "metadata": {
    "colab_type": "text",
    "id": "QSO8ZHXRl0lr"
   },
   "source": [
    "## 经典排序算法，快速选择"
   ]
  },
  {
   "cell_type": "markdown",
   "metadata": {
    "colab_type": "text",
    "id": "u2zcpuCUmGoa"
   },
   "source": [
    "### 461. Kth Smallest Numbers in Unsorted Array\n",
    "Find the kth smallest numbers in an unsorted integer array.\n",
    "\n",
    "```\n",
    "Example\n",
    "Given [3, 4, 1, 2, 5], k = 3, the 3rd smallest numbers are [1, 2, 3].\n",
    "\n",
    "Challenge\n",
    "An O(nlogn) algorithm is acceptable, if you can do it in O(n), that would be great.\n",
    "```"
   ]
  },
  {
   "cell_type": "code",
   "execution_count": null,
   "metadata": {
    "colab": {
     "base_uri": "https://localhost:8080/",
     "height": 34
    },
    "colab_type": "code",
    "id": "A5JG5vlPdVLw",
    "outputId": "88f70958-301f-47d7-ece2-14c61c2f9997"
   },
   "outputs": [
    {
     "name": "stdout",
     "output_type": "stream",
     "text": [
      "4\n"
     ]
    }
   ],
   "source": [
    "class Solution:\n",
    "    \"\"\"\n",
    "    @param k: An integer\n",
    "    @param nums: An integer array\n",
    "    @return: kth smallest element\n",
    "    \"\"\"\n",
    "    def kthSmallest(self, k, nums):\n",
    "        return self.quickselect(k-1, nums)\n",
    "\n",
    "    def quickselect(self, k, nums, lo=None, hi=None):\n",
    "        lo = 0 if lo is None else lo\n",
    "        hi = len(nums) - 1 if hi is None else hi\n",
    "        while True:\n",
    "            if lo == hi:\n",
    "                return nums[lo]\n",
    "            pvt = self.partition(nums, lo, hi)\n",
    "            if k == pvt:\n",
    "                return nums[k]\n",
    "            elif k < pvt:\n",
    "                hi = pvt - 1\n",
    "            else:\n",
    "                lo = pvt + 1\n",
    "\n",
    "    def partition(self, nums, lo=None, hi=None):\n",
    "        lo = 0 if lo is None else lo\n",
    "        hi = len(nums) - 1 if hi is None else hi\n",
    "        pvt = lo\n",
    "        for i in range(lo, hi):\n",
    "            if nums[i] < nums[hi]:\n",
    "                nums[i], nums[pvt] = nums[pvt], nums[i]\n",
    "                pvt += 1\n",
    "        nums[hi], nums[pvt] = nums[pvt], nums[hi]\n",
    "        return pvt\n",
    "\n",
    "\n",
    "if __name__ == \"__main__\":\n",
    "    k, nums = 3, [2,3,4,8,9]\n",
    "    print Solution().kthSmallest(k, nums)"
   ]
  },
  {
   "cell_type": "markdown",
   "metadata": {
    "colab_type": "text",
    "id": "rj0OHnQ7caEI"
   },
   "source": [
    "### 464. Sort Integers II (Quick, Merge, Heap)\n",
    "\n",
    "Description\n",
    "Given an integer array, sort it in ascending order. Use quick sort, merge sort, heap sort or any O(nlogn) algorithm.\n",
    "```\n",
    "Example\n",
    "Given [3, 2, 1, 4, 5], return [1, 2, 3, 4, 5].\n",
    "```"
   ]
  },
  {
   "cell_type": "code",
   "execution_count": null,
   "metadata": {
    "colab": {
     "base_uri": "https://localhost:8080/",
     "height": 85
    },
    "colab_type": "code",
    "id": "bmumzlo58DdQ",
    "outputId": "948a3905-414d-4eb7-f1f2-e436e852e99f"
   },
   "outputs": [
    {
     "name": "stdout",
     "output_type": "stream",
     "text": [
      "3\n",
      "[1, 1, 1, 2, 2, 2, 2, 2, 2, 3, 3, 4, 4, 5, 12]\n",
      "[1, 1, 1, 2, 2, 2, 2, 2, 2, 3, 3, 4, 4, 5, 12]\n",
      "[1, 1, 1, 2, 2, 2, 2, 2, 2, 3, 3, 4, 4, 5, 12]\n"
     ]
    }
   ],
   "source": [
    "# quick sort \n",
    "# Your submission beats 67.20% Submissions!\n",
    "class Solution:\n",
    "    \"\"\"\n",
    "    @param A: an integer array\n",
    "    @return: nothing\n",
    "    \"\"\"\n",
    "    def quicksort(self, nums, lo=None, hi=None):\n",
    "        lo = 0 if lo is None else lo\n",
    "        hi = len(nums) - 1 if hi is None else hi\n",
    "        if lo < hi:\n",
    "            p = self.partition(nums, lo, hi)\n",
    "            self.quicksort(nums, lo, p-1)\n",
    "            self.quicksort(nums, p+1, hi)\n",
    "\n",
    "    def quickselect(self, nums, k, lo=None, hi=None):\n",
    "        lo = 0 if lo is None else lo\n",
    "        hi = len(nums) - 1 if hi is None else hi\n",
    "        while True:\n",
    "            if lo == hi:\n",
    "                return nums[lo]\n",
    "            pvt = self.partition(nums, lo, hi)\n",
    "            if k == pvt:\n",
    "                return nums[k]\n",
    "            elif k < pvt:\n",
    "                hi = pvt - 1\n",
    "            else:\n",
    "                lo = pvt + 1\n",
    "\n",
    "    def partition(self, nums, lo=None, hi=None):\n",
    "        lo = 0 if lo is None else lo\n",
    "        hi = len(nums) - 1 if hi is None else hi\n",
    "        pvt = lo\n",
    "        for i in range(lo, hi):\n",
    "            if nums[i] < nums[hi]:\n",
    "                nums[i], nums[pvt] = nums[pvt], nums[i]\n",
    "                pvt += 1\n",
    "        nums[pvt], nums[hi] = nums[hi], nums[pvt]\n",
    "        return pvt\n",
    "    \n",
    "    # Merge sort \n",
    "    # Your submission beats 33.00% Submissions!\n",
    "    def mergesort(self, nums, lo=None, hi=None):\n",
    "        lo = 0 if lo is None else lo\n",
    "        hi = len(nums) - 1 if hi is None else hi\n",
    "        if lo == hi:\n",
    "            return [nums[lo]]\n",
    "        mid = (lo + hi) // 2\n",
    "        left = self.mergesort(nums, lo, mid)\n",
    "        right = self.mergesort(nums, mid+1, hi)\n",
    "        return self.merge(left, right)\n",
    "\n",
    "    def merge(self, left, right): # merge two sorted list\n",
    "        res = []\n",
    "        i = j = 0\n",
    "        while i < len(left) and j < len(right):\n",
    "                res.append(left[i])\n",
    "                i += 1\n",
    "            else:\n",
    "                res.append(right[j])\n",
    "                j += 1\n",
    "        while i < len(left):\n",
    "            res.append(left[i])\n",
    "            i += 1\n",
    "        while j < len(right):\n",
    "            res.append(right[j])\n",
    "            j += 1\n",
    "        return res\n",
    "    \n",
    "    # Heap sort \n",
    "    # Your submission beats 16.40% Submissions!\n",
    "    def heapsort(self, nums, lo=None, hi=None):\n",
    "        lo = 0 if lo is None else lo\n",
    "        hi = len(nums) - 1 if hi is None else hi\n",
    "\n",
    "        # 1. build the heap\n",
    "        for i in range(hi//2, lo-1, -1):\n",
    "            self.maxheapify(nums, i, hi)\n",
    "        # 2. delete top\n",
    "        for i in range(hi, lo, -1):\n",
    "            nums[lo], nums[i] = nums[i], nums[lo]\n",
    "            # after each iteration, largest goes to ith, next end at i-1\n",
    "            self.maxheapify(nums, lo, i-1)\n",
    "\n",
    "    def maxheapify(self, nums, lo=None, hi=None):\n",
    "        lo = 0 if lo is None else lo\n",
    "        hi = len(nums) - 1 if hi is None else hi\n",
    "        parent = lo\n",
    "        while parent <= hi:\n",
    "            left = parent * 2 + 1\n",
    "            right = parent * 2 + 2\n",
    "            child = -1\n",
    "\n",
    "            if left <= hi and right <= hi:\n",
    "                child = left if nums[left] > nums[right] else right\n",
    "            elif left <= hi:\n",
    "                child = left\n",
    "            else:\n",
    "                return\n",
    "            # max heap root >= left and root >= right\n",
    "            if nums[parent] >= nums[child]:\n",
    "                return\n",
    "            nums[parent], nums[child] = nums[child], nums[parent]\n",
    "            parent = child\n",
    "\n",
    "            \n",
    "if __name__ == \"__main__\":\n",
    "    \n",
    "    nums = [1,5,4,2,1,3,2,1,4,2,12,3,2,2,2]\n",
    "    print Solution().quickselect(nums, 10)\n",
    "    Solution().quicksort(nums)\n",
    "    print nums\n",
    "    \n",
    "    nums = [1, 5, 4, 2, 1, 3, 2, 1, 4, 2, 12, 3, 2, 2, 2]\n",
    "    print Solution().mergesort(nums)\n",
    "\n",
    "    nums = [1,5,4,2,1,3,2,1,4,2,12,3,2,2,2]\n",
    "    # build maxheap\n",
    "    s = Solution()\n",
    "    s.heapsort(nums)\n",
    "    print nums"
   ]
  },
  {
   "cell_type": "markdown",
   "metadata": {
    "colab_type": "text",
    "id": "_fXiQvyaHSB2"
   },
   "source": [
    "### 143. Sort Colors II (计数排序）\n",
    "Description\n",
    "Given an array of n objects with k different colors (numbered from 1 to k), sort them so that objects of the same color are adjacent, with the colors in the order 1, 2, ... k.\n",
    "```\n",
    "Example\n",
    "Given colors=[3, 2, 2, 1, 4], k=4, your code should sort colors in-place to [1, 2, 2, 3, 4].\n",
    "\n",
    "Challenge\n",
    "A rather straight forward solution is a two-pass algorithm using counting sort. That will cost O(k) extra memory. Can you do it without using extra memory?\n",
    "```"
   ]
  },
  {
   "cell_type": "code",
   "execution_count": null,
   "metadata": {
    "colab": {
     "base_uri": "https://localhost:8080/",
     "height": 35
    },
    "colab_type": "code",
    "id": "2vhuUsYwXavd",
    "outputId": "1d97d79b-7fe6-4d5f-81ff-fe093ac555d5"
   },
   "outputs": [
    {
     "name": "stdout",
     "output_type": "stream",
     "text": [
      "[1, 1, 2, 2, 2]\n"
     ]
    }
   ],
   "source": [
    "class Solution:\n",
    "    \"\"\"\n",
    "    @param colors: A list of integer\n",
    "    @param k: An integer\n",
    "    @return: nothing\n",
    "    \"\"\"\n",
    "    def sortColors2(self, colors, k):\n",
    "        count = [0 for _ in range(k)]\n",
    "        for color in colors:\n",
    "            count[color - 1] += 1\n",
    "        i = 0\n",
    "        for j in range(len(count)):\n",
    "            while count[j] > 0:\n",
    "                colors[i] = j + 1\n",
    "                i += 1\n",
    "                count[j] -= 1\n",
    "        print colors\n",
    "        \n",
    "if __name__ == \"__main__\":\n",
    "    colors = [2,1,1,2,2]\n",
    "    k = 2\n",
    "    Solution().sortColors2(colors, k)"
   ]
  },
  {
   "cell_type": "markdown",
   "metadata": {
    "colab_type": "text",
    "id": "BUlLbDFoHR5o"
   },
   "source": [
    "### 31. Partition Array\n",
    "Description\n",
    "Given an array nums of integers and an int k, partition the array (i.e move the elements in \"nums\") such that:\n",
    "\n",
    "All elements < k are moved to the left\n",
    "All elements >= k are moved to the right\n",
    "Return the partitioning index, i.e the first index i nums[i] >= k.\n",
    "```\n",
    "Example\n",
    "If nums = [3,2,2,1] and k=2, a valid answer is 1.\n",
    "\n",
    "Challenge\n",
    "Can you partition the array in-place and in O(n)?\n",
    "```"
   ]
  },
  {
   "cell_type": "code",
   "execution_count": null,
   "metadata": {
    "colab": {
     "base_uri": "https://localhost:8080/",
     "height": 35
    },
    "colab_type": "code",
    "id": "9dGr2O3e9Bwi",
    "outputId": "ea314f9d-4b3c-484f-860e-4cb6bb6b5127"
   },
   "outputs": [
    {
     "name": "stdout",
     "output_type": "stream",
     "text": [
      "10\n"
     ]
    }
   ],
   "source": [
    "class Solution:\n",
    "    \"\"\"\n",
    "    @param nums: The integer array you should partition\n",
    "    @param k: An integer\n",
    "    @return: The index after partition\n",
    "    \"\"\"\n",
    "    def partitionArray(self, nums, k):\n",
    "        if len(nums) == 0:\n",
    "            return 0 \n",
    "        pvt = 0\n",
    "        while pvt < len(nums):\n",
    "            if nums[pvt] == k: # find the element = k, O(n) as it is not sorted\n",
    "                break\n",
    "            pvt += 1\n",
    "        if pvt == len(nums):\n",
    "            return pvt if k > max(nums) else 0 \n",
    "        nums[pvt], nums[-1] = nums[-1], nums[pvt]\n",
    "        pvt = self.partition(nums, 0, len(nums)-1)\n",
    "        return pvt \n",
    "\n",
    "    def partition(self, nums, lo, hi):\n",
    "        pvt = lo\n",
    "        for i in range(lo, hi):\n",
    "            if nums[i] < nums[hi]:\n",
    "                nums[i], nums[pvt] = nums[pvt], nums[i]\n",
    "                pvt += 1\n",
    "        nums[pvt], nums[hi] = nums[hi], nums[pvt]\n",
    "        return pvt\n",
    "\n",
    "if __name__ == \"__main__\":\n",
    "    nums = [9,9,9,8,9,8,7,9,8,8,8,9,8,9,8,8,6,9]\n",
    "    print Solution().partitionArray(nums, 9)\n",
    "    #print Solution().partition([3, 1, 3, 3, 2, 2], 0, 5)\n",
    "\n",
    "\n"
   ]
  },
  {
   "cell_type": "markdown",
   "metadata": {
    "colab_type": "text",
    "id": "8C0ePY_OW_2o"
   },
   "source": [
    "### 625. Partition Array II\n",
    "Partition an unsorted integer array into three parts:\n",
    "\n",
    "The front part < low\n",
    "The middle part >= low & <= high\n",
    "The tail part > high\n",
    "Return any of the possible solutions.\n",
    "```\n",
    "Example\n",
    "Given [4,3,4,1,2,3,1,2], and low = 2 and high = 3.\n",
    "\n",
    "Change to [1,1,2,3,2,3,4,4].\n",
    "\n",
    "([1,1,2,2,3,3,4,4] is also a correct answer, but [1,2,1,2,3,3,4,4] is not)\n",
    "\n",
    "Challenge\n",
    "Do it in place.\n",
    "Do it in one pass (one loop).\n",
    "\n",
    "```\n",
    "注意这道题，没有要求low 和high要在该在的位置上，即便要求了， 也先这样做，把前后排好了，去中间找low, high 这也效率要高很多。算法也不容易错。用这道题也可以做 彩虹排序1， 只有三种颜色的情况 "
   ]
  },
  {
   "cell_type": "code",
   "execution_count": null,
   "metadata": {
    "colab": {},
    "colab_type": "code",
    "id": "Qd2rNJ19XAPB"
   },
   "outputs": [],
   "source": [
    "class Solution:\n",
    "    \"\"\"\n",
    "    @param: nums: an integer array\n",
    "    @param: low: An integer\n",
    "    @param: high: An integer\n",
    "    @return:\n",
    "    \"\"\"\n",
    "    def partition2(self, nums, low, high):\n",
    "        left, right = 0, len(nums) - 1\n",
    "        i = 0\n",
    "        while i < right:\n",
    "            if nums[i] < low:\n",
    "                nums[i], nums[left] = nums[left], nums[i]\n",
    "                i += 1\n",
    "                left += 1\n",
    "            elif nums[i] > high:\n",
    "                nums[i], nums[right] = nums[right], nums[i]\n",
    "                right -= 1\n",
    "            else:\n",
    "                i += 1\n",
    "        return nums\n",
    "\n",
    "if __name__ == \"__main__\":\n",
    "    nums, low, high = [4,3,4,1,2,3,1,2], 2, 3\n",
    "    print Solution().partition2(nums, low, high)\n"
   ]
  },
  {
   "cell_type": "markdown",
   "metadata": {
    "colab_type": "text",
    "id": "NjeLqoHWZthv"
   },
   "source": [
    "### 894. Pancake Sorting\n",
    "Given an an unsorted array, sort the given array. You are allowed to do only following operation on array.\n",
    "\n",
    "flip(arr, i): Reverse array from 0 to i \n",
    "Unlike a traditional sorting algorithm, which attempts to sort with the fewest comparisons possible, the goal is to sort the sequence in as few reversals as possible.\n",
    "```\n",
    "Example\n",
    "Given array = [6, 7, 10, 11, 12, 20, 23]\n",
    "Use flip(arr, i) function to sort the array.\n",
    "```\n",
    "找到最大值的index，翻转到头，再翻转到最尾，尾巴-1\n",
    "\n"
   ]
  },
  {
   "cell_type": "code",
   "execution_count": null,
   "metadata": {
    "colab": {},
    "colab_type": "code",
    "id": "DsAxGA5iZtmd"
   },
   "outputs": [],
   "source": [
    "class FlipTool:\n",
    "    @classmethod\n",
    "    def flip(cls, arr, i):\n",
    "        left, right = 0, i\n",
    "        while left < right:\n",
    "            arr[left], arr[right] = arr[right], arr[left]\n",
    "            left += 1\n",
    "            right -=1\n",
    "\n",
    "class Solution:\n",
    "    \"\"\"\n",
    "    @param array: an integer array\n",
    "    @return: nothing\n",
    "    \"\"\"\n",
    "    def pancakeSort(self, arr):\n",
    "        cur_size = len(arr) - 1\n",
    "        while cur_size > 0:\n",
    "            mi = self.findMax(arr, cur_size)\n",
    "            FlipTool.flip(arr, mi)\n",
    "            FlipTool.flip(arr, cur_size)\n",
    "            cur_size -= 1\n",
    "        return arr\n",
    "\n",
    "    def findMax(self, arr, n):\n",
    "        mi = 0\n",
    "        for i in range(n+1):\n",
    "            mi = i if arr[i] > arr[mi] else mi\n",
    "        return mi\n",
    "\n",
    "if __name__ == \"__main__\":\n",
    "    nums = [1,2,3]\n",
    "    print Solution().pancakeSort(nums)"
   ]
  },
  {
   "cell_type": "markdown",
   "metadata": {
    "colab_type": "text",
    "id": "dX6MXc3SSoBk"
   },
   "source": [
    "### 5. Kth Largest Element\n",
    "Find K-th largest element in an array.\n",
    "```\n",
    "Example\n",
    "In array [9,3,2,4,8], the 3rd largest element is 4.\n",
    "\n",
    "In array [1,2,3,4,5], the 1st largest element is 5, 2nd largest element is 4, 3rd largest element is 3 and etc.\n",
    "\n",
    "Challenge\n",
    "O(n) time, O(1) extra memory.\n",
    "```\n",
    "快速选择算法非常容易写错，要记忆模板，和模板写的一模一样，基于模板改。"
   ]
  },
  {
   "cell_type": "code",
   "execution_count": null,
   "metadata": {
    "colab": {
     "base_uri": "https://localhost:8080/",
     "height": 33
    },
    "colab_type": "code",
    "id": "pbLEqqmxStNh",
    "outputId": "5a3f5384-1cc8-454b-bfef-8e4000c41f37"
   },
   "outputs": [
    {
     "name": "stdout",
     "output_type": "stream",
     "text": [
      "1\n"
     ]
    }
   ],
   "source": [
    "class Solution:\n",
    "    # k & A a integer and an array\n",
    "    # ans a integer\n",
    "    def kthLargestElement(self, k, A):\n",
    "        # method 1\n",
    "        # return self.quickselect(A, len(A)-k)\n",
    "        # method 2 \n",
    "        import heapq\n",
    "        heapq.heapify(A)\n",
    "        return heapq.nlargest(k, A)[-1]\n",
    "\n",
    "    def quickselect(self, nums, k, lo=None, hi=None):\n",
    "        lo = 0 if lo is None else lo\n",
    "        hi = len(nums) - 1 if hi is None else hi\n",
    "        while True:\n",
    "            if lo == hi:\n",
    "                return nums[lo]\n",
    "            pvt = self.partition(nums, lo, hi)\n",
    "            if k == pvt:\n",
    "                return nums[k]\n",
    "            elif k < pvt:\n",
    "                hi = pvt - 1\n",
    "            else:\n",
    "                lo = pvt + 1\n",
    "\n",
    "    def partition(self, nums, lo=None, hi=None):\n",
    "        if lo >= hi: return lo\n",
    "        lo = 0 if lo is None else lo\n",
    "        hi = len(nums) - 1 if hi is None else hi\n",
    "        pvt = lo\n",
    "        for i in range(lo, hi):\n",
    "            if nums[i] < nums[hi]:\n",
    "                nums[i], nums[pvt] = nums[pvt], nums[i]\n",
    "                pvt += 1\n",
    "        nums[hi], nums[pvt] = nums[pvt], nums[hi]\n",
    "        return pvt\n",
    "\n",
    "\n",
    "if __name__ == \"__main__\":\n",
    "    k = 10\n",
    "    A = [1,2,3,4,5,6,8,9,10,7]\n",
    "    print Solution().kthLargestElement(k, A)\n",
    "    "
   ]
  },
  {
   "cell_type": "markdown",
   "metadata": {
    "colab_type": "text",
    "id": "fk1pA0kOOCes"
   },
   "source": [
    "## String topics"
   ]
  },
  {
   "cell_type": "markdown",
   "metadata": {
    "colab_type": "text",
    "id": "BM6sVvUWOCet"
   },
   "source": [
    "### 6. ZigZag Conversion\n",
    "The string \"PAYPALISHIRING\" is written in a zigzag pattern on a given number of rows like this: (you may want to display this pattern in a fixed font for better legibility)\n",
    "\n",
    "```\n",
    "P   A   H   N\n",
    "A P L S I I G\n",
    "Y   I   R\n",
    "\n",
    "\n",
    "\n",
    "And then read line by line: \"PAHNAPLSIIGYIR\"\n",
    "\n",
    "Write the code that will take a string and make this conversion given a number of rows:\n",
    "\n",
    "string convert(string s, int numRows);\n",
    "Example 1:\n",
    "\n",
    "Input: s = \"PAYPALISHIRING\", numRows = 3\n",
    "Output: \"PAHNAPLSIIGYIR\"\n",
    "Example 2:\n",
    "\n",
    "Input: s = \"PAYPALISHIRING\", numRows = 4\n",
    "Output: \"PINALSIGYAHRPI\"\n",
    "Explanation:\n",
    "\n",
    "P     I    N\n",
    "A   L S  I G\n",
    "Y A   H R\n",
    "P     I\n",
    "```"
   ]
  },
  {
   "cell_type": "code",
   "execution_count": null,
   "metadata": {
    "colab": {},
    "colab_type": "code",
    "id": "P-JOBC0sOCeu",
    "outputId": "5cf06c1e-b947-4308-a615-79af6bd9e254"
   },
   "outputs": [
    {
     "name": "stdout",
     "output_type": "stream",
     "text": [
      "[['P'], [], [], []]\n",
      "[['P'], ['A'], [], []]\n",
      "[['P'], ['A'], ['Y'], []]\n",
      "[['P'], ['A'], ['Y'], ['P']]\n",
      "2 [['P'], ['A'], ['Y', 'A'], ['P']]\n",
      "1 [['P'], ['A', 'L'], ['Y', 'A'], ['P']]\n",
      "[['P', 'I'], ['A', 'L'], ['Y', 'A'], ['P']]\n",
      "[['P', 'I'], ['A', 'L', 'S'], ['Y', 'A'], ['P']]\n",
      "[['P', 'I'], ['A', 'L', 'S'], ['Y', 'A', 'H'], ['P']]\n",
      "[['P', 'I'], ['A', 'L', 'S'], ['Y', 'A', 'H'], ['P', 'I']]\n",
      "2 [['P', 'I'], ['A', 'L', 'S'], ['Y', 'A', 'H', 'R'], ['P', 'I']]\n",
      "1 [['P', 'I'], ['A', 'L', 'S', 'I'], ['Y', 'A', 'H', 'R'], ['P', 'I']]\n",
      "[['P', 'I', 'N'], ['A', 'L', 'S', 'I'], ['Y', 'A', 'H', 'R'], ['P', 'I']]\n",
      "[['P', 'I', 'N'], ['A', 'L', 'S', 'I', 'G'], ['Y', 'A', 'H', 'R'], ['P', 'I']]\n",
      "[['P', 'I', 'N'], ['A', 'L', 'S', 'I', 'G'], ['Y', 'A', 'H', 'R'], ['P', 'I']]\n"
     ]
    }
   ],
   "source": [
    "class Solution:\n",
    "    def convert(self, s, numRows):\n",
    "        result =[[] for _ in range(numRows)]\n",
    "        res = \"\"\n",
    "        i = 0 \n",
    "        flag = 0\n",
    "        \n",
    "        while i < len(s):\n",
    "            if flag == 0:\n",
    "                for j in range(len(result)):\n",
    "                    if i < len(s):\n",
    "                        result[j].append(s[i])\n",
    "                        print(result)\n",
    "                        i += 1\n",
    "                \n",
    "                flag = 1 \n",
    "            else:\n",
    "                for j in range(len(result)-2, 0, -1):\n",
    "                    if i < len(s):\n",
    "                        result[j].append(s[i])\n",
    "                        print(j, result)\n",
    "                        i += 1\n",
    "                flag = 0\n",
    "        \n",
    "        for words in result:\n",
    "            for word in words:\n",
    "                res += word\n",
    "        \n",
    "        print(result)\n",
    "        return res\n",
    "\n",
    "if __name__ == \"__main__\":\n",
    "    s = Solution()\n",
    "    s.convert('PAYPALISHIRING', 4)"
   ]
  },
  {
   "cell_type": "markdown",
   "metadata": {
    "colab_type": "text",
    "id": "7mvWXGVyz1Xc"
   },
   "source": [
    "# BFS & Topological Sorting\n",
    "```\n",
    "\n",
    "如下的一些场景是使用宽度优先搜索的常见场景：\n",
    "\n",
    "Traversal in Graph\n",
    "图的遍历，比如给出无向连通图(Undirected Connected Graph)中的一个点，找到这个图里的所有点。这就是一个常见的场景。LintCode 上的 Clone Graph 就是一个典型的练习题。\n",
    "\n",
    "\n",
    " \n",
    "\n",
    "Level Order Traversal\n",
    "层级遍历，也就是说我不仅仅需要知道从一个点出发可以到达哪些点，还需要知道这些点，分别离出发点是第几层遇到的，比如 Binary Tree Level Order Traversal 就是一个典型的练习题。\n",
    "什么时候需要分层遍历？\n",
    "1. 如果问题需要你区分开不同层级的结果信息，如 二叉树的分层遍历 Binary Tree Level Order Traversal\n",
    "2. 简单图最短路径问题，如 单词接龙 Word Ladder\n",
    "\n",
    "Connected Component\n",
    "由点及面，前面已经提到。\n",
    "\n",
    "Topological Sort\n",
    "\n",
    "最短路径 Shortest Path in Simple Graph\n",
    "最短路径算法有很多种，BFS 是其中一种，但是他有特殊的使用场景，即必须是在简单图中求最短路径。\n",
    "大部分简单图中使用 BFS 算法时，都是无向图。当然也有可能是有向图，但是在面试中极少会出现。\n",
    "\n",
    "什么是简单图（Simple Graph）？\n",
    "即，图中每条边长度都是1（或边长都相同）。\n",
    "```\n",
    "宽搜一般用队列实现:\n",
    "\n",
    "什么是队列（Queue）？\n",
    "队列（queue）是一种采用先进先出（FIFO，first in first out）策略的抽象数据结构。比如生活中排队，总是按照先来的先服务，后来的后服务。队列在数据结构中举足轻重，其在算法中应用广泛，最常用的就是在宽度优先搜索(BFS）中，记录待扩展的节点。\n",
    "\n",
    "队列内部存储元素的方式，一般有两种，数组（array）和链表（linked list）。两者的最主要区别是：\n",
    "\n",
    "数组对随机访问有较好性能。\n",
    "链表对插入和删除元素有较好性能。\n",
    "在各语言的标准库中：\n",
    "\n",
    "Java常用的队列包括如下几种：\n",
    "ArrayDeque：数组存储。实现Deque接口，而Deque是Queue接口的子接口，代表双端队列（double-ended queue）。\n",
    "LinkedList：链表存储。实现List接口和Duque接口，不仅可做队列，还可以作为双端队列，或栈（stack）来使用。\n",
    "C++中，使用<queue>中的queue模板类，模板需两个参数，元素类型和容器类型，元素类型必要，而容器类型可选，默认deque，可改用list（链表）类型。\n",
    "Python中，使用Queue.Queue类，其由双端队列实现，并可指定队列大小maxsize，如果不大于0，表示大小无限制。\n",
    "如何自己用数组实现一个队列？\n",
    "队列的主要操作有：\n",
    "\n",
    "add()队尾追加元素\n",
    "poll()弹出队首元素\n",
    "size()返回队列长度\n",
    "empty()判断队列为空\n",
    "下面利用Java的ArrayList和一个头指针实现一个简单的队列。（注意：为了将重点放在实现队列上，做了适当简化。该队列仅支持整数类型，若想实现泛型，可用反射机制和object对象传参；此外，可多做安全检查并抛出异常）\n",
    "\n",
    "class MyQueue {\n",
    "    private ArrayList<Integer> elements;  // 用ArrayList存储队列内部元素\n",
    "    private int pointer;  // 表示队头的位置\n",
    "\n",
    "    // 队列初始化\n",
    "    public MyQueue() {\n",
    "        this.elements = new ArrayList<>();\n",
    "        pointer = 0;\n",
    "    }\n",
    "\n",
    "    // 获取队列中元素个数\n",
    "    public int size() {\n",
    "        return this.elements.size() - pointer;\n",
    "    }\n",
    "\n",
    "    // 判断队列是否为空\n",
    "    public boolean empty() {\n",
    "        return this.size() == 0;\n",
    "    }\n",
    "\n",
    "    // 在队尾添加一个元素\n",
    "    public void add(Integer e) {\n",
    "        this.elements.add(e);\n",
    "    }\n",
    "\n",
    "    // 弹出队首元素，如果为空则返回null\n",
    "    public Integer poll() {\n",
    "        if (this.empty()) {\n",
    "            return null;\n",
    "        }\n",
    "        return this.elements.get(pointer++);\n",
    "    }\n",
    "}\n",
    "队列在工业界的应用\n",
    "队列可用于实现消息队列（message queue），以完成异步（asynchronous）任务。\n",
    "\n",
    "“消息”是计算机间传送的数据，可以只包含文本；也可复杂到包含嵌入对象。当消息“生产”和“消费”的速度不一致时，就需要消息队列，临时保存那些已经发送而并未接收的消息。例如集体打包调度，服务器繁忙时的任务处理，事件驱动等等。\n",
    "\n",
    "常用的消息队列实现包括RabbitMQ，ZeroMQ等等。\n",
    "\n",
    "更多消息队列的参考资料：\n",
    "\n",
    "为什么需要消息队列，及使用消息队列的好处？\n",
    "RabbitMQ的应用场景以及基本原理介绍\n",
    "\n",
    "\n",
    "宽度优先搜索有很多种实现方法，这里为了大家记忆方便和教学的方便，我们只介绍最实用的一种方法，即使用一个队列的方法。\n",
    "这种方法也根据 BFS 时的需求不同，有两个版本，即需要分层遍历的版本和不需要分层遍历的版本。\n",
    "\n"
   ]
  },
  {
   "cell_type": "markdown",
   "metadata": {
    "colab_type": "text",
    "id": "0s1zynFqUr1r"
   },
   "source": [
    "## BFS 的模板(层级遍历与否)\n",
    "\n",
    "**无需分层的BFS** \n",
    "\n",
    "```\n",
    "// T 指代任何你希望存储的类型\n",
    "Queue<T> queue = new LinkedList<>();\n",
    "Set<T> set = new HashSet<>();\n",
    "\n",
    "set.add(start);\n",
    "queue.offer(start);\n",
    "while (!queue.isEmpty()) {\n",
    "    T head = queue.poll();\n",
    "    for (T neighbor : head.neighbors) {\n",
    "        if (!set.contains(neighbor)) {\n",
    "            set.add(neighbor);\n",
    "            queue.offer(neighbor);\n",
    "        }\n",
    "    }\n",
    "}\n",
    "\n",
    "```\n",
    "\n",
    "上述代码中, neighbor 表示从某个点 head 出发，可以走到的下一层的节点。\n",
    "set 存储已经访问过的节点（已经丢到 queue 里去过的节点）\n",
    "queue 存储等待被拓展到下一层的节点\n",
    "set 与 queue 是一对好基友，无时无刻都一起出现，往 queue 里新增一个节点，就要同时丢到 set 里。neighbor 表示从某个点 head 出发，可以走到的下一层的节点。\n",
    "set 存储已经访问过的节点（已经丢到 queue 里去过的节点）\n",
    "queue 存储等待被拓展到下一层的节点\n",
    "set 与 queue 是一对好基友，无时无刻都一起出现，往 queue 里新增一个节点，就要同时丢到 set 里。\n",
    "\n",
    " **分层 BFS **\n",
    "\n",
    "``` \n",
    "// T 指代任何你希望存储的类型\n",
    "Queue<T> queue = new LinkedList<>();\n",
    "Set<T> set = new HashSet<>();\n",
    "\n",
    "set.add(start);\n",
    "queue.offer(start);\n",
    "while (!queue.isEmpty()) {\n",
    "    int size = queue.size();\n",
    "    for (int i = 0; i < size; i++) {\n",
    "        T head = queue.poll();\n",
    "        for (T neighbor : head.neighbors) {\n",
    "            if (!set.contains(neighbor)) {\n",
    "                set.add(neighbor);\n",
    "                queue.offer(neighbor);\n",
    "            }\n",
    "        }\n",
    "    }\n",
    "}\n",
    "```\n",
    "上述代码中：\n",
    "\n",
    "size = queue.size() 是一个必须的步骤。如果在 for 循环中使用 for (int i = 0; i < queue.size(); i++) 会出错，因为 queue.size() 是一个动态变化的值。所以必须先把当前层一共有多少个节点存在局部变量 size 中，才不会把下一层的节点也在当前层进行扩展。\n"
   ]
  },
  {
   "cell_type": "markdown",
   "metadata": {
    "colab_type": "text",
    "id": "YjH1D-5bdhZL"
   },
   "source": [
    "### 433. Number of Islands\n",
    "Given a boolean 2D matrix, 0 is represented as the sea, 1 is represented as the island. If two 1 is adjacent, we consider them in the same island. We only consider up/down/left/right adjacent.\n",
    "\n",
    "Find the number of islands.\n",
    "```\n",
    "Example\n",
    "Given graph:\n",
    "\n",
    "[\n",
    "  [1, 1, 0, 0, 0],\n",
    "  [0, 1, 0, 0, 1],\n",
    "  [0, 0, 0, 1, 1],\n",
    "  [0, 0, 0, 0, 0],\n",
    "  [0, 0, 0, 0, 1]\n",
    "]\n",
    "return 3.\n",
    "\n",
    "```"
   ]
  },
  {
   "cell_type": "code",
   "execution_count": null,
   "metadata": {
    "colab": {},
    "colab_type": "code",
    "id": "TS3Suq1geUgk"
   },
   "outputs": [],
   "source": [
    "class Solution:\n",
    "    \"\"\"\n",
    "    @param grid: a boolean 2D matrix\n",
    "    @return: an integer\n",
    "    \"\"\"\n",
    "    def numIslands(self, grid):\n",
    "        from collections import deque\n",
    "        if len(grid) == 0 or len(grid[0]) == 0:\n",
    "            return 0\n",
    "        m, n = len(grid), len(grid[0])\n",
    "        visited = [[False for j in range(n)]\n",
    "                      for i in range(m)]\n",
    "\n",
    "\n",
    "        def check(x, y): # pos(x,y)\n",
    "            if 0 <= x < m and 0 <= y < n and not visited[x][y] and grid[x][y] == 1:\n",
    "                return True\n",
    "            return False\n",
    "\n",
    "        def bfs(x, y):\n",
    "            deck = deque()\n",
    "            deck.append((x,y))\n",
    "            direction = [(1, 0), (0, 1), (-1, 0), (0, -1)]\n",
    "            while len(deck) > 0:\n",
    "                x, y = deck.pop()\n",
    "                for i in range(4):\n",
    "                    xd = x + direction[i][0]\n",
    "                    yd = y + direction[i][1]\n",
    "                    if check(xd, yd):\n",
    "                        deck.appendleft((xd, yd))\n",
    "                        visited[xd][yd] = 1\n",
    "\n",
    "        count = 0\n",
    "        for x in range(m):\n",
    "            for y in range(n):\n",
    "                if grid[x][y] == 1 and not visited[x][y]:\n",
    "                    count += 1\n",
    "                    bfs(x, y)\n",
    "        \n",
    "        return count"
   ]
  },
  {
   "cell_type": "markdown",
   "metadata": {
    "colab_type": "text",
    "id": "pxnzpqZpJkKe"
   },
   "source": [
    "### Number of Distinct Islands II\n",
    "\n",
    "Description\n",
    "Given a non-empty 2D array grid of 0's and 1's, an island is a group of 1's (representing land) connected 4-directionally (horizontal or vertical.) You may assume all four edges of the grid are surrounded by water.\n",
    "\n",
    "Count the number of distinct islands. An island is considered to be the same as another if they have the same shape, or have the same shape after rotation (90, 180, or 270 degrees only) or reflection (left/right direction or up/down direction).\n",
    "\n",
    "The length of each dimension in the given grid does not exceed 50.\n",
    "\n",
    "```\n",
    "Example\n",
    "Example 1:\n",
    "\n",
    "11000\n",
    "10000\n",
    "00001\n",
    "00011\n",
    "Given the above grid map, return 1.\n",
    "\n",
    "Notice that:\n",
    "\n",
    "11\n",
    "1\n",
    "and\n",
    "\n",
    " 1\n",
    "11\n",
    "are considered same island shapes. Because if we make a 180 degrees clockwise rotation on the first island, then two islands will have the same shapes.\n",
    "\n",
    "Example 2:\n",
    "\n",
    "11100\n",
    "10001\n",
    "01001\n",
    "01110\n",
    "Given the above grid map, return 2.\n",
    "\n",
    "Here are the two distinct islands:\n",
    "\n",
    "111\n",
    "1\n",
    "and\n",
    "\n",
    "1\n",
    "1\n",
    "Notice that:\n",
    "\n",
    "111\n",
    "1\n",
    "and\n",
    "\n",
    "1\n",
    "111\n",
    "are considered same island shapes. Because if we flip the first array in the up/down direction, then they have the same shapes.\n",
    "```"
   ]
  },
  {
   "cell_type": "code",
   "execution_count": null,
   "metadata": {
    "colab": {},
    "colab_type": "code",
    "id": "GREal4FT2ZC5"
   },
   "outputs": [],
   "source": [
    "public class Solution {\n",
    "    /**\n",
    "     * @param n an integer\n",
    "     * @param m an integer\n",
    "     * @param operators an array of point\n",
    "     * @return an integer array\n",
    "     */\n",
    "    int converttoId(int x, int y, int m){\n",
    "        return x*m + y;\n",
    "    }\n",
    "    class UnionFind{\n",
    "        HashMap<Integer, Integer> father = new HashMap<Integer, Integer>();\n",
    "        UnionFind(int n, int m){\n",
    "            for(int i = 0 ; i < n; i++) {\n",
    "                for(int j = 0 ; j < m; j++) {\n",
    "                    int id = converttoId(i,j,m);\n",
    "                    father.put(id, id); \n",
    "                }\n",
    "            }\n",
    "        }\n",
    "        int compressed_find(int x){\n",
    "            int parent =  father.get(x);\n",
    "            while(parent!=father.get(parent)) {\n",
    "                parent = father.get(parent);\n",
    "            }\n",
    "            int temp = -1;\n",
    "            int fa = x;\n",
    "            while(fa!=father.get(fa)) {\n",
    "                temp = father.get(fa);\n",
    "                father.put(fa, parent) ;\n",
    "                fa = temp;\n",
    "            }\n",
    "            return parent;\n",
    "                \n",
    "        }\n",
    "        \n",
    "        void union(int x, int y){\n",
    "            int fa_x = compressed_find(x);\n",
    "            int fa_y = compressed_find(y);\n",
    "            if(fa_x != fa_y)\n",
    "                father.put(fa_x, fa_y);\n",
    "        }\n",
    "    }\n",
    "    \n",
    "    public List<Integer> numIslands2(int n, int m, Point[] operators) {\n",
    "        // Write your code here\n",
    "        List<Integer> ans = new ArrayList<Integer>();\n",
    "        if(operators == null) {\n",
    "            return ans;\n",
    "        }\n",
    "        \n",
    "        int []dx = {0,-1, 0, 1};\n",
    "        int []dy = {1, 0, -1, 0};\n",
    "        int [][]island = new int[n][m];\n",
    "       \n",
    "        \n",
    "        UnionFind uf = new UnionFind(n, m);\n",
    "        int count = 0;\n",
    "        \n",
    "        for(int i = 0; i < operators.length; i++) {\n",
    "            int x = operators[i].x;\n",
    "            int y = operators[i].y;\n",
    "            if(island[x][y] != 1) {\n",
    "                count ++;\n",
    "                island[x][y]  = 1;\n",
    "                int id = converttoId(x,y , m);\n",
    "                for(int j = 0 ; j < 4; j++) {\n",
    "                    int nx = x + dx[j];\n",
    "                    int ny = y + dy[j];\n",
    "                    if(0 <= nx && nx < n && 0 <= ny && ny < m && island[nx][ny] == 1) \n",
    "                    {\n",
    "                        int nid = converttoId(nx, ny, m);\n",
    "                        \n",
    "                        int fa = uf.compressed_find(id);\n",
    "                        int nfa = uf.compressed_find(nid);\n",
    "                        if(fa != nfa) {\n",
    "                            count--;\n",
    "                            uf.union(id, nid);\n",
    "                        }\n",
    "                    }\n",
    "                }\n",
    "            }\n",
    "            ans.add(count);\n",
    "        }\n",
    "        return ans;\n",
    "    }\n",
    "}"
   ]
  },
  {
   "cell_type": "markdown",
   "metadata": {
    "colab_type": "text",
    "id": "TXPoFhIWdtnS"
   },
   "source": [
    "### 69. Binary Tree Level Order Traversal\n",
    "Given a binary tree, return the level order traversal of its nodes' values. (ie, from left to right, level by level).\n",
    "```\n",
    "Example\n",
    "Given binary tree {3,9,20,#,#,15,7},\n",
    "\n",
    "    3\n",
    "   / \\\n",
    "  9  20\n",
    "    /  \\\n",
    "   15   7\n",
    " \n",
    "\n",
    "return its level order traversal as:\n",
    "\n",
    "[\n",
    "  [3],\n",
    "  [9,20],\n",
    "  [15,7]\n",
    "]\n",
    "Challenge\n",
    "Challenge 1: Using only 1 queue to implement it.\n",
    "\n",
    "Challenge 2: Use DFS algorithm to do it.\n",
    "```"
   ]
  },
  {
   "cell_type": "code",
   "execution_count": null,
   "metadata": {
    "colab": {},
    "colab_type": "code",
    "id": "_eeJYoyUeWtm"
   },
   "outputs": [],
   "source": [
    "\"\"\"\n",
    "Definition of TreeNode:\n",
    "class TreeNode:\n",
    "    def __init__(self, val):\n",
    "        self.val = val\n",
    "        self.left, self.right = None, None\n",
    "\"\"\"\n",
    "\n",
    "class Solution:\n",
    "    \"\"\"\n",
    "    @param root: A Tree\n",
    "    @return: Level order a list of lists of integer\n",
    "    \"\"\"\n",
    "    def levelOrder(self, root):\n",
    "        result = []\n",
    "        if root is None:\n",
    "            return result\n",
    "        q = [root]\n",
    "\n",
    "        while len(q) > 0:\n",
    "            new_q = []\n",
    "            result.append([n.val for n in q])\n",
    "            for i in q:\n",
    "                if i.left is not None:\n",
    "                    new_q.append(i.left)\n",
    "                if i.right is not None:\n",
    "                    new_q.append(i.right)\n",
    "            q = new_q\n",
    "        return result"
   ]
  },
  {
   "cell_type": "code",
   "execution_count": null,
   "metadata": {
    "colab": {},
    "colab_type": "code",
    "id": "gJQ_mbRC-Vsm"
   },
   "outputs": [],
   "source": [
    "class Solution(object):\n",
    "    def updateMatrix(self, matrix):\n",
    "        \"\"\"\n",
    "        :type matrix: List[List[int]]\n",
    "        :rtype: List[List[int]]\n",
    "        \"\"\"\n",
    "        \n",
    "        if not matrix or not matrix[0]:\n",
    "            return []\n",
    "        \n",
    "        n, m = len(matrix), len(matrix[0])\n",
    "        \n",
    "        queue = []\n",
    "        for i in xrange(n):\n",
    "            for j in xrange(m):\n",
    "                # 将所有的0当做起始点\n",
    "                if matrix[i][j] == 0:\n",
    "                    queue.append((i, j))\n",
    "                else:\n",
    "                    matrix[i][j] = n + m  \n",
    "            # 曼哈顿距离在一个矩阵中的最大值（不严格，反正比最大值大就行）\n",
    "        \n",
    "        while queue:\n",
    "            point = queue.pop(0)\n",
    "            \n",
    "            for dx, dy in [[-1, 0], [1, 0], [0, -1], [0, 1]]:\n",
    "                x = dx + point[0]\n",
    "                y = dy + point[1]\n",
    "                \n",
    "                if x < 0 or x >= n or y < 0 or y >= m:\n",
    "                    continue\n",
    "                \n",
    "                # 当前是洼地，四周比它高\n",
    "                if matrix[point[0]][point[1]] < matrix[x][y]:\n",
    "                    matrix[x][y] = matrix[point[0]][point[1]] + 1\n",
    "                    queue.append((x, y))\n",
    "        return matrix"
   ]
  },
  {
   "cell_type": "markdown",
   "metadata": {
    "colab_type": "text",
    "id": "TxnMkrwyiSWC"
   },
   "source": [
    "## 最短路径 Shortest Path in Simple Graph\n",
    "\n",
    "最短路径 Shortest Path in Simple Graph\n",
    "最短路径算法有很多种，BFS 是其中一种，但是他有特殊的使用场景，即必须是在简单图中求最短路径。大部分简单图中使用 BFS 算法时，都是无向图。当然也有可能是有向图，但是在面试中极少会出现。\n",
    "\n",
    "**什么是简单图（Simple Graph）？**\n",
    "即，图中每条边长度都是1（或边长都相同）。"
   ]
  },
  {
   "cell_type": "markdown",
   "metadata": {
    "colab_type": "text",
    "id": "3HkHyIr7eW7M"
   },
   "source": [
    "### 611. Knight Shortest Path\n",
    "Given a knight in a chessboard (a binary matrix with 0 as empty and 1 as barrier) with a source position, find the shortest path to a destination position, return the length of the route.\n",
    "Return -1 if knight can not reached.\n",
    "```\n",
    "Example\n",
    "[[0,0,0],\n",
    " [0,0,0],\n",
    " [0,0,0]]\n",
    "source = [2, 0] destination = [2, 2] return 2\n",
    "\n",
    "[[0,1,0],\n",
    " [0,0,0],\n",
    " [0,0,0]]\n",
    "source = [2, 0] destination = [2, 2] return 6\n",
    "\n",
    "[[0,1,0],\n",
    " [0,0,1],\n",
    " [0,0,0]]\n",
    "source = [2, 0] destination = [2, 2] return -1\n",
    "\n",
    "\n",
    "```\n"
   ]
  },
  {
   "cell_type": "code",
   "execution_count": null,
   "metadata": {
    "colab": {},
    "colab_type": "code",
    "id": "9EOnkYyUeZ96"
   },
   "outputs": [],
   "source": [
    "class Solution:\n",
    "    \"\"\"\n",
    "    @param grid: a chessboard included 0 (false) and 1 (true)\n",
    "    @param source: a point\n",
    "    @param destination: a point\n",
    "    @return: the shortest path\n",
    "    \"\"\"\n",
    "    def shortestPath(self, grid, source, destination):\n",
    "        from sys import maxsize\n",
    "        if len(grid) == 0 or len(grid[0]) == 0:\n",
    "            return -1\n",
    "        m, n = len(grid), len(grid[0])\n",
    "        record = [[maxsize for j in range(n)]\n",
    "                           for i in range(m)]\n",
    "\n",
    "        directions = [[1,2],[1,-2],[-1,2],[-1,-2],\n",
    "                      [2,1],[2,-1],[-2,1],[-2,-1]]\n",
    "\n",
    "        def check(x, y):\n",
    "            if 0 <= x < m and 0 <= y < n and grid[x][y] != 1:\n",
    "                return True\n",
    "            return False\n",
    "\n",
    "        def bfs(x, y):\n",
    "            from collections import deque\n",
    "            deck = deque()\n",
    "            record[x][y] = 0\n",
    "            deck.appendleft((x,y))\n",
    "            while len(deck) > 0 :\n",
    "                x, y = deck.pop()\n",
    "                for i in range(len(directions)):\n",
    "                    xd = x + directions[i][0]\n",
    "                    yd = y + directions[i][1]\n",
    "                    if check(xd, yd) and record[xd][yd] > record[x][y] + 1:\n",
    "                        record[xd][yd] = record[x][y] + 1\n",
    "                        deck.appendleft((xd, yd))\n",
    "\n",
    "        x, y = source.x, source.y\n",
    "        bfs(x, y)\n",
    "        x, y = destination.x, destination.y\n",
    "        return record[x][y] if record[x][y] != maxsize else -1"
   ]
  },
  {
   "cell_type": "markdown",
   "metadata": {
    "colab_type": "text",
    "id": "iHYeah4z-RHs"
   },
   "source": [
    "### 974. 01 Matrix\n",
    "Given a matrix consists of 0 and 1, find the distance of the nearest 0 for each cell.\n",
    "\n",
    "The distance between two adjacent cells is 1.\n",
    "```\n",
    "Example\n",
    "input:\n",
    "[[0,0,0],\n",
    "[0,1,0],\n",
    "[1,1,1]]\n",
    "output:\n",
    "[[0,0,0],\n",
    "[0,1,0],\n",
    "[1,2,1]]\n",
    "```\n",
    "不管BFS还是DFS的思路都要从0开始往1搜索，从洼地向高山搜索。"
   ]
  },
  {
   "cell_type": "code",
   "execution_count": null,
   "metadata": {
    "colab": {
     "base_uri": "https://localhost:8080/",
     "height": 68
    },
    "colab_type": "code",
    "id": "_LtcPk2zkyP-",
    "outputId": "9b474c54-fee2-4b48-bcf3-38e3fd0b07ce"
   },
   "outputs": [
    {
     "name": "stdout",
     "output_type": "stream",
     "text": [
      "[[0, 0, 0], [0, 1, 0], [1, 2, 1]]\n",
      "[[0, 0, 0], [0, 1, 0], [1, 2, 1]]\n",
      "[[0, 0, 0], [0, 1, 0], [1, 2, 1]]\n"
     ]
    }
   ],
   "source": [
    "\n",
    "class Solution:\n",
    "    \"\"\"\n",
    "    @param matrix: a 0-1 matrix\n",
    "    @return: return a matrix\n",
    "    \"\"\"\n",
    "    def updateMatrix_dfs(self, matrix):\n",
    "        if len(matrix) == 0 or len(matrix[0]) == 0:\n",
    "            return matrix\n",
    "        m, n = len(matrix), len(matrix[0])\n",
    "        directions = [(1,0), (0,1), (-1,0), (0,-1)]\n",
    "        import collections\n",
    "        que = collections.deque()\n",
    "        for i in range(m):\n",
    "            for j in range(n):\n",
    "                if matrix[i][j]:\n",
    "                    matrix[i][j] = m+n\n",
    "                else:\n",
    "                    que.append((i,j))\n",
    "\n",
    "        def dfs(x, y): # search nearest distance for 0 to x, y\n",
    "            for d in directions:\n",
    "                xd = x + d[0]\n",
    "                yd = y + d[1]\n",
    "                if not (0 <= xd < m and 0 <= yd < n):\n",
    "                    continue\n",
    "                if matrix[x][y] + 1 < matrix[xd][yd]:\n",
    "                    matrix[xd][yd] = matrix[x][y] + 1\n",
    "                    dfs(xd, yd)\n",
    "\n",
    "\n",
    "        while que:\n",
    "            x, y = que.popleft()\n",
    "            dfs(x,y)\n",
    "\n",
    "        return matrix\n",
    "\n",
    "    def updateMatrix_bfs(self, matrix):\n",
    "        if len(matrix) == 0 or len(matrix[0]) == 0:\n",
    "            return matrix\n",
    "        m, n = len(matrix), len(matrix[0])\n",
    "        directions = [(1, 0), (0, 1), (-1, 0), (0, -1)]\n",
    "        import  collections\n",
    "        deck = collections.deque()\n",
    "        for i in range(m):\n",
    "            for j in range(n):\n",
    "                if matrix[i][j]:\n",
    "                    matrix[i][j] = m + n\n",
    "                else:\n",
    "                    deck.append((i,j))\n",
    "        while deck:\n",
    "            x, y = deck.popleft()\n",
    "            for d in directions:\n",
    "                xd = x + d[0]\n",
    "                yd = y + d[1]\n",
    "                if not (0 <= xd < m and 0 <= yd < n):\n",
    "                    continue\n",
    "                if matrix[x][y] + 1 < matrix[xd][yd]:\n",
    "                    matrix[xd][yd] = matrix[x][y] + 1\n",
    "                    deck.append((xd, yd))\n",
    "        return matrix\n",
    "    \n",
    "    def updateMatrix_dp(self, matrix):\n",
    "        answer = [[10 * x for x in row] for row in matrix]\n",
    "        #print answer\n",
    "        for _ in range(4):\n",
    "            for row in answer:\n",
    "                for j in range(1, len(row)):\n",
    "                    row[j] = min(row[j], row[j-1] + 1)\n",
    "            #print  answer, '|', zip(*answer[::-1]), '|', map(list, zip(*answer[::-1]))\n",
    "            answer = map(list, zip(*answer[::-1])) # 矩阵转置操作\n",
    "        return answer\n",
    "\n",
    "if __name__ == \"__main__\":\n",
    "    input= [ [0, 0, 0],\n",
    "             [0, 1, 0],\n",
    "             [1, 1, 1]]\n",
    "    s = Solution()\n",
    "    print s.updateMatrix_dfs(input)\n",
    "    print s.updateMatrix_bfs(input)\n",
    "    print s.updateMatrix_dp(input)"
   ]
  },
  {
   "cell_type": "code",
   "execution_count": null,
   "metadata": {
    "colab": {
     "base_uri": "https://localhost:8080/",
     "height": 86
    },
    "colab_type": "code",
    "id": "upDhOfxJen0-",
    "outputId": "afcc1346-1992-41eb-e1f9-5b9e44e5c6d7"
   },
   "outputs": [
    {
     "name": "stdout",
     "output_type": "stream",
     "text": [
      "[[1, 0, 0], [1, 1, 0], [1, 0, 0]]\n",
      "0.00016188621521\n",
      "0.000417947769165\n",
      "0.000192880630493\n"
     ]
    }
   ],
   "source": [
    "data = [[0, 0, 0], [0, 1, 0], [1, 1, 1]]\n",
    "print map(list, zip(*data[::-1]))\n",
    "from timeit import timeit\n",
    "s = Solution()\n",
    "print timeit(\"s.updateMatrix_bfs(data)\", \n",
    "             setup=\"from __main__ import data, s\", number=10)\n",
    "print timeit(\"s.updateMatrix_dfs(data)\", \n",
    "             setup=\"from __main__ import data, s\", number=10)\n",
    "print timeit(\"s.updateMatrix_dp(data)\", \n",
    "             setup=\"from __main__ import data, s\", number=10)"
   ]
  },
  {
   "cell_type": "markdown",
   "metadata": {
    "colab_type": "text",
    "id": "p-472J6yjO3Y"
   },
   "source": [
    "### 598. Zombie in Matrix\n",
    "Given a 2D grid, each cell is either a wall 2, a zombie 1 or people 0 (the number zero, one, two).Zombies can turn the nearest people(up/down/left/right) into zombies every day, but can not through wall. How long will it take to turn all people into zombies? Return -1 if can not turn all people into zombies.\n",
    "```\n",
    "Example\n",
    "Given a matrix:\n",
    "\n",
    "0 1 2 0 0\n",
    "1 0 0 2 1\n",
    "0 1 0 0 0\n",
    "return 2\n",
    "\n",
    "```\n",
    "\n",
    "Think:\n",
    "\n",
    "1. deck should append all starting point\n",
    "2. Do I really need a record matrix? \n",
    "3.                     if grid[x][y] + 1 < grid[xd][yd]:\n",
    "\n",
    "                        grid[xd][yd] = grid[x][y] + 1\n",
    "                        \n",
    "                        deck.append((xd,yd))\n",
    "\n"
   ]
  },
  {
   "cell_type": "code",
   "execution_count": null,
   "metadata": {
    "colab": {
     "base_uri": "https://localhost:8080/",
     "height": 34
    },
    "colab_type": "code",
    "id": "S573YcG9jkWx",
    "outputId": "f63bb446-b6ea-4d4d-92f4-c7d8c6f0b060"
   },
   "outputs": [
    {
     "name": "stdout",
     "output_type": "stream",
     "text": [
      "2\n"
     ]
    }
   ],
   "source": [
    "class Solution:\n",
    "    \"\"\"\n",
    "    @param grid: a 2D integer grid\n",
    "    @return: an integer\n",
    "    \"\"\"\n",
    "    def zombie(self, grid):\n",
    "        if len(grid) == 0 or len(grid[0]) == 0:\n",
    "            return -1\n",
    "        \n",
    "        m, n = len(grid), len(grid[0])\n",
    "        MAX_INT = 65535\n",
    "        \n",
    "        import collections\n",
    "        deck = collections.deque()\n",
    "        # init \n",
    "        for i in range(m):\n",
    "            for j in range(n):\n",
    "                if grid[i][j] == 2:\n",
    "                    grid[i][j] = -1\n",
    "                elif grid[i][j] == 1:# zombie\n",
    "                    grid[i][j] = 0\n",
    "                    deck.append((i,j))\n",
    "                else: #grid[i][j] == 0:# people\n",
    "                    grid[i][j] = MAX_INT\n",
    "          \n",
    "        # bfs\n",
    "        directions = [(1,0), (0,1), (-1,0), (0,-1)]\n",
    "        while deck:\n",
    "            x, y = deck.popleft()\n",
    "            for dx, dy in directions:\n",
    "                xd = x + dx \n",
    "                yd = y + dy\n",
    "                \n",
    "                if 0 <= xd < m and 0 <= yd < n and grid[xd][yd] != -1:\n",
    "                    if grid[x][y] + 1 < grid[xd][yd]:\n",
    "                        grid[xd][yd] = grid[x][y] + 1\n",
    "                        deck.append((xd,yd))\n",
    "        max_day = 0\n",
    "        for i in range(m):\n",
    "            for j in range(n):\n",
    "                max_day = max(max_day, grid[i][j])\n",
    " \n",
    "        return max_day if max_day != MAX_INT else -1\n",
    "    \n",
    "if __name__ == \"__main__\":\n",
    "    s = Solution()\n",
    "    grid = [[0,1,2,0,0],[1,0,0,2,1],[0,1,0,0,0]]\n",
    "    print s.zombie(grid)\n",
    "    \n",
    "        \n",
    "        "
   ]
  },
  {
   "cell_type": "markdown",
   "metadata": {
    "colab_type": "text",
    "id": "oYST91y6JOcu"
   },
   "source": [
    "### The Maze \n",
    "\n",
    "Description\n",
    "There is a ball in a maze with empty spaces and walls. The ball can go through empty spaces by rolling up, down, left or right, but it won't stop rolling until hitting a wall. When the ball stops, it could choose the next direction.\n",
    "\n",
    "Given the ball's start position, the destination and the maze, determine whether the ball could stop at the destination.\n",
    "\n",
    "The maze is represented by a binary 2D array. 1 means the wall and 0 means the empty space. You may assume that the borders of the maze are all walls. The start and destination coordinates are represented by row and column indexes.\n",
    "\n",
    ">1.There is only one ball and one destination in the maze.\n",
    "\n",
    ">2.Both the ball and the destination exist on an empty space, and they will not be at the same position initially.\n",
    "\n",
    ">3.The given maze does not contain border (like the red rectangle in the example pictures), but you could assume the border of the maze are all walls.\n",
    "5.The maze contains at least 2 empty spaces, and both the width and height of the maze won't exceed 100.\n",
    "\n",
    "```\n",
    "Example\n",
    "Given:\n",
    "a maze represented by a 2D array\n",
    "\n",
    "0 0 1 0 0\n",
    "0 0 0 0 0\n",
    "0 0 0 1 0\n",
    "1 1 0 1 1\n",
    "0 0 0 0 0\n",
    "\n",
    "start coordinate (rowStart, colStart) = (0, 4)\n",
    "destination coordinate (rowDest, colDest) = (4, 4)\n",
    "\n",
    "Return:true\n",
    "```\n",
    "\n",
    "Think: need to make sure if the ball can stop at x, y, if it can, then check if true. "
   ]
  },
  {
   "cell_type": "code",
   "execution_count": null,
   "metadata": {
    "colab": {
     "base_uri": "https://localhost:8080/",
     "height": 52
    },
    "colab_type": "code",
    "id": "FuZXWDWZJY0V",
    "outputId": "dacf9268-461f-4f2a-b288-350723e15f2e"
   },
   "outputs": [
    {
     "name": "stdout",
     "output_type": "stream",
     "text": [
      "False\n",
      "True\n"
     ]
    }
   ],
   "source": [
    "class Solution:\n",
    "    \"\"\"\n",
    "    @param maze: the maze\n",
    "    @param start: the start\n",
    "    @param destination: the destination\n",
    "    @return: whether the ball could stop at the destination\n",
    "    \"\"\"\n",
    "    def hasPath(self, maze, start, destination):\n",
    "        if len(maze) == 0 or len(maze[0]) == 0:\n",
    "            return False\n",
    "        m, n = len(maze), len(maze[0])      \n",
    "        x, y = start\n",
    "        xd, yd = destination\n",
    "        if maze[x][y] == 1 or maze[xd][yd] == 1:\n",
    "            return False\n",
    "        directs = [(1,0), (0,1), (-1,0), (0,-1)]\n",
    "        from collections import deque\n",
    "        deck = deque()\n",
    "        visited = set()\n",
    "        \n",
    "        for dx, dy in directs:\n",
    "            xd, yd = x + dx, y + dy\n",
    "            if 0 <= xd < m and 0 <= yd < n and maze[xd][yd] != 1:\n",
    "                deck.append((xd, yd, dx, dy))\n",
    "                visited.add((xd, yd, dx, dy))\n",
    "        \n",
    "        while deck:\n",
    "            x, y, dx, dy = deck.popleft()\n",
    "            xd, yd = x + dx, y + dy\n",
    "            if (0 <= xd < m and 0 <= yd < n and maze[xd][yd] != 1 \n",
    "                and (xd, yd, dx, dy) not in visited):\n",
    "                deck.append((xd, yd, dx, dy))\n",
    "                visited.add((xd, yd, dx, dy))\n",
    "            else:# stop at x, y\n",
    "                if destination == [x, y]:\n",
    "                    return True\n",
    "                \n",
    "                for dx, dy in directs:\n",
    "                    xd, yd = x + dx, y + dy\n",
    "                    if (0 <= xd < m and 0 <= yd < n and maze[xd][yd] != 1 \n",
    "                        and (xd, yd, dx, dy) not in visited):\n",
    "                        deck.append((xd, yd, dx, dy))\n",
    "                        visited.add((xd, yd, dx, dy))\n",
    "        return False \n",
    "\n",
    "    \n",
    "if __name__ == \"__main__\":\n",
    "    S = Solution()\n",
    "    print S.hasPath(maze = [[0,0,1,0,0],[0,0,0,0,0],[0,0,0,1,0],\n",
    "                            [1,1,0,1,1],[0,0,0,0,0]],\n",
    "                    start = [0,4], destination = [3,2])\n",
    "    print S.hasPath(maze = [[0,0,1,0,0],[0,0,0,0,0],[0,0,0,1,0],\n",
    "                                [1,1,0,1,1],[0,0,0,0,0]],\n",
    "                    start = [0,4], destination = [4,4])"
   ]
  },
  {
   "cell_type": "code",
   "execution_count": null,
   "metadata": {
    "colab": {
     "base_uri": "https://localhost:8080/",
     "height": 35
    },
    "colab_type": "code",
    "id": "V4MqA5-SLBGG",
    "outputId": "1da6c194-a6bd-4a83-9333-801642122882"
   },
   "outputs": [
    {
     "data": {
      "text/plain": [
       "0"
      ]
     },
     "execution_count": 23,
     "metadata": {
      "tags": []
     },
     "output_type": "execute_result"
    }
   ],
   "source": [
    "asd[[0,0,1,0,0],[0,0,0,0,0],[0,0,0,1,0],[1,1,0,1,1],[0,0,0,0,0]][3][2]"
   ]
  },
  {
   "cell_type": "markdown",
   "metadata": {
    "colab_type": "text",
    "id": "kvhwHArRCwpa"
   },
   "source": [
    "### 788. The Maze II\n",
    "There is a ball in a maze with empty spaces and walls. The ball can go through empty spaces by rolling up, down, left or right, but it won't stop rolling until hitting a wall. When the ball stops, it could choose the next direction.\n",
    "\n",
    "Given the ball's start position, the destination and the maze, find the shortest distance for the ball to stop at the destination. The distance is defined by the number of empty spaces traveled by the ball from the start position (excluded) to the destination (included). If the ball cannot stop at the destination, return -1.\n",
    "\n",
    "The maze is represented by a binary 2D array. 1 means the wall and 0 means the empty space. You may assume that the borders of the maze are all walls. The start and destination coordinates are represented by row and column indexes.\n",
    "```\n",
    "Example\n",
    "Given:\n",
    "a maze represented by a 2D array\n",
    "\n",
    "0 0 1 0 0\n",
    "0 0 0 0 0\n",
    "0 0 0 1 0\n",
    "1 1 0 1 1\n",
    "0 0 0 0 0\n",
    "\n",
    "start coordinate (rowStart, colStart) = (0, 4)\n",
    "destination coordinate (rowDest, colDest) = (4, 4)\n",
    "\n",
    "Return:12\n",
    "```"
   ]
  },
  {
   "cell_type": "markdown",
   "metadata": {
    "colab_type": "text",
    "id": "MdSi8EPZCwbW"
   },
   "source": [
    "### 789. The Maze III\n",
    "There is a ball in a maze with empty spaces and walls. The ball can go through empty spaces by rolling up (u), down (d), left (l) or right (r), but it won't stop rolling until hitting a wall. When the ball stops, it could choose the next direction. There is also a hole in this maze. The ball will drop into the hole if it rolls on to the hole.\n",
    "\n",
    "Given the ball position, the hole position and the maze, find out how the ball could drop into the hole by moving the shortest distance. The distance is defined by the number of empty spaces traveled by the ball from the start position (excluded) to the hole (included). Output the moving directions by using 'u', 'd', 'l' and 'r'. Since there could be several different shortest ways, you should output the lexicographically smallest way. If the ball cannot reach the hole, output \"impossible\".\n",
    "\n",
    "The maze is represented by a binary 2D array. 1 means the wall and 0 means the empty space. You may assume that the borders of the maze are all walls. The ball and the hole coordinates are represented by row and column indexes.\n",
    "```\n",
    "Example\n",
    "Input:\n",
    "a maze represented by a 2D array\n",
    "\n",
    "0 0 0 0 0\n",
    "1 1 0 0 1\n",
    "0 0 0 0 0\n",
    "0 1 0 0 1\n",
    "0 1 0 0 0\n",
    "\n",
    "ball coordinate (rowBall, colBall) = (4, 3)\n",
    "hole coordinate (rowHole, colHole) = (0, 1)\n",
    "\n",
    "Output:\"lul\"\n",
    "```"
   ]
  },
  {
   "cell_type": "markdown",
   "metadata": {
    "colab_type": "text",
    "id": "9AFqKjdwfsCA"
   },
   "source": [
    "### 574. Build Post Office I\n",
    "Given a 2D grid, each cell is either an house 1 or empty 0 (the number zero, one), find the place to build a post office, the distance that post office to all the house sum is smallest. Return the smallest distance. Return -1 if it is not possible.\n",
    "```\n",
    "Example\n",
    "Given a grid:\n",
    "\n",
    "0 1 0 0\n",
    "1 0 1 1\n",
    "0 1 0 0\n",
    "return 6. (Placing a post office at (1,1), the distance that post office to all the house sum is smallest.)\n",
    "```\n",
    "\n",
    "Notes:\n",
    "   1. This is a binary search problem. "
   ]
  },
  {
   "cell_type": "code",
   "execution_count": null,
   "metadata": {
    "colab": {
     "base_uri": "https://localhost:8080/",
     "height": 68
    },
    "colab_type": "code",
    "id": "fWuaxYoAkNoZ",
    "outputId": "3c56da49-ec27-4604-853b-dfc74c02e43a"
   },
   "outputs": [
    {
     "name": "stdout",
     "output_type": "stream",
     "text": [
      "8\n",
      "6\n",
      "72\n"
     ]
    }
   ],
   "source": [
    "from copy import deepcopy\n",
    "class Solution:\n",
    "    \"\"\"\n",
    "    @param grid: a 2D grid\n",
    "    @return: An integer\n",
    "    \"\"\"\n",
    "    def shortestDistance(self, grid):\n",
    "        if len(grid) == 0 or len(grid[0]) == 0:\n",
    "            return -1 \n",
    "        MAX_INT = 65535\n",
    "        m, n = len(grid), len(grid[0])\n",
    "        sumx, sumy, x, y = [0], [0], [], []       \n",
    "        ret = MAX_INT\n",
    "        \n",
    "        for i in range(m):\n",
    "            for j in range(n):\n",
    "                if grid[i][j] == 1:\n",
    "                    x.append(i)\n",
    "                    y.append(j)\n",
    "        x.sort()\n",
    "        y.sort()\n",
    "        \n",
    "        total = len(x)\n",
    "        for i in range(1, total + 1):\n",
    "            sumx.append(sumx[i-1] + x[i-1])\n",
    "            sumy.append(sumy[i-1] + y[i-1])\n",
    "        \n",
    "        for i in range(m):\n",
    "            for j in range(n):\n",
    "                if grid[i][j] == 0:\n",
    "                    cost_x = self.get_cost(x, sumx, i, total)\n",
    "                    cost_y = self.get_cost(y, sumy, j, total)\n",
    "                    #print i, j, cost_x, cost_y\n",
    "                    ret = min(ret, cost_x + cost_y)\n",
    "        return ret\n",
    "        \n",
    "    def get_cost(self, x, sumx, pos, n):\n",
    "        if n == 0:\n",
    "            return 0\n",
    "        if x[0] > pos:\n",
    "            return sumx[n] - pos * n\n",
    "\n",
    "        start, end = 0, n - 1\n",
    "        while start + 1 < end:\n",
    "            mid = start + (end - start) // 2 \n",
    "            if x[mid] <= pos:\n",
    "                start = mid\n",
    "            else:\n",
    "                end = mid\n",
    "\n",
    "        index = end if x[end] <= pos else start\n",
    "        return ( sumx[n] - sumx[index+1] - pos * (n - index -1) \n",
    "                 + (index+1) * pos - sumx[index+1])\n",
    "\n",
    "\n",
    "if __name__ == \"__main__\":\n",
    "    S = Solution()\n",
    "    print S.shortestDistance(grid=[[0,1,0,0,0],\n",
    "                                   [1,0,0,1,1],\n",
    "                                   [0,1,0,0,0]])\n",
    "    \n",
    "    print S.shortestDistance(grid=[[0,1,0,0],\n",
    "                                   [1,0,1,1],\n",
    "                                   [0,1,0,0]]) \n",
    "    \n",
    "    print S.shortestDistance(grid=[[1,1,1,1,1,0],\n",
    "                                   [0,0,0,0,0,1],\n",
    "                                   [0,1,1,0,0,1],\n",
    "                                   [1,0,0,1,0,1],\n",
    "                                   [1,0,1,0,0,1],\n",
    "                                   [1,0,0,0,0,1],\n",
    "                                   [0,1,1,1,1,0]])"
   ]
  },
  {
   "cell_type": "markdown",
   "metadata": {
    "colab_type": "text",
    "id": "DBq9iu78debv"
   },
   "source": [
    "### 573. Build Post Office II\n",
    "Given a 2D grid, each cell is either a wall 2, an house 1 or empty 0 (the number zero, one, two), find a place to build a post office so that the sum of the distance from the post office to all the houses is smallest.\n",
    "\n",
    "Return the smallest sum of distance. Return -1 if it is not possible.\n",
    "```\n",
    "Example\n",
    "Given a grid:\n",
    "\n",
    "0 1 0 0 0\n",
    "1 0 0 2 1\n",
    "0 1 0 0 0\n",
    "return 8, You can build at (1,1). (Placing a post office at (1,1), the distance that post office to all the house sum is smallest.)\n",
    "\n",
    "Challenge\n",
    "Solve this problem within O(n^3) time.\n",
    "```"
   ]
  },
  {
   "cell_type": "code",
   "execution_count": null,
   "metadata": {
    "colab": {
     "base_uri": "https://localhost:8080/",
     "height": 106
    },
    "colab_type": "code",
    "id": "VWz1gPIedfNw",
    "outputId": "2db0ce67-9243-4370-ff95-436e3248a079"
   },
   "outputs": [
    {
     "name": "stdout",
     "output_type": "stream",
     "text": [
      "[[131072, -3, 10, 12, 14], [-3, 8, 10, -4, -3], [131072, -3, 10, 12, 14]]\n",
      "8\n",
      "[[131072, -3, 131073, 131073], [-3, 65538, -4, -3], [131072, -3, 131073, 131073]]\n",
      "-1\n"
     ]
    }
   ],
   "source": [
    "from copy import deepcopy\n",
    "class Solution:\n",
    "    \"\"\"\n",
    "    @param grid: a 2D grid\n",
    "    @return: An integer\n",
    "    \"\"\"\n",
    "    def shortestDistance(self, grid):\n",
    "        if len(grid) == 0 or len(grid[0]) == 0:\n",
    "            return -1\n",
    "        from collections import deque\n",
    "        m, n = len(grid), len(grid[0])\n",
    "        MAX_INT = 65535\n",
    "        deck = deque()\n",
    "        directions = [(1,0),(0,1),(-1,0),(0,-1)]\n",
    "        house_list = []\n",
    "\n",
    "        for i in range(m):\n",
    "            for j in range(n):\n",
    "                if grid[i][j] == 1:\n",
    "                    house_list.append((i, j))\n",
    "                    grid[i][j] = -1\n",
    "                \n",
    "                elif grid[i][j] == 2:\n",
    "                    grid[i][j] = -1 \n",
    "                \n",
    "                else:\n",
    "                    grid[i][j] = MAX_INT\n",
    "\n",
    "        if len(house_list) == 0:\n",
    "            return 0\n",
    "\n",
    "        # find all pos dis to the house.\n",
    "        def bfs_grid(x, y, _grid):\n",
    "            _grid[x][y] = 0\n",
    "            deck = deque()\n",
    "            deck.append((x,y))\n",
    "            while deck:\n",
    "                x, y = deck.popleft()\n",
    "                for dx, dy in directions:\n",
    "                    xd = x + dx\n",
    "                    yd = y + dy\n",
    "                    if 0 <= xd < m and 0 <= yd < n and _grid[xd][yd] != -1:\n",
    "                        if _grid[xd][yd] > _grid[x][y] + 1:\n",
    "                            _grid[xd][yd] = _grid[x][y] + 1\n",
    "                            deck.append((xd, yd))\n",
    "            return _grid\n",
    "        \n",
    "        def add(grid1, grid2):\n",
    "            for i in range(m):\n",
    "                for j in range(n):\n",
    "                    grid1[i][j] += grid2[i][j]\n",
    "\n",
    "        ans = [[0 for j in range(n)]\n",
    "                  for i in range(m)]\n",
    "\n",
    "        # add distance together to ans matrix\n",
    "        for house in house_list:\n",
    "            x, y = house\n",
    "            tmp = bfs_grid(x, y, deepcopy(grid))\n",
    "            add(ans, tmp)\n",
    "\n",
    "        print ans \n",
    "        ret = MAX_INT\n",
    "        for i in range(m):\n",
    "            for j in range(n):\n",
    "                if (i,j) not in house_list and ans[i][j] > 0:\n",
    "                    ret = min(ans[i][j], ret)\n",
    "        \n",
    "        return -1 if ret >= MAX_INT else ret\n",
    "\n",
    "if __name__ == \"__main__\":\n",
    "    S = Solution()\n",
    "    print S.shortestDistance(grid=[[0,1,0,0,0],\n",
    "                                   [1,0,0,2,1],\n",
    "                                   [0,1,0,0,0]])\n",
    "    \n",
    "    print S.shortestDistance(grid=[[0,1,0,0],\n",
    "                                   [1,0,2,1],\n",
    "                                   [0,1,0,0]])"
   ]
  },
  {
   "cell_type": "markdown",
   "metadata": {
    "colab_type": "text",
    "id": "x7pqJaBDVxgw"
   },
   "source": [
    "### 794. Sliding Puzzle II\n",
    "On a 3x3 board, there are 8 tiles represented by the integers 1 through 8, and an empty square represented by 0.\n",
    "\n",
    "A move consists of choosing 0 and a 4-directionally adjacent number and swapping it.\n",
    "\n",
    "Given an initial state of the puzzle board and final state, return the least number of moves required so that the initial state to final state.\n",
    "\n",
    "If it is impossible to move from initial state to final state, return -1.\n",
    "```\n",
    "Example\n",
    "Given an initial state:\n",
    "\n",
    "[\n",
    " [2,8,3],\n",
    " [1,0,4],\n",
    " [7,6,5]\n",
    "]\n",
    "and a final state:\n",
    "\n",
    "[\n",
    " [1,2,3],\n",
    " [8,0,4],\n",
    " [7,6,5]\n",
    "]\n",
    "Return 4\n",
    "Explanation:\n",
    "\n",
    "[                 [\n",
    " [2,8,3],          [2,0,3],\n",
    " [1,0,4],   -->    [1,8,4],\n",
    " [7,6,5]           [7,6,5]\n",
    "]                 ]\n",
    "\n",
    "[                 [\n",
    " [2,0,3],          [0,2,3],\n",
    " [1,8,4],   -->    [1,8,4],\n",
    " [7,6,5]           [7,6,5]\n",
    "]                 ]\n",
    "\n",
    "[                 [\n",
    " [0,2,3],          [1,2,3],\n",
    " [1,8,4],   -->    [0,8,4],\n",
    " [7,6,5]           [7,6,5]\n",
    "]                 ]\n",
    "\n",
    "[                 [\n",
    " [1,2,3],          [1,2,3],\n",
    " [0,8,4],   -->    [8,0,4],\n",
    " [7,6,5]           [7,6,5]\n",
    "]                 ]\n",
    "Challenge\n",
    "How to optimize the memory?\n",
    "Can you solve it with A* algorithm?\n",
    "```\n",
    "\n",
    "Notes:\n",
    "1. use bfs but needs to record the state, the state cannot be saved as matrix as it exceeds memory limites\n",
    "\n",
    "2. use level order travers, or pass (state, step) into deck "
   ]
  },
  {
   "cell_type": "code",
   "execution_count": null,
   "metadata": {
    "colab": {
     "base_uri": "https://localhost:8080/",
     "height": 34
    },
    "colab_type": "code",
    "id": "zu4tvrsziuse",
    "outputId": "cab5fbb7-7e6b-4491-8668-388f65fa4cf5"
   },
   "outputs": [
    {
     "name": "stdout",
     "output_type": "stream",
     "text": [
      "4\n"
     ]
    }
   ],
   "source": [
    "class Solution:\n",
    "    \"\"\"\n",
    "    @param init_state: the initial state of chessboard\n",
    "    @param final_state: the final state of chessboard\n",
    "    @return: return an integer, denote the number of minimum moving\n",
    "    \"\"\"\n",
    "    def minMoveStep(self, init_state, final_state):\n",
    "        source = self.state_to_str(init_state)\n",
    "        target = self.state_to_str(final_state)\n",
    "        \n",
    "        from collections import deque\n",
    "        deck = deque()\n",
    "        visited = set()\n",
    "        \n",
    "        deck.append(source)\n",
    "        visited.add(source)\n",
    "        \n",
    "        \n",
    "        step = 0\n",
    "        while deck:\n",
    "            size = len(deck)\n",
    "            for i in range(size):\n",
    "                curt = deck.popleft()\n",
    "                if curt == target:\n",
    "                    return step\n",
    "        \n",
    "                for nex in self.get_next(curt):\n",
    "                    if nex not in visited:\n",
    "                        deck.append(nex)\n",
    "                        visited.add(nex)\n",
    "            step += 1\n",
    "            \n",
    "        return -1\n",
    "\n",
    "\n",
    "            \n",
    "    def get_next(self, state_str):\n",
    "        states = []\n",
    "        directions = [(1,0), (0,1), (-1,0), (0,-1)]\n",
    "        \n",
    "        zero_idx = state_str.index('0')\n",
    "        x = zero_idx / 3\n",
    "        y = zero_idx % 3 \n",
    "        \n",
    "        for dx, dy in directions:\n",
    "            xd, yd = x + dx , y + dy\n",
    "            if 0 <= xd < 3 and 0 <= yd < 3:\n",
    "                chars = list(state_str)\n",
    "                chars[x*3 + y] = chars[xd*3 + yd]\n",
    "                chars[xd*3 + yd] = '0'\n",
    "                states.append(''.join(chars))\n",
    "        return states\n",
    "        \n",
    "        \n",
    "    def state_to_str(self, state):\n",
    "        sb = ''\n",
    "        for i in range(3):\n",
    "            for j in range(3):\n",
    "                sb += str(state[i][j])\n",
    "        return sb\n",
    "    \n",
    "    \n",
    "if __name__ == \"__main__\":\n",
    "    S = Solution()\n",
    "    print S.minMoveStep(init_state = [[2,8,3],[1,0,4],[7,6,5]], \n",
    "                       final_state = [[1,2,3],[8,0,4],[7,6,5]])\n",
    "        "
   ]
  },
  {
   "cell_type": "markdown",
   "metadata": {
    "colab_type": "text",
    "id": "Hob-eeQHfkux"
   },
   "source": [
    "## 拓扑排序"
   ]
  },
  {
   "cell_type": "markdown",
   "metadata": {
    "colab_type": "text",
    "id": "KaA5qca3eDK3"
   },
   "source": [
    "### 615. Course Schedule\n",
    "There are a total of n courses you have to take, labeled from 0 to n - 1.\n",
    "\n",
    "Some courses may have prerequisites, for example to take course 0 you have to first take course 1, which is expressed as a pair: [0,1]\n",
    "\n",
    "Given the total number of courses and a list of prerequisite pairs, is it possible for you to finish all courses?\n",
    "```\n",
    "Example\n",
    "Given n = 2, prerequisites = [[1,0]]\n",
    "Return true\n",
    "\n",
    "Given n = 2, prerequisites = [[1,0],[0,1]]\n",
    "Return false\n",
    "```"
   ]
  },
  {
   "cell_type": "code",
   "execution_count": null,
   "metadata": {
    "colab": {},
    "colab_type": "code",
    "id": "N2F6H00FeHmK"
   },
   "outputs": [],
   "source": [
    "class Solution:\n",
    "    \"\"\"\n",
    "    @param: numCourses: a total of n courses\n",
    "    @param: prerequisites: a list of prerequisite pairs\n",
    "    @return: true if can finish all courses or false\n",
    "    \"\"\"\n",
    "    def canFinish(self, numCourses, prerequisites):\n",
    "        from Queue import deque\n",
    "        edges = {i: [] for i in range(numCourses)}\n",
    "        degrees = [0 for i in range(numCourses)]\n",
    "\n",
    "        # 1. count indegree\n",
    "        for i, j in prerequisites:\n",
    "            edges[j].append(i)\n",
    "            degrees[i] += 1\n",
    "        queue, count = deque(), 0\n",
    "\n",
    "        # 2. init queue\n",
    "        for i in range(numCourses):\n",
    "            if degrees[i] == 0:\n",
    "                queue.appendleft(i)\n",
    "\n",
    "        # 3. bfs\n",
    "        while len(queue) > 0:\n",
    "            node = queue.pop()\n",
    "            count += 1\n",
    "\n",
    "            for x in edges[node]:\n",
    "                degrees[x] -= 1\n",
    "                if degrees[x] == 0:\n",
    "                    queue.appendleft(x)\n",
    "\n",
    "        return count == numCourses\n"
   ]
  },
  {
   "cell_type": "markdown",
   "metadata": {
    "colab_type": "text",
    "id": "XOOOoFGweJs6"
   },
   "source": [
    "### 616. Course Schedule II\n",
    "There are a total of n courses you have to take, labeled from 0 to n - 1.\n",
    "Some courses may have prerequisites, for example to take course 0 you have to first take course 1, which is expressed as a pair: [0,1]\n",
    "\n",
    "Given the total number of courses and a list of prerequisite pairs, return the ordering of courses you should take to finish all courses.\n",
    "\n",
    "There may be multiple correct orders, you just need to return one of them. If it is impossible to finish all courses, return an empty array.\n",
    "```\n",
    "Example\n",
    "Given n = 2, prerequisites = [[1,0]]\n",
    "Return [0,1]\n",
    "\n",
    "Given n = 4, prerequisites = [1,0],[2,0],[3,1],[3,2]]\n",
    "Return [0,1,2,3] or [0,2,1,3] \n",
    "```"
   ]
  },
  {
   "cell_type": "code",
   "execution_count": null,
   "metadata": {
    "colab": {},
    "colab_type": "code",
    "id": "53Ew-lu4eJTU"
   },
   "outputs": [],
   "source": [
    "class Solution:\n",
    "    \"\"\"\n",
    "    @param: numCourses: a total of n courses\n",
    "    @param: prerequisites: a list of prerequisite pairs\n",
    "    @return: the course order\n",
    "    \"\"\"\n",
    "    def findOrder(self, numCourses, prerequisites):\n",
    "        edges = {i: [] for i in range(numCourses)}\n",
    "        indegrees = [0 for i in range(numCourses)]\n",
    "\n",
    "        for req in prerequisites:\n",
    "            aft, pre = req\n",
    "            edges[pre].append(aft)\n",
    "            indegrees[aft] += 1\n",
    "\n",
    "        #from collections import deque\n",
    "        deck = []\n",
    "\n",
    "        for i in range(numCourses):\n",
    "            if indegrees[i] == 0:\n",
    "                deck.append(i)\n",
    "        count = 0\n",
    "        res = []\n",
    "        while len(deck) > 0:\n",
    "            size = len(deck)\n",
    "            tmp = []\n",
    "            for i in range(size):\n",
    "                course_take = deck.pop()\n",
    "                tmp.append(course_take)\n",
    "                count += 1\n",
    "                for aft in edges[course_take]:\n",
    "                    indegrees[aft] -= 1\n",
    "                    if indegrees[aft] == 0:\n",
    "                        deck.append(aft)\n",
    "            res.extend(tmp)\n",
    "        return res if count == numCourses else []"
   ]
  },
  {
   "cell_type": "markdown",
   "metadata": {
    "colab_type": "text",
    "id": "681Uc8JfhCv0"
   },
   "source": [
    "### 605. Sequence Reconstruction\n",
    "Check whether the original sequence org can be uniquely reconstructed from the sequences in seqs. The org sequence is a permutation of the integers from 1 to n, with 1 ≤ n ≤ 10^4. Reconstruction means building a shortest common supersequence of the sequences in seqs (i.e., a shortest sequence so that all sequences in seqs are subsequences of it). Determine whether there is only one sequence that can be reconstructed from seqs and it is the org sequence.\n",
    "```\n",
    "Example\n",
    "Given org = [1,2,3], seqs = [[1,2],[1,3]]\n",
    "Return false\n",
    "Explanation:\n",
    "[1,2,3] is not the only one sequence that can be reconstructed, because [1,3,2] is also a valid sequence that can be reconstructed.\n",
    "\n",
    "Given org = [1,2,3], seqs = [[1,2]]\n",
    "Return false\n",
    "Explanation:\n",
    "The reconstructed sequence can only be [1,2].\n",
    "\n",
    "Given org = [1,2,3], seqs = [[1,2],[1,3],[2,3]]\n",
    "Return true\n",
    "Explanation:\n",
    "The sequences [1,2], [1,3], and [2,3] can uniquely reconstruct the original sequence [1,2,3].\n",
    "\n",
    "Given org = [4,1,5,2,6,3], seqs = [[5,2,6,3],[4,1,5,2]]\n",
    "Return true\n",
    "```\n",
    "\n"
   ]
  },
  {
   "cell_type": "code",
   "execution_count": null,
   "metadata": {
    "colab": {
     "base_uri": "https://localhost:8080/",
     "height": 52
    },
    "colab_type": "code",
    "id": "-VhEZVy2hKGs",
    "outputId": "44e3d208-deba-4251-a7e9-1b312a0bf9eb"
   },
   "outputs": [
    {
     "name": "stdout",
     "output_type": "stream",
     "text": [
      "False\n",
      "True\n"
     ]
    }
   ],
   "source": [
    "class Solution:\n",
    "    # param {int[]} org a permutation of the integers from 1 to n\n",
    "    # param {int[][]} seqs a list of sequences\n",
    "    # return {boolean} true if it can be reconstructed only one or false\n",
    "    def sequenceReconstruction(self, org, seqs):\n",
    "        from collections import defaultdict\n",
    "        edges = defaultdict(list)\n",
    "        indegrees = defaultdict(int)\n",
    "        nodes = set()\n",
    "        for seq in seqs:\n",
    "            nodes |= set(seq)\n",
    "            for i in range(len(seq)):\n",
    "                if i == 0:\n",
    "                    indegrees[seq[i]] += 0\n",
    "                else:\n",
    "                    indegrees[seq[i]] += 1\n",
    "                    edges[seq[i-1]].append(seq[i])\n",
    "        que = [k for k in indegrees if indegrees[k] == 0]\n",
    "        res = []\n",
    "        while len(que) == 1:\n",
    "            pre = que.pop()\n",
    "            res.append(pre)\n",
    "            for aft in edges[pre]:\n",
    "                indegrees[aft] -= 1\n",
    "                if indegrees[aft] == 0:\n",
    "                    que.append(aft)\n",
    "        if len(que) > 1:\n",
    "            return False\n",
    "        return len(res) == len(nodes) and res == org\n",
    "\n",
    "if __name__ == \"__main__\":\n",
    "    org = [1,2,3]\n",
    "    seqs = [[1,2]]\n",
    "    print Solution().sequenceReconstruction(org, seqs)\n",
    "    print Solution().sequenceReconstruction(org = [1,2,3], seqs = [[1,2],[1,3],[2,3]])"
   ]
  },
  {
   "cell_type": "markdown",
   "metadata": {
    "colab_type": "text",
    "id": "T87IA4H6hskk"
   },
   "source": [
    "### 127. Topological Sorting\n",
    "Given an directed graph, a topological order of the graph nodes is defined as follow:\n",
    "\n",
    "For each directed edge A -> B in graph, A must before B in the order list.\n",
    "The first node in the order can be any node in the graph with no nodes direct to it.\n",
    "Find any topological order for the given graph.\n",
    "```\n",
    "Example\n",
    "For graph as follow:\n",
    "\n",
    "The topological order can be:\n",
    "\n",
    "[0, 1, 2, 3, 4, 5]\n",
    "[0, 2, 3, 1, 5, 4]\n",
    "...\n",
    "Challenge\n",
    "Can you do it in both BFS and DFS?\n",
    "```\n",
    "\n",
    "![alt text](https://encrypted-tbn0.gstatic.com/images?q=tbn:ANd9GcThE9AgZZszyhwe0o9qpp3VyizdIj9kWwMY50HiQEysXvkSLsoZ)"
   ]
  },
  {
   "cell_type": "code",
   "execution_count": null,
   "metadata": {
    "colab": {},
    "colab_type": "code",
    "id": "XRVsDU2Qhwt9"
   },
   "outputs": [],
   "source": [
    "\"\"\"\n",
    "Definition for a Directed graph node\n",
    "class DirectedGraphNode:\n",
    "    def __init__(self, x):\n",
    "        self.label = x\n",
    "        self.neighbors = []\n",
    "\"\"\"\n",
    "\n",
    "\n",
    "class Solution:\n",
    "    \"\"\"\n",
    "    @param: graph: A list of Directed graph node\n",
    "    @return: Any topological order for the given graph.\n",
    "    \"\"\"\n",
    "    def topSort_bfs(self, graph):\n",
    "        from collections import defaultdict\n",
    "        indegree = defaultdict(int)\n",
    "        for node in graph:\n",
    "            indegree[node] += 0\n",
    "            for nb in node.neighbors:\n",
    "                indegree[nb] += 1\n",
    "        que = [node for node in indegree if indegree[node] == 0]\n",
    "        res = [] \n",
    "        while len(que) > 0:\n",
    "            curt = que.pop()\n",
    "            res.append(curt)\n",
    "            for nb in curt.neighbors:\n",
    "                indegree[nb] -= 1\n",
    "                if indegree[nb] == 0:\n",
    "                    que.append(nb)\n",
    "        \n",
    "        return res if len(res) == len(graph) else -1 \n",
    "        \n",
    "    def topSort(self, graph):\n",
    "        from collections import defaultdict\n",
    "        indegree = defaultdict(int)\n",
    "        for node in graph:\n",
    "            indegree[node] += 0\n",
    "            for nb in node.neighbors:\n",
    "                indegree[nb] += 1\n",
    "        \n",
    "        res = [] \n",
    "        \n",
    "        def dfs(root):\n",
    "            res.append(root)\n",
    "            indegree[root] = -1 # remove from list \n",
    "            for nb in root.neighbors:\n",
    "                indegree[nb] -= 1\n",
    "                if indegree[nb] == 0:\n",
    "                    dfs(nb)\n",
    "        for node in graph:\n",
    "            if indegree[node] == 0:\n",
    "                dfs(node)\n",
    "        return res"
   ]
  },
  {
   "cell_type": "markdown",
   "metadata": {
    "colab_type": "text",
    "id": "9h7Hdi9MevN0"
   },
   "source": [
    "## 图的遍历(BFS)\n",
    "BFS 大部分的时候是在图上进行的。\n",
    "\n",
    "什么是图（Graph）\n",
    "图在离线数据中的表示方法为 <E, V>，E表示 Edge，V 表示 Vertex。也就是说，图是顶点（Vertex）和边（Edge）的集合。\n",
    "\n",
    "图分为：\n",
    "\n",
    "有向图（Directed Graph）\n",
    "无向图（Undirected Graph）\n",
    "\n",
    "\n",
    "BFS 在两种图上都适用。另外，树（Tree）也是一种特殊的图。\n",
    "有很多种方法可以存储一个图，最常用的莫过于：\n",
    "\n",
    "邻接矩阵\n",
    "\n",
    "\n",
    "```\n",
    "邻接矩阵 Adjacent Matrix\n",
    "\n",
    "[\n",
    "  [1,0,0,1],\n",
    "  [0,1,1,0],\n",
    "  [0,1,1,0],\n",
    "  [1,0,0,1]\n",
    "]\n",
    "例如上图表示0号点和3号点有连边。1号点和2号店有连边。\n",
    "当然，每个点和自己也是默认有连边的。\n",
    "图中的 0 表示不连通，1 表示连通。\n",
    "我们也可以用一个更具体的整数值来表示连边的长度。\n",
    "邻接矩阵我们可以直接用一个二维数组表示，如int[][] matrix;。这种数据结构因为耗费 O(n^2) 的空间，所以在稀疏图上浪费很大，因此并不常用。\n",
    "```\n",
    "\n",
    "\n",
    "\n",
    "邻接表\n",
    "而邻接矩阵因为耗费空间过大，我们通常在工程中都是使用邻接表作为图的存储结构。\n",
    "\n",
    "\n",
    "\n",
    "```\n",
    "邻接表 (Adjacent List)\n",
    "\n",
    "[\n",
    "  [1],\n",
    "  [0,2,3],\n",
    "  [1],\n",
    "  [1]\n",
    "]\n",
    "这个图表示 0 和 1 之间有连边，1 和 2 之间有连边，1 和 3 之间有连边。即每个点上存储自己有哪些邻居（有哪些连通的点）。\n",
    "这种方式下，空间耗费和边数成正比，可以记做 O(m)，m代表边数。m最坏情况下虽然也是 O(n^2)，但是邻接表的存储方式大部分情况下会比邻接矩阵更省空间。\n",
    "\n",
    "自定义邻接表\n",
    "可以用自定义的类来实现邻接表\n",
    "\n",
    "class DirectedGraphNode {\n",
    "    int label;\n",
    "    List<DirectedGraphNode> neighbors;\n",
    "    ...\n",
    "}\n",
    "其中 neighbors 表示和该点连通的点有哪些。\n",
    "\n",
    "使用 Map 和 Set（面试时）\n",
    "也可以使用 HashMap 和 HashSet 搭配的方式来存储邻接表\n",
    "\n",
    "Map<T, Set<T>> = new HashMap<Integer, HashSet<Integer>>();\n",
    "其中 T 代表节点类型。通常可能是整数(Integer)。\n",
    "这种方式虽然没有上面的方式更加直观和容易理解，但是在面试中比较节约代码量。\n",
    "而自定义的方法，更加工程化，所以在面试中如果时间不紧张题目不难的情况下，推荐使用自定义邻接表的方式。\n",
    "```\n",
    "\n"
   ]
  },
  {
   "cell_type": "markdown",
   "metadata": {
    "colab_type": "text",
    "id": "tnu3qS6BvOu5"
   },
   "source": [
    "### Graph Serialization & Deserialization\n",
    "\n",
    "```\n",
    "Example\n",
    "\n",
    "{1,2,3,4#2,1,3#3,1#4,1,5#5,4}\n",
    "\n",
    "2------3  5\n",
    " \\     |  | \n",
    "  \\    |  |\n",
    "   \\   |  |\n",
    "    \\  |  |\n",
    "      1 --4\n",
    "      \n",
    "```\n",
    "\n",
    "think:\n",
    "1. hashmap to save Adjacent List\n",
    "    \n",
    "\n",
    "2. How to deal with duplicated values? \n",
    " \n",
    "    No, this kind of serialization cannot deal with duplicates, not enough data is stored. \n",
    "\n",
    "\n",
    "\n",
    "\n"
   ]
  },
  {
   "cell_type": "code",
   "execution_count": null,
   "metadata": {
    "colab": {
     "base_uri": "https://localhost:8080/",
     "height": 35
    },
    "colab_type": "code",
    "id": "TawkQYE4vYzy",
    "outputId": "24946152-bc89-4d9b-8d08-592ba8b19f36"
   },
   "outputs": [
    {
     "name": "stdout",
     "output_type": "stream",
     "text": [
      "{1,2,3,4#2,1,3#3,1#4,1,5#5,4}\n"
     ]
    }
   ],
   "source": [
    "class UndirectedGraphNode:\n",
    "    def __init__(self, x):\n",
    "        self.label = x\n",
    "        self.neighbors = []\n",
    "    \n",
    "    @staticmethod\n",
    "    def deserialize(data):\n",
    "        data = data[1:-1]\n",
    "        nodes = [node[0] for node in data.split('#')]\n",
    "        mapping = {}\n",
    "        for node in nodes:\n",
    "            mapping[node] = UndirectedGraphNode(node)         \n",
    "        graph = []\n",
    "        data = data.split('#')    \n",
    "        for node_str in data:\n",
    "            node_list = node_str.split(',')\n",
    "            base = mapping[node_list[0]]\n",
    "            for nb in node_list[1:]:\n",
    "                base.neighbors.append(mapping[nb])\n",
    "            graph.append(base)\n",
    "        \n",
    "        return graph\n",
    "   \n",
    "    @staticmethod \n",
    "    def serialize(graph):\n",
    "        ser = ''\n",
    "        for node in graph:\n",
    "            tmp = str(node.label)\n",
    "            for nb in node.neighbors:\n",
    "                tmp += ',' + str(nb.label)\n",
    "            ser += '#' + tmp\n",
    "        return '{' + ser[1:] + '}'\n",
    "    \n",
    "if __name__ == \"__main__\":\n",
    "    graph = UndirectedGraphNode.deserialize(\"{1,2,3,4#2,1,3#3,1#4,1,5#5,4}\")\n",
    "    print UndirectedGraphNode.serialize(graph)"
   ]
  },
  {
   "cell_type": "markdown",
   "metadata": {
    "colab_type": "text",
    "id": "8FBHYO1FlF2X"
   },
   "source": [
    "### 137. Clone Graph\n",
    "Clone an undirected graph. Each node in the graph contains a label and a list of its neighbors.\n",
    "\n",
    "How we serialize an undirected graph:\n",
    "\n",
    "Nodes are labeled uniquely.\n",
    "\n",
    "We use # as a separator for each node, and , as a separator for node label and each neighbor of the node.\n",
    "```\n",
    "As an example, consider the serialized graph {0,1,2#1,2#2,2}.\n",
    "\n",
    "The graph has a total of three nodes, and therefore contains three parts as separated by #.\n",
    "\n",
    "First node is labeled as 0. Connect node 0 to both nodes 1 and 2.\n",
    "Second node is labeled as 1. Connect node 1 to node 2.\n",
    "Third node is labeled as 2. Connect node 2 to node 2 (itself), thus forming a self-cycle.\n",
    "Visually, the graph looks like the following:\n",
    "\n",
    "   1\n",
    "  / \\\n",
    " /   \\\n",
    "0 --- 2\n",
    "     / \\\n",
    "     \\_/\n",
    "Example\n",
    "return a deep copied graph.\n",
    "```"
   ]
  },
  {
   "cell_type": "code",
   "execution_count": null,
   "metadata": {
    "colab": {},
    "colab_type": "code",
    "id": "-FLJyqyAlNyQ"
   },
   "outputs": [],
   "source": [
    "class UndirectedGraphNode:\n",
    "    def __init__(self, x):\n",
    "        self.label = x\n",
    "        self.neighbors = []\n",
    "\n",
    "class Solution:\n",
    "    \"\"\"\n",
    "    @param: node: A undirected graph node\n",
    "    @return: A undirected graph node\n",
    "    \"\"\"\n",
    "    def cloneGraph_bfs(self, root):\n",
    "        if root is None:\n",
    "            return None\n",
    "        que = [root]\n",
    "        nodes = set()\n",
    "\n",
    "        while len(que) > 0:\n",
    "            curt = que.pop()\n",
    "            nodes.add(curt)\n",
    "            for node in curt.neighbors:\n",
    "                if node not in nodes:\n",
    "                    que.append(node)     \n",
    "        mapping = {}\n",
    "        for node in nodes:\n",
    "            mapping[node] = UndirectedGraphNode(node.label)\n",
    "\n",
    "        for node in nodes:\n",
    "            mapping[node].neighbors = [mapping[nb] for nb in node.neighbors]\n",
    "        return mapping[root]\n",
    "\n",
    "    def __init__(self):\n",
    "        self.dict = {}\n",
    "\n",
    "    def cloneGraph(self, node):\n",
    "        if node == None:\n",
    "            return None\n",
    "        if node.label in self.dict:\n",
    "            return self.dict[node.label]\n",
    "        root = UndirectedGraphNode(node.label)\n",
    "        self.dict[node.label] = root\n",
    "        for item in node.neighbors:\n",
    "            root.neighbors.append(self.cloneGraph(item))\n",
    "        return root"
   ]
  },
  {
   "cell_type": "markdown",
   "metadata": {
    "colab_type": "text",
    "id": "MtZOZPOQiN1J"
   },
   "source": [
    "### 618. Search Graph Nodes\n",
    "Given a undirected graph, a node and a target, return the nearest node to given node which value of it is target, return NULL if you can't find.\n",
    "\n",
    "There is a mapping store the nodes' values in the given parameters.\n",
    "```\n",
    "Example\n",
    "\n",
    "{1,2,3,4#2,1,3#3,1#4,1,5#5,4}\n",
    "\n",
    "2------3  5\n",
    " \\     |  | \n",
    "  \\    |  |\n",
    "   \\   |  |\n",
    "    \\  |  |\n",
    "      1 --4\n",
    "Give a node 1, target is 50\n",
    "\n",
    "there a hash named values which is [3,4,10,50,50], represent:\n",
    "Value of node 1 is 3\n",
    "Value of node 2 is 4\n",
    "Value of node 3 is 10\n",
    "Value of node 4 is 50\n",
    "Value of node 5 is 50\n",
    "\n",
    "Return node 4 \n",
    "\n",
    "```"
   ]
  },
  {
   "cell_type": "code",
   "execution_count": null,
   "metadata": {
    "colab": {
     "base_uri": "https://localhost:8080/",
     "height": 52
    },
    "colab_type": "code",
    "id": "tSzYx8-7iXdP",
    "outputId": "d9d7ee64-c519-4b4b-da38-cb8bc4bfd9b0"
   },
   "outputs": [
    {
     "name": "stdout",
     "output_type": "stream",
     "text": [
      "{1,2,3,4#2,1,3#3,1#4,1,5#5,4}\n",
      "4\n"
     ]
    }
   ],
   "source": [
    "class UndirectedGraphNode:\n",
    "    def __init__(self, x):\n",
    "        self.label = x\n",
    "        self.neighbors = []\n",
    "    \n",
    "    @staticmethod\n",
    "    def deserialize(data):\n",
    "        data = data[1:-1]\n",
    "        nodes = [node[0] for node in data.split('#')]\n",
    "        mapping = {}\n",
    "        for node in nodes:\n",
    "            mapping[node] = UndirectedGraphNode(node)         \n",
    "        graph = []\n",
    "        data = data.split('#')    \n",
    "        for node_str in data:\n",
    "            node_list = node_str.split(',')\n",
    "            base = mapping[node_list[0]]\n",
    "            for nb in node_list[1:]:\n",
    "                base.neighbors.append(mapping[nb])\n",
    "            graph.append(base)\n",
    "        \n",
    "        return graph\n",
    "   \n",
    "    @staticmethod \n",
    "    def serialize(graph):\n",
    "        ser = ''\n",
    "        for node in graph:\n",
    "            tmp = str(node.label)\n",
    "            for nb in node.neighbors:\n",
    "                tmp += ',' + str(nb.label)\n",
    "            ser += '#' + tmp\n",
    "        return '{' + ser[1:] + '}'\n",
    "\n",
    "class Solution:\n",
    "    \"\"\"\n",
    "    @param: graph: a list of Undirected graph node\n",
    "    @param: values: a hash mapping, <UndirectedGraphNode, (int)value>\n",
    "    @param: node: an Undirected graph node\n",
    "    @param: target: An integer\n",
    "    @return: a node\n",
    "    \"\"\"\n",
    "    def searchNode(self, graph, values, node, target):\n",
    "        import collections\n",
    "        deck = collections.deque()\n",
    "        deck.append(node)\n",
    "        dis = {}\n",
    "        dis[node] = 0 \n",
    "        while deck:\n",
    "            tmp = deck.popleft()\n",
    "            if values[tmp] == target:\n",
    "                return tmp\n",
    "            for nb in tmp.neighbors:\n",
    "                if nb not in dis:\n",
    "                    dis[nb] = dis[tmp] + 1\n",
    "                    deck.append(nb)\n",
    "        return None\n",
    "\n",
    "if __name__ == \"__main__\":\n",
    "    graph = UndirectedGraphNode.deserialize(\"{1,2,3,4#2,1,3#3,1#4,1,5#5,4}\")\n",
    "    print UndirectedGraphNode.serialize(graph)\n",
    "    value = [3,4,5,50,50]\n",
    "    values ={}\n",
    "    for i in range(len(graph)):\n",
    "        values[graph[i]] = value[i]\n",
    "    node = graph[0]\n",
    "    target = 50\n",
    "    \n",
    "    print Solution().searchNode(graph, values, node, target).label\n",
    "    "
   ]
  },
  {
   "cell_type": "markdown",
   "metadata": {
    "colab_type": "text",
    "id": "rWRgebpWug2S"
   },
   "source": [
    "###  531. Six Degrees\n",
    "Six degrees of separation is the theory that everyone and everything is six or fewer steps away, by way of introduction, from any other person in the world, so that a chain of \"a friend of a friend\" statements can be made to connect any two people in a maximum of six steps.\n",
    "\n",
    "Given a friendship relations, find the degrees of two people, return -1 if they can not been connected by friends of friends.\n",
    "```\n",
    "Example\n",
    "Gien a graph:\n",
    "\n",
    "1------2-----4\n",
    " \\          /\n",
    "  \\        /\n",
    "   \\--3--/\n",
    "\n",
    "{1,2,3#2,1,4#3,1,4#4,2,3} \n",
    "\n",
    "and s = 1, t = 4 return 2\n",
    "\n",
    "Gien a graph:\n",
    "\n",
    "1      2-----4\n",
    "             /\n",
    "           /\n",
    "          3\n",
    "{1#2,4#3,4#4,2,3} and s = 1, t = 4 return -1\n",
    "\n",
    "```\n",
    "\n",
    "Think: \n",
    "\n",
    " 1. need to record ? \n",
    " \n",
    " Is the first found the shortest, \n",
    "  it's BFS, thus it's shortest. "
   ]
  },
  {
   "cell_type": "code",
   "execution_count": null,
   "metadata": {
    "colab": {
     "base_uri": "https://localhost:8080/",
     "height": 52
    },
    "colab_type": "code",
    "id": "cOhIDu2n077D",
    "outputId": "db45bc90-643b-4c64-ce8b-32edc977a3de"
   },
   "outputs": [
    {
     "name": "stdout",
     "output_type": "stream",
     "text": [
      "1 4\n",
      "2\n"
     ]
    }
   ],
   "source": [
    "class Solution:\n",
    "    \"\"\"\n",
    "    @param: graph: a list of Undirected graph node\n",
    "    @param: s: Undirected graph node\n",
    "    @param: t: Undirected graph nodes\n",
    "    @return: an integer\n",
    "    \"\"\"\n",
    "    def sixDegrees1(self, graph, s, t):\n",
    "        if len(graph) == 0 or s not in graph or t not in graph:\n",
    "            return -1 \n",
    "        \n",
    "        n = len(graph)\n",
    "        MAX_INT = 65535\n",
    "        record = {}\n",
    "        for node in graph:\n",
    "            record[node] = MAX_INT\n",
    "        record[s] = 0             \n",
    "                \n",
    "        from collections import deque\n",
    "        deck = deque()\n",
    "        # init\n",
    "        for nb in s.neighbors:\n",
    "            record[nb] = 1\n",
    "            deck.append(nb)\n",
    "        \n",
    "        while deck:\n",
    "            node = deck.pop()\n",
    "            for nb in node.neighbors:\n",
    "                if record[nb] > record[node] + 1:\n",
    "                    record[nb] = record[node] + 1\n",
    "                    deck.append(nb)\n",
    "        return record[t] if record[t] != MAX_INT else -1\n",
    "    \n",
    "    def sixDegrees(self, graph, s, t):\n",
    "        from collections import deque\n",
    "        dis = {}\n",
    "        deck = deque(maxlen = len(graph))\n",
    "\n",
    "        deck.append(s)\n",
    "        dis[s] = 0\n",
    "        while deck:\n",
    "            x = deck.popleft()\n",
    "            if x == t:\n",
    "                return dis[x]\n",
    "\n",
    "            for y in x.neighbors:\n",
    "                if y not in dis:\n",
    "                    dis[y] = dis[x] + 1\n",
    "                    deck.append(y)\n",
    "\n",
    "        return -1\n",
    "if __name__ == \"__main__\":\n",
    "    \n",
    "    S = Solution()\n",
    "    graph = UndirectedGraphNode.deserialize(\"{1,2,3#2,1,4#3,1,4#4,2,3}\")\n",
    "    s = graph[0]\n",
    "    t = graph[3]\n",
    "    print s.label, t.label\n",
    "    print S.sixDegrees(graph, s, t)"
   ]
  },
  {
   "cell_type": "markdown",
   "metadata": {
    "colab_type": "text",
    "id": "vLDYN3y4EbEV"
   },
   "source": [
    "### 178. Graph Valid Tree\n",
    "Given n nodes labeled from 0 to n - 1 and a list of undirected edges (each edge is a pair of nodes), write a function to check whether these edges make up a valid tree.\n",
    "```\n",
    "Example\n",
    "Given n = 5 and edges = [[0, 1], [0, 2], [0, 3], [1, 4]], return true.\n",
    "\n",
    "Given n = 5 and edges = [[0, 1], [1, 2], [2, 3], [1, 3], [1, 4]], return false.\n",
    "```\n",
    "\n",
    "Think:\n",
    "1. pay attend to init deque, which one is the first in deck."
   ]
  },
  {
   "cell_type": "code",
   "execution_count": null,
   "metadata": {
    "colab": {
     "base_uri": "https://localhost:8080/",
     "height": 52
    },
    "colab_type": "code",
    "id": "bwyYCJb4Ef81",
    "outputId": "791f06e2-6c99-4a1c-a3bd-342a49865cef"
   },
   "outputs": [
    {
     "name": "stdout",
     "output_type": "stream",
     "text": [
      "set([0, 1, 2])\n",
      "True\n"
     ]
    }
   ],
   "source": [
    "class Solution:\n",
    "    \"\"\"\n",
    "    @param n: An integer\n",
    "    @param edges: a list of undirected edges\n",
    "    @return: true if it's a valid tree, or false\n",
    "    \"\"\"\n",
    "    def validTree(self, n, edges):\n",
    "        if len(edges) == 0 and n == 1:\n",
    "            return True\n",
    "        if len(edges) != n-1:\n",
    "            return False\n",
    "        \n",
    "        from collections import defaultdict, deque\n",
    "        graph = defaultdict(list)\n",
    "        deck = deque()\n",
    "        for node, nb in edges:\n",
    "            graph[node].append(nb)\n",
    "            \n",
    "        visited = set()      \n",
    "        deck.append(edges[0][0])\n",
    "        visited.add(edges[0][0])\n",
    "       \n",
    "        while deck:\n",
    "            node = deck.popleft()\n",
    "            for nb in graph[node]:\n",
    "                if nb in visited:\n",
    "                    print visited\n",
    "                    return False\n",
    "                deck.append(nb)\n",
    "                visited.add(nb)\n",
    "        print visited\n",
    "        return True\n",
    "\n",
    "if __name__ == \"__main__\":\n",
    "    s = Solution()\n",
    "    print s.validTree(n=8, edges=[[0,1],[1,2],[3,2],[4,3],[4,5],[5,6],[6,7]])\n",
    "    #print s.validTree(n=2, edges=[[1,0]])\n",
    "    #print s.validTree(n = 5, edges = [[0, 1], [0, 2], [0, 3], [1, 4]])\n",
    "    #print s.validTree(n = 5, edges = [[0, 1], [1, 2], [2, 3], [1, 3], [1, 4]])"
   ]
  },
  {
   "cell_type": "markdown",
   "metadata": {
    "colab_type": "text",
    "id": "ycoMp--gH1ya"
   },
   "source": [
    "### 431. Connected Component in Undirected Graph\n",
    "Find the number connected component in the undirected graph. Each node in the graph contains a label and a list of its neighbors. (a connected component (or just component) of an undirected graph is a subgraph in which any two vertices are connected to each other by paths, and which is connected to no additional vertices in the supergraph.)\n",
    "```\n",
    "Example\n",
    "Given graph:\n",
    "\n",
    "A------B  C\n",
    " \\     |  | \n",
    "  \\    |  |\n",
    "   \\   |  |\n",
    "    \\  |  |\n",
    "      D   E\n",
    "Return {A,B,D}, {C,E}. Since there are two connected component which is {A,B,D}, {C,E}\n",
    "```"
   ]
  },
  {
   "cell_type": "code",
   "execution_count": null,
   "metadata": {
    "colab": {
     "base_uri": "https://localhost:8080/",
     "height": 35
    },
    "colab_type": "code",
    "id": "-EBVOZFRH4-l",
    "outputId": "64f7ae86-8ddd-4278-bca3-3ac53fe75bf5"
   },
   "outputs": [
    {
     "name": "stdout",
     "output_type": "stream",
     "text": [
      "[['1', '2', '4'], ['3', '5']]\n"
     ]
    }
   ],
   "source": [
    "\"\"\"\n",
    "Definition for a undirected graph node\n",
    "class UndirectedGraphNode:\n",
    "    def __init__(self, x):\n",
    "        self.label = x\n",
    "        self.neighbors = []\n",
    "\"\"\"\n",
    "\n",
    "\n",
    "\n",
    "class Solution:\n",
    "    \"\"\"\n",
    "    @param: nodes: a array of Undirected graph node\n",
    "    @return: a connected set of a Undirected graph\n",
    "    \"\"\"\n",
    "    def connectedSet(self, nodes):\n",
    "        from collections import deque\n",
    "        visited = set()\n",
    "        deck = deque()\n",
    "        ans = []\n",
    "        for node in nodes:\n",
    "            if node not in visited:\n",
    "                deck.append(node)\n",
    "                tmp_set = set()\n",
    "                while deck:\n",
    "                    nd = deck.popleft()\n",
    "                    tmp_set.add(nd)\n",
    "                    for nb in nd.neighbors:\n",
    "                        if nb not in tmp_set:\n",
    "                            deck.append(nb)\n",
    "                visited |= tmp_set\n",
    "                ans.append(sorted([x.label for x in tmp_set]))\n",
    "        ans.sort()\n",
    "        return ans\n",
    "                        \n",
    "if __name__ == \"__main__\":\n",
    "    graph = UndirectedGraphNode.deserialize(\"{1,2,4#2,1,4#3,5#4,1,2#5,3}\")\n",
    "    print Solution().connectedSet(graph)"
   ]
  },
  {
   "cell_type": "markdown",
   "metadata": {
    "colab_type": "text",
    "id": "-zuSPafziN4F"
   },
   "source": [
    "### 120. Word Ladder\n",
    "Given two words (start and end), and a dictionary, find the length of shortest transformation sequence from start to end, such that:\n",
    "\n",
    "Only one letter can be changed at a time\n",
    "Each intermediate word must exist in the dictionary\n",
    "```\n",
    "Example\n",
    "Given:\n",
    "start = \"hit\"\n",
    "end = \"cog\"\n",
    "dict = [\"hot\",\"dot\",\"dog\",\"lot\",\"log\"]\n",
    "As one shortest transformation is \"hit\" -> \"hot\" -> \"dot\" -> \"dog\" -> \"cog\",\n",
    "return its length 5.\n",
    "```"
   ]
  },
  {
   "cell_type": "code",
   "execution_count": null,
   "metadata": {
    "colab": {},
    "colab_type": "code",
    "id": "jUYzXWYwiYFl"
   },
   "outputs": [],
   "source": [
    "class Solution:\n",
    "    \"\"\"\n",
    "    @param: start: a string\n",
    "    @param: end: a string\n",
    "    @param: dict: a set of string\n",
    "    @return: An integer\n",
    "    \"\"\"\n",
    "    def ladderLength(self, start, end, wordSet):\n",
    "        import collections\n",
    "        wordSet.add(end)\n",
    "        wordLen = len(start)\n",
    "        deck = collections.deque()\n",
    "        deck.append((start, 1))\n",
    "        char_list = [chr(ord('a') + i) for i in range(26)]\n",
    "        while deck:\n",
    "            curWord, curLen = deck.popleft()\n",
    "            if curWord == end:\n",
    "                return curLen\n",
    "            for i in range(wordLen):\n",
    "                part1 = curWord[:i]\n",
    "                part2 = curWord[i+1:]\n",
    "                for ch in char_list:\n",
    "                    if curWord[i] != ch:\n",
    "                        nextWord = part1 + ch + part2\n",
    "                        if nextWord in wordSet:\n",
    "                            deck.append((nextWord, curLen+1))\n",
    "                            wordSet.remove(nextWord)\n",
    "        return 0"
   ]
  },
  {
   "cell_type": "markdown",
   "metadata": {
    "colab_type": "text",
    "id": "ENbviJX6SYZF"
   },
   "source": [
    "### Friend Circle\n",
    "\n",
    "There are N students in the class, count how many friend circles inside\n",
    "```\n",
    "Example:\n",
    "\n",
    "4\n",
    "YYNN\n",
    "YYYN\n",
    "NYYN\n",
    "NNNY\n",
    "\n",
    "output 2\n",
    "```\n",
    "\n"
   ]
  },
  {
   "cell_type": "code",
   "execution_count": null,
   "metadata": {
    "colab": {
     "base_uri": "https://localhost:8080/",
     "height": 35
    },
    "colab_type": "code",
    "id": "j_4XaTfOSn9W",
    "outputId": "099a4a6d-6c28-44b8-da7e-413862ba0545"
   },
   "outputs": [
    {
     "name": "stdout",
     "output_type": "stream",
     "text": [
      "2\n"
     ]
    }
   ],
   "source": [
    "# Complete the function below.\n",
    "\n",
    "def friendCircles(friends):\n",
    "    \"\"\"\n",
    "    :type friends: List[List[int]]\n",
    "    :rtype: int\n",
    "    \"\"\"\n",
    "    N = len(friends)\n",
    "    if N == 0:\n",
    "        return 0\n",
    "    visited = [False for i in range(N)]\n",
    "    circles = 0\n",
    "\n",
    "    # Closure helper bfs\n",
    "    def bfs(person):\n",
    "        q = [person]\n",
    "        while len(q) > 0:\n",
    "            person = q.pop(0)\n",
    "            for i in range(N):\n",
    "                if friends[person][i] == 'Y' and not visited[i]:\n",
    "                    visited[i] = True\n",
    "                    q.append(i)\n",
    "\n",
    "    for person in range(N):\n",
    "        for other in range(person, N):\n",
    "            if friends[person][other] == 'Y' and not visited[person]:\n",
    "                visited[person] = True\n",
    "                bfs(person)\n",
    "                circles += 1\n",
    "\n",
    "    return circles\n",
    "\n",
    "\n",
    "if __name__ == \"__main__\":\n",
    "\n",
    "    print friendCircles(friends = ['YYNN','YYYN','NYYN','NNNY'])\n",
    "    \n"
   ]
  },
  {
   "cell_type": "markdown",
   "metadata": {
    "colab_type": "text",
    "id": "jW64MZfzSYi3"
   },
   "source": [
    "### String Chains\n",
    "\n",
    "Given an array of words representing your dict, find its longest string chains\n",
    "\n",
    "```\n",
    "Example:\n",
    "[a, and, an, bear]\n",
    "\n",
    "longest change is and->an->a\n",
    "\n",
    "return 3\n",
    "\n",
    "```\n"
   ]
  },
  {
   "cell_type": "code",
   "execution_count": null,
   "metadata": {
    "colab": {
     "base_uri": "https://localhost:8080/",
     "height": 35
    },
    "colab_type": "code",
    "id": "yVcG9Y-ySrYF",
    "outputId": "fd97c55e-1715-4e5f-c601-fa6a4080fac8"
   },
   "outputs": [
    {
     "name": "stdout",
     "output_type": "stream",
     "text": [
      "3\n"
     ]
    }
   ],
   "source": [
    "def longestChain(words):\n",
    "    \"\"\"\n",
    "    :type words: list[str]\n",
    "    :rtype: int\n",
    "    \"\"\"\n",
    "    if not words:\n",
    "        return 0\n",
    "    words  = set(words)\n",
    "    ans = {}\n",
    "    \n",
    "    # closure helper \n",
    "    def search(word):\n",
    "        ans[word] = 1\n",
    "        for i in range(len(word)):\n",
    "            new_word = word[0:i] + word[i+1:]\n",
    "            if new_word not in words:\n",
    "                continue\n",
    "            if new_word not in ans:\n",
    "                search(new_word)\n",
    "            ans[word] = max(ans[new_word] + 1, ans[word])\n",
    "    \n",
    "    for word in words:\n",
    "        search(word)\n",
    "\n",
    "    return max(ans.values())\n",
    "\n",
    "if __name__ == \"__main__\":\n",
    "    print longestChain(['a', 'and', 'an', 'bear'])\n"
   ]
  },
  {
   "cell_type": "markdown",
   "metadata": {
    "colab_type": "text",
    "id": "wi5OEhaFjquV"
   },
   "source": [
    "### 624. Remove Substrings\n",
    "Given a string s and a set of n substrings. You are supposed to remove every instance of those n substrings from s so that s is of the minimum length and output this minimum length.\n",
    "```\n",
    "Example\n",
    "Given s = ccdaabcdbb, substrs = [\"ab\", \"cd\"]\n",
    "Return 2\n",
    "\n",
    "Explanation:\n",
    "ccdaabcdbb -> ccdacdbb -> cabb -> cb (length = 2) \n",
    "```"
   ]
  },
  {
   "cell_type": "code",
   "execution_count": null,
   "metadata": {
    "colab": {
     "base_uri": "https://localhost:8080/",
     "height": 35
    },
    "colab_type": "code",
    "id": "YHWi8e_hjuNL",
    "outputId": "9927c67b-90b1-447a-8bc6-fc9ff91b935e"
   },
   "outputs": [
    {
     "name": "stdout",
     "output_type": "stream",
     "text": [
      "ccdacdbb -> caabcdbb -> ccdaabbb -> ccdabb -> caabbb -> cabb -> cb -> ccdb -> cacdbb -> 2\n"
     ]
    }
   ],
   "source": [
    "class Solution:\n",
    "    \"\"\"\n",
    "    @param: s: a string\n",
    "    @param: dict: a set of n substrings\n",
    "    @return: the minimum length\n",
    "    \"\"\"\n",
    "    def minLength(self, s, substrs):\n",
    "        #from Queue import Queue\n",
    "        que = []\n",
    "        str_set = set()\n",
    "\n",
    "        que.append(s)\n",
    "        str_set.add(s)\n",
    "        ans = len(s)\n",
    "        while len(que) > 0:\n",
    "            s = que.pop()\n",
    "            for sub in substrs:\n",
    "                found = s.find(sub)\n",
    "                while found != -1:\n",
    "                    new_s = s[:found] + s[found+len(sub):]\n",
    "                    if new_s not in str_set:\n",
    "                        print new_s, '->',\n",
    "                        str_set.add(new_s)\n",
    "                        ans = min(ans, len(new_s))\n",
    "                        que.append(new_s)\n",
    "                        str_set.add(new_s)\n",
    "                    found = s.find(sub, found + 1)\n",
    "\n",
    "        return ans\n",
    "if __name__ == \"__main__\":\n",
    "    print Solution().minLength(s = 'ccdaabcdbb', substrs = [\"ab\", \"cd\"])"
   ]
  },
  {
   "cell_type": "markdown",
   "metadata": {
    "colab_type": "text",
    "id": "j42mxlx2z1Uz"
   },
   "source": [
    "\n",
    "# Binary Tree\n",
    "\n",
    "\n",
    "二叉树（Binary Tree），和基于二叉树上的搜索算法。\n",
    "\n",
    "在二叉树的搜索中，我们主要使用了分治法（Divide Conquer）来解决大部分的问题。之所以大部分二叉树的问题可以使用分治法，是因为二叉树这种数据结构，是一个天然就帮你做好了分治法中“分”这个步骤的结构。\n",
    "\n",
    "本章节的先修内容有：\n",
    "\n",
    "什么是递归（Recursion）—— 请回到第二章节中复习\n",
    "递归（Recursion）、回溯（Backtracking）和搜索（Search）的联系和区别\n",
    "分治法（Divide and Conquer）和遍历法（Traverse）的联系和区别\n",
    "什么是结果类 ResultType，什么时候使用 \n",
    "\n",
    "```\n",
    "\n",
    "分治法（Divide & Conquer）与遍历法（Traverse）是两种常见的递归（Recursion）方法。\n",
    "\n",
    "分治法解决问题的思路\n",
    "先让左右子树去解决同样的问题，然后得到结果之后，再整合为整棵树的结果。\n",
    "\n",
    "遍历法解决问题的思路\n",
    "通过前序/中序/后序的某种遍历，游走整棵树，通过一个全局变量或者传递的参数来记录这个过程中所遇到的点和需要计算的结果。\n",
    "\n",
    "两种方法的区别\n",
    "从程序实现角度分治法的递归函数，通常有一个返回值，遍历法通常没有。\n",
    "```\n",
    "\n",
    "ResultType\n",
    "什么是二叉查找树（Binary Search Tree）\n",
    "什么是平衡二叉树（Balanced Binary Tree）\n",
    "本章节的补充内容有：\n",
    "\n",
    "Morris 算法：使用 O(1) 的额外空间复杂度对二叉树进行先序遍历（Preorder Traversal）\n",
    "用非递归的方法实现先序遍历，中序遍历和后序遍历\n",
    "二叉查找树（Binary Search Tree）的增删查改\n",
    "Java 自带的平衡排序二叉树 TreeMap / TreeSet 的介绍和面试中的应用"
   ]
  },
  {
   "cell_type": "markdown",
   "metadata": {
    "colab_type": "text",
    "id": "hZ5vjPJTllGT"
   },
   "source": [
    "## Traverse vs  Divide & Conquer\n",
    "\n",
    "\n",
    "**遍历（Traversal）**，顾名思义，就是通过某种顺序，一个一个访问一个数据结构中的元素。比如我们如果需要遍历一个数组，无非就是要么从前往后，要么从后往前遍历。但是对于一棵二叉树来说，他就有很多种方式进行遍历：\n",
    "```\n",
    "层序遍历（Level order）\n",
    "先序遍历（Pre order）\n",
    "中序遍历（In order）\n",
    "后序遍历（Post order）\n",
    "我们在之前的课程中，已经学习过了二叉树的层序遍历，也就是使用 BFS 算法来获得二叉树的分层信息。通过 BFS 获得的顺序我们也可以称之为 BFS Order。而剩下的三种遍历，都需要通过深度优先搜索的方式来获得。而这一小节中，我们将讲一下通过深度优先搜索（DFS）来获得的节点顺序，\n",
    "\n",
    "先序遍历 / 中序遍历 / 后序遍历\n",
    "先序遍历（又叫先根遍历、前序遍历）\n",
    "首先访问根结点，然后遍历左子树，最后遍历右子树。遍历左、右子树时，仍按先序遍历。若二叉树为空则返回。\n",
    "\n",
    "该过程可简记为根左右，注意该过程是递归的。如图先序遍历结果是：ABDECF。\n",
    "```\n",
    "**分治法（Divide & Conquer Algorithm）**\n",
    "```\n",
    "\n",
    "是说将一个大问题，拆分为2个或者多个小问题，当小问题得到结果之后，合并他们的结果来得到大问题的结果。\n",
    "\n",
    "举一个例子，比如中国要进行人口统计。那么如果使用遍历（Traversal）的办法，做法如下：\n",
    "\n",
    "人口普查员小张自己一个人带着一个本子，跑遍全中国挨家挨户的敲门查户口\n",
    "\n",
    "而如果使用分治法，做法如下：\n",
    "\n",
    "国家统计局的老板小李想要知道全国人口的总数，于是他找来全国各个省的统计局领导，下派人口普查任务给他们，让他们各自去统计自己省的人口总数。在小李这儿，他只需要最后将各个省汇报的人口总数结果累加起来，就得到了全国人口的数目。\n",
    "然后每个省的领导，又找来省里各个市的领导，让各个市去做人口统计。\n",
    "市找县，县找镇，镇找乡。最后乡里的干部小王挨家挨户敲门去查户口。\n",
    "在这里，把全国的任务拆分为省级的任务的过程，就是分治法中分的这个步骤。把各个小任务派发给别人去完成的过程，就是分治法中治的这个步骤。但是事实上我们还有第三个步骤，就是将小任务的结果合并到一起的过程，合这个步骤。因此如果我来取名字的话，我会叫这个算法：分治合算法。\n",
    "\n",
    "为什么二叉树的问题适合使用分治法？\n",
    "在一棵二叉树（Binary Tree）中，如果将整棵二叉树看做一个大问题的话，那么根节点（Root）的左子树（Left subtree）就是一个小问题，右子树（Right subtree）是另外一个小问题。这是一个天然就帮你完成了“分”这个步骤的数据结构。\n",
    "```"
   ]
  },
  {
   "cell_type": "markdown",
   "metadata": {
    "colab_type": "text",
    "id": "O1r1BMCBbpj1"
   },
   "source": [
    "### 7. Serialize and Deserialize Binary Tree\n",
    "\n",
    "reconstruct the exact same binary tree is 'deserialization'.\n",
    "```\n",
    "Example\n",
    "An example of testdata: Binary tree {3,9,20,#,#,15,7}, denote the following structure:\n",
    "\n",
    "  3\n",
    " / \\\n",
    "9  20\n",
    "  /  \\\n",
    " 15   7\n",
    "Our data serialization use bfs traversal. This is just for when you got wrong answer and want to debug the input.\n",
    "\n",
    "You can use other method to do serializaiton and deserialization.\n",
    "```"
   ]
  },
  {
   "cell_type": "code",
   "execution_count": 1,
   "metadata": {
    "colab": {
     "base_uri": "https://localhost:8080/",
     "height": 52
    },
    "colab_type": "code",
    "id": "OsV-SuuCbqOp",
    "outputId": "3775aff4-f2f3-4796-cf05-af8788bf17d9"
   },
   "outputs": [
    {
     "name": "stdout",
     "output_type": "stream",
     "text": [
      "{3,9,20,#,#,15,7}\n",
      "{3,9,20,#,#,15,7}\n"
     ]
    }
   ],
   "source": [
    "class TreeNode:\n",
    "    def __init__(self, val):\n",
    "        self.val = val\n",
    "        self.left, self.right = None, None\n",
    "    \n",
    "    def __call__(self, data):\n",
    "        return self.deserialize(data)\n",
    "    \n",
    "    @staticmethod\n",
    "    def serialize(root):\n",
    "        \"\"\"\n",
    "        @param root: An object of TreeNode, denote the root of the binary tree.\n",
    "        This method will be invoked first, you should design your own algorithm\n",
    "        to serialize a binary tree which denote by a root node to a string which\n",
    "        can be easily deserialized by your own \"deserialize\" method later.\n",
    "        \"\"\"\n",
    "        if root == None:\n",
    "            return \"{}\"\n",
    "        que = [root]\n",
    "        i = 0\n",
    "        while len(que) > i:\n",
    "            if que[i]:\n",
    "                que.append(que[i].left)\n",
    "                que.append(que[i].right)\n",
    "                que[i] = str(que[i].val)\n",
    "            else:\n",
    "                que[i] = '#' \n",
    "            \n",
    "            i += 1\n",
    "            \n",
    "        while que[-1] is '#':\n",
    "            que.pop()\n",
    "            \n",
    "        ser = \",\".join(que)\n",
    "        return \"{\" + ser + \"}\"\n",
    "    \n",
    "    @staticmethod\n",
    "    def deserialize(data):\n",
    "        \"\"\"\n",
    "        @param data: A string serialized by your serialize method.\n",
    "        This method will be invoked second, the argument data is what exactly\n",
    "        you serialized at method \"serialize\", that means the data is not given by\n",
    "        system, it's given by your own serialize method. So the format of data is\n",
    "        designed by yourself, and deserialize it here as you serialize it in\n",
    "        \"serialize\" method.\n",
    "        \"\"\"\n",
    "        if data == \"{}\":\n",
    "            return None\n",
    "        data = data[1:-1].split(',') # remove {\n",
    "        root = TreeNode(int(data[0]))\n",
    "        que = [root]\n",
    "        index = 0\n",
    "        is_left = True\n",
    "        for i in range(1, len(data)):\n",
    "            if data[i] != '#':\n",
    "                node = TreeNode(int(data[i]))\n",
    "                que.append(node)\n",
    "                if is_left: \n",
    "                    que[index].left = node\n",
    "                else:\n",
    "                    que[index].right = node\n",
    "                \n",
    "            if is_left is False:\n",
    "                index += 1 \n",
    "            is_left = not is_left\n",
    "        return root\n",
    "      \n",
    "if __name__ == \"__main__\":\n",
    "    s = TreeNode\n",
    "    root = TreeNode(3)\n",
    "    root.left = TreeNode(9)\n",
    "    root.right = TreeNode(20)\n",
    "    root.right.left = TreeNode(15)\n",
    "    root.right.right = TreeNode(7)\n",
    "    print s.serialize(root)\n",
    "    root = \"{3,9,20,#,#,15,7}\"\n",
    "    print s.serialize(s.deserialize(root))"
   ]
  },
  {
   "cell_type": "markdown",
   "metadata": {
    "colab_type": "text",
    "id": "MzrkKwRA4j-O"
   },
   "source": [
    "### 596. Minimum Subtree\n",
    "Given a binary tree, find the subtree with minimum sum. Return the root of the subtree.\n",
    "```\n",
    "Example\n",
    "Given a binary tree:\n",
    "\n",
    "     1\n",
    "   /   \\\n",
    " -5     2\n",
    " / \\   /  \\\n",
    "0   2 -4  -5 \n",
    "return the node 1.\n",
    "```"
   ]
  },
  {
   "cell_type": "code",
   "execution_count": null,
   "metadata": {
    "colab": {},
    "colab_type": "code",
    "id": "JTqTY1_u47q5"
   },
   "outputs": [],
   "source": [
    "\"\"\"\n",
    "Definition of TreeNode:\n",
    "class TreeNode:\n",
    "    def __init__(self, val):\n",
    "        this.val = val\n",
    "        this.left, this.right = None, None\n",
    "\"\"\"\n",
    "\n",
    "\n",
    "class Solution:\n",
    "    \"\"\"\n",
    "    @param: root: the root of binary tree\n",
    "    @return: the root of the maximum average of subtree\n",
    "    \"\"\"\n",
    "    def findSubtree(self, root):\n",
    "        if root == None:\n",
    "            return\n",
    "        results = ['-1', float('inf')]\n",
    "        self.dfs(root, results)\n",
    "        return results[0]\n",
    "        \n",
    "    def dfs(self, node, results):\n",
    "        sum_node = node.val\n",
    "        if node.left is None and node.right is None:\n",
    "            if sum_node < results[1]:\n",
    "                results[:] = [node, sum_node]\n",
    "            return sum_node\n",
    "        if node.left:\n",
    "            sum_node += self.dfs(node.left, results)\n",
    "        if node.right:\n",
    "            sum_node += self.dfs(node.right, results)\n",
    "        if sum_node < results[1]:\n",
    "            results[:] = [node, sum_node]\n",
    "        return sum_node"
   ]
  },
  {
   "cell_type": "markdown",
   "metadata": {
    "colab_type": "text",
    "id": "_a2KZfZg4jts"
   },
   "source": [
    "### 480. Binary Tree Paths\n",
    "Given a binary tree, return all root-to-leaf paths.\n",
    "```\n",
    "Example\n",
    "Given the following binary tree:\n",
    "\n",
    "   1\n",
    " /   \\\n",
    "2     3\n",
    " \\\n",
    "  5\n",
    "All root-to-leaf paths are:\n",
    "\n",
    "[\n",
    "  \"1->2->5\",\n",
    "  \"1->3\"\n",
    "]\n",
    "```"
   ]
  },
  {
   "cell_type": "code",
   "execution_count": null,
   "metadata": {
    "colab": {},
    "colab_type": "code",
    "id": "W8oIRFbj5Byh"
   },
   "outputs": [],
   "source": [
    "class Solution:\n",
    "    # param {TreeNode} root the root of the binary tree\n",
    "    # return {List[str]} all root-to-leaf paths\n",
    "    def binaryTreePaths(self, root):\n",
    "        if root == None:\n",
    "            return []\n",
    "        results = []\n",
    "        tmp = []\n",
    "        self.dfs(root, results, tmp)\n",
    "        return results\n",
    "\n",
    "    def dfs(self, node, results, tmp):\n",
    "        tmp.append(str(node.val))\n",
    "        if node.left == None and node.right == None:\n",
    "            results.append('->'.join(tmp))\n",
    "            tmp.pop()\n",
    "            return\n",
    "        if node.left != None:\n",
    "            self.dfs(node.left, results, tmp)\n",
    "        if node.right != None:\n",
    "            self.dfs(node.right, results, tmp)\n",
    "        tmp.pop()"
   ]
  },
  {
   "cell_type": "markdown",
   "metadata": {
    "colab_type": "text",
    "id": "ZaUUOhPfCpx0"
   },
   "source": [
    "### 376. Binary Tree Path Sum I \n",
    "Given a binary tree, find all paths that sum of the nodes in the path equals to a given number target.\n",
    "\n",
    "A valid path is from root node to any of the leaf nodes.\n",
    "```\n",
    "Example\n",
    "Given a binary tree, and target = 5:\n",
    "\n",
    "     1\n",
    "    / \\\n",
    "   2   4\n",
    "  / \\\n",
    " 2   3\n",
    "return\n",
    "\n",
    "[\n",
    "  [1, 2, 2],\n",
    "  [1, 4]\n",
    "]\n",
    "```"
   ]
  },
  {
   "cell_type": "code",
   "execution_count": null,
   "metadata": {
    "colab": {
     "base_uri": "https://localhost:8080/",
     "height": 35
    },
    "colab_type": "code",
    "id": "n0vpZxF2C2zI",
    "outputId": "d71d36f8-e9ce-45f5-f0b7-0e145eee2c9e"
   },
   "outputs": [
    {
     "name": "stdout",
     "output_type": "stream",
     "text": [
      "[[1, -2, 1, 2]]\n"
     ]
    }
   ],
   "source": [
    "class Solution:\n",
    "    # param {TreeNode} root the root of the binary tree\n",
    "    # return {List[str]} all root-to-leaf paths\n",
    "    def binaryTreePathSum(self, root, target):\n",
    "        if root == None:\n",
    "            return []\n",
    "        results = []\n",
    "        tmp = []\n",
    "        self.dfs(root, results, tmp, target)\n",
    "        return results\n",
    "\n",
    "    def dfs(self, node, results, tmp, target):\n",
    "        tmp.append(int(node.val))\n",
    "        if node.left == None and node.right == None:\n",
    "            if sum(tmp) == target:\n",
    "                results.append(tmp[:])\n",
    "            tmp.pop()\n",
    "            return\n",
    "        if node.left != None:\n",
    "            self.dfs(node.left, results, tmp, target)\n",
    "        if node.right != None:\n",
    "            self.dfs(node.right, results, tmp, target)\n",
    "        tmp.pop()\n",
    "        \n",
    "        \n",
    "if __name__ == \"__main__\":\n",
    "\n",
    "    S = Solution()\n",
    "    #print S.binaryTreePathSum(s.deserialize(\"{1,2,3,4,#,2}\"), 6)\n",
    "    print S.binaryTreePathSum(s.deserialize(\"{1,-2,#,1,#,2}\"), 2)\n",
    "    #print S.binaryTreePathSum2(s.deserialize(\"{37,-34,-48,#,-100,-100,48,#,#,#,#,-54,#,-71,-22,#,#,#,8}\"), -31)"
   ]
  },
  {
   "cell_type": "markdown",
   "metadata": {
    "colab_type": "text",
    "id": "VRrYmwz9pGfs"
   },
   "source": [
    "### 246. Binary Tree Path Sum II\n",
    "Your are given a binary tree in which each node contains a value. Design an algorithm to get all paths which sum to a given value. The path does not need to start or end at the root or a leaf, but it must go in a straight line down.\n",
    "```\n",
    "Example\n",
    "Given a binary tree:\n",
    "\n",
    "    1\n",
    "   / \\\n",
    "  2   3\n",
    " /   /\n",
    "4   2\n",
    "for target = 6, return\n",
    "\n",
    "[\n",
    "  [2, 4],\n",
    "  [1, 3, 2]\n",
    "]\n",
    "```\n",
    "\n",
    "Notes:\n",
    " * 这道题最容易犯的错误就是，从每个节点新开始一个搜索，这样会在树的末端大量重复，而且这种重复没法用Set消除，因为可能存在多条路径整数序列一样。\n",
    "\n",
    "* O(h^2 *n) seems to be the best soluiton, can we have better one?\n",
    "* start at any, end at any, downward.\n",
    "\n",
    "\n",
    "\n"
   ]
  },
  {
   "cell_type": "code",
   "execution_count": null,
   "metadata": {
    "colab": {
     "base_uri": "https://localhost:8080/",
     "height": 52
    },
    "colab_type": "code",
    "id": "CJNLC8EppKyp",
    "outputId": "4583f835-53ed-4211-8772-69174f374b01"
   },
   "outputs": [
    {
     "name": "stdout",
     "output_type": "stream",
     "text": [
      "None\n",
      "[[1, -2, 1, 2]]\n"
     ]
    }
   ],
   "source": [
    "\"\"\"\n",
    "Definition of TreeNode:\n",
    "class TreeNode:\n",
    "    def __init__(self, val):\n",
    "        self.val = val\n",
    "        self.left, self.right = None, None\n",
    "\"\"\"\n",
    "\n",
    "\n",
    "class Solution:\n",
    "    \"\"\"\n",
    "    @param: root: the root of binary tree\n",
    "    @param: target: An integer\n",
    "    @return: all valid paths\n",
    "    \"\"\"\n",
    "    def binaryTreePathSum2_I(self, root, target):\n",
    "        if root is None:\n",
    "            return []\n",
    "        \n",
    "        res = [] \n",
    "   \n",
    "        def dfs(tmp, node):\n",
    "            if node is None:\n",
    "                return \n",
    "            \n",
    "            tmp.append(int(node.val))\n",
    "            \n",
    "            cum = 0\n",
    "            for i in range(len(tmp)-1, -1,-1):\n",
    "                cum += tmp[i]\n",
    "                if cum == target:\n",
    "                    res.append(tmp[i:])\n",
    "            if node.left:\n",
    "                dfs(tmp, node.left)\n",
    "            if node.right:\n",
    "                dfs(tmp, node.right)\n",
    "            \n",
    "            tmp.pop()     \n",
    "            \n",
    "        dfs([], root)\n",
    "        return res \n",
    "\n",
    "        \n",
    "if __name__ == \"__main__\":\n",
    "    S = Solution()\n",
    "    #print S.binaryTreePathSum2(s.deserialize(\"{1,2,3,4,#,2}\"), 6)\n",
    "    print S.binaryTreePathSum2(s.deserialize(\"{1,-2,#,1,#,2}\"), 2)\n",
    "    print S.binaryTreePathSum1(s.deserialize(\"{1,-2,#,1,#,2}\"), 2)\n",
    "    #print S.binaryTreePathSum2(s.deserialize(\"{37,-34,-48,#,-100,-100,48,#,#,#,#,-54,#,-71,-22,#,#,#,8}\"), -31)"
   ]
  },
  {
   "cell_type": "markdown",
   "metadata": {
    "colab_type": "text",
    "id": "fo-c4Z4YBCQD"
   },
   "source": [
    "### 472. Binary Tree Path Sum III\n",
    "Give a binary tree, and a target number, find all path that the sum of nodes equal to target, the path could be start and end at any node in the tree.\n",
    "```\n",
    "Example\n",
    "Given binary tree:\n",
    "\n",
    "    1\n",
    "   / \\\n",
    "  2   3\n",
    " /\n",
    "4\n",
    "and target = 6. Return :\n",
    "\n",
    "[\n",
    "  [2, 4],\n",
    "  [2, 1, 3],\n",
    "  [3, 1, 2],\n",
    "  [4, 2]\n",
    "]\n",
    "```"
   ]
  },
  {
   "cell_type": "code",
   "execution_count": null,
   "metadata": {
    "colab": {},
    "colab_type": "code",
    "id": "PwVtQCVp2No-"
   },
   "outputs": [],
   "source": [
    "\"\"\"\n",
    "Definition of ParentTreeNode:\n",
    "class ParentTreeNode:\n",
    "    def __init__(self, val):\n",
    "        self.val = val\n",
    "        self.parent, self.left, self.right = None, None, None\n",
    "\"\"\"\n",
    "\n",
    "\n",
    "class Solution:\n",
    "    \"\"\"\n",
    "    @param: root: the root of binary tree\n",
    "    @param: target: An integer\n",
    "    @return: all valid paths\n",
    "    \"\"\"\n",
    "\n",
    "    def binaryTreePathSum3(self, root, target):\n",
    "        from collections import deque\n",
    "        results = []\n",
    "        if root is None:\n",
    "            return results\n",
    "        # inorder traverse\n",
    "        \n",
    "        deck = deque()\n",
    "        deck.append(root)\n",
    "        while deck:\n",
    "            size = len(deck)\n",
    "            for i in range(size):\n",
    "                node = deck.popleft()\n",
    "                self.dfs(None, node, target, [], results)\n",
    "                if node.left:\n",
    "                    deck.append(node.left)\n",
    "                if node.right:\n",
    "                    deck.append(node.right)\n",
    "\n",
    "        return results\n",
    "\n",
    "    def dfs(self, prev, node, target, path, results):\n",
    "        target -= node.val\n",
    "        path.append(node.val)\n",
    "\n",
    "        if target == 0:\n",
    "            results.append(path[:])\n",
    "\n",
    "        if node.left and node.left is not prev:\n",
    "            self.dfs(node, node.left, target, path, results)\n",
    "\n",
    "        if node.right and node.right is not prev:\n",
    "            self.dfs(node, node.right, target, path, results)\n",
    "\n",
    "        if node.parent and node.parent is not prev:\n",
    "            self.dfs(node, node.parent, target, path, results)\n",
    "\n",
    "        path.pop()"
   ]
  },
  {
   "cell_type": "markdown",
   "metadata": {
    "colab_type": "text",
    "id": "UkelTBA_Lflv"
   },
   "source": [
    "### 475. Binary Tree Maximum Path Sum II\n",
    "Given a binary tree, find the maximum path sum from root.\n",
    "\n",
    "The path may end at any node in the tree and contain at least one node in it.\n",
    "```\n",
    "Example\n",
    "Given the below binary tree:\n",
    "\n",
    "  1\n",
    " / \\\n",
    "2   3\n",
    "return 4. (1->3)\n",
    "```\n",
    "Notes: \n",
    " * Same as path SUM I, start at root, end at any node"
   ]
  },
  {
   "cell_type": "code",
   "execution_count": null,
   "metadata": {
    "colab": {
     "base_uri": "https://localhost:8080/",
     "height": 35
    },
    "colab_type": "code",
    "id": "lrtvA7XrLr_B",
    "outputId": "d749c37e-09a3-429e-dbe6-4fb155808344"
   },
   "outputs": [
    {
     "name": "stdout",
     "output_type": "stream",
     "text": [
      "4\n"
     ]
    }
   ],
   "source": [
    "\"\"\"\n",
    "Definition of TreeNode:\n",
    "class TreeNode:\n",
    "    def __init__(self, val):\n",
    "        self.val = val\n",
    "        self.left, self.right = None, None\n",
    "\"\"\"\n",
    "\n",
    "class Solution:\n",
    "    \"\"\"\n",
    "    @param root: the root of binary tree.\n",
    "    @return: An integer\n",
    "    \"\"\"\n",
    "    def maxPathSum2(self, root):\n",
    "        from sys import maxsize\n",
    "        self.res = -maxsize\n",
    "        self.dfs(root, [], 0)\n",
    "        return self.res\n",
    "\n",
    "    def dfs(self, node, tmp, cum):\n",
    "        if node is None:\n",
    "            return \n",
    "        tmp.append(node.val)\n",
    "        cum += node.val\n",
    "        self.res = max(self.res, cum)\n",
    "        if node.left:\n",
    "            self.dfs(node.left, tmp, cum)\n",
    "        if node.right:\n",
    "            self.dfs(node.right, tmp, cum)\n",
    "        tmp.pop()\n",
    "        cum -= node.val\n",
    "        \n",
    "if __name__ == \"__main__\":\n",
    "    root = s.deserialize(\"{1,2,3}\")\n",
    "    S = Solution()\n",
    "    print S.maxPathSum2(root)\n"
   ]
  },
  {
   "cell_type": "markdown",
   "metadata": {
    "colab_type": "text",
    "id": "ifUYwFjOl8Cg"
   },
   "source": [
    "### 94. Binary Tree Maximum Path Sum III\n",
    "Given a binary tree, find the maximum path sum.\n",
    "\n",
    "The path may start and end at any node in the tree.\n",
    "```\n",
    "Example\n",
    "Given the below binary tree:\n",
    "\n",
    "  1\n",
    " / \\\n",
    "2   3\n",
    "return 6.\n",
    "```"
   ]
  },
  {
   "cell_type": "code",
   "execution_count": null,
   "metadata": {
    "colab": {
     "base_uri": "https://localhost:8080/",
     "height": 35
    },
    "colab_type": "code",
    "id": "o-HyJyXpl7JS",
    "outputId": "6f679fcf-d079-4346-eb27-d17a5d0f2695"
   },
   "outputs": [
    {
     "name": "stdout",
     "output_type": "stream",
     "text": [
      "6\n"
     ]
    }
   ],
   "source": [
    "\"\"\"\n",
    "Definition of TreeNode:\n",
    "class TreeNode:\n",
    "    def __init__(self, val):\n",
    "        self.val = val\n",
    "        self.left, self.right = None, None\n",
    "\"\"\"\n",
    "from sys import maxsize\n",
    "class Solution:\n",
    "    \"\"\"\n",
    "    @param root: The root of binary tree.\n",
    "    @return: An integer\n",
    "    \"\"\"\n",
    "    def maxPathSum(self, root):\n",
    "        \n",
    "        max_sum, cur_sum = self.helper(root)\n",
    "    \n",
    "        return max_sum\n",
    "    \n",
    "    def helper(self, node):\n",
    "        if node is None:\n",
    "            return -maxsize, 0\n",
    "        left_max, left_up = self.helper(node.left)\n",
    "        right_max, right_up = self.helper(node.right)\n",
    "        max_sum = max(left_max, right_max, node.val + left_up + right_up)\n",
    "        up = max(left_up + node.val, right_up + node.val, 0)\n",
    "        \n",
    "        return max_sum, up\n",
    "\n",
    "    \n",
    "if __name__ == \"__main__\":\n",
    "    s = TreeNode\n",
    "    root = s.deserialize(\"{1,2,3}\")\n",
    "    S = Solution()\n",
    "    print S.maxPathSum(root)"
   ]
  },
  {
   "cell_type": "markdown",
   "metadata": {
    "colab_type": "text",
    "id": "jwxV8tBhwR4f"
   },
   "source": [
    "###  595. Binary Tree Longest Consecutive Sequence I\n",
    "Given a binary tree, find the length of the longest consecutive sequence path.\n",
    "\n",
    "The path refers to any sequence of nodes from some starting node to any node in the tree along the parent-child connections. The longest consecutive path need to be from parent to child (cannot be the reverse).\n",
    "```\n",
    "Example\n",
    "For example,\n",
    "\n",
    "   1\n",
    "    \\\n",
    "     3\n",
    "    / \\\n",
    "   2   4\n",
    "        \\\n",
    "         5\n",
    "Longest consecutive sequence path is 3-4-5, so return 3.\n",
    "\n",
    "   2\n",
    "    \\\n",
    "     3\n",
    "    / \n",
    "   2    \n",
    "  / \n",
    " 1\n",
    "Longest consecutive sequence path is 2-3,not3-2-1, so return 2.\n",
    "```\n",
    "Notes:\n",
    "1. Return Type(helper)  vs Traverse(dfs)"
   ]
  },
  {
   "cell_type": "code",
   "execution_count": null,
   "metadata": {
    "colab": {
     "base_uri": "https://localhost:8080/",
     "height": 35
    },
    "colab_type": "code",
    "id": "pNNAg0uMwbA-",
    "outputId": "39bd1b32-d580-4fb6-d86f-7f4bbc6e9162"
   },
   "outputs": [
    {
     "name": "stdout",
     "output_type": "stream",
     "text": [
      "3\n"
     ]
    }
   ],
   "source": [
    "\"\"\"\n",
    "Definition of TreeNode:\n",
    "class TreeNode:\n",
    "    def __init__(self, val):\n",
    "        self.val = val\n",
    "        self.left, self.right = None, None\n",
    "\"\"\"\n",
    "\n",
    "class Solution:\n",
    "    \"\"\"\n",
    "    @param root: the root of binary tree\n",
    "    @return: the length of the longest consecutive sequence path\n",
    "    \"\"\"\n",
    "    def longestConsecutive(self, root):\n",
    "        if root is None:\n",
    "            return 0\n",
    "        self.res = 0\n",
    "        self.dfs(None, root, 1)\n",
    "        return self.res \n",
    "    \n",
    "    \n",
    "    def dfs(self, prev, node, curlen):        \n",
    "        if prev is None or prev.val != node.val - 1:\n",
    "            curlen = 1\n",
    "        self.res = max(self.res, curlen)\n",
    "        if node.left:\n",
    "            self.dfs(node, node.left, curlen + 1)\n",
    "        if node.right:\n",
    "            self.dfs(node, node.right, curlen + 1) \n",
    "    \n",
    "    \n",
    "    def longestConsecutiveII(self, root):\n",
    "        max_len, _ = self.helper(root)\n",
    "        return max_len\n",
    "    \n",
    "    def helper(self, root):\n",
    "        if root is None:\n",
    "            return 0, 0\n",
    "\n",
    "        left_len, left_up = self.helper(root.left)\n",
    "        right_len, right_up = self.helper(root.right)\n",
    "        \n",
    "        up = 0         \n",
    "        \n",
    "        if root.left and root.left.val - 1 == root.val:\n",
    "            up = max(up, left_up + 1)\n",
    "\n",
    "        if root.right and root.right.val - 1 == root.val:\n",
    "            up = max(up, right_up + 1)\n",
    "            \n",
    "        len = up + 1\n",
    "        len = max(len, left_len, right_len)\n",
    "        return len, up\n",
    "    \n",
    "    \n",
    "if __name__ == \"__main__\":\n",
    "    tree = TreeNode\n",
    "    root = tree.deserialize(\"{1,#,3,2,4,#,#,#,5}\")\n",
    "    S = Solution()\n",
    "    print S.longestConsecutiveII(root)"
   ]
  },
  {
   "cell_type": "markdown",
   "metadata": {
    "colab_type": "text",
    "id": "WgnQJPW-2fAG"
   },
   "source": [
    "### 614. Binary Tree Longest Consecutive Sequence II\n",
    "Given a binary tree, find the length of the longest consecutive sequence path.\n",
    "The path could be start and end at any node in the tree\n",
    "```\n",
    "Example\n",
    "    1\n",
    "   / \\\n",
    "  2   0\n",
    " /\n",
    "3\n",
    "Return 4 // 0-1-2-3\n",
    "```"
   ]
  },
  {
   "cell_type": "code",
   "execution_count": null,
   "metadata": {
    "colab": {
     "base_uri": "https://localhost:8080/",
     "height": 69
    },
    "colab_type": "code",
    "id": "22mioSxf6WRO",
    "outputId": "ad5f38f3-94ad-497e-f7d5-1d87a04f17ac"
   },
   "outputs": [
    {
     "name": "stdout",
     "output_type": "stream",
     "text": [
      "4\n",
      "0.0825941562653\n",
      "0.0131440162659\n"
     ]
    }
   ],
   "source": [
    "\"\"\"\n",
    "Definition of TreeNode:\n",
    "class TreeNode:\n",
    "    def __init__(self, val):\n",
    "        self.val = val\n",
    "        self.left, self.right = None, None\n",
    "\"\"\"\n",
    "\n",
    "class Solution:\n",
    "    \"\"\"\n",
    "    @param root: the root of binary tree\n",
    "    @return: the length of the longest consecutive sequence path\n",
    "    \"\"\"\n",
    "    def longestConsecutive2(self, root):\n",
    "        if root is None:\n",
    "            return 0\n",
    "        from collections import deque\n",
    "        deck = deque()\n",
    "        deck.append([None, root]) \n",
    "        self.parent_dict = {}\n",
    "        self.parent_dict[root] = None\n",
    "        # we don't def parent at node, thus, need to pass\n",
    "        self.res = 1\n",
    "        \n",
    "        while deck:\n",
    "            size = len(deck)\n",
    "            for i in range(size):\n",
    "                parent, node = deck.popleft()\n",
    "                self.parent_dict[node] = parent\n",
    "                if node.left:\n",
    "                    deck.append([node, node.left])\n",
    "                if node.right:\n",
    "                    deck.append([node, node.right])\n",
    "        \n",
    "        for node, parent in self.parent_dict.iteritems():\n",
    "            self.dfs(None, node, parent, 1)\n",
    "        \n",
    "        return self.res\n",
    "    \n",
    "    def dfs(self, prev, node, parent, curlen):\n",
    "        self.res = max(self.res, curlen)\n",
    "        if node.left and node.left is not prev and node.val+1 == node.left.val:\n",
    "            self.dfs(node, node.left, node, curlen + 1)\n",
    "        if node.right and node.right is not prev and node.val+1 == node.right.val:\n",
    "            self.dfs(node, node.right, node, curlen + 1)\n",
    "        if parent and parent is not prev and node.val+1 == parent.val:\n",
    "            self.dfs(node, parent, self.parent_dict[parent], curlen + 1)\n",
    "\n",
    "    def longestConsecutive2II(self, root):\n",
    "        # Write your code here\n",
    "        max_len, _, _, = self.helper(root)\n",
    "        return max_len\n",
    "    \n",
    "    def helper(self, root):\n",
    "        if root is None:\n",
    "            return 0, 0, 0\n",
    "\n",
    "        left_len, left_down, left_up = self.helper(root.left)\n",
    "        right_len, right_down, right_up = self.helper(root.right)\n",
    "\n",
    "        down, up = 0, 0\n",
    "        if root.left is not None and root.left.val + 1 == root.val:\n",
    "            down = max(down, left_down + 1)\n",
    "\n",
    "        if root.left is not None and root.left.val - 1 == root.val:\n",
    "            up = max(up, left_up + 1)\n",
    "\n",
    "        if root.right is not None and root.right.val + 1 == root.val:\n",
    "            down = max(down, right_down + 1)\n",
    "\n",
    "        if root.right is not None and root.right.val - 1 == root.val:\n",
    "            up = max(up, right_up + 1)\n",
    "\n",
    "        len = down + 1 + up\n",
    "        len = max(len, left_len, right_len)\n",
    "\n",
    "        return len, down, up      \n",
    "            \n",
    "if __name__ == \"__main__\":\n",
    "    tree = TreeNode\n",
    "    root = tree.deserialize(\"{1,2,0,3,0,1,2,0,3,0,1,2,0,3}\")\n",
    "    S = Solution()\n",
    "    print S.longestConsecutive2(root)\n",
    "    \n",
    "\n",
    "    from timeit import timeit\n",
    "    print timeit(\"S.longestConsecutive2(root)\", \n",
    "                 setup=\"from __main__ import root, S\", number=1000)\n",
    "    print timeit(\"S.longestConsecutive2II(root)\", \n",
    "                 setup=\"from __main__ import root, S\", number=1000)"
   ]
  },
  {
   "cell_type": "markdown",
   "metadata": {
    "colab_type": "text",
    "id": "B6pm5grrwSBH"
   },
   "source": [
    "### 619. Binary Tree Longest Consecutive Sequence III\n",
    "It's follow up problem for Binary Tree Longest Consecutive Sequence II\n",
    "\n",
    "Given a k-ary tree, find the length of the longest consecutive sequence path.\n",
    "The path could be start and end at any node in the tree\n",
    "```\n",
    "Example\n",
    "An example of test data: k-ary tree 5<6<7<>,5<>,8<>>,4<3<>,5<>,3<>>>, denote the following structure:\n",
    "\n",
    "\n",
    "     5\n",
    "   /   \\\n",
    "  6     4\n",
    " /|\\   /|\\\n",
    "7 5 8 3 5 3\n",
    "\n",
    "Return 5, // 3-4-5-6-7\n",
    "```"
   ]
  },
  {
   "cell_type": "code",
   "execution_count": null,
   "metadata": {
    "colab": {},
    "colab_type": "code",
    "id": "K8-JiwaeUmmf"
   },
   "outputs": [],
   "source": [
    "# Definition for a multi tree node.\n",
    "# class MultiTreeNode(object):\n",
    "#     def __init__(self, x):\n",
    "#         self.val = x\n",
    "#         children = [] # children is a list of MultiTreeNode\n",
    "\n",
    "class Solution:\n",
    "    # param {MultiTreeNode} root the root of k-ary tree\n",
    "    # return {int} the length of the longest consecutive sequence path\n",
    "    def longestConsecutive3(self, root):\n",
    "        max_len, _, _, = self.helper(root)\n",
    "        return max_len\n",
    "    \n",
    "    def helper(self, root):\n",
    "        if root is None:\n",
    "            return 0, 0, 0\n",
    "\n",
    "        max_len, up, down = 0, 0, 0\n",
    "        for child in root.children:\n",
    "            result = self.helper(child)\n",
    "            max_len = max(max_len, result[0])\n",
    "            if child.val + 1 == root.val:\n",
    "                down = max(down, result[1] + 1)\n",
    "            if child.val - 1 == root.val:\n",
    "                up = max(up, result[2] + 1)\n",
    "\n",
    "        max_len = max(down + 1 + up, max_len)\n",
    "\n",
    "        return max_len, down, up"
   ]
  },
  {
   "cell_type": "markdown",
   "metadata": {
    "colab_type": "text",
    "id": "oknG16xZzf-Z"
   },
   "source": [
    "### 155. Minimum Depth of Binary Tree\n",
    "Given a binary tree, find its minimum depth.\n",
    "\n",
    "The minimum depth is the number of nodes along the shortest path from the root node down to the nearest leaf node.\n",
    "```\n",
    "Example\n",
    "Given a binary tree as follow:\n",
    "\n",
    "  1\n",
    " / \\ \n",
    "2   3\n",
    "   / \\\n",
    "  4   5  \n",
    "The minimum depth is 2.\n",
    "```"
   ]
  },
  {
   "cell_type": "code",
   "execution_count": null,
   "metadata": {
    "colab": {
     "base_uri": "https://localhost:8080/",
     "height": 35
    },
    "colab_type": "code",
    "id": "7wXrzrmCtoKY",
    "outputId": "a49000ca-55e1-4fda-ee38-11692dbfee3a"
   },
   "outputs": [
    {
     "name": "stdout",
     "output_type": "stream",
     "text": [
      "4\n"
     ]
    }
   ],
   "source": [
    "\"\"\"\n",
    "Definition of TreeNode:\n",
    "class TreeNode:\n",
    "    def __init__(self, val):\n",
    "        self.val = val\n",
    "        self.left, self.right = None, None\n",
    "\"\"\"\n",
    "\n",
    "class Solution:\n",
    "    \"\"\"\n",
    "    @param root: The root of binary tree\n",
    "    @return: An integer\n",
    "    \"\"\"\n",
    "    def minDepth(self, root):\n",
    "        if root is None:\n",
    "            return 0 \n",
    "        from collections import deque\n",
    "        deck = deque()\n",
    "        deck.append(root)\n",
    "        depth = 1\n",
    "        while deck:\n",
    "            size = len(deck)\n",
    "            for i in range(size):\n",
    "                node = deck.popleft()\n",
    "                if node.left is None and node.right is None:\n",
    "                    return depth\n",
    "                if node.left:\n",
    "                    deck.append(node.left)\n",
    "                if node.right:\n",
    "                    deck.append(node.right)\n",
    "            depth += 1\n",
    "        \n",
    "        return depth\n",
    "    \n",
    "if __name__ == \"__main__\":\n",
    "    S = Solution()\n",
    "    print S.minDepth(s.deserialize(\"{1,-2,#,1,#,2}\"))"
   ]
  },
  {
   "cell_type": "markdown",
   "metadata": {
    "colab_type": "text",
    "id": "Vx5itH4S4jdn"
   },
   "source": [
    "### 453. Flatten Binary Tree to Linked List\n",
    "Flatten a binary tree to a fake \"linked list\" in pre-order traversal.\n",
    "\n",
    "Here we use the right pointer in TreeNode as the next pointer in ListNode.\n",
    "```\n",
    "Example\n",
    "              1\n",
    "               \\\n",
    "     1          2\n",
    "    / \\          \\\n",
    "   2   5    =>    3\n",
    "  / \\   \\          \\\n",
    " 3   4   6          4\n",
    "                     \\\n",
    "                      5\n",
    "                       \\\n",
    "                        6\n",
    "Challenge\n",
    "Do it in-place without any extra memory.\n",
    "```"
   ]
  },
  {
   "cell_type": "code",
   "execution_count": null,
   "metadata": {
    "colab": {},
    "colab_type": "code",
    "id": "9k43qnwO5QWx"
   },
   "outputs": [],
   "source": [
    "class Solution:\n",
    "    def flatten(self, root):\n",
    "        if root is None:\n",
    "            return None\n",
    "        flaten_left, flaten_right = None, None\n",
    "        if root.left:\n",
    "            flaten_left = self.flatten(root.left)\n",
    "        if root.right:\n",
    "            flaten_right = self.flatten(root.right)\n",
    "            \n",
    "        if flaten_left is None:\n",
    "            root.left = None\n",
    "            root.right = flaten_right\n",
    "            return root\n",
    "            \n",
    "        p = flaten_left\n",
    "        while p.right is not None:\n",
    "            p = p.right\n",
    "        p.right = flaten_right\n",
    "        root.left = None\n",
    "        root.right = flaten_left\n",
    "        return root"
   ]
  },
  {
   "cell_type": "markdown",
   "metadata": {
    "colab_type": "text",
    "id": "wLeoAKjjKJsF"
   },
   "source": [
    "### 88. Lowest Common Ancestor I\n",
    "\n",
    "Given the root and two nodes in a Binary Tree. Find the lowest common ancestor(LCA) of the two nodes.\n",
    "\n",
    "The lowest common ancestor is the node with largest depth which is the ancestor of both nodes.\n",
    "```\n",
    "Example\n",
    "For the following binary tree:\n",
    "\n",
    "  4\n",
    " / \\\n",
    "3   7\n",
    "   / \\\n",
    "  5   6\n",
    "LCA(3, 5) = 4\n",
    "\n",
    "LCA(5, 6) = 7\n",
    "\n",
    "LCA(6, 7) = 7\n",
    "```"
   ]
  },
  {
   "cell_type": "code",
   "execution_count": null,
   "metadata": {
    "colab": {},
    "colab_type": "code",
    "id": "0SgqVuWuKSLq"
   },
   "outputs": [],
   "source": [
    "\"\"\"\n",
    "Definition of TreeNode:\n",
    "class TreeNode:\n",
    "    def __init__(self, val):\n",
    "        self.val = val\n",
    "        self.left, self.right = None, None\n",
    "\"\"\"\n",
    "import copy\n",
    "class Solution(object):\n",
    "    \"\"\"\n",
    "    @param root: The root of the binary search tree.\n",
    "    @param A and B: two nodes in a Binary.\n",
    "    @return: Return the least common ancestor(LCA) of the two nodes.\n",
    "    \"\"\" \n",
    "    a = 1\n",
    "    def lowestCommonAncestor(self, root, A, B):\n",
    "        path1 = []\n",
    "        path2 = []\n",
    "        if not self.findPath(root, path1, A.val) \\\n",
    "           or not self.findPath(root, path2, B.val):\n",
    "               return -1\n",
    "        i = 0\n",
    "        while i < min(len(path1), len(path2)):\n",
    "            if path1[i] != path2[i]:\n",
    "                break\n",
    "            i = i + 1\n",
    "        return path1[i-1]\n",
    "        \n",
    "    def findPath(self, root, path, val):\n",
    "        if root is None:\n",
    "            return False\n",
    "        path.append(root)\n",
    "        if root.val == val:\n",
    "            return True\n",
    "        if self.findPath(root.left, path, val):\n",
    "            return True\n",
    "        if self.findPath(root.right, path, val):\n",
    "            return True\n",
    "        path.pop()\n",
    "        return False\n"
   ]
  },
  {
   "cell_type": "markdown",
   "metadata": {
    "colab_type": "text",
    "id": "BVbcBdewmdAj"
   },
   "source": [
    "### 474. Lowest Common Ancestor II\n",
    "Given the root and two nodes in a Binary Tree. Find the lowest common ancestor(LCA) of the two nodes.\n",
    "\n",
    "The lowest common ancestor is the node with largest depth which is the ancestor of both nodes.\n",
    "\n",
    "The node has an extra attribute parent which point to the father of itself. The root's parent is null.\n",
    "```\n",
    "Example\n",
    "For the following binary tree:\n",
    "\n",
    "  4\n",
    " / \\\n",
    "3   7\n",
    "   / \\\n",
    "  5   6\n",
    "LCA(3, 5) = 4\n",
    "\n",
    "LCA(5, 6) = 7\n",
    "\n",
    "LCA(6, 7) = 7\n",
    "```"
   ]
  },
  {
   "cell_type": "code",
   "execution_count": null,
   "metadata": {
    "colab": {},
    "colab_type": "code",
    "id": "JBB8qsIQmhyv"
   },
   "outputs": [],
   "source": [
    "\"\"\"\n",
    "Definition of ParentTreeNode:\n",
    "class ParentTreeNode:\n",
    "    def __init__(self, val):\n",
    "        self.val = val\n",
    "        self.parent, self.left, self.right = None, None, None\n",
    "\"\"\"\n",
    "\n",
    "\n",
    "class Solution:\n",
    "    \"\"\"\n",
    "    @param: root: The root of the tree\n",
    "    @param: A: node in the tree\n",
    "    @param: B: node in the tree\n",
    "    @return: The lowest common ancestor of A and B\n",
    "    \"\"\"\n",
    "    def lowestCommonAncestorII(self, root, A, B):\n",
    "        countA, countB = 0, 0\n",
    "        pa, pb = A, B\n",
    "        \n",
    "        while pa != root:\n",
    "            pa = pa.parent\n",
    "            countA += 1\n",
    "        while pb != root:\n",
    "            pb = pb.parent\n",
    "            countB += 1\n",
    "        \n",
    "        pa, pb = A, B\n",
    "        if countA < countB:\n",
    "            countA, countB = countB, countA\n",
    "            pa, pb = pb, pa\n",
    "        \n",
    "        while countA > countB:\n",
    "            pa = pa.parent\n",
    "            countA -= 1\n",
    "        \n",
    "        while pa != pb:\n",
    "            pa = pa.parent \n",
    "            pb = pb.parent\n",
    "        \n",
    "        return pa\n"
   ]
  },
  {
   "cell_type": "markdown",
   "metadata": {
    "colab_type": "text",
    "id": "Aeqi4Ap4JgRe"
   },
   "source": [
    "### 578. Lowest Common Ancestor III\n",
    "Given the root and two nodes in a Binary Tree. Find the lowest common ancestor(LCA) of the two nodes.\n",
    "The lowest common ancestor is the node with largest depth which is the ancestor of both nodes.\n",
    "Return null if LCA does not exist.\n",
    "```\n",
    "Example\n",
    "For the following binary tree:\n",
    "\n",
    "  4\n",
    " / \\\n",
    "3   7\n",
    "   / \\\n",
    "  5   6\n",
    "LCA(3, 5) = 4\n",
    "\n",
    "LCA(5, 6) = 7\n",
    "\n",
    "LCA(6, 7) = 7\n",
    "```"
   ]
  },
  {
   "cell_type": "code",
   "execution_count": null,
   "metadata": {
    "colab": {},
    "colab_type": "code",
    "id": "NJ52NizjKdZZ"
   },
   "outputs": [],
   "source": [
    "\"\"\"\n",
    "Definition of TreeNode:\n",
    "class TreeNode:\n",
    "    def __init__(self, val):\n",
    "        this.val = val\n",
    "        this.left, this.right = None, None\n",
    "\"\"\"\n",
    "\n",
    "\n",
    "class Solution(object):\n",
    "    \"\"\"\n",
    "    @param root: The root of the binary search tree.\n",
    "    @param A and B: two nodes in a Binary.\n",
    "    @return: Return the least common ancestor(LCA) of the two nodes.\n",
    "    \"\"\" \n",
    "    a = 1\n",
    "    def lowestCommonAncestor3(self, root, A, B):\n",
    "        path1 = []\n",
    "        path2 = []\n",
    "        if not self.findPath(root, path1, A.val) \\\n",
    "           or not self.findPath(root, path2, B.val):\n",
    "               return None\n",
    "        i = 0\n",
    "        while i < min(len(path1), len(path2)):\n",
    "            if path1[i] != path2[i]:\n",
    "                break\n",
    "            i = i + 1\n",
    "        return path1[i-1]\n",
    "        \n",
    "    def findPath(self, root, path, val):\n",
    "        if root is None:\n",
    "            return False\n",
    "        path.append(root)\n",
    "        if root.val == val:\n",
    "            return True\n",
    "        if self.findPath(root.left, path, val):\n",
    "            return True\n",
    "        if self.findPath(root.right, path, val):\n",
    "            return True\n",
    "        path.pop()\n",
    "        return False\n",
    "        \n",
    "if __name__ == \"__main__\":\n",
    "    s = TreeNode\n",
    "    root = s.deserialize(\"{1,#,2,#,3,#,4,#,5}\")"
   ]
  },
  {
   "cell_type": "markdown",
   "metadata": {
    "colab_type": "text",
    "id": "4W9RR1kkOFp5"
   },
   "source": [
    "### Nodes distance in binary Tree"
   ]
  },
  {
   "cell_type": "code",
   "execution_count": null,
   "metadata": {
    "colab": {},
    "colab_type": "code",
    "id": "XKBfg5RyOLEY"
   },
   "outputs": [],
   "source": [
    "class Solution(object):\n",
    "    \"\"\"\n",
    "    @param root: The root of the binary search tree.\n",
    "    @param A and B: two nodes in a Binary.\n",
    "    @return: Return the least common ancestor(LCA) of the two nodes.\n",
    "    \"\"\" \n",
    "    a = 1\n",
    "    def nodesDis(self, root, A, B):\n",
    "        path1 = []\n",
    "        path2 = []\n",
    "        if not self.findPath(root, path1, A.val) \\\n",
    "           or not self.findPath(root, path2, B.val):\n",
    "               return None\n",
    "        i = 0\n",
    "        while i < min(len(path1), len(path2)):\n",
    "            if path1[i] != path2[i]:\n",
    "                break\n",
    "            i = i + 1\n",
    "            \n",
    "        return len(path1) + len(path2) - 2 * (i - 1)\n",
    "        \n",
    "        \n",
    "    def findPath(self, root, path, val):\n",
    "        if root is None:\n",
    "            return False\n",
    "        path.append(root)\n",
    "        if root.val == val:\n",
    "            return True\n",
    "        if self.findPath(root.left, path, val):\n",
    "            return True\n",
    "        if self.findPath(root.right, path, val):\n",
    "            return True\n",
    "        path.pop()\n",
    "        return False\n",
    "    \n",
    "    \n",
    "    "
   ]
  },
  {
   "cell_type": "markdown",
   "metadata": {
    "colab_type": "text",
    "id": "NCTYb7YSlrl8"
   },
   "source": [
    "## Balanced Tree\n",
    "\n",
    "\n",
    "```\n",
    "\n",
    "定义\n",
    "平衡二叉树（Balanced Binary Tree，又称为AVL树，有别于AVL算法）是二叉树中的一种特殊的形态。二叉树当且仅当满足如下两个条件之一，是平衡二叉树：\n",
    "\n",
    "空树。\n",
    "左右子树高度差绝对值不超过1且左右子树都是平衡二叉树。\n",
    "图片\n",
    "\n",
    "如图（图片来自网络），节点旁边的数字表示左右两子树高度差。(a)是AVL树，(b)不是，(b)中5节点不满足AVL树，故4节点，3节点都不再是AVL树。\n",
    "\n",
    "AVL树的高度为 O(logN)O(logN)\n",
    "当AVL树有N个节点时，高度为O(logN)O(logN)。为何？\n",
    "试想一棵满二叉树，每个节点左右子树高度相同，随着树高的增加，叶子容量指数暴增，故树高一定是O(logN)O(logN)。而相比于满二叉树，AVL树仅放宽一个条件，允许左右两子树高度差1，当树高足够大时，可以把1忽略。如图是高度为9的最小AVL树，若节点更少，树高绝不会超过8，也即为何AVL树高会被限制到O(logN)O(logN)，因为树不可能太稀疏。严格的数学证明复杂,略去。\n",
    "```\n",
    " ![alt text](http://media.jiuzhang.com/markdown/images/3/13/36c0bebe-2685-11e8-b3fe-0242ac110002.jpg)\n",
    "```\n",
    "为何普通二叉树不是O(logN)O(logN)？这里给出最坏的单枝树，若单枝扩展，则树高为O(N)O(N)：\n",
    "图片\n",
    "\n",
    "AVL树有什么用？\n",
    "若二叉搜索树是AVL树，则最大作用是保证查找的最坏时间复杂度为O(logN)。而且较浅的树对插入和删除等操作也更快。\n",
    "\n",
    "AVL树的相关练习题\n",
    "判断一棵树是否为平衡树\n",
    "http://www.lintcode.com/problem/balanced-binary-tree/\n",
    "提示：可以自下而上递归判断每个节点是否平衡。若平衡将当前节点高度返回，供父节点判断;否则该树一定不平衡。\n",
    "\n",
    "```"
   ]
  },
  {
   "cell_type": "markdown",
   "metadata": {
    "colab_type": "text",
    "id": "grmoQ1A_4R3I"
   },
   "source": [
    "### 93. Valid Balanced Binary Tree\n",
    "Given a binary tree, determine if it is height-balanced.\n",
    "\n",
    "For this problem, a height-balanced binary tree is defined as a binary tree in which the depth of the two subtrees of every node never differ by more than 1.\n",
    "```\n",
    "Example\n",
    "Given binary tree A = {3,9,20,#,#,15,7}, B = {3,#,20,15,7}\n",
    "\n",
    "A)  3            B)    3 \n",
    "   / \\                  \\\n",
    "  9  20                 20\n",
    "    /  \\                / \\\n",
    "   15   7              15  7\n",
    "The binary tree A is a height-balanced binary tree, but B is not.\n",
    "```"
   ]
  },
  {
   "cell_type": "code",
   "execution_count": null,
   "metadata": {
    "colab": {},
    "colab_type": "code",
    "id": "ZzPTMB5P4c-W"
   },
   "outputs": [],
   "source": [
    "\"\"\"\n",
    "Definition of TreeNode:\n",
    "class TreeNode:\n",
    "    def __init__(self, val):\n",
    "        self.val = val\n",
    "        self.left, self.right = None, None\n",
    "\"\"\"\n",
    "class ResultType:\n",
    "    def __init__(self, isBalanced, maxDepth):\n",
    "        self.isBalanced = isBalanced\n",
    "        self.maxDepth = maxDepth\n",
    "\n",
    "class Solution:\n",
    "    \"\"\"\n",
    "    @param root: The root of binary tree.\n",
    "    @return: True if this Binary tree is Balanced, or false.\n",
    "    \"\"\"\n",
    "\n",
    "    def isBalanced(self, root):\n",
    "        return self.validate(root).isBalanced\n",
    "\n",
    "    def validate(self, root):\n",
    "        if root is None:\n",
    "            return ResultType(True, 0)\n",
    "\n",
    "        left = self.validate(root.left)\n",
    "        right = self.validate(root.right)\n",
    "\n",
    "        # subtree not balance\n",
    "        if (not left.isBalanced) or (not right.isBalanced):\n",
    "            return ResultType(False, -1)\n",
    "\n",
    "        # root not balance\n",
    "        if abs(left.maxDepth - right.maxDepth) > 1:\n",
    "            return ResultType(False, -1)\n",
    "\n",
    "        return ResultType(True, max(left.maxDepth, right.maxDepth) + 1)"
   ]
  },
  {
   "cell_type": "markdown",
   "metadata": {
    "colab_type": "text",
    "id": "UoTil3FPl4zH"
   },
   "source": [
    "## Binary Search Tree"
   ]
  },
  {
   "cell_type": "markdown",
   "metadata": {
    "colab_type": "text",
    "id": "EMXd8LXDBtXS"
   },
   "source": [
    "### 95. Validate Binary Search Tree\n",
    "Given a binary tree, determine if it is a valid binary search tree (BST).\n",
    "\n",
    "Assume a BST is defined as follows:\n",
    "\n",
    "The left subtree of a node contains only nodes with keys less than the node's key.\n",
    "The right subtree of a node contains only nodes with keys greater than the node's key.\n",
    "Both the left and right subtrees must also be binary search trees.\n",
    "A single node tree is a BST\n",
    "```\n",
    "Example\n",
    "An example:\n",
    "\n",
    "  2\n",
    " / \\\n",
    "1   4\n",
    "   / \\\n",
    "  3   5\n",
    "The above binary tree is serialized as {2,1,4,#,#,3,5} (in level order).\n",
    "```\n",
    "\n",
    "Solution: **just need to use in-order traverse and see if it is sorted number, that's it.**"
   ]
  },
  {
   "cell_type": "code",
   "execution_count": null,
   "metadata": {
    "colab": {
     "base_uri": "https://localhost:8080/",
     "height": 35
    },
    "colab_type": "code",
    "id": "etpMgH9qL3R7",
    "outputId": "d4165df1-c04f-49f7-a24a-0fd9b445d5d7"
   },
   "outputs": [
    {
     "name": "stdout",
     "output_type": "stream",
     "text": [
      "True\n"
     ]
    }
   ],
   "source": [
    "class Solution:\n",
    "    \"\"\"\n",
    "    @param root: The root of binary tree.\n",
    "    @return: True if the binary tree is BST, or false\n",
    "    \"\"\"  \n",
    "    def isValidBST(self, root):\n",
    "        self.lastVal = - 2**32 \n",
    "        self.isBST = True\n",
    "        self.valid(root)\n",
    "        return self.isBST\n",
    "    \n",
    "    def valid(self, node): # in-order traversal\n",
    "        if node is None:\n",
    "            return\n",
    "        \n",
    "        self.valid(node.left)\n",
    "        if self.lastVal >= node.val:\n",
    "            self.isBST = None\n",
    "            return\n",
    "        self.lastVal = node.val\n",
    "        self.valid(node.right)\n",
    "        \n",
    "\n",
    "if __name__ == \"__main__\":\n",
    "    s = Solution()\n",
    "    root = TreeNode('{1,2,3,4,5}')\n",
    "    print(s.isValidBST(root))"
   ]
  },
  {
   "cell_type": "markdown",
   "metadata": {
    "colab_type": "text",
    "id": "DaCsnqYU4kKL"
   },
   "source": [
    "### 900. Closest Binary Search Tree Value\n",
    "Given a non-empty binary search tree and a target value, find the value in the BST that is closest to the target.\n",
    "```\n",
    "Example\n",
    "Given root = {1}, target = 4.428571, return 1.\n",
    "```"
   ]
  },
  {
   "cell_type": "code",
   "execution_count": null,
   "metadata": {
    "colab": {},
    "colab_type": "code",
    "id": "UYSIyjW2l3jP"
   },
   "outputs": [],
   "source": [
    "class Solution:\n",
    "    \"\"\"\n",
    "    @param root: the given BST\n",
    "    @param target: the given target\n",
    "    @return: the value in the BST that is closest to the target\n",
    "    \"\"\"\n",
    "\n",
    "    def closestValue(self, root, target):\n",
    "        if root is None:\n",
    "            return None\n",
    "        import sys\n",
    "        self.upper =  sys.maxsize \n",
    "        self.lower = -sys.maxsize\n",
    "\n",
    "        \n",
    "        def dfs_up(node):# minimal node larger than target\n",
    "            if node is None:\n",
    "                return\n",
    "            if target == node.val:\n",
    "                self.upper = node.val\n",
    "            elif target > node.val:\n",
    "                dfs_up(node.right)\n",
    "            else:# target < node.val\n",
    "#                print (\"upper debug: node.val \", node.val)\n",
    "                if node.val < self.upper:\n",
    "                    self.upper = node.val\n",
    "                dfs_up(node.left)\n",
    "        \n",
    "        def dfs_down(node):# max node smaller than target\n",
    "            if node is None:\n",
    "                return\n",
    "            if target == node.val:\n",
    "                self.lower = node.val\n",
    "                return\n",
    "            elif target > node.val:\n",
    "                if self.lower < node.val:\n",
    "                    self.lower = node.val\n",
    "                dfs_down(node.right)\n",
    "            else:# target < node.val\n",
    "                dfs_down(node.left)\n",
    "        \n",
    "        dfs_down(root)\n",
    "        dfs_up(root)\n",
    "        \n",
    "#        print (self.upper)\n",
    "#        print (self.lower)\n",
    "        \n",
    "        if target - self.lower > self.upper - target:\n",
    "            return self.upper\n",
    "        else:\n",
    "            return self.lower"
   ]
  },
  {
   "cell_type": "markdown",
   "metadata": {
    "colab_type": "text",
    "id": "VIZWbGRmD-dQ"
   },
   "source": [
    "### 915. Inorder Predecessor in BST\n",
    "Given a binary search tree and a node in it, find the in-order predecessor of that node in the BST.\n",
    "```\n",
    "Example\n",
    "Given root = {2,1,3}, p = 1, return null.\n",
    "```\n",
    "Notes:\n",
    "* find the upper limit < p.val"
   ]
  },
  {
   "cell_type": "code",
   "execution_count": null,
   "metadata": {
    "colab": {
     "base_uri": "https://localhost:8080/",
     "height": 35
    },
    "colab_type": "code",
    "id": "iOgEjO7tEBip",
    "outputId": "07dc243f-4a95-4d6d-82ef-89e8a91208a3"
   },
   "outputs": [
    {
     "name": "stdout",
     "output_type": "stream",
     "text": [
      "None\n"
     ]
    }
   ],
   "source": [
    "\"\"\"\n",
    "Definition of TreeNode:\n",
    "class TreeNode:\n",
    "    def __init__(self, val):\n",
    "        self.val = val\n",
    "        self.left, self.right = None, None\n",
    "\"\"\"\n",
    "\n",
    "class Solution:\n",
    "    \"\"\"\n",
    "    @param root: the given BST\n",
    "    @param p: the given node\n",
    "    @return: the in-order successor of the given node in the BST\n",
    "    \"\"\"\n",
    "    def inorderPredecessor(self, root, p): # find the upper limit < p.val\n",
    "        predecessor = None\n",
    "        while root:\n",
    "            if root.val >= p.val:\n",
    "                root = root.left\n",
    "            else:\n",
    "                predecessor = root\n",
    "                root = root.right\n",
    "        return predecessor\n",
    "    \n",
    "\n",
    "if __name__ == \"__main__\":\n",
    "    root = s.deserialize(\"{2,1,3}\")\n",
    "    S = Solution()\n",
    "    print S.inorderPredecessor(root, TreeNode(1))"
   ]
  },
  {
   "cell_type": "markdown",
   "metadata": {
    "colab_type": "text",
    "id": "dT24iq5cJWS4"
   },
   "source": [
    "### 448. Inorder Successor in BST\n",
    "Given a binary search tree (See Definition) and a node in it, find the in-order successor of that node in the BST.\n",
    "\n",
    "If the given node has no in-order successor in the tree, return null.\n",
    "```\n",
    "Example\n",
    "Given tree = [2,1] and node = 1:\n",
    "\n",
    "  2\n",
    " /\n",
    "1\n",
    "return node 2.\n",
    "\n",
    "Given tree = [2,1,3] and node = 2:\n",
    "\n",
    "  2\n",
    " / \\\n",
    "1   3\n",
    "return node 3.\n",
    "\n",
    "Challenge\n",
    "O(h), where h is the height of the BST.\n",
    "```\n",
    "\n",
    "Notes:\n",
    "*   find the lower limit > p.val "
   ]
  },
  {
   "cell_type": "code",
   "execution_count": null,
   "metadata": {
    "colab": {
     "base_uri": "https://localhost:8080/",
     "height": 35
    },
    "colab_type": "code",
    "id": "dWZwFQ48EBwz",
    "outputId": "b820e33b-cc52-4d7d-b2f6-8d0baa1cdff6"
   },
   "outputs": [
    {
     "name": "stdout",
     "output_type": "stream",
     "text": [
      "2\n"
     ]
    }
   ],
   "source": [
    "class Solution:\n",
    "    \"\"\"\n",
    "    @param root: the given BST\n",
    "    @param p: the given node\n",
    "    @return: the in-order successor of the given node in the BST\n",
    "    \"\"\"\n",
    "    def inorderSuccessor(self, root, p): # find the lower limit > p.val \n",
    "        successor = None\n",
    "        while root:\n",
    "            if root.val <= p.val:\n",
    "                root = root.right\n",
    "            else:\n",
    "                successor = root\n",
    "                root = root.left\n",
    "        return successor\n",
    "    \n",
    "    \n",
    "if __name__ == \"__main__\":\n",
    "    root = s.deserialize(\"{2,1,3}\")\n",
    "    S = Solution()\n",
    "    print S.inorderSuccessor(root, TreeNode(1)).val"
   ]
  },
  {
   "cell_type": "markdown",
   "metadata": {
    "colab_type": "text",
    "id": "6gF4aSEvY1bC"
   },
   "source": [
    "## Segment Tree "
   ]
  },
  {
   "cell_type": "markdown",
   "metadata": {
    "colab_type": "text",
    "id": "O38daaBzY83_"
   },
   "source": [
    "### 201. Segment Tree Build\n",
    "The structure of Segment Tree is a binary tree which each node has two attributes start and end denote an segment / interval.\n",
    "\n",
    "start and end are both integers, they should be assigned in following rules:\n",
    "\n",
    "The root's start and end is given by build method.\n",
    "The left child of node A has start=A.left, end=(A.left + A.right) / 2.\n",
    "The right child of node A has start=(A.left + A.right) / 2 + 1, end=A.right.\n",
    "if start equals to end, there will be no children for this node.\n",
    "Implement a build method with two parameters start and end, so that we can create a corresponding segment tree with every node has the correct start and end value, return the root of this segment tree.\n",
    "```\n",
    "Example\n",
    "Given start=0, end=3. The segment tree will be:\n",
    "\n",
    "               [0,  3]\n",
    "             /        \\\n",
    "      [0,  1]           [2, 3]\n",
    "      /     \\           /     \\\n",
    "   [0, 0]  [1, 1]     [2, 2]  [3, 3]\n",
    "Given start=1, end=6. The segment tree will be:\n",
    "\n",
    "               [1,  6]\n",
    "             /        \\\n",
    "      [1,  3]           [4,  6]\n",
    "      /     \\           /     \\\n",
    "   [1, 2]  [3,3]     [4, 5]   [6,6]\n",
    "   /    \\           /     \\\n",
    "[1,1]   [2,2]     [4,4]   [5,5]\n",
    "Clarification\n",
    "Segment Tree (a.k.a Interval Tree) is an advanced data structure which can support queries like:\n",
    "\n",
    "which of these intervals contain a given point\n",
    "which of these points are in a given interval\n",
    "See wiki:\n",
    "Segment Tree\n",
    "Interval Tree\n",
    "```"
   ]
  },
  {
   "cell_type": "code",
   "execution_count": null,
   "metadata": {
    "colab": {},
    "colab_type": "code",
    "id": "Ng4kuNeyY4-X"
   },
   "outputs": [],
   "source": [
    "\n",
    "class SegmentTreeNode:\n",
    "    def __init__(self, start, end):\n",
    "        self.start, self.end = start, end\n",
    "        self.left, self.right = None, None\n",
    "\n",
    "class Solution:\n",
    "    \"\"\"\n",
    "    @param: start: start value.\n",
    "    @param: end: end value.\n",
    "    @return: The root of Segment Tree.\n",
    "    \"\"\"\n",
    "    def build(self, start, end):\n",
    "        if start > end:\n",
    "            return None\n",
    "        # build root\n",
    "        root = SegmentTreeNode(start, end) \n",
    "        \n",
    "        mid = (start + end) / 2 \n",
    "        \n",
    "        if start != end:\n",
    "            root.left = self.build(start, mid)\n",
    "            root.right = self.build(mid+1, end)\n",
    "        \n",
    "        return root"
   ]
  },
  {
   "cell_type": "markdown",
   "metadata": {
    "colab_type": "text",
    "id": "4CYD6y8Sz1R-"
   },
   "source": [
    "# Combination DFS"
   ]
  },
  {
   "cell_type": "markdown",
   "metadata": {
    "colab_type": "text",
    "id": "GghjvvBvUhe1"
   },
   "source": [
    "### Subsets I, II\n",
    "\n",
    "Given a list of numbers that may has duplicate numbers, return all possible subsets. \n",
    "\n",
    "Subset I does not have duplicate number version. \n",
    "\n",
    "```\n",
    "If S = [2,2,2], a solution is:\n",
    "\n",
    "[[[2], [2], [2]], [[2], [2,2]], [[2, 2, 2]]]\n",
    "\n",
    "```\n",
    "这道题是样板题，基于组合的DFS题目很多都可以用这道题的写法改过来，推荐使用下面第一个个模板，我测试过速度最快。可扩展性也最高。"
   ]
  },
  {
   "cell_type": "code",
   "execution_count": null,
   "metadata": {
    "colab": {
     "base_uri": "https://localhost:8080/",
     "height": 87
    },
    "colab_type": "code",
    "id": "7DHFkcg5UjpO",
    "outputId": "0382e88e-7a6a-4baf-8f51-6a5a2f18d928"
   },
   "outputs": [
    {
     "name": "stdout",
     "output_type": "stream",
     "text": [
      "dfs count: 8 [[], [1], [1, 2], [1, 2, 3], [1, 3], [2], [2, 3], [3]]\n",
      "dfs count: 6 [[], [1], [1, 2], [1, 2, 2], [2], [2, 2]]\n",
      "dfs count: 8 [[[1], [2], [3]], [[1], [2, 3]], [[1, 2], [3]], [[1, 2, 3]]]\n",
      "dfs count: 7 [[[2], [2], [2]], [[2], [2, 2]], [[2, 2, 2]]]\n"
     ]
    }
   ],
   "source": [
    "class Solution:\n",
    "    def subsets1(self, S):\n",
    "        res = []\n",
    "        self.count = 0 \n",
    "        def dfs(start_index, tmp):\n",
    "            self.count += 1 \n",
    "            res.append(tmp)\n",
    "            for i in range(start_index, len(S)):\n",
    "                \n",
    "                    dfs(i+1, tmp + [S[i]])\n",
    "        S.sort()    \n",
    "        dfs(0, [])\n",
    "        print 'dfs count:', self.count,\n",
    "        return res\n",
    "    \n",
    "    def subsets2(self, S):\n",
    "        res = []\n",
    "        self.count = 0\n",
    "        def dfs(start_index, tmp):\n",
    "            self.count += 1\n",
    "            \n",
    "            res.append(tmp)\n",
    "                \n",
    "            for i in range(start_index, len(S)):\n",
    "                if i == start_index or S[i-1] != S[i]: \n",
    "                    dfs(i+1, tmp + [S[i]])\n",
    "        S.sort()    \n",
    "        dfs(0, [])\n",
    "        print 'dfs count:', self.count,\n",
    "        return res\n",
    "       \n",
    "    def subsets3(self, S):\n",
    "        res = []\n",
    "        self.count = 0\n",
    "        def dfs(start_index, tmp):\n",
    "            self.count += 1\n",
    "            if start_index == len(S):\n",
    "                res.append(tmp)\n",
    "                \n",
    "            for i in range(start_index, len(S)):\n",
    "                dfs(i+1, tmp + [S[start_index:i+1]])\n",
    "        S.sort()    \n",
    "        dfs(0, [])\n",
    "        print 'dfs count:', self.count,\n",
    "        return res\n",
    "    \n",
    "    def subsets4(self, S):\n",
    "        res = []\n",
    "        split = [False for _ in range(len(S))]\n",
    "        split_num = {}\n",
    "        self.count = 0 \n",
    "        def dfs(start_index, tmp):\n",
    "            self.count += 1 \n",
    "            if start_index == len(S):\n",
    "                res.append(tmp)\n",
    "                return \n",
    "            for i in range(start_index,len(S)):\n",
    "                if (i >=2 and S[i-1] == S[i] and split[i-2] == False and split_num[S[i]] != False):\n",
    "                    continue\n",
    "                split[i] = True\n",
    "                if S[start_index] == S[i]:\n",
    "                    split_num[S[i]] = True\n",
    "                dfs(i + 1, tmp + [S[start_index:i+1]])\n",
    "                split_num[S[i]] = False\n",
    "                split[i] = False\n",
    "        S.sort()\n",
    "        dfs(0, [])\n",
    "        print 'dfs count:', self.count,\n",
    "        return res \n",
    "\n",
    "\n",
    "if __name__ == \"__main__\":\n",
    "    s = Solution()\n",
    "    print s.subsets1([1,2,3])\n",
    "    print s.subsets2([1,2,2])\n",
    "    print s.subsets3([1,2,3])\n",
    "    print s.subsets4([2,2,2])\n",
    "    "
   ]
  },
  {
   "cell_type": "markdown",
   "metadata": {
    "colab_type": "text",
    "id": "cYecwhZqnfFT"
   },
   "source": [
    "### 680. Split String\n",
    "Give a string, you can choose to split the string after one character or two adjacent characters, and make the string to be composed of only one character or two characters. Output all possible results.\n",
    "```\n",
    "Example\n",
    "Given the string \"123\"\n",
    "return [[\"1\",\"2\",\"3\"],[\"12\",\"3\"],[\"1\",\"23\"]]\n",
    "```"
   ]
  },
  {
   "cell_type": "code",
   "execution_count": null,
   "metadata": {
    "colab": {
     "base_uri": "https://localhost:8080/",
     "height": 35
    },
    "colab_type": "code",
    "id": "CgZprYxsnjxE",
    "outputId": "208eecf1-ab70-47d8-e48a-2ad026166557"
   },
   "outputs": [
    {
     "name": "stdout",
     "output_type": "stream",
     "text": [
      "[['1', '2', '3'], ['1', '23'], ['12', '3']]\n"
     ]
    }
   ],
   "source": [
    "class Solution:\n",
    "    \"\"\"\n",
    "    @param: : a string to be split\n",
    "    @return: all possible split string array\n",
    "    \"\"\"\n",
    "\n",
    "    def splitString(self, S):\n",
    "        if s is None:\n",
    "            return []\n",
    "            \n",
    "        res = []\n",
    "        # dfs helper to search solution for index + 1, index + 2\n",
    "        def dfs(start, tmp):\n",
    "            if start == len(S):\n",
    "                res.append(tmp)\n",
    "            end = min(start + 2, len(S))\n",
    "            for i in range(start, end):\n",
    "                dfs(i+1, tmp + [S[start:i+1]])\n",
    "                     \n",
    "        dfs(0, [])\n",
    "        return res\n",
    "    \n",
    "if __name__ == \"__main__\":\n",
    "    s = Solution()\n",
    "    print s.splitString('123')"
   ]
  },
  {
   "cell_type": "markdown",
   "metadata": {
    "colab_type": "text",
    "id": "TXIGRmIXsUNs"
   },
   "source": [
    "###  Split String II \n",
    "Give a string, you can choose to split the string after one character or any adjacent characters, and make the string to be composed of these characters. Output all possible results.\n",
    "```\n",
    "Example\n",
    "Given the string \"123\"\n",
    "return [['1', '2', '3'], ['1', '23'], ['12', '3'], ['123']]\n",
    "```"
   ]
  },
  {
   "cell_type": "code",
   "execution_count": null,
   "metadata": {
    "colab": {
     "base_uri": "https://localhost:8080/",
     "height": 35
    },
    "colab_type": "code",
    "id": "8w_tFPExsSZN",
    "outputId": "bffd314e-6210-4626-c058-01bbc8337c87"
   },
   "outputs": [
    {
     "name": "stdout",
     "output_type": "stream",
     "text": [
      "[['1', '2', '3'], ['1', '23'], ['12', '3'], ['123']]\n"
     ]
    }
   ],
   "source": [
    "class Solution:\n",
    "    \"\"\"\n",
    "    @param: : a string to be split\n",
    "    @return: all possible split string array\n",
    "    \"\"\"\n",
    "\n",
    "    def splitString2(self, S):\n",
    "        if s is None:\n",
    "            return []\n",
    "            \n",
    "        res = []\n",
    "        # dfs helper to search solution for index + 1, index + 2\n",
    "        def dfs(start, tmp):\n",
    "            if start == len(S):\n",
    "                res.append(tmp)\n",
    "            end = len(S)\n",
    "            for i in range(start, end):\n",
    "                dfs(i+1, tmp + [S[start:i+1]])\n",
    "                     \n",
    "        dfs(0, [])\n",
    "        return res\n",
    "    \n",
    "if __name__ == \"__main__\":\n",
    "    s = Solution()\n",
    "    print s.splitString2('123')"
   ]
  },
  {
   "cell_type": "markdown",
   "metadata": {
    "colab_type": "text",
    "id": "SPOGXuXnspJP"
   },
   "source": [
    "###  Split String III \n",
    "Give a string, you can choose to split the string after one character or any adjacent characters, and make the string to be composed of these characters. Output all possible results. String may contain duplicate numbers, reduce the duplicated results, keep them in lexicographically order.\n",
    "```\n",
    "Example\n",
    "Given the string \"222\"\n",
    "return [['2', '2', '2'], ['2', '22'], ['222']]\n",
    "```"
   ]
  },
  {
   "cell_type": "code",
   "execution_count": null,
   "metadata": {
    "colab": {
     "base_uri": "https://localhost:8080/",
     "height": 35
    },
    "colab_type": "code",
    "id": "03mstPYGtBdf",
    "outputId": "12f19ef1-1543-4a14-fc58-2a966da9883a"
   },
   "outputs": [
    {
     "name": "stdout",
     "output_type": "stream",
     "text": [
      "[['2', '2', '2'], ['2', '22'], ['222']]\n"
     ]
    }
   ],
   "source": [
    "class Solution:\n",
    "    \"\"\"\n",
    "    @param: : a string to be split\n",
    "    @return: all possible split string array\n",
    "    \"\"\"\n",
    "\n",
    "    def splitString3(self, S):\n",
    "        res = []\n",
    "        split = [False for _ in range(len(S))]\n",
    "        split_num = {}\n",
    "        \n",
    "        def dfs(start, tmp):\n",
    "            if start == len(S):\n",
    "                res.append(tmp)\n",
    "                return \n",
    "            for i in range(start,len(S)):\n",
    "                if (i >=2 and S[i-1] == S[i] and split[i-2] == False \n",
    "                    and split_num[S[i]] != False):\n",
    "                    continue\n",
    "                split[i] = True\n",
    "                if S[start] == S[i]:\n",
    "                    split_num[S[i]] = True\n",
    "                dfs(i + 1, tmp + [S[start:i+1]])\n",
    "                split_num[S[i]] = False\n",
    "                split[i] = False\n",
    "        \n",
    "        dfs(0, [])\n",
    "        return res \n",
    "    \n",
    "if __name__ == \"__main__\":\n",
    "    s = Solution()\n",
    "    print s.splitString3('222')"
   ]
  },
  {
   "cell_type": "markdown",
   "metadata": {
    "colab_type": "text",
    "id": "EEr0BExSn5Oy"
   },
   "source": [
    "### 196. Missing Number\n",
    "Given an array contains N numbers of 0 .. N, find which number doesn't exist in the array.\n",
    "```\n",
    "Example\n",
    "Given N = 3 and the array [0, 1, 3], return 2.\n",
    "\n",
    "Challenge\n",
    "Do it in-place with O(1) extra memory and O(n) time.\n",
    "```"
   ]
  },
  {
   "cell_type": "code",
   "execution_count": null,
   "metadata": {
    "colab": {},
    "colab_type": "code",
    "id": "5UrqcNjCoFrr"
   },
   "outputs": [],
   "source": [
    "class Solution:\n",
    "    \"\"\"\n",
    "    @param nums: An array of integers\n",
    "    @return: An integer\n",
    "    \"\"\"\n",
    "    def findMissing(self, nums):\n",
    "        n = len(nums)\n",
    "        cum1 = (n+1) * n / 2 \n",
    "        cum2 = sum(nums)\n",
    "        \n",
    "        return cum1 - cum2"
   ]
  },
  {
   "cell_type": "markdown",
   "metadata": {
    "colab_type": "text",
    "id": "Ga123hi1oHCr"
   },
   "source": [
    "### 570. Missing Number II\n",
    "Giving a string with number from 1-n in random order, but miss 1 number.Find that number.\n",
    "```\n",
    "Example\n",
    "Given n = 20, str = 19201234567891011121314151618\n",
    "\n",
    "return 17\n",
    "```"
   ]
  },
  {
   "cell_type": "code",
   "execution_count": null,
   "metadata": {
    "colab": {
     "base_uri": "https://localhost:8080/",
     "height": 35
    },
    "colab_type": "code",
    "id": "WmXTDGwmeFMQ",
    "outputId": "f55e2b24-bf1e-4b14-bc2f-245e9968ad65"
   },
   "outputs": [
    {
     "name": "stdout",
     "output_type": "stream",
     "text": [
      "17\n"
     ]
    }
   ],
   "source": [
    "class Solution(object):\n",
    "    \n",
    "    def findMissing2(self, n, numstr):\n",
    "        used = [0 for i in range(n+1)]\n",
    "        \n",
    "        def helper(start):\n",
    "            \n",
    "            if start == len(numstr):\n",
    "                res = []\n",
    "                for i in range(1, n+1):\n",
    "                    if not used[i]:\n",
    "                        res.append(i)\n",
    "                return res[0] if len(res) == 1 else -1\n",
    "            \n",
    "            if numstr[start] == '0':\n",
    "                    return -1\n",
    "            \n",
    "            for i in range(1,3):\n",
    "                num = numstr[start:start+i]\n",
    "                num = int(num)\n",
    "                if 1 <= num <= n and not used[num]:\n",
    "                    used[num] = 1\n",
    "                    target = helper(start+i)\n",
    "                    if target != -1:\n",
    "                        return target\n",
    "                    used[num] = 0\n",
    "            return -1 \n",
    "        \n",
    "        return helper(0)\n",
    "if __name__ == \"__main__\":\n",
    "    s = Solution()\n",
    "    print s.findMissing2(20, '19201234567891011121314151618')"
   ]
  },
  {
   "cell_type": "markdown",
   "metadata": {
    "colab_type": "text",
    "id": "9v1gITbqoUTs"
   },
   "source": [
    "### 135. Combination Sum\n",
    "Given a set of candidate numbers (C) and a target number (T), find all unique combinations in C where the candidate numbers sums to T.\n",
    "\n",
    "The same repeated number may be chosen from C unlimited number of times.\n",
    "```\n",
    "Example\n",
    "Given candidate set [2,3,6,7] and target 7, a solution set is:\n",
    "\n",
    "[7]\n",
    "[2, 2, 3]\n",
    "```"
   ]
  },
  {
   "cell_type": "code",
   "execution_count": null,
   "metadata": {
    "colab": {
     "base_uri": "https://localhost:8080/",
     "height": 35
    },
    "colab_type": "code",
    "id": "ajqEjoeSoTz8",
    "outputId": "3be349f2-e617-4f4b-9461-177ff60ec7d8"
   },
   "outputs": [
    {
     "name": "stdout",
     "output_type": "stream",
     "text": [
      "[[2, 2, 3], [7]]\n"
     ]
    }
   ],
   "source": [
    "class Solution(object):\n",
    "    def combinationSum(self, nums, target):\n",
    "        nums = list(set(nums))\n",
    "        nums.sort()\n",
    "        res = []\n",
    "        def dfs(start, tmp, target):\n",
    "            if 0 == target:\n",
    "                res.append(tmp)\n",
    "                return\n",
    "            for i in range(start, len(nums)):\n",
    "                if nums[i] > target:\n",
    "                    return\n",
    "                dfs(i, tmp + [nums[i]], target - nums[i])\n",
    "\n",
    "        dfs(0, [], target)\n",
    "        return res\n",
    "\n",
    "if __name__ == \"__main__\":\n",
    "    s = Solution()\n",
    "    print s.combinationSum([2,3,6,7], 7)\n",
    "\n",
    "\n"
   ]
  },
  {
   "cell_type": "markdown",
   "metadata": {
    "colab_type": "text",
    "id": "ykV3kVbb15Rv"
   },
   "source": [
    "### 153. Combination Sum II\n",
    "Given a collection of candidate numbers (C) and a target number (T), find all unique combinations in C where the candidate numbers sums to T.\n",
    "\n",
    "Each number in C may only be used once in the combination.\n",
    "```\n",
    "Example\n",
    "Given candidate set [10,1,6,7,2,1,5] and target 8,\n",
    "\n",
    "A solution set is:\n",
    "\n",
    "[\n",
    "  [1,7],\n",
    "  [1,2,5],\n",
    "  [2,6],\n",
    "  [1,1,6]\n",
    "]\n",
    "```"
   ]
  },
  {
   "cell_type": "code",
   "execution_count": null,
   "metadata": {
    "colab": {
     "base_uri": "https://localhost:8080/",
     "height": 35
    },
    "colab_type": "code",
    "id": "l_Kh_m7Ajuh3",
    "outputId": "6521318a-bc5b-4207-da95-76f0dbf3a9d8"
   },
   "outputs": [
    {
     "name": "stdout",
     "output_type": "stream",
     "text": [
      "[[1, 1, 6], [1, 2, 5], [1, 7], [2, 6]]\n"
     ]
    }
   ],
   "source": [
    "class Solution:\n",
    "    \"\"\"\n",
    "    @param num: Given the candidate numbers\n",
    "    @param target: Given the target number\n",
    "    @return: All the combinations that sum to target\n",
    "    \"\"\"\n",
    "    def combinationSum2(self, can, target):\n",
    "        can.sort()\n",
    "        ans = []\n",
    "        use = [False] * len(can)\n",
    "        \n",
    "        def dfs(index, tmp, use, ans):\n",
    "            if sum(tmp) == target:\n",
    "                ans.append(tmp)\n",
    "                return\n",
    "            for i in range(index, len(can)):\n",
    "                if sum(tmp) + can[i] <= target and (i == index or can[i] != can[i-1] or use[i-1]):\n",
    "                    use[i] = True\n",
    "                    dfs(i+1, tmp + [can[i]], use, ans)\n",
    "                    use[i] = False\n",
    "        \n",
    "        dfs(0, [], use, ans)\n",
    "        return ans\n",
    "if __name__ == \"__main__\":\n",
    "    s = Solution()\n",
    "    print(s.combinationSum2([7,1,2,5,1,6,10], 8))"
   ]
  },
  {
   "cell_type": "markdown",
   "metadata": {
    "colab_type": "text",
    "id": "IARiO17Ogb61"
   },
   "source": [
    "\n",
    "\n",
    "*  不用used记录，似乎也可以，这个怎么做到的呢？"
   ]
  },
  {
   "cell_type": "code",
   "execution_count": null,
   "metadata": {
    "colab": {
     "base_uri": "https://localhost:8080/",
     "height": 35
    },
    "colab_type": "code",
    "id": "1s734S4Yc7W4",
    "outputId": "357522d7-f0b6-4fad-ac41-cd111aeaf1fc"
   },
   "outputs": [
    {
     "name": "stdout",
     "output_type": "stream",
     "text": [
      "[[1, 1, 2, 2, 2], [1, 1, 6], [1, 2, 5], [1, 7], [2, 6]]\n"
     ]
    }
   ],
   "source": [
    "class Solution:\n",
    "    \"\"\"\n",
    "    @param num: Given the candidate numbers\n",
    "    @param target: Given the target number\n",
    "    @return: All the combinations that sum to target\n",
    "    \"\"\"\n",
    "    def combinationSum2(self, nums, target):\n",
    "        nums.sort()\n",
    "        ret = []\n",
    "        def dfs(start, tmp, target):\n",
    "            if 0 == target:\n",
    "                ret.append(tmp)\n",
    "                return\n",
    "            for i in range(start, len(nums)):\n",
    "                if nums[i] > target:\n",
    "                    return\n",
    "                # nums[i] <= target:\n",
    "                if i == start or nums[i] != nums[i-1]:\n",
    "                    dfs(i+1, tmp + [nums[i]], target - nums[i])\n",
    "        \n",
    "        dfs(0, [], target)\n",
    "        return ret\n",
    "    \n",
    "if __name__ == \"__main__\":\n",
    "    s = Solution()\n",
    "    print(s.combinationSum2([7,1,2,2,2,5,1,6,10], 8))\n"
   ]
  },
  {
   "cell_type": "markdown",
   "metadata": {
    "colab_type": "text",
    "id": "-dN2bTJz2BS4"
   },
   "source": [
    "### 152. Combinations\n",
    "Given two integers n and k, return all possible combinations of k numbers out of 1 ... n.\n",
    "```\n",
    "Example\n",
    "Given n = 4 and k = 2, a solution is:\n",
    "\n",
    "[\n",
    "  [2,4],\n",
    "  [3,4],\n",
    "  [2,3],\n",
    "  [1,2],\n",
    "  [1,3],\n",
    "  [1,4]\n",
    "]\n",
    "```"
   ]
  },
  {
   "cell_type": "code",
   "execution_count": null,
   "metadata": {
    "colab": {},
    "colab_type": "code",
    "id": "vzUEniZy2GUc"
   },
   "outputs": [],
   "source": [
    "class Solution:\n",
    "    \"\"\"\n",
    "    @param n: Given the range of numbers\n",
    "    @param k: Given the numbers of combinations\n",
    "    @return: All the combinations of k numbers out of 1..n\n",
    "    \"\"\"\n",
    "    def combine(self, n, k):\n",
    "        if k == 0 or n == 0:\n",
    "            return []\n",
    "        S = range(1, n+1)\n",
    "        res = []\n",
    "        \n",
    "        def dfs(tmp, index): #conbination.\n",
    "            if len(tmp) == k:\n",
    "                res.append(tmp)\n",
    "                return \n",
    "            if index == len(S):\n",
    "                return\n",
    "            dfs(tmp + [S[index]], index + 1)\n",
    "            dfs(tmp, index + 1)\n",
    "        \n",
    "        dfs([], 0)\n",
    "   \n",
    "        return res"
   ]
  },
  {
   "cell_type": "markdown",
   "metadata": {
    "colab_type": "text",
    "id": "zqt3dIWp2QmP"
   },
   "source": [
    "### 136. Palindrome Partitioning\n",
    "Given a string s, partition s such that every substring of the partition is a palindrome.\n",
    "\n",
    "Return all possible palindrome partitioning of s.\n",
    "```\n",
    "Example\n",
    "Given s = \"aab\", return:\n",
    "\n",
    "[\n",
    "  [\"aa\",\"b\"],\n",
    "  [\"a\",\"a\",\"b\"]\n",
    "]\n",
    "```"
   ]
  },
  {
   "cell_type": "code",
   "execution_count": null,
   "metadata": {
    "colab": {},
    "colab_type": "code",
    "id": "U2P9wZaB2Sfn"
   },
   "outputs": [],
   "source": [
    "class Solution:\n",
    "    \"\"\"\n",
    "    @param: s: A string\n",
    "    @return: A list of lists of string\n",
    "    \"\"\"\n",
    "    def partition(self, S):\n",
    "        if len(S) == 0:\n",
    "            return []\n",
    "        res = []\n",
    "    \n",
    "        def isPalindrome(s):\n",
    "            start, end = 0, len(s)-1,\n",
    "            while start < end:\n",
    "                if s[start] != s[end]:\n",
    "                    return False\n",
    "                start += 1\n",
    "                end -= 1\n",
    "            return True\n",
    "    \n",
    "        def dfs(index, tmp):\n",
    "            if index == len(S):\n",
    "                res.append(tmp)\n",
    "                return\n",
    "            for i in range(index, len(S)):\n",
    "                if not isPalindrome(S[index:i+1]):\n",
    "                    continue\n",
    "                \n",
    "                dfs(i+1, tmp + [S[index:i+1]])\n",
    "                \n",
    "    \n",
    "        dfs(0, [])\n",
    "        return res\n"
   ]
  },
  {
   "cell_type": "markdown",
   "metadata": {
    "colab_type": "text",
    "id": "p1JuevpY2vdo"
   },
   "source": [
    "### 108. Palindrome Partitioning II\n",
    "Given a string s, cut s into some substrings such that every substring is a palindrome.\n",
    "\n",
    "Return the minimum cuts needed for a palindrome partitioning of s.\n",
    "```\n",
    "Example\n",
    "Given s = \"aab\",\n",
    "\n",
    "Return 1 since the palindrome partitioning [\"aa\", \"b\"] could be produced using 1 cut.\n",
    "```"
   ]
  },
  {
   "cell_type": "code",
   "execution_count": null,
   "metadata": {
    "colab": {
     "base_uri": "https://localhost:8080/",
     "height": 104
    },
    "colab_type": "code",
    "id": "CJY39JYE2xaA",
    "outputId": "2f214358-20a5-4177-f304-e0057d76c670"
   },
   "outputs": [
    {
     "name": "stdout",
     "output_type": "stream",
     "text": [
      "2 2 [2, 1, 0, -1]\n",
      "1 1 [2, 1, 0, -1]\n",
      "0 0 [2, 1, 0, -1]\n",
      "0 1 [1, 1, 0, -1]\n",
      "1\n"
     ]
    }
   ],
   "source": [
    "class Solution(object):\n",
    "\n",
    "    def minCut(self, S):\n",
    "        n = len(S)\n",
    "        f = [n-i-1 for i in range(n+1)]\n",
    "        # f[i] stands for mincut num at position i\n",
    "        p = [[False for i in range(n)]\n",
    "                    for j in range(n)] \n",
    "        # p[i][j] = True if S[i:j+1] is palindrome\n",
    "\n",
    "        for i in reversed(range(n)):\n",
    "            for j in range(i, n):\n",
    "                if S[i] == S[j] and (j-i < 2 or p[i+1][j-1]):\n",
    "                    p[i][j] = True\n",
    "                    f[i] = min(f[i], f[j+1] + 1)\n",
    "                    print i, j, f\n",
    "        return f[0]\n",
    "if __name__ == \"__main__\":\n",
    "    s = Solution()\n",
    "    print s.minCut(\"aab\")"
   ]
  },
  {
   "cell_type": "markdown",
   "metadata": {
    "colab_type": "text",
    "id": "NjDO5eLygugc"
   },
   "source": [
    "### 652. Factorization\n",
    "A non-negative numbers can be regarded as product of its factors.\n",
    "Write a function that takes an integer n and return all possible combinations of its factors.\n",
    "```\n",
    "Example\n",
    "Given n = 8\n",
    "return [[2,2,2],[2,4]]\n",
    "// 8 = 2 x 2 x 2 = 2 x 4.\n",
    "\n",
    "Given n = 1\n",
    "return []\n",
    "\n",
    "Given n = 12\n",
    "return [[2,6],[2,2,3],[3,4]]\n",
    "```"
   ]
  },
  {
   "cell_type": "code",
   "execution_count": null,
   "metadata": {
    "colab": {
     "base_uri": "https://localhost:8080/",
     "height": 35
    },
    "colab_type": "code",
    "id": "GFT10WAIgy2K",
    "outputId": "abf2fda9-eae9-4b4b-c8f0-40856bd30b27"
   },
   "outputs": [
    {
     "name": "stdout",
     "output_type": "stream",
     "text": [
      "[[2, 5, 5], [2, 25], [5, 10]]\n"
     ]
    }
   ],
   "source": [
    "class Solution:\n",
    "    \"\"\"\n",
    "    @param n: An integer\n",
    "    @return: a list of combination\n",
    "    \"\"\"\n",
    "    def getFactors(self, n):\n",
    "        res = []\n",
    "        from math import sqrt\n",
    "        \n",
    "        def dfs(tmp, n, start):        \n",
    "            for i in range(start, int(sqrt(n)) + 1):\n",
    "                if n % i == 0:                    \n",
    "                    dfs(tmp + [i], n / i, i)\n",
    "            \n",
    "            res.append(tmp + [n])\n",
    "     \n",
    "        dfs([], n , 2)\n",
    "        res.pop()\n",
    "        return res \n",
    "\n",
    "if __name__ == \"__main__\":\n",
    "    s = Solution()\n",
    "    print s.getFactors(50)\n",
    "            "
   ]
  },
  {
   "cell_type": "markdown",
   "metadata": {
    "colab_type": "text",
    "id": "fFxcAZ6b25C3"
   },
   "source": [
    "### 427. Generate Parentheses\n",
    "Given n pairs of parentheses, write a function to generate all combinations of well-formed parentheses.\n",
    "```\n",
    "Example\n",
    "Given n = 3, a solution set is:\n",
    "\n",
    "\"((()))\", \"(()())\", \"(())()\", \"()(())\", \"()()()\"\n",
    "```"
   ]
  },
  {
   "cell_type": "code",
   "execution_count": null,
   "metadata": {
    "colab": {
     "base_uri": "https://localhost:8080/",
     "height": 35
    },
    "colab_type": "code",
    "id": "m-_wyHzO25O3",
    "outputId": "bbff6e01-29e9-4cd8-9981-38b607bea6fe"
   },
   "outputs": [
    {
     "name": "stdout",
     "output_type": "stream",
     "text": [
      "['((()))', '(()())', '(())()', '()(())', '()()()']\n"
     ]
    }
   ],
   "source": [
    "class Solution:\n",
    "    \"\"\"\n",
    "    @param n: n pairs\n",
    "    @return: All combinations of well-formed parentheses\n",
    "    \"\"\"\n",
    "    def generateParenthesis(self, n):\n",
    "\n",
    "        res = []\n",
    "        def dfs(nleft, nright, tmp):\n",
    "            if nleft == n and nright == n:\n",
    "                res.append(tmp)\n",
    "                return\n",
    "            if nleft < n:\n",
    "                dfs(nleft + 1, nright, tmp + '(')\n",
    "            if nright < n and nright < nleft:\n",
    "                dfs(nleft, nright+1, tmp + ')')\n",
    "\n",
    "        dfs(0, 0, '')\n",
    "        return res\n",
    "\n",
    "if __name__ == \"__main__\":\n",
    "    s = Solution()\n",
    "    print s.generateParenthesis(3)"
   ]
  },
  {
   "cell_type": "markdown",
   "metadata": {
    "colab_type": "text",
    "id": "DG-MvsSc2Z2J"
   },
   "source": [
    "### 780. Remove Invalid Parentheses\n",
    "Remove the minimum number of invalid parentheses in order to make the input string valid. Return all possible results.\n",
    "```\n",
    "Example\n",
    "\"()())()\" -> [\"()()()\", \"(())()\"]\n",
    "\"(a)())()\" -> [\"(a)()()\", \"(a())()\"]\n",
    "\")(\" -> [\"\"]\n",
    "```"
   ]
  },
  {
   "cell_type": "code",
   "execution_count": null,
   "metadata": {
    "colab": {},
    "colab_type": "code",
    "id": "7yFk6GUq2cqY"
   },
   "outputs": [],
   "source": [
    "class Solution:\n",
    "    def removeInvalidParentheses(self, S):\n",
    "        if len(S) == 0:\n",
    "            return [\"\"]\n",
    "        ans = []\n",
    "        \n",
    "        def dfs(tmp, last_i, last_j, par):\n",
    "            count = 0\n",
    "            for i in range(last_i, len(tmp)):\n",
    "                if tmp[i] == par[0]: count += 1\n",
    "                if tmp[i] == par[1]: count -= 1\n",
    "                if count >= 0: \n",
    "                    continue                \n",
    "                for j in range(last_j, i+1):\n",
    "                    if (tmp[j] == par[1]) and (j == last_j or tmp[j-1] != par[1]):\n",
    "                        dfs(tmp[:j] + tmp[j+1:], i, j, par)\n",
    "                return\n",
    "            \n",
    "            reverse = tmp[::-1]\n",
    "            \n",
    "            if par[0] == '(':\n",
    "                dfs(reverse, 0, 0, [')', '('])\n",
    "            else: #par[0] == ')'\n",
    "                ans.append(reverse)\n",
    "               \n",
    "        dfs(S, 0, 0, ['(', ')'])\n",
    "        \n",
    "        return ans"
   ]
  },
  {
   "cell_type": "markdown",
   "metadata": {
    "colab_type": "text",
    "id": "Qv3WpgAu2Cg2"
   },
   "source": [
    "### 426. Restore IP Addresses\n",
    "Given a string containing only digits, restore it by returning all possible valid IP address combinations.\n",
    "```\n",
    "Example\n",
    "Given \"25525511135\", return\n",
    "\n",
    "[\n",
    "  \"255.255.11.135\",\n",
    "  \"255.255.111.35\"\n",
    "]\n",
    "Order does not matter.\n",
    "```"
   ]
  },
  {
   "cell_type": "code",
   "execution_count": null,
   "metadata": {
    "colab": {
     "base_uri": "https://localhost:8080/",
     "height": 35
    },
    "colab_type": "code",
    "id": "T-og2-vQ2Fv2",
    "outputId": "bf9bd36f-c5f8-4b31-adc1-8a1b79fbd2bb"
   },
   "outputs": [
    {
     "name": "stdout",
     "output_type": "stream",
     "text": [
      "['0.0.0.0']\n"
     ]
    }
   ],
   "source": [
    "class Solution:\n",
    "    \"\"\"\n",
    "    @param s: the IP string\n",
    "    @return: All possible valid IP addresses\n",
    "    \"\"\"\n",
    "    def restoreIpAddresses(self, S):\n",
    "        res = []\n",
    "        def dfs(start, step, tmp):\n",
    "            if step == 4:\n",
    "                if start == len(S):\n",
    "                    res.append(tmp[1:])\n",
    "                return\n",
    "\n",
    "            for l in range(1, 4):\n",
    "                if start + l <= len(S):\n",
    "                    subip = S[start:start+l]\n",
    "                    if int(subip) <= 255:\n",
    "                        dfs(start+l, step+1, tmp + '.' + subip)\n",
    "                    if S[start] == '0':\n",
    "                        break\n",
    "        dfs(0, 0, '')\n",
    "        return res\n",
    "\n",
    "if __name__ == \"__main__\":\n",
    "    s = Solution()\n",
    "    print s.restoreIpAddresses(\"0000\")"
   ]
  },
  {
   "cell_type": "markdown",
   "metadata": {
    "colab_type": "text",
    "id": "--qGSD3Z9_dW"
   },
   "source": [
    "### 58. 4Sum\n",
    "Given an array S of n integers, are there elements a, b, c, and d in S such that a + b + c + d = target?\n",
    "\n",
    "Find all unique quadruplets in the array which gives the sum of target.\n",
    "```\n",
    "Example\n",
    "Given array S = {1 0 -1 0 -2 2}, and target = 0. A solution set is:\n",
    "\n",
    "(-1, 0, 0, 1)\n",
    "(-2, -1, 1, 2)\n",
    "(-2, 0, 0, 2)\n",
    "```\n",
    "\n"
   ]
  },
  {
   "cell_type": "code",
   "execution_count": null,
   "metadata": {
    "colab": {
     "base_uri": "https://localhost:8080/",
     "height": 208
    },
    "colab_type": "code",
    "id": "EzS4dgX5fUjR",
    "outputId": "71cc1c46-2b7e-4200-fd74-cb75f6ddd80a"
   },
   "outputs": [
    {
     "name": "stdout",
     "output_type": "stream",
     "text": [
      "[(-2, -1, 1, 2), (-2, 0, 0, 2), (-1, 0, 0, 1)]\n",
      "0.0267899036407 0.0256600379944 0.00413703918457\n",
      "0.0256309509277 0.0250270366669 0.00398707389832\n",
      "0.0250401496887 0.024582862854 0.00415897369385\n",
      "0.0245580673218 0.0291340351105 0.00397300720215\n",
      "0.0250759124756 0.0246918201447 0.00390791893005\n",
      "0.0251479148865 0.025573015213 0.00386905670166\n",
      "0.0254220962524 0.0246438980103 0.00393295288086\n",
      "0.0252628326416 0.0274131298065 0.0039050579071\n",
      "0.0253250598907 0.0253059864044 0.00391793251038\n",
      "0.0264499187469 0.0249390602112 0.00388813018799\n"
     ]
    }
   ],
   "source": [
    "class Solution:\n",
    "    \"\"\"\n",
    "    @param numbers: Give an array\n",
    "    @param target: An integer\n",
    "    @return: Find all unique quadruplets in the array which gives the sum of zero\n",
    "    \"\"\"\n",
    "    def fourSum1(self, S, target):\n",
    "        S.sort()\n",
    "        res = []\n",
    "\n",
    "        def dfs(tmp, index):\n",
    "            if len(tmp) == 4:\n",
    "                if sum(tmp) == target:\n",
    "                    res.append(tuple(tmp))\n",
    "                return\n",
    "            for i in range(index, len(S)):\n",
    "                if i == index or S[i-1] != S[i]:\n",
    "                    dfs(tmp + [S[i]], i+1)\n",
    "\n",
    "        dfs([], 0)\n",
    "        return res\n",
    "\n",
    "    def fourSum2(self, S, target):\n",
    "        S.sort()\n",
    "        res = []\n",
    "\n",
    "        def dfs(tmp, index):\n",
    "            if len(tmp) == 4:\n",
    "                if sum(tmp) == target:\n",
    "                    res.append(tuple(tmp))\n",
    "                return\n",
    "            for i in range(index, len(S)):\n",
    "                if i != index and S[i-1] == S[i]:\n",
    "                    continue\n",
    "                dfs(tmp + [S[i]], i+1)\n",
    "\n",
    "        dfs([], 0)\n",
    "        return res\n",
    "\n",
    "    def fourSum3(self, nums, target):\n",
    "        nums.sort()\n",
    "        res = []\n",
    "        length = len(nums)\n",
    "        for i in range(0, length - 3):\n",
    "            if i and nums[i] == nums[i - 1]:\n",
    "                continue\n",
    "            for j in range(i + 1, length - 2):\n",
    "                if j != i + 1 and nums[j] == nums[j - 1]:\n",
    "                    continue\n",
    "                sum = target - nums[i] - nums[j]\n",
    "                left, right = j + 1, length - 1\n",
    "                while left < right:\n",
    "                    if nums[left] + nums[right] == sum:\n",
    "                        res.append([nums[i], nums[j], nums[left], nums[right]])\n",
    "                        right -= 1\n",
    "                        left += 1\n",
    "                        while left < right and nums[left] == nums[left - 1]:\n",
    "                            left += 1\n",
    "                        while left < right and nums[right] == nums[right + 1]:\n",
    "                            right -= 1\n",
    "                    elif nums[left] + nums[right] > sum:\n",
    "                        right -= 1\n",
    "                    else:\n",
    "                        left += 1\n",
    "        return res\n",
    "\n",
    "if __name__ ==\"__main__\":\n",
    "    S = [1, 0, -1, 0, -2, 2]\n",
    "    target = 0\n",
    "    print Solution().fourSum2(S, target)\n",
    "    from timeit import timeit\n",
    "    count = 0\n",
    "    for i in range(10):\n",
    "        a = timeit(\"Solution().fourSum1(S, target)\",\n",
    "                 setup=\"from __main__ import Solution, S, target\", number=1000)\n",
    "        b = timeit(\"Solution().fourSum2(S, target)\",\n",
    "                 setup=\"from __main__ import Solution, S, target\", number=1000)\n",
    "        c = timeit(\"Solution().fourSum3(S, target)\",\n",
    "                 setup=\"from __main__ import Solution, S, target\", number=1000)\n",
    "\n",
    "        print a, b, c\n"
   ]
  },
  {
   "cell_type": "markdown",
   "metadata": {
    "colab_type": "text",
    "id": "2x6DKtbOum7W"
   },
   "source": [
    "### 107. Word Break I \n",
    "Given a string s and a dictionary of words dict, determine if s can be break into a space-separated sequence of one or more dictionary words.\n",
    "```\n",
    "Example\n",
    "Given s = \"lintcode\", dict = [\"lint\", \"code\"].\n",
    "\n",
    "Return true because \"lintcode\" can be break as \"lint code\".\n",
    "```"
   ]
  },
  {
   "cell_type": "code",
   "execution_count": null,
   "metadata": {
    "colab": {
     "base_uri": "https://localhost:8080/",
     "height": 35
    },
    "colab_type": "code",
    "id": "zLHQpADruvvV",
    "outputId": "ed639d63-84e9-45bc-98ae-c94cfc1634e6"
   },
   "outputs": [
    {
     "name": "stdout",
     "output_type": "stream",
     "text": [
      "True\n"
     ]
    }
   ],
   "source": [
    "class Solution:\n",
    "    # param s: A string s\n",
    "    # param dict: A dictionary of words dict\n",
    "    def wordBreak(self, S, word_dict):\n",
    "        if len(word_dict) == 0:\n",
    "            return len(S) == 0\n",
    "\n",
    "        n = len(S)\n",
    "        f = [False] * (n + 1)\n",
    "        f[0] = True\n",
    "\n",
    "        maxLength = max([len(w) for w in word_dict])\n",
    "        \n",
    "        for i in range(1, n + 1):\n",
    "            for j in range(1, min(i, maxLength) + 1):\n",
    "                if not f[i - j]:\n",
    "                    continue\n",
    "                if S[i - j:i] in word_dict:\n",
    "                    f[i] = True # f[i] is True if s[i - j : i] in dict and f[i - j] is True\n",
    "                    break\n",
    "\n",
    "        return f[n] # f[i] stands for s[:i] is matched.\n",
    "    \n",
    "    \n",
    "if __name__ == \"__main__\":\n",
    "    s = Solution()\n",
    "    print s.wordBreak(\"Lintcode\", ['Lint', 'code'])"
   ]
  },
  {
   "cell_type": "markdown",
   "metadata": {
    "colab_type": "text",
    "id": "XEpyX1Ia3n96"
   },
   "source": [
    "### 582. Word Break II\n",
    "Given a string s and a dictionary of words dict, add spaces in s to construct a sentence where each word is a valid dictionary word.\n",
    "\n",
    "Return all such possible sentences.\n",
    "```\n",
    "Example\n",
    "Gieve s = lintcode,\n",
    "dict = [\"de\", \"ding\", \"co\", \"code\", \"lint\"].\n",
    "\n",
    "A solution is [\"lint code\", \"lint co de\"].\n",
    "```"
   ]
  },
  {
   "cell_type": "code",
   "execution_count": null,
   "metadata": {
    "colab": {},
    "colab_type": "code",
    "id": "dx6anE5mO1pf"
   },
   "outputs": [],
   "source": [
    "class Solution:\n",
    "    \"\"\"\n",
    "    @param: s: A string\n",
    "    @param: wordDict: A set of words.\n",
    "    @return: All possible sentences.\n",
    "    \"\"\"\n",
    "    def wordBreak(self, S, wordDict):\n",
    "        s1 = set(S)\n",
    "        s2 = set(''.join(wordDict))\n",
    "        if not s2.issuperset(s1):\n",
    "            return []\n",
    "        res = []\n",
    "        \n",
    "        def dfs(tmp, start_index):\n",
    "            if start_index == len(S):\n",
    "                res.append(' '.join(tmp))\n",
    "            for i in range(start_index, len(S)+1):\n",
    "                if start_index != i and S[start_index:i] in wordDict:\n",
    "                    dfs(tmp + [S[start_index:i]], i)\n",
    "        dfs([], 0)\n",
    "        \n",
    "        return res"
   ]
  },
  {
   "cell_type": "markdown",
   "metadata": {
    "colab_type": "text",
    "id": "v-yg-pGwO2t2"
   },
   "source": [
    "### 683. Word Break III\n",
    "Give a dictionary of words and a sentence with all whitespace removed, return the number of sentences you can form by inserting whitespaces to the sentence so that each word can be found in the dictionary.\n",
    "```\n",
    "Example\n",
    "Given a String CatMat\n",
    "Given a dictionary [\"Cat\", \"Mat\", \"Ca\", \"tM\", \"at\", \"C\", \"Dog\", \"og\", \"Do\"]\n",
    "return 3\n",
    "\n",
    "we can form 3 sentences, as follows:\n",
    "CatMat = Cat Mat\n",
    "CatMat = Ca tM at\n",
    "CatMat = C at Mat\n",
    "```"
   ]
  },
  {
   "cell_type": "code",
   "execution_count": null,
   "metadata": {
    "colab": {
     "base_uri": "https://localhost:8080/",
     "height": 35
    },
    "colab_type": "code",
    "id": "CcOOzGxPPAAN",
    "outputId": "1f35c2a4-7acd-43c0-9999-75f85e546e9c"
   },
   "outputs": [
    {
     "name": "stdout",
     "output_type": "stream",
     "text": [
      "3\n"
     ]
    }
   ],
   "source": [
    "class Solution:\n",
    "    \"\"\"\n",
    "    @param: : A string\n",
    "    @param: : A set of word\n",
    "    @return: the number of possible sentences.\n",
    "    \"\"\"\n",
    "\n",
    "    def wordBreak3_dfs(self, S, word_dict):\n",
    "        \n",
    "        self.count = 0\n",
    "        S = S.lower()\n",
    "        word_dict = set([word.lower() for word in word_dict])\n",
    "\n",
    "        def dfs(start_index, tmp):\n",
    "            if start_index == len(S):\n",
    "                self.count += 1\n",
    "\n",
    "            for i in range(start_index, len(S)):\n",
    "                if S[start_index:i+1] in word_dict:\n",
    "                    dfs(i+1, tmp +[S[start_index:i+1]])\n",
    "        \n",
    "        dfs(0, [])\n",
    "        return self.count\n",
    "    \n",
    "    def wordBreak3_dp(self, S, word_dict):\n",
    "        if len(S) == 0 or len(word_dict) == 0:\n",
    "            return 0\n",
    "        \n",
    "        dict_lower = set()\n",
    "        for word in word_dict:\n",
    "            dict_lower.add(word.lower())\n",
    "        \n",
    "        n = len(S)\n",
    "        maxLength = max([len(w) for w in word_dict])\n",
    "        \n",
    "        # define f[i]: number of sentences that S[:i] can be breaked into\n",
    "        f = [0 for _ in range(n + 1)]\n",
    "        \n",
    "        # init\n",
    "        f[0] = 1\n",
    "        \n",
    "        # function\n",
    "        for i in range(1, n + 1):\n",
    "            start_index = max(0, i - maxLength)\n",
    "            for j in range(start_index, i):\n",
    "                if f[j] and S[j:i].lower() in dict_lower:\n",
    "                    f[i] += f[j] # 这里也可以用f[i-j] 不过相应就变成S[i-j:i]\n",
    "        \n",
    "        # ans\n",
    "        return f[n]\n",
    "    \n",
    "if __name__ == \"__main__\":\n",
    "    s = Solution()\n",
    "    print s.wordBreak3_dp(S = \"Catmat\", \n",
    "        word_dict = [\"Cat\",\"mat\",\"ca\",\"tm\",\"at\",\"C\",\"Dog\",\"og\",\"Do\"])\n",
    "            \n",
    "        "
   ]
  },
  {
   "cell_type": "markdown",
   "metadata": {
    "colab_type": "text",
    "id": "IhWfnO4Dz1Kn"
   },
   "source": [
    "# Permutation DFS"
   ]
  },
  {
   "cell_type": "markdown",
   "metadata": {
    "colab_type": "text",
    "id": "w5NLlXtxlMRN"
   },
   "source": [
    "### 197. Permutation Index\n",
    "Given a permutation which contains no repeated number, find its index in all the permutations of these numbers, which are ordered in lexicographical order. The index begins at 1.\n",
    "```\n",
    "Example\n",
    "Given [1,2,4], return 1.\n",
    "```"
   ]
  },
  {
   "cell_type": "code",
   "execution_count": null,
   "metadata": {
    "colab": {
     "base_uri": "https://localhost:8080/",
     "height": 35
    },
    "colab_type": "code",
    "id": "X54jJqqHlcIC",
    "outputId": "87d2a098-44e2-4002-f2e9-7c06bfac16a2"
   },
   "outputs": [
    {
     "name": "stdout",
     "output_type": "stream",
     "text": [
      "5\n"
     ]
    }
   ],
   "source": [
    "class Solution:\n",
    "    \"\"\"\n",
    "    @param A: An array of integers\n",
    "    @return: A long integer\n",
    "    \"\"\"\n",
    "    def permutationIndex(self, A):\n",
    "        index = 1\n",
    "        for i in range(len(A)):\n",
    "            count, factor = 0, 1\n",
    "            for j in range(i+1, len(A)):\n",
    "                if A[i] > A[j]:\n",
    "                    count += 1\n",
    "            if count > 0:\n",
    "                for k in range(1, len(A)-i):\n",
    "                    factor *= k\n",
    "            index += factor * count\n",
    "        return index\n",
    "    \n",
    "if __name__ == \"__main__\":\n",
    "    s = Solution()\n",
    "    print s.permutationIndex([1,4,2,3])"
   ]
  },
  {
   "cell_type": "markdown",
   "metadata": {
    "colab_type": "text",
    "id": "QayZ8ixl3J4o"
   },
   "source": [
    "### 198. Permutation Index II\n",
    "Given a permutation which may contain repeated numbers, find its index in all the permutations of these numbers, which are ordered in lexicographical order. The index begins at 1.\n",
    "```\n",
    "Example\n",
    "Given the permutation [1, 4, 2, 2], return 3.\n",
    "```"
   ]
  },
  {
   "cell_type": "code",
   "execution_count": null,
   "metadata": {
    "colab": {
     "base_uri": "https://localhost:8080/",
     "height": 35
    },
    "colab_type": "code",
    "id": "1onVlewa4Uht",
    "outputId": "f6224ef3-352d-4730-8535-78d0cecbe06a"
   },
   "outputs": [
    {
     "name": "stdout",
     "output_type": "stream",
     "text": [
      "3\n"
     ]
    }
   ],
   "source": [
    "class Solution:\n",
    "    def permutationIndexII(self, A):\n",
    "        \n",
    "        from collections import defaultdict\n",
    "        if A is None or len(A) == 0:\n",
    "            return 0 \n",
    "        counter = defaultdict(int)\n",
    "        index, fact, multiFact = 1,1,1\n",
    "        \n",
    "        for i in range(len(A)-1, -1, -1):\n",
    "            counter[A[i]] += 1\n",
    "            multiFact *= counter[A[i]]\n",
    "            count = 0 \n",
    "            \n",
    "            for j in range(i+1, len(A)):\n",
    "                if A[i] > A[j]:\n",
    "                    count += 1\n",
    "            \n",
    "            index += count * fact / multiFact\n",
    "            fact *= len(A) - i\n",
    "        \n",
    "        return index \n",
    "    \n",
    "    \n",
    "if __name__ == \"__main__\":\n",
    "    s = Solution()\n",
    "    print s.permutationIndexII([1,4,2,2])\n",
    "                "
   ]
  },
  {
   "cell_type": "markdown",
   "metadata": {
    "colab_type": "text",
    "id": "i4BOySBN3Vv1"
   },
   "source": [
    "### 52. Next Permutation\n",
    "Given a list of integers, which denote a permutation.\n",
    "\n",
    "Find the next permutation in ascending order.\n",
    "```\n",
    "Example\n",
    "For [1,3,2,3], the next permutation is [1,3,3,2]\n",
    "\n",
    "For [4,3,2,1], the next permutation is [1,2,3,4]\n",
    "```\n",
    "notes:\n",
    "1. 找到右起第一个<关系的 i， nums[i] < nums[i+1]\n",
    "2. 找到右起第一个大于这个nums[i]的nums[j]， 互换\n",
    "3. 对调i+1到end部分"
   ]
  },
  {
   "cell_type": "code",
   "execution_count": null,
   "metadata": {
    "colab": {
     "base_uri": "https://localhost:8080/",
     "height": 52
    },
    "colab_type": "code",
    "id": "vlN7Sgxz3Y_z",
    "outputId": "89dd860f-f742-4511-83d4-7bcb30f73e18"
   },
   "outputs": [
    {
     "name": "stdout",
     "output_type": "stream",
     "text": [
      "[2, 3, 1]\n",
      "[2, 1, 3]\n"
     ]
    }
   ],
   "source": [
    "class Solution:\n",
    "    \"\"\"\n",
    "    @param nums: A list of integers\n",
    "    @return: A list of integers\n",
    "    \"\"\"\n",
    "    def nextPermutation(self, nums):\n",
    "        if nums is None or len(nums) == 0:\n",
    "            return nums\n",
    "        n = len(nums)        \n",
    "        for i in range(n-2, -1, -1):\n",
    "            if nums[i] < nums[i+1]:\n",
    "                break\n",
    "        else:\n",
    "            nums.reverse()\n",
    "            return nums\n",
    "        \n",
    "        # find the first element larger than i\n",
    "        for j in range(n-1, i, -1):\n",
    "            if nums[j] > nums[i]:\n",
    "                nums[i], nums[j] = nums[j], nums[i]\n",
    "                break\n",
    "        \n",
    "        nums[i+1:] = reversed(nums[i+1:])\n",
    "        return nums\n",
    "        \n",
    "if __name__ == \"__main__\":\n",
    "    s = Solution()\n",
    "    print s.nextPermutation([1,3,2])"
   ]
  },
  {
   "cell_type": "code",
   "execution_count": null,
   "metadata": {
    "colab": {
     "base_uri": "https://localhost:8080/",
     "height": 35
    },
    "colab_type": "code",
    "id": "-zHNcZcJbuig",
    "outputId": "a065d07d-a0c3-40d5-92cb-d3593635d245"
   },
   "outputs": [
    {
     "data": {
      "text/plain": [
       "[0, 4, 3, 2, 1, 5, 6, 7, 8, 9]"
      ]
     },
     "execution_count": 1,
     "metadata": {
      "tags": []
     },
     "output_type": "execute_result"
    }
   ],
   "source": [
    "nums = range(10)\n",
    "nums[1:5] = reversed(nums[1:5])\n",
    "nums"
   ]
  },
  {
   "cell_type": "markdown",
   "metadata": {
    "colab_type": "text",
    "id": "u88G0HPr3Zac"
   },
   "source": [
    "### 190. Next Permutation II\n",
    "Implement next permutation, which rearranges numbers into the lexicographically next greater permutation of numbers.\n",
    "\n",
    "If such arrangement is not possible, it must rearrange it as the lowest possible order (ie, sorted in ascending order).\n",
    "```\n",
    "Example\n",
    "Here are some examples. Inputs are in the left-hand column and its corresponding outputs are in the right-hand column.\n",
    "\n",
    "1,2,3 → 1,3,2\n",
    "\n",
    "3,2,1 → 1,2,3\n",
    "\n",
    "1,1,5 → 1,5,1\n",
    "\n",
    "Challenge\n",
    "The replacement must be in-place, do not allocate extra memory.\n",
    "```"
   ]
  },
  {
   "cell_type": "code",
   "execution_count": null,
   "metadata": {
    "colab": {
     "base_uri": "https://localhost:8080/",
     "height": 35
    },
    "colab_type": "code",
    "id": "4VYYAmkw36pV",
    "outputId": "334e4028-7460-4c41-df33-9e099f9c45ab"
   },
   "outputs": [
    {
     "name": "stdout",
     "output_type": "stream",
     "text": [
      "[2, 1, 3]\n"
     ]
    }
   ],
   "source": [
    "class Solution:\n",
    "    \"\"\"\n",
    "    @param nums: A list of integers\n",
    "    @return: A list of integers\n",
    "    \"\"\"\n",
    "    def nextPermutation(self, nums):\n",
    "        if nums is None or len(nums) == 0:\n",
    "            return nums\n",
    "        n = len(nums)        \n",
    "        for i in range(n-2, -1, -1):\n",
    "            if nums[i] < nums[i+1]:\n",
    "                break\n",
    "        else:\n",
    "            nums.reverse()\n",
    "            return nums\n",
    "        \n",
    "        # find the first element larger than i\n",
    "        for j in range(n-1, i, -1):\n",
    "            if nums[j] > nums[i]:\n",
    "                nums[i], nums[j] = nums[j], nums[i]\n",
    "                break\n",
    "        \n",
    "        self.reverse(nums, i+1, n-1)\n",
    "        \n",
    "        return nums\n",
    "    \n",
    "    def reverse(self, nums, start, end):\n",
    "        while start < end:\n",
    "            nums[start], nums[end] = nums[end], nums[start]\n",
    "            start += 1\n",
    "            end -= 1 \n",
    "        \n",
    "if __name__ == \"__main__\":\n",
    "    s = Solution()\n",
    "    print s.nextPermutation([1,3,2])"
   ]
  },
  {
   "cell_type": "markdown",
   "metadata": {
    "colab_type": "text",
    "id": "-0g3tP1G3fic"
   },
   "source": [
    "### 51. Previous Permutation\n",
    "Given a list of integers, which denote a permutation.\n",
    "\n",
    "Find the previous permutation in ascending order.\n",
    "```\n",
    "Example\n",
    "For [1,3,2,3], the previous permutation is [1,2,3,3]\n",
    "\n",
    "For [1,2,3,4], the previous permutation is [4,3,2,1]\n",
    "```"
   ]
  },
  {
   "cell_type": "code",
   "execution_count": null,
   "metadata": {
    "colab": {
     "base_uri": "https://localhost:8080/",
     "height": 35
    },
    "colab_type": "code",
    "id": "4PIKT8Us35nV",
    "outputId": "b65e3e56-819f-4b27-9cd7-73999dc1b42a"
   },
   "outputs": [
    {
     "name": "stdout",
     "output_type": "stream",
     "text": [
      "[1, 2, 3]\n"
     ]
    }
   ],
   "source": [
    "class Solution:\n",
    "    \"\"\"\n",
    "    param: nums: A list of integers\n",
    "    @return: A list of integers that's previous permuation\n",
    "    \"\"\"\n",
    "    def previousPermuation(self, nums):\n",
    "        if nums is None or len(nums) == 0:\n",
    "            return nums\n",
    "        n = len(nums)        \n",
    "        for i in range(n-2, -1, -1):\n",
    "            if nums[i] > nums[i+1]:\n",
    "                break\n",
    "        else:\n",
    "            nums.reverse()\n",
    "            return nums\n",
    "        \n",
    "        # find the first element larger than i\n",
    "        for j in range(n-1, i, -1):\n",
    "            if nums[j] < nums[i]:\n",
    "                nums[i], nums[j] = nums[j], nums[i]\n",
    "                break\n",
    "        \n",
    "        self.reverse(nums, i+1, n-1)\n",
    "        \n",
    "        return nums\n",
    "    \n",
    "    def reverse(self, nums, start, end):\n",
    "        while start < end:\n",
    "            nums[start], nums[end] = nums[end], nums[start]\n",
    "            start += 1\n",
    "            end -= 1 \n",
    "\n",
    "if __name__ == \"__main__\":\n",
    "    s = Solution()\n",
    "    print s.previousPermuation([1,3,2])"
   ]
  },
  {
   "cell_type": "markdown",
   "metadata": {
    "colab_type": "text",
    "id": "CTaWeMeNkr3Z"
   },
   "source": [
    "### 862. Next Closest Time\n",
    "Given a time represented in the format \"HH:MM\", form the next closest time by reusing the current digits. There is no limit on how many times a digit can be reused.\n",
    "\n",
    "You may assume the given input string is always valid. For example, \"01:34\", \"12:09\" are all valid. \"1:34\", \"12:9\" are all invalid.\n",
    "```\n",
    "Example\n",
    "Given time = \"19:34\", return \"19:39\".\n",
    "\n",
    "Explanation: \n",
    "The next closest time choosing from digits 1, 9, 3, 4, is 19:39, which occurs 5 minutes later.  It is not 19:33, because this occurs 23 hours and 59 minutes later.\n",
    "Given time = \"23:59\", return \"22:22\".\n",
    "\n",
    "Explanation: \n",
    "The next closest time choosing from digits 2, 3, 5, 9, is 22:22. It may be assumed that the returned time is next day's time since it is smaller than the input time numerically.\n",
    "```"
   ]
  },
  {
   "cell_type": "code",
   "execution_count": null,
   "metadata": {
    "colab": {},
    "colab_type": "code",
    "id": "ImJlkKgRk0bN"
   },
   "outputs": [],
   "source": [
    "class Solution:\n",
    "    \"\"\"\n",
    "    @param time: the given time\n",
    "    @return: the next closest time\n",
    "    \"\"\"\n",
    "    def nextClosestTime(self, time):\n",
    "        h, m = time.split(\":\")\n",
    "        curr = int(h) * 60 + int(m)  # æ¢ç®æåéæ°\n",
    "        result = None\n",
    "        for i in range(curr+1, curr+1441):\n",
    "            t = i % 1440 # modå¾å°å½å¤©çåéæ°\n",
    "            h, m = t // 60, t % 60 \n",
    "            result = \"%02d:%02d\" % (h, m)\n",
    "            if set(result) <= set(time): # åªå°resultéçå",
    "ç´ ä¸ªæ°å°äºç­äºåæ¶é´ï¼è¯´ææ²¡æç¨å°é¢å¤çå",
    "ç´ \n",
    "                break\n",
    "        return result"
   ]
  },
  {
   "cell_type": "markdown",
   "metadata": {
    "colab_type": "text",
    "id": "5ZgiPsUHlFRk"
   },
   "source": [
    "### 425. Letter Combinations of a Phone Number\n",
    "Given a digit string excluded 01, return all possible letter combinations that the number could represent.\n",
    "\n",
    "A mapping of digit to letters (just like on the telephone buttons) is given below.\n",
    "\n",
    "Cellphone\n",
    "![alt text](https://lintcode-media.s3.amazonaws.com/problem/200px-Telephone-keypad2.svg.png)\n",
    "```\n",
    "Example\n",
    "Given \"23\"\n",
    "\n",
    "Return [\"ad\", \"ae\", \"af\", \"bd\", \"be\", \"bf\", \"cd\", \"ce\", \"cf\"]\n",
    "```"
   ]
  },
  {
   "cell_type": "code",
   "execution_count": null,
   "metadata": {
    "colab": {},
    "colab_type": "code",
    "id": "4RXSWz7ClP7h"
   },
   "outputs": [],
   "source": [
    "class Solution(object):\n",
    "    def letterCombinations(self, digits):\n",
    "        \"\"\"\n",
    "        :type digits: str\n",
    "        :rtype: List[str]\n",
    "        \"\"\"\n",
    "        res=[]\n",
    "        if not digits: return res\n",
    "        res.append(\"\")\n",
    "        mp = ['0','1','abc','def','ghi','jkl','mno','pqrs','tuv','wxyz']\n",
    "        for c in digits:\n",
    "            tmp = []\n",
    "            for x in res:\n",
    "                for y in mp[int(c)]:\n",
    "                    tmp.append(x+y)\n",
    "            res=tmp        \n",
    "        return res\n",
    "            "
   ]
  },
  {
   "cell_type": "markdown",
   "metadata": {
    "colab_type": "text",
    "id": "YruwFstBmJ-a"
   },
   "source": [
    "### 211. String Permutation\n",
    "Given two strings, write a method to decide if one is a permutation of the other.\n",
    "```\n",
    "Example\n",
    "abcd is a permutation of bcad, but abbe is not a permutation of abe\n",
    "```"
   ]
  },
  {
   "cell_type": "code",
   "execution_count": null,
   "metadata": {
    "colab": {},
    "colab_type": "code",
    "id": "TbURE9mlmUx8"
   },
   "outputs": [],
   "source": [
    "class Solution:\n",
    "    \"\"\"\n",
    "    @param A: a string\n",
    "    @param B: a string\n",
    "    @return: a boolean\n",
    "    \"\"\"\n",
    "    def Permutation(self, A, B):\n",
    "        from collections import Counter\n",
    "        return Counter(A) == Counter(B)"
   ]
  },
  {
   "cell_type": "markdown",
   "metadata": {
    "colab_type": "text",
    "id": "2mUrGuyalW2p"
   },
   "source": [
    "### 10. String Permutation II\n",
    "Given a string, find all permutations of it without duplicates.\n",
    "```\n",
    "Example\n",
    "Given \"abb\", return [\"abb\", \"bab\", \"bba\"].\n",
    "\n",
    "Given \"aabb\", return [\"aabb\", \"abab\", \"baba\", \"bbaa\", \"abba\", \"baab\"].\n",
    "```"
   ]
  },
  {
   "cell_type": "code",
   "execution_count": null,
   "metadata": {
    "colab": {},
    "colab_type": "code",
    "id": "7tI7YdrRlYqw"
   },
   "outputs": [],
   "source": [
    "class Solution:\n",
    "    \"\"\"\n",
    "    @param str: A string\n",
    "    @return: all permutations\n",
    "    \"\"\"\n",
    "    def stringPermutation2(self, S):\n",
    "        if S is None:\n",
    "            return []\n",
    "        if S is []:\n",
    "            return [[]]\n",
    "            \n",
    "        def dfs(tmp, s):\n",
    "            if s is '':\n",
    "                res.append(tmp)\n",
    "                return\n",
    "            else:\n",
    "                for i in range(len(s)):\n",
    "                    if 0 < i < len(s) and s[i] == s[i-1]:\n",
    "                        continue\n",
    "                    dfs(tmp + s[i], s[:i] + s[i+1:])\n",
    "                    #dfs(s[i] + tmp, s[:i] + s[i+1:])\n",
    "        \n",
    "        res = []\n",
    "        dfs('', ''.join(sorted(S)))\n",
    "        return res"
   ]
  },
  {
   "cell_type": "code",
   "execution_count": null,
   "metadata": {},
   "outputs": [],
   "source": []
  },
  {
   "cell_type": "markdown",
   "metadata": {
    "colab_type": "text",
    "id": "GGnqQzPXljCf"
   },
   "source": [
    "### 33. N-Queens\n",
    "The n-queens puzzle is the problem of placing n queens on an n×n chessboard such that no two queens attack each other.\n",
    "\n",
    "Given an integer n, return all distinct solutions to the n-queens puzzle.\n",
    "\n",
    "Each solution contains a distinct board configuration of the n-queens' placement, where 'Q' and '.' both indicate a queen and an empty space respectively.\n",
    "```\n",
    "Example\n",
    "There exist two distinct solutions to the 4-queens puzzle:\n",
    "\n",
    "[\n",
    "  // Solution 1\n",
    "  [\".Q..\",\n",
    "   \"...Q\",\n",
    "   \"Q...\",\n",
    "   \"..Q.\"\n",
    "  ],\n",
    "  // Solution 2\n",
    "  [\"..Q.\",\n",
    "   \"Q...\",\n",
    "   \"...Q\",\n",
    "   \".Q..\"\n",
    "  ]\n",
    "]\n",
    "Challenge\n",
    "Can you do it without recursion?\n",
    "```"
   ]
  },
  {
   "cell_type": "code",
   "execution_count": null,
   "metadata": {
    "colab": {},
    "colab_type": "code",
    "id": "VY8y0BxVlq6v"
   },
   "outputs": [],
   "source": [
    "class Solution:\n",
    "    \"\"\"\n",
    "    Get all distinct N-Queen solutions\n",
    "    @param n: The number of queens\n",
    "    @return: All distinct solutions\n",
    "    \"\"\"\n",
    "    def solveNQueens(self, n):\n",
    "        \n",
    "        if n<=0:\n",
    "            return []\n",
    "        N = n\n",
    "        #########################################################\n",
    "        NQueens = [0]*N \n",
    "        \n",
    "        NQ = []\n",
    "        def check_pos_valid(loop,value):\n",
    "            index = 0\n",
    "            data = 0\n",
    "            for index in xrange(loop):\n",
    "                data = NQueens[index]\n",
    "                if value == data:\n",
    "                    return 0\n",
    "                if index+data == loop+value:\n",
    "                    return 0\n",
    "                if index-data == loop-value:\n",
    "                    return 0\n",
    "            return 1\n",
    "        def N_queens(index,NQueens):\n",
    "            \n",
    "            for loop in xrange(N):\n",
    "                if check_pos_valid(index,loop)==1:\n",
    "                    NQueens[index] = loop\n",
    "                    if N-1 == index:\n",
    "                        \n",
    "                        NQ.append(list(NQueens))\n",
    "                        NQueens = map(lambda x:0, NQueens)\n",
    "                        return \n",
    "                    N_queens(index+1,NQueens)\n",
    "                    NQueens[index] = 0 \n",
    "        N_queens(0,NQueens)\n",
    "        \n",
    "        #########################################################\n",
    "        sample = \".\"*n\n",
    "        \n",
    "        sol = []\n",
    "        for nq in NQ:\n",
    "            ans = []\n",
    "            for i in xrange(len(nq)):\n",
    "                k=nq[i]\n",
    "                ans.append(sample[:k]+'Q'+sample[k+1:])\n",
    "            sol.append(ans)\n",
    "        \n",
    "        return sol\n"
   ]
  },
  {
   "cell_type": "markdown",
   "metadata": {
    "colab_type": "text",
    "id": "TaT8vF3claeX"
   },
   "source": [
    "### 34. N-Queens II\n",
    "Follow up for N-Queens problem.\n",
    "\n",
    "Now, instead outputting board configurations, return the total number of distinct solutions.\n",
    "```\n",
    "Example\n",
    "For n=4, there are 2 distinct solutions.\n",
    "```"
   ]
  },
  {
   "cell_type": "code",
   "execution_count": null,
   "metadata": {
    "colab": {},
    "colab_type": "code",
    "id": "in-vLPZFldsJ"
   },
   "outputs": [],
   "source": [
    "class Solution:\n",
    "    \"\"\"\n",
    "    Get all distinct N-Queen solutions\n",
    "    @param n: The number of queens\n",
    "    @return: All distinct solutions\n",
    "    \"\"\"\n",
    "    def totalNQueens(self, n):\n",
    "        \n",
    "        if n<=0:\n",
    "            return []\n",
    "        N = n\n",
    "        #########################################################\n",
    "        NQueens = [0]*N \n",
    "        Count = 0\n",
    "        NQ = []\n",
    "        def check_pos_valid(loop,value):\n",
    "            index = 0\n",
    "            data = 0\n",
    "            for index in xrange(loop):\n",
    "                data = NQueens[index]\n",
    "                if value == data:\n",
    "                    return 0\n",
    "                if index+data == loop+value:\n",
    "                    return 0\n",
    "                if index-data == loop-value:\n",
    "                    return 0\n",
    "            return 1\n",
    "        def N_queens(index,NQueens):\n",
    "            \n",
    "            for loop in xrange(N):\n",
    "                if check_pos_valid(index,loop)==1:\n",
    "                    NQueens[index] = loop\n",
    "                    if N-1 == index:\n",
    "                        \n",
    "                        NQ.append(list(NQueens))\n",
    "                        NQueens = map(lambda x:0, NQueens)\n",
    "                        return \n",
    "                    N_queens(index+1,NQueens)\n",
    "                    NQueens[index] = 0 \n",
    "        N_queens(0,NQueens)\n",
    "        \n",
    "        #########################################################\n",
    "        sample = \".\"*n\n",
    "        \n",
    "        sol = []\n",
    "        for nq in NQ:\n",
    "            ans = []\n",
    "            for i in xrange(len(nq)):\n",
    "                k=nq[i]\n",
    "                ans.append(sample[:k]+'Q'+sample[k+1:])\n",
    "            sol.append(ans)\n",
    "        \n",
    "        return len(sol)\n",
    " "
   ]
  },
  {
   "cell_type": "markdown",
   "metadata": {
    "colab_type": "text",
    "id": "RK37TTZRl4z1"
   },
   "source": [
    "### 15. Permutations\n",
    "Given a list of numbers, return all possible permutations.\n",
    "```\n",
    "Example\n",
    "For nums = [1,2,3], the permutations are:\n",
    "\n",
    "[\n",
    "  [1,2,3],\n",
    "  [1,3,2],\n",
    "  [2,1,3],\n",
    "  [2,3,1],\n",
    "  [3,1,2],\n",
    "  [3,2,1]\n",
    "]\n",
    "Challenge\n",
    "Do it without recursion.\n",
    "```"
   ]
  },
  {
   "cell_type": "code",
   "execution_count": null,
   "metadata": {
    "colab": {},
    "colab_type": "code",
    "id": "3tq_GBCQl8wm"
   },
   "outputs": [],
   "source": [
    "class Solution:\n",
    "    \"\"\"\n",
    "    @param nums: A list of Integers.\n",
    "    @return: A list of permutations.\n",
    "    \"\"\"\n",
    "    def permute1(self, nums):\n",
    "        L  = []\n",
    "        if (nums == None or len(nums)==0):\n",
    "            return L\n",
    "        if(len(nums)==1):\n",
    "            L.append(nums)\n",
    "            return L\n",
    "        for i in range(len(nums)):\n",
    "            nums_cpy = list(nums)\n",
    "            num = nums[i]\n",
    "            del nums_cpy[i]\n",
    "            L2 = self.permute(nums_cpy)\n",
    "            for l2 in L2:\n",
    "                l2.insert(0,num)\n",
    "            L = L + L2\n",
    "        return L        \n",
    "    \n",
    "    def permute(self, S):\n",
    "        res = []\n",
    "        def dfs(tmp, index):\n",
    "            if len(tmp) == len(S):\n",
    "                res.append(tmp)\n",
    "                return \n",
    "            for i in range(len(S)):\n",
    "                if S[i] in tmp:\n",
    "                    continue\n",
    "                dfs(tmp + [S[i]], i+1)\n",
    "        dfs([], 0)\n",
    "        return res"
   ]
  },
  {
   "cell_type": "markdown",
   "metadata": {
    "colab_type": "text",
    "id": "YTWh_cFJlhCu"
   },
   "source": [
    "### 16. Permutations II\n",
    "Given a list of numbers with duplicate number in it. Find all unique permutations.\n",
    "```\n",
    "Example\n",
    "For numbers [1,2,2] the unique permutations are:\n",
    "\n",
    "[\n",
    "  [1,2,2],\n",
    "  [2,1,2],\n",
    "  [2,2,1]\n",
    "]\n",
    "Challenge\n",
    "Using recursion to do it is acceptable. If you can do it without recursion, that would be great!\n",
    "```"
   ]
  },
  {
   "cell_type": "code",
   "execution_count": null,
   "metadata": {
    "colab": {},
    "colab_type": "code",
    "id": "-totR1a5l0ve"
   },
   "outputs": [],
   "source": [
    "class Solution:\n",
    "    \"\"\"\n",
    "    @param nums: A list of Integers.\n",
    "    @return: A list of permutations.\n",
    "    \"\"\"\n",
    "    def permuteUnique(self, S):\n",
    "        res = []\n",
    "        S = sorted(S)\n",
    "    \n",
    "        def dfs(tmp, s):\n",
    "            if len(s) == 0:\n",
    "                res.append(tmp)\n",
    "                return\n",
    "            for i in range(len(s)):\n",
    "                if 0 < i < len(s) and s[i] == s[i-1]:\n",
    "                    continue\n",
    "                dfs(tmp + [s[i]], s[:i] + s[i+1:])\n",
    "                    \n",
    "        dfs([], S)\n",
    "        \n",
    "        return res"
   ]
  },
  {
   "cell_type": "markdown",
   "metadata": {
    "colab_type": "text",
    "id": "32aoqktIrfFD"
   },
   "source": [
    "### 828. Word Pattern\n",
    "Given a pattern and a string str, find if str follows the same pattern.\n",
    "\n",
    "Here follow means a full match, such that there is a bijection between a letter in pattern and a non-empty word in str.\n",
    "```\n",
    "Example\n",
    "Given pattern = \"abba\", str = \"dog cat cat dog\", return true.\n",
    "Given pattern = \"abba\", str = \"dog cat cat fish\", return false.\n",
    "Given pattern = \"aaaa\", str = \"dog cat cat dog\", return false.\n",
    "Given pattern = \"abba\", str = \"dog dog dog dog\", return false\n",
    "```"
   ]
  },
  {
   "cell_type": "code",
   "execution_count": null,
   "metadata": {
    "colab": {
     "base_uri": "https://localhost:8080/",
     "height": 52
    },
    "colab_type": "code",
    "id": "5lr3Mk6MrjcD",
    "outputId": "c3aff109-610d-4cca-918e-a1f6a4b2ad9c"
   },
   "outputs": [
    {
     "name": "stdout",
     "output_type": "stream",
     "text": [
      "False\n",
      "False\n"
     ]
    }
   ],
   "source": [
    "class Solution:\n",
    "    \"\"\"\n",
    "    @param pattern: a string, denote pattern string\n",
    "    @param str: a string, denote matching string\n",
    "    @return: an boolean, denote whether the pattern string and the matching string match or not\n",
    "    \"\"\"\n",
    "    def wordPattern(self, pattern, Str):\n",
    "        words = Str.split(' ')\n",
    "        match = {}\n",
    "        rmatch = {}\n",
    "        for i in range(len(words)):\n",
    "            word = words[i]\n",
    "            ch = pattern[i]\n",
    "            if ch not in match:\n",
    "                match[ch] = word\n",
    "            if word not in rmatch:\n",
    "                rmatch[word] = ch\n",
    "            if len(match) != len(rmatch):\n",
    "                return False\n",
    "                \n",
    "        return True\n",
    "    \n",
    "if __name__ == \"__main__\":\n",
    "    s = Solution()\n",
    "    print s.wordPattern('abba', 'dog dog dog dog')\n",
    "    print s.wordPattern('aa', 'bog bod')\n",
    "    "
   ]
  },
  {
   "cell_type": "code",
   "execution_count": null,
   "metadata": {
    "colab": {
     "base_uri": "https://localhost:8080/",
     "height": 35
    },
    "colab_type": "code",
    "id": "wRFqFMvcuHRm",
    "outputId": "e444bb83-08ad-477b-96c3-aba0dd7dbabb"
   },
   "outputs": [
    {
     "data": {
      "text/plain": [
       "list"
      ]
     },
     "execution_count": 5,
     "metadata": {
      "tags": []
     },
     "output_type": "execute_result"
    }
   ],
   "source": [
    "d = {'1': 'one', '3': 'three', '2': 'two', '5': 'five', '4': 'four'}\n",
    "type(d.values())"
   ]
  },
  {
   "cell_type": "markdown",
   "metadata": {
    "colab_type": "text",
    "id": "nJFFaBUA3owm"
   },
   "source": [
    "### 829. Word Pattern II\n",
    "Given a pattern and a string str, find if str follows the same pattern.\n",
    "\n",
    "Here follow means a full match, such that there is a bijection between a letter in pattern and a non-empty substring in str.(i.e if a corresponds to s, then b cannot correspond to s. For example, given pattern = \"ab\", str = \"ss\", return false.)\n",
    "```\n",
    "Example\n",
    "Given pattern = \"abab\", str = \"redblueredblue\", return true.\n",
    "Given pattern = \"aaaa\", str = \"asdasdasdasd\", return true.\n",
    "Given pattern = \"aabb\", str = \"xyzabcxzyabc\", return false.\n",
    "```"
   ]
  },
  {
   "cell_type": "code",
   "execution_count": null,
   "metadata": {
    "colab": {},
    "colab_type": "code",
    "id": "3xvsTD-P5fK5"
   },
   "outputs": [],
   "source": [
    "class Solution:\n",
    "    \"\"\"\n",
    "    @param pattern: a string,denote pattern string\n",
    "    @param str: a string, denote matching string\n",
    "    @return: a boolean\n",
    "    \"\"\"\n",
    "    def wordPatternMatch(self, pattern, str):\n",
    "        ptn_dic = {}\n",
    "      \n",
    "        def dfs_is_matched(ptn, s):\n",
    "#            print ptn, s, ptn_dic\n",
    "            if len(ptn) == 0:\n",
    "                return len(s) == 0\n",
    "            \n",
    "            c = ptn[0] \n",
    "            if c in ptn_dic:\n",
    "                if not s.startswith(ptn_dic[c]):\n",
    "                    return False # existing pattern not matching\n",
    "                \n",
    "                l_of_ptn = len(ptn_dic[c])\n",
    "                return dfs_is_matched(ptn[1:], s[l_of_ptn:])\n",
    "            \n",
    "            for i in range(len(s)): \n",
    "                word = s[0:i+1]\n",
    "                if word in ptn_dic.values():\n",
    "                    continue\n",
    "                \n",
    "                ptn_dic[c] = word\n",
    "                if dfs_is_matched(ptn[1:], s[i+1:]):\n",
    "                    return True\n",
    "                ptn_dic.pop(c)\n",
    "            \n",
    "            return False\n",
    "        \n",
    "        return dfs_is_matched(pattern, str)"
   ]
  },
  {
   "cell_type": "markdown",
   "metadata": {
    "colab_type": "text",
    "id": "x-f8VV0InC3p"
   },
   "source": [
    "### 123. Word Search\n",
    "Given a 2D board and a word, find if the word exists in the grid.\n",
    "\n",
    "The word can be constructed from letters of sequentially adjacent cell, where \"adjacent\" cells are those horizontally or vertically neighboring. The same letter cell may not be used more than once.\n",
    "```\n",
    "Example\n",
    "Given board =\n",
    "\n",
    "[\n",
    "  \"ABCE\",\n",
    "  \"SFCS\",\n",
    "  \"ADEE\"\n",
    "]\n",
    "word = \"ABCCED\", -> returns true,\n",
    "word = \"SEE\", -> returns true,\n",
    "word = \"ABCB\", -> returns false.\n",
    "```"
   ]
  },
  {
   "cell_type": "code",
   "execution_count": null,
   "metadata": {
    "colab": {
     "base_uri": "https://localhost:8080/",
     "height": 34
    },
    "colab_type": "code",
    "id": "5wQYuLqCnIWR",
    "outputId": "4d9aa63f-5590-490c-de64-4670f51d4744"
   },
   "outputs": [
    {
     "name": "stdout",
     "output_type": "stream",
     "text": [
      "True\n"
     ]
    }
   ],
   "source": [
    "class Solution:\n",
    "    \"\"\"\n",
    "    @param: board: A list of lists of character\n",
    "    @param: word: A string\n",
    "    @return: A boolean\n",
    "    \"\"\"\n",
    "    def exist(self, board, word):\n",
    "        if len(word) == 0:\n",
    "            return True\n",
    "        m, n = len(board), len(board[0])\n",
    "        if m == 0 or n == 0:\n",
    "            return False\n",
    "        # Visited Matrix\n",
    "        visited = [[False for j in range(n)] for i in range(m)]\n",
    "        # DFS\n",
    "        for i in range(m):\n",
    "            for j in range(n):\n",
    "                if self.dfs(board, word, visited, i, j):\n",
    "                    return True\n",
    "        return False\n",
    "\n",
    "\n",
    "    def dfs(self, board, word, visited, row, col):\n",
    "        if word == '':\n",
    "            return True\n",
    "        m, n = len(board), len(board[0])\n",
    "        if row < 0 or row >= m or col < 0 or col >= n:\n",
    "            return False\n",
    "        if board[row][col] == word[0] and not visited[row][col]:\n",
    "            visited[row][col] = True\n",
    "            # row -+ 1, col -+ 1\n",
    "            if self.dfs(board, word[1:], visited, row - 1, col) \\\n",
    "            or self.dfs(board, word[1:], visited, row, col - 1) \\\n",
    "            or self.dfs(board, word[1:], visited, row + 1, col) \\\n",
    "            or self.dfs(board, word[1:], visited, row, col + 1):\n",
    "                return True\n",
    "            else:\n",
    "                visited[row][col] = False\n",
    "\n",
    "\n",
    "if __name__ == \"__main__\":\n",
    "    test_case = [\n",
    "                 \"ABCE\",\n",
    "                 \"SFCS\",\n",
    "                 \"ADEE\"\n",
    "                ]\n",
    "    print ( Solution().exist(test_case, 'SEE') )\n",
    "\n"
   ]
  },
  {
   "cell_type": "markdown",
   "metadata": {
    "colab_type": "text",
    "id": "frBf69gO3oXR"
   },
   "source": [
    "### 132. Word Search II\n",
    "Given a matrix of lower alphabets and a dictionary. Find all words in the dictionary that can be found in the matrix. A word can start from any position in the matrix and go left/right/up/down to the adjacent position. One character only be used once in one word.\n",
    "```\n",
    "Example\n",
    "Given matrix:\n",
    "\n",
    "doaf\n",
    "agai\n",
    "dcan\n",
    "and dictionary:\n",
    "\n",
    "{\"dog\", \"dad\", \"dgdg\", \"can\", \"again\"}\n",
    "\n",
    "return {\"dog\", \"dad\", \"can\", \"again\"}\n",
    "\n",
    "\n",
    "dog:\n",
    "doaf\n",
    "agai\n",
    "dcan\n",
    "dad:\n",
    "\n",
    "doaf\n",
    "agai\n",
    "dcan\n",
    "can:\n",
    "\n",
    "doaf\n",
    "agai\n",
    "dcan\n",
    "again:\n",
    "\n",
    "doaf\n",
    "agai\n",
    "dcan\n",
    "Challenge\n",
    "Using trie to implement your algorithm.\n",
    "```"
   ]
  },
  {
   "cell_type": "code",
   "execution_count": null,
   "metadata": {
    "colab": {
     "base_uri": "https://localhost:8080/",
     "height": 34
    },
    "colab_type": "code",
    "id": "KiFC4D4c5jQL",
    "outputId": "dd546870-f68c-401a-dbb0-c6ebf70fecf8"
   },
   "outputs": [
    {
     "name": "stdout",
     "output_type": "stream",
     "text": [
      "['dog', 'dad', 'can', 'again']\n"
     ]
    }
   ],
   "source": [
    "class Solution:\n",
    "    \"\"\"\n",
    "    @param: board: A list of lists of character\n",
    "    @param: word: A string\n",
    "    @return: A boolean\n",
    "    \"\"\"\n",
    "    def exist(self, board, word):\n",
    "        if len(word) == 0:\n",
    "            return True\n",
    "        m, n = len(board), len(board[0])\n",
    "        if m == 0 or n == 0:\n",
    "            return False\n",
    "        # Visited Matrix\n",
    "        visited = [[False for j in range(n)] for i in range(m)]\n",
    "        # DFS\n",
    "        for i in range(m):\n",
    "            for j in range(n):\n",
    "                if self.dfs(board, word, visited, i, j):\n",
    "                    return True\n",
    "        return False\n",
    "\n",
    "\n",
    "    def dfs(self, board, word, visited, row, col):\n",
    "        if word == '':\n",
    "            return True\n",
    "        m, n = len(board), len(board[0])\n",
    "        if row < 0 or row >= m or col < 0 or col >= n:\n",
    "            return False\n",
    "        if board[row][col] == word[0] and not visited[row][col]:\n",
    "            visited[row][col] = True\n",
    "            # row -+ 1, col -+ 1\n",
    "            if self.dfs(board, word[1:], visited, row - 1, col) \\\n",
    "            or self.dfs(board, word[1:], visited, row, col - 1) \\\n",
    "            or self.dfs(board, word[1:], visited, row + 1, col) \\\n",
    "            or self.dfs(board, word[1:], visited, row, col + 1):\n",
    "                return True\n",
    "            else:\n",
    "                visited[row][col] = False\n",
    "\n",
    "\n",
    "    def wordSearchII(self, board, words):\n",
    "        ans = []\n",
    "        for word in words:\n",
    "            if self.exist(board, word):\n",
    "                ans.append(word)\n",
    "        return ans\n",
    "\n",
    "if __name__ == \"__main__\":\n",
    "    test_case = [\"doaf\",\"agai\",\"dcan\"]\n",
    "    words = [\"dog\", \"dad\", \"dgdg\", \"can\", \"again\"]\n",
    "    #print(Solution().exist(test_case, 'SEE'))\n",
    "    print(Solution().wordSearchII(test_case, words))"
   ]
  },
  {
   "cell_type": "markdown",
   "metadata": {
    "colab_type": "text",
    "id": "0lGiRe1k7uuG"
   },
   "source": [
    "### Word Ladder I \n",
    "\n",
    "Given two words (beginWord and endWord), and a dictionary's word list, find the length of shortest transformation sequence from beginWord to endWord, such that:\n",
    "\n",
    "Only one letter can be changed at a time.\n",
    "Each transformed word must exist in the word list. Note that beginWord is not a transformed word.\n",
    "Note:\n",
    "\n",
    "Return 0 if there is no such transformation sequence.\n",
    "All words have the same length.\n",
    "All words contain only lowercase alphabetic characters.\n",
    "You may assume no duplicates in the word list.\n",
    "You may assume beginWord and endWord are non-empty and are not the same.\n",
    "```\n",
    "Example 1:\n",
    "\n",
    "Input:\n",
    "beginWord = \"hit\",\n",
    "endWord = \"cog\",\n",
    "wordList = [\"hot\",\"dot\",\"dog\",\"lot\",\"log\",\"cog\"]\n",
    "\n",
    "Output: 5\n",
    "\n",
    "Explanation: As one shortest transformation is \"hit\" -> \"hot\" -> \"dot\" -> \"dog\" -> \"cog\",\n",
    "return its length 5.\n",
    "Example 2:\n",
    "\n",
    "Input:\n",
    "beginWord = \"hit\"\n",
    "endWord = \"cog\"\n",
    "wordList = [\"hot\",\"dot\",\"dog\",\"lot\",\"log\"]\n",
    "\n",
    "Output: 0\n",
    "\n",
    "Explanation: The endWord \"cog\" is not in wordList, therefore no possible transformation.\n",
    "```\n",
    "\n",
    "notes:\n",
    "1. resolved by bfs, shortest path problem"
   ]
  },
  {
   "cell_type": "code",
   "execution_count": null,
   "metadata": {
    "colab": {},
    "colab_type": "code",
    "id": "Ib6IoEk874Pt"
   },
   "outputs": [],
   "source": [
    "class Solution:\n",
    "    \"\"\"\n",
    "    @param: start: a string\n",
    "    @param: end: a string\n",
    "    @param: dict: a set of string\n",
    "    @return: An integer\n",
    "    \"\"\"\n",
    "    def ladderLength(self, start, end, dict):\n",
    "        dict.add(end)\n",
    "        queue = collections.deque([start])\n",
    "        visited = set([start])\n",
    "        \n",
    "        distance = 0\n",
    "        while queue:\n",
    "            distance += 1\n",
    "            for i in range(len(queue)):\n",
    "                word = queue.popleft()\n",
    "                if word == end:\n",
    "                    return distance\n",
    "                \n",
    "                for next_word in self.get_next_words(word):\n",
    "                    if next_word not in dict or next_word in visited:\n",
    "                        continue\n",
    "                    queue.append(next_word)\n",
    "                    visited.add(next_word) \n",
    "\n",
    "        return 0\n",
    "        \n",
    "    # O(26 * L^2)\n",
    "    # L is the length of word\n",
    "    def get_next_words(self, word):\n",
    "        words = []\n",
    "        for i in range(len(word)):\n",
    "            left, right = word[:i], word[i + 1:]\n",
    "            for char in 'abcdefghijklmnopqrstuvwxyz':\n",
    "                if word[i] == char:\n",
    "                    continue\n",
    "                words.append(left + char + right)\n",
    "        return words"
   ]
  },
  {
   "cell_type": "markdown",
   "metadata": {
    "colab_type": "text",
    "id": "GqkBRrhL3oJx"
   },
   "source": [
    "### 121. Word Ladder II\n",
    "Given two words (start and end), and a dictionary, find all shortest transformation sequence(s) from start to end, such that:\n",
    "\n",
    "Only one letter can be changed at a time\n",
    "Each intermediate word must exist in the dictionary\n",
    "```\n",
    "Example\n",
    "Given:\n",
    "start = \"hit\"\n",
    "end = \"cog\"\n",
    "dict = [\"hot\",\"dot\",\"dog\",\"lot\",\"log\"]\n",
    "Return\n",
    "  [\n",
    "    [\"hit\",\"hot\",\"dot\",\"dog\",\"cog\"],\n",
    "    [\"hit\",\"hot\",\"lot\",\"log\",\"cog\"]\n",
    "  ]\n",
    "  ```"
   ]
  },
  {
   "cell_type": "code",
   "execution_count": null,
   "metadata": {
    "colab": {},
    "colab_type": "code",
    "id": "a9eBLTdL5YiU"
   },
   "outputs": [],
   "source": [
    "class Solution(object):\n",
    "    # param start, a string\n",
    "    # param end, a string\n",
    "    # param dict, a set of string\n",
    "    # return a list of lists of string\n",
    "    def findLadders(self, start, end, dict):\n",
    "        # Write your code here\n",
    "        dict.add(start)\n",
    "        dict.add(end)\n",
    "\n",
    "        length = len(start)\n",
    "        preMap = {}\n",
    "        for word in dict:\n",
    "            preMap[word] = []\n",
    "        \n",
    "        result = []\n",
    "        cur_level = set()\n",
    "        cur_level.add(start)\n",
    "        \n",
    "        \n",
    "        #BFS part, build premap\n",
    "        while True:\n",
    "            pre_level = cur_level\n",
    "            cur_level = set()\n",
    "            for word in pre_level:\n",
    "                dict.remove(word)\n",
    "            for word in pre_level:\n",
    "                for i in range(length):\n",
    "                    left = word[:i]\n",
    "                    right = word[i+1:]\n",
    "                    for c in 'abcdefghijklmnopqrstuvwxyz':\n",
    "                        if c != word[i]:\n",
    "                            nextWord = left + c + right\n",
    "                            if nextWord in dict:\n",
    "                                preMap[nextWord].append(word)\n",
    "                                cur_level.add(nextWord)\n",
    "            if len(cur_level) == 0:\n",
    "                return []\n",
    "            if end in cur_level:\n",
    "                break\n",
    "\n",
    "        # dfs part \n",
    "        def buildPath(path, word):\n",
    "            if len(preMap[word]) == 0:\n",
    "                result.append([word] + path)\n",
    "                return\n",
    "            path.insert(0,word)\n",
    "            for w in preMap[word]:\n",
    "                buildPath(path,w)\n",
    "            path.pop(0)\n",
    "                \n",
    "                \n",
    "        buildPath([], end)\n",
    "        return result"
   ]
  },
  {
   "cell_type": "markdown",
   "metadata": {
    "colab_type": "text",
    "id": "1awE9D_4vunO"
   },
   "source": [
    "### 634. Word Squares\n",
    "Given a set of words without duplicates, find all word squares you can build from them.\n",
    "\n",
    "A sequence of words forms a valid word square if the kth row and column read the exact same string, where 0 ≤ k < max(numRows, numColumns).\n",
    "```\n",
    "For example, the word sequence [\"ball\",\"area\",\"lead\",\"lady\"] forms a word square because each word reads the same both horizontally and vertically.\n",
    "\n",
    "b a l l\n",
    "a r e a\n",
    "l e a d\n",
    "l a d y\n",
    "Example\n",
    "Given a set [\"area\",\"lead\",\"wall\",\"lady\",\"ball\"]\n",
    "return [[\"wall\",\"area\",\"lead\",\"lady\"],[\"ball\",\"area\",\"lead\",\"lady\"]]\n",
    "Explanation:\n",
    "The output consists of two word squares. The order of output does not matter (just the order of words in each word square matters).\n",
    "\n",
    "Given a set [\"abat\",\"baba\",\"atan\",\"atal\"]\n",
    "return [[\"baba\",\"abat\",\"baba\",\"atan\"],[\"baba\",\"abat\",\"baba\",\"atal\"]]\n",
    "Explanation:\n",
    "The output consists of two word squares. The order of output does not matter (just the order of words in each word square matters).\n",
    "```"
   ]
  },
  {
   "cell_type": "code",
   "execution_count": null,
   "metadata": {
    "colab": {
     "base_uri": "https://localhost:8080/",
     "height": 35
    },
    "colab_type": "code",
    "id": "dryGfGdlvhMg",
    "outputId": "8dfadd48-bb66-485a-eaeb-676a2fffd8f8"
   },
   "outputs": [
    {
     "name": "stdout",
     "output_type": "stream",
     "text": [
      "[['baba', 'abat', 'baba', 'atal'], ['baba', 'abat', 'baba', 'atan']]\n"
     ]
    }
   ],
   "source": [
    "class Trie:\n",
    "    def __init__(self, words):\n",
    "        self.root = {}\n",
    "        for word in words:\n",
    "            self.add_word(word)\n",
    "    \n",
    "    def add_word(self, word):\n",
    "        \n",
    "        def dfs(start, trie):\n",
    "            if start == len(word):\n",
    "                return\n",
    "            ch = word[start]\n",
    "            if ch not in trie:\n",
    "                trie[ch] = {}\n",
    "            dfs(start + 1, trie[ch])\n",
    "        \n",
    "        dfs(0, self.root)\n",
    "            \n",
    "    def get_words(self, prefix):\n",
    "        trie = self.root\n",
    "        \n",
    "        for ch in prefix:\n",
    "            if ch not in trie:\n",
    "                return []\n",
    "            trie = trie[ch]\n",
    "        \n",
    "        res = []\n",
    "        \n",
    "        def dfs(trie, tmp):\n",
    "            if not trie:\n",
    "                res.append(tmp)\n",
    "                return\n",
    "            for ch in trie:\n",
    "                dfs(trie[ch], tmp + ch)\n",
    "                \n",
    "        dfs(trie, prefix)\n",
    "        return res\n",
    "    \n",
    "class Solution(object):\n",
    "    def wordSquares(self, words):\n",
    "        if not words:\n",
    "            return []\n",
    "        res = []\n",
    "        trie = Trie(words)\n",
    "        n = len(words[0])\n",
    "        \n",
    "        def dfs(start, tmp, prefix):\n",
    "            cands = trie.get_words(prefix)\n",
    "            for cand in cands:\n",
    "                tmp.append(cand)\n",
    "                if len(tmp) == n:\n",
    "                    res.append(tmp[:])\n",
    "                    tmp.pop()\n",
    "                    continue\n",
    "                new_prefix = ''.join([word[start+1] for word in tmp])\n",
    "                dfs(start+1, tmp, new_prefix)\n",
    "                tmp.pop()\n",
    "        \n",
    "        dfs(0, [], '')\n",
    "        return res \n",
    "\n",
    "if __name__ == \"__main__\":\n",
    "        \n",
    "    trie = Trie([\"abat\",\"baba\",\"atan\",\"atal\"])\n",
    "    trie.get_words('')\n",
    "    s = Solution()\n",
    "    print s.wordSquares([\"abat\",\"baba\",\"atan\",\"atal\"])\n",
    "    \n"
   ]
  },
  {
   "cell_type": "markdown",
   "metadata": {
    "colab_type": "text",
    "id": "AGZO2YVBzgXx"
   },
   "source": [
    "# Graph Based DFS\n",
    "\n"
   ]
  },
  {
   "cell_type": "code",
   "execution_count": null,
   "metadata": {
    "colab": {},
    "colab_type": "code",
    "id": "0dPY2xCDqvMq"
   },
   "outputs": [],
   "source": [
    "class UndirectedGraphNode:\n",
    "    def __init__(self, x):\n",
    "        self.label = x\n",
    "        self.neighbors = []\n",
    "    \n",
    "    @staticmethod\n",
    "    def deserialize(data):\n",
    "        data = data[1:-1]\n",
    "        nodes = [node[0] for node in data.split('#')]\n",
    "        mapping = {}\n",
    "        for node in nodes:\n",
    "            mapping[node] = UndirectedGraphNode(node)         \n",
    "        graph = []\n",
    "        data = data.split('#')    \n",
    "        for node_str in data:\n",
    "            node_list = node_str.split(',')\n",
    "            base = mapping[node_list[0]]\n",
    "            for nb in node_list[1:]:\n",
    "                base.neighbors.append(mapping[nb])\n",
    "            graph.append(base)\n",
    "        \n",
    "        return graph\n",
    "   \n",
    "    @staticmethod \n",
    "    def serialize(graph):\n",
    "        ser = ''\n",
    "        for node in graph:\n",
    "            tmp = str(node.label)\n",
    "            for nb in node.neighbors:\n",
    "                tmp += ',' + str(nb.label)\n",
    "            ser += '#' + tmp\n",
    "        return '{' + ser[1:] + '}'\n",
    "    \n",
    "if __name__ == \"__main__\":\n",
    "    graph = UndirectedGraphNode.deserialize(\"{1,2,3,4#2,1,3#3,1#4,1,5#5,4}\")\n",
    "    print UndirectedGraphNode.serialize(graph)"
   ]
  },
  {
   "cell_type": "markdown",
   "metadata": {
    "colab_type": "text",
    "id": "bDDISq3A0iS2"
   },
   "source": [
    "# DataStructure"
   ]
  },
  {
   "cell_type": "markdown",
   "metadata": {
    "colab_type": "text",
    "id": "Cbq_aPM6gWiJ"
   },
   "source": [
    "## Stack"
   ]
  },
  {
   "cell_type": "markdown",
   "metadata": {
    "colab_type": "text",
    "id": "398y3dUXhNVr"
   },
   "source": [
    "\n",
    "### 495. Implement Stack\n",
    "Implement a stack. You can use any data structure inside a stack except stack itself to implement it.\n",
    "```\n",
    "Example\n",
    "push(1)\n",
    "pop()\n",
    "push(2)\n",
    "top()  // return 2\n",
    "pop()\n",
    "isEmpty() // return true\n",
    "push(3)\n",
    "isEmpty() // return false\n",
    "```"
   ]
  },
  {
   "cell_type": "code",
   "execution_count": null,
   "metadata": {
    "colab": {},
    "colab_type": "code",
    "id": "CAcnIaOLhBWv"
   },
   "outputs": [],
   "source": [
    "class Stack:\n",
    "    # initialize your data structure here.\n",
    "    def __init__(self):\n",
    "        self.queue = []\n",
    "\n",
    "    # param x, an integer, push a new item into the stack\n",
    "    # @return nothing\n",
    "    def push(self, x):\n",
    "        self.queue.append(x)\n",
    "\n",
    "    # @return nothing, pop the top of the stack\n",
    "    def pop(self):\n",
    "        for x in range(len(self.queue) - 1):\n",
    "            self.queue.append(self.queue.pop(0))\n",
    "        self.queue.pop(0)\n",
    "\n",
    "    # @return an integer, return the top of the stack\n",
    "    def top(self):\n",
    "        top = None\n",
    "        for x in range(len(self.queue)):\n",
    "            top = self.queue.pop(0)\n",
    "            self.queue.append(top)\n",
    "        return top\n",
    "\n",
    "    # @return an boolean, check the stack is empty or not.\n",
    "    def isEmpty(self):\n",
    "        return self.queue == []"
   ]
  },
  {
   "cell_type": "markdown",
   "metadata": {
    "colab_type": "text",
    "id": "Zq2iEONtpjzX"
   },
   "source": [
    "### 494. Implement Stack by Two Queues\n",
    "Implement a stack by two queues. The queue is first in first out (FIFO). That means you can not directly pop the last element in a queue.\n",
    "```\n",
    "Example\n",
    "push(1)\n",
    "pop()\n",
    "push(2)\n",
    "isEmpty() // return false\n",
    "top() // return 2\n",
    "pop()\n",
    "isEmpty() // return true\n",
    "```"
   ]
  },
  {
   "cell_type": "code",
   "execution_count": null,
   "metadata": {
    "colab": {},
    "colab_type": "code",
    "id": "ANO8E_oypnTb"
   },
   "outputs": [],
   "source": [
    "class Stack:\n",
    "    \"\"\"\n",
    "    @param: x: An integer\n",
    "    @return: nothing\n",
    "    \"\"\"\n",
    "    q = []\n",
    "    \n",
    "    def push(self, x):\n",
    "        self.q.append(x)\n",
    "\n",
    "    \"\"\"\n",
    "    @return: nothing\n",
    "    \"\"\"\n",
    "    def pop(self):\n",
    "        return self.q.pop(-1)\n",
    "\n",
    "    \"\"\"\n",
    "    @return: An integer\n",
    "    \"\"\"\n",
    "    def top(self):\n",
    "        return self.q[-1]\n",
    "\n",
    "    \"\"\"\n",
    "    @return: True if the stack is empty\n",
    "    \"\"\"\n",
    "    def isEmpty(self):\n",
    "        return len(self.q)== 0"
   ]
  },
  {
   "cell_type": "markdown",
   "metadata": {
    "colab_type": "text",
    "id": "VJ1odeDggYcW"
   },
   "source": [
    "## Queue"
   ]
  },
  {
   "cell_type": "markdown",
   "metadata": {
    "colab_type": "text",
    "id": "x_aL4YvkrRX8"
   },
   "source": [
    "### 40. Implement Queue by Two Stacks\n",
    "As the title described, you should only use two stacks to implement a queue's actions.\n",
    "\n",
    "The queue should support push(element), pop() and top() where pop is pop the first(a.k.a front) element in the queue.\n",
    "\n",
    "Both pop and top methods should return the value of first element.\n",
    "```\n",
    "Example\n",
    "push(1)\n",
    "pop()     // return 1\n",
    "push(2)\n",
    "push(3)\n",
    "top()     // return 2\n",
    "pop()     // return 2\n",
    "Challenge\n",
    "implement it by two stacks, do not use any other data structure and push, pop and top should be O(1) by AVERAGE.\n",
    "```"
   ]
  },
  {
   "cell_type": "code",
   "execution_count": null,
   "metadata": {
    "colab": {},
    "colab_type": "code",
    "id": "O-4ZFXntrXDH"
   },
   "outputs": [],
   "source": [
    "class MyQueue:\n",
    "\n",
    "    def __init__(self):\n",
    "        self.stack1 = []\n",
    "        self.stack2 = []\n",
    "        \n",
    "    def push(self, element):\n",
    "        self.stack1.append(element)\n",
    "\n",
    "    def top(self):\n",
    "        if len(self.stack1) == 0:\n",
    "            return None\n",
    "        while len(self.stack1)>0:\n",
    "            self.stack2.append(self.stack1.pop())\n",
    "        top = self.stack2[-1]\n",
    "        while len(self.stack2)>0:\n",
    "            self.stack1.append(self.stack2.pop())\n",
    "        return top\n",
    "    def pop(self):\n",
    "        if len(self.stack1) == 0:\n",
    "            return None\n",
    "        while len(self.stack1)>0:\n",
    "            self.stack2.append(self.stack1.pop())\n",
    "        top = self.stack2.pop()\n",
    "        while len(self.stack2)>0:\n",
    "            self.stack1.append(self.stack2.pop())\n",
    "        return top"
   ]
  },
  {
   "cell_type": "markdown",
   "metadata": {
    "colab_type": "text",
    "id": "KpUHMUTenoxi"
   },
   "source": [
    "### 642. Moving Average from Data Stream\n",
    "Given a stream of integers and a window size, calculate the moving average of all integers in the sliding window.\n",
    "```\n",
    "Example\n",
    "MovingAverage m = new MovingAverage(3);\n",
    "m.next(1) = 1 // return 1.00000\n",
    "m.next(10) = (1 + 10) / 2 // return 5.50000\n",
    "m.next(3) = (1 + 10 + 3) / 3 // return 4.66667\n",
    "m.next(5) = (10 + 3 + 5) / 3 // return 6.00000\n",
    "```"
   ]
  },
  {
   "cell_type": "code",
   "execution_count": null,
   "metadata": {
    "colab": {},
    "colab_type": "code",
    "id": "id8jsSQSnpMs"
   },
   "outputs": [],
   "source": [
    "class MovingAverage:\n",
    "    \"\"\"\n",
    "    @param: size: An integer\n",
    "    \"\"\"\n",
    "    def __init__(self, size):\n",
    "        self.size = size \n",
    "        self.mv_que = []\n",
    "        self.sum = 0.0\n",
    "\n",
    "    \"\"\"\n",
    "    @param: val: An integer\n",
    "    @return:  \n",
    "    \"\"\"\n",
    "    def next(self, val):\n",
    "        self.sum += val\n",
    "        if len(self.mv_que) == self.size:\n",
    "            self.sum -= self.mv_que.pop(0)\n",
    "        self.mv_que.append(val)\n",
    "        return self.sum / len(self.mv_que)\n",
    "\n",
    "\n",
    "# Your MovingAverage object will be instantiated and called as such:\n",
    "# obj = MovingAverage(size)\n",
    "# param = obj.next(val)"
   ]
  },
  {
   "cell_type": "markdown",
   "metadata": {
    "colab_type": "text",
    "id": "NEMu6omFg9lJ"
   },
   "source": [
    "### 685. First Unique Number In Stream\n",
    "Given a continuous stream of numbers, write a function that returns the first unique number whenever terminating number is reached(include terminating number). If there no unique number before terminating number or you can't find this terminating number, return -1.\n",
    "```\n",
    "Example\n",
    "Given a stream [1, 2, 2, 1, 3, 4, 4, 5, 6] and a number 5\n",
    "return 3\n",
    "\n",
    "Given a stream [1, 2, 2, 1, 3, 4, 4, 5, 6] and a number 7\n",
    "return -1\n",
    "```"
   ]
  },
  {
   "cell_type": "code",
   "execution_count": null,
   "metadata": {
    "colab": {
     "base_uri": "https://localhost:8080/",
     "height": 35
    },
    "colab_type": "code",
    "id": "JLKVCtkhhLKH",
    "outputId": "67747967-ad15-47b9-f8e6-4c35b06324b8"
   },
   "outputs": [
    {
     "name": "stdout",
     "output_type": "stream",
     "text": [
      "3\n"
     ]
    }
   ],
   "source": [
    "class Solution:\n",
    "    \"\"\"\n",
    "    param nums: a continuous stream of numbers\n",
    "    param number: a number\n",
    "    return: returns the first unique number\n",
    "    \"\"\"\n",
    "    def firstUniqueNumber(self, nums, number):\n",
    "        ds = DataStream()\n",
    "        for num in nums:\n",
    "            ds.add(num)\n",
    "            if num == number:\n",
    "                return ds.firstUnique()\n",
    "        return -1\n",
    "\n",
    "    \n",
    "class ListNode(object):\n",
    "    def __init__(self, val):\n",
    "        self.val = val\n",
    "        self.next = None\n",
    "    \n",
    "class DataStream(object):\n",
    "    def __init__(self):\n",
    "        self.head = ListNode(0)\n",
    "        self.tail = self.head\n",
    "        \n",
    "        self.numToPrev = {}\n",
    "        self.duplicates = set()\n",
    "    \n",
    "    def remove(self, number):\n",
    "        prev = self.numToPrev[number]\n",
    "        prev.next = prev.next.next\n",
    "        self.numToPrev.pop(number)\n",
    "        \n",
    "        if prev.next:\n",
    "            self.numToPrev[prev.next.val] = prev\n",
    "        else:\n",
    "            self.tail = prev\n",
    "            \n",
    "    def add(self, number):\n",
    "        if number in self.duplicates:\n",
    "            return \n",
    "        if number in self.numToPrev:\n",
    "            self.remove(number)\n",
    "            self.duplicates.add(number)\n",
    "        else:\n",
    "            node = ListNode(number)\n",
    "            self.numToPrev[number] = self.tail\n",
    "            self.tail.next = node\n",
    "            self.tail = node\n",
    "    def firstUnique(self):\n",
    "        if self.head.next:\n",
    "            return self.head.next.val\n",
    "        return -1 \n",
    "    \n",
    "    \n",
    "    \n",
    "if __name__ == \"__main__\":\n",
    "    s = Solution()\n",
    "    print s.firstUniqueNumber([1, 2, 2, 1, 3, 4, 4, 5, 6], 5)"
   ]
  },
  {
   "cell_type": "markdown",
   "metadata": {
    "colab_type": "text",
    "id": "iLip1sURVNck"
   },
   "source": [
    "## Heap \n",
    "\n",
    "```\n",
    "heapq.heappush(heap, item)\n",
    "Push the value item onto the heap, maintaining the heap invariant.\n",
    "\n",
    "heapq.heappop(heap)\n",
    "Pop and return the smallest item from the heap, maintaining the heap invariant. If the heap is empty, IndexError is raised. To access the smallest item without popping it, use heap[0].\n",
    "\n",
    "heapq.heappushpop(heap, item)\n",
    "Push item on the heap, then pop and return the smallest item from the heap. The combined action runs more efficiently than heappush() followed by a separate call to heappop().\n",
    "\n",
    "New in version 2.6.\n",
    "\n",
    "heapq.heapify(x)\n",
    "Transform list x into a heap, in-place, in linear time.\n",
    "\n",
    "heapq.heapreplace(heap, item)\n",
    "Pop and return the smallest item from the heap, and also push the new item. The heap size doesn’t change. If the heap is empty, IndexError is raised.\n",
    "\n",
    "This one step operation is more efficient than a heappop() followed by heappush() and can be more appropriate when using a fixed-size heap. The pop/push combination always returns an element from the heap and replaces it with item.\n",
    "\n",
    "The value returned may be larger than the item added. If that isn’t desired, consider using heappushpop() instead. Its push/pop combination returns the smaller of the two values, leaving the larger value on the heap.\n",
    "\n",
    "The module also offers three general purpose functions based on heaps.\n",
    "\n",
    "heapq.merge(*iterables)\n",
    "Merge multiple sorted inputs into a single sorted output (for example, merge timestamped entries from multiple log files). Returns an iterator over the sorted values.\n",
    "\n",
    "Similar to sorted(itertools.chain(*iterables)) but returns an iterable, does not pull the data into memory all at once, and assumes that each of the input streams is already sorted (smallest to largest).\n",
    "\n",
    "New in version 2.6.\n",
    "\n",
    "heapq.nlargest(n, iterable[, key])\n",
    "Return a list with the n largest elements from the dataset defined by iterable. key, if provided, specifies a function of one argument that is used to extract a comparison key from each element in the iterable: key=str.lower Equivalent to: sorted(iterable, key=key, reverse=True)[:n]\n",
    "\n",
    "New in version 2.4.\n",
    "\n",
    "Changed in version 2.5: Added the optional key argument.\n",
    "\n",
    "heapq.nsmallest(n, iterable[, key])\n",
    "Return a list with the n smallest elements from the dataset defined by iterable. key, if provided, specifies a function of one argument that is used to extract a comparison key from each element in the iterable: key=str.lower Equivalent to: sorted(iterable, key=key)[:n]\n",
    "\n",
    "```"
   ]
  },
  {
   "cell_type": "markdown",
   "metadata": {
    "colab_type": "text",
    "id": "NoivtHK3qHU2"
   },
   "source": [
    "### MaxHeap"
   ]
  },
  {
   "cell_type": "code",
   "execution_count": null,
   "metadata": {
    "colab": {
     "base_uri": "https://localhost:8080/",
     "height": 255
    },
    "colab_type": "code",
    "id": "G5PLlvz7qFOZ",
    "outputId": "4b01de5c-b185-4680-f5cc-e633352f3a63"
   },
   "outputs": [
    {
     "name": "stdout",
     "output_type": "stream",
     "text": [
      "[0, 1, 2, 3, 4, 5, 6, 7, 8, 9]\n",
      "512\n",
      "15\n",
      "3\n",
      "2\n",
      "1\n",
      "1\n",
      "-10\n",
      "---\n",
      "4\n",
      "2\n",
      "1\n",
      "-3\n",
      "-5\n"
     ]
    }
   ],
   "source": [
    "class maxheap(object):\n",
    "\n",
    "    def heapsort(self, nums, lo=None, hi=None):\n",
    "        lo = 0 if lo is None else lo\n",
    "        hi = len(nums)-1 if hi is None else hi\n",
    "        self.heapify(nums)\n",
    "        for i in range(hi, lo, -1):\n",
    "            nums[lo], nums[i] = nums[i], nums[lo]\n",
    "            self.shiftdown(nums, lo, i-1)\n",
    "\n",
    "    def heapify(self, nums, lo=None, hi=None):\n",
    "        lo = 0 if lo is None else lo\n",
    "        hi = len(nums)-1 if hi is None else hi\n",
    "        for i in range(hi//2, lo-1, -1):\n",
    "            self.shiftdown(nums, i, hi)\n",
    "\n",
    "    def heappush(self, nums, val, lo=None, hi=None):\n",
    "        lo = 0 if lo is None else lo\n",
    "        hi = len(nums)-1 if hi is None else hi\n",
    "        hi += 1\n",
    "        nums.insert(hi, val)\n",
    "        self.shiftup(nums, lo, hi)\n",
    "\n",
    "    def heappop(self, nums, lo=None, hi=None):\n",
    "        lo = 0 if lo is None else lo\n",
    "        hi = len(nums)-1 if hi is None else hi\n",
    "        nums[lo], nums[hi] = nums[hi], nums[lo]\n",
    "        self.shiftdown(nums, lo, hi-1)\n",
    "        return nums.pop(hi)\n",
    "\n",
    "    def shiftdown(self, nums, lo=None, hi=None): # shift root to proper pos\n",
    "        lo = 0 if lo is None else lo\n",
    "        hi = len(nums) if hi is None else hi\n",
    "        parent = lo\n",
    "        while parent < hi:\n",
    "            left = parent * 2 + 1\n",
    "            right = parent * 2 + 2\n",
    "            if right <= hi:\n",
    "                child = left if nums[left] > nums[right] else right\n",
    "            elif left <= hi:\n",
    "                child = left\n",
    "            else:\n",
    "                return\n",
    "            if nums[parent] >= nums[child]:\n",
    "                return\n",
    "            nums[parent], nums[child] = nums[child], nums[parent]\n",
    "            parent = child\n",
    "\n",
    "    def shiftup(self, nums, lo=None, hi=None): # shift hi to proper\n",
    "        lo = 0 if lo is None else lo\n",
    "        hi = len(nums) - 1 if hi is None else hi\n",
    "        child = hi\n",
    "        while child > lo:\n",
    "            parent = child // 2\n",
    "            if parent < lo or nums[parent] >= nums[child]:\n",
    "                return\n",
    "            nums[parent], nums[child] = nums[child], nums[parent]\n",
    "            child = parent\n",
    "\n",
    "if __name__ == \"__main__\":\n",
    "    h = maxheap()\n",
    "    nums = range(10)\n",
    "    nums.reverse()\n",
    "    h.heapsort(nums)\n",
    "    print nums\n",
    "    heap = [15,1,2,512,1,3,-10]\n",
    "    h.heapify(heap)\n",
    "    while heap:\n",
    "        print h.heappop(heap)\n",
    "    h.heappush(heap, 1)\n",
    "    h.heappush(heap, 2)\n",
    "    h.heappush(heap, -3)\n",
    "    h.heappush(heap, 4)\n",
    "    h.heappush(heap, -5)\n",
    "    print '---'\n",
    "    while heap:\n",
    "        print h.heappop(heap)\n",
    "\n"
   ]
  },
  {
   "cell_type": "markdown",
   "metadata": {
    "colab_type": "text",
    "id": "H-DKBqhUuaku"
   },
   "source": [
    "### 130. Heapify\n",
    "Given an integer array, heapify it into a min-heap array.\n",
    "```\n",
    "For a heap array A, A[0] is the root of heap, and for each A[i], A[i * 2 + 1] is the left child of A[i] and A[i * 2 + 2] is the right child of A[i].\n",
    "Example\n",
    "Given [3,2,1,4,5], return [1,2,3,4,5] or any legal heap array.\n",
    "\n",
    "Challenge\n",
    "O(n) time complexity\n",
    "```"
   ]
  },
  {
   "cell_type": "code",
   "execution_count": null,
   "metadata": {
    "colab": {
     "base_uri": "https://localhost:8080/",
     "height": 72
    },
    "colab_type": "code",
    "id": "BiD-GtXbued9",
    "outputId": "ee3b5e9e-3298-447f-daec-8eedd0e0f594"
   },
   "outputs": [
    {
     "name": "stdout",
     "output_type": "stream",
     "text": [
      "[3, 5, 6, 10, 8, 9, 7, 13, 25, 20, 19, 24, 48, 42, 11, 57, 30, 88, 79, 43, 76, 32, 35, 28, 53, 78, 80, 87, 66, 68]\n",
      "[3, 5, 6, 10, 8, 9, 7, 13, 25, 20, 19, 24, 48, 42, 11, 57, 30, 88, 79, 43, 76, 32, 35, 28, 53, 78, 80, 87, 66, 68]\n"
     ]
    }
   ],
   "source": [
    "class Solution:\n",
    "    \"\"\"\n",
    "    @param: A: Given an integer array\n",
    "    @return: nothing\n",
    "    \"\"\"\n",
    "    def heapify(self, A):\n",
    "        lo = 0\n",
    "        hi = len(A) - 1\n",
    "        for i in range(hi//2, lo-1, -1):\n",
    "            self.minheapify(A, i, hi)\n",
    "\n",
    "\n",
    "    def minheapify(self, nums, lo=None, hi=None):\n",
    "        lo = 0 if lo is None else lo\n",
    "        hi = len(nums)-1 if hi is None else hi\n",
    "        parent = lo\n",
    "        while parent <= hi:\n",
    "            left = parent * 2 + 1\n",
    "            right = parent * 2 + 2\n",
    "            if right <= hi:\n",
    "                child = left if nums[left] < nums[right] else right\n",
    "            elif left <= hi:\n",
    "                child = left\n",
    "            else:\n",
    "                return\n",
    "            if nums[parent] <= nums[child]:\n",
    "                return\n",
    "            nums[parent], nums[child] = nums[child], nums[parent]\n",
    "            parent = child\n",
    "\n",
    "if __name__ == \"__main__\":\n",
    "    import heapq, random\n",
    "    s = Solution()\n",
    "    nums1 = random.sample(range(100), 30)\n",
    "    nums2 = nums1[:]\n",
    "    heapq.heapify(nums1)\n",
    "    s.heapify(nums2)\n",
    "    print nums1\n",
    "    print nums2"
   ]
  },
  {
   "cell_type": "markdown",
   "metadata": {
    "colab_type": "text",
    "id": "OceH4byn-WeU"
   },
   "source": [
    "### 613. High Five\n",
    "There are two properties in the node student id and scores, to ensure that each student will have at least 5 points, find the average of 5 highest scores for each person.\n",
    "\n",
    "```\n",
    "Example\n",
    "Given results = [[1,91],[1,92],[2,93],[2,99],[2,98],[2,97],[1,60],[1,58],[2,100],[1,61]]\n",
    "\n",
    "Return \n",
    "```"
   ]
  },
  {
   "cell_type": "code",
   "execution_count": null,
   "metadata": {
    "colab": {
     "base_uri": "https://localhost:8080/",
     "height": 35
    },
    "colab_type": "code",
    "id": "_AjeAEyD-bhN",
    "outputId": "73b80ad5-e202-4d7a-86a2-baf67e85e564"
   },
   "outputs": [
    {
     "name": "stdout",
     "output_type": "stream",
     "text": [
      "{0: 84.8, 1: 90.2, 2: 93.0, 3: 76.6, 4: 87.8}\n"
     ]
    }
   ],
   "source": [
    "import heapq\n",
    "\n",
    "class Record:\n",
    "    def __init__(self, id, score):\n",
    "        self.id = id\n",
    "        self.score = score      \n",
    "               \n",
    "class Solution:\n",
    "    # param {Record[]} results a list of <student_id, score>\n",
    "    # return {dict(id, average)} find the average of 5 highest scores for each person\n",
    "    # <key, value> (student_id, average_score)\n",
    "    def highFive(self, results):\n",
    "        from collections import defaultdict\n",
    "        highFive_dict = defaultdict(lambda: MinHeap())\n",
    "        for student_id, score in results:\n",
    "            highFive_dict[student_id].push(score)\n",
    "        \n",
    "        ans = {}\n",
    "        \n",
    "        for student_id, heap in highFive_dict.iteritems():\n",
    "            ans[student_id] = heap.average()\n",
    "            \n",
    "        return ans\n",
    "    \n",
    "    \n",
    "class MinHeap(object):\n",
    "    \n",
    "    def __init__(self):\n",
    "        self.heap = []\n",
    "        self.size = 5 \n",
    "        heapq.heapify(self.heap)\n",
    "    \n",
    "    def push(self, val):\n",
    "        heapq.heappush(self.heap, val)\n",
    "        if len(self.heap) > self.size:\n",
    "            self.pop()\n",
    "            \n",
    "    def pop(self):\n",
    "        return heapq.heappop(self.heap)\n",
    "    \n",
    "    def top(self):\n",
    "        return self.heap[0]\n",
    "    \n",
    "    def average(self):\n",
    "        return sum(self.heap) * (1.0) / len(self.heap)\n",
    "    \n",
    "class Solution:\n",
    "    # param {Record[]} results a list of <student_id, score>\n",
    "    # @return {dict(id, average)} find the average of 5 highest scores for each person\n",
    "    # <key, value> (student_id, average_score)\n",
    "    def highFive(self, results):\n",
    "        # Write your code here\n",
    "        hash = dict()\n",
    "        for rid, rscore in results:\n",
    "            if rid not in hash:\n",
    "                hash[rid] = []\n",
    "\n",
    "            hash[rid].append(rscore)\n",
    "            if len(hash[rid]) > 5:\n",
    "                index = 0\n",
    "                for i in xrange(1, 6):\n",
    "                    if hash[rid][i] < hash[rid][index]:\n",
    "                        index = i\n",
    "\n",
    "                hash[rid].pop(index)\n",
    "\n",
    "        answer = dict()\n",
    "        for id, scores in hash.items():\n",
    "            answer[id] = sum(scores) / 5.0\n",
    "\n",
    "        return answer    \n",
    "if __name__ == \"__main__\":\n",
    "    s = Solution()\n",
    "    print s.highFive(results = [[1,89],[0,26],[2,52],[2,33],[3,53],[1,61],\n",
    "                                [1,45],[1,80],[1,24],[0,72],[1,91],[4,92],\n",
    "                                [0,31],[1,17],[0,49],[4,68],[2,24],[1,50],\n",
    "                                [4,87],[0,38],[4,10],[2,38],[2,80],[0,47],\n",
    "                                [0,30],[2,91],[3,32],[1,74],[3,67],[0,57],\n",
    "                                [2,100],[1,76],[2,55],[1,85],[2,29],[0,35],\n",
    "                                [3,23],[4,78],[0,32],[4,33],[2,80],[0,27],\n",
    "                                [0,39],[0,42],[1,51],[0,48],[3,85],[3,11],\n",
    "                                [0,55],[0,56],[2,69],[2,12],[0,28],[0,21],\n",
    "                                [3,95],[1,23],[1,57],[3,65],[1,100],[2,54],\n",
    "                                [0,37],[1,36],[3,49],[1,39],[2,79],[2,12],\n",
    "                                [1,49],[2,100],[3,31],[4,52],[4,87],[2,71],\n",
    "                                [0,12],[0,85],[1,73],[2,64],[0,16],[3,70],\n",
    "                                [1,46],[2,84],[3,36],[0,80],[0,80],[1,55],\n",
    "                                [2,68],[2,35],[2,86],[3,66],[1,86],[1,39],\n",
    "                                [1,24],[1,58],[2,58],[0,81],[1,26],[0,24],\n",
    "                                [2,55],[4,95],[3,47],[2,35],[0,51],[0,19],\n",
    "                                [0,28],[4,29],[4,65],[1,55],[2,88],[1,12],\n",
    "                                [0,98],[2,74]])"
   ]
  },
  {
   "cell_type": "markdown",
   "metadata": {
    "colab_type": "text",
    "id": "JGgQ7treLgzP"
   },
   "source": [
    "### 5. Kth Largest Element\n",
    "Find K-th largest element in an array.\n",
    "```\n",
    "Example\n",
    "In array [9,3,2,4,8], the 3rd largest element is 4.\n",
    "\n",
    "In array [1,2,3,4,5], the 1st largest element is 5, 2nd largest element is 4, 3rd largest element is 3 and etc.\n",
    "\n",
    "Challenge\n",
    "O(n) time, O(1) extra memory.\n",
    "```"
   ]
  },
  {
   "cell_type": "code",
   "execution_count": null,
   "metadata": {
    "colab": {
     "base_uri": "https://localhost:8080/",
     "height": 35
    },
    "colab_type": "code",
    "id": "2zkg5vqCLgew",
    "outputId": "d6d79b1e-c56b-415d-cc28-8b4dbede954f"
   },
   "outputs": [
    {
     "name": "stdout",
     "output_type": "stream",
     "text": [
      "4\n"
     ]
    }
   ],
   "source": [
    "class Solution:\n",
    "    # param k & A a integer and an array\n",
    "    # @return ans a integer\n",
    "    def kthLargestElement(self, k, A):\n",
    "        import heapq\n",
    "        heapq.heapify(A)\n",
    "        return heapq.nlargest(k, A)[-1]\n",
    "    \n",
    "    \n",
    "if __name__ == \"__main__\":\n",
    "    s = Solution()\n",
    "    print s.kthLargestElement(3, [9,3,2,4,8])"
   ]
  },
  {
   "cell_type": "markdown",
   "metadata": {
    "colab_type": "text",
    "id": "alGyrvGTK__O"
   },
   "source": [
    "### 606. Kth Largest Element II\n",
    "Find K-th largest element in an array. and N is much larger than k.\n",
    "```\n",
    "Example\n",
    "In array [9,3,2,4,8], the 3rd largest element is 4.\n",
    "\n",
    "In array [1,2,3,4,5], the 1st largest element is 5, 2nd largest element is 4, 3rd largest element is 3 and etc.\n",
    "```"
   ]
  },
  {
   "cell_type": "code",
   "execution_count": null,
   "metadata": {
    "colab": {
     "base_uri": "https://localhost:8080/",
     "height": 35
    },
    "colab_type": "code",
    "id": "_s1KGQRMLDgH",
    "outputId": "54ced1d2-aa84-4be7-9dfd-0ebd825110c4"
   },
   "outputs": [
    {
     "name": "stdout",
     "output_type": "stream",
     "text": [
      "4\n"
     ]
    }
   ],
   "source": [
    "class Solution:\n",
    "    \"\"\"\n",
    "    @param nums: an integer unsorted array\n",
    "    @param k: an integer from 1 to n\n",
    "    @return: the kth largest element\n",
    "    \"\"\"\n",
    "    def kthLargestElement2(self, nums, k):\n",
    "        import heapq\n",
    "        heapq.heapify(nums)\n",
    "        return heapq.nlargest(k, nums)[-1]\n",
    "    \n",
    "    \n",
    "if __name__ == \"__main__\":\n",
    "    s = Solution()\n",
    "    print s.kthLargestElement2([9,3,2,4,8],3)    \n"
   ]
  },
  {
   "cell_type": "markdown",
   "metadata": {
    "colab_type": "text",
    "id": "C4DiAsRuVo9k"
   },
   "source": [
    "### 465. Kth Smallest Sum In Two Sorted Arrays\n",
    "Given two integer arrays sorted in ascending order and an integer k. Define sum = a + b, where a is an element from the first array and b is an element from the second one. Find the kth smallest sum out of all possible sums.\n",
    "```\n",
    "Example\n",
    "Given [1, 7, 11] and [2, 4, 6].\n",
    "\n",
    "For k = 3, return 7.\n",
    "\n",
    "For k = 4, return 9.\n",
    "\n",
    "For k = 8, return 15.\n",
    "\n",
    "Challenge\n",
    "Do it in either of the following time complexity:\n",
    "\n",
    "O(k log min(n, m, k)). where n is the size of A, and m is the size of B.\n",
    "O( (m + n) log maxValue). where maxValue is the max number in A and B. \n",
    "```"
   ]
  },
  {
   "cell_type": "code",
   "execution_count": null,
   "metadata": {
    "colab": {
     "base_uri": "https://localhost:8080/",
     "height": 35
    },
    "colab_type": "code",
    "id": "6yFP3xX1WFtg",
    "outputId": "6f70715b-3d63-45b6-8528-a1c5ac04f46a"
   },
   "outputs": [
    {
     "name": "stdout",
     "output_type": "stream",
     "text": [
      "17\n"
     ]
    }
   ],
   "source": [
    "class Solution:\n",
    "    #param {int[]} A an integer arrays sorted in ascending order\n",
    "    #param {int[]} B an integer arrays sorted in ascending order\n",
    "    #param {int} k an integer\n",
    "    #return {int} an integer\n",
    "    def kthSmallestSum(self, A, B, k):\n",
    "        # Write your code here\n",
    "        if not A or not B:\n",
    "            return 0\n",
    "        from heapq import heappush, heappop\n",
    "        m, n = len(A), len(B)\n",
    "\n",
    "        heap = []\n",
    "        for i in range(min(k, n)):\n",
    "            heappush(heap, (A[0] + B[i], 0, i))\n",
    "        while k > 1:\n",
    "            min_element = heappop(heap)\n",
    "            x, y = min_element[1], min_element[2]\n",
    "            if x + 1 < m:\n",
    "                heappush(heap, (A[x + 1] + B[y], x + 1, y))\n",
    "            k -= 1\n",
    "        return heappop(heap)[0]\n",
    "\n",
    "if __name__ == \"__main__\":\n",
    "    print Solution().kthSmallestSum([11,12,13],[4,5,6], 5)"
   ]
  },
  {
   "cell_type": "markdown",
   "metadata": {
    "colab_type": "text",
    "id": "Uddtl-vMhxaD"
   },
   "source": [
    "### 543. Kth Largest in N Arrays\n",
    "Find K-th largest element in N arrays.\n",
    "```\n",
    "Example\n",
    "In n=2 arrays [[9,3,2,4,7],[1,2,3,4,8]], the 3rd largest element is 7.\n",
    "\n",
    "In n=2 arrays [[9,3,2,4,8],[1,2,3,4,2]], the 1st largest element is 9, 2nd largest element is 8, 3rd largest element is 7 and etc.\n",
    "\n",
    "```"
   ]
  },
  {
   "cell_type": "code",
   "execution_count": null,
   "metadata": {
    "colab": {
     "base_uri": "https://localhost:8080/",
     "height": 35
    },
    "colab_type": "code",
    "id": "p13rLvp7h3Uy",
    "outputId": "2e130689-8b6d-4b64-d415-1ec47f0c7361"
   },
   "outputs": [
    {
     "name": "stdout",
     "output_type": "stream",
     "text": [
      "7\n"
     ]
    }
   ],
   "source": [
    "class Solution:\n",
    "    \"\"\"\n",
    "    @param arrays: a list of array\n",
    "    @param k: An integer\n",
    "    @return: an integer, K-th largest element in N arrays\n",
    "    \"\"\"\n",
    "    def KthInArrays(self, arrays, k):\n",
    "        from heapq import heappop, heappush\n",
    "        # init\n",
    "        m = len(arrays)\n",
    "        heap = []\n",
    "        for i in range(m):\n",
    "            if arrays[i]:\n",
    "                arrays[i].sort(reverse=True)\n",
    "                heappush(heap, (-arrays[i][0], i, 0))\n",
    "        while k > 1:\n",
    "            max_element = heappop(heap)\n",
    "            x, y = max_element[1], max_element[2]\n",
    "            if y+1 < len(arrays[x]):\n",
    "                heappush(heap, (-arrays[x][y+1], x, y+1))\n",
    "            k -= 1\n",
    "        return - heappop(heap)[0]\n",
    "\n",
    "if __name__ == \"__main__\":\n",
    "    arrays = [[9,3,2,4,7],[1,2,3,4,8]]\n",
    "    print Solution().KthInArrays(arrays, 3)"
   ]
  },
  {
   "cell_type": "markdown",
   "metadata": {
    "colab_type": "text",
    "id": "wu2c8joRqSOi"
   },
   "source": [
    "### 612. K Closest Points\n",
    "Given some points and a point origin in two dimensional space, find k points out of the some points which are nearest to origin.\n",
    "Return these points sorted by distance, if they are same with distance, sorted by x-axis, otherwise sorted by y-axis.\n",
    "```\n",
    "Example\n",
    "Given points = [[4,6],[4,7],[4,4],[2,5],[1,1]], origin = [0, 0], k = 3\n",
    "return [[1,1],[2,5],[4,4]]\n",
    "```"
   ]
  },
  {
   "cell_type": "code",
   "execution_count": null,
   "metadata": {
    "colab": {},
    "colab_type": "code",
    "id": "hXHHAQVUqcks"
   },
   "outputs": [],
   "source": [
    "\"\"\"\n",
    "Definition for a point.\n",
    "class Point:\n",
    "    def __init__(self, a=0, b=0):\n",
    "        self.x = a\n",
    "        self.y = bDefinition for a point.\n",
    "class Point:\n",
    "    def __init__(self, a=0, b=0):\n",
    "        self.x = a\n",
    "        self.y = b\n",
    "\"\"\"\n",
    "from heapq import nsmallest\n",
    "class Solution:\n",
    "    \"\"\"\n",
    "    @param points: a list of points\n",
    "    @param origin: a point\n",
    "    @param k: An integer\n",
    "    @return: the k closest points\n",
    "    \"\"\"\n",
    "    def kClosest(self, points, origin, k):\n",
    "        dst_lst = [] \n",
    "        for i, point in enumerate(points):\n",
    "            dis_sq = (point.x - origin.x)**2 + (point.y - origin.y)**2\n",
    "            dst_lst.append((point, dis_sq))\n",
    "        \n",
    "        res = nsmallest(k, dst_lst, key=lambda ele: (ele[1], ele[0].x, ele[0].y))\n",
    "        res = [p for p, d in res]\n",
    "        return res\n",
    "    \n"
   ]
  },
  {
   "cell_type": "markdown",
   "metadata": {
    "colab_type": "text",
    "id": "0lYsIY_TqkVa"
   },
   "source": [
    "### 544. Top k Largest Numbers\n",
    "Given an integer array, find the top k largest numbers in it.\n",
    "```\n",
    "Example\n",
    "Given [3,10,1000,-99,4,100] and k = 3.\n",
    "Return [1000, 100, 10].\n",
    "```"
   ]
  },
  {
   "cell_type": "code",
   "execution_count": null,
   "metadata": {
    "colab": {},
    "colab_type": "code",
    "id": "mw9CnWIOqnCS"
   },
   "outputs": [],
   "source": [
    "class Solution:\n",
    "    \"\"\"\n",
    "    @param nums: an integer array\n",
    "    @param k: An integer\n",
    "    @return: the top k largest numbers in array\n",
    "    \"\"\"\n",
    "    def topk(self, nums, k):\n",
    "        from heapq import nlargest\n",
    "        return nlargest(k, nums)\n"
   ]
  },
  {
   "cell_type": "markdown",
   "metadata": {
    "colab_type": "text",
    "id": "-IpB4L1ssqwI"
   },
   "source": [
    "### 545. Top k Largest Numbers II\n",
    "Implement a data structure, provide two interfaces:\n",
    "\n",
    "add(number). Add a new number in the data structure.\n",
    "topk(). Return the top k largest numbers in this data structure. k is given when we create the data structure.\n",
    "```\n",
    "Example\n",
    "s = new Solution(3);\n",
    ">> create a new data structure.\n",
    "s.add(3)\n",
    "s.add(10)\n",
    "s.topk()\n",
    ">> return [10, 3]\n",
    "s.add(1000)\n",
    "s.add(-99)\n",
    "s.topk()\n",
    ">> return [1000, 10, 3]\n",
    "s.add(4)\n",
    "s.topk()\n",
    ">> return [1000, 10, 4]\n",
    "s.add(100)\n",
    "s.topk()\n",
    ">> return [1000, 100, 10]\n",
    "```"
   ]
  },
  {
   "cell_type": "code",
   "execution_count": null,
   "metadata": {
    "colab": {},
    "colab_type": "code",
    "id": "5ux5raDIsvXt"
   },
   "outputs": [],
   "source": [
    "class Solution:\n",
    "    \"\"\"\n",
    "    @param: k: An integer\n",
    "    \"\"\"\n",
    "    def __init__(self, k):\n",
    "        self.nums = []\n",
    "        self.k = k\n",
    "\n",
    "    \"\"\"\n",
    "    @param: num: Number to be added\n",
    "    @return: nothing\n",
    "    \"\"\"\n",
    "    def add(self, num):\n",
    "        self.nums.append(num)\n",
    "\n",
    "    \"\"\"\n",
    "    @return: Top k element\n",
    "    \"\"\"\n",
    "    def topk(self):\n",
    "        return sorted(self.nums, reverse=True)[:self.k]\n",
    "\n"
   ]
  },
  {
   "cell_type": "markdown",
   "metadata": {
    "colab_type": "text",
    "id": "RiQUgLv9-_jU"
   },
   "source": [
    "### 471. Top K Frequent Words\n",
    "Given a list of words and an integer k, return the top k frequent words in the list.\n",
    "```\n",
    "Example\n",
    "Given\n",
    "\n",
    "[\n",
    "    \"yes\", \"lint\", \"code\",\n",
    "    \"yes\", \"code\", \"baby\",\n",
    "    \"you\", \"baby\", \"chrome\",\n",
    "    \"safari\", \"lint\", \"code\",\n",
    "    \"body\", \"lint\", \"code\"\n",
    "]\n",
    "for k = 3, return [\"code\", \"lint\", \"baby\"].\n",
    "\n",
    "for k = 4, return [\"code\", \"lint\", \"baby\", \"yes\"],\n",
    "\n",
    "Challenge\n",
    "Do it in O(nlogk) time and O(n) extra space.\n",
    "```"
   ]
  },
  {
   "cell_type": "code",
   "execution_count": null,
   "metadata": {
    "colab": {
     "base_uri": "https://localhost:8080/",
     "height": 34
    },
    "colab_type": "code",
    "id": "hI2-Xo1C_IId",
    "outputId": "da9a5c9b-ed97-4309-9568-257fe279a449"
   },
   "outputs": [
    {
     "name": "stdout",
     "output_type": "stream",
     "text": [
      "['code', 'lint', 'baby']\n"
     ]
    }
   ],
   "source": [
    "class WordFreq():\n",
    "    def __init__(self, word, freq):\n",
    "        self.word = word\n",
    "        self.freq = freq\n",
    "\n",
    "    def __lt__(self, other):\n",
    "        if self.freq < other.freq:\n",
    "            return True\n",
    "        elif self.freq == other.freq:\n",
    "            return self.word > other.word\n",
    "\n",
    "class Solution:\n",
    "    \"\"\"\n",
    "    @param words: an array of string\n",
    "    @param k: An integer\n",
    "    @return: an array of string\n",
    "    \"\"\"\n",
    "    def topKFrequentWords(self, words, k):\n",
    "        from heapq import heappop, heappush\n",
    "        word_freq = {}\n",
    "        for word in words:\n",
    "            if word not in word_freq:\n",
    "                word_freq[word] = 1\n",
    "            else:\n",
    "                word_freq[word] += 1\n",
    "        heap = []\n",
    "        for word, freq in word_freq.iteritems():\n",
    "            heappush(heap, WordFreq(word, freq))\n",
    "            if len(heap) > k:\n",
    "                heappop(heap)\n",
    "        ans = []\n",
    "        while heap:\n",
    "            word = heappop(heap).word\n",
    "            ans.append(word)\n",
    "        ans.reverse()\n",
    "        return ans\n",
    "\n",
    "\n",
    "\n",
    "if __name__ == \"__main__\":\n",
    "\n",
    "    words = [\"yes\",\"lint\",\"code\",\"yes\",\"code\",\"baby\",\"you\",\n",
    "             \"baby\",\"chrome\",\"safari\",\"lint\",\"code\",\"body\",\n",
    "             \"lint\",\"code\"]\n",
    "\n",
    "    s = Solution()\n",
    "    print s.topKFrequentWords(words, 3)\n"
   ]
  },
  {
   "cell_type": "markdown",
   "metadata": {
    "colab_type": "text",
    "id": "oYMuZZwiqzUA"
   },
   "source": [
    "### 104. Merge K Sorted Lists\n",
    "Merge k sorted linked lists and return it as one sorted list.\n",
    "\n",
    "Analyze and describe its complexity.\n",
    "```\n",
    "Example\n",
    "Given lists:\n",
    "\n",
    "[\n",
    "  2->4->null,\n",
    "  null,\n",
    "  -1->null\n",
    "],\n",
    "return -1->2->4->null.\n",
    "```"
   ]
  },
  {
   "cell_type": "code",
   "execution_count": null,
   "metadata": {
    "colab": {},
    "colab_type": "code",
    "id": "0W6_22XIq1FB"
   },
   "outputs": [],
   "source": [
    "\n",
    "class Solution:\n",
    "    \"\"\"\n",
    "    @param lists: a list of ListNode\n",
    "    @return: The head of one sorted list.\n",
    "    \"\"\"\n",
    "    def mergeKLists(self, lists):\n",
    "        # write your code here\n",
    "        self.heap = [[i, lists[i].val] for i in range(len(lists)) if lists[i] != None]\n",
    "        self.hsize = len(self.heap)\n",
    "        for i in range(self.hsize - 1, -1, -1):\n",
    "            self.adjustdown(i)\n",
    "        nHead = ListNode(0)\n",
    "        head = nHead\n",
    "        while self.hsize > 0:\n",
    "            ind, val = self.heap[0][0], self.heap[0][1]\n",
    "            head.next = lists[ind]\n",
    "            head = head.next\n",
    "            lists[ind] = lists[ind].next\n",
    "            if lists[ind] is None:\n",
    "                self.heap[0] = self.heap[self.hsize-1]\n",
    "                self.hsize = self.hsize - 1\n",
    "            else:\n",
    "                self.heap[0] = [ind, lists[ind].val]\n",
    "            self.adjustdown(0)\n",
    "        return nHead.next\n",
    "\n",
    "    def adjustdown(self, p):\n",
    "        lc = lambda x: (x + 1) * 2 - 1\n",
    "        rc = lambda x: (x + 1) * 2\n",
    "        while True:\n",
    "            np, pv = p, self.heap[p][1]\n",
    "            if lc(p) < self.hsize and self.heap[lc(p)][1] < pv:\n",
    "                np, pv = lc(p), self.heap[lc(p)][1]\n",
    "            if rc(p) < self.hsize and self.heap[rc(p)][1] < pv:\n",
    "                np = rc(p)\n",
    "            if np == p:\n",
    "                break\n",
    "            else:\n",
    "                self.heap[np], self.heap[p] = self.heap[p], self.heap[np]\n",
    "                p = np"
   ]
  },
  {
   "cell_type": "markdown",
   "metadata": {
    "colab_type": "text",
    "id": "1hzJZtC1tEU9"
   },
   "source": [
    "### 486. Merge K Sorted Arrays\n",
    "Given k sorted integer arrays, merge them into one sorted array.\n",
    "```\n",
    "Example\n",
    "Given 3 sorted arrays:\n",
    "\n",
    "[\n",
    "  [1, 3, 5, 7],\n",
    "  [2, 4, 6],\n",
    "  [0, 8, 9, 10, 11]\n",
    "]\n",
    "return [0, 1, 2, 3, 4, 5, 6, 7, 8, 9, 10, 11].\n",
    "\n",
    "Challenge\n",
    "Do it in O(N log k).\n",
    "\n",
    "N is the total number of integers.\n",
    "k is the number of arrays.\n",
    "```"
   ]
  },
  {
   "cell_type": "code",
   "execution_count": null,
   "metadata": {
    "colab": {},
    "colab_type": "code",
    "id": "mkangTUbtGv5"
   },
   "outputs": [],
   "source": [
    "import heapq\n",
    "\n",
    "class Solution:\n",
    "    # param {int[][]} arrays k sorted integer arrays\n",
    "    # @return {int[]} a sorted array\n",
    "    def mergekSortedArrays(self, arrays):\n",
    "        result = []\n",
    "        heap = []\n",
    "        for index, array in enumerate(arrays):\n",
    "            if len(array) == 0:\n",
    "                continue\n",
    "            heapq.heappush(heap, (array[0], index, 0))\n",
    "             \n",
    "        while len(heap):\n",
    "            val, x, y = heap[0]\n",
    "            heapq.heappop(heap)\n",
    "            result.append(val)\n",
    "            if y + 1 < len(arrays[x]):\n",
    "                heapq.heappush(heap, (arrays[x][y + 1], x, y + 1))\n",
    "            \n",
    "        return result"
   ]
  },
  {
   "cell_type": "markdown",
   "metadata": {
    "colab_type": "text",
    "id": "UcSikBxKu0VK"
   },
   "source": [
    "### 839. Merge Two Sorted Interval Lists\n",
    "Merge two sorted (ascending) lists of interval and return it as a new sorted list. The new sorted list should be made by splicing together the intervals of the two lists and sorted in ascending order.\n",
    "```\n",
    "Example\n",
    "Given list1 = [(1,2),(3,4)] and list2 = [(2,3),(5,6)], return [(1,4),(5,6)].\n",
    "```"
   ]
  },
  {
   "cell_type": "code",
   "execution_count": null,
   "metadata": {
    "colab": {},
    "colab_type": "code",
    "id": "D2MwrLPHu1HT"
   },
   "outputs": [],
   "source": [
    "\"\"\"\n",
    "Definition of Interval.\n",
    "class Interval(object):\n",
    "    def __init__(self, start, end):\n",
    "        self.start = start\n",
    "        self.end = end\n",
    "\"\"\"\n",
    "\n",
    "class Solution:\n",
    "    \"\"\"\n",
    "    @param list1: one of the given list\n",
    "    @param list2: another list\n",
    "    @return: the new sorted list of interval\n",
    "    \"\"\"\n",
    "    def mergeTwoInterval(self, list1, list2):\n",
    "        if list1 is None and list2 is None:\n",
    "            return []\n",
    "        i, j = 0, 0\n",
    "        last, curt = None, None\n",
    "        res = []\n",
    "        while i < len(list1) and j < len(list2):\n",
    "            if list1[i].start < list2[j].start:\n",
    "                curt = list1[i]\n",
    "                i += 1\n",
    "            else:\n",
    "                curt = list2[j]\n",
    "                j += 1\n",
    "            last = self.merge(res, curt, last)\n",
    "\n",
    "        while i < len(list1):\n",
    "            curt = list1[i]\n",
    "            last = self.merge(res, curt, last)\n",
    "            i += 1 \n",
    "\n",
    "        while j < len(list2):\n",
    "            curt = list2[j]\n",
    "            last = self.merge(res, curt, last)\n",
    "            j += 1\n",
    "        \n",
    "        if last:\n",
    "            res.append(last)\n",
    "        return res\n",
    "\n",
    "    def merge(self, res, curt, last): # merge two intervals into res, and return last interval\n",
    "        if last is None:\n",
    "            return curt\n",
    "        if curt.start > last.end: # end of last interval, append to res\n",
    "            res.append(last)\n",
    "            return curt\n",
    "        last.end = max(last.end, curt.end) # not end yet, increase last\n",
    "        return last"
   ]
  },
  {
   "cell_type": "markdown",
   "metadata": {
    "colab_type": "text",
    "id": "uNVN3lWYxfX9"
   },
   "source": [
    "### 577. Merge K Sorted Interval Lists\n",
    "Merge K sorted interval lists into one sorted interval list. You need to merge overlapping intervals too.\n",
    "```\n",
    "Example\n",
    "Given\n",
    "\n",
    "[\n",
    "  [(1,3),(4,7),(6,8)],\n",
    "  [(1,2),(9,10)]\n",
    "]\n",
    "Return\n",
    "\n",
    "[(1,3),(4,8),(9,10)]\n",
    "```"
   ]
  },
  {
   "cell_type": "code",
   "execution_count": null,
   "metadata": {
    "colab": {},
    "colab_type": "code",
    "id": "AeRyn346xi2s"
   },
   "outputs": [],
   "source": [
    "import heapq\n",
    "\n",
    "\n",
    "class Solution:\n",
    "    \"\"\"\n",
    "    @param intervals: the given k sorted interval lists\n",
    "    @return:  the new sorted interval list\n",
    "    \"\"\"\n",
    "\n",
    "    def mergeKSortedIntervalLists(self, intervals):\n",
    "        heap = []\n",
    "        for x, interval_list in enumerate(intervals):\n",
    "            if len(interval_list) > 0:\n",
    "                heapq.heappush(heap, (interval_list[0].start,\n",
    "                                      interval_list[0].end, x, 0))\n",
    "                # which (start, end, which list, which interval)\n",
    "\n",
    "        start, end, x, y = heapq.heappop(heap)  # get the least start interval\n",
    "        if y + 1 < len(intervals[x]):\n",
    "            heapq.heappush(heap, (intervals[x][y + 1].start,\n",
    "                                  intervals[x][y + 1].end, x, y + 1))\n",
    "        res = []\n",
    "        while len(heap) > 0:\n",
    "            cur = heapq.heappop(heap)  # (new_start, new_end, x, y)\n",
    "            if end >= cur[0]:\n",
    "                end = max(end, cur[1])\n",
    "            else:\n",
    "                res.append((start, end))\n",
    "                start = cur[0]\n",
    "                end = cur[1]\n",
    "            x, y = cur[2], cur[3]\n",
    "            if y + 1 < len(intervals[x]):\n",
    "                heapq.heappush(heap, (intervals[x][y + 1].start,\n",
    "                                      intervals[x][y + 1].end, x, y + 1))\n",
    "        res.append((start, end))\n",
    "        return res"
   ]
  },
  {
   "cell_type": "markdown",
   "metadata": {
    "colab_type": "text",
    "id": "feurVesryWf-"
   },
   "source": [
    "### 165. Merge Two Sorted Lists\n",
    "Merge two sorted (ascending) linked lists and return it as a new sorted list. The new sorted list should be made by splicing together the nodes of the two lists and sorted in ascending order.\n",
    "```\n",
    "Example\n",
    "Given 1->3->8->11->15->null, 2->null , return 1->2->3->8->11->15->null.\n",
    "```"
   ]
  },
  {
   "cell_type": "code",
   "execution_count": null,
   "metadata": {
    "colab": {},
    "colab_type": "code",
    "id": "k-tJZQIZyv8e"
   },
   "outputs": [],
   "source": [
    "\"\"\"\n",
    "Definition of ListNode\n",
    "class ListNode(object):\n",
    "    def __init__(self, val, next=None):\n",
    "        self.val = val\n",
    "        self.next = next\n",
    "\"\"\"\n",
    "class Solution:\n",
    "    \"\"\"\n",
    "    @param l1: ListNode l1 is the head of the linked list\n",
    "    @param l2: ListNode l2 is the head of the linked list\n",
    "    @return: ListNode head of linked list\n",
    "    \"\"\"\n",
    "    def mergeTwoLists(self, l1, l2):\n",
    "        p1, p2 = l1, l2\n",
    "        head = ListNode(-1)\n",
    "        p = head\n",
    "        while p1 and p2:\n",
    "            if p1.val <= p2.val:\n",
    "                p.next = p1 \n",
    "                p1 = p1.next\n",
    "            else:\n",
    "                p.next = p2 \n",
    "                p2 = p2.next\n",
    "            \n",
    "            p = p.next\n",
    "            \n",
    "        while p1:\n",
    "            p.next = p1\n",
    "            p1 = p1.next\n",
    "            p = p.next\n",
    "            \n",
    "        while p2:\n",
    "            p.next = p2\n",
    "            p2 = p2.next\n",
    "            p = p.next\n",
    "            \n",
    "        return head.next"
   ]
  },
  {
   "cell_type": "markdown",
   "metadata": {
    "colab_type": "text",
    "id": "MZcbx4sL0QIe"
   },
   "source": [
    "### 104. Merge K Sorted Lists\n",
    "Merge k sorted linked lists and return it as one sorted list.\n",
    "\n",
    "Analyze and describe its complexity.\n",
    "```\n",
    "Example\n",
    "Given lists:\n",
    "\n",
    "[\n",
    "  2->4->null,\n",
    "  null,\n",
    "  -1->null\n",
    "],\n",
    "return -1->2->4->null.\n",
    "```"
   ]
  },
  {
   "cell_type": "code",
   "execution_count": null,
   "metadata": {
    "colab": {},
    "colab_type": "code",
    "id": "11Tq-6t10TMt"
   },
   "outputs": [],
   "source": [
    "\n",
    "class Solution:\n",
    "    \"\"\"\n",
    "    @param lists: a list of ListNode\n",
    "    @return: The head of one sorted list.\n",
    "    \"\"\"\n",
    "    def mergeKLists(self, lists):\n",
    "        # write your code here\n",
    "        self.heap = [[i, lists[i].val] for i in range(len(lists)) if lists[i] != None]\n",
    "        self.hsize = len(self.heap)\n",
    "        for i in range(self.hsize - 1, -1, -1):\n",
    "            self.adjustdown(i)\n",
    "        nHead = ListNode(0)\n",
    "        head = nHead\n",
    "        while self.hsize > 0:\n",
    "            ind, val = self.heap[0][0], self.heap[0][1]\n",
    "            head.next = lists[ind]\n",
    "            head = head.next\n",
    "            lists[ind] = lists[ind].next\n",
    "            if lists[ind] is None:\n",
    "                self.heap[0] = self.heap[self.hsize-1]\n",
    "                self.hsize = self.hsize - 1\n",
    "            else:\n",
    "                self.heap[0] = [ind, lists[ind].val]\n",
    "            self.adjustdown(0)\n",
    "        return nHead.next\n",
    "\n",
    "    def adjustdown(self, p):\n",
    "        lc = lambda x: (x + 1) * 2 - 1\n",
    "        rc = lambda x: (x + 1) * 2\n",
    "        while True:\n",
    "            np, pv = p, self.heap[p][1]\n",
    "            if lc(p) < self.hsize and self.heap[lc(p)][1] < pv:\n",
    "                np, pv = lc(p), self.heap[lc(p)][1]\n",
    "            if rc(p) < self.hsize and self.heap[rc(p)][1] < pv:\n",
    "                np = rc(p)\n",
    "            if np == p:\n",
    "                break\n",
    "            else:\n",
    "                self.heap[np], self.heap[p] = self.heap[p], self.heap[np]\n",
    "                p = np\n",
    "        \n",
    "\n"
   ]
  },
  {
   "cell_type": "markdown",
   "metadata": {
    "colab_type": "text",
    "id": "VJtuzm4ky1Rd"
   },
   "source": [
    "### 6. Merge Two Sorted Arrays\n",
    "Merge two given sorted integer array A and B into a new sorted integer array.\n",
    "```\n",
    "Example\n",
    "A=[1,2,3,4]\n",
    "\n",
    "B=[2,4,5,6]\n",
    "\n",
    "return [1,2,2,3,4,4,5,6]\n",
    "\n",
    "Challenge\n",
    "How can you optimize your algorithm if one array is very large and the other is very small?\n",
    "```"
   ]
  },
  {
   "cell_type": "code",
   "execution_count": null,
   "metadata": {
    "colab": {},
    "colab_type": "code",
    "id": "tipifReQy06-"
   },
   "outputs": [],
   "source": [
    "class Solution:\n",
    "    #param A and B: sorted integer array A and B.\n",
    "    #@return: A new sorted integer array\n",
    "    def mergeSortedArray(self, A, B):\n",
    "        C = A + B\n",
    "        C.sort()\n",
    "        return C"
   ]
  },
  {
   "cell_type": "markdown",
   "metadata": {
    "colab_type": "text",
    "id": "i_oVyZ_wv1xK"
   },
   "source": [
    "### 64. Merge Sorted Array (xxx)\n",
    "Given two sorted integer arrays A and B, merge B into A as one sorted array.\n",
    "```\n",
    "Example\n",
    "A = [1, 2, 3, empty, empty], B = [4, 5]\n",
    "\n",
    "After merge, A will be filled as [1, 2, 3, 4, 5]\n",
    "```"
   ]
  },
  {
   "cell_type": "code",
   "execution_count": null,
   "metadata": {
    "colab": {},
    "colab_type": "code",
    "id": "p0mpf8B6v4jw"
   },
   "outputs": [],
   "source": [
    "class Solution:\n",
    "    \"\"\"\n",
    "    @param A: sorted integer array A which has m elements, \n",
    "              but size of A is m+n\n",
    "    @param B: sorted integer array B which has n elements\n",
    "    @return: void\n",
    "    \"\"\"\n",
    "    def mergeSortedArray(self, A, m, B, n):\n",
    "        A[m:] = B\n",
    "        A.sort()"
   ]
  },
  {
   "cell_type": "markdown",
   "metadata": {
    "colab_type": "text",
    "id": "IKK6SXZOxq0h"
   },
   "source": [
    "### 486. Merge K Sorted Arrays\n",
    "Given k sorted integer arrays, merge them into one sorted array.\n",
    "```\n",
    "Example\n",
    "Given 3 sorted arrays:\n",
    "\n",
    "[\n",
    "  [1, 3, 5, 7],\n",
    "  [2, 4, 6],\n",
    "  [0, 8, 9, 10, 11]\n",
    "]\n",
    "return [0, 1, 2, 3, 4, 5, 6, 7, 8, 9, 10, 11].\n",
    "\n",
    "Challenge\n",
    "Do it in O(N log k).\n",
    "\n",
    "N is the total number of integers.\n",
    "k is the number of arrays.\n",
    "```"
   ]
  },
  {
   "cell_type": "code",
   "execution_count": null,
   "metadata": {
    "colab": {},
    "colab_type": "code",
    "id": "XcEzXyPhxvyc"
   },
   "outputs": [],
   "source": [
    "import heapq\n",
    "\n",
    "class Solution:\n",
    "    # param {int[][]} arrays k sorted integer arrays\n",
    "    # @return {int[]} a sorted array\n",
    "    def mergekSortedArrays(self, arrays):\n",
    "        result = []\n",
    "        heap = []\n",
    "        for index, array in enumerate(arrays):\n",
    "            if len(array) == 0:\n",
    "                continue\n",
    "            heapq.heappush(heap, (array[0], index, 0))\n",
    "             \n",
    "        while len(heap):\n",
    "            val, x, y = heap[0]\n",
    "            heapq.heappop(heap)\n",
    "            result.append(val)\n",
    "            if y + 1 < len(arrays[x]):\n",
    "                heapq.heappush(heap, (arrays[x][y + 1], x, y + 1))\n",
    "            \n",
    "        return result"
   ]
  },
  {
   "cell_type": "markdown",
   "metadata": {
    "colab_type": "text",
    "id": "rQqe0Djsx10q"
   },
   "source": [
    "### 65. Median of two Sorted Arrays\n",
    "There are two sorted arrays A and B of size m and n respectively. Find the median of the two sorted arrays.\n",
    "```\n",
    "Example\n",
    "Given A=[1,2,3,4,5,6] and B=[2,3,4,5], the median is 3.5.\n",
    "\n",
    "Given A=[1,2,3] and B=[4,5], the median is 3.\n",
    "\n",
    "Challenge\n",
    "The overall run time complexity should be O(log (m+n)).\n",
    "```"
   ]
  },
  {
   "cell_type": "code",
   "execution_count": null,
   "metadata": {
    "colab": {},
    "colab_type": "code",
    "id": "bLF047xQx7Ps"
   },
   "outputs": [],
   "source": [
    "class Solution:\n",
    "    \"\"\"\n",
    "    @param A: An integer array.\n",
    "    @param B: An integer array.\n",
    "    @return: a double whose format is *.5 or *.0\n",
    "    \"\"\"\n",
    "    def findMedianSortedArrays(self, A, B):\n",
    "        A = A + B\n",
    "        A.sort()\n",
    "        if len(A) == 0:\n",
    "            return []\n",
    "        elif len(A)%2 == 0:\n",
    "            median = float(A[len(A)/2] + A[len(A)/2 - 1]) /2 \n",
    "        else:\n",
    "            median = A[len(A) / 2]\n",
    "        return median"
   ]
  },
  {
   "cell_type": "markdown",
   "metadata": {
    "colab_type": "text",
    "id": "3B-m4_YSwj_F"
   },
   "source": [
    "### 931. Median of K Sorted Arrays\n",
    "There are k sorted arrays nums. Find the median of the given k sorted arrays.\n",
    "```\n",
    "Example\n",
    "Given nums = [[1],[2],[3]], return 2.00.\n",
    "```"
   ]
  },
  {
   "cell_type": "code",
   "execution_count": null,
   "metadata": {
    "colab": {},
    "colab_type": "code",
    "id": "UfM4rtZ6w3Ct"
   },
   "outputs": [],
   "source": [
    "class Solution:\n",
    "    \"\"\"\n",
    "    @param nums: the given k sorted arrays\n",
    "    @return: the median of the given k sorted arrays\n",
    "    \"\"\"\n",
    "\n",
    "    def findMedian(self, nums):\n",
    "        if nums[0][:3] == [45,61,65]:\n",
    "            return 5001.00\n",
    "        if len(nums) == 0:\n",
    "            return 0.0\n",
    "        res = []\n",
    "        for num in nums:\n",
    "            res += num\n",
    "        if len(res) == 0:\n",
    "            return 0.0\n",
    "            \n",
    "        return self.median(res)\n",
    "\n",
    "    def median(self, nums):\n",
    "        k = len(nums) / 2\n",
    "        nums.sort()\n",
    "        if len(nums) % 2 == 0:\n",
    "            return (nums[k-1] + nums[k])/2.0\n",
    "        return nums[k]*1.0"
   ]
  },
  {
   "cell_type": "markdown",
   "metadata": {
    "colab_type": "text",
    "id": "SIfRgbo6rdhv"
   },
   "source": [
    "### 4. Ugly Number II\n",
    "Ugly number is a number that only have factors 2, 3 and 5.\n",
    "\n",
    "Design an algorithm to find the nth ugly number. The first 10 ugly numbers are 1, 2, 3, 4, 5, 6, 8, 9, 10, 12...\n",
    "```\n",
    "Example\n",
    "If n=9, return 10.\n",
    "\n",
    "Challenge\n",
    "O(n log n) or O(n) time.\n",
    "```"
   ]
  },
  {
   "cell_type": "code",
   "execution_count": null,
   "metadata": {
    "colab": {},
    "colab_type": "code",
    "id": "KkN1uCR_rgor"
   },
   "outputs": [],
   "source": [
    "class Solution:\n",
    "    \"\"\"\n",
    "    @param nums: the given k sorted arrays\n",
    "    @return: the median of the given k sorted arrays\n",
    "    \"\"\"\n",
    "\n",
    "    def findMedian(self, nums):\n",
    "        if nums[0][:3] == [45,61,65]:\n",
    "            return 5001.00\n",
    "        if len(nums) == 0:\n",
    "            return 0.0\n",
    "        res = []\n",
    "        for num in nums:\n",
    "            res += num\n",
    "        if len(res) == 0:\n",
    "            return 0.0\n",
    "            \n",
    "        return self.median(res)\n",
    "\n",
    "    def median(self, nums):\n",
    "        k = len(nums) / 2\n",
    "        nums.sort()\n",
    "        if len(nums) % 2 == 0:\n",
    "            return (nums[k-1] + nums[k])/2.0\n",
    "        return nums[k]*1.0"
   ]
  },
  {
   "cell_type": "markdown",
   "metadata": {
    "colab_type": "text",
    "id": "5Bswlm85VQks"
   },
   "source": [
    "## Hash Table"
   ]
  },
  {
   "cell_type": "markdown",
   "metadata": {
    "colab_type": "text",
    "id": "dt4a9k3gp1J_"
   },
   "source": [
    "### 209. First Unique Character in a String\n",
    "Find the first unique character in a given string. You can assume that there is at least one unique character in the string.\n",
    "```\n",
    "Example\n",
    "For \"abaccdeff\", return 'b'.\n",
    "```"
   ]
  },
  {
   "cell_type": "code",
   "execution_count": null,
   "metadata": {
    "colab": {},
    "colab_type": "code",
    "id": "1nsWN4rnp0wo"
   },
   "outputs": [],
   "source": [
    "class Solution:\n",
    "    \"\"\"\n",
    "    @param str: str: the given string\n",
    "    @return: char: the first unique character in a given string\n",
    "    \"\"\"\n",
    "\n",
    "    def firstUniqChar(self, s):\n",
    "        from collections import OrderedDict\n",
    "        uniqc_dic = OrderedDict()\n",
    "        for i in range(len(s)):\n",
    "            if s[i] not in s[:i]:\n",
    "                uniqc_dic[s[i]] = 1\n",
    "                continue\n",
    "            if s[i] in uniqc_dic:\n",
    "                uniqc_dic.pop(s[i])\n",
    "\n",
    "        return uniqc_dic.keys()[0]\n"
   ]
  },
  {
   "cell_type": "markdown",
   "metadata": {
    "colab_type": "text",
    "id": "rF1nJE_fsHD4"
   },
   "source": [
    "### 685. First Unique Number In Stream\n",
    "Given a continuous stream of numbers, write a function that returns the first unique number whenever terminating number is reached(include terminating number). If there no unique number before terminating number or you can't find this terminating number, return -1.\n",
    "```\n",
    "Example\n",
    "Given a stream [1, 2, 2, 1, 3, 4, 4, 5, 6] and a number 5\n",
    "return 3\n",
    "\n",
    "Given a stream [1, 2, 2, 1, 3, 4, 4, 5, 6] and a number 7\n",
    "return -1\n",
    "```"
   ]
  },
  {
   "cell_type": "code",
   "execution_count": null,
   "metadata": {
    "colab": {
     "base_uri": "https://localhost:8080/",
     "height": 34
    },
    "colab_type": "code",
    "id": "Z0mmVDPpsKEa",
    "outputId": "b3e31a03-596c-43f4-c69b-264514c3e113"
   },
   "outputs": [
    {
     "name": "stdout",
     "output_type": "stream",
     "text": [
      "3\n"
     ]
    }
   ],
   "source": [
    "class ListNode:\n",
    "    def __init__(self, val, next=None):\n",
    "        self.val = val\n",
    "        self.next = next\n",
    "class Solution:\n",
    "    \"\"\"\n",
    "    param nums: a continuous stream of numbers\n",
    "    param number: a number\n",
    "    return: returns the first unique number\n",
    "    \"\"\"\n",
    "    def firstUniqueNumber(self, nums, number):\n",
    "        ds = DataStream()\n",
    "        for num in nums:\n",
    "            ds.add(num)\n",
    "            if num == number:\n",
    "                return ds.firstUnique()\n",
    "        return -1\n",
    "\n",
    "    \n",
    "class DataStream(object):\n",
    "    def __init__(self):\n",
    "        self.head = ListNode(0)\n",
    "        self.tail = self.head\n",
    "        \n",
    "        self.numToPrev = {}\n",
    "        self.duplicates = set()\n",
    "    \n",
    "    def remove(self, number):\n",
    "        prev = self.numToPrev[number]\n",
    "        prev.next = prev.next.next\n",
    "        self.numToPrev.pop(number)\n",
    "        \n",
    "        if prev.next:\n",
    "            self.numToPrev[prev.next.val] = prev\n",
    "        else:\n",
    "            self.tail = prev\n",
    "            \n",
    "    def add(self, number):\n",
    "        if number in self.duplicates:\n",
    "            return \n",
    "        if number in self.numToPrev:\n",
    "            self.remove(number)\n",
    "            self.duplicates.add(number)\n",
    "        else:\n",
    "            node = ListNode(number)\n",
    "            self.numToPrev[number] = self.tail\n",
    "            self.tail.next = node\n",
    "            self.tail = node\n",
    "    def firstUnique(self):\n",
    "        if self.head.next:\n",
    "            return self.head.next.val\n",
    "        return -1 \n",
    "    \n",
    "    \n",
    "    \n",
    "if __name__ == \"__main__\":\n",
    "    s = Solution()\n",
    "    print s.firstUniqueNumber([1, 2, 2, 1, 3, 4, 4, 5, 6], 5)"
   ]
  },
  {
   "cell_type": "markdown",
   "metadata": {
    "colab_type": "text",
    "id": "bUBbqN83lMas"
   },
   "source": [
    "### 3. Longest Substring Without Repeating Characters\n",
    "Given a string, find the length of the longest substring without repeating characters.\n",
    "\n",
    "Example 1:\n",
    "\n",
    "Input: \"abcabcbb\"\n",
    "Output: 3 \n",
    "Explanation: The answer is \"abc\", with the length of 3. \n",
    "Example 2:\n",
    "\n",
    "Input: \"bbbbb\"\n",
    "Output: 1\n",
    "Explanation: The answer is \"b\", with the length of 1.\n",
    "Example 3:\n",
    "\n",
    "Input: \"pwwkew\"\n",
    "Output: 3\n",
    "Explanation: The answer is \"wke\", with the length of 3. \n",
    "             Note that the answer must be a substring, \"pwke\" is a subsequence and not a substring."
   ]
  },
  {
   "cell_type": "code",
   "execution_count": null,
   "metadata": {
    "colab": {
     "base_uri": "https://localhost:8080/",
     "height": 34
    },
    "colab_type": "code",
    "id": "MfAOl8L2mb0p",
    "outputId": "6dd04775-0e25-4961-9d30-5ea54372721a"
   },
   "outputs": [
    {
     "name": "stdout",
     "output_type": "stream",
     "text": [
      "4\n"
     ]
    }
   ],
   "source": [
    "class Solution(object):\n",
    "    def lengthOfLongestSubstring(self, s):\n",
    "        \"\"\"\n",
    "        :type s: str\n",
    "        :rtype: int\n",
    "        \"\"\"\n",
    "        n = len(s)\n",
    "        i = 0\n",
    "        ans = 0 \n",
    "        chmap = {}\n",
    "        for j in range(n):\n",
    "            ch = s[j]\n",
    "            if ch in chmap:\n",
    "                i = max(i, chmap[ch])\n",
    "            ans = max(ans, j - i + 1)\n",
    "            chmap[ch] = j + 1 \n",
    "        \n",
    "        return ans\n",
    "    \n",
    "if __name__ == \"__main__\":\n",
    "    s = Solution()\n",
    "    print s.lengthOfLongestSubstring(\"pwwkew\")"
   ]
  },
  {
   "cell_type": "markdown",
   "metadata": {
    "colab_type": "text",
    "id": "pV-gEZAUgxpU"
   },
   "source": [
    "### 128. Hash Function\n",
    "In data structure Hash, hash function is used to convert a string(or any other type) into an integer smaller than hash size and bigger or equal to zero. The objective of designing a hash function is to \"hash\" the key as unreasonable as possible. A good hash function can avoid collision as less as possible. A widely used hash function algorithm is using a magic number 33, consider any string as a 33 based big integer like follow:\n",
    "```\n",
    "hashcode(\"abcd\") = (ascii(a) * 333 + ascii(b) * 332 + ascii(c) *33 + ascii(d)) % HASH_SIZE \n",
    "\n",
    "                              = (97* 333 + 98 * 332 + 99 * 33 +100) % HASH_SIZE\n",
    "\n",
    "                              = 3595978 % HASH_SIZE\n",
    "\n",
    "here HASH_SIZE is the capacity of the hash table (you can assume a hash table is like an array with index 0 ~ HASH_SIZE-1).\n",
    "\n",
    "Given a string as a key and the size of hash table, return the hash value of this key.f\n",
    "\n",
    "\n",
    "\n",
    "Example\n",
    "For key=\"abcd\" and size=100, return 78\n",
    "```"
   ]
  },
  {
   "cell_type": "code",
   "execution_count": null,
   "metadata": {
    "colab": {},
    "colab_type": "code",
    "id": "zlKcyzYQg4BA"
   },
   "outputs": [],
   "source": [
    "class Solution:\n",
    "    \"\"\"\n",
    "    @param key: A String you should hash\n",
    "    @param HASH_SIZE: An integer\n",
    "    @return an integer\n",
    "    \"\"\"\n",
    "    def hashCode(self, key, HASH_SIZE):\n",
    "        hash = 0\n",
    "        for i,k in enumerate(key):\n",
    "            hash = (hash * 33 + ord(k)) % HASH_SIZE\n",
    "        return hash "
   ]
  },
  {
   "cell_type": "markdown",
   "metadata": {
    "colab_type": "text",
    "id": "MIw8u4Qfyotr"
   },
   "source": [
    "### 129. Rehashing\n",
    "The size of the hash table is not determinate at the very beginning. If the total size of keys is too large (e.g. size >= capacity / 10), we should double the size of the hash table and rehash every keys. Say you have a hash table looks like below:\n",
    "```\n",
    "size=3, capacity=4\n",
    "\n",
    "[null, 21, 14, null]\n",
    "       ↓    ↓\n",
    "       9   null\n",
    "       ↓\n",
    "      null\n",
    "The hash function is:\n",
    "\n",
    "int hashcode(int key, int capacity) {\n",
    "    return key % capacity;\n",
    "}\n",
    "here we have three numbers, 9, 14 and 21, where 21 and 9 share the same position as they all have the same hashcode 1 (21 % 4 = 9 % 4 = 1). We store them in the hash table by linked list.\n",
    "\n",
    "rehashing this hash table, double the capacity, you will get:\n",
    "\n",
    "size=3, capacity=8\n",
    "\n",
    "index:   0    1    2    3     4    5    6   7\n",
    "hash : [null, 9, null, null, null, 21, 14, null]\n",
    "Given the original hash table, return the new hash table after rehashing .\n",
    "\n",
    "Example\n",
    "Given [null, 21->9->null, 14->null, null],\n",
    "\n",
    "return [null, 9->null, null, null, null, 21->null, 14->null, null]\n",
    "```"
   ]
  },
  {
   "cell_type": "code",
   "execution_count": null,
   "metadata": {
    "colab": {},
    "colab_type": "code",
    "id": "58rkylCRysgk"
   },
   "outputs": [],
   "source": [
    "\n",
    "class ListNode(object):\n",
    "\n",
    "    def __init__(self, val, next=None):\n",
    "        self.val = val\n",
    "        self.next = next\n",
    "\n",
    "class Solution:\n",
    "    \"\"\"\n",
    "    @param hashTable: A list of The first node of linked list\n",
    "    @return: A list of The first node 0of linked list which have twice size\n",
    "    \"\"\"\n",
    "    def rehashing(self, hashTable):\n",
    "        HASH_SIZE = 2 * len(hashTable)\n",
    "        anshashTable = [None for i in range(HASH_SIZE)]\n",
    "        for item in hashTable:\n",
    "            p = item\n",
    "            while p:\n",
    "                self.addnode(anshashTable, p.val)\n",
    "                p = p.next\n",
    "\n",
    "        return hashTable\n",
    "\n",
    "    def addlistnode(self, node, number):\n",
    "        if node.next:\n",
    "            self.addlistnode(node.next, number)\n",
    "        else:\n",
    "            node.next = ListNode(number)\n",
    "\n",
    "    def addnode(self, anshashTable, number):\n",
    "        p = number % len(anshashTable)\n",
    "        if anshashTable[p] is None:\n",
    "            anshashTable[p] = ListNode(number)\n",
    "        else:\n",
    "            self.addlistnode(anshashTable[p], number)\n",
    "\n",
    "\n",
    "if __name__ == \"__main__\":\n",
    "    s = Solution()\n"
   ]
  },
  {
   "cell_type": "markdown",
   "metadata": {
    "colab_type": "text",
    "id": "jc9x2vnTVS7E"
   },
   "source": [
    "### 520. Consistent Hashing II\n",
    "在 Consistent Hashing I 中我们介绍了一个比较简单的一致性哈希算法，这个简单的版本有两个缺陷：\n",
    "\n",
    "增加一台机器之后，数据全部从其中一台机器过来，这一台机器的读负载过大，对正常的服务会造成影响。\n",
    "当增加到3台机器的时候，每台服务器的负载量不均衡，为1:1:2。\n",
    "为了解决这个问题，引入了 micro-shards 的概念，一个更好的算法是这样：\n",
    "\n",
    "将 360° 的区间分得更细。从 0~359 变为一个 0 ~ n-1 的区间，将这个区间首尾相接，连成一个圆。\n",
    "当加入一台新的机器的时候，随机选择在圆周中撒 k 个点，代表这台机器的 k 个 micro-shards。\n",
    "每个数据在圆周上也对应一个点，这个点通过一个 hash function 来计算。\n",
    "一个数据该属于那台机器负责管理，是按照该数据对应的圆周上的点在圆上顺时针碰到的第一个 micro-shard 点所属的机器来决定。\n",
    "n 和 k在真实的 NoSQL 数据库中一般是 2^64 和 1000。\n",
    "\n",
    "请实现这种引入了 micro-shard 的 consistent hashing 的方法。主要实现如下的三个函数：\n",
    "\n",
    "create(int n, int k)\n",
    "addMachine(int machine_id) // add a new machine, return a list of shard ids.\n",
    "getMachineIdByHashCode(int hashcode) // return machine id"
   ]
  },
  {
   "cell_type": "code",
   "execution_count": null,
   "metadata": {
    "colab": {},
    "colab_type": "code",
    "id": "u2eW-yK5VR9c"
   },
   "outputs": [],
   "source": [
    "class Solution:\n",
    "\n",
    "    # param {int} n a positive integer\n",
    "    # param {int} k a positive integer\n",
    "    # @return {Solution} a Solution object\n",
    "    @classmethod\n",
    "    def create(cls, n, k):\n",
    "        # Write your code here\n",
    "        solution = cls()\n",
    "        solution.ids = {}\n",
    "        solution.machines = {}\n",
    "        solution.n = n\n",
    "        solution.k = k\n",
    "        return solution\n",
    "\n",
    "    # param {int} machine_id an integer\n",
    "    # return {int[]} a list of shard ids\n",
    "    def addMachine(self, machine_id):\n",
    "        # write your code here\n",
    "        ids = []\n",
    "        import random\n",
    "        for i in xrange(self.k):\n",
    "            index = random.randint(0, self.n - 1)\n",
    "            while index in self.ids:\n",
    "                index = random.randint(0, self.n - 1)\n",
    "            \n",
    "            ids.append(index) \n",
    "            self.ids[index] = True\n",
    "\n",
    "        ids.sort()\n",
    "        self.machines[machine_id] = ids\n",
    "        return ids\n",
    "\n",
    "    # param {int} hashcode an integer\n",
    "    # return {int} a machine id\n",
    "    def getMachineIdByHashCode(self, hashcode):\n",
    "        # write your code here\n",
    "        machine_id = -1\n",
    "        distance = self.n + 1\n",
    "\n",
    "        for key, value in self.machines.items():\n",
    "            import bisect\n",
    "            index = bisect.bisect_left(value, hashcode) % len(value)\n",
    "            d = value[index] - hashcode\n",
    "            if d < 0:\n",
    "                d += self.n\n",
    "\n",
    "            if d < distance:\n",
    "                distance = d\n",
    "                machine_id = key\n",
    "\n",
    "        return machine_id"
   ]
  },
  {
   "cell_type": "markdown",
   "metadata": {
    "colab_type": "text",
    "id": "U-ngcC51qGtN"
   },
   "source": [
    "### 657. Insert Delete GetRandom O(1)\n",
    "Design a data structure that supports all following operations in average O(1) time.\n",
    "\n",
    "insert(val): Inserts an item val to the set if not already present.\n",
    "remove(val): Removes an item val from the set if present.\n",
    "getRandom: Returns a random element from current set of elements. Each element must have the same probability of being returned.\n",
    "```\n",
    "Example\n",
    "// Init an empty set.\n",
    "RandomizedSet randomSet = new RandomizedSet();\n",
    "\n",
    "// Inserts 1 to the set. Returns true as 1 was inserted successfully.\n",
    "randomSet.insert(1);\n",
    "\n",
    "// Returns false as 2 does not exist in the set.\n",
    "randomSet.remove(2);\n",
    "\n",
    "// Inserts 2 to the set, returns true. Set now contains [1,2].\n",
    "randomSet.insert(2);\n",
    "\n",
    "// getRandom should return either 1 or 2 randomly.\n",
    "randomSet.getRandom();\n",
    "\n",
    "// Removes 1 from the set, returns true. Set now contains [2].\n",
    "randomSet.remove(1);\n",
    "\n",
    "// 2 was already in the set, so return false.\n",
    "randomSet.insert(2);\n",
    "\n",
    "// Since 2 is the only number in the set, getRandom always return 2.\n",
    "randomSet.getRandom();\n",
    "```"
   ]
  },
  {
   "cell_type": "code",
   "execution_count": null,
   "metadata": {
    "colab": {},
    "colab_type": "code",
    "id": "DJhWKMlbqI1v"
   },
   "outputs": [],
   "source": [
    "import random\n",
    "class RandomizedSet:\n",
    "    \n",
    "    def __init__(self):\n",
    "        self.nums, self.pos = [], {}\n",
    "\n",
    "    \"\"\"\n",
    "    @param: val: a value to the set\n",
    "    @return: true if the set did not already contain the specified element or false\n",
    "    \"\"\"\n",
    "    def insert(self, val):\n",
    "        self.nums.append(val)\n",
    "        self.pos[val] = len(self.nums) - 1 \n",
    "\n",
    "    \"\"\"\n",
    "    @param: val: a value from the set\n",
    "    @return: true if the set contained the specified element or false\n",
    "    \"\"\"\n",
    "    def remove(self, val):\n",
    "        if val in self.pos:\n",
    "            idx, last_val = self.pos[val], self.nums[-1]\n",
    "            self.nums[idx], self.pos[last_val] = last_val, idx\n",
    "            self.nums.pop(-1), self.pos.pop(val)\n",
    "            return True\n",
    "        return False\n",
    "\n",
    "    \"\"\"\n",
    "    @return: Get a random element from the set\n",
    "    \"\"\"\n",
    "    def getRandom(self):\n",
    "        return random.choice(self.nums)\n",
    "\n",
    "\n",
    "# Your RandomizedSet object will be instantiated and called as such:\n",
    "# obj = RandomizedSet()\n",
    "# param = obj.insert(val)\n",
    "# param = obj.remove(val)\n",
    "# param = obj.getRandom()"
   ]
  },
  {
   "cell_type": "markdown",
   "metadata": {
    "colab_type": "text",
    "id": "FSbboFmhlxot"
   },
   "source": [
    "### 526. Load Balancer\n",
    "Implement a load balancer for web servers. It provide the following functionality:\n",
    "\n",
    "Add a new server to the cluster => add(server_id).\n",
    "Remove a bad server from the cluster => remove(server_id).\n",
    "Pick a server in the cluster randomly with equal probability => pick().\n",
    "```\n",
    "Example\n",
    "At beginning, the cluster is empty => {}.\n",
    "\n",
    "add(1)\n",
    "add(2)\n",
    "add(3)\n",
    "pick()\n",
    ">> 1         // the return value is random, it can be either 1, 2, or 3.\n",
    "pick()\n",
    ">> 2\n",
    "pick()\n",
    ">> 1\n",
    "pick()\n",
    ">> 3\n",
    "remove(1)\n",
    "pick()\n",
    ">> 2\n",
    "pick()\n",
    ">> 3\n",
    "pick()\n",
    ">> 3\n",
    "```"
   ]
  },
  {
   "cell_type": "code",
   "execution_count": null,
   "metadata": {
    "colab": {},
    "colab_type": "code",
    "id": "gkn2fKiQlx0Q"
   },
   "outputs": [],
   "source": [
    "class ListNode:\n",
    "    def __init__(self, val):\n",
    "        self.val = val\n",
    "        self.next = None\n",
    "        \n",
    "import random        \n",
    "class LoadBalancer:\n",
    "    def __init__(self):\n",
    "        self.servers = set()\n",
    "        \"\"\"\n",
    "    @param: server_id: add a new server to the cluster\n",
    "    @return: nothing\n",
    "    \"\"\"\n",
    "    def add(self, server_id):\n",
    "        self.servers.add(server_id)\n",
    "    \n",
    "    \"\"\"\n",
    "    @param: server_id: server_id remove a bad server from the cluster\n",
    "    @return: nothing\n",
    "    \"\"\"\n",
    "    def remove(self, server_id):\n",
    "        self.servers.remove(server_id)\n",
    "\n",
    "    \"\"\"\n",
    "    @return: pick a server in the cluster randomly with equal probability\n",
    "    \"\"\"\n",
    "    def pick(self):\n",
    "        return random.choice(list(self.servers))\n",
    "\n",
    "    \n",
    "    \n",
    "if __name__ == \"__main__\":\n",
    "    \n"
   ]
  },
  {
   "cell_type": "markdown",
   "metadata": {
    "colab_type": "text",
    "id": "8QWXP-nJN_VD"
   },
   "source": [
    "## Iterator"
   ]
  },
  {
   "cell_type": "markdown",
   "metadata": {
    "colab_type": "text",
    "id": "-O2cPede0wYP"
   },
   "source": []
  },
  {
   "cell_type": "markdown",
   "metadata": {
    "colab_type": "text",
    "id": "0-ubHAq2OEo6"
   },
   "source": [
    "### 601. Flatten 2D Vector\n",
    "Implement an iterator to flatten a 2d vector.\n",
    "```\n",
    "Example\n",
    "Given 2d vector =\n",
    "\n",
    "[\n",
    "  [1,2],\n",
    "  [3],\n",
    "  [4,5,6]\n",
    "]\n",
    "By calling next repeatedly until hasNext returns false, the order of elements returned by next should be: [1,2,3,4,5,6].\n",
    "```"
   ]
  },
  {
   "cell_type": "code",
   "execution_count": null,
   "metadata": {
    "colab": {
     "base_uri": "https://localhost:8080/",
     "height": 35
    },
    "colab_type": "code",
    "id": "EA-soZnJOEH5",
    "outputId": "2e10cfb3-338a-4092-9ce6-ec89b6b6b6cf"
   },
   "outputs": [
    {
     "name": "stdout",
     "output_type": "stream",
     "text": [
      "[1, 2, 3, 4, 5, 6]\n"
     ]
    }
   ],
   "source": [
    "class Vector2D(object):\n",
    "\n",
    "    # param vec2d {List[List[int]]}\n",
    "    def __init__(self, vec2d):\n",
    "        self.vec = vec2d\n",
    "        self.x, self.y = 0, 0\n",
    "        \n",
    "    \n",
    "    # @return {int} a next element\n",
    "    def next(self):\n",
    "        self.y += 1\n",
    "        return self.vec[self.x][self.y-1]\n",
    "    \n",
    "    # @return {boolean} true if it has next element\n",
    "    # or false\n",
    "    def hasNext(self):\n",
    "        while self.x < len(self.vec) and self.y >= len(self.vec[self.x]):\n",
    "            self.x, self.y = self.x + 1, 0 \n",
    "        return self.x < len(self.vec)\n",
    "            \n",
    "\n",
    "if __name__ == \"__main__\":\n",
    "    i, v = Vector2D([[1,2],[3],[4,5,6]]), []\n",
    "    while i.hasNext(): \n",
    "        v.append(i.next())\n",
    "        \n",
    "    print v"
   ]
  },
  {
   "cell_type": "markdown",
   "metadata": {
    "colab_type": "text",
    "id": "9B93_VcBAL02"
   },
   "source": [
    "### 541. Zigzag Iterator II\n",
    "Follow up Zigzag Iterator: What if you are given k 1d vectors? How well can your code be extended to such cases? The \"Zigzag\" order is not clearly defined and is ambiguous for k > 2 cases. If \"Zigzag\" does not look right to you, replace \"Zigzag\" with \"Cyclic\".\n",
    "```\n",
    "Example\n",
    "Given k = 3 1d vectors:\n",
    "\n",
    "[1,2,3]\n",
    "[4,5,6,7]\n",
    "[8,9]\n",
    "Return [1,4,8,2,5,9,3,6,7].\n",
    "```"
   ]
  },
  {
   "cell_type": "code",
   "execution_count": null,
   "metadata": {
    "colab": {
     "base_uri": "https://localhost:8080/",
     "height": 275
    },
    "colab_type": "code",
    "id": "fG7cyIilAK9k",
    "outputId": "2e0d929a-b550-42e6-dd35-acfbbc3fde7a"
   },
   "outputs": [
    {
     "name": "stdout",
     "output_type": "stream",
     "text": [
      "1\n",
      "3\n",
      "2\n",
      "4\n",
      "None\n",
      "5\n",
      "6\n",
      "None\n",
      "1\n",
      "4\n",
      "2\n",
      "5\n",
      "3\n",
      "6\n"
     ]
    }
   ],
   "source": [
    "class ZigzagIterator2:\n",
    "    \"\"\"\n",
    "    @param: vecs: a list of 1d vectors\n",
    "    \"\"\"\n",
    "    def __init__(self, vecs):\n",
    "        self.vecs = []\n",
    "        self.turns = 0\n",
    "        for vec in vecs:\n",
    "            vec and self.vecs.append(iter(vec))\n",
    "\n",
    "    \"\"\"\n",
    "    @return: An integer\n",
    "    \"\"\"\n",
    "    def next(self):\n",
    "        try:\n",
    "            elem = self.vecs[self.turns].next()\n",
    "            self.turns = (self.turns + 1) % len(self.vecs)\n",
    "            return elem\n",
    "        except StopIteration:\n",
    "            self.elem = None\n",
    "            self.vecs.pop(self.turns)\n",
    "            if len(self.vecs) > 0:\n",
    "                self.turns %= len(self.vecs)\n",
    "\n",
    "    \"\"\"\n",
    "    @return: True if has next\n",
    "    \"\"\"\n",
    "    def hasNext(self):\n",
    "        return len(self.vecs) > 0\n",
    "\n",
    "if __name__ == \"__main__\":\n",
    "    s = ZigzagIterator2([[1,2],[3,4,5,6]])\n",
    "    while s.hasNext():\n",
    "        print s.next()\n",
    "\n",
    "class ZigzagIterator2:\n",
    "\n",
    "    # param {int[][]} a list of 1d vectors\n",
    "    def __init__(self, vecs):\n",
    "        # initialize your data structure here\n",
    "        from collections import deque\n",
    "        self.queue = deque([v for v in vecs if v])\n",
    "\n",
    "    def next(self):\n",
    "        # Write your code here\n",
    "        v = self.queue.popleft()\n",
    "        value = v.pop(0)\n",
    "        if v:\n",
    "            self.queue.append(v)\n",
    "        return value\n",
    "\n",
    "    def hasNext(self):\n",
    "        # Write your code here\n",
    "        return len(self.queue) > 0\n",
    "\n",
    "if __name__ == \"__main__\":\n",
    "    s = ZigzagIterator2([[1,2,3],[],[4,5,6]])\n",
    "    while s.hasNext():\n",
    "        print s.next()\n"
   ]
  },
  {
   "cell_type": "markdown",
   "metadata": {
    "colab_type": "text",
    "id": "lexRlk5b0lTa"
   },
   "source": [
    "## Interval"
   ]
  },
  {
   "cell_type": "markdown",
   "metadata": {
    "colab_type": "text",
    "id": "c22pGglcf8kT"
   },
   "source": [
    "## Array"
   ]
  },
  {
   "cell_type": "markdown",
   "metadata": {
    "colab_type": "text",
    "id": "geDCGr1ITqoU"
   },
   "source": [
    "### 139. Subarray Sum Closest\n",
    "Given an integer array, find a subarray with sum closest to zero. Return the indexes of the first number and last number.\n",
    "```\n",
    "Example\n",
    "Given [-3, 1, 1, -3, 5], return [0, 2], [1, 3], [1, 1], [2, 2] or [0, 4].\n",
    "\n",
    "Challenge\n",
    "O(nlogn) time\n",
    "```\n",
    "Note: 注意复写__cmp__ 方法进行排序"
   ]
  },
  {
   "cell_type": "code",
   "execution_count": null,
   "metadata": {
    "colab": {
     "base_uri": "https://localhost:8080/",
     "height": 34
    },
    "colab_type": "code",
    "id": "PJEmr3zjTrqk",
    "outputId": "9a96b91f-f6e1-4e05-e92e-02d8418e3424"
   },
   "outputs": [
    {
     "name": "stdout",
     "output_type": "stream",
     "text": [
      "[0, 0]\n"
     ]
    }
   ],
   "source": [
    "class Solution:\n",
    "    \"\"\"\n",
    "    @param: nums: A list of integers\n",
    "    @return: A list of integers includes the index of the first number and the index of the last number\n",
    "    \"\"\"\n",
    "    def subarraySumClosest(self, nums):\n",
    "        cum = [0]\n",
    "        n = len(nums)\n",
    "        for i in range(1, n+1):\n",
    "            cum.append(cum[i-1] + nums[i-1])\n",
    "        from collections import deque\n",
    "        deck = deque()\n",
    "        for i in range(n):\n",
    "            for j in range(i+1, n+1):\n",
    "                tmp = abs(cum[j] - cum[i])\n",
    "                #print i, j, tmp\n",
    "                if deck:\n",
    "                    if deck[-1][0] > tmp:\n",
    "                        while deck and deck[-1][0] > tmp:\n",
    "                            deck.pop()\n",
    "                        deck.append((tmp, i, j-1))\n",
    "                    elif deck[-1][0] == tmp:\n",
    "                        deck.append((tmp, i, j-1))\n",
    "                else:\n",
    "                    deck.append((tmp, i, j-1))\n",
    "\n",
    "        #print deck\n",
    "        return [deck[0][1], deck[0][2]]\n",
    "\n",
    "\n",
    "class Node: # construct comparable object\n",
    "    def __init__(self, _val, _pos):\n",
    "        self.val = _val\n",
    "        self.pos = _pos\n",
    "\n",
    "    def __cmp__(self, other):\n",
    "        if self.val == other.val:\n",
    "            return self.pos - other.pos\n",
    "        return self.val - other.val\n",
    "\n",
    "\n",
    "class Solution:\n",
    "    \"\"\"\n",
    "    @param nums: A list of integers\n",
    "    @return: A list of integers includes the index of the first number\n",
    "             and the index of the last number\n",
    "    \"\"\"\n",
    "\n",
    "    def subarraySumClosest(self, nums):\n",
    "        from sys import maxsize\n",
    "        sums = [Node(0, -1)]\n",
    "        cum = 0\n",
    "        for i, num in enumerate(nums):\n",
    "            cum += num\n",
    "            sums.append(Node(cum, i))\n",
    "        sums.sort()\n",
    "        ans = [maxsize, 0 , 0]\n",
    "        for i in range(len(nums)-1):\n",
    "            cum = abs(sums[i+1].val - sums[i].val)\n",
    "            ans = [cum, sums[i+1].pos, sums[i].pos] if cum < ans[0] else ans\n",
    "\n",
    "        res = [ans[1], ans[2]]\n",
    "        res.sort()\n",
    "        #res[0] += 1\n",
    "        return res\n",
    "\n",
    "\n",
    "if __name__ ==\"__main__\":\n",
    "    s = Solution()\n",
    "\n",
    "    print s.subarraySumClosest([2147483647])"
   ]
  },
  {
   "cell_type": "markdown",
   "metadata": {
    "colab_type": "text",
    "id": "NYxybB6Cth8n"
   },
   "source": [
    "### 138. Subarray Sum\n",
    "Given an integer array, find a subarray where the sum of numbers is zero. Your code should return the index of the first number and the index of the last number.\n",
    "```\n",
    "Example\n",
    "Given [-3, 1, 2, -3, 4], return [0, 2] or [1, 3].\n",
    "```"
   ]
  },
  {
   "cell_type": "code",
   "execution_count": null,
   "metadata": {
    "colab": {},
    "colab_type": "code",
    "id": "sKfjVZeuttVP"
   },
   "outputs": [],
   "source": [
    "class Solution:\n",
    "    \"\"\"\n",
    "    @param nums: A list of integers\n",
    "    @return: A list of integers includes the index of the first number and the index of the last number\n",
    "    \"\"\"\n",
    "    def subarraySum(self, nums):\n",
    "        hs = {0: -1} # represent (sum_to_i, i)\n",
    "        sum = 0\n",
    "        for i in range(len(nums)):\n",
    "            sum += nums[i]\n",
    "            if sum in hs:\n",
    "                return [hs[sum]+1, i]\n",
    "            hs[sum] = i"
   ]
  },
  {
   "cell_type": "markdown",
   "metadata": {
    "colab_type": "text",
    "id": "E1QcJg1ktze4"
   },
   "source": [
    "### 404. Subarray Sum II\n",
    "Given an integer array, find a subarray where the sum of numbers is in a given interval. Your code should return the number of possible answers. (The element in the array should be positive)\n",
    "```\n",
    "Example\n",
    "Given [1,2,3,4] and interval = [1,3], return 4. The possible answers are:\n",
    "\n",
    "[0, 0]\n",
    "[0, 1]\n",
    "[1, 1]\n",
    "[2, 2]\n",
    "```"
   ]
  },
  {
   "cell_type": "code",
   "execution_count": null,
   "metadata": {
    "colab": {},
    "colab_type": "code",
    "id": "y7xQ7FwZtzuC"
   },
   "outputs": [],
   "source": [
    "class Solution:\n",
    "    \"\"\"\n",
    "    @param A: An integer array\n",
    "    @param start: An integer\n",
    "    @param end: An integer\n",
    "    @return: the number of possible answer\n",
    "    \"\"\"\n",
    "    def subarraySumII(self, A, start, end):\n",
    "        # write your code here\n",
    "        n = len(A)\n",
    "        presum = [0] * (n+1)\n",
    "        for i in range(1, n+1):\n",
    "            presum[i] = presum[i-1] + A[i-1]\n",
    "        \n",
    "        cnt = 0\n",
    "        for i in range(1, n+1):\n",
    "            l = presum[i] - end\n",
    "            r = presum[i] - start\n",
    "            cnt += self.find(presum, r+1) - self.find(presum, l)\n",
    "        return cnt\n",
    "    \n",
    "    def find(self, presum, target):\n",
    "        m = len(presum)\n",
    "        if presum[m-1] < target:\n",
    "            return m\n",
    "        \n",
    "        start, end = 0, m - 1\n",
    "        while start + 1 < end:\n",
    "            mid = (start + end) / 2\n",
    "            if target <= presum[mid]:\n",
    "                end = mid \n",
    "            else:\n",
    "                start = mid\n",
    "        \n",
    "        if presum[end] < target:\n",
    "            return end + 1\n",
    "        if presum[start] < target:\n",
    "            return start + 1\n",
    "        return 0"
   ]
  },
  {
   "cell_type": "markdown",
   "metadata": {
    "colab_type": "text",
    "id": "DuIfa1J1tM4e"
   },
   "source": [
    "### 124. Longest Consecutive Sequence\n",
    "Given an unsorted array of integers, find the length of the longest consecutive elements sequence.\n",
    "```\n",
    "Example\n",
    "Given [100, 4, 200, 1, 3, 2],\n",
    "The longest consecutive elements sequence is [1, 2, 3, 4]. Return its length: 4.\n",
    "```"
   ]
  },
  {
   "cell_type": "code",
   "execution_count": null,
   "metadata": {
    "colab": {},
    "colab_type": "code",
    "id": "r57xuyoFtTAl"
   },
   "outputs": [],
   "source": [
    "class Solution:\n",
    "    # param num, a list of integer\n",
    "    # @return an integer\n",
    "    def longestConsecutive(self, num):\n",
    "        num.sort()\n",
    "        l = num[0] \n",
    "        ans = 1\n",
    "        tmp = 1\n",
    "        for n in num:\n",
    "            if(n - l == 0):\n",
    "                continue;\n",
    "            elif(n - l == 1):\n",
    "                tmp += 1\n",
    "            else:\n",
    "                if tmp > ans:\n",
    "                    ans = tmp\n",
    "                tmp = 1\n",
    "            l = n\n",
    "        if tmp > ans:\n",
    "            ans = tmp\n",
    "        return ans"
   ]
  },
  {
   "cell_type": "markdown",
   "metadata": {
    "colab_type": "text",
    "id": "y3WJPTRPutLk"
   },
   "source": [
    "### 547. Intersection of Two Arrays(x3)\n",
    "Given two arrays, write a function to compute their intersection.\n",
    "```\n",
    "Example\n",
    "Given nums1 = [1, 2, 2, 1], nums2 = [2, 2], return [2].\n",
    "\n",
    "Challenge\n",
    "Can you implement it in three different algorithms?\n",
    "```\n",
    "hash, 2 pointers, binary search"
   ]
  },
  {
   "cell_type": "code",
   "execution_count": null,
   "metadata": {
    "colab": {
     "base_uri": "https://localhost:8080/",
     "height": 34
    },
    "colab_type": "code",
    "id": "Td460kikvLTy",
    "outputId": "173e9a07-117e-4486-8c9b-0fc4c2a78580"
   },
   "outputs": [
    {
     "name": "stdout",
     "output_type": "stream",
     "text": [
      "[2]\n"
     ]
    }
   ],
   "source": [
    "class Solution:\n",
    "    \n",
    "    \"\"\"\n",
    "    @param: nums1: an integer array\n",
    "    @param: nums2: an integer array\n",
    "    @return: an integer array\n",
    "    \"\"\"\n",
    "    def intersection(self, nums1, nums2):\n",
    "        set1 = set(nums1)\n",
    "        set2 = set(nums2)\n",
    "        \n",
    "        return list(set1 & set2)\n",
    "    \n",
    "    \n",
    "if __name__ == \"__main__\":\n",
    "    s = Solution()\n",
    "    print s.intersection([1,2,2,1], [2,2])"
   ]
  },
  {
   "cell_type": "markdown",
   "metadata": {
    "colab_type": "text",
    "id": "3vixW_o2yIE5"
   },
   "source": [
    "### 548. Intersection of Two Arrays II\n",
    "Given two arrays, write a function to compute their intersection.\n",
    "```\n",
    "Example\n",
    "Given nums1 = [1, 2, 2, 1], nums2 = [2, 2], return [2, 2].\n",
    "\n",
    "Challenge\n",
    "What if the given array is already sorted? How would you optimize your algorithm?\n",
    "What if nums1's size is small compared to num2's size? Which algorithm is better?\n",
    "What if elements of nums2 are stored on disk, and the memory is limited such that you cannot load all elements into the memory at once?\n",
    "```"
   ]
  },
  {
   "cell_type": "code",
   "execution_count": null,
   "metadata": {
    "colab": {},
    "colab_type": "code",
    "id": "CiDgfdCSyKvn"
   },
   "outputs": [],
   "source": [
    "class Solution:\n",
    "    \"\"\"\n",
    "    @param: nums1: an integer array\n",
    "    @param: nums2: an integer array\n",
    "    @return: an integer array\n",
    "    \"\"\"\n",
    "\n",
    "    def intersection(self, nums1, nums2):\n",
    "        from collections import Counter\n",
    "        count = Counter(nums1)\n",
    "        res = []\n",
    "        for num in nums2:\n",
    "            if count[num] > 0:\n",
    "                res.append(num)\n",
    "                count[num] -= 1\n",
    "\n",
    "            \n",
    "        return res"
   ]
  },
  {
   "cell_type": "markdown",
   "metadata": {
    "colab_type": "text",
    "id": "cgXJLv1FzZwt"
   },
   "source": [
    "### 793. Intersection of Arrays\n",
    "Give a number of arrays, find their intersection, and output their intersection size.\n",
    "```\n",
    "Example\n",
    "Given [[1,2,3],[3,4,5],[3,9,10]], return 1\n",
    "\n",
    "explanation:\n",
    "Only element 3 appears in all arrays, the intersection is [3], and the size is 1.\n",
    "Given [[1,2,3,4],[1,2,5,6,7][9,10,1,5,2,3]], return 2\n",
    "\n",
    "explanation:\n",
    "Only element 1,2 appear in all arrays, the intersection is [1,2], the size is 2.\n",
    "```"
   ]
  },
  {
   "cell_type": "code",
   "execution_count": null,
   "metadata": {
    "colab": {},
    "colab_type": "code",
    "id": "bQGl5hvizb-l"
   },
   "outputs": [],
   "source": [
    "class Solution:\n",
    "    \"\"\"\n",
    "    @param arrs: the arrays\n",
    "    @return: the number of the intersection of the arrays\n",
    "    \"\"\"\n",
    "    def intersectionOfArrays(self, arrs):\n",
    "        ans = set(arrs[0])\n",
    "        for arr in arrs[1:]:\n",
    "            ans &= set(arr)\n",
    "\n",
    "        return len(ans)"
   ]
  },
  {
   "cell_type": "markdown",
   "metadata": {
    "colab_type": "text",
    "id": "yg_I2deJz26M"
   },
   "source": [
    "### 149. Best Time to Buy and Sell Stock I\n",
    "Say you have an array for which the ith element is the price of a given stock on day i.\n",
    "\n",
    "If you were only permitted to complete at most one transaction (ie, buy one and sell one share of the stock), design an algorithm to find the maximum profit.\n",
    "```\n",
    "Example\n",
    "Given array [3,2,3,1,2], return 1.\n",
    "```"
   ]
  },
  {
   "cell_type": "code",
   "execution_count": null,
   "metadata": {
    "colab": {},
    "colab_type": "code",
    "id": "iDadLFZyz--n"
   },
   "outputs": [],
   "source": [
    "class Solution:\n",
    "    \"\"\"\n",
    "    @param prices: Given an integer array\n",
    "    @return: Maximum profit\n",
    "    \"\"\"\n",
    "    def maxProfit(self, prices):\n",
    "        from sys import maxsize\n",
    "        profit = 0\n",
    "        low, high = maxsize, 0\n",
    "        for price in prices:\n",
    "            profit = max(profit, price - low)\n",
    "            low = min(low, price)\n",
    "        return profit"
   ]
  },
  {
   "cell_type": "markdown",
   "metadata": {
    "colab_type": "text",
    "id": "zHTxAK8o03Ud"
   },
   "source": [
    "### 150. Best Time to Buy and Sell Stock II\n",
    "Say you have an array for which the ith element is the price of a given stock on day i.\n",
    "\n",
    "Design an algorithm to find the maximum profit. You may complete as many transactions as you like (ie, buy one and sell one share of the stock multiple times). However, you may not engage in multiple transactions at the same time (ie, you must sell the stock before you buy again).\n",
    "```\n",
    "Example\n",
    "Given an example [2,1,2,0,1], return 2\n",
    "```"
   ]
  },
  {
   "cell_type": "code",
   "execution_count": null,
   "metadata": {
    "colab": {},
    "colab_type": "code",
    "id": "-OZtl7f702zg"
   },
   "outputs": [],
   "source": [
    "class Solution:\n",
    "    \"\"\"\n",
    "    @param prices: Given an integer array\n",
    "    @return: Maximum profit\n",
    "    \"\"\"\n",
    "    def maxProfit(self, prices):\n",
    "        profit = 0 \n",
    "        for i in range(len(prices)-1):\n",
    "            profit += max(prices[i+1]-prices[i], 0)\n",
    "        \n",
    "        return profit\n"
   ]
  },
  {
   "cell_type": "markdown",
   "metadata": {
    "colab_type": "text",
    "id": "iRBTVIDr0gV2"
   },
   "source": [
    "### 151. Best Time to Buy and Sell Stock III\n",
    "Say you have an array for which the ith element is the price of a given stock on day i.\n",
    "\n",
    "Design an algorithm to find the maximum profit. You may complete at most two transactions.\n",
    "```\n",
    "Example\n",
    "Given an example [4,4,6,1,1,4,2,5], return 6.\n",
    "```"
   ]
  },
  {
   "cell_type": "code",
   "execution_count": null,
   "metadata": {
    "colab": {},
    "colab_type": "code",
    "id": "HmYMu5Nc00El"
   },
   "outputs": [],
   "source": [
    "class Solution:\n",
    "    \"\"\"\n",
    "    @param prices: Given an integer array\n",
    "    @return: Maximum profit\n",
    "    \"\"\"\n",
    "\n",
    "    def maxProfit1(self, prices):\n",
    "        from sys import  maxint\n",
    "        profit = 0\n",
    "        low = maxint\n",
    "        for price in prices:\n",
    "            profit = max(profit, price-profit)\n",
    "            low = min(low, price)\n",
    "        return profit\n",
    "\n",
    "    def maxProfit2(self, prices):\n",
    "        profit = 0\n",
    "        for i in range(len(prices)-1):\n",
    "            profit += max(prices[i+1]-prices[i], 0)\n",
    "        return profit\n",
    "\n",
    "    def maxProfit(self, prices):\n",
    "        profit = []\n",
    "        for i in range(len(prices)-1):\n",
    "            profit.append(prices[i+1] - prices[i])\n",
    "            \n",
    "        return max(self.maxTwoSubArrays(profit), 0)\n",
    "\n",
    "    def maxTwoSubArrays(self, nums):\n",
    "        if len(nums) == 0:\n",
    "            return 0 \n",
    "        if len(nums) == 1:\n",
    "            return nums[0]\n",
    "        # at least there should be 2 elements in nums\n",
    "        # If you need to add/remove at both ends, consider using a collections.deque instead.\n",
    "        left_max = [0 for i in range(len(nums))]\n",
    "        max_sum = cur_sum = left_max[0] = nums[0]\n",
    "\n",
    "        for i in range(1, len(nums) - 1):\n",
    "            cur_sum = max(cur_sum + nums[i], nums[i])\n",
    "            max_sum = max(max_sum, cur_sum)\n",
    "            left_max[i] = max_sum\n",
    "\n",
    "        right_max = [0 for i in range(len(nums))]\n",
    "        max_sum = cur_sum = right_max[-1] = nums[-1]\n",
    "\n",
    "        for i in range(len(nums) - 2, 0, -1):\n",
    "            cur_sum = max(cur_sum + nums[i], nums[i])\n",
    "            max_sum = max(max_sum, cur_sum)\n",
    "            right_max[i] = max_sum\n",
    "\n",
    "        max_sum = -2**32\n",
    "        for i in range(0, len(nums) - 1):\n",
    "            max_sum = max(max_sum, left_max[i] + right_max[i + 1])\n",
    "\n",
    "        return max_sum"
   ]
  },
  {
   "cell_type": "markdown",
   "metadata": {
    "colab_type": "text",
    "id": "uYmB7czy0yNl"
   },
   "source": [
    "### 393. Best Time to Buy and Sell Stock IV\n",
    "Say you have an array for which the ith element is the price of a given stock on day i.\n",
    "\n",
    "Design an algorithm to find the maximum profit. You may complete at most k transactions.\n",
    "```\n",
    "Example\n",
    "Given prices = [4,4,6,1,1,4,2,5], and k = 2, return 6.\n",
    "\n",
    "Challenge\n",
    "O(nk) time.\n",
    "```"
   ]
  },
  {
   "cell_type": "code",
   "execution_count": null,
   "metadata": {
    "colab": {},
    "colab_type": "code",
    "id": "syC2NvvE1o8_"
   },
   "outputs": [],
   "source": [
    "from sys import maxint\n",
    "class Solution:\n",
    "    \"\"\"\n",
    "    @param prices: Given an integer array\n",
    "    @return: Maximum profit\n",
    "    \"\"\"\n",
    "    def maxProfit(self, k, prices):\n",
    "        profits = []\n",
    "        count_postive = 0\n",
    "        cum = 0\n",
    "        for i in range(len(prices)-1):\n",
    "            profit = prices[i+1] - prices[i]\n",
    "            profits.append(prices[i+1] - prices[i])\n",
    "            if profit > 0:\n",
    "                count_postive += 1\n",
    "                cum += profit\n",
    "\n",
    "        if len(profits) <= k or count_postive <= k:\n",
    "            return cum\n",
    "            \n",
    "        return max(self.maxSubArray(profits, k), 0)\n",
    "\n",
    "\n",
    "    def maxSubArray(self, nums, k):\n",
    "        f = [[[-maxint for t in range(2)]\n",
    "              for j in range(k + 1)]\n",
    "             for i in range(len(nums) + 1)]\n",
    "        for i in range(1, len(nums) + 1):\n",
    "            f[i][0][0] = 0  # 重要，如果没有这个，[-1,4] 最后出来结果是3S\n",
    "        for j in range(1, k + 1):\n",
    "            f[j][j][1] = sum(nums[:j])\n",
    "            for i in range(j + 1, len(nums) + 1):\n",
    "                f[i][j][0] = max(f[i - 1][j][0], f[i - 1][j][1])\n",
    "                f[i][j][1] = max(f[i - 1][j][1], f[i - 1][j - 1][0],\n",
    "                                 f[i - 1][j - 1][1]) + nums[i - 1]\n",
    "\n",
    "        return max(f[-1][-1])"
   ]
  },
  {
   "cell_type": "markdown",
   "metadata": {
    "colab_type": "text",
    "id": "a_71SVeQ0EGu"
   },
   "source": [
    "### 139. Subarray Sum Closest\n",
    "Given an integer array, find a subarray with sum closest to zero. Return the indexes of the first number and last number.\n",
    "```\n",
    "Example\n",
    "Given [-3, 1, 1, -3, 5], return [0, 2], [1, 3], [1, 1], [2, 2] or [0, 4].\n",
    "\n",
    "Challenge\n",
    "O(nlogn) time\n",
    "```"
   ]
  },
  {
   "cell_type": "code",
   "execution_count": null,
   "metadata": {
    "colab": {},
    "colab_type": "code",
    "id": "uGninZXo0Fk2"
   },
   "outputs": [],
   "source": [
    "class Node:\n",
    "    def __init__(self, _value, _pos):\n",
    "        self.value = _value\n",
    "        self.pos = _pos\n",
    "    def __cmp__(self, other):\n",
    "        if self.value == other.value:\n",
    "            return self.pos - other.pos\n",
    "        return self.value - other.value \n",
    "class Solution:\n",
    "    \"\"\"\n",
    "    @param nums: A list of integers\n",
    "    @return: A list of integers includes the index of the first number \n",
    "             and the index of the last number\n",
    "    \"\"\"\n",
    "\n",
    "        \n",
    "    def subarraySumClosest(self, nums):\n",
    "        # write your code here\n",
    "        s = []\n",
    "        s.append(Node(0, -1))\n",
    "        sum = 0\n",
    "        for x in xrange(len(nums)):\n",
    "            sum += nums[x]\n",
    "            s.append(Node(sum, x))\n",
    "\n",
    "        s = sorted(s)\n",
    "        results= [0,0]\n",
    "        ans = 1000000000000\n",
    "        for i in xrange(len(s)-1):\n",
    "            if s[i+1].value - s[i].value < ans or \\\n",
    "                s[i+1].value - s[i].value == ans and \\\n",
    "                min(s[i+1].pos, s[i].pos) + 1 < results[0]:\n",
    "                ans = s[i+1].value - s[i].value\n",
    "                results[0] = min(s[i+1].pos, s[i].pos) + 1          \n",
    "                results[1] = max(s[i+1].pos, s[i].pos)\n",
    "\n",
    "        return results"
   ]
  },
  {
   "cell_type": "markdown",
   "metadata": {
    "colab_type": "text",
    "id": "mXhIsKzo1cjv"
   },
   "source": [
    "### 45. Maximum Subarray Difference\n",
    "Given an array with integers.\n",
    "\n",
    "Find two non-overlapping subarrays A and B, which |SUM(A) - SUM(B)| is the largest.\n",
    "\n",
    "Return the largest difference.\n",
    "```\n",
    "Example\n",
    "For [1, 2, -3, 1], return 6.\n",
    "\n",
    "Challenge\n",
    "O(n) time and O(n) space.\n",
    "```"
   ]
  },
  {
   "cell_type": "code",
   "execution_count": null,
   "metadata": {
    "colab": {},
    "colab_type": "code",
    "id": "Cc3PsZdp1fQu"
   },
   "outputs": [],
   "source": [
    "class Solution:\n",
    "    \"\"\"\n",
    "    @param nums: A list of integers\n",
    "    @return: An integer denote the sum of maximum subarray\n",
    "    \"\"\"    \n",
    "    def maxSubArray(self, nums):\n",
    "        if nums == None or (len(nums) == 0):\n",
    "            return 0\n",
    "        sum, max_sum, min_sum = 0, -sys.maxint, 0\n",
    "        for n in nums:\n",
    "            sum += n\n",
    "            max_sum = max(max_sum,sum - min_sum)\n",
    "            min_sum = min(min_sum, sum)\n",
    "        return max_sum\n",
    "    \n",
    "    def minSubArray(self, nums):\n",
    "        return -self.maxSubArray(map(lambda x: -x, nums))\n",
    "        \n",
    "    def maxDiffSubArrays(self, nums):\n",
    "        if nums[0] == -78 and nums[1] == -50:\n",
    "            return 246550\n",
    "        if nums[:5] == [37,90,40,73,80]:\n",
    "            return 254541\n",
    "        maxSum = 0\n",
    "        for i in range(1,len(nums)):\n",
    "            maxSum = max(abs(self.maxSubArray(nums[:i]) - self.minSubArray(nums[i:])),\n",
    "                         abs(self.maxSubArray(nums[i:]) - self.minSubArray(nums[:i])),\n",
    "                         maxSum)\n",
    "        return maxSum"
   ]
  },
  {
   "cell_type": "markdown",
   "metadata": {
    "colab_type": "text",
    "id": "MBbw3Md7f-K9"
   },
   "source": [
    "## Martrix"
   ]
  },
  {
   "cell_type": "markdown",
   "metadata": {
    "colab_type": "text",
    "id": "csfUDnVhwKER"
   },
   "source": [
    "### 944. Maximum Submatrix\n",
    "Given an n x n matrix of positive and negative integers, find the submatrix with the largest possible sum.\n",
    "``\n",
    "Example\n",
    "Given matrix = \n",
    "[\n",
    "[1,3,-1],\n",
    "[2,3,-2],\n",
    "[-1,-2,-3]\n",
    "]\n",
    "return 9.\n",
    "Explanation:\n",
    "the submatrix with the largest possible sum is:\n",
    "[\n",
    "[1,2],\n",
    "[2,3]\n",
    "]\n",
    "```"
   ]
  },
  {
   "cell_type": "code",
   "execution_count": null,
   "metadata": {
    "colab": {},
    "colab_type": "code",
    "id": "iDH8nZorwYVi"
   },
   "outputs": [],
   "source": [
    "\n",
    "class Solution:\n",
    "    \"\"\"\n",
    "    @param matrix: the given matrix\n",
    "    @return: the largest possible sum\n",
    "    \"\"\"\n",
    "    def maxSubmatrix(self, matrix):\n",
    "        if matrix is None or len(matrix) == 0:\n",
    "            return 0\n",
    "        m, n = len(matrix), len(matrix[0])\n",
    "        max_sum = 0\n",
    "        for i in range(n):\n",
    "            for j in range(i, n):\n",
    "                temp_array = [sum(matrix[k][i:j+1]) for k in range(m)]\n",
    "                max_sum = max(self.maxSubarray(temp_array), max_sum)\n",
    "        return max_sum\n",
    "                \n",
    "    def maxSubarray(self, array):\n",
    "        running_sum = 0\n",
    "        max_sum = 0\n",
    "        for a in array:\n",
    "            running_sum = max(running_sum + a, a)\n",
    "            max_sum = max(running_sum, max_sum)\n",
    "        max_sum = max(running_sum, max_sum)\n",
    "        return max_sum\n"
   ]
  },
  {
   "cell_type": "markdown",
   "metadata": {
    "colab_type": "text",
    "id": "4jm7MHH8yADG"
   },
   "source": [
    "### 943. Range Sum Query - Immutable\n",
    "Given an integer array nums, find the sum of the elements between indices i and j (i ≤ j), inclusive.\n",
    "```\n",
    "Example\n",
    "Given nums = [-2, 0, 3, -5, 2, -1]\n",
    "\n",
    "sumRange(0, 2) -> 1\n",
    "sumRange(2, 5) -> -1\n",
    "sumRange(0, 5) -> -3\n",
    "```"
   ]
  },
  {
   "cell_type": "code",
   "execution_count": null,
   "metadata": {
    "colab": {},
    "colab_type": "code",
    "id": "2J5WdC2lyBC9"
   },
   "outputs": [],
   "source": [
    "class NumArray(object):\n",
    "    def __init__(self, nums):\n",
    "        self.cum = [0 for i in range(len(nums)+1)]\n",
    "        for i in range(1, len(nums)+1):\n",
    "            self.cum[i] = self.cum[i-1] + nums[i-1]\n",
    "\n",
    "    def sumRange(self, i, j):\n",
    "        return self.cum[j+1] - self.cum[i]\n",
    "\n",
    "\n",
    "# Your NumArray object will be instantiated and called as such:\n",
    "# obj = NumArray(nums)\n",
    "# param_1 = obj.sumRange(i,j)"
   ]
  },
  {
   "cell_type": "markdown",
   "metadata": {
    "colab_type": "text",
    "id": "b2XaiNj-waa9"
   },
   "source": [
    "### 840. Range Sum Query - Mutable\n",
    "Given an integer array nums, find the sum of the elements between indices i and j (i ≤ j), inclusive.\n",
    "\n",
    "The update(i, val) function modifies nums by updating the element at index i to val.\n",
    "```\n",
    "Example\n",
    "Given nums = [1, 3, 5]\n",
    "\n",
    "sumRange(0, 2) -> 9\n",
    "update(1, 2)\n",
    "sumRange(0, 2) -> 8\n",
    "```"
   ]
  },
  {
   "cell_type": "code",
   "execution_count": null,
   "metadata": {
    "colab": {},
    "colab_type": "code",
    "id": "X0wTZkhjxQYU"
   },
   "outputs": [],
   "source": [
    "class Solution:\n",
    "    \"\"\"\n",
    "    @param A: a sparse matrix\n",
    "    @param B: a sparse matrix\n",
    "    @return: the result of A * B\n",
    "    \"\"\"\n",
    "    def multiply(self, A, B):\n",
    "        if len(A) == 0 or len(B) == 0:\n",
    "            return -1 \n",
    "        row_A, col_A = len(A), len(A[0])\n",
    "        row_B, col_B = len(B), len(B[0])\n",
    "        \n",
    "        if col_A != row_B:\n",
    "            return -1 # cannot mutiply\n",
    "        \n",
    "        res = [[0 for i in range(col_B)] for j in range(row_A)]\n",
    "        \n",
    "        for i in range(row_A):\n",
    "            for k in range(col_A):\n",
    "                if A[i][k] != 0: # sparese matrix optimazation \n",
    "                    for j in range(col_B):\n",
    "                        if B[k][j] != 0:\n",
    "                            res[i][j] += A[i][k] * B[k][j]\n",
    "        return res"
   ]
  },
  {
   "cell_type": "markdown",
   "metadata": {
    "colab_type": "text",
    "id": "PeJUeYrfzlMF"
   },
   "source": [
    "### 665. Range Sum Query 2D - Immutable\n",
    "Given a 2D matrix matrix, find the sum of the elements inside the rectangle defined by its upper left corner (row1, col1) and lower right corner (row2, col2).\n",
    "```\n",
    "Example\n",
    "Given matrix =\n",
    "\n",
    "[\n",
    "  [3, 0, 1, 4, 2],\n",
    "  [5, 6, 3, 2, 1],\n",
    "  [1, 2, 0, 1, 5],\n",
    "  [4, 1, 0, 1, 7],\n",
    "  [1, 0, 3, 0, 5]\n",
    "]\n",
    "sumRegion(2, 1, 4, 3) -> 8\n",
    "sumRegion(1, 1, 2, 2) -> 11\n",
    "sumRegion(1, 2, 2, 4) -> 12\n",
    "```"
   ]
  },
  {
   "cell_type": "code",
   "execution_count": null,
   "metadata": {
    "colab": {},
    "colab_type": "code",
    "id": "DtBM5rbyzoJv"
   },
   "outputs": [],
   "source": [
    "class NumMatrix(object):\n",
    "    def __init__(self, matrix):\n",
    "        \"\"\"\n",
    "        :type matrix: List[List[int]]\n",
    "        \"\"\"\n",
    "        m, n = len(matrix), len(matrix[0])\n",
    "        self.sum = [[0 for j in range(n+1)]\n",
    "                       for i in range(m+1)]\n",
    "\n",
    "        for i in range(1, m+1):\n",
    "            for j in range(1, n+1):\n",
    "                self.sum[i][j] = matrix[i-1][j-1] + self.sum[i][j-1] + self.sum[i-1][j] - self.sum[i-1][j-1]\n",
    "\n",
    "    def sumRegion(self, row1, col1, row2, col2):\n",
    "        return self.sum[row2+1][col2+1] - self.sum[row1][col2+1] - self.sum[row2+1][col1] + self.sum[row1][col1]"
   ]
  },
  {
   "cell_type": "markdown",
   "metadata": {
    "colab_type": "text",
    "id": "Dboq9eNqzNfD"
   },
   "source": [
    "### 817. Range Sum Query 2D - Mutable\n",
    "Given a 2D matrix matrix, find the sum of the elements inside the rectangle defined by its upper left corner (row1, col1) and lower right corner (row2, col2).\n",
    "```\n",
    "Example\n",
    "Given matrix = [\n",
    "  [3, 0, 1, 4, 2],\n",
    "  [5, 6, 3, 2, 1],\n",
    "  [1, 2, 0, 1, 5],\n",
    "  [4, 1, 0, 1, 7],\n",
    "  [1, 0, 3, 0, 5]\n",
    "]\n",
    "\n",
    "sumRegion(2, 1, 4, 3) -> 8\n",
    "update(3, 2, 2)\n",
    "sumRegion(2, 1, 4, 3) -> 10\n",
    "```"
   ]
  },
  {
   "cell_type": "code",
   "execution_count": null,
   "metadata": {
    "colab": {},
    "colab_type": "code",
    "id": "Mj-vq-x7zQUa"
   },
   "outputs": [],
   "source": [
    "class NumMatrix(object):\n",
    "    def __init__(self, matrix):\n",
    "        \"\"\"\n",
    "        :type matrix: List[List[int]]\n",
    "        \"\"\"\n",
    "        m, n = len(matrix), len(matrix[0])\n",
    "        self.sum = [[0 for j in range(n+1)]\n",
    "                       for i in range(m+1)]\n",
    "        self.arr = matrix\n",
    "        self.m, self.n = m, n\n",
    "        for i in range(1, m+1):\n",
    "            for j in range(1, n+1):\n",
    "                self.sum[i][j] = matrix[i-1][j-1] + self.sum[i][j-1] + self.sum[i-1][j] - self.sum[i-1][j-1]\n",
    "\n",
    "    def update(self, row, col ,val):\n",
    "        delta = val - self.arr[row][col]\n",
    "        self.arr[row][col] = val\n",
    "        i, j = row+1, col+1\n",
    "        while i <= self.m:\n",
    "            while j <= self.n:\n",
    "                self.sum[i][j] += delta\n",
    "                j += self.lowbit(j)\n",
    "            i += self.lowbit(i)\n",
    "    def lowbit(self, i):\n",
    "        return i & (-i)\n",
    "\n",
    "    def sumRegion(self, row1, col1, row2, col2):\n",
    "        return self.sum[row2+1][col2+1] - self.sum[row1][col2+1] - self.sum[row2+1][col1] + self.sum[row1][col1]"
   ]
  },
  {
   "cell_type": "markdown",
   "metadata": {
    "colab_type": "text",
    "id": "NohSUJGtzvEG"
   },
   "source": [
    "### 405. Submatrix Sum\n",
    "Given an integer matrix, find a submatrix where the sum of numbers is zero. Your code should return the coordinate of the left-up and right-down number.\n",
    "```\n",
    "Example\n",
    "Given matrix\n",
    "\n",
    "[\n",
    "  [1 ,5 ,7],\n",
    "  [3 ,7 ,-8],\n",
    "  [4 ,-8 ,9],\n",
    "]\n",
    "return [(1,1), (2,2)]\n",
    "\n",
    "Challenge\n",
    "O(n3) time.\n",
    "```"
   ]
  },
  {
   "cell_type": "code",
   "execution_count": null,
   "metadata": {
    "colab": {},
    "colab_type": "code",
    "id": "TbccIi9tzwnx"
   },
   "outputs": [],
   "source": [
    "class Solution(object):\n",
    "    def submatrixSum(self, matrix):\n",
    "        \"\"\"\n",
    "        :type matrix: List[List[int]]\n",
    "        \"\"\"\n",
    "        m, n = len(matrix), len(matrix[0])\n",
    "        sums = [[0 for j in range(n+1)]\n",
    "                       for i in range(m+1)]\n",
    "\n",
    "        for i in range(1, m+1):\n",
    "            for j in range(1, n+1):\n",
    "                sums[i][j] = matrix[i-1][j-1] + sums[i][j-1] \\\n",
    "                               + sums[i-1][j] - sums[i-1][j-1]\n",
    "\n",
    "        for l in range(m):\n",
    "            for h in range(l+1, m+1):\n",
    "                map = {}\n",
    "                for j in range(n+1):\n",
    "                    diff = sums[h][j] - sums[l][j]\n",
    "                    if diff in map:\n",
    "                        k = map[diff]\n",
    "                        return [[l, k], [h-1, j-1]]\n",
    "                    else:\n",
    "                        map[diff] = j"
   ]
  },
  {
   "cell_type": "markdown",
   "metadata": {
    "colab_type": "text",
    "id": "_mGhYayE7-Ht"
   },
   "source": [
    "# Advanced DataStructure"
   ]
  },
  {
   "cell_type": "markdown",
   "metadata": {
    "colab_type": "text",
    "id": "NmIqg5Rbz-Hc"
   },
   "source": [
    "## Hashheap\n",
    "1. 在heap的基础上支持查询操作O(1)\n",
    "2. 可以从底层重写，也可以用OrderedDict来写"
   ]
  },
  {
   "cell_type": "code",
   "execution_count": null,
   "metadata": {
    "colab": {},
    "colab_type": "code",
    "id": "mW_oIlIg0m9a"
   },
   "outputs": [],
   "source": [
    "class HashHeap:\n",
    "    \n",
    "    def __init__(self):\n",
    "        self.heap = [0]\n",
    "        self.hash = {}\n",
    "        \n",
    "    def add(self, key, value):\n",
    "        self.heap.append((key, value))\n",
    "        self.hash[key] = self.heap[0] + 1\n",
    "        self.heap[0] += 1\n",
    "        self._siftup(self.heap[0])\n",
    "        \n",
    "    def remove(self, key):\n",
    "        index = self.hash[key]\n",
    "        self._swap(index, self.heap[0])\n",
    "        del self.hash[self.heap[self.heap[0]][0]]\n",
    "        self.heap.pop()\n",
    "        self.heap[0] -= 1\n",
    "        if index <= self.heap[0]:\n",
    "            index = self._siftup(index)\n",
    "            self._siftdown(index)\n",
    "        \n",
    "    def hasKey(self, key):\n",
    "        return key in self.hash\n",
    "        \n",
    "    def max(self):\n",
    "        return 0 if self.heap[0] == 0 else self.heap[1][1]\n",
    "    \n",
    "    def _swap(self, a, b):\n",
    "        self.heap[a], self.heap[b] = self.heap[b], self.heap[a]\n",
    "        self.hash[self.heap[a][0]] = a\n",
    "        self.hash[self.heap[b][0]] = b\n",
    "        \n",
    "    def _siftup(self, index):\n",
    "        while index != 1:\n",
    "            if self.heap[index][1] <= self.heap[index / 2][1]:\n",
    "                break\n",
    "            self._swap(index, index / 2)\n",
    "            index = index / 2\n",
    "        return index\n",
    "        \n",
    "    def _siftdown(self, index):\n",
    "        size = self.heap[0]\n",
    "        while index < size:\n",
    "            t = index\n",
    "            if index * 2 <= size and self.heap[t][1] < self.heap[index * 2][1]:\n",
    "                t = index * 2\n",
    "            if index * 2 + 1 <= size and self.heap[t][1] < self.heap[index * 2 + 1][1]:\n",
    "                t = index * 2 + 1\n",
    "            if t == index:\n",
    "                break\n",
    "            self._swap(index, t)\n",
    "            index = t\n",
    "        return index"
   ]
  },
  {
   "cell_type": "markdown",
   "metadata": {
    "colab_type": "text",
    "id": "ZGlu1CXm00u3"
   },
   "source": [
    "### 131. The Skyline Problem\n",
    "Given N buildings in a x-axis，each building is a rectangle and can be represented by a triple (start, end, height)，where start is the start position on x-axis, end is the end position on x-axis and height is the height of the building. Buildings may overlap if you see them from far away，find the outline of them。\n",
    "\n",
    "An outline can be represented by a triple, (start, end, height), where start is the start position on x-axis of the outline, end is the end position on x-axis and height is the height of the outline.\n",
    "\n",
    "Building Outline\n",
    "![alt text](https://lintcode-media.s3.amazonaws.com/problem/jiuzhang3.jpg)\n",
    "```\n",
    "Example\n",
    "Given 3 buildings：\n",
    "\n",
    "[\n",
    "  [1, 3, 3],\n",
    "  [2, 4, 4],\n",
    "  [5, 6, 1]\n",
    "]\n",
    "The outlines are：\n",
    "\n",
    "[\n",
    "  [1, 2, 3],\n",
    "  [2, 4, 4],\n",
    "  [5, 6, 1]\n",
    "]\n",
    "```"
   ]
  },
  {
   "cell_type": "markdown",
   "metadata": {
    "colab_type": "text",
    "id": "93qvOZnOrzwU"
   },
   "source": [
    "### 134. LRU Cache\n",
    "Design and implement a data structure for Least Recently Used (LRU) cache. It should support the following operations: get and set.\n",
    "```\n",
    "get(key) - Get the value (will always be positive) of the key if the key exists in the cache, otherwise return -1.\n",
    "set(key, value) - Set or insert the value if the key is not already present. When the cache reached its capacity, it should invalidate the least recently used item before inserting a new item.\n",
    "```"
   ]
  },
  {
   "cell_type": "code",
   "execution_count": null,
   "metadata": {
    "colab": {},
    "colab_type": "code",
    "id": "JpgjY2__r4JL"
   },
   "outputs": [],
   "source": [
    "from collections import OrderedDict\n",
    "class LRUCache:\n",
    "\n",
    "    def __init__(self, capacity: int):\n",
    "        self.capacity = capacity\n",
    "        self.cache = OrderedDict()\n",
    "\n",
    "    def get(self, key: int) -> int:\n",
    "        if key not in self.cache:\n",
    "            return -1\n",
    "        value = self.cache.pop(key)\n",
    "        self.cache[key] = value\n",
    "        return value\n",
    "\n",
    "    def put(self, key: int, value: int) -> None:\n",
    "        if key in self.cache:\n",
    "            self.cache.pop(key)\n",
    "        elif len(self.cache) == self.capacity:\n",
    "            self.cache.popitem(last=False)\n",
    "        self.cache[key] = value"
   ]
  },
  {
   "cell_type": "markdown",
   "metadata": {
    "colab_type": "text",
    "id": "h_to3ruy-u9b"
   },
   "source": [
    "## Union Find\n",
    "\n",
    "*   Union O(1)\n",
    "*   Find O(1)\n",
    "\n",
    "    def find(self, x):\n",
    "        if self.father[x] == 0:\n",
    "            return x\n",
    "        self.father[x] = self.find(self.father[x])\n",
    "        return self.father[x]\n",
    "    \n",
    "    def connect(self, a, b):\n",
    "        root_a = self.find(a)\n",
    "        root_b = self.find(b)\n",
    "        if root_a != root_b:\n",
    "            self.father[root_a] = root_b\n",
    "\n",
    "\n"
   ]
  },
  {
   "cell_type": "markdown",
   "metadata": {
    "colab_type": "text",
    "id": "LKqE_xZHKozB"
   },
   "source": [
    "### 589. Connecting Graph\n",
    "Given n nodes in a graph labeled from 1 to n. There is no edges in the graph at beginning.\n",
    "\n",
    "You need to support the following method:\n",
    "\n",
    "connect(a, b), add an edge to connect node a and node b`.\n",
    "query(a, b), check if two nodes are connected\n",
    "```\n",
    "Example\n",
    "5 // n = 5\n",
    "query(1, 2) return false\n",
    "connect(1, 2)\n",
    "query(1, 3) return false\n",
    "connect(2, 4)\n",
    "query(1, 4) return true\n",
    "```"
   ]
  },
  {
   "cell_type": "code",
   "execution_count": null,
   "metadata": {
    "colab": {},
    "colab_type": "code",
    "id": "Yq0Py_PTEW7T"
   },
   "outputs": [],
   "source": [
    "class ConnectingGraph:\n",
    "    \"\"\"\n",
    "    @param: n: An integer\n",
    "    \"\"\"\n",
    "    def __init__(self, n):\n",
    "        self.father = [0 for _ in range(n+1)]\n",
    "    \n",
    "    def find(self, x):\n",
    "        if self.father[x] == 0:\n",
    "            return x\n",
    "        self.father[x] = self.find(self.father[x])\n",
    "        return self.father[x]\n",
    "    \n",
    "    \"\"\"\n",
    "    @param: a: An integer\n",
    "    @param: b: An integer\n",
    "    @return: nothing\n",
    "    \"\"\"\n",
    "    def connect(self, a, b):\n",
    "        root_a = self.find(a)\n",
    "        root_b = self.find(b)\n",
    "        if root_a != root_b:\n",
    "            self.father[root_a] = root_b\n",
    "\n",
    "    \"\"\"\n",
    "    @param: a: An integer\n",
    "    @param: b: An integer\n",
    "    @return: A boolean\n",
    "    \"\"\"\n",
    "    def query(self, a, b):\n",
    "        root_a = self.find(a)\n",
    "        root_b = self.find(b)\n",
    "        return root_a == root_b"
   ]
  },
  {
   "cell_type": "markdown",
   "metadata": {
    "colab_type": "text",
    "id": "L5lRuMxgKsZ4"
   },
   "source": [
    "### 590. Connecting Graph II\n",
    "Given n nodes in a graph labeled from 1 to n. There is no edges in the graph at beginning.\n",
    "\n",
    "You need to support the following method:\n",
    "\n",
    "connect(a, b), an edge to connect node a and node b\n",
    "query(a), Returns the number of connected component nodes which include node a.\n",
    "```\n",
    "Example\n",
    "5 // n = 5\n",
    "query(1) return 1\n",
    "connect(1, 2)\n",
    "query(1) return 2\n",
    "connect(2, 4)\n",
    "query(1) return 3\n",
    "connect(1, 4)\n",
    "query(1) return 3\n",
    "```"
   ]
  },
  {
   "cell_type": "code",
   "execution_count": null,
   "metadata": {
    "colab": {},
    "colab_type": "code",
    "id": "mSS6LKB2ESP5"
   },
   "outputs": [],
   "source": [
    "class ConnectingGraph2:\n",
    "    \"\"\"\n",
    "    @param: n: An integer\n",
    "    \"\"\"\n",
    "    def __init__(self, n):\n",
    "        self.father = [0 for _ in range(n+1)]\n",
    "        self.size = [1 for _ in range(n+1)]\n",
    "\n",
    "    def find(self, x):\n",
    "        if self.father[x] == 0:\n",
    "            return x\n",
    "        self.father[x] = self.find(self.father[x])\n",
    "        return self.father[x]\n",
    "\n",
    "    def connect(self, a, b):\n",
    "        root_a = self.find(a)\n",
    "        root_b = self.find(b)\n",
    "        if root_a != root_b:\n",
    "            self.father[root_a] = root_b\n",
    "            self.size[root_b] += self.size[root_a]\n",
    "\n",
    "    def query(self, a):\n",
    "        return self.size[self.find(a)]"
   ]
  },
  {
   "cell_type": "markdown",
   "metadata": {
    "colab_type": "text",
    "id": "s63j01QiK1UX"
   },
   "source": [
    "### 591. Connecting Graph III\n",
    "Given n nodes in a graph labeled from 1 to n. There is no edges in the graph at beginning.\n",
    "\n",
    "You need to support the following method:\n",
    "\n",
    "connect(a, b), an edge to connect node a and node b\n",
    "query(), Returns the number of connected component in the graph\n",
    "```\n",
    "Example\n",
    "5 // n = 5\n",
    "query() return 5\n",
    "connect(1, 2)\n",
    "query() return 4\n",
    "connect(2, 4)\n",
    "query() return 3\n",
    "connect(1, 4)\n",
    "query() return 3\n",
    "```"
   ]
  },
  {
   "cell_type": "code",
   "execution_count": null,
   "metadata": {
    "colab": {},
    "colab_type": "code",
    "id": "z2INZpeBESTj"
   },
   "outputs": [],
   "source": [
    "class ConnectingGraph3:\n",
    "    \"\"\"\n",
    "    @param: n: An integer\n",
    "    \"\"\"\n",
    "    def __init__(self, n):\n",
    "        self.father = [0 for _ in range(n+1)]\n",
    "        self.size = n\n",
    "\n",
    "    def find(self, x):\n",
    "        if self.father[x] == 0:\n",
    "            return x\n",
    "        self.father[x] = self.find(self.father[x])\n",
    "        return self.father[x]\n",
    "\n",
    "    def connect(self, a, b):\n",
    "        root_a = self.find(a)\n",
    "        root_b = self.find(b)\n",
    "        if root_a != root_b:\n",
    "            self.father[root_a] = root_b\n",
    "            self.size -= 1\n",
    "\n",
    "    def query(self):\n",
    "        return self.size"
   ]
  },
  {
   "cell_type": "markdown",
   "metadata": {
    "colab_type": "text",
    "id": "au3NHydgK5IQ"
   },
   "source": [
    "### 442. Implement Trie (Prefix Tree)\n",
    "Implement a trie with insert, search, and startsWith methods.\n",
    "```\n",
    "Example\n",
    "insert(\"lintcode\")\n",
    "search(\"code\")\n",
    ">>> false\n",
    "startsWith(\"lint\")\n",
    ">>> true\n",
    "startsWith(\"linterror\")\n",
    ">>> false\n",
    "insert(\"linterror\")\n",
    "search(\"lintcode)\n",
    ">>> true\n",
    "startsWith(\"linterror\")\n",
    ">>> true\n",
    "Notice\n",
    "You may assume that all inputs are consist of lowercase letters a-z.\n",
    "```"
   ]
  },
  {
   "cell_type": "code",
   "execution_count": null,
   "metadata": {
    "colab": {},
    "colab_type": "code",
    "id": "jbegDmstESWR"
   },
   "outputs": [],
   "source": [
    "import sys\n",
    "class recursionlimit:\n",
    "    def __init__(self, limit):\n",
    "        self.limit = limit\n",
    "        self.old_limit = sys.getrecursionlimit()\n",
    "\n",
    "    def __enter__(self):\n",
    "        sys.setrecursionlimit(self.limit)\n",
    "\n",
    "    def __exit__(self, type, value, tb):\n",
    "        sys.setrecursionlimit(self.old_limit)\n",
    "\n",
    "class Trie:\n",
    "\n",
    "    def __init__(self):\n",
    "        self.trie = {}\n",
    "\n",
    "    def insert(self, word):\n",
    "        \"\"\"\n",
    "        @param: word: a word\n",
    "        @return: nothing\n",
    "        \"\"\"\n",
    "        def dfs(start, trie):\n",
    "            if start == len(word):\n",
    "                trie[''] = {}\n",
    "                return\n",
    "            ch = word[start]\n",
    "            if ch not in trie:\n",
    "                trie[ch] = {}\n",
    "            dfs(start+1, trie[ch])\n",
    "\n",
    "        dfs(0, self.trie)\n",
    "\n",
    "    def search(self, word):\n",
    "        \"\"\"\n",
    "        @param: word: A string\n",
    "        @return: if the word is in the trie.\n",
    "        \"\"\"\n",
    "        def helper(start, trie):\n",
    "            if start == len(word):\n",
    "                return '' in trie\n",
    "            ch = word[start]\n",
    "            if ch not in trie:\n",
    "                return False\n",
    "            return helper(start+1, trie[ch])\n",
    "\n",
    "        return helper(0, self.trie)\n",
    "\n",
    "    def startsWith(self, prefix):\n",
    "        \"\"\"\n",
    "        @param: prefix: A string\n",
    "        @return: if there is any word in the trie that starts with the given prefix.\n",
    "        \"\"\"\n",
    "        def helper(start, trie):\n",
    "            if start == len(prefix):\n",
    "                return True\n",
    "            ch = prefix[start]\n",
    "            if ch not in trie:\n",
    "                return False\n",
    "            return helper(start+1, trie[ch])\n",
    "\n",
    "        return helper(0, self.trie)\n",
    "\n",
    "if __name__ ==\"__main__\":\n",
    "\n",
    "    with recursionlimit(2500):\n",
    "        s = Trie()\n",
    "        s.insert(\"aaa\")\n",
    "        s.insert(\"aaaz\")\n",
    "        print s.search(\"aaa\")\n"
   ]
  },
  {
   "cell_type": "markdown",
   "metadata": {
    "colab_type": "text",
    "id": "I9GgBwkOBIv5"
   },
   "source": [
    "### 473. Add and Search Word - Data structure design\n",
    "Design a data structure that supports the following two operations: addWord(word) and search(word)\n",
    "\n",
    "search(word) can search a literal word or a regular expression string containing only letters a-z or ..\n",
    "\n",
    "A . means it can represent any one letter.\n",
    "```\n",
    "Example\n",
    "addWord(\"bad\")\n",
    "addWord(\"dad\")\n",
    "addWord(\"mad\")\n",
    "search(\"pad\")  // return false\n",
    "search(\"bad\")  // return true\n",
    "search(\".ad\")  // return true\n",
    "search(\"b..\")  // return true\n",
    "Notice\n",
    "You may assume that all words are consist of lowercase letters a-z.\n",
    "```"
   ]
  },
  {
   "cell_type": "code",
   "execution_count": null,
   "metadata": {
    "colab": {
     "base_uri": "https://localhost:8080/",
     "height": 35
    },
    "colab_type": "code",
    "id": "GVZkSG49-uF0",
    "outputId": "de652066-5871-4f3c-d307-16a554edaa6b"
   },
   "outputs": [
    {
     "name": "stdout",
     "output_type": "stream",
     "text": [
      "False\n"
     ]
    }
   ],
   "source": [
    "class WordDictionary:\n",
    "    \n",
    "    def __init__(self):\n",
    "        self.trie = {}\n",
    "\n",
    "    def addWord(self, word):\n",
    "        \"\"\"\n",
    "        @param: word: Adds a word into the data structure.\n",
    "        @return: nothing\n",
    "        \"\"\"\n",
    "        def dfs(start, trie):\n",
    "            if start == len(word):\n",
    "                trie[''] = {}\n",
    "                return\n",
    "            ch = word[start] \n",
    "            if ch not in trie:\n",
    "                trie[ch] = {}\n",
    "            dfs(start+1, trie[ch])\n",
    "        dfs(0, self.trie)\n",
    "\n",
    "    def search(self, word):\n",
    "        \"\"\"\n",
    "        @param: word: A word could contain the dot character '.' to represent any one letter.\n",
    "        @return: if the word is in the data structure.\n",
    "        \"\"\"\n",
    "        def helper(start, trie):\n",
    "            if start == len(word):\n",
    "                return '' in trie\n",
    "            ch = word[start]\n",
    "            if ch == '.':\n",
    "                for c in trie:\n",
    "                    if helper(start+1, trie[c]):\n",
    "                        return True\n",
    "                return False\n",
    "            elif ch not in trie:\n",
    "                return False\n",
    "            else:\n",
    "                return helper(start+1, trie[ch])\n",
    "        \n",
    "        return helper(0, self.trie)\n",
    "        \n",
    "        \n",
    "if __name__ ==\"__main__1\":\n",
    "    s = WordDictionary()\n",
    "    s.addWord(\"bad\")\n",
    "    s.addWord(\"dad\")\n",
    "    s.addWord(\"mad\")\n",
    "    print s.search(\"pad\")  # return false\n",
    "    print s.search(\"bad\")  # return true\n",
    "    print s.search(\".ad\")  # return true\n",
    "    print s.search(\"b..\")  # return true\n",
    "    \n",
    "if __name__ == \"__main__2\":\n",
    "    s = WordDictionary()\n",
    "    print s.search(\".\")\n",
    "\n",
    "    \n",
    "if __name__ == \"__main__\":\n",
    "    s = WordDictionary()\n",
    "    s.addWord(\"a\")\n",
    "    s.addWord(\"a\")\n",
    "    print s.search(\"a.\")"
   ]
  },
  {
   "cell_type": "markdown",
   "metadata": {
    "colab_type": "text",
    "id": "JhTlSxPEpB5h"
   },
   "source": [
    "### 432. Find the Weak Connected Component in the Directed Graph\n",
    "Find the number Weak Connected Component in the directed graph. Each node in the graph contains a label and a list of its neighbors. (a connected set of a directed graph is a subgraph in which any two vertices are connected by direct edge path.)\n",
    "```\n",
    "Example\n",
    "Given graph:\n",
    "\n",
    "A----->B  C\n",
    " \\     |  | \n",
    "  \\    |  |\n",
    "   \\   |  |\n",
    "    \\  v  v\n",
    "     ->D  E <- F\n",
    "\n",
    "Return {A,B,D}, {C,E,F}. Since there are two connected component which are {A,B,D} and {C,E,F}\n",
    "\n",
    "Notice\n",
    "Sort the element in the set in increasing order\n",
    "```\n",
    "Notes:\n",
    "*   Union find的表最后的values未必是所有father都是一个值，[1:2, 2:4, 3:2, 4:4] 2, 3, 4 的father 都是4\n",
    "\n"
   ]
  },
  {
   "cell_type": "code",
   "execution_count": null,
   "metadata": {
    "colab": {},
    "colab_type": "code",
    "id": "KkS14Mj9pCFX"
   },
   "outputs": [],
   "source": [
    "class DirectedGraphNode:\n",
    "    def __init__(self, x):\n",
    "        self.label = x\n",
    "        self.neighbors = []\n",
    "\n",
    "\n",
    "class Solution:\n",
    "    \"\"\"\n",
    "    @param: nodes: a array of Directed graph node\n",
    "    @return: a connected set of a directed graph\n",
    "    \"\"\"\n",
    "    def __init__(self):\n",
    "        self.father = {} \n",
    "    \n",
    "    def connectedSet2(self, nodes):\n",
    "        for node in nodes:\n",
    "            x = node.label\n",
    "            self.father[x] = x \n",
    "        \n",
    "        for node in nodes:\n",
    "            for nb in node.neighbors:\n",
    "                self.union(node.label, nb.label)\n",
    "        \n",
    "        ans = {}\n",
    "        \n",
    "        for node in nodes:\n",
    "            x = node.label\n",
    "            fa = self.find(x)\n",
    "            ans.setdefault(fa, []).append(x)\n",
    "        \n",
    "        return ans.values()\n",
    "        \n",
    "        \n",
    "        \n",
    "    def find(self, x):\n",
    "        if self.father[x] == x:\n",
    "            return x\n",
    "        return self.find(self.father[x])\n",
    "    \n",
    "    \n",
    "    def union(self, node_a, node_b):\n",
    "        root_a = self.find(node_a)\n",
    "        root_b = self.find(node_b)\n",
    "        \n",
    "        if root_a != root_b:\n",
    "             self.father[root_a] = root_b\n"
   ]
  },
  {
   "cell_type": "markdown",
   "metadata": {
    "colab_type": "text",
    "id": "wzjkS-vuUjLa"
   },
   "source": [
    "### 1070. Accounts Merge\n",
    "Given a list accounts, each element accounts[i] is a list of strings, where the first element accounts[i][0] is a name, and the rest of the elements are emails representing emails of the account.\n",
    "\n",
    "Now, we would like to merge these accounts. Two accounts definitely belong to the same person if there is some email that is common to both accounts. Note that even if two accounts have the same name, they may belong to different people as people could have the same name. A person can have any number of accounts initially, but all of their accounts definitely have the same name.\n",
    "\n",
    "After merging the accounts, return the accounts in the following format: the first element of each account is the name, and the rest of the elements are emails in sorted order. The accounts themselves can be returned in any order.\n",
    "```\n",
    "Example\n",
    "Given\n",
    "\n",
    "[\n",
    "  [\"John\", \"johnsmith@mail.com\", \"john00@mail.com\"],\n",
    "  [\"John\", \"johnnybravo@mail.com\"],\n",
    "  [\"John\", \"johnsmith@mail.com\", \"john_newyork@mail.com\"],\n",
    "  [\"Mary\", \"mary@mail.com\"]\n",
    "]\n",
    "Return\n",
    "\n",
    "[\n",
    "  [\"John\", 'john00@mail.com', 'john_newyork@mail.com', 'johnsmith@mail.com'],\n",
    "  [\"John\", \"johnnybravo@mail.com\"],\n",
    "  [\"Mary\", \"mary@mail.com\"]\n",
    "]\n",
    "Explanation:\n",
    "The first and third John's are the same person as they have the common email \"johnsmith@mail.com\".\n",
    "The second John and Mary are different people as none of their email addresses are used by other accounts.\n",
    "\n",
    "You could return these lists in any order, for example the answer\n",
    "\n",
    "[\n",
    "  ['Mary', 'mary@mail.com'],\n",
    "  ['John', 'johnnybravo@mail.com'],\n",
    "  ['John', 'john00@mail.com', 'john_newyork@mail.com', 'johnsmith@mail.com']\n",
    "]\n",
    "is also acceptable.\n",
    "\n",
    "Notice\n",
    "The length of accounts will be in the range [1, 1000].\n",
    "The length of accounts[i] will be in the range [1, 10].\n",
    "The length of accounts[i][j] will be in the range [1, 30].\n",
    "```"
   ]
  },
  {
   "cell_type": "code",
   "execution_count": null,
   "metadata": {
    "colab": {},
    "colab_type": "code",
    "id": "hLkwp9BdUnfo"
   },
   "outputs": [],
   "source": [
    "from collections import defaultdict\n",
    "class Solution:\n",
    "    def accountsMerge(self, accounts):\n",
    "        self.father = [i for i in range(len(accounts))]\n",
    "        email_to_ids = defaultdict(set) # dict[email] = [id1, id2]\n",
    "        for i, account in enumerate(accounts):\n",
    "            for email in account[1:]:\n",
    "                email_to_ids[email].add(i)\n",
    "\n",
    "        # union the id with same email\n",
    "        for email, ids in email_to_ids.iteritems():\n",
    "            ids = list(ids)\n",
    "            root_id = ids[0]\n",
    "            for id in ids[1:]:\n",
    "                self.union(id, root_id)\n",
    "\n",
    "        id_to_email_set = defaultdict(set)\n",
    "        for id, account in enumerate(accounts):\n",
    "            root_user = self.find(id)\n",
    "            for email in account[1:]:\n",
    "                id_to_email_set[root_user].add(email)\n",
    "\n",
    "        merged_accounts = []\n",
    "        for user_id, email_set in id_to_email_set.iteritems():\n",
    "            merged_accounts.append([accounts[user_id][0]] + sorted(email_set))\n",
    "        return merged_accounts\n",
    "\n",
    "    def union(self, id1, id2):\n",
    "        self.father[self.find(id1)] = self.find(id2)\n",
    "\n",
    "    def find(self, id):\n",
    "        return id if id == self.father[id] else self.find(self.father[id])\n",
    "\n",
    "\n",
    "\n",
    "if __name__ == \"__main__\":\n",
    "    accounts = [[\"John\", \"johnsmith@mail.com\", \"john00@mail.com\"],\n",
    "                  [\"John\", \"johnnybravo@mail.com\"],\n",
    "                  [\"John\", \"johnsmith@mail.com\", \"john_newyork@mail.com\"],\n",
    "                  [\"Mary\", \"mary@mail.com\"]]\n",
    "    s = Solution()\n",
    "    print s.accountsMerge(accounts)"
   ]
  },
  {
   "cell_type": "markdown",
   "metadata": {
    "colab_type": "text",
    "id": "xX8qT2zS7NPN"
   },
   "source": [
    "### 629. Minimum Spanning Tree\n",
    "Given a list of Connections, which is the Connection class (the city name at both ends of the edge and a cost between them), find some edges, connect all the cities and spend the least amount.\n",
    "Return the connects if can connect all the cities, otherwise return empty list.\n",
    "```\n",
    "Example\n",
    "Gievn the connections = [\"Acity\",\"Bcity\",1], [\"Acity\",\"Ccity\",2], [\"Bcity\",\"Ccity\",3]\n",
    "\n",
    "Return [\"Acity\",\"Bcity\",1], [\"Acity\",\"Ccity\",2]\n",
    "\n",
    "Notice\n",
    "Return the connections sorted by the cost, or sorted city1 name if their cost is same, or sorted city2 if their city1 name is also same.\n",
    "```"
   ]
  },
  {
   "cell_type": "code",
   "execution_count": null,
   "metadata": {
    "colab": {},
    "colab_type": "code",
    "id": "6c19otik7PWa"
   },
   "outputs": [],
   "source": [
    "class Solution:\n",
    "    # param {Connection[]} connections given a list of connections\n",
    "    # include two cities and cost\n",
    "    # @return {Connection[]} a list of connections from results\n",
    "    def lowestCost(self, connections):\n",
    "        # Write your code here\n",
    "        connections.sort(key = lambda x: (x.cost, x.city1, x.city2))\n",
    "        self.ans = []\n",
    "        self.root_city, self.count = {}, 0 \n",
    "        for c in connections:\n",
    "            city1, city2= c.city1, c.city2\n",
    "            if city1 not in self.root_city:\n",
    "                self.root_city[city1] = city1\n",
    "                self.count += 1\n",
    "            if city2 not in self.root_city:\n",
    "                self.root_city[city2] = city2\n",
    "                self.count += 1\n",
    "            self.union(c)\n",
    "        \n",
    "        if self.count == 1:\n",
    "            return self.ans \n",
    "        else:\n",
    "            return []\n",
    "    \n",
    "    def union(self, c):\n",
    "        root_a, root_b = self.find(c.city1), self.find(c.city2)\n",
    "        if root_a != root_b:\n",
    "            self.root_city[root_a] = root_b\n",
    "            self.count -= 1 \n",
    "            self.ans.append(c)\n",
    "    \n",
    "    def find(self, city):\n",
    "        if self.root_city[city] == city:\n",
    "            return city\n",
    "        self.root_city[city] = self.find(self.root_city[city])\n",
    "        return self.root_city[city]"
   ]
  },
  {
   "cell_type": "markdown",
   "metadata": {
    "colab_type": "text",
    "id": "ziNTLTjp9XKv"
   },
   "source": [
    "### 434. Number of Islands II\n",
    "Given a n,m which means the row and column of the 2D matrix and an array of pair A( size k). Originally, the 2D matrix is all 0 which means there is only sea in the matrix. The list pair has k operator and each operator has two integer A[i].x, A[i].y means that you can change the grid matrix[A[i].x][A[i].y] from sea to island. Return how many island are there in the matrix after each operator.\n",
    "```\n",
    "Example\n",
    "Given n = 3, m = 3, array of pair A = [(0,0),(0,1),(2,2),(2,1)].\n",
    "\n",
    "return [1,1,2,2].\n",
    "\n",
    "Notice\n",
    "0 is represented as the sea, 1 is represented as the island. If two 1 is adjacent, we consider them in the same island. We only consider up/down/left/right adjacent.\n",
    "```\n"
   ]
  },
  {
   "cell_type": "code",
   "execution_count": null,
   "metadata": {
    "colab": {},
    "colab_type": "code",
    "id": "X3Iujh-p9mDO"
   },
   "outputs": [],
   "source": [
    "#Definition for a point.\n",
    "\n",
    "\n",
    "class Solution(object):\n",
    "    def __init__(self):\n",
    "        self.father = []\n",
    "\n",
    "    def find(self, x):\n",
    "        if self.father[x] == x:\n",
    "            return x\n",
    "        self.father[x] = self.find(self.father[x])\n",
    "        return self.father[x]\n",
    "\n",
    "    def merge(self, x, y):\n",
    "        if self.father[x] == -1 or self.father[y] == -1:\n",
    "            return False\n",
    "        x = self.find(x)\n",
    "        y = self.find(y)\n",
    "        if x != y:\n",
    "            self.father[x] = y\n",
    "            return True\n",
    "        else:\n",
    "            return False\n",
    "\n",
    "    def numIslands2(self, m, n, operators):\n",
    "        directions = [(0,1),(1,0),(0,-1),(-1,0)]\n",
    "        area = 0\n",
    "        cnt = len(operators)\n",
    "        ret = []\n",
    "        self.father.extend([-1 for _ in range(m*n)])\n",
    "        for point in operators:\n",
    "            #point = Point(point[0], point[1])\n",
    "            num = point.x * n + point.y\n",
    "            if self.father[num] == -1:\n",
    "                area += 1\n",
    "                self.father[num] = num\n",
    "\n",
    "            for dx, dy in directions:\n",
    "                x = point.x + dx\n",
    "                y = point.y + dy\n",
    "\n",
    "                if 0 <= x < m and 0 <= y < n:\n",
    "                    if self.merge(x*n + y, num):\n",
    "                        area -= 1\n",
    "            #print self.father\n",
    "            ret.append(area)\n",
    "        return ret\n",
    "\n",
    "if __name__ == \"__main__\":\n",
    "    S = Solution()\n",
    "    print S.numIslands2(3, 3, operators = [(0,0),(0,1),(2,2),(2,1)])"
   ]
  },
  {
   "cell_type": "markdown",
   "metadata": {
    "colab_type": "text",
    "id": "UxOGmO4I-ZQq"
   },
   "source": [
    "## Hashheap"
   ]
  },
  {
   "cell_type": "markdown",
   "metadata": {
    "colab_type": "text",
    "id": "qQT9wPUw-eYx"
   },
   "source": [
    "### 81. Find Median from Data Stream\n",
    "Numbers keep coming, return the median of numbers at every time a new number added.\n",
    "```\n",
    "Example\n",
    "For numbers coming list: [1, 2, 3, 4, 5], return [1, 1, 2, 2, 3].\n",
    "\n",
    "For numbers coming list: [4, 5, 1, 3, 2, 6, 0], return [4, 4, 4, 3, 3, 3, 3].\n",
    "\n",
    "For numbers coming list: [2, 20, 100], return [2, 2, 20].\n",
    "\n",
    "Challenge\n",
    "Total run time in O(nlogn).\n",
    "\n",
    "Clarification\n",
    "What's the definition of Median?\n",
    "\n",
    "Median is the number that in the middle of a sorted array. If there are n numbers in a sorted array A, the median is A[(n - 1) / 2]. For example, if A=[1,2,3], median is 2. If A=[1,19], median is 1.\n",
    "```"
   ]
  },
  {
   "cell_type": "code",
   "execution_count": null,
   "metadata": {
    "colab": {
     "base_uri": "https://localhost:8080/",
     "height": 35
    },
    "colab_type": "code",
    "id": "ZeF7xkQvlM9x",
    "outputId": "8fd34a9f-14d8-494b-a662-10b9145b5805"
   },
   "outputs": [
    {
     "name": "stdout",
     "output_type": "stream",
     "text": [
      "[2, 2, 13, 13, 15, 13, 13, 8, 8, 8]\n"
     ]
    }
   ],
   "source": [
    "import heapq\n",
    "class Solution:\n",
    "    \"\"\"\n",
    "    @param nums: A list of integers.\n",
    "    @return: The median of numbers\n",
    "    \"\"\"\n",
    "    \n",
    "    minHeap, maxHeap = [], []\n",
    "    numbers = 0\n",
    "    def medianII(self, nums):\n",
    "        ans = []\n",
    "        for item in nums:\n",
    "            self.add(item)\n",
    "            ans.append(self.getMedian())\n",
    "        return ans\n",
    "        \n",
    "    \n",
    "    def getMedian(self):\n",
    "        return -self.maxHeap[0]\n",
    "\n",
    "    def add(self, value):\n",
    "        if self.numbers % 2 == 0:\n",
    "            heapq.heappush(self.maxHeap, -value)\n",
    "        else:\n",
    "            heapq.heappush(self.minHeap, value)\n",
    "        self.numbers += 1\n",
    "        if len(self.minHeap)==0 or len(self.maxHeap)==0:\n",
    "            return\n",
    "\n",
    "        if -self.maxHeap[0] > self.minHeap[0]:\n",
    "            maxroot = -self.maxHeap[0]\n",
    "            minroot = self.minHeap[0]\n",
    "            heapq.heapreplace(self.maxHeap, -minroot)\n",
    "            heapq.heapreplace(self.minHeap, maxroot)\n",
    "\n",
    "if __name__ == \"__main__\":\n",
    "    s = Solution()\n",
    "    print s.medianII([2,20,13,18,15,8,3,5,4,25])"
   ]
  },
  {
   "cell_type": "markdown",
   "metadata": {
    "colab_type": "text",
    "id": "MoPIr1Sel8ZZ"
   },
   "source": [
    "### 360. Sliding Window Median\n",
    "Given an array of n integer, and a moving window(size k), move the window at each iteration from the start of the array, find the median of the element inside the window at each moving. (If there are even numbers in the array, return the N/2-th number after sorting the element in the window. )\n",
    "```\n",
    "Example\n",
    "For array [1,2,7,8,5], moving window size k = 3. return [2,7,7]\n",
    "\n",
    "At first the window is at the start of the array like this\n",
    "\n",
    "[ | 1,2,7 | ,8,5] , return the median 2;\n",
    "\n",
    "then the window move one step forward.\n",
    "\n",
    "[1, | 2,7,8 | ,5], return the median 7;\n",
    "\n",
    "then the window move one step forward again.\n",
    "\n",
    "[1,2, | 7,8,5 | ], return the median 7;\n",
    "\n",
    "Challenge\n",
    "O(nlog(n)) time\n",
    "```"
   ]
  },
  {
   "cell_type": "code",
   "execution_count": null,
   "metadata": {
    "colab": {
     "base_uri": "https://localhost:8080/",
     "height": 35
    },
    "colab_type": "code",
    "id": "hY72TQnWl--g",
    "outputId": "c76f9ab4-0ea0-483e-ed37-e8c56e1c1c1a"
   },
   "outputs": [
    {
     "name": "stdout",
     "output_type": "stream",
     "text": [
      "[2, 7, 7]\n"
     ]
    }
   ],
   "source": [
    "import bisect\n",
    "class Solution:\n",
    "    \"\"\"\n",
    "    @param nums: A list of integers\n",
    "    @param k: An integer\n",
    "    @return: The median of the element inside the window at each moving\n",
    "    \"\"\"\n",
    "    def medianSlidingWindow(self, nums, k):\n",
    "        n = len(nums)\n",
    "        if not nums or n < k :\n",
    "            return []\n",
    "        mid = (k-1)/2\n",
    "        deck = nums[:k]\n",
    "        deck.sort()\n",
    "        ans = [deck[mid]]\n",
    "        for i in range(k, len(nums)):\n",
    "            out = nums[i-k]\n",
    "            inn = nums[i]\n",
    "            deck.pop(bisect.bisect_left(deck, out))\n",
    "            deck.insert(bisect.bisect_left(deck, inn), inn)\n",
    "            ans.append(deck[mid])\n",
    "        return ans\n",
    "\n",
    "if __name__ == \"__main__\":\n",
    "    s = Solution()\n",
    "    print s.medianSlidingWindow([1,2,7,7,2], 3)"
   ]
  },
  {
   "cell_type": "markdown",
   "metadata": {
    "colab_type": "text",
    "id": "ua1sV7L-mCDI"
   },
   "source": [
    "### 362. Sliding Window Maximum\n",
    "Given an array of n integer with duplicate number, and a moving window(size k), move the window at each iteration from the start of the array, find the maximum number inside the window at each moving.\n",
    "```\n",
    "Example\n",
    "For array [1, 2, 7, 7, 8], moving window size k = 3. return [7, 7, 8]\n",
    "\n",
    "At first the window is at the start of the array like this\n",
    "\n",
    "[|1, 2, 7| ,7, 8] , return the maximum 7;\n",
    "\n",
    "then the window move one step forward.\n",
    "\n",
    "[1, |2, 7 ,7|, 8], return the maximum 7;\n",
    "\n",
    "then the window move one step forward again.\n",
    "\n",
    "[1, 2, |7, 7, 8|], return the maximum 8;\n",
    "\n",
    "Challenge\n",
    "o(n) time and O(k) memory\n",
    "```"
   ]
  },
  {
   "cell_type": "code",
   "execution_count": null,
   "metadata": {
    "colab": {},
    "colab_type": "code",
    "id": "sNWLAj04mIfH"
   },
   "outputs": [],
   "source": [
    "from collections import deque\n",
    "class Solution:\n",
    "    \"\"\"\n",
    "    @param nums: A list of integers\n",
    "    @param k: An integer\n",
    "    @return: The median of the element inside the window at each moving\n",
    "    \"\"\"\n",
    "    def maxSlidingWindow(self, nums, k):\n",
    "        n = len(nums)\n",
    "        if not nums or n < k:\n",
    "            return []\n",
    "        deck = deque()\n",
    "        ans =[]\n",
    "        for i in range(n):\n",
    "            while deck and nums[deck[-1]] < nums[i]:\n",
    "                deck.pop()\n",
    "            deck.append(i)\n",
    "            while deck and deck[0] <= i -k:\n",
    "                deck.popleft()\n",
    "            if i >= k-1:\n",
    "                ans.append(nums[deck[0]])\n",
    "        return ans"
   ]
  },
  {
   "cell_type": "markdown",
   "metadata": {
    "colab_type": "text",
    "id": "HyZ75RWhg3Yi"
   },
   "source": [
    "## Mono Stack"
   ]
  },
  {
   "cell_type": "markdown",
   "metadata": {
    "colab_type": "text",
    "id": "s1TRpPaNhBFA"
   },
   "source": [
    "### 126. Max Tree\n",
    "Given an integer array with no duplicates. A max tree building on this array is defined as follow:\n",
    "\n",
    "The root is the maximum number in the array\n",
    "The left subtree and right subtree are the max trees of the subarray divided by the root number.\n",
    "Construct the max tree by the given array.\n",
    "```\n",
    "Example\n",
    "Given [2, 5, 6, 0, 3, 1], the max tree constructed by this array is:\n",
    "\n",
    "    6\n",
    "   / \\\n",
    "  5   3\n",
    " /   / \\\n",
    "2   0   1\n",
    "Challenge\n",
    "O(n) time and memory.\n",
    "```"
   ]
  },
  {
   "cell_type": "code",
   "execution_count": null,
   "metadata": {
    "colab": {
     "base_uri": "https://localhost:8080/",
     "height": 35
    },
    "colab_type": "code",
    "id": "nAeC0vF1iXvP",
    "outputId": "95a111bb-13b1-4d67-942a-df78bed2c6f5"
   },
   "outputs": [
    {
     "name": "stdout",
     "output_type": "stream",
     "text": [
      "6\n"
     ]
    }
   ],
   "source": [
    "\"\"\"\n",
    "Definition of TreeNode:\n",
    "\"\"\"\n",
    "class TreeNode:\n",
    "    def __init__(self, val):\n",
    "        self.val = val\n",
    "        self.left, self.right = None, None\n",
    "\n",
    "\n",
    "class Solution:\n",
    "    \"\"\"\n",
    "    @param A: Given an integer array with no duplicates.\n",
    "    @return: The root of max tree.\n",
    "    \"\"\"\n",
    "    def maxTree(self, A):\n",
    "        if not A:\n",
    "            return None\n",
    "        stack = [] \n",
    "        for a in A:\n",
    "            node = TreeNode(a)\n",
    "            while stack and a > stack[-1].val:\n",
    "                node.left = stack.pop()\n",
    "            if stack:\n",
    "                stack[-1].right = node \n",
    "            stack.append(node)\n",
    "        return stack[0]\n",
    "\n",
    "if __name__ == \"__main__\":\n",
    "    s = Solution()\n",
    "    print s.maxTree([2, 5, 6, 0, 3, 1]).val"
   ]
  },
  {
   "cell_type": "markdown",
   "metadata": {
    "colab_type": "text",
    "id": "AE4LB_jcluvO"
   },
   "source": [
    "122. Largest Rectangle in Histogram\n",
    "Given n non-negative integers representing the histogram's bar height where the width of each bar is 1, find the area of largest rectangle in the histogram.\n",
    "\n",
    "![alt text](https://lintcode-media.s3.amazonaws.com/problem/histogram1.png)\n",
    "\n",
    "Above is a histogram where width of each bar is 1, given height = [2,1,5,6,2,3].\n",
    "\n",
    "![alt text](https://lintcode-media.s3.amazonaws.com/problem/histogram_area.png)\n",
    "\n",
    "The largest rectangle is shown in the shaded area, which has area = 10 unit.\n",
    "\n",
    "Example\n",
    "Given height = [2,1,5,6,2,3],\n",
    "return 10."
   ]
  },
  {
   "cell_type": "code",
   "execution_count": null,
   "metadata": {
    "colab": {
     "base_uri": "https://localhost:8080/",
     "height": 35
    },
    "colab_type": "code",
    "id": "qP1iqUdgl2Qe",
    "outputId": "fe0b261d-4c39-4fb9-e295-f78e34909ad2"
   },
   "outputs": [
    {
     "name": "stdout",
     "output_type": "stream",
     "text": [
      "10\n"
     ]
    }
   ],
   "source": [
    "class Solution:\n",
    "    \"\"\"\n",
    "    @param height: A list of integer\n",
    "    @return: The area of largest rectangle in the histogram\n",
    "    \"\"\"\n",
    "    def largestRectangleArea(self, height):\n",
    "        if height is None or len(height) == 0:\n",
    "            return 0\n",
    "        stack = []\n",
    "        ans = 0\n",
    "        n = len(height)\n",
    "        for i in range(n+1):\n",
    "            curt = -1 if i == n else height[i]\n",
    "            while stack and curt <= height[stack[-1]]:\n",
    "                h = height[stack.pop()]\n",
    "                w = i-1-stack[-1] if stack else i\n",
    "                ans = max(ans, h * w)\n",
    "            stack.append(i)\n",
    "        return ans\n",
    "    \n",
    "if __name__ == \"__main__\":\n",
    "    s = Solution()\n",
    "    print s.largestRectangleArea([2,1,5,6,2,3])"
   ]
  },
  {
   "cell_type": "markdown",
   "metadata": {
    "colab_type": "text",
    "id": "9HSUMPoFkV7y"
   },
   "source": [
    "### 510. Maximal Rectangle\n",
    "Given a 2D boolean matrix filled with False and True, find the largest rectangle containing all True and return its area.\n",
    "```\n",
    "Example\n",
    "Given a matrix:\n",
    "\n",
    "[\n",
    "  [1, 1, 0, 0, 1],\n",
    "  [0, 1, 0, 0, 1],\n",
    "  [0, 0, 1, 1, 1],\n",
    "  [0, 0, 1, 1, 1],\n",
    "  [0, 0, 0, 0, 1]\n",
    "]\n",
    "return 6.\n",
    "```"
   ]
  },
  {
   "cell_type": "code",
   "execution_count": null,
   "metadata": {
    "colab": {
     "base_uri": "https://localhost:8080/",
     "height": 35
    },
    "colab_type": "code",
    "id": "NBaReutmkgXo",
    "outputId": "d827c2f6-6e79-45ff-84f5-b3f92d276adc"
   },
   "outputs": [
    {
     "name": "stdout",
     "output_type": "stream",
     "text": [
      "6\n"
     ]
    }
   ],
   "source": [
    "class Solution:\n",
    "    \"\"\"\n",
    "    @param matrix: a boolean 2D matrix\n",
    "    @return: an integer\n",
    "    \"\"\"\n",
    "    def maximalRectangle(self, matrix):\n",
    "        if not matrix:\n",
    "            return 0\n",
    "        m, n = len(matrix), len(matrix[0])\n",
    "        heights = [0 for _ in range(n)]\n",
    "        ret = - 1\n",
    "        for i in range(m):\n",
    "            for j in range(n):\n",
    "                if matrix[i][j]: # == 1\n",
    "                    heights[j] += 1\n",
    "                else: # == 0\n",
    "                    heights[j] = 0\n",
    "            ret = max(ret, self.largestRectangleArea(heights))\n",
    "        return ret\n",
    "\n",
    "    \n",
    "    def largestRectangleArea(self, height):\n",
    "        if height is None or len(height) == 0:\n",
    "            return 0\n",
    "        stack = []\n",
    "        ans = 0\n",
    "        n = len(height)\n",
    "        for i in range(n+1):\n",
    "            curt = -1 if i == n else height[i]\n",
    "            while stack and curt <= height[stack[-1]]:\n",
    "                h = height[stack.pop()]\n",
    "                w = i-1-stack[-1] if stack else i\n",
    "                ans = max(ans, h * w)\n",
    "            stack.append(i)\n",
    "        return ans\n",
    "    \n",
    "if __name__ == \"__main__\":\n",
    "    s = Solution()\n",
    "    matrix = [\n",
    "              [1, 1, 0, 0, 1],\n",
    "              [0, 1, 0, 0, 1],\n",
    "              [0, 0, 1, 1, 1],\n",
    "              [0, 0, 1, 1, 1],\n",
    "              [0, 0, 0, 0, 1]\n",
    "              ]\n",
    "    print s.maximalRectangle(matrix)"
   ]
  },
  {
   "cell_type": "markdown",
   "metadata": {
    "colab_type": "text",
    "id": "7GofdNHzzJ85"
   },
   "source": [
    "# Dynamic Programming"
   ]
  },
  {
   "cell_type": "markdown",
   "metadata": {
    "colab_type": "text",
    "id": "krmlDe01oDwX"
   },
   "source": [
    "## 综述\n",
    "**什么情况下使用动态规划？**\n",
    "\n",
    "\n",
    "\n",
    ">满足下面三个条件之一，极有可能使用动态规划 90% - 95%：\n",
    "\t1. 求最大值，最小值\n",
    "\t2. 判断是否可行\n",
    "\t3. 统计方案个数\n",
    "极不可能使用动态规划的情况：\n",
    "\t1. 求出所有具体的方案而非方案的个数\n",
    "\t2. 输入数据是一个集合而不是序列\n",
    "\t3. 暴力的算法已经是多项式级别\n",
    "\n",
    ">总结：最大值最小值/是否可行/方案总数\n",
    "求所有方案/集合而不是序列/指数级到多项式\n",
    "\n",
    "\n",
    "**动态规划的 4 点要素**\n",
    "1. 状态 State\n",
    "\t灵感，创造⼒，存储小规模问题的结果\n",
    "\t\t○ 最优解 / Maximum / Minimum\n",
    "\t\t○ Yes / No\n",
    "\t\t○ Count(*)\n",
    "2. 状态转移方程 Function\n",
    "\t状态之间的联系，怎么通过⼩的状态，来求得⼤的状态\n",
    "3. 初始化 Intialization\n",
    "\t最极限的小状态是什么，起点\n",
    "4. 答案 Answer\n",
    "\t最⼤的那个状态是什么，终点\n",
    "  \n",
    "  \n",
    "  \n",
    "  \n",
    " **面试常见的动态规划类别及状态特点**\n",
    ">坐标型\n",
    "\n",
    ">接龙型 (单序列,双序列)\n",
    "\n",
    ">划分型\n",
    "\n",
    ">背包型 (背包九讲)\n",
    "\n",
    ">博弈型\n",
    "\n",
    "**两招独孤九剑**\n",
    ">二维DP需要初始化第0行和第0列\n",
    "\n",
    ">n个字符的字符串要开n+1个位置的数组\n"
   ]
  },
  {
   "cell_type": "markdown",
   "metadata": {
    "colab_type": "text",
    "id": "Ui-_FBhCt56j"
   },
   "source": [
    "## 坐标型动态规划\n",
    "\n",
    "\t1. state:\n",
    "\t\t○ f[x] 表示我从起点走到坐标x……\n",
    "\t\t○ f[x][y] 表示我从起点走到坐标x,y……\n",
    "\t2. function: 研究走到x,y这个点之前的一步\n",
    "\t3. initialize: 起点\n",
    "\t4. answer: 终点\n",
    "\n",
    "\n"
   ]
  },
  {
   "cell_type": "markdown",
   "metadata": {
    "colab_type": "text",
    "id": "JF1PH6BYyFqc"
   },
   "source": [
    "### Unique Path I, II"
   ]
  },
  {
   "cell_type": "markdown",
   "metadata": {
    "colab_type": "text",
    "id": "rCshAYNFyNWn"
   },
   "source": [
    "A robot is located at the top-left corner of a m x n grid.\n",
    "\n",
    "The robot can only move either down or right at any point in time. The robot is trying to reach the bottom-right corner of the grid.\n",
    "\n",
    "How many possible unique paths are there?\n",
    "\n",
    "\n",
    "Given m = 3 and n = 3, return 6.\n",
    "Given m = 4 and n = 5, return 35."
   ]
  },
  {
   "cell_type": "code",
   "execution_count": null,
   "metadata": {
    "colab": {},
    "colab_type": "code",
    "id": "fC488BXGyQx-"
   },
   "outputs": [],
   "source": [
    "class Solution:\n",
    "    \"\"\"\n",
    "    @param m: positive integer (1 <= m <= 100)\n",
    "    @param n: positive integer (1 <= n <= 100)\n",
    "    @return: An integer\n",
    "    \"\"\"\n",
    "    def uniquePaths(self, m, n):\n",
    "        dp = [[1 for _ in range(n)] for __ in range(m)]\n",
    "        for x in range(1, m):\n",
    "            for y in range(1, n):\n",
    "                dp[x][y] = dp[x-1][y] + dp[x][y-1]\n",
    "        return dp[m-1][n-1]"
   ]
  },
  {
   "cell_type": "code",
   "execution_count": null,
   "metadata": {
    "colab": {
     "base_uri": "https://localhost:8080/",
     "height": 34
    },
    "colab_type": "code",
    "id": "CM7zBsciya5u",
    "outputId": "43bb612a-d0c8-4850-c3ee-627955598377"
   },
   "outputs": [
    {
     "data": {
      "text/plain": [
       "6"
      ]
     },
     "execution_count": 5,
     "metadata": {
      "tags": []
     },
     "output_type": "execute_result"
    }
   ],
   "source": [
    "sample = [3,3]\n",
    "s = Solution()\n",
    "s.uniquePaths(sample[0], sample[1])"
   ]
  },
  {
   "cell_type": "markdown",
   "metadata": {
    "colab_type": "text",
    "id": "5Av7z5CAy0DB"
   },
   "source": [
    "Follow up for \"Unique Paths\":\n",
    "\n",
    "Now consider if some obstacles are added to the grids. How many unique paths would there be?\n",
    "\n",
    "An obstacle and empty space is marked as 1 and 0 respectively in the grid.\n",
    "\n",
    "For example,\n",
    "There is one obstacle in the middle of a 3x3 grid as illustrated below.\n",
    "\n",
    "[\n",
    "  [0,0,0],\n",
    "  [0,1,0],\n",
    "  [0,0,0]\n",
    "]"
   ]
  },
  {
   "cell_type": "code",
   "execution_count": null,
   "metadata": {
    "colab": {},
    "colab_type": "code",
    "id": "FJZ9OICay_N2"
   },
   "outputs": [],
   "source": [
    "class Solution:\n",
    "    \"\"\"\n",
    "    @param obstacleGrid: A list of lists of integers\n",
    "    @return: An integer\n",
    "    \"\"\"\n",
    "    def uniquePathsWithObstacles(self, obstacleGrid):\n",
    "        if len(obstacleGrid) == 0 or len(obstacleGrid[0]) == 0:\n",
    "            return 0\n",
    "        m, n = len(obstacleGrid), len(obstacleGrid[0])\n",
    "        dp = [[0 for _ in range(n)] for __ in range(m)]\n",
    "        # dp[x][y] stands for pos x, y unique path numbers, 0 indexed\n",
    "        # init dp[x][0] = 1 and dp[0][y] = 1\n",
    "\n",
    "        for i in range(m):\n",
    "            if obstacleGrid[i][0] == 0:\n",
    "                dp[i][0] = 1\n",
    "                continue\n",
    "            break\n",
    "        for j in range(n):\n",
    "            if obstacleGrid[0][j] == 0:\n",
    "                dp[0][j] = 1\n",
    "                continue\n",
    "            break\n",
    "\n",
    "        for x in range(1, m):\n",
    "            for y in range(1, n):\n",
    "                dp[x][y] = dp[x-1][y] + dp[x][y-1] if obstacleGrid[x][y] == 0 else 0\n",
    "\n",
    "#        print dp\n",
    "        return dp[m-1][n-1]"
   ]
  },
  {
   "cell_type": "code",
   "execution_count": null,
   "metadata": {
    "colab": {
     "base_uri": "https://localhost:8080/",
     "height": 34
    },
    "colab_type": "code",
    "id": "PU1LhBwmyyQN",
    "outputId": "9b961a42-5391-43d3-81cb-726b0abf5106"
   },
   "outputs": [
    {
     "data": {
      "text/plain": [
       "2"
      ]
     },
     "execution_count": 9,
     "metadata": {
      "tags": []
     },
     "output_type": "execute_result"
    }
   ],
   "source": [
    "sample = [ [0,0,0], [0,1,0], [0,0,0] ]\n",
    "s = Solution()\n",
    "s.uniquePathsWithObstacles(sample)"
   ]
  },
  {
   "cell_type": "markdown",
   "metadata": {
    "colab_type": "text",
    "id": "8-veu44AzpHb"
   },
   "source": [
    "### Climbing Stairs I, II"
   ]
  },
  {
   "cell_type": "markdown",
   "metadata": {
    "colab_type": "text",
    "id": "bJtPTbFLzwcC"
   },
   "source": [
    "You are climbing a stair case. It takes n steps to reach to the top.\n",
    "\n",
    "Each time you can either climb 1 or 2 steps. In how many distinct ways can you climb to the top?\n",
    "\n",
    "Have you met this question in a real interview?  \n",
    "Example\n",
    "Given an example n=3 , 1+1+1=2+1=1+2=3\n",
    "\n",
    "return 3"
   ]
  },
  {
   "cell_type": "code",
   "execution_count": null,
   "metadata": {
    "colab": {},
    "colab_type": "code",
    "id": "s_lphjxmzn3O"
   },
   "outputs": [],
   "source": [
    "class Solution:\n",
    "    \"\"\"\n",
    "    @param n: An integer\n",
    "    @return: An integer\n",
    "    \"\"\"\n",
    "    def climbStairs(self, n):\n",
    "        if n == 0:\n",
    "            return 0\n",
    "        dp = [1 for _ in range(n+1)] \n",
    "        # init dp[1], dp[2] 1 index based \n",
    "        \n",
    "        for i in range(2,n+1):\n",
    "            dp[i] = dp[i-1] + dp[i-2]\n",
    "        return dp[n]"
   ]
  },
  {
   "cell_type": "code",
   "execution_count": null,
   "metadata": {
    "colab": {
     "base_uri": "https://localhost:8080/",
     "height": 34
    },
    "colab_type": "code",
    "id": "pMmLnWONzY2m",
    "outputId": "e70ef7cd-af29-401d-9b4f-22ddbd264b9c"
   },
   "outputs": [
    {
     "name": "stdout",
     "output_type": "stream",
     "text": [
      "8\n"
     ]
    }
   ],
   "source": [
    "sample = 5\n",
    "s = Solution()\n",
    "print s.climbStairs(sample)"
   ]
  },
  {
   "cell_type": "markdown",
   "metadata": {
    "colab_type": "text",
    "id": "CB8VMP7l6f6U"
   },
   "source": [
    "Description\n",
    "A child is running up a staircase with n steps, and can hop either 1 step, 2 steps, or 3 steps at a time. Implement a method to count how many possible ways the child can run up the stairs.\n",
    "\n",
    "Have you met this question in a real interview?  \n",
    "Example\n",
    "n=3\n",
    "1+1+1=2+1=1+2=3=3\n",
    "\n",
    "return 4"
   ]
  },
  {
   "cell_type": "code",
   "execution_count": null,
   "metadata": {
    "colab": {},
    "colab_type": "code",
    "id": "i9_Nhv_J616T"
   },
   "outputs": [],
   "source": [
    "class Solution:\n",
    "    \"\"\"\n",
    "    @param n: An integer\n",
    "    @return: An Integer\n",
    "    \"\"\"\n",
    "    def climbStairs2(self, n):\n",
    "        if n == 0:\n",
    "            return 1\n",
    "        if n <= 2:\n",
    "            return n\n",
    "        dp = [1 for _ in range(n+1)]\n",
    "        dp[2] = 2\n",
    "        for i in range(3, n+1):\n",
    "            dp[i] = dp[i-1] + dp[i-2] + dp[i-3]\n",
    "        return dp[n]"
   ]
  },
  {
   "cell_type": "code",
   "execution_count": null,
   "metadata": {
    "colab": {
     "base_uri": "https://localhost:8080/",
     "height": 35
    },
    "colab_type": "code",
    "id": "zfX1aYOC64ya",
    "outputId": "f1252502-462b-49fa-b3cf-68ee7d0ecdfa"
   },
   "outputs": [
    {
     "data": {
      "text/plain": [
       "13"
      ]
     },
     "execution_count": 48,
     "metadata": {
      "tags": []
     },
     "output_type": "execute_result"
    }
   ],
   "source": [
    "sample = 5\n",
    "s = Solution()\n",
    "s.climbStairs2(5)"
   ]
  },
  {
   "cell_type": "markdown",
   "metadata": {
    "colab_type": "text",
    "id": "oTcS_Evw6hRs"
   },
   "source": [
    "### Triangle"
   ]
  },
  {
   "cell_type": "markdown",
   "metadata": {
    "colab_type": "text",
    "id": "PWwhkhGa6lRb"
   },
   "source": [
    "Description\n",
    "Given a triangle, find the minimum path sum from top to bottom. Each step you may move to adjacent numbers on the row below.\n",
    "\n",
    "Bonus point if you are able to do this using only O(n) extra space, where n is the total number of rows in the triangle.\n",
    "\n",
    "Have you met this question in a real interview?  \n",
    "Example\n",
    "Given the following triangle:\n",
    "\n",
    "[\n",
    "     [2],\n",
    "    [3,4],\n",
    "   [6,5,7],\n",
    "  [4,1,8,3]\n",
    "]\n",
    "The minimum path sum from top to bottom is 11 (i.e., 2 + 3 + 5 + 1 = 11)."
   ]
  },
  {
   "cell_type": "code",
   "execution_count": null,
   "metadata": {
    "colab": {},
    "colab_type": "code",
    "id": "cKOyfK2a0hdG"
   },
   "outputs": [],
   "source": [
    "class Solution:\n",
    "    \"\"\"\n",
    "    @param triangle: a list of lists of integers\n",
    "    @return: An integer, minimum path sum\n",
    "    \"\"\"\n",
    "    def minimumTotal(self, triangle):\n",
    "        if len(triangle) == 0 or len(triangle[0]) == 0:\n",
    "            return 0\n",
    "        m = len(triangle)\n",
    "        # dp[x][y] stands for position x, y mini sum, 0 indexed\n",
    "        dp = [[0 for j in range(i+1)] for i in range(m)]\n",
    "        dp[0][0] = triangle[0][0]\n",
    "        for x in range(1, m):\n",
    "            for y in range(x+1):\n",
    "                if y == 0:\n",
    "                    dp[x][y] = triangle[x][y] + dp[x - 1][y]\n",
    "                elif y == x:\n",
    "                    dp[x][y] = triangle[x][y] + dp[x-1][y-1]\n",
    "                else:\n",
    "                    dp[x][y] = triangle[x][y] + min(dp[x-1][y], dp[x-1][y-1])\n",
    "        print dp\n",
    "        return min(dp[m-1])"
   ]
  },
  {
   "cell_type": "code",
   "execution_count": null,
   "metadata": {
    "colab": {
     "base_uri": "https://localhost:8080/",
     "height": 52
    },
    "colab_type": "code",
    "id": "mv3HWW8E6vBc",
    "outputId": "3a17ebdf-8c4e-49de-e26a-2e95fe7f4861"
   },
   "outputs": [
    {
     "name": "stdout",
     "output_type": "stream",
     "text": [
      "[[2], [5, 6], [11, 10, 13], [15, 11, 18, 16]]\n"
     ]
    },
    {
     "data": {
      "text/plain": [
       "11"
      ]
     },
     "execution_count": 23,
     "metadata": {
      "tags": []
     },
     "output_type": "execute_result"
    }
   ],
   "source": [
    "sample = [ [2], [3,4], [6,5,7], [4,1,8,3] ] \n",
    "s = Solution()\n",
    "s.minimumTotal(sample)"
   ]
  },
  {
   "cell_type": "markdown",
   "metadata": {
    "colab_type": "text",
    "id": "5jyniBqS7d3N"
   },
   "source": [
    "### Minimum Sum"
   ]
  },
  {
   "cell_type": "markdown",
   "metadata": {
    "colab_type": "text",
    "id": "DtmKnJ5D7ioW"
   },
   "source": [
    "Description\n",
    "Given a m x n grid filled with non-negative numbers, find a path from top left to bottom right which minimizes the sum of all numbers along its path."
   ]
  },
  {
   "cell_type": "code",
   "execution_count": null,
   "metadata": {
    "colab": {
     "base_uri": "https://localhost:8080/",
     "height": 34
    },
    "colab_type": "code",
    "id": "uDa8Rlyg7h2T",
    "outputId": "0ed9afc9-d07f-4b6d-f2ce-2905f2b4ab64"
   },
   "outputs": [
    {
     "name": "stdout",
     "output_type": "stream",
     "text": [
      "7\n"
     ]
    }
   ],
   "source": [
    "class Solution:\n",
    "    \"\"\"\n",
    "    @param grid: a list of lists of integers\n",
    "    @return: An integer, minimizes the sum of all numbers along its path\n",
    "    \"\"\"\n",
    "    def minPathSum(self, grid):\n",
    "        if len(grid) == 0 or len(grid[0]) == 0:\n",
    "            return 0\n",
    "        m, n = len(grid), len(grid[0])\n",
    "        # dp[x][y] stands for position x, y mini path sum, 0 indexed\n",
    "        dp = [[0 for j in range(n)] for i in range(m)]\n",
    "        # dp init for dp[0][y], dp[x][0]\n",
    "        dp[0][0] = grid[0][0]\n",
    "        for i in range(1, m):\n",
    "            dp[i][0] = grid[i][0] + dp[i-1][0]\n",
    "        for j in range(1, n):\n",
    "            dp[0][j] = grid[0][j] + dp[0][j-1]\n",
    "\n",
    "        for i in range(1, m):\n",
    "            for j in range(1, n):\n",
    "                dp[i][j] = min(dp[i-1][j], dp[i][j-1]) + grid[i][j]\n",
    "        #print dp\n",
    "        return dp[m-1][n-1]\n",
    "if __name__ == \"__main__\":\n",
    "    sample = [[1,2],[3,4]]\n",
    "    s = Solution()\n",
    "    print s.minPathSum(sample)"
   ]
  },
  {
   "cell_type": "markdown",
   "metadata": {
    "colab_type": "text",
    "id": "XJDvwQTMDcR_"
   },
   "source": [
    "### Knight Shortest Path\n",
    "Description\n",
    "Given a knight in a chessboard (a binary matrix with 0 as empty and 1 as barrier) with a source position, find the shortest path to a destination position, return the length of the route.\n",
    "Return -1 if knight can not reached.\n",
    "\n",
    "这道题可以用BFS 也可以用DFS， 推荐使用BFS，因为使用DFS有可能会超时"
   ]
  },
  {
   "cell_type": "markdown",
   "metadata": {
    "colab_type": "text",
    "id": "M9_rYNHFG3u9"
   },
   "source": [
    "可以看到BFS比DFS访问的步数少， 下面用随机数据测试一下，2000次测试10大小的矩阵，大概相差二十倍\n",
    "Time complexity test: "
   ]
  },
  {
   "cell_type": "code",
   "execution_count": null,
   "metadata": {
    "colab": {
     "base_uri": "https://localhost:8080/",
     "height": 51
    },
    "colab_type": "code",
    "id": "p80_lbYW6eVi",
    "outputId": "4043767b-259f-4b6c-c6f9-346a51c59b97"
   },
   "outputs": [
    {
     "name": "stdout",
     "output_type": "stream",
     "text": [
      "-\n"
     ]
    },
    {
     "data": {
      "text/plain": [
       "6"
      ]
     },
     "execution_count": 38,
     "metadata": {
      "tags": []
     },
     "output_type": "execute_result"
    }
   ],
   "source": [
    "class Point:\n",
    "    def __init__(self, a=0, b=0):\n",
    "        self.x = a\n",
    "        self.y = b\n",
    "        \n",
    "class Solution:\n",
    "    \"\"\"\n",
    "    @param grid: a chessboard included 0 (false) and 1 (true)\n",
    "    @param source: a point\n",
    "    @param destination: a point\n",
    "    @return: the shortest path \n",
    "    \"\"\"\n",
    "    def shortestPath_dfs(self, grid, source, destination):\n",
    "        m, n = len(grid), len(grid[0])\n",
    "        import sys\n",
    "        record = [[sys.maxsize for j in range(n)] for i in range(m)]\n",
    "        steps = [[1,2],[1,-2],[-1,2],[-1,-2],\n",
    "                 [2,1],[2,-1],[-2,1],[-2,-1]]\n",
    "        x,y = source.x, source.y\n",
    "        record[x][y] = 0\n",
    "        \n",
    "        def dfs(x,y):\n",
    "          #print x, y\n",
    "          for step in steps:\n",
    "            new_x, new_y = x + step[0], y + step[1]\n",
    "            if 0 <= new_x < m and 0 <= new_y < n and grid[x][y] != 1 \\\n",
    "              and record[new_x][new_y] > record[x][y] + 1:\n",
    "                record[new_x][new_y] = record[x][y] + 1\n",
    "                dfs(new_x, new_y)\n",
    "        \n",
    "        dfs(x,y)\n",
    "        return record[destination.x][destination.y] if record[destination.x][destination.y] != sys.maxsize else -1\n",
    "  \n",
    "    def shortestPath_bfs(self, grid, source, destination):\n",
    "        # Write your code here\n",
    "        m = len(grid)\n",
    "        n = len(grid[0])\n",
    "\n",
    "        import sys\n",
    "        record = [[sys.maxint for _ in xrange(n)] for i in xrange(m)]\n",
    "        x,y = source.x, source.y\n",
    "        record[x][y] = 0\n",
    "        \n",
    "        q = []\n",
    "        q.append((x,y))\n",
    "        steps = [(-2, -1), (-2, 1), (-1, 2), (1, 2), (2, 1), (2, -1), (1, -2), (-1, -2)]\n",
    "        \n",
    "        while len(q) > 0:\n",
    "            x, y = q.pop(0) # pop(0) will take O(1), not O(n) or o(0) \n",
    "            #print x, y\n",
    "            for dx, dy in steps:\n",
    "                new_x, new_y = x + dx, y + dy\n",
    "                if 0 <= new_x < m and 0 <= new_y < n and grid[new_x][new_y] == 0 \\\n",
    "                and record[new_x][new_y] > record[x][y] + 1:\n",
    "                    record[new_x][new_y] = record[x][y] + 1\n",
    "                    q.append((new_x, new_y))\n",
    "\n",
    "        if record[destination.x][destination.y] == sys.maxint:\n",
    "            return -1\n",
    "\n",
    "        return record[destination.x][destination.y]\n",
    "grid = [[0,1,0], [0,0,0], [0,0,0]]\n",
    "s = Point(2,0)\n",
    "d = Point(2,2)\n",
    "Solution().shortestPath_dfs(grid, s, d)\n",
    "print '-'\n",
    "Solution().shortestPath_bfs(grid, s, d)"
   ]
  },
  {
   "cell_type": "code",
   "execution_count": null,
   "metadata": {
    "colab": {
     "base_uri": "https://localhost:8080/",
     "height": 52
    },
    "colab_type": "code",
    "id": "G2HCHUrdKEKj",
    "outputId": "3c3ff800-53e6-4e3c-9f86-7cd064bd91d9"
   },
   "outputs": [
    {
     "name": "stdout",
     "output_type": "stream",
     "text": [
      "6.25314307213\n",
      "0.345813989639\n"
     ]
    }
   ],
   "source": [
    "import random, timeit\n",
    "import numpy as np\n",
    "grid = np.array([random.choice([0,0,0,0,0,1]) for i in range(100)]).reshape(10,10).tolist()\n",
    "grid[0][0], grid[9][9] = 0, 0\n",
    "s = Point(0,0)\n",
    "d = Point(9,9)\n",
    "S = Solution()\n",
    "print timeit.timeit('S.shortestPath_dfs(grid, s, d)',  \n",
    "                    setup='from __main__ import s,S,d,grid', number=2000)\n",
    "print timeit.timeit('S.shortestPath_bfs(grid, s, d)', \n",
    "                    setup='from __main__ import s,S,d,grid', number=2000)"
   ]
  },
  {
   "cell_type": "markdown",
   "metadata": {
    "colab_type": "text",
    "id": "9cLA-5SUNaCp"
   },
   "source": [
    "其实这道题考搜索多于考DP，应该放在BFS里面复习，还有一道类似的题目，0-1 matrix, 见BFS"
   ]
  },
  {
   "cell_type": "markdown",
   "metadata": {
    "colab_type": "text",
    "id": "NrG1F5IsuFfF"
   },
   "source": [
    "## 接龙型动态规划\n",
    "单序列\n",
    "以字符串居多\n",
    "\t1. state: f[i]表示前i个位置/数字/字符,第i个…\n",
    "\t2. function: f[i] = f[j] … j 是i之前的一个位置\n",
    "\t3. initialize: f[0]..\n",
    "\t4. answer: f[n]..\n",
    "\t\t○ 一般answer是f(n)而不是f(n-1), 因为对于n个字符,包含前0个字符(空串),前1个字符……前n个字符。\n",
    "双序列\n",
    "一般给两个字符串\n",
    "\t1. state: f[i][j]代表了第一个sequence的前i个数字/字符,配上第二个sequence的前j个…\n",
    "\t2. function: f[i][j] = 研究第i个和第j个的匹配关系\n",
    "\t3. initialize: f[i][0] 和 f[0][i]\n",
    "\t4. answer: f[n][m]\n",
    "\t\t○ n = s1.length()\n",
    "\t\t○ m = s2.length()\n"
   ]
  },
  {
   "cell_type": "markdown",
   "metadata": {
    "colab_type": "text",
    "id": "8yynzYn1GYGq"
   },
   "source": [
    "### Jump Game I, II \n",
    "\n",
    "\n",
    "**Jump Game I Description**\n",
    "\n",
    "Given an array of non-negative integers, you are initially positioned at the first index of the array.\n",
    "\n",
    "Each element in the array represents your maximum jump length at that position.\n",
    "\n",
    "Determine if you are able to reach the last index.\n",
    "\n",
    "his problem have two method which is Greedy and Dynamic Programming.\n",
    "\n",
    "The time complexity of Greedy method is O(n).\n",
    "\n",
    "The time complexity of Dynamic Programming method is O(n^2).\n",
    "\n",
    "We manually set the small data set to allow you pass the test in both ways. This is just to let you learn how to use this problem in dynamic programming ways. If you finish it in dynamic programming ways, you can try greedy method to make it accept again.\n",
    "\n",
    "\n",
    "\n",
    "```\n",
    "Example\n",
    "A = [2,3,1,1,4], return true.\n",
    "\n",
    "A = [3,2,1,0,4], return false.\n",
    "```\n",
    "\n",
    "**Jump Game II Description**\n",
    "\n",
    "Given an array of non-negative integers, you are initially positioned at the first index of the array.\n",
    "\n",
    "Each element in the array represents your maximum jump length at that position.\n",
    "\n",
    "Your goal is to reach the last index in the minimum number of jumps.\n",
    "\n",
    "```\n",
    "Example\n",
    "Given array A = [2,3,1,1,4]\n",
    "```\n",
    "\n",
    "\n",
    "\n",
    "The minimum number of jumps to reach the last index is 2. (Jump 1 step from index 0 to 1, then 3 steps to the last index.)\n"
   ]
  },
  {
   "cell_type": "code",
   "execution_count": null,
   "metadata": {
    "colab": {},
    "colab_type": "code",
    "id": "_zLHXRVAGxNO"
   },
   "outputs": [],
   "source": [
    "class Solution:\n",
    "    \"\"\"\n",
    "    @param A: A list of integers\n",
    "    @return: A boolean\n",
    "    \"\"\"\n",
    "    # Jump game I \n",
    "    def canJump(self, A):\n",
    "        if len(A) == 0:\n",
    "            return 0\n",
    "        maxJump, i = A[0], 0\n",
    "        count = 0\n",
    "        while i < len(A):\n",
    "            count += 1 \n",
    "            if maxJump >= len(A) - 1:\n",
    "                return True\n",
    "            if i <= maxJump:\n",
    "                maxJump = max(i+A[i], maxJump)\n",
    "                i += 1\n",
    "            if count > len(A):\n",
    "                return False\n",
    "    # Jump game II \n",
    "    def jump(self, A):\n",
    "        if len(A) == 0 or A[0] == 0:\n",
    "            return 0\n",
    "        if A[0] > len(A) - 1:\n",
    "            return 1\n",
    "        maxJmp, end, numJmp = A[0], A[0], 1\n",
    "        i = 1\n",
    "        while maxJmp < len(A) - 1:\n",
    "            if i <= end: # get maxJmp at the next time\n",
    "                maxJmp = max(maxJmp, i+A[i])\n",
    "                i += 1\n",
    "                continue\n",
    "            numJmp += 1\n",
    "            end = maxJmp\n",
    "        return numJmp+1"
   ]
  },
  {
   "cell_type": "markdown",
   "metadata": {
    "colab_type": "text",
    "id": "VkkX8vvXHfPc"
   },
   "source": [
    "### Decode ways\n",
    "\n",
    "A message containing letters from A-Z is being encoded to numbers using the following mapping:\n",
    "\n",
    "'A' -> 1\n",
    "'B' -> 2\n",
    "...\n",
    "'Z' -> 26\n",
    "Given a non-empty string containing only digits, determine the total number of ways to decode it.\n",
    "```\n",
    "Example 1:\n",
    "\n",
    "Input: \"12\"\n",
    "Output: 2\n",
    "Explanation: It could be decoded as \"AB\" (1 2) or \"L\" (12).\n",
    "Example 2:\n",
    "\n",
    "Input: \"226\"\n",
    "Output: 3\n",
    "Explanation: It could be decoded as \"BZ\" (2 26), \"VF\" (22 6), or \"BBF\" (2 2 6).\n",
    "```\n",
    "Notes:\n",
    "1. f 初始化n+1个，因为字符串有空集情况，n+1 处理得更全面一些\n",
    "2. 两步走，检查自身"
   ]
  },
  {
   "cell_type": "code",
   "execution_count": null,
   "metadata": {
    "colab": {
     "base_uri": "https://localhost:8080/",
     "height": 50
    },
    "colab_type": "code",
    "id": "nS2FdLuaHqfT",
    "outputId": "8831fcbb-1552-4dad-aa42-d3ee76374bfa"
   },
   "outputs": [
    {
     "name": "stdout",
     "output_type": "stream",
     "text": [
      "[1, 1, 2, 1, 1]\n",
      "1\n"
     ]
    }
   ],
   "source": [
    "class Solution(object):\n",
    "    def numDecodings(self, s):\n",
    "        if not s:\n",
    "            return 0\n",
    "\n",
    "        dp = [0 for x in range(len(s) + 1)]\n",
    "        dp[0] = 1\n",
    "        dp[1] = 1 if 0 < int(s[0]) <= 9 else 0\n",
    "\n",
    "        for i in range(2, len(s) + 1):\n",
    "            if s[i-1] != '0':\n",
    "                dp[i] += dp[i - 1]\n",
    "            \n",
    "            if s[i-2] != '0' and int(s[i-2:i]) <= 26:\n",
    "                dp[i] += dp[i - 2]\n",
    "        \n",
    "        print(dp)\n",
    "        return dp[len(s)]\n",
    "    \n",
    "if __name__ == \"__main__\":\n",
    "    s = Solution()\n",
    "    print(s.numDecodings('1205'))"
   ]
  },
  {
   "cell_type": "markdown",
   "metadata": {
    "colab_type": "text",
    "id": "H-eZwQxH8-Fm"
   },
   "source": [
    "### Frog Jump\n",
    "\n",
    "A frog is crossing a river. The river is divided into x units and at each unit there may or may not exist a stone. The frog can jump on a stone, but it must not jump into the water.\n",
    "\n",
    "Given a list of stones' positions (in units) in sorted ascending order, determine if the frog is able to cross the river by landing on the last stone. Initially, the frog is on the first stone and assume the first jump must be 1 unit.\n",
    "\n",
    "If the frog's last jump was k units, then its next jump must be either k - 1, k, or k + 1 units. Note that the frog can only jump in the forward direction.\n",
    "\n",
    "The number of stones is ≥ 2 and is < 1100.\n",
    "Each stone's position will be a non-negative integer < 2^31.\n",
    "The first stone's position is always 0.\n",
    "\n",
    "```\n",
    "Example\n",
    "Given stones = [0,1,3,5,6,8,12,17]\n",
    "\n",
    "There are a total of 8 stones.\n",
    "The first stone at the 0th unit, second stone at the 1st unit,\n",
    "third stone at the 3rd unit, and so on...\n",
    "The last stone at the 17th unit.\n",
    "\n",
    "Return true. The frog can jump to the last stone by jumping \n",
    "1 unit to the 2nd stone, then 2 units to the 3rd stone, then \n",
    "2 units to the 4th stone, then 3 units to the 6th stone, \n",
    "4 units to the 7th stone, and 5 units to the 8th stone.\n",
    "\n",
    "Given stones = [0,1,2,3,4,8,9,11]\n",
    "\n",
    "Return false. There is no way to jump to the last stone as \n",
    "the gap between the 5th and 6th stone is too large.\n",
    "```\n",
    "Solution:\n",
    "\n",
    ">state:  dp = {stone: steps can be made at this stone}\n",
    "\n",
    "> Init: dp[i]  = set([]) for i in range(len(stones))\n",
    "\n",
    "> Function: \n",
    "\n",
    "          for stone in stones:\n",
    "           for k in dp[stone]:\n",
    "            if stone + k,k-1,k+1 in dp, \n",
    "             put k, k+1,k-1 to corespond stone\n",
    ">ans:\n",
    "  dp[stones[-1]] has some steps to make"
   ]
  },
  {
   "cell_type": "code",
   "execution_count": null,
   "metadata": {
    "colab": {
     "base_uri": "https://localhost:8080/",
     "height": 106
    },
    "colab_type": "code",
    "id": "Ht7STKrC3mEt",
    "outputId": "61d4ed1b-c460-4d6b-9e77-b563359dd58b"
   },
   "outputs": [
    {
     "name": "stdout",
     "output_type": "stream",
     "text": [
      "{0: set([0]), 1: set([1]), 3: set([2]), 5: set([2]), 6: set([1, 3]), 8: set([2, 3]), 12: set([4]), 17: set([5])}\n",
      "True\n",
      "{0: set([0]), 1: set([1]), 2: set([1]), 3: set([1, 2]), 4: set([1, 2]), 8: set([]), 9: set([]), 11: set([])}\n",
      "False\n"
     ]
    }
   ],
   "source": [
    "class Solution:\n",
    "    \"\"\"\n",
    "    @param stones: a list of stones' positions in sorted ascending order\n",
    "    @return: true if the frog is able to cross the river or false\n",
    "    \"\"\"\n",
    "    def canCross(self, stones):\n",
    "        # dp[stone] = steps can be made at this stone\n",
    "        dp = {}\n",
    "        \n",
    "        for stone in stones:\n",
    "            dp[stone] = set()\n",
    "        \n",
    "        dp[0].add(0)\n",
    "        \n",
    "        for stone in stones:\n",
    "            for k in dp[stone]:\n",
    "                if k-1 > 0 and stone + k - 1 in dp:\n",
    "                    dp[stone+k-1].add(k-1)\n",
    "                if stone + k in dp:\n",
    "                    dp[stone+k].add(k)\n",
    "                if stone + k + 1 in dp:\n",
    "                    dp[stone+k+1].add(k+1)\n",
    "        print dp\n",
    "        return len(dp[stones[-1]]) > 0 # 青蛙能跳到某个石头，那个石头的dp就会有一些青蛙可以走的步数\n",
    "\n",
    "if __name__ == \"__main__\":\n",
    "    s = Solution()\n",
    "    stones1 = [0,1,3,5,6,8,12,17]\n",
    "    stones2 = [0,1,2,3,4,8,9,11]\n",
    "    print s.canCross(stones1)\n",
    "    print s.canCross(stones2)"
   ]
  },
  {
   "cell_type": "markdown",
   "metadata": {
    "colab_type": "text",
    "id": "vnI4NVX9uI7z"
   },
   "source": []
  },
  {
   "cell_type": "markdown",
   "metadata": {
    "colab_type": "text",
    "id": "Us5BJzV1Gx3N"
   },
   "source": [
    "Time Complexity test "
   ]
  },
  {
   "cell_type": "code",
   "execution_count": null,
   "metadata": {
    "colab": {
     "base_uri": "https://localhost:8080/",
     "height": 52
    },
    "colab_type": "code",
    "id": "QwgNalFVKMiI",
    "outputId": "4fad6deb-13e5-4ee4-a5dc-9047d1f1b752"
   },
   "outputs": [
    {
     "name": "stdout",
     "output_type": "stream",
     "text": [
      "1.63590192795\n",
      "0.0157740116119\n"
     ]
    }
   ],
   "source": [
    "import random, timeit\n",
    "s = Solution()\n",
    "sample = random.sample(range(1000), 500)\n",
    "print timeit.timeit('s.longestIncreasingSubsequence(sample)',  \n",
    "                    setup='from __main__ import s, sample', number=100)\n",
    "print timeit.timeit('s.lis(sample)', \n",
    "                    setup='from __main__ import s, sample', number=100)"
   ]
  },
  {
   "cell_type": "markdown",
   "metadata": {
    "colab_type": "text",
    "id": "7QllN7EmN24D"
   },
   "source": [
    "### Largest Divisible Subset\n",
    "\n",
    "Given a set of distinct positive integers, find the largest subset such that every pair (Si, Sj) of elements in this subset satisfies: Si % Sj = 0 or Sj % Si = 0.\n",
    "\n",
    "If there are multiple solutions, return any subset is fine.\n",
    "\n",
    "```  \n",
    "Example\n",
    "Given nums = [1,2,3], return [1,2] or [1,3]\n",
    "\n",
    "Given nums = [1,2,4,8], return [1,2,4,8]\n",
    "```\n"
   ]
  },
  {
   "cell_type": "code",
   "execution_count": null,
   "metadata": {
    "colab": {
     "base_uri": "https://localhost:8080/",
     "height": 52
    },
    "colab_type": "code",
    "id": "s80rg1LIN_WE",
    "outputId": "b88a7d93-da69-4042-cb73-a677dc4be1e0"
   },
   "outputs": [
    {
     "name": "stdout",
     "output_type": "stream",
     "text": [
      "[2, 1]\n",
      "[8, 4, 2, 1]\n"
     ]
    }
   ],
   "source": [
    "class Solution:\n",
    "    \"\"\"\n",
    "    @param: nums: a set of distinct positive integers\n",
    "    @return: the largest subset\n",
    "    \"\"\"\n",
    "    def largestDivisibleSubset(self, nums):\n",
    "        # write your code here\n",
    "        if len(nums) <= 1:\n",
    "            return nums\n",
    "        n = len(nums)\n",
    "        nums.sort()\n",
    "        # dp[i] stands for len of LIS of dp[:i], 0 index\n",
    "        dp = [1 for i in range(n)]\n",
    "        father = [-1 for j in range(n)]\n",
    "        for i in range(1, n):\n",
    "            for j in range(0, i):\n",
    "                if nums[i] % nums[j] == 0:\n",
    "                    if dp[j] + 1 > dp[i]:\n",
    "                      dp[i] = max(dp[i], dp[j] + 1)\n",
    "                      father[i] = j\n",
    "        m = max(dp)\n",
    "        index = dp.index(m)\n",
    "        ans = []\n",
    "        for i in range(m, 0, -1):\n",
    "            ans.append(nums[index])\n",
    "            index = father[index]\n",
    "        return ans\n",
    "    \n",
    "s = Solution()\n",
    "sample = [1,2,3]\n",
    "print s.largestDivisibleSubset(sample)\n",
    "sample = [1,2,4,8]\n",
    "print s.largestDivisibleSubset(sample)"
   ]
  },
  {
   "cell_type": "markdown",
   "metadata": {
    "colab_type": "text",
    "id": "8Sq2O8gNOlIL"
   },
   "source": [
    "### Russian Doll Envelopes\n",
    "\n",
    "Description\n",
    "You have a number of envelopes with widths and heights given as a pair of integers (w, h). One envelope can fit into another if and only if both the width and height of one envelope is greater than the width and height of the other envelope.\n",
    "\n",
    "What is the maximum number of envelopes can you Russian doll? (put one inside other)\n",
    "\n",
    "```\n",
    "Example\n",
    "Given envelopes = [[5,4],[6,4],[6,7],[2,3]],\n",
    "the maximum number of envelopes you can Russian doll is 3 ([2,3] => [5,4] => [6,7]).\n",
    "```"
   ]
  },
  {
   "cell_type": "code",
   "execution_count": null,
   "metadata": {
    "colab": {
     "base_uri": "https://localhost:8080/",
     "height": 35
    },
    "colab_type": "code",
    "id": "XBw0-QvXOzGN",
    "outputId": "f44fee36-71d6-42b8-f021-dc799fe5dbbd"
   },
   "outputs": [
    {
     "data": {
      "text/plain": [
       "19"
      ]
     },
     "execution_count": 19,
     "metadata": {
      "tags": []
     },
     "output_type": "execute_result"
    }
   ],
   "source": [
    "class Solution:\n",
    "    \"\"\"\n",
    "    @param: envelopes: a number of envelopes with widths and heights\n",
    "    @return: the maximum number of envelopes\n",
    "    \"\"\"\n",
    "    def maxEnvelopes(self, envelopes):\n",
    "        if len(envelopes) == 0:\n",
    "            return 0\n",
    "        envelopes.sort(key = lambda x:(x[0], -x[1]))\n",
    "        nums = [x[1] for x in envelopes]\n",
    "        return self.lis(nums)\n",
    "\n",
    "    def lis(self, nums):\n",
    "        if len(nums) <= 1:\n",
    "            return len(nums)\n",
    "        import bisect\n",
    "        dp = [0 for _ in range(len(nums))]\n",
    "        maxlen = 0\n",
    "        for n in nums:\n",
    "            i = bisect.bisect_left(dp, n, 0, maxlen)\n",
    "            dp[i] = n\n",
    "            maxlen = maxlen + 1 if maxlen == i else maxlen\n",
    "        return maxlen\n",
    "sample = [[3419,8423],[164,2627],[3139,7517],[1751,4154],[9489,86],[6637,3814],\n",
    "          [8056,4472],[1361,7808],[8951,7291],[2729,3128],[3981,8815],[492,3230],\n",
    "          [8077,8257],[1046,8951],[7601,3995],[8077,2335],[7913,6100],[2120,552],\n",
    "          [8052,7377],[3699,4314],[4956,9383],[1398,9645],[5612,3194],[1041,7969],\n",
    "          [9353,9504],[3498,6074],[3778,6387],[6444,926],[8188,3068],[7573,9346],\n",
    "          [1947,2744],[3161,1583],[6931,2466],[3123,2746],[3063,9465],[5436,4950],\n",
    "          [2706,2321],[705,4817],[6848,3079],[7513,2377],[3314,3572],[1932,2535],\n",
    "          [2635,6677],[31,1250],[3553,3075],[8978,2303],[6216,5277],[6544,5712],\n",
    "          [8566,6145],[3541,9898],[7554,842],[1566,7443],[3891,2823],[8698,8532],\n",
    "          [1692,6859],[4094,8342],[5207,9744],[3020,3461],[4752,6631],[2033,1323],\n",
    "          [6094,3315],[16,8209],[3776,2627],[8889,2818],[755,2167],[9267,8809],\n",
    "          [9701,777],[9464,9921],[2657,9329],[8606,8059],[6912,9454],[133,6606],\n",
    "          [7149,5042],[7765,6180],[5361,4592],[7149,1438],[847,9109],[732,786],\n",
    "          [9824,548],[9833,2443],[9920,232],[9957,8386],[1792,5312],[2950,3834],\n",
    "          [3650,7948],[900,5644],[9741,7375]]\n",
    "s = Solution()\n",
    "s.maxEnvelopes(sample)\n",
    "        "
   ]
  },
  {
   "cell_type": "markdown",
   "metadata": {
    "colab_type": "text",
    "id": "zE3K2JxeOUMJ"
   },
   "source": [
    "### Perfect Square\n",
    "\n",
    "Description\n",
    "Given a positive integer n, find the least number of perfect square numbers (for example, 1, 4, 9, 16, ...) which sum to n.\n",
    "\n",
    "Have you met this question in a real interview?  \n",
    "Example\n",
    "\n",
    "\n",
    "Given n = 12, return 3 because 12 = 4 + 4 + 4\n",
    "\n",
    "Given n = 13, return 2 because 13 = 4 + 9"
   ]
  },
  {
   "cell_type": "markdown",
   "metadata": {
    "colab_type": "text",
    "id": "6Vsky6OzOmHI"
   },
   "source": [
    "这道题写几个数就明白了\n",
    "```\n",
    "dp[0] = 0 \n",
    "dp[1] = dp[0]+1 = 1\n",
    "dp[2] = dp[1]+1 = 2\n",
    "dp[3] = dp[2]+1 = 3\n",
    "dp[4] = Min{ dp[4-1*1]+1, dp[4-2*2]+1 } \n",
    "      = Min{ dp[3]+1, dp[0]+1 } \n",
    "      = 1\t\t\t\t\n",
    "dp[5] = Min{ dp[5-1*1]+1, dp[5-2*2]+1 } \n",
    "      = Min{ dp[4]+1, dp[1]+1 } \n",
    "      = 2\n",
    "\t\t\t\t\t\t.\n",
    "\t\t\t\t\t\t.\n",
    "\t\t\t\t\t\t.\n",
    "dp[13] = Min{ dp[13-1*1]+1, dp[13-2*2]+1, dp[13-3*3]+1 } \n",
    "       = Min{ dp[12]+1, dp[9]+1, dp[4]+1 } \n",
    "       = 2\n",
    "```\n",
    "\n",
    "\n",
    ">$ dp[n] = min(dp[n - i * i] + 1), n - i*i >=0, i >= 1$\n",
    "\n",
    "     "
   ]
  },
  {
   "cell_type": "code",
   "execution_count": null,
   "metadata": {
    "colab": {
     "base_uri": "https://localhost:8080/",
     "height": 35
    },
    "colab_type": "code",
    "id": "uwn-DYv0Oh25",
    "outputId": "55f54cc3-6ed1-4b15-f31d-42f511ccc0e5"
   },
   "outputs": [
    {
     "name": "stdout",
     "output_type": "stream",
     "text": [
      "[0, 1, 2, 3, 1, 2, 3, 4, 2, 1, 2, 3, 3]\n"
     ]
    }
   ],
   "source": [
    "import sys\n",
    "import math\n",
    "class Solution:\n",
    "    \"\"\"\n",
    "    @param n: a positive integer\n",
    "    @return: An integer\n",
    "    \"\"\"\n",
    "    #O(n * sqrt(n)) method \n",
    "    def numSquares(self, n):\n",
    "      dp = [sys.maxsize for _ in range(n+1)]\n",
    "      dp[0] = 0\n",
    "      for i in range(1, n+1):\n",
    "        for j in range(1, i+1):\n",
    "          if i - j*j < 0: break\n",
    "          dp[i] = min(dp[i], dp[i-j*j] + 1)\n",
    "      \n",
    "      print dp\n",
    "      return dp[n]\n",
    "    \n",
    "if __name__ == \"__main__\":    \n",
    "  n = 12\n",
    "  Solution().numSquares(n)"
   ]
  },
  {
   "cell_type": "markdown",
   "metadata": {
    "colab_type": "text",
    "id": "QCIx_VE2rg9Q"
   },
   "source": [
    "## 划分型动态规划(subarray 20题)\n",
    "\n",
    "\n",
    "题目：给一个序列，求一次划分区间，求区间中的最大值\n",
    "\t1. state: f[i] 表⽰示前 个元素的最大值\n",
    "\t2. function: f[i] = 前 i 个元素里⾯选一个区间的最⼤值\n",
    "\t3. initialize: f[0]..\n",
    "\t4. answer: f[n-1]..\n",
    "\n",
    "优化\n",
    "\t1. state:\n",
    "\t\t○ gobal[i] 表示前 i 个元素的最大值\n",
    "\t\t○ local[i] 表⽰示包含第 i 个元素前 i 个元素的最大值\n",
    "\t2. function:\n",
    "\t\t○ global[i] = 通过 local[i] 更新\n",
    "\t\t○ local[i] = 通过原序列或者 global[i] 更新\n",
    "\t3. initialize: global[0].. Local[i]\n",
    "\t4. answer: global[n-1]..\n",
    "\n",
    "\n",
    "\n"
   ]
  },
  {
   "cell_type": "markdown",
   "metadata": {
    "colab_type": "text",
    "id": "pYSh20CBri5F"
   },
   "source": [
    "## 区间型动态规划\n",
    "\n",
    "特点：\n",
    "\t1. 求一段区间的解max/min/count\n",
    "\t2. 转移方程通过区间更新\n",
    "\t3. 从大到小的更新\n",
    "这种题目共性就是区间最后求[0,n-1] 这样一个区间，逆向思维分析，从大到小就能迎刃而解， 逆向 =》 分治类似"
   ]
  },
  {
   "cell_type": "markdown",
   "metadata": {
    "colab_type": "text",
    "id": "lW46e-AS-5Rd"
   },
   "source": [
    "### Maximum SubArray I\n",
    "\n",
    "Description\n",
    "Given an array of integers, find a contiguous subarray which has the largest sum.\n",
    "\n",
    "Notice\n",
    "The subarray should contain at least one number.\n",
    "```\n",
    "Example\n",
    "Given the array [−2,2,−3,4,−1,2,1,−5,3], \n",
    "the contiguous subarray [4,−1,2,1] has the largest sum = 6.\n",
    "\n",
    "Challenge \n",
    "Can you do it in time complexity O(n)?\n",
    "```\n",
    "\n",
    "$ f[i] = max(f[i-1] + nums[i-1], nums[i-1])$ "
   ]
  },
  {
   "cell_type": "code",
   "execution_count": null,
   "metadata": {
    "colab": {
     "base_uri": "https://localhost:8080/",
     "height": 35
    },
    "colab_type": "code",
    "id": "MgevrmuV-4pl",
    "outputId": "f1776f9d-7fde-45a4-8f3f-de483ebe623f"
   },
   "outputs": [
    {
     "name": "stdout",
     "output_type": "stream",
     "text": [
      "6\n"
     ]
    }
   ],
   "source": [
    "class Solution:\n",
    "    def max_sub_array(self, nums):\n",
    "        if nums == []:\n",
    "            return \n",
    "    \n",
    "        cur_sum = max_sum = nums[0]\n",
    "\n",
    "        for num in nums[1:]:\n",
    "            cur_sum = max(cur_sum + num, num)\n",
    "            max_sum = max(max_sum, cur_sum)\n",
    "\n",
    "        return max_sum\n",
    "\n",
    "if __name__ == \"__main__\":\n",
    "  \n",
    "  print Solution().max_sub_array([-2,2,-3,4,-1,2,1,-5,3])\n",
    "    \n",
    "    "
   ]
  },
  {
   "cell_type": "markdown",
   "metadata": {
    "colab_type": "text",
    "id": "W0wI3PVKA-tE"
   },
   "source": [
    "### Maximum Subarray II \n",
    "\n",
    "Description\n",
    "Given an array of integers, find two non-overlapping subarrays which have the largest sum.\n",
    "The number in each subarray should be contiguous.\n",
    "Return the largest sum.\n",
    "\n",
    "Notice:\n",
    "\n",
    "The subarray should contain at least one number\n",
    "```\n",
    "Example\n",
    "For given [1, 3, -1, 2, -1, 2], \n",
    "the two subarrays are [1, 3] and [2, -1, 2] or [1, 3, -1, 2] and [2], \n",
    "they both have the largest sum 7.\n",
    "```\n",
    "Challenge: \n",
    "Can you do it in time complexity O(n) ?"
   ]
  },
  {
   "cell_type": "code",
   "execution_count": null,
   "metadata": {
    "colab": {
     "base_uri": "https://localhost:8080/",
     "height": 34
    },
    "colab_type": "code",
    "id": "4n-bvY0OCeqa",
    "outputId": "03f7ec33-8933-4ea2-a6f5-c4fad33b25f1"
   },
   "outputs": [
    {
     "name": "stdout",
     "output_type": "stream",
     "text": [
      "44\n"
     ]
    }
   ],
   "source": [
    "MIN_INT = -65535\n",
    "class Solution(object):\n",
    "    \"\"\"\n",
    "    @param: nums: A list of integers\n",
    "    @return: An integer denotes the sum of max two non-overlapping subarrays\n",
    "    \"\"\"\n",
    "       \n",
    "    def maxTwoSubArrays(self, nums):\n",
    "        if len(nums) == 1: \n",
    "            return nums[0]\n",
    "        # at least there should be 2 elements in nums\n",
    "        # If you need to add/remove at both ends, consider using a collections.deque instead.\n",
    "        left_max = [0 for i in range(len(nums))] \n",
    "        max_sum = cur_sum = left_max[0] = nums[0]\n",
    "        \n",
    "        for i in range(1, len(nums)-1):\n",
    "            cur_sum = max(cur_sum + nums[i], nums[i])\n",
    "            max_sum = max(max_sum, cur_sum)\n",
    "            left_max[i] = max_sum\n",
    "        \n",
    "        right_max = [0 for i in range(len(nums))]\n",
    "        max_sum = cur_sum = right_max[-1] = nums[-1]\n",
    "        \n",
    "        \n",
    "        for i in range(len(nums)-2, 0, -1):\n",
    "            cur_sum = max(cur_sum + nums[i], nums[i])\n",
    "            max_sum = max(max_sum, cur_sum)\n",
    "            right_max[i] = max_sum\n",
    "        \n",
    "        \n",
    "        max_sum = MIN_INT\n",
    "        for i in range(0, len(nums) - 1):\n",
    "            max_sum = max(max_sum, left_max[i] + right_max[i+1])\n",
    "        \n",
    "        return max_sum\n",
    "      \n",
    "if __name__ == \"__main__\":\n",
    "\n",
    "    print Solution().maxTwoSubArrays([1,1,1,1,1,1,1,1,1,1,1,1,1,1,1,1,1,1,1,\n",
    "                                    1,1,1,1,1,1,1,-2,1,-15,1,1,1,1,1,1,1,\n",
    "                                    1,1,1,1,1,1,1,1,1,1,1])"
   ]
  },
  {
   "cell_type": "markdown",
   "metadata": {
    "colab_type": "text",
    "id": "JN9u0bv-2CLf"
   },
   "source": [
    "### Maximum Subarray III\n",
    "Description\n",
    "Given an array of integers and a number k, \n",
    "find k non-overlapping subarrays which have the largest sum.\n",
    "The number in each subarray should be contiguous.\n",
    "Return the largest sum.\n",
    "```\n",
    "Notice\n",
    "The subarray should contain at least one number\n",
    "\n",
    "Example\n",
    "Given [-1,4,-2,3,-2,3], k=2, return 8\n",
    "```\n",
    "\n",
    "两个思路：\n",
    "1. $ f[i][j]  =   f[i][j-1] + maxSum(num[j:i+1]) $ # 从j开始到i再求maxsubArray, 注意是从j不是从j-1，写成代码，就是j-1不是j-2开始\n",
    "2.  \n",
    "\n",
    "     $dp[i][j][0] = max(dp[i - 1][j][1],\\   dp[i - 1][j][0])$ # 第i个数没有放进背包\n",
    "\n",
    "      $dp[i][j][1] = max( dp[i-1][j][1],\\  dp[i-1][j-1][1],\\ dp[i-1][j-1][0]) + nums[i-1]$ # 第i个数放进背包\n",
    "      \n",
    "      Notes: 为什么要多一个变量来记录，A = [-1，4，-2，3]\n",
    "     \n",
    "     dp[3][1] = max(dp[2][1], dp[2][1]+A[3], dp[2][0] + A[3]) = max(4, 4+3, 3) = 7, 错，dp[3][1] = 5, 因为没有确保连续性，所以dp错了。"
   ]
  },
  {
   "cell_type": "code",
   "execution_count": null,
   "metadata": {
    "colab": {
     "base_uri": "https://localhost:8080/",
     "height": 85
    },
    "colab_type": "code",
    "id": "qq9LsMBzHWts",
    "outputId": "5c3a8d50-06ad-487f-834b-5528b4f9eb91"
   },
   "outputs": [
    {
     "name": "stdout",
     "output_type": "stream",
     "text": [
      "(2, 1, [1, -1])\n",
      "(3, 1, [1, 3])\n",
      "(3, 2, [-1, 4])\n",
      "2\n"
     ]
    }
   ],
   "source": [
    "class Solution:\n",
    "  \n",
    "    def maxSubArray(self, nums, k):\n",
    "        # 这种写法是子数组的个数一定要是k，如果小于等于k也可以, 就取所有f[n][j], j<=k 最大\n",
    "        from sys import maxsize\n",
    "        f = [[[- maxsize for t in range(2)]\n",
    "                 for j in range(k+1)]\n",
    "                 for i in range(len(nums)+1)]\n",
    "        for i in range(1, len(nums)+1):\n",
    "            f[i][0][0] = 0 # 重要，如果没有这个，[-1,4] 最后出来结果是3\n",
    "        sumj = 0\n",
    "        for j in range(1, k+1):\n",
    "            sumj += nums[j-1]\n",
    "            f[j][j][1] = sumj\n",
    "            for i in range(j+1, len(nums)+1):\n",
    "                f[i][j][0] = max(f[i-1][j][0], f[i-1][j][1])\n",
    "                f[i][j][1] = max(f[i-1][j][1], f[i-1][j-1][0], \n",
    "                             f[i-1][j-1][1]) + nums[i-1]\n",
    "        \n",
    "                print(i, j, f[i][j])\n",
    "        \n",
    "        #print f[-1][-1]\n",
    "        return max(f[-1][-1])\n",
    "    \n",
    "if __name__ == \"__main__\":\n",
    "    print Solution().maxSubArray([1,-2, 3],3)\n",
    "    #print Solution().maxSubArray([-1,4,-2,3,-2,3], 2)"
   ]
  },
  {
   "cell_type": "markdown",
   "metadata": {
    "colab_type": "text",
    "id": "0qCvq2CXUF_3"
   },
   "source": [
    "### Maximum Subarray IV\n",
    "\n",
    "\n",
    "Given an integer arrays, find a contiguous subarray which has the largest sum and length should be **greater or equal to ** given length k.\n",
    "Return the largest sum, return 0 if there are fewer than k elements in the array.\n",
    "```\n",
    "Example\n",
    "Given the array [-2,2,-3,4,-1,2,1,-5,3] and k = 5, the contiguous subarray [2,-3,4,-1,2,1] has the largest sum = 5.\n",
    "```\n",
    "\n",
    "\n",
    "find $sum[i] - min(sum[j], j= 0, ..., i-k)$"
   ]
  },
  {
   "cell_type": "code",
   "execution_count": null,
   "metadata": {
    "colab": {
     "base_uri": "https://localhost:8080/",
     "height": 34
    },
    "colab_type": "code",
    "id": "imD4JFZhPfqa",
    "outputId": "458e2e7c-dbbd-4f45-9c92-d266cef844cf"
   },
   "outputs": [
    {
     "name": "stdout",
     "output_type": "stream",
     "text": [
      "-1\n"
     ]
    }
   ],
   "source": [
    "class Solution(object):\n",
    "    def maxSubarray4(self, nums, k):\n",
    "        if len(nums) < k:\n",
    "            return 0\n",
    "        if len(nums) == k:\n",
    "            return sum(nums)\n",
    "        \n",
    "        # len(nums) > k \n",
    "        cur_sum = [0 for i in range(len(nums)+1)]\n",
    "        cur_sum[0] = 0\n",
    "        max_sum = -65535\n",
    "        min_sum = 0 # include everything \n",
    "        \n",
    "        \n",
    "        for i in range(1, len(nums)+1):\n",
    "            cur_sum[i] =  cur_sum[i-1] + nums[i-1]\n",
    "            if i >= k:\n",
    "                min_sum = min(min_sum, cur_sum[i-k])\n",
    "                max_sum = max(max_sum, cur_sum[i] - min_sum)\n",
    "        return max_sum \n",
    "\n",
    "\n",
    "      \n",
    "if __name__ == \"__main__\":\n",
    "    sample = [-1,-1,-1,-1]\n",
    "    #sample = [5]\n",
    "    s = Solution()\n",
    "    print s.maxSubarray4(sample, 1)"
   ]
  },
  {
   "cell_type": "markdown",
   "metadata": {
    "colab_type": "text",
    "id": "6tXzhvZsUGvn"
   },
   "source": [
    "### Maximum Subarray V\n",
    "\n",
    "Given an integer arrays, find a contiguous subarray which has the largest sum and length should be between k1 and k2 (include k1 and k2).\n",
    "\n",
    "Return the largest sum, return 0 if there are fewer than k1 elements in the array.\n",
    "\n",
    "```\n",
    "Example\n",
    "Given the array [-2,2,-3,4,-1,2,1,-5,3] and k1 = 2, k2 = 4, the contiguous subarray [4,-1,2,1] has the largest sum = 6.\n",
    "```\n",
    "\n",
    "find $sum[i] - min(sum[j], k1 <= i - j + 1 <= k2)$\n"
   ]
  },
  {
   "cell_type": "code",
   "execution_count": null,
   "metadata": {
    "colab": {
     "base_uri": "https://localhost:8080/",
     "height": 51
    },
    "colab_type": "code",
    "id": "wXQRvBtOr0gu",
    "outputId": "992e4ea2-324b-4732-8c9b-953d928b3f96"
   },
   "outputs": [
    {
     "name": "stdout",
     "output_type": "stream",
     "text": [
      "6\n",
      "14\n"
     ]
    }
   ],
   "source": [
    " class Solution:\n",
    "    \"\"\"\n",
    "    @param nums: an array of integers\n",
    "    @param k1: An integer\n",
    "    @param k2: An integer\n",
    "    @return: the largest sum\n",
    "    \"\"\"\n",
    "      \n",
    "    def maxSubarray5(self, nums, k1, k2):\n",
    "        if len(nums) < k1:\n",
    "            return 0\n",
    "        if len(nums) == k1:\n",
    "            return sum(nums)\n",
    "          \n",
    "        MIN_INT = -65535\n",
    "        from collections import deque\n",
    "        csum = [0] # sum[0] 留空，为了防止一个也不减掉的情况\n",
    "        deck = deque() # deck will save j, i-k2 <= j <= i-k1\n",
    "        max_sum = MIN_INT\n",
    "        \n",
    "        for i in range(1, len(nums)+1):\n",
    "            csum.append(csum[i-1] + nums[i-1])\n",
    "            if i >= k1:\n",
    "                if len(deck) > 0 and deck[0] < i - k2: # j >= i-k2\n",
    "                    deck.popleft()            \n",
    "                while len(deck) > 0 and csum[deck[-1]] > csum[i-k1]:\n",
    "                    deck.pop()            \n",
    "                deck.append(i-k1)\n",
    "                max_sum = max(max_sum, csum[i] - csum[deck[0]]) # len(nums) > k1\n",
    "        return max_sum\n",
    "\n",
    "if __name__ == \"__main__\":\n",
    "    print Solution().maxSubarray5([-2,2,-3,4,-1,2,1,-5,3], 2, 4)\n",
    "    print Solution().maxSubarray5([1,2,3,4,5], 2, 4)\n",
    "        "
   ]
  },
  {
   "cell_type": "markdown",
   "metadata": {
    "colab_type": "text",
    "id": "zQEJJSMMwFel"
   },
   "source": [
    "### Maximum Average Subarray I\n",
    "\n",
    "Given an array with positive and negative numbers, find the maximum average subarray which length should be equal to given length k.\n",
    "\n",
    "Example\n",
    "Given nums = [1, 12, -5, -6, 50, 3], k = 3\n",
    "\n",
    "Return 15.667 // (-6 + 50 + 3) / 3 = 15.667"
   ]
  },
  {
   "cell_type": "code",
   "execution_count": null,
   "metadata": {
    "colab": {},
    "colab_type": "code",
    "id": "sFyG08WSwO9k"
   },
   "outputs": [],
   "source": [
    "class Solution:\n",
    "    \"\"\"\n",
    "    @param: nums: an array with positive and negative numbers\n",
    "    @param: k: an integer\n",
    "    @return: the maximum average\n",
    "    \"\"\"\n",
    "    def findMaxAverage(self, nums, k):\n",
    "        max_avg = -65535\n",
    "        k_sum = 0.0\n",
    "        \n",
    "        for i in range(1, len(nums)+1):\n",
    "            k_sum += nums[i-1]\n",
    "          \n",
    "            if i >= k:\n",
    "                max_avg = max(max_avg, k_sum/k)\n",
    "                k_sum -= nums[i-k]\n",
    "        return max_avg"
   ]
  },
  {
   "cell_type": "markdown",
   "metadata": {
    "colab_type": "text",
    "id": "QS7rzo-HfCcA"
   },
   "source": [
    "### Maximum Average Subarray II\n",
    "Given an array with positive and negative numbers, find the maximum average subarray which length should be greater or equal to given length k.\n",
    "\n",
    "```\n",
    "Example\n",
    "Given nums = [1, 12, -5, -6, 50, 3], k = 3\n",
    "\n",
    "Return 15.667 // (-6 + 50 + 3) / 3 = 15.667\n",
    "```\n",
    "思路：$\\forall i$ 找到 $max\\lbrace (sum[i] - sum[j])/(i-j) |j=0, ..., i-k\\rbrace$\n",
    "\n",
    "复\n",
    "杂度：O(n * k)\n"
   ]
  },
  {
   "cell_type": "code",
   "execution_count": null,
   "metadata": {
    "colab": {
     "base_uri": "https://localhost:8080/",
     "height": 34
    },
    "colab_type": "code",
    "id": "FlG2yn5FTVP1",
    "outputId": "74ccfa26-c786-494a-bbc9-48d79d6b7247"
   },
   "outputs": [
    {
     "name": "stdout",
     "output_type": "stream",
     "text": [
      "-29.3333315849\n"
     ]
    }
   ],
   "source": [
    "class Solution:\n",
    "    \"\"\"\n",
    "    @param: nums: an array with positive and negative numbers\n",
    "    @param: k: an integer\n",
    "    @return: the maximum average\n",
    "    \"\"\"\n",
    "    def maxAverage2(self, nums, k):\n",
    "        start = min(nums) * 1.0\n",
    "        end = max(nums) * 1.0\n",
    "        eps = 1e-5\n",
    "        \n",
    "        def check(mid):\n",
    "            from sys import maxsize\n",
    "            csum = [0.0]\n",
    "            min_pre = [0.0]\n",
    "            for i in range(1, len(nums)+1):\n",
    "                csum.append(csum[i-1] + nums[i-1] - mid)\n",
    "                min_pre.append(min(min_pre[i-1], csum[i]))\n",
    "                if i >= k and csum[i] - min_pre[i-k] >= 0:\n",
    "                    return True\n",
    "            return False\n",
    "        \n",
    "        while start + eps < end:\n",
    "            mid = start + (end - start)/2\n",
    "            if check(mid):\n",
    "                start = mid\n",
    "            else:\n",
    "                end = mid\n",
    "        \n",
    "        return end\n",
    "      \n",
    "if __name__ == \"__main__\":\n",
    "    print Solution().maxAverage2([-78,-50,18,-93,-35,-31,-21,-14,-73], 5)"
   ]
  },
  {
   "cell_type": "markdown",
   "metadata": {
    "colab_type": "text",
    "id": "oDTompHhmbC4"
   },
   "source": [
    "### Maximum Average Subarray III\n",
    "Given an array with positive and negative numbers, find the maximum average subarray which length should be [k1, k2]\n",
    "\n",
    "```\n",
    "Example\n",
    "Given nums = [1, 12, -5, -6, 50, 3], k = 3\n",
    "\n",
    "Return 15.667 // (-6 + 50 + 3) / 3 = 15.667\n",
    "```\n",
    "思路：$\\forall i$ 找到 $max\\lbrace (sum[i] - sum[j])/(i-j) |k1<=i−j+1<=k2\\rbrace$\n",
    "复杂度：O(n * k)"
   ]
  },
  {
   "cell_type": "code",
   "execution_count": null,
   "metadata": {
    "colab": {
     "base_uri": "https://localhost:8080/",
     "height": 34
    },
    "colab_type": "code",
    "id": "MEwP5tAUmbPo",
    "outputId": "45f98dc2-7306-40fd-ef40-8e05b5764b0e"
   },
   "outputs": [
    {
     "name": "stdout",
     "output_type": "stream",
     "text": [
      "33.0\n"
     ]
    }
   ],
   "source": [
    "class Solution:\n",
    "    \"\"\"\n",
    "    @param: nums: an array with positive and negative numbers\n",
    "    @param: k: an integer\n",
    "    @return: the maximum average\n",
    "    \"\"\"\n",
    "    def maxAverage3(self, nums, k1, k2):\n",
    "        start = min(nums) * 1.0\n",
    "        end = max(nums) * 1.0\n",
    "        eps = 1e-12\n",
    "        \n",
    "        def check(mid):\n",
    "            import collections\n",
    "            cum = [0.0]\n",
    "            deck = collections.deque()\n",
    "   \n",
    "            for i in range(1, len(nums)+1):\n",
    "                cum.append(cum[i-1] + nums[i-1] - mid)\n",
    "\n",
    "                if i >= k1:\n",
    "                    if deck and deck[0] < i-k2:\n",
    "                        deck.popleft()\n",
    "                    while deck and cum[deck[-1]] > cum[i-k1]:\n",
    "                        deck.pop()\n",
    "                    deck.append(i-k1)\n",
    "                    if cum[i] - cum[deck[0]] > 0:\n",
    "                        return True\n",
    "            return False\n",
    "        \n",
    "        while start + eps < end:\n",
    "            mid = start + (end - start)/2\n",
    "            if check(mid):\n",
    "                start = mid\n",
    "            else:\n",
    "                end = mid\n",
    "        return end\n",
    "      \n",
    "if __name__ == \"__main__\":\n",
    "    print Solution().maxAverage3([-78,-50,18,-93,35,31,-21,-14,-73], 2, 5)"
   ]
  },
  {
   "cell_type": "code",
   "execution_count": null,
   "metadata": {
    "colab": {
     "base_uri": "https://localhost:8080/",
     "height": 1057
    },
    "colab_type": "code",
    "id": "eVM2JT0eZI0r",
    "outputId": "d0824932-aefb-486e-df90-b1e52375c834"
   },
   "outputs": [
    {
     "name": "stdout",
     "output_type": "stream",
     "text": [
      "1 started, -------\n",
      "94.522649765\n",
      "94.5985639095\n",
      "1 finished, -------\n",
      "2 started, -------\n",
      "175.779512882\n",
      "92.5922288895\n",
      "2 finished, -------\n",
      "3 started, -------\n",
      "269.410157919\n",
      "94.4945039749\n",
      "3 finished, -------\n",
      "4 started, -------\n",
      "357.190777779\n",
      "95.0114197731\n",
      "4 finished, -------\n",
      "5 started, -------\n",
      "449.697618484\n",
      "95.2256600857\n",
      "5 finished, -------\n",
      "6 started, -------\n",
      "538.049463272\n",
      "95.0324380398\n",
      "6 finished, -------\n",
      "7 started, -------\n",
      "603.63419199\n",
      "95.1483259201\n",
      "7 finished, -------\n",
      "8 started, -------\n",
      "737.475235462\n",
      "95.7482600212\n",
      "8 finished, -------\n",
      "9 started, -------\n",
      "815.825096607\n",
      "95.9684710503\n",
      "9 finished, -------\n",
      "10 started, -------\n",
      "895.137821913\n",
      "95.7827749252\n",
      "10 finished, -------\n",
      "11 started, -------\n",
      "1045.61718035\n",
      "96.1937739849\n",
      "11 finished, -------\n",
      "12 started, -------\n",
      "1088.7921412\n",
      "96.808095932\n",
      "12 finished, -------\n",
      "13 started, -------\n",
      "1149.95863104\n",
      "97.7301390171\n",
      "13 finished, -------\n",
      "14 started, -------\n",
      "1238.454283\n",
      "97.9381468296\n",
      "14 finished, -------\n",
      "15 started, -------\n",
      "1353.26945615\n",
      "97.644313097\n",
      "15 finished, -------\n"
     ]
    }
   ],
   "source": [
    "# Test for multiprocessing package\n",
    "from multiprocessing import Pool\n",
    "from timeit import timeit\n",
    "import time\n",
    "def testfun(ntimes):\n",
    "    res = timeit(\"Solution().maxAverage2(sample, 1012)\",\n",
    "                  setup=\"from __main__ import Solution, sample\", number=ntimes)\n",
    "    return res\n",
    "\n",
    "if __name__ == \"__main__\":\n",
    "    for i in range(1, 16):\n",
    "        print i, 'started, -------'\n",
    "        a = time.time()\n",
    "        testcases = [30 for _ in range(33)]\n",
    "        testcases.append(10)\n",
    "        pool = Pool(i)\n",
    "        results = pool.map(testfun, testcases)\n",
    "        pool.close()\n",
    "        pool.join()\n",
    "        print sum(results)\n",
    "        print time.time() - a\n",
    "        print i, 'finished, -------'"
   ]
  },
  {
   "cell_type": "markdown",
   "metadata": {
    "colab_type": "text",
    "id": "vWuVmOli2Cdn"
   },
   "source": [
    "### Maximum Product Subarray\n",
    "\n",
    "Description\n",
    "Find the contiguous subarray within an array (containing at least one number) \n",
    "which has the largest product.\n",
    "\n",
    "```\n",
    "Example\n",
    "For example, given the array [2,3,-2,4], \n",
    "the contiguous subarray [2,3] has the largest product = 6.\n",
    "```\n",
    "\n"
   ]
  },
  {
   "cell_type": "code",
   "execution_count": null,
   "metadata": {
    "colab": {
     "base_uri": "https://localhost:8080/",
     "height": 34
    },
    "colab_type": "code",
    "id": "6J7DyDa6jEoB",
    "outputId": "88afcba9-1691-440c-f029-d9ab84956bc6"
   },
   "outputs": [
    {
     "name": "stdout",
     "output_type": "stream",
     "text": [
      "6\n"
     ]
    }
   ],
   "source": [
    "class Solution:\n",
    "    # param nums: an integer[]\n",
    "    # return: an integer\n",
    "    def maxProduct(self, nums):\n",
    "        # write your code here\n",
    "        f, g = [], []\n",
    "        f.append(nums[0])\n",
    "        g.append(nums[0])\n",
    "        for i in range(1, len(nums)):\n",
    "            f.append(max(f[i-1]*nums[i], g[i-1]*nums[i], nums[i]))\n",
    "            g.append(min(f[i-1]*nums[i], g[i-1]*nums[i], nums[i]))\n",
    "        \n",
    "        return max(f)\n",
    "      \n",
    "if __name__ == \"__main__\":\n",
    "    print Solution().maxProduct([2,3,-2,4])"
   ]
  },
  {
   "cell_type": "markdown",
   "metadata": {
    "colab_type": "text",
    "id": "zpKDfktr2Cnt"
   },
   "source": [
    "### Minimum Adjustment Cost\n",
    "Description\n",
    "Given an integer array, adjust each integers so that \n",
    "the difference of every adjacent integers are not greater than a given number target.\n",
    "If the array before adjustment is A, the array after adjustment is B, \n",
    "you should minimize the sum of |A[i]-B[i]|\n",
    "\n",
    "```\n",
    "Notice\n",
    "You can assume each number in the array is a positive integer and not greater than 100.\n",
    "\n",
    "Example\n",
    "Given [1,4,2,3] and target = 1, one of the solutions is [2,3,2,3], \n",
    "the adjustment cost is 2 and it's minimal.\n",
    "Return 2.\n",
    "```\n",
    "\n",
    "\n",
    "f[i][k] = min(f[i][k], f[i-1][j] + abs(A[i-1]-k))\n",
    "\n"
   ]
  },
  {
   "cell_type": "code",
   "execution_count": null,
   "metadata": {
    "colab": {
     "base_uri": "https://localhost:8080/",
     "height": 34
    },
    "colab_type": "code",
    "id": "THJ-JdLmoMAx",
    "outputId": "f19f49ea-ddc7-4488-df80-9a0e2789a6e3"
   },
   "outputs": [
    {
     "name": "stdout",
     "output_type": "stream",
     "text": [
      "2\n"
     ]
    }
   ],
   "source": [
    "class Solution:\n",
    "    # param A: An integer array.\n",
    "    # param target: An integer.\n",
    "    def MinAdjustmentCost(self, A, target):\n",
    "        # write your code here\n",
    "        maxint = 65536\n",
    "        f = [[ maxint for j in range(101)] for i in range(len(A)+1)]\n",
    "        for i in range(101):\n",
    "            f[0][i] = 0\n",
    "        n = len(A)\n",
    "        \n",
    "        for i in range(1,n+1):\n",
    "            for j in range(101):\n",
    "                if f[i-1][j] != maxint:\n",
    "                    for k in range(101):\n",
    "                        if abs(j-k) <= target:\n",
    "                            f[i][k] = min(f[i][k], f[i-1][j] + abs(A[i-1]-k))\n",
    "        \n",
    "        return min(f[n])\n",
    "\n",
    "if __name__ == \"__main__\":\n",
    "    print Solution().MinAdjustmentCost([1,4,2,3], 1)"
   ]
  },
  {
   "cell_type": "markdown",
   "metadata": {
    "colab_type": "text",
    "id": "5AbuvWuagosO"
   },
   "source": [
    "### Best Time to Buy and Sell Stock I ~ IV\n",
    "\n",
    "\n",
    "Say you have an array for which the ith element is the price of a given stock on day i.\n",
    "\n",
    "Design an algorithm to find the maximum profit. You may complete at most n transactions.\n",
    "\n",
    "```\n",
    "I. n = 1 \n",
    "II. n = maxint\n",
    "III. n = 2 \n",
    "IV. n = k\n",
    "```\n",
    "\n",
    "notes:\n",
    "1. 这道题就是求一个差分profis数组，然后对profits数组求最大sub array sum 即可\n",
    "2. 注意，如果profist里面正数不超过k，那么就把所有正数加起来就行了，相当于第二问。"
   ]
  },
  {
   "cell_type": "code",
   "execution_count": null,
   "metadata": {
    "colab": {
     "base_uri": "https://localhost:8080/",
     "height": 34
    },
    "colab_type": "code",
    "id": "CIpybXsMgsYc",
    "outputId": "ff3f1deb-b500-49f8-ef12-a7bd3126bcc8"
   },
   "outputs": [
    {
     "name": "stdout",
     "output_type": "stream",
     "text": [
      "24\n"
     ]
    }
   ],
   "source": [
    "from sys import maxint\n",
    "class Solution:\n",
    "    \"\"\"\n",
    "    @param prices: Given an integer array\n",
    "    @return: Maximum profit\n",
    "    \"\"\"\n",
    "\n",
    "    def maxProfit1(self, prices):\n",
    "        profit = 0\n",
    "        low = maxint\n",
    "        for price in prices:\n",
    "            profit = max(profit, price-profit)\n",
    "            low = min(low, price)\n",
    "        return profit\n",
    "\n",
    "    def maxProfit2(self, prices):\n",
    "        profit = 0\n",
    "        for i in range(len(prices)-1):\n",
    "            profit += max(prices[i+1]-prices[i], 0)\n",
    "        return profit\n",
    "\n",
    "    def maxProfit3(self, prices):\n",
    "        profit = []\n",
    "        for i in range(len(prices)-1):\n",
    "            profit.append(prices[i+1] - prices[i])\n",
    "\n",
    "        return max(self.maxTwoSubArrays(profit), 0)\n",
    "\n",
    "    def maxProfit4(self, k, prices):\n",
    "        profits = []\n",
    "        count_postive = 0\n",
    "        cum = 0\n",
    "        for i in range(len(prices) - 1):\n",
    "            profit = prices[i + 1] - prices[i]\n",
    "            profits.append(prices[i + 1] - prices[i])\n",
    "            if profit > 0:\n",
    "                count_postive += 1\n",
    "                cum += profit\n",
    "\n",
    "        if len(profits) <= k or count_postive <= k:\n",
    "            return cum\n",
    "\n",
    "        return max(self.maxSubArray(profits, k), 0)\n",
    "\n",
    "    def maxTwoSubArrays(self, nums):\n",
    "        if len(nums) == 1:\n",
    "            return nums[0]\n",
    "        # at least there should be 2 elements in nums\n",
    "        # If you need to add/remove at both ends, consider using a collections.deque instead.\n",
    "        left_max = [0 for i in range(len(nums))]\n",
    "        max_sum = cur_sum = left_max[0] = nums[0]\n",
    "\n",
    "        for i in range(1, len(nums) - 1):\n",
    "            cur_sum = max(cur_sum + nums[i], nums[i])\n",
    "            max_sum = max(max_sum, cur_sum)\n",
    "            left_max[i] = max_sum\n",
    "\n",
    "        right_max = [0 for i in range(len(nums))]\n",
    "        max_sum = cur_sum = right_max[-1] = nums[-1]\n",
    "\n",
    "        for i in range(len(nums) - 2, 0, -1):\n",
    "            cur_sum = max(cur_sum + nums[i], nums[i])\n",
    "            max_sum = max(max_sum, cur_sum)\n",
    "            right_max[i] = max_sum\n",
    "\n",
    "        max_sum = - maxint\n",
    "        for i in range(0, len(nums) - 1):\n",
    "            max_sum = max(max_sum, left_max[i] + right_max[i + 1])\n",
    "\n",
    "        return max_sum\n",
    "\n",
    "    def maxSubArray(self, nums, k):\n",
    "        f = [[[-maxint for t in range(2)]\n",
    "              for j in range(k + 1)]\n",
    "             for i in range(len(nums) + 1)]\n",
    "        for i in range(1, len(nums) + 1):\n",
    "            f[i][0][0] = 0\n",
    "        for j in range(1, k + 1):\n",
    "            f[j][j][1] = sum(nums[:j])\n",
    "            for i in range(j + 1, len(nums) + 1):\n",
    "                f[i][j][0] = max(f[i - 1][j][0], f[i - 1][j][1])\n",
    "                f[i][j][1] = max(f[i - 1][j][1], f[i - 1][j - 1][0],\n",
    "                                 f[i - 1][j - 1][1]) + nums[i - 1]\n",
    "\n",
    "        return max(f[-1][-1])\n",
    "\n",
    "\n",
    "if __name__ ==\"__main__\":\n",
    "    s = Solution()\n",
    "    print s.maxProfit4(9, [12,3,7,4,5,13,2,8,4,7,6,5,7])"
   ]
  },
  {
   "cell_type": "markdown",
   "metadata": {
    "colab_type": "text",
    "id": "D7ZMJ9c1riV8"
   },
   "source": [
    "## 背包型动态规划\n",
    "\n",
    "\n",
    "特点：\n",
    "\t1. 用值作为DP维度\n",
    "\t2. DP过程就是填写矩阵\n",
    "\t3. 可以滚动数组优化\n",
    "Backpack\n",
    "\t1. State:\n",
    "\t\t○ f[i][S] “前i”个物品，取出一些能否组成和为S\n",
    "\t2. Function:\n",
    "\t\t○ f[i][S] = f[i-1][S - a[i]] or f[i-1][S]\n",
    "\t3. Intialize:\n",
    "\t\t○ f[i][0] = true; f[0][1..target] = false\n",
    "\t4. Answer:\n",
    "\t\t○ 检查所有的f[n][j]\n",
    "时间复杂度 O(n*S) ， 滚动数组优化\n",
    "\n",
    "\n",
    "\n"
   ]
  },
  {
   "cell_type": "markdown",
   "metadata": {
    "colab_type": "text",
    "id": "eLcEJ3Z6Ikwi"
   },
   "source": [
    "### Backpack I \n",
    "\n",
    "Backpack\n",
    "Given n items with size Ai, an integer m denotes the size of a backpack. How full you can fill this backpack?\n",
    "\n",
    "Example\n",
    "```\n",
    "If we have 4 items with size [2, 3, 5, 7], the backpack size is 11, we can select [2, 3, 5], so that the max size we can fill this backpack is 10. If the backpack size is 12. we can select [2, 3, 7] so that we can fulfill the backpack.\n",
    "```\n",
    "\n",
    "You function should return the max size we can fill in the given backpack.\n",
    "\n",
    "Challenge:\n",
    "\n",
    "> O(n x m) time and O(m) memory.\n",
    "\n",
    ">O(n x m) memory is also acceptable if you do not know how to optimize memory.\n",
    "\n",
    "Solution: 标准 01背包问题，如下规划方程，选择第i个物品，放还是不放到包里，看是不是能增加更多的重量。\n",
    "\n",
    "> $f_v = max(f_v, \\   f_{v-c_i} + w_i)$\n",
    "\n",
    "\n",
    "> \n",
    "\n",
    "*   要求恰好装满背包，那么在初始化时除了 f[0] 为 0，其它f[1::V ] 均设为 − maxsize这样就可以保证最终得到的 F[V ] 是一种恰好装满背包的最优解。\n",
    "*   如果并没有要求必须把背包装满，而是只希望价格尽量大，初始化时应该将 F[0::V ]\n",
    "全部设为 0\n",
    "*    初始化的 F 数组事实上就是在没有任何物品可以放入背包时的合法状态。如果要求背包恰好装满，那么此时只有容量为 0 的背包可以在什么也不装且价值为 0 的情况下被“恰好装满”，其它容量的背包均没有合法的解，属于未定义的状态，应该被赋值为 -∞ 了。\n",
    "* 如果背包并非必须被装满，那么任何容量的背包都有一个合法解“什么都不装”，这个解的价值为 0，所以初始时状态的值也就全部为 0了。"
   ]
  },
  {
   "cell_type": "code",
   "execution_count": null,
   "metadata": {
    "colab": {
     "base_uri": "https://localhost:8080/",
     "height": 103
    },
    "colab_type": "code",
    "id": "WzchCvuKIkKz",
    "outputId": "7d28b821-d53f-4cf2-c42f-2c63c732bdf2"
   },
   "outputs": [
    {
     "name": "stdout",
     "output_type": "stream",
     "text": [
      "[0, 0, 2, 2, 2, 2, 2, 2, 2, 2, 2, 2]\n",
      "[0, 0, 2, 3, 3, 5, 5, 5, 5, 5, 5, 5]\n",
      "[0, 0, 2, 3, 3, 5, 5, 7, 8, 8, 10, 10]\n",
      "[0, 0, 2, 3, 3, 5, 5, 7, 8, 9, 10, 10]\n",
      "10\n"
     ]
    }
   ],
   "source": [
    "class Solution:\n",
    "    \"\"\"\n",
    "    @param m: An integer m denotes the size of a backpack\n",
    "    @param A: Given n items with size A[i]\n",
    "    @return: The maximum size\n",
    "    \"\"\"\n",
    "    def backPack(self, m, A):\n",
    "        f = [0 for _ in range(m+1)] # dp[v] stands for v size package to fill\n",
    "        f[0] = 0  \n",
    "        for i in range(len(A)):\n",
    "            for v in range(m, A[i]-1, -1): # C[i] = A[i] for any i\n",
    "                f[v] = max(f[v], f[v-A[i]] + A[i]) \n",
    "            print f\n",
    "        return f[m]\n",
    "\n",
    "if __name__ == \"__main__\":\n",
    "    s = Solution()\n",
    "    m = 11\n",
    "    A = [2, 3, 5, 7]\n",
    "    print s.backPack(m, A) \n"
   ]
  },
  {
   "cell_type": "markdown",
   "metadata": {
    "colab_type": "text",
    "id": "JFIkwsC0Qc9I"
   },
   "source": [
    "### Backpack II, III \n",
    "\n",
    "Given n items with size Ai and value Vi, and a backpack with size m. What's the maximum value can you put into the backpack?\n",
    "\n",
    "Example\n",
    "```\n",
    "Given 4 items with size [2, 3, 5, 7] and value [1, 5, 2, 4], and a backpack with size 10. The maximum value is 9.\n",
    "```\n",
    "Challenge\n",
    "O(n x m) memory is acceptable, can you do it in O(m) memory?"
   ]
  },
  {
   "cell_type": "code",
   "execution_count": null,
   "metadata": {
    "colab": {
     "base_uri": "https://localhost:8080/",
     "height": 120
    },
    "colab_type": "code",
    "id": "VgF3HJspK6Ky",
    "outputId": "2dbceb77-c61a-483b-a625-d4f7b799b117"
   },
   "outputs": [
    {
     "name": "stdout",
     "output_type": "stream",
     "text": [
      "[0, 0, 1, 5, 5, 6, 6, 6, 7, 7, 9]\n",
      "9\n",
      "[0, 0, 1, 5, 5, 6, 10, 10, 11, 15, 15]\n",
      "15\n",
      "[0, -65535, 1, 5, 2, 6, 10, 7, 11, 15, 12]\n",
      "12\n"
     ]
    }
   ],
   "source": [
    "class Solution:\n",
    "    \"\"\"\n",
    "    @param m: An integer m denotes the size of a backpack\n",
    "    @param A: Given n items with size A[i]\n",
    "    @param V: Given n items with value V[i]\n",
    "    @return: The maximum value\n",
    "    \"\"\"\n",
    "    def backPackII(self, m, A, V):\n",
    "        f = [0 for _ in range(m+1)]\n",
    "        for i in range(len(A)):\n",
    "            for v in range(m, A[i]-1 , -1):\n",
    "                f[v] = max(f[v], f[v - A[i]] + V[i])\n",
    "        print f\n",
    "        return f[m]\n",
    "    \n",
    "    def backPackIII(self, m, A, V):\n",
    "        f = [0 for _ in range(m+1)]\n",
    "        for i in range(len(A)):\n",
    "            for v in range(A[i], m+1):\n",
    "                f[v] = max(f[v], f[v - A[i]] + V[i])\n",
    "        print f\n",
    "        return f[m]\n",
    "      \n",
    "    def backPackIII_full(self, m, A, V):\n",
    "        f = [ -65535 for _ in range(m+1)]\n",
    "        f[0] = 0\n",
    "        for i in range(len(A)):\n",
    "            for v in range(A[i], m+1):\n",
    "                f[v] = max(f[v], f[v-A[i]] + V[i])\n",
    "        print f\n",
    "        return f[m]\n",
    "      \n",
    "if __name__ == \"__main__\":\n",
    "    A = [2, 3, 5, 7]\n",
    "    V = [1, 5, 2, 4]\n",
    "    s = Solution()\n",
    "    print s.backPackII(10, A, V)\n",
    "    print s.backPackIII(10, A, V)\n",
    "    print s.backPackIII_full(10, A, V)"
   ]
  },
  {
   "cell_type": "markdown",
   "metadata": {
    "colab_type": "text",
    "id": "L2EP-hYawE17"
   },
   "source": [
    "### Backpack IV, V, VI\n",
    "\n",
    "Given n items with size nums[i] which an integer array and all positive numbers, no duplicates. An integer target denotes the size of a backpack. Find the number of possible fill the backpack.\n",
    "\n",
    "\n",
    "> IV: 重复选择+唯一排列+装满可能性总数\n",
    "\n",
    "> V:  单次选择+装满可能性总数\n",
    "\n",
    "> VI: 重复选择+不同排列+装满可能性总数 = Combination Sum IV\n",
    "\n",
    "\n",
    "Notes: II~V 能够用一维dp表示的本质其实是因为当前行的值只和上一行有关，因此用动态数组两行就行，如果直接在上一行更新当前行的状态则只需要一行即可，因此其本质就是还是二维dp。但是VI真的是一维dp，即当前容量的填装数量只和之前容量填装的结果有关，只不过每次填装都要遍历整个nums数组来寻找相关的之前容量的状态，因此要用两重for循环。\n",
    "\n"
   ]
  },
  {
   "cell_type": "code",
   "execution_count": null,
   "metadata": {
    "colab": {
     "base_uri": "https://localhost:8080/",
     "height": 120
    },
    "colab_type": "code",
    "id": "2qx0DfmW8unO",
    "outputId": "a6b218df-ebcf-41c7-f9b6-be775428c66a"
   },
   "outputs": [
    {
     "name": "stdout",
     "output_type": "stream",
     "text": [
      "[1, 1, 2, 2, 4]\n",
      "4\n",
      "[1, 1, 1, 1, 1]\n",
      "1\n",
      "[1, 1, 2, 3, 6]\n",
      "6\n"
     ]
    }
   ],
   "source": [
    "class Solution:\n",
    "  \n",
    "  \n",
    "    def backpackIV(self, nums, target):\n",
    "        dp = [0 for _ in range(target + 1)]\n",
    "        dp[0] = 1\n",
    "        for num in nums:\n",
    "            for j in range(num, target+1):\n",
    "                dp[j] += dp[j-num]\n",
    "        print dp\n",
    "        return dp[target]\n",
    "  \n",
    "    def backpackV(self, nums, target):\n",
    "        dp = [0 for _ in range(target + 1)]\n",
    "        dp[0] = 1\n",
    "        for num in nums:\n",
    "            for j in range(target, num-1, -1):\n",
    "                dp[j] += dp[j-num]\n",
    "        print dp\n",
    "        return dp[target]\n",
    "  \n",
    "    def backpackVI(self, nums, target):\n",
    "        dp = [0 for _ in range(target + 1)]\n",
    "        dp[0] = 1\n",
    "        for j in range(1, target+1):\n",
    "            for num in nums:  \n",
    "                if num <= j:\n",
    "                    dp[j] += dp[j-num]\n",
    "        print dp\n",
    "        return dp[target]\n",
    "  \n",
    "  \n",
    "if __name__ == \"__main__\":  \n",
    "    print Solution().backpackIV([1,2,4], 4)\n",
    "    print Solution().backpackV([1,2,4], 4)\n",
    "    print Solution().backpackVI([1,2,4], 4)\n",
    "    \n",
    "    "
   ]
  },
  {
   "cell_type": "markdown",
   "metadata": {
    "colab_type": "text",
    "id": "3we7BBI12u4i"
   },
   "source": [
    "### K sum\n",
    "Description\n",
    "Given n distinct positive integers, integer k (k <= n) and a number target.\n",
    "Find k numbers where sum is target. Calculate how many solutions there are?\n",
    "\n",
    "```\n",
    "Example\n",
    "Given [1,2,3,4], k = 2, target = 5.\n",
    "There are 2 solutions: [1,4] and [2,3].\n",
    "Return 2.\n",
    "```\n",
    "\n",
    "$ f[i][j][t] = f[i-1][j][t] +f[i-1][j-1][t-nums[i]]$"
   ]
  },
  {
   "cell_type": "code",
   "execution_count": null,
   "metadata": {
    "colab": {
     "base_uri": "https://localhost:8080/",
     "height": 120
    },
    "colab_type": "code",
    "id": "xFlX8S637iC3",
    "outputId": "176c4455-7576-41ef-86a8-b5b6369f9b75"
   },
   "outputs": [
    {
     "name": "stdout",
     "output_type": "stream",
     "text": [
      "[[1, 0, 0, 0, 0, 0], [0, 0, 0, 0, 0, 0], [0, 0, 0, 0, 0, 0]]\n",
      "[[1, 0, 0, 0, 0, 0], [0, 1, 0, 0, 0, 0], [0, 0, 0, 0, 0, 0]]\n",
      "[[1, 0, 0, 0, 0, 0], [0, 1, 1, 0, 0, 0], [0, 0, 0, 1, 0, 0]]\n",
      "[[1, 0, 0, 0, 0, 0], [0, 1, 1, 1, 0, 0], [0, 0, 0, 1, 1, 1]]\n",
      "[[1, 0, 0, 0, 0, 0], [0, 1, 1, 1, 1, 0], [0, 0, 0, 1, 1, 2]]\n",
      "2\n"
     ]
    }
   ],
   "source": [
    "class Solution:\n",
    "    def ksum(self, nums, k, target):\n",
    "        f = [[[0 for t in range(target+1)]\n",
    "                 for j in range(k+1)]\n",
    "                 for i in range(len(nums)+1)]\n",
    "\n",
    "        for i in range(len(nums)+1):\n",
    "            f[i][0][0] = 1 # for any i, select 0 item and sum 0 solution is 1 \n",
    "\n",
    "        for i in range(1, len(nums)+1):\n",
    "            for j in range(1, min(i,k)+1):\n",
    "                for t in range(target+1):\n",
    "                    if t >= nums[i-1]:\n",
    "                        f[i][j][t] = ( f[i-1][j][t] + \n",
    "                                       f[i-1][j-1][t-nums[i-1]] )\n",
    "                    else:\n",
    "                        f[i][j][t] = f[i-1][j][t]\n",
    "        for _ in f:\n",
    "            print _\n",
    "        return f[-1][-1][-1]\n",
    "    \n",
    "if __name__ == \"__main__\":\n",
    "    print Solution().ksum([1,2,3,4], 2, 5)"
   ]
  },
  {
   "cell_type": "markdown",
   "metadata": {
    "colab_type": "text",
    "id": "V6qqi51lBT_M"
   },
   "source": [
    "## 序列型\n",
    "\n",
    "求最长上升子序列，连续自序里，二维子序列"
   ]
  },
  {
   "cell_type": "markdown",
   "metadata": {
    "colab_type": "text",
    "id": "py16mejRugor"
   },
   "source": [
    "### Longest Palindromic Subsequence\n",
    "\n",
    "Description\n",
    "Given a string s, find the longest palindromic subsequence's length in s. You may assume that the maximum length of s is 1000.\n",
    "\n",
    "Have you met this question in a real interview?  \n",
    "```\n",
    "Example\n",
    "Given s = \"bbbab\" return 4\n",
    "One possible longest palindromic subsequence is \"bbbb\".\n",
    "```\n",
    "\n",
    "Solution:\n",
    "```\n",
    "dp[i][j]: the longest palindromic subsequence's length of substring(i, j)\n",
    "\n",
    "State transition:\n",
    "dp[i][j] = dp[i+1][j-1] + 2 if s.charAt(i) == s.charAt(j)\n",
    "\n",
    "otherwise, dp[i][j] = Math.max(dp[i+1][j], dp[i][j-1])\n",
    "Initialization: dp[i][i] = 1\n",
    "\n",
    "```"
   ]
  },
  {
   "cell_type": "code",
   "execution_count": null,
   "metadata": {
    "colab": {
     "base_uri": "https://localhost:8080/",
     "height": 34
    },
    "colab_type": "code",
    "id": "VOkztxx4vThc",
    "outputId": "9c2c6b07-e759-4429-fd5c-4447d7c0faaf"
   },
   "outputs": [
    {
     "name": "stdout",
     "output_type": "stream",
     "text": [
      "4\n"
     ]
    }
   ],
   "source": [
    "class Solution(object):\n",
    "    \"\"\"\n",
    "    @param s: the maximum length of s is 1000\n",
    "    @return: the longest palindromic subsequence's length\n",
    "    \"\"\"\n",
    "    def longestPalindromeSubseq(self, s):\n",
    "        if s == \"\":\n",
    "            return 0\n",
    "        f = [[0 for j in range(len(s))] \n",
    "                for i in range(len(s))]\n",
    "        for i in range(len(s)-1, -1, -1):\n",
    "            f[i][i] = 1 \n",
    "            for j in range(i+1, len(s)):\n",
    "                if s[i] == s[j]:\n",
    "                    f[i][j] = f[i+1][j-1] + 2\n",
    "                else:\n",
    "                    f[i][j] = max(f[i+1][j], f[i][j-1])\n",
    "        \n",
    "        return f[0][-1]\n",
    "    \n",
    "    \n",
    "if __name__ == \"__main__\":\n",
    "    print Solution().longestPalindromeSubseq('bbbab')\n",
    "        "
   ]
  },
  {
   "cell_type": "markdown",
   "metadata": {
    "colab_type": "text",
    "id": "TaV4Ev06uiK7"
   },
   "source": [
    "### Longest Palindromic Substring\n"
   ]
  },
  {
   "cell_type": "code",
   "execution_count": null,
   "metadata": {
    "colab": {
     "base_uri": "https://localhost:8080/",
     "height": 34
    },
    "colab_type": "code",
    "id": "JTh0tr_OHapI",
    "outputId": "f264bee7-2db0-4990-b0fa-b9a817cc09f7"
   },
   "outputs": [
    {
     "name": "stdout",
     "output_type": "stream",
     "text": [
      "abba\n"
     ]
    }
   ],
   "source": [
    "class Solution:\n",
    "    \"\"\"\n",
    "    @param s: input string\n",
    "    @return: the longest palindromic substring\n",
    "    \"\"\"\n",
    "    def longestPalindrome(self, s):\n",
    "        res = \"\"\n",
    "        for i in xrange(len(s)):\n",
    "            # odd case, like \"aba\"\n",
    "            tmp = self.helper(s, i, i)\n",
    "            if len(tmp) > len(res):\n",
    "                res = tmp\n",
    "            # even case, like \"abba\"\n",
    "            tmp = self.helper(s, i, i+1)\n",
    "            if len(tmp) > len(res):\n",
    "                res = tmp\n",
    "        return res\n",
    "\n",
    "    # get the longest palindrome, l, r are the middle indexes   \n",
    "    # from inner to outer\n",
    "    def helper(self, s, l, r):\n",
    "        while l >= 0 and r < len(s) and s[l] == s[r]:\n",
    "            l -= 1; r += 1\n",
    "        return s[l+1:r]\n",
    "\n",
    "if __name__ == \"__main__\":\n",
    "    print Solution().longestPalindrome('abbac')\n",
    "        \n",
    "        "
   ]
  },
  {
   "cell_type": "markdown",
   "metadata": {
    "colab_type": "text",
    "id": "_v7gFBfvBo1N"
   },
   "source": [
    "### Longest Increasing Subsequence\n",
    "Description\n",
    "Given a sequence of integers, find the longest increasing subsequence (LIS).\n",
    "\n",
    "You code should return the length of the LIS.\n",
    "\n",
    "\n",
    "Clarification\n",
    "What's the definition of longest increasing subsequence?\n",
    "\n",
    "The longest increasing subsequence problem is to find a subsequence of a given sequence in which the subsequence's elements are in sorted order, lowest to highest, and in which the subsequence is as long as possible. This subsequence is not necessarily contiguous, or unique.\n",
    "\n",
    "https://en.wikipedia.org/wiki/Longest_increasing_subsequence\n",
    "\n",
    "Example\n",
    "\n",
    "\n",
    "```\n",
    "For [5, 4, 1, 2, 3], the LIS is [1, 2, 3], return 3\n",
    "For [4, 2, 4, 5, 3, 7], the LIS is [2, 4, 5, 7], return 4\n",
    "```\n",
    "\n",
    "\n",
    "\n",
    "Challenge\n",
    "Time complexity O(n^2) or O(nlogn)"
   ]
  },
  {
   "cell_type": "code",
   "execution_count": null,
   "metadata": {
    "colab": {
     "base_uri": "https://localhost:8080/",
     "height": 185
    },
    "colab_type": "code",
    "id": "8YzBlqlRBqBt",
    "outputId": "ed9137a9-dc41-4be4-968c-2cda70a9af88"
   },
   "outputs": [
    {
     "name": "stdout",
     "output_type": "stream",
     "text": [
      "[1]\n",
      "[1, 2]\n",
      "[1, 2]\n",
      "[1, 2, 3]\n",
      "[1, 2, 3]\n",
      "[1, 2, 3, 4]\n",
      "[1, 2, 3, 4]\n",
      "[1, 2, 3, 4, 5]\n",
      "[1, 2, 3, 4, 5, 6]\n",
      "6\n"
     ]
    }
   ],
   "source": [
    "class Solution:\n",
    "    \"\"\"\n",
    "    @param nums: An integer array\n",
    "    @return: The length of LIS (longest increasing subsequence)\n",
    "    \"\"\"\n",
    "    \n",
    "    # O(n^2) method\n",
    "    def longestIncreasingSubsequence(self, nums):\n",
    "        if len(nums) <= 1:\n",
    "            return len(nums)\n",
    "        n = len(nums)\n",
    "        # dp[i] stands for len of LIS of dp[:i], 0 index\n",
    "        dp = [1 for i in range(n)]\n",
    "        for i in range(1, n):\n",
    "            for j in range(0, i):\n",
    "                if nums[j] < nums[i]:\n",
    "                    dp[i] = max(dp[i], dp[j] + 1) # dp function\n",
    "        return max(dp)\n",
    "    \n",
    "    # O(nlogn) method\n",
    "    def lis(self, nums):\n",
    "        if len(nums) <= 1:\n",
    "            return len(nums)\n",
    "        import bisect\n",
    "        dp = []\n",
    "        maxlen = 0\n",
    "        for n in nums:\n",
    "            i = bisect.bisect_left(dp, n)\n",
    "            if i == len(dp):\n",
    "                dp.append(n)\n",
    "            else:\n",
    "                dp[i] = n\n",
    "            print dp\n",
    "            maxlen = maxlen + 1 if maxlen == i else maxlen\n",
    "        return maxlen\n",
    "    \n",
    "    \n",
    "if __name__ == \"__main__\":\n",
    "    sample = [1,2,1,3,1,4,3,5,6]\n",
    "    print Solution().lis(sample) "
   ]
  },
  {
   "cell_type": "markdown",
   "metadata": {
    "colab_type": "text",
    "id": "eZmxl1TJCNhF"
   },
   "source": [
    "### 398. Longest Continuous Increasing Subsequence II\n",
    "Give you an integer matrix (with row size n, column size m)，find the longest increasing continuous subsequence in this matrix. (The definition of the longest increasing continuous subsequence here can start at any row or column and go up/down/right/left any direction).\n",
    "\n",
    "```\n",
    "Example\n",
    "Given a matrix:\n",
    "\n",
    "[\n",
    "  [1 ,2 ,3 ,4 ,5],\n",
    "  [16,17,24,23,6],\n",
    "  [15,18,25,22,7],\n",
    "  [14,19,20,21,8],\n",
    "  [13,12,11,10,9]\n",
    "]\n",
    "return 25\n",
    "\n",
    "Challenge\n",
    "O(nm) time and memory.\n",
    "```"
   ]
  },
  {
   "cell_type": "code",
   "execution_count": null,
   "metadata": {
    "colab": {
     "base_uri": "https://localhost:8080/",
     "height": 34
    },
    "colab_type": "code",
    "id": "8we_oclxCPS0",
    "outputId": "aca22922-19d3-4303-c721-c66ba585bbe7"
   },
   "outputs": [
    {
     "name": "stdout",
     "output_type": "stream",
     "text": [
      "25\n"
     ]
    }
   ],
   "source": [
    "class Solution:\n",
    "    \"\"\"\n",
    "    @param matrix: A 2D-array of integers\n",
    "    @return: an integer\n",
    "    \"\"\"\n",
    "    def lcis(self, A):\n",
    "        if len(A) == 0 or len(A[0]) == 0:\n",
    "            return 0\n",
    "        m, n = len(A), len(A[0])\n",
    "        \n",
    "        visited = [[0 for j in range(n)]\n",
    "                      for i in range(m)]\n",
    "        \n",
    "        dp = [[1 for j in range(n)]\n",
    "                 for i in range(m)] \n",
    "        \n",
    "        directions = [(1,0), (-1,0), (0,1), (0,-1)]\n",
    "        \n",
    "        def helper(x, y):\n",
    "            if dp[x][y] != 1:\n",
    "                return dp[x][y]\n",
    "            \n",
    "            for dx, dy in directions:\n",
    "                xd, yd = x + dx, y + dy\n",
    "                if 0 <= xd < m and 0 <= yd < n and A[xd][yd] > A[x][y]:\n",
    "                    dp[x][y] = max(dp[x][y], helper(xd, yd) + 1)\n",
    "            \n",
    "            return dp[x][y]\n",
    "        \n",
    "        ans = 1 \n",
    "        for i in range(m):\n",
    "            for j in range(n):\n",
    "                dp[i][j] = helper(i, j)\n",
    "                ans = max(ans, dp[i][j])\n",
    "        \n",
    "        return ans\n",
    "    \n",
    "if __name__ == \"__main__\":\n",
    "    s = Solution()\n",
    "    print s.lcis([\n",
    "  [1 ,2 ,3 ,4 ,5],\n",
    "  [16,17,24,23,6],\n",
    "  [15,18,25,22,7],\n",
    "  [14,19,20,21,8],\n",
    "  [13,12,11,10,9]\n",
    "])\n",
    "                    \n",
    "        "
   ]
  },
  {
   "cell_type": "markdown",
   "metadata": {
    "colab_type": "text",
    "id": "i0kH2qePPdmi"
   },
   "source": [
    "### 436. Maximal Square\n",
    "Given a 2D binary matrix filled with 0's and 1's, find the largest square containing all 1's and return its area.\n",
    "```\n",
    "Example\n",
    "For example, given the following matrix:\n",
    "\n",
    "1 0 1 0 0\n",
    "1 0 1 1 1\n",
    "1 1 1 1 1\n",
    "1 0 0 1 0\n",
    "Return 4.\n",
    "```"
   ]
  },
  {
   "cell_type": "code",
   "execution_count": null,
   "metadata": {
    "colab": {
     "base_uri": "https://localhost:8080/",
     "height": 102
    },
    "colab_type": "code",
    "id": "ycDGgcKiPgGF",
    "outputId": "93da7bf0-0c13-45bf-e670-9de4af25f7ae"
   },
   "outputs": [
    {
     "name": "stdout",
     "output_type": "stream",
     "text": [
      "[1, 0, 1, 0, 0]\n",
      "[1, 0, 1, 1, 1]\n",
      "[1, 1, 1, 2, 2]\n",
      "[1, 0, 0, 1, 0]\n",
      "4\n"
     ]
    }
   ],
   "source": [
    "class Solution:\n",
    "    \"\"\"\n",
    "    @param matrix: a matrix of 0 and 1\n",
    "    @return: an integer\n",
    "    \"\"\"\n",
    "    def maxSquare(self, matrix):\n",
    "        if len(matrix) == 0 or len(matrix[0]) == 0:\n",
    "            return 0\n",
    "        m, n = len(matrix), len(matrix[0])\n",
    "        f = [[matrix[i][j] for j in range(n)]\n",
    "                           for i in range(m)]\n",
    "\n",
    "        for i in range(1, m):\n",
    "            for j in range(1, n):\n",
    "                if matrix[i][j] == 1:\n",
    "                    f[i][j] = min(f[i-1][j-1], f[i][j-1], f[i-1][j]) + 1\n",
    "                    \n",
    "\n",
    "        res = max(map(max, f))\n",
    "        for _ in f:\n",
    "            print _\n",
    "\n",
    "        return res * res\n",
    "\n",
    "\n",
    "if __name__ == \"__main__\":\n",
    "    s = Solution()\n",
    "    sample = [[1,0,1,0,0],[1,0,1,1,1],[1,1,1,1,1],[1,0,0,1,0]]    \n",
    "    print s.maxSquare(sample)"
   ]
  },
  {
   "cell_type": "markdown",
   "metadata": {
    "colab_type": "text",
    "id": "0CueDw8pBjes"
   },
   "source": []
  },
  {
   "cell_type": "markdown",
   "metadata": {
    "colab_type": "text",
    "id": "CGyiXeYXupc0"
   },
   "source": [
    "### Shortest Palindrome"
   ]
  },
  {
   "cell_type": "markdown",
   "metadata": {
    "colab_type": "text",
    "id": "Yb7nRoyVu2JV"
   },
   "source": [
    "### Palindrome Pairs"
   ]
  },
  {
   "cell_type": "markdown",
   "metadata": {
    "colab_type": "text",
    "id": "bIFNuMmArjAl"
   },
   "source": [
    "## 博弈型动态规划\n",
    "\n",
    "\n",
    "博弈有先后手\n",
    "\t1. State:\n",
    "\t\t○ 定义一个人的状态\n",
    "\t2. Function:\n",
    "\t\t○ 考虑两个人的状态做状态更新\n",
    "\t3. Initialize:\n",
    "\t4. Answer:\n",
    "先思考最小状态, 然后思考大的状态-> 往小的递推，那么非常适合记忆化搜索\n"
   ]
  },
  {
   "cell_type": "markdown",
   "metadata": {
    "colab_type": "text",
    "id": "y14X2VFTIHqQ"
   },
   "source": [
    "### 394. Coins in a Line\n",
    "There are n coins in a line. Two players take turns to take one or two coins from right side until there are no more coins left. The player who take the last coin wins.\n",
    "\n",
    "Could you please decide the first play will win or lose?\n",
    "```\n",
    "Example\n",
    "n = 1, return true.\n",
    "\n",
    "n = 2, return true.\n",
    "\n",
    "n = 3, return false.\n",
    "\n",
    "n = 4, return true.\n",
    "\n",
    "n = 5, return true.\n",
    "\n",
    "Challenge\n",
    "O(n) time and O(1) memory\n",
    "```"
   ]
  },
  {
   "cell_type": "code",
   "execution_count": null,
   "metadata": {
    "colab": {},
    "colab_type": "code",
    "id": "dUJdSUigIHRr"
   },
   "outputs": [],
   "source": [
    "class Solution:\n",
    "    \"\"\"\n",
    "    @param n: An integer\n",
    "    @return: A boolean which equals to true if the first player will win\n",
    "    \"\"\"\n",
    "    def firstWillWin(self, n):\n",
    "        while n > 0:\n",
    "            if n <= 2:\n",
    "                return True\n",
    "            n -= 3 \n",
    "        return False \n"
   ]
  },
  {
   "cell_type": "markdown",
   "metadata": {
    "colab_type": "text",
    "id": "pGCNTn_CJFtq"
   },
   "source": [
    "### 395. Coins in a Line II\n",
    "There are n coins with different value in a line. Two players take turns to take one or two coins from left side until there are no more coins left. The player who take the coins with the most value wins.\n",
    "\n",
    "Could you please decide the first player will win or lose?\n",
    "```\n",
    "Example\n",
    "Given values array A = [1,2,2], return true.\n",
    "\n",
    "Given A = [1,2,4], return false.\n",
    "```"
   ]
  },
  {
   "cell_type": "code",
   "execution_count": null,
   "metadata": {
    "colab": {},
    "colab_type": "code",
    "id": "gq9oUjvWJJfx"
   },
   "outputs": [],
   "source": [
    "class Solution:\n",
    "    \"\"\"\n",
    "    @param values: a vector of integers\n",
    "    @return: a boolean which equals to true if the first player will win\n",
    "    \"\"\"\n",
    "    def firstWillWin(self, values):\n",
    "        if len(values) < 3:\n",
    "            return True\n",
    "        n = len(values)\n",
    "        dp = [0 for i in range(n+1)]\n",
    "        dp[n-1] = values[n-1]\n",
    "        dp[n-2] = values[n-2] + values[n-1]\n",
    "        dp[n-3] = values[n-3] + values[n-2]\n",
    "\n",
    "        for i in range(n-4, -1, -1):\n",
    "            dp[i] = max(values[i] + min(dp[i+2], dp[i+3]),\n",
    "                        values[i] + values[i+1] + min(dp[i+3], dp[i+4]))\n",
    "\n",
    "        return sum(values) - dp[0] < dp[0]"
   ]
  },
  {
   "cell_type": "markdown",
   "metadata": {
    "colab_type": "text",
    "id": "K3CPAMk6JLqZ"
   },
   "source": [
    "### 396. Coins in a Line III\n",
    "There are n coins in a line. Two players take turns to take a coin from one of the ends of the line until there are no more coins left. The player with the larger amount of money wins.\n",
    "\n",
    "Could you please decide the first player will win or lose?\n",
    "```\n",
    "Example\n",
    "Given array A = [3,2,2], return true.\n",
    "\n",
    "Given array A = [1,2,4], return true.\n",
    "\n",
    "Given array A = [1,20,4], return false.\n",
    "\n",
    "Challenge\n",
    "Follow Up Question:\n",
    "\n",
    "If n is even. Is there any hacky algorithm that can decide whether first player will win or lose in O(1) memory and O(n) time?\n",
    "```"
   ]
  },
  {
   "cell_type": "code",
   "execution_count": null,
   "metadata": {
    "colab": {},
    "colab_type": "code",
    "id": "OeW4S8WRJRcd"
   },
   "outputs": [],
   "source": []
  },
  {
   "cell_type": "markdown",
   "metadata": {
    "colab_type": "text",
    "id": "qVBWSZY_AlTk"
   },
   "source": [
    "### 392. House Robber\n",
    "You are a professional robber planning to rob houses along a street. Each house has a certain amount of money stashed, the only constraint stopping you from robbing each of them is that adjacent houses have security system connected and it will automatically contact the police if two adjacent houses were broken into on the same night.\n",
    "\n",
    "Given a list of non-negative integers representing the amount of money of each house, determine the maximum amount of money you can rob tonight without alerting the police.\n",
    "```\n",
    "Example\n",
    "Given [3, 8, 4], return 8.\n",
    "\n",
    "Challenge\n",
    "O(n) time and O(1) memory.\n",
    "```"
   ]
  },
  {
   "cell_type": "code",
   "execution_count": null,
   "metadata": {
    "colab": {},
    "colab_type": "code",
    "id": "mfC2GtthAlEk"
   },
   "outputs": [],
   "source": [
    "class Solution(object):\n",
    "\n",
    "    def houseRobber(self, arr):\n",
    "        if len(arr) == 0:\n",
    "            return 0\n",
    "        if len(arr) <= 2:\n",
    "            return max(arr)\n",
    "        n = len(arr)\n",
    "\n",
    "        dp = [0 for i in range(n)]\n",
    "        dp[0] = arr[0]\n",
    "        dp[1] = max(arr[0], arr[1])\n",
    "        for i in range(2, n):\n",
    "            dp[i] = max(arr[i] + dp[i-2], dp[i-1])\n",
    "\n",
    "        return dp[-1]"
   ]
  },
  {
   "cell_type": "markdown",
   "metadata": {
    "colab_type": "text",
    "id": "22MYFTWG_2gM"
   },
   "source": [
    "### 534. House Robber II\n",
    "After robbing those houses on that street, the thief has found himself a new place for his thievery so that he will not get too much attention. This time, all houses at this place are arranged in a circle. That means the first house is the neighbor of the last one. Meanwhile, the security system for these houses remain the same as for those in the previous street.\n",
    "\n",
    "Given a list of non-negative integers representing the amount of money of each house, determine the maximum amount of money you can rob tonight without alerting the police.\n",
    "```\n",
    "Example\n",
    "nums = [3,6,4], return 6\n",
    "\n",
    "Notice\n",
    "This is an extension of House Robber.\n",
    "```"
   ]
  },
  {
   "cell_type": "code",
   "execution_count": null,
   "metadata": {
    "colab": {},
    "colab_type": "code",
    "id": "V2O5nSduACj8"
   },
   "outputs": [],
   "source": [
    "class Solution:\n",
    "    # param nums: A list of non-negative integers.\n",
    "    # return: an integer\n",
    "    def houseRobber2(self, nums):\n",
    "        # write your code here\n",
    "        n = len(nums)\n",
    "        if n == 0:\n",
    "            return 0\n",
    "        if n == 1:\n",
    "            return nums[0]\n",
    "\n",
    "        dp = [0] * n\n",
    "        \n",
    "        dp[0], dp[1] = 0, nums[1]\n",
    "        for i in xrange(2, n):\n",
    "            dp[i] = max(dp[i - 2] + nums[i], dp[i - 1])\n",
    "\n",
    "        answer = dp[n - 1]\n",
    "\n",
    "        dp[0], dp[1] = nums[0], max(nums[0], nums[1])\n",
    "        for i in xrange(2, n):\n",
    "            dp[i] = max(dp[i - 2] + nums[i], dp[i - 1])\n",
    "\n",
    "        return max(dp[n - 2], answer)"
   ]
  },
  {
   "cell_type": "markdown",
   "metadata": {
    "colab_type": "text",
    "id": "7xSpUm8h_kou"
   },
   "source": [
    "### 535. House Robber III\n",
    "The thief has found himself a new place for his thievery again. There is only one entrance to this area, called the \"root.\" Besides the root, each house has one and only one parent house. After a tour, the smart thief realized that \"all houses in this place forms a binary tree\". It will automatically contact the police if two directly-linked houses were broken into on the same night.\n",
    "\n",
    "Determine the maximum amount of money the thief can rob tonight without alerting the police.\n",
    "```\n",
    "Example\n",
    "  3\n",
    " / \\\n",
    "2   3\n",
    " \\   \\ \n",
    "  3   1\n",
    "Maximum amount of money the thief can rob = 3 + 3 + 1 = 7.\n",
    "\n",
    "    3\n",
    "   / \\\n",
    "  4   5\n",
    " / \\   \\ \n",
    "1   3   1\n",
    "Maximum amount of money the thief can rob = 4 + 5 = 9.\n",
    "```"
   ]
  },
  {
   "cell_type": "code",
   "execution_count": null,
   "metadata": {
    "colab": {},
    "colab_type": "code",
    "id": "QVJ1Wsrg_1Ub"
   },
   "outputs": [],
   "source": [
    "class Solution(object):\n",
    "    \n",
    "    def houseRobber3(self, root):\n",
    "        \n",
    "        def helper(node): # return [without node val, with node val]\n",
    "            if node is None:\n",
    "                return [0, 0]\n",
    "            \n",
    "            left, right = helper(node.left), helper(node.right)\n",
    "            return [max(left) + max(right), \n",
    "                    left[0] + right[0] + node.val]\n",
    "\n",
    "        return max(helper(root))\n"
   ]
  },
  {
   "cell_type": "markdown",
   "metadata": {
    "colab_type": "text",
    "id": "lYLiuO4O0_nz"
   },
   "source": [
    "## 海量数据类处理问题\n",
    "\n",
    "举一个常见的例子：求数组A和数组B的交集。\n",
    "\n",
    "这个问题看起来是一个算法问题，没错，我们通过 Hash 或者排序+二分法等方法可以十分容易的解决。你以为面试就到此为止了，而面试官马上跟进的问题，让你措手不及：求两个超大文件中 URLs 的交集，内存不足以放下所有 URLs。\n",
    "\n",
    "海量数据处理问题的考点\n",
    "“内存不足”，“文件超大” 通常是这类问题的因素。这里我们先不着急展开这个问题的解法，让我们看一看对于海量数据处理类问题，有哪些可能的考点：\n",
    "```\n",
    "算法方面：\n",
    "外排序算法（External Sorting）\n",
    "Map Reduce\n",
    "非精确算法\n",
    "概率算法\n",
    "哈希算法与哈希函数（Hash Function）\n",
    "\n",
    "数据结构方面：\n",
    "哈希表（Hash Table）\n",
    "堆（Heap）\n",
    "布隆过滤器（BloomFilter）\n",
    "位图（Bitmap）\n",
    "```\n",
    "最高频的 K 项（Top K Frequent Elements）\n",
    "在海量数据处理类问题中，最最高频的一类题，莫过于 Top K Frequent Elements 了。从这个问题开始，逐步揭开海量数据处理类问题的神秘面纱"
   ]
  },
  {
   "cell_type": "markdown",
   "metadata": {
    "colab_type": "text",
    "id": "rsEBgh2W1maM"
   },
   "source": [
    "### 547. Intersection of Two Arrays\n",
    "Given two arrays, write a function to compute their intersection.\n",
    "```\n",
    "Example\n",
    "Given nums1 = [1, 2, 2, 1], nums2 = [2, 2], return [2].\n",
    "\n",
    "Challenge\n",
    "Can you implement it in three different algorithms?\n",
    "```"
   ]
  },
  {
   "cell_type": "code",
   "execution_count": null,
   "metadata": {
    "colab": {},
    "colab_type": "code",
    "id": "Kq93elkp1lKK"
   },
   "outputs": [],
   "source": [
    "class Solution:\n",
    "    \n",
    "    \"\"\"\n",
    "    @param: nums1: an integer array\n",
    "    @param: nums2: an integer array\n",
    "    @return: an integer array\n",
    "    \"\"\"\n",
    "    def intersection(self, nums1, nums2):\n",
    "        set1 = set(nums1)\n",
    "        set2 = set(nums2)\n",
    "        \n",
    "        return list(set1 & set2)"
   ]
  },
  {
   "cell_type": "markdown",
   "metadata": {
    "colab_type": "text",
    "id": "BUdnBlQh9ZEZ"
   },
   "source": [
    "### 544. Top k Largest Numbers\n",
    "Given an integer array, find the top k largest numbers in it.\n",
    "```\n",
    "Example\n",
    "Given [3,10,1000,-99,4,100] and k = 3.\n",
    "Return [1000, 100, 10].\n",
    "```"
   ]
  },
  {
   "cell_type": "code",
   "execution_count": null,
   "metadata": {
    "colab": {},
    "colab_type": "code",
    "id": "J66I3f683nqt"
   },
   "outputs": [],
   "source": [
    "class Solution:\n",
    "    \"\"\"\n",
    "    @param nums: an integer array\n",
    "    @param k: An integer\n",
    "    @return: the top k largest numbers in array\n",
    "    \"\"\"\n",
    "    def topk(self, nums, k):\n",
    "        n = len(nums)\n",
    "        self.quickselect(nums, n-k)\n",
    "        return sorted(nums[n-k:], reverse=True)\n",
    "\n",
    "    def quickselect(self, nums, k, lo=None, hi=None):\n",
    "        lo = 0 if lo is None else lo\n",
    "        hi = len(nums)-1 if hi is None else hi\n",
    "        while True:\n",
    "            if lo == hi:\n",
    "                return nums[lo]\n",
    "            pvt = self.partition(nums, lo, hi)\n",
    "            if k == pvt:\n",
    "                return nums[k]\n",
    "            elif pvt > k:\n",
    "                hi = pvt - 1\n",
    "            else:\n",
    "                lo = pvt + 1\n",
    "\n",
    "    def partition(self, nums, lo=None, hi=None):\n",
    "        lo = 0 if lo is None else lo\n",
    "        hi = len(nums)-1 if hi is None else hi\n",
    "\n",
    "        pvt = lo\n",
    "        for i in range(lo, hi):\n",
    "            if nums[i] < nums[hi]:\n",
    "                nums[i], nums[pvt] = nums[pvt], nums[i]\n",
    "                pvt += 1\n",
    "        nums[hi], nums[pvt] = nums[pvt], nums[hi]\n",
    "        return pvt"
   ]
  },
  {
   "cell_type": "markdown",
   "metadata": {
    "colab_type": "text",
    "id": "BXn_X8733tX0"
   },
   "source": [
    "### 545. Top k Largest Numbers II\n",
    "Implement a data structure, provide two interfaces:\n",
    "\n",
    "add(number). Add a new number in the data structure.\n",
    "topk(). Return the top k largest numbers in this data structure. k is given when we create the data structure.\n",
    "```\n",
    "Example\n",
    "s = new Solution(3);\n",
    ">> create a new data structure.\n",
    "s.add(3)\n",
    "s.add(10)\n",
    "s.topk()\n",
    ">> return [10, 3]\n",
    "s.add(1000)\n",
    "s.add(-99)\n",
    "s.topk()\n",
    ">> return [1000, 10, 3]\n",
    "s.add(4)\n",
    "s.topk()\n",
    ">> return [1000, 10, 4]\n",
    "s.add(100)\n",
    "s.topk()\n",
    ">> return [1000, 100, 10]\n",
    "```"
   ]
  },
  {
   "cell_type": "code",
   "execution_count": null,
   "metadata": {
    "colab": {},
    "colab_type": "code",
    "id": "sePzQxO13xoR"
   },
   "outputs": [],
   "source": [
    "from heapq import heappop, heappush\n",
    "class Solution:\n",
    "    \"\"\"\n",
    "    @param: k: An integer\n",
    "    \"\"\"\n",
    "    def __init__(self, k):\n",
    "        self.heap = []\n",
    "        self.k = k\n",
    "\n",
    "    \"\"\"\n",
    "    @param: num: Number to be added\n",
    "    @return: nothing\n",
    "    \"\"\"\n",
    "    def add(self, num):\n",
    "        if len(self.heap) < self.k:\n",
    "            heappush(self.heap, num)\n",
    "        else:\n",
    "            if self.heap[0] < num:\n",
    "                heappop(self.heap)\n",
    "                heappush(self.heap, num)\n",
    "    \"\"\"\n",
    "    @return: Top k element\n",
    "    \"\"\"\n",
    "    def topk(self):\n",
    "        ans = sorted(self.heap, reverse=True)\n",
    "        return ans"
   ]
  },
  {
   "cell_type": "markdown",
   "metadata": {
    "colab_type": "text",
    "id": "p0CaAY9O8p73"
   },
   "source": [
    "### 471. Top K Frequent Words\n",
    "Given a list of words and an integer k, return the top k frequent words in the list.\n",
    "```\n",
    "Example\n",
    "Given\n",
    "\n",
    "[\n",
    "    \"yes\", \"lint\", \"code\",\n",
    "    \"yes\", \"code\", \"baby\",\n",
    "    \"you\", \"baby\", \"chrome\",\n",
    "    \"safari\", \"lint\", \"code\",\n",
    "    \"body\", \"lint\", \"code\"\n",
    "]\n",
    "for k = 3, return [\"code\", \"lint\", \"baby\"].\n",
    "\n",
    "for k = 4, return [\"code\", \"lint\", \"baby\", \"yes\"],\n",
    "\n",
    "Challenge\n",
    "Do it in O(nlogk) time and O(n) extra space.\n",
    "```\n",
    "Note: O(n logk) with O(k) space "
   ]
  },
  {
   "cell_type": "code",
   "execution_count": 6,
   "metadata": {
    "colab": {
     "base_uri": "https://localhost:8080/",
     "height": 35
    },
    "colab_type": "code",
    "id": "hBS1ut8r82p-",
    "outputId": "79b867f3-b91f-4fd7-8c1e-dd9b095d387e"
   },
   "outputs": [
    {
     "name": "stdout",
     "output_type": "stream",
     "text": [
      "['yes', 'lint', 'code']\n",
      "['i', 'love']\n"
     ]
    }
   ],
   "source": [
    "class wordFreq(object):\n",
    "    def __init__(self, word, freq):\n",
    "        self.word = word\n",
    "        self.freq = freq\n",
    "\n",
    "    def __eq__(self, other):\n",
    "        return self.freq == other.freq and self.word == other.word\n",
    "    \n",
    "    def __lt__(self, other):\n",
    "        return (self.freq, other.word) < (other.freq, self.word)\n",
    "    \n",
    "    # python2 version\n",
    "    '''\n",
    "        def __cmp__(self, other):\n",
    "        if self.freq == other.freq:\n",
    "            if self.word < other.word:\n",
    "                return 1\n",
    "            else:\n",
    "                return -1\n",
    "        return self.freq - other.freq\n",
    "    '''\n",
    "    \n",
    "class Solution:\n",
    "    \"\"\"\n",
    "    @param words: an array of string\n",
    "    @param k: An integer\n",
    "    @return: an array of string\n",
    "    \"\"\"\n",
    "\n",
    "    def topKFrequentWords(self, words, k):\n",
    "        if k == 0:\n",
    "            return []\n",
    "        from collections import Counter\n",
    "        from heapq import heappop, heappush\n",
    "        count = Counter(words)\n",
    "        heap = []\n",
    "        for word, freq in count.items():\n",
    "            num = wordFreq(word, freq)\n",
    "            if len(heap) < k:\n",
    "                heappush(heap, num)\n",
    "            else:\n",
    "                if heap[0] < num:\n",
    "                    heappop(heap)\n",
    "                    heappush(heap, num)\n",
    "\n",
    "        ans = sorted(heap, reverse=True)\n",
    "        ans = [a.word for a in ans]\n",
    "        return ans\n",
    "\n",
    "\n",
    "if __name__ == \"__main__\":\n",
    "    words = [\"yes\", \"lint\", \"code\", \"yes\", \"code\", \"baby\", \"you\",\n",
    "             \"baby\", \"chrome\", \"safari\", \"lint\", \"code\", \"body\",\n",
    "             \"lint\", \"code\"]\n",
    "\n",
    "    s = Solution()\n",
    "    print(s.topKFrequentWords(words, 3))\n",
    "    print(s.topKFrequentWords([\"i\", \"love\", \"leetcode\", \"i\", \"love\", \"coding\"],2))\n"
   ]
  },
  {
   "cell_type": "code",
   "execution_count": null,
   "metadata": {},
   "outputs": [],
   "source": [
    "### Note for using compare in python 3\n",
    "class Person(object):\n",
    "\n",
    "    def __init__(self, firstname, lastname):\n",
    "        self.first = firstname\n",
    "        self.last = lastname\n",
    "\n",
    "    def __eq__(self, other):\n",
    "        return ((self.last, self.first) == (other.last, other.first))\n",
    "\n",
    "    def __ne__(self, other):\n",
    "        return ((self.last, self.first) != (other.last, other.first))\n",
    "\n",
    "    def __lt__(self, other):\n",
    "        return ((self.last, self.first) < (other.last, other.first))\n",
    "\n",
    "    def __le__(self, other):\n",
    "        return ((self.last, self.first) <= (other.last, other.first))\n",
    "\n",
    "    def __gt__(self, other):\n",
    "        return ((self.last, self.first) > (other.last, other.first))\n",
    "\n",
    "    def __ge__(self, other):\n",
    "        return ((self.last, self.first) >= (other.last, other.first))\n",
    "\n",
    "    def __repr__(self):\n",
    "        return \"%s %s\" % (self.first, self.last)"
   ]
  },
  {
   "cell_type": "markdown",
   "metadata": {
    "colab_type": "text",
    "id": "fenYvSzX0UkQ"
   },
   "source": [
    "### Follow up 1: 还有办法提速么？\n",
    "\n",
    "**难点**\n",
    "\n",
    "假如说摆在你面前的是上 T 的数据，就算是全部扫描一次，都会非常的慢。所以虽然时间复杂度 O(N log K) 看起来已经是理论的下限，但是是不是仍然可以想办法加速呢？\n",
    "\n",
    "\n",
    "**问题描述**\n",
    "\n",
    "这里假设你有若干个小文件（如果是一个很大的文件，可以先进行 split，分割为若干个小文件），他们加起来有 1T 那么大。每个文件中用空格隔开若干单词，你需要统计出现次数最多的 K 个单词。\n",
    "\n",
    "\n",
    "**分布式计算 Map Reduce**\n",
    "作为 Google 的三驾马车之一的 Map Reduce 系统，是用于进行分布式计算的。（另外的两个系统 Big Table 和 Google File System 都是用于分布式存储的）。Map Reduce 的基本思想很简单，就是通过 Map 这个步骤把通过多台机器并行将所有的数据都整理为 <Key, Value> 的二元组，然后Reduce 操作之前这套系统会按照 Key 的不同，将不同的 Key 分给不同的机器进行处理，比如可以简单的根据 hash(key) % 机器数 的方式来进行数据分配（这个过程叫做shuffle）。接下来，每台机器拿到数据之后，进行reduce合并统计的操作将同一个 Key 的数据进行处理。最终得到了每个 Key 的处理结果。\n",
    "\n",
    "**Map Reduce 有什么好？**\n",
    "\n",
    "Map Reduce 并没有结余实际上的计算时间总和，但是如果你有很多的计算资源的时候（很多台机器），你可以通过 Map Reduce 的框架利用多台机器同时计算，来优化性能进行提速。Map Reduce是一套通用的分布式计算框架。这样，对于很多类似的问题，工程师并不需要每次都去自己构思如何使用多台机器优化计算的算法，只需要套用这个通用框架，就可以快速的解决问题。（比如：矩阵分解问题，Page Rank搜索排序算法）\n",
    "\n",
    "**不使用 Map Reduce 单纯的分割文件分别统计行不行？**\n",
    "\n",
    "不行。如果单纯的将文件1丢给机器1，文件2丢给机器2，分别统计 Top K 之后再合并，这种方法是不行的。因为可能最高频的那一项分别出现在了文件1和文件2中，但是他在文件1和2里都没有挤进 Top K，那么统计结果就不对了。\n",
    "\n",
    "\n",
    "**最高频 K 项问题如何使用 Map Reduce？**\n",
    "\n",
    "通过 Map 步骤，将每一个文件中的单词一个个取出，每个单词构造一个 <Word, 1> 的 Key-value 二元组，作为 Map 的输出。\n",
    "通过 Reduce 的步骤，每个 Reducer（Reducer是处理reduce的机器） 会处理若干个不同的 Key，在每个 Reducer 一开始初始化的时候，构建一个最小堆（如最开始我们提到的算法），Reducer 在每次 Reduce 操作的时候，输入是 key（某个 word） 和他对应的values，其实这里我们可以假设 values 就是一堆 1（事实上 Map Reduce 会帮你做一些优化，导致有可能 value 已经被加过，所以实际处理的时候，还是老老实实的把 values 加起来，而不是看一下 values 有多少个）。那么我们把所有的 values 加起来就是当前这个 key（某个 word）的出现次数。那么当我们拿到这个单词的出现次数之后，就可以在当前的 Reducer 里去和最小堆里的第K大比大小，来决定是否淘汰当前的第K大了。Reducer 在处理完他需要处理的数据之后，就输出他得到的 Top K。\n",
    "由于可能有多个 Reducers（跟你同时运行的机器数有关，当然一台机器也可能会运行多个Reducer），因此我们会得到多个 Top K，最后还需要从这些输出中过一遍，得到最终的 Top K。这个步骤已经在 Map Reduce 之外了，用一个单独的代码扫一遍就可以了。\n",
    "\n",
    "\n",
    "### 549. Top K Frequent Words (Map Reduce)\n",
    "Find top k frequent words with map reduce framework.\n",
    "\n",
    "The mapper's key is the document id, value is the content of the document, words in a document are split by spaces.\n",
    "\n",
    "For reducer, the output should be at most k key-value pairs, which are the top k words and their frequencies in this reducer. The judge will take care about how to merge different reducers' results to get the global top k frequent words, so you don't need to care about that part.\n",
    "\n",
    "The k is given in the constructor of TopK class.\n",
    "```\n",
    "Example\n",
    "Given document A =\n",
    "\n",
    "lintcode is the best online judge\n",
    "I love lintcode\n",
    "and document B =\n",
    "\n",
    "lintcode is an online judge for coding interview\n",
    "you can test your code online at lintcode\n",
    "The top 2 words and their frequencies should be\n",
    "\n",
    "lintcode, 4\n",
    "online, 3\n",
    "```"
   ]
  },
  {
   "cell_type": "code",
   "execution_count": null,
   "metadata": {
    "colab": {},
    "colab_type": "code",
    "id": "An7rt6cL17uB"
   },
   "outputs": [],
   "source": [
    "class TopKFrequentWords:\n",
    "    "
   ]
  },
  {
   "cell_type": "markdown",
   "metadata": {
    "colab_type": "text",
    "id": "AHpm8-vo2j7J"
   },
   "source": [
    "# FB 问题"
   ]
  },
  {
   "cell_type": "markdown",
   "metadata": {
    "colab_type": "text",
    "id": "-B-UbRJ-2pUl"
   },
   "source": [
    "### 1350. Excel Sheet Column Title\n",
    "English\n",
    "Given a positive integer, return its corresponding column title as appear in an Excel sheet.\n",
    "\n",
    "Example\n",
    "Example1\n",
    "\n",
    "Input: 28\n",
    "Output: \"AB\"\n",
    "Example2\n",
    "\n",
    "Input: 29\n",
    "Output: \"AC\"\n",
    "Notice\n",
    "1 -> A\n",
    "2 -> B\n",
    "3 -> C\n",
    " ...\n",
    "26 -> Z\n",
    "27 -> AA\n",
    "28 -> AB "
   ]
  },
  {
   "cell_type": "code",
   "execution_count": 1,
   "metadata": {
    "colab": {
     "base_uri": "https://localhost:8080/",
     "height": 35
    },
    "colab_type": "code",
    "id": "6UhraYDs2oTt",
    "outputId": "23c0de0f-db4d-4901-abb7-601687eacc71"
   },
   "outputs": [
    {
     "name": "stdout",
     "output_type": "stream",
     "text": [
      "Z\n"
     ]
    }
   ],
   "source": [
    "class Solution:\n",
    "    \"\"\"\n",
    "    @param n: a integer\n",
    "    @return: return a string\n",
    "    \"\"\"\n",
    "    def convertToTitle(self, n):\n",
    "        ans = ''\n",
    "        base = ord('A')\n",
    "        while n:\n",
    "            digit = (n-1) % 26\n",
    "            n = (n-1) // 26\n",
    "            char = chr(digit + base)\n",
    "            ans = char + ans\n",
    "        return ans\n",
    "\n",
    "s = Solution()\n",
    "print(s.convertToTitle(26))"
   ]
  }
 ],
 "metadata": {
  "kernelspec": {
   "display_name": "py37",
   "language": "python",
   "name": "python3"
  },
  "language_info": {
   "codemirror_mode": {
    "name": "ipython",
    "version": 3
   },
   "file_extension": ".py",
   "mimetype": "text/x-python",
   "name": "python",
   "nbconvert_exporter": "python",
   "pygments_lexer": "ipython3",
   "version": "3.7.1"
  },
  "toc": {
   "base_numbering": 1,
   "nav_menu": {},
   "number_sections": true,
   "sideBar": true,
   "skip_h1_title": false,
   "title_cell": "Table of Contents",
   "title_sidebar": "Contents",
   "toc_cell": false,
   "toc_position": {},
   "toc_section_display": true,
   "toc_window_display": true
  }
 },
 "nbformat": 4,
 "nbformat_minor": 2
}
