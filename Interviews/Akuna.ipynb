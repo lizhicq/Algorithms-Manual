{
 "cells": [
  {
   "cell_type": "code",
   "execution_count": 15,
   "metadata": {},
   "outputs": [],
   "source": [
    "# Complete the find_minima function below.\n",
    "def isminima(x, y, n, m):\n",
    "    directions = [(1,0),(0,1),(-1,0),(0,-1)]\n",
    "    ismin = True\n",
    "    for dx, dy in directions:\n",
    "        xd, yd = x+dx, y+dy\n",
    "        if 0 <= xd < n and 0 <= yd < n:\n",
    "            ismin &= m[xd][yd] > m[x][y]\n",
    "    return ismin\n",
    "\n",
    "def find_minima(n, m):\n",
    "    ans = [] \n",
    "    for row in range(n):\n",
    "        for col in range(n):\n",
    "            if isminima(row, col, n, m):\n",
    "                ans.append(m[row][col])\n",
    "    ans.sort()\n",
    "    return ans[:3]"
   ]
  },
  {
   "cell_type": "code",
   "execution_count": 16,
   "metadata": {},
   "outputs": [
    {
     "name": "stdout",
     "output_type": "stream",
     "text": [
      "[0, 1, 2]\n"
     ]
    }
   ],
   "source": [
    "m = [[5,5,5,5,5],\n",
    "     [1,2,3,4,5],\n",
    "     [5,5,5,4,5],\n",
    "     [5,5,4,2,3],\n",
    "     [0,5,5,3,4]]\n",
    "n = 5\n",
    "print(find_minima(n, m))"
   ]
  },
  {
   "cell_type": "code",
   "execution_count": 25,
   "metadata": {},
   "outputs": [],
   "source": [
    "def fun(a, b):\n",
    "    checkmap = {'picked':False, 'escaped': False}\n",
    "    def fun2():\n",
    "        checkmap['picked'] = True\n",
    "    fun2()\n",
    "    print(checkmap)\n",
    "    "
   ]
  },
  {
   "cell_type": "code",
   "execution_count": 26,
   "metadata": {},
   "outputs": [
    {
     "name": "stdout",
     "output_type": "stream",
     "text": [
      "{'picked': True, 'escaped': False}\n"
     ]
    }
   ],
   "source": [
    "fun(1,2)"
   ]
  },
  {
   "cell_type": "code",
   "execution_count": 58,
   "metadata": {},
   "outputs": [
    {
     "data": {
      "text/plain": [
       "3"
      ]
     },
     "execution_count": 58,
     "metadata": {},
     "output_type": "execute_result"
    }
   ],
   "source": [
    "# Complete the flip_signs function below.\n",
    "def flip_signs(s, k):\n",
    "    count = 0 \n",
    "    nums = list(s)\n",
    "    n = len(nums)\n",
    "    for i in range(n):\n",
    "        if nums[i] == '-':\n",
    "            if s[i:i+k] == '-' * k:\n",
    "                for j in range(k):\n",
    "                    nums[i+j] = '+'\n",
    "                count += 1\n",
    "            else:\n",
    "                break\n",
    "\n",
    "    if ''.join(nums) == '+' * k:\n",
    "        return count\n",
    "    \n",
    "    nums = list(s)\n",
    "    count = 0 \n",
    "    for i in range(n):\n",
    "        if nums[i] == '+':\n",
    "            if s[i:i+k] == '+' * k:\n",
    "                for j in range(k):\n",
    "                    nums[i+j] = '-'\n",
    "                count += 1\n",
    "            else:\n",
    "                return -1\n",
    "\n",
    "    if ''.join(nums) == '-' * k:\n",
    "        return count         \n",
    "    if n % k == 0:\n",
    "        return count + n // k\n",
    "    \n",
    "    return -1\n",
    "\n",
    "\n",
    "flip_signs('-++-', 2)"
   ]
  },
  {
   "cell_type": "code",
   "execution_count": 53,
   "metadata": {},
   "outputs": [
    {
     "name": "stdout",
     "output_type": "stream",
     "text": [
      "{(4, 4, 0, 1), (4, 2, 0, 1), (4, 1, 0, -1), (4, 2, 1, 0), (4, 5, 0, 1), (4, 3, 0, 1), (4, 0, 0, -1), (4, 2, -1, 0), (4, 6, 0, 1), (3, 2, -1, 0), (4, 2, 0, -1)}\n"
     ]
    },
    {
     "data": {
      "text/plain": [
       "1"
      ]
     },
     "execution_count": 53,
     "metadata": {},
     "output_type": "execute_result"
    }
   ],
   "source": [
    "# Complete the function below.\n",
    "\n",
    "def  escape(side_length, lake_grid, albert_row, albert_column, kuna_row, kuna_column):\n",
    "    \n",
    "    checkmap = {'picked':False, \n",
    "                'escaped': False}\n",
    "    directions = {(0,1), (1,0), (0,-1), (-1,0)}\n",
    " \n",
    "    def dfs1(x, y, dx, dy):#pick pup for the destination\n",
    "        xd, yd = x + dx, y + dy\n",
    "        #early termination\n",
    "        if checkmap['picked'] or (xd, yd, dx, dy) in visited:\n",
    "            return\n",
    "        if not (0 <= xd < side_length and 0 <= yd < side_length):#slide outside\n",
    "            return \n",
    "        elif xd == kuna_row and yd == kuna_column:#pick pup\n",
    "            checkmap['picked'] = True\n",
    "            return \n",
    "        elif lake_grid[xd][yd] == -1:#hole\n",
    "            return \n",
    "        elif lake_grid[xd][yd] == 0:# keep going\n",
    "            visited.add((xd, yd, dx, dy))\n",
    "            dfs1(xd, yd, dx, dy)\n",
    "        elif laked_grid[xd][yd] == 1:# stay for a while\n",
    "            for dx, dy in directions:\n",
    "\n",
    "                xd, yd = xd+dx, yd +dy\n",
    "                visited.add((xd, yd, dx, dy))\n",
    "                dfs1(xd, yd, dx, dy)\n",
    "        else:\n",
    "            return\n",
    "    \n",
    "    # search kuna\n",
    "    visited = set()\n",
    "    for dx, dy in directions:\n",
    "        visited.add((albert_row, albert_column, dx, dy))\n",
    "        dfs1(albert_row, albert_column, dx, dy)\n",
    "    print(visited)    \n",
    "    if checkmap['picked'] == False:\n",
    "        return 0\n",
    "    \n",
    "\n",
    "    def dfs2(x, y, dx, dy):#pick pup for the destination\n",
    "        xd, yd = x + dx, y + dy\n",
    "        #early termination\n",
    "        if checkmap['escaped'] or (xd, yd, dx, dy) in visited:\n",
    "            return\n",
    "        if not (0 <= xd < side_length and 0 <= yd < side_length):#slide outside\n",
    "            checkmap['escaped'] = True\n",
    "            return \n",
    "        elif lake_grid[xd][yd] == -1:# hole\n",
    "            return \n",
    "        elif lake_grid[xd][yd] == 0: # keep going\n",
    "            visited.add((xd, yd, dx, dy))\n",
    "            dfs2(xd, yd, dx, dy)\n",
    "        elif laked_grid[xd][yd] == 1:# stay for a while\n",
    "            for dx, dy in directions:\n",
    "                visited.add((xd, yd, dx, dy))\n",
    "                dfs2(xd, yd, dx, dy)\n",
    "        else:\n",
    "            return\n",
    "        \n",
    "    # search shore\n",
    "    visited = set()\n",
    "    for dx, dy in directions:\n",
    "        visited.add((kuna_row, kuna_column, dx, dy))\n",
    "        dfs2(kuna_row, kuna_column, dx, dy)\n",
    "        \n",
    "    if checkmap['escaped'] == True:\n",
    "        return 1\n",
    "    return 0 \n",
    "    \n",
    "\n",
    "input = [[0, 0, 0, 0, 0, 0, 0],\n",
    "         [0, 0, -1, 0, 0, 0, 0],\n",
    "         [0, 0, 1, -1, 0, -1, 0],\n",
    "         [-1, 0, 0, 0, 0, 0, 0],\n",
    "         [0, 0, 1, 0, 0, 0, 0],\n",
    "         [-1, 0, -1, 0, -1, 0, 0],\n",
    "         [0, 0, 0, 0, 0, 0, 0]]\n",
    "\n",
    "escape(side_length=7, \n",
    "       lake_grid=input, \n",
    "       albert_row=4, \n",
    "       albert_column=2, \n",
    "       kuna_row=2, \n",
    "       kuna_column=2)"
   ]
  }
 ],
 "metadata": {
  "kernelspec": {
   "display_name": "py36",
   "language": "python",
   "name": "py36"
  },
  "language_info": {
   "codemirror_mode": {
    "name": "ipython",
    "version": 3
   },
   "file_extension": ".py",
   "mimetype": "text/x-python",
   "name": "python",
   "nbconvert_exporter": "python",
   "pygments_lexer": "ipython3",
   "version": "3.6.8"
  }
 },
 "nbformat": 4,
 "nbformat_minor": 2
}
