{
 "cells": [
  {
   "cell_type": "code",
   "execution_count": 1,
   "metadata": {},
   "outputs": [],
   "source": [
    "### Edit Distance\n",
    "class Solution:\n",
    "    def minDistance(self, word1, word2):\n",
    "        l1, l2 = len(word1)+1, len(word2)+1\n",
    "        dp = [[0 for _ in range(l2)] for _ in range(l1)]\n",
    "        for i in range(l1):\n",
    "            dp[i][0] = i\n",
    "        for j in range(l2):\n",
    "            dp[0][j] = j\n",
    "        for i in range(1, l1):\n",
    "            for j in range(1, l2):\n",
    "                dp[i][j] = min(dp[i-1][j]+1, dp[i][j-1]+1, \n",
    "                               dp[i-1][j-1]+(word1[i-1]!=word2[j-1]))\n",
    "        return dp[-1][-1]\n"
   ]
  },
  {
   "cell_type": "code",
   "execution_count": 2,
   "metadata": {},
   "outputs": [],
   "source": [
    "### Insert Into Cyclic linked list\n",
    "class Solution:\n",
    "    def insert(self, head, val):\n",
    "        \"\"\"\n",
    "        :type head: Node\n",
    "        :type insertVal: int\n",
    "        :rtype: Node\n",
    "        \"\"\"\n",
    "        node = Node(val, head)\n",
    "        if not head:\n",
    "            return node \n",
    "        prev, cur = head, head.next\n",
    "        while 1:\n",
    "            if prev.val <= val <= cur.val:\n",
    "                break\n",
    "            elif prev.val > cur.val and (val<cur.val or val>prev.val):\n",
    "                break\n",
    "            prev, cur = prev.next, cur.next\n",
    "            if prev == head:\n",
    "                break \n",
    "        prev.next = node\n",
    "        node.next = cur \n",
    "        return head"
   ]
  }
 ],
 "metadata": {
  "kernelspec": {
   "display_name": "py37",
   "language": "python",
   "name": "python3"
  },
  "language_info": {
   "codemirror_mode": {
    "name": "ipython",
    "version": 3
   },
   "file_extension": ".py",
   "mimetype": "text/x-python",
   "name": "python",
   "nbconvert_exporter": "python",
   "pygments_lexer": "ipython3",
   "version": "3.7.1"
  },
  "toc": {
   "base_numbering": 1,
   "nav_menu": {},
   "number_sections": true,
   "sideBar": true,
   "skip_h1_title": false,
   "title_cell": "Table of Contents",
   "title_sidebar": "Contents",
   "toc_cell": false,
   "toc_position": {},
   "toc_section_display": true,
   "toc_window_display": false
  }
 },
 "nbformat": 4,
 "nbformat_minor": 2
}
