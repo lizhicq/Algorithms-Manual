{
 "cells": [
  {
   "cell_type": "markdown",
   "metadata": {
    "colab_type": "text",
    "id": "view-in-github"
   },
   "source": [
    "<a href=\"https://colab.research.google.com/github/lizhicq/Algorithms-Manual/blob/master/Ch10_Python_Topics.ipynb\" target=\"_parent\"><img src=\"https://colab.research.google.com/assets/colab-badge.svg\" alt=\"Open In Colab\"/></a>"
   ]
  },
  {
   "cell_type": "markdown",
   "metadata": {
    "colab_type": "text",
    "id": "Qymnwq6WzQlo"
   },
   "source": [
    "##  Python 101"
   ]
  },
  {
   "cell_type": "markdown",
   "metadata": {
    "colab_type": "text",
    "id": "Va2DCtywOFUL"
   },
   "source": [
    "### Q: What is Python? What are the key features of Python?\n",
    ">Python is a general purpose and high level programming language. \n",
    "\n",
    "> Use Interpretor rather than compliler\n",
    "\n",
    "> A variety of basic data types are available: numbers (floating point, complex, and unlimited-length long integers), strings (both ASCII and Unicode), lists, and dictionaries.\n",
    "\n",
    "> Python supports object-oriented programming with classes and multiple inheritance.\n",
    "\n",
    "> Code can be grouped into modules and packages.\n",
    "\n",
    "> The language supports raising and catching exceptions, resulting in cleaner error handling.\n",
    "\n",
    "> Data types are strongly and dynamically typed. Mixing incompatible types (e.g. attempting to add a string and a number) causes an exception to be raised, so errors are caught sooner.\n",
    "\n",
    "> Python contains advanced programming features such as generators and list comprehensions.\n",
    "\n",
    "> Python's automatic memory management frees you from having to manually allocate and free memory in your code.\n",
    "    "
   ]
  },
  {
   "cell_type": "markdown",
   "metadata": {
    "colab_type": "text",
    "id": "Va2DCtywOFUL"
   },
   "source": [
    "### Q: What Python libs did you use?"
   ]
  },
  {
   "cell_type": "markdown",
   "metadata": {
    "colab_type": "text",
    "id": "Va2DCtywOFUL"
   },
   "source": [
    "### Q: What is pass in Python?"
   ]
  },
  {
   "cell_type": "markdown",
   "metadata": {
    "colab_type": "text",
    "id": "Va2DCtywOFUL"
   },
   "source": [
    "### Q: What is lambda in Python?"
   ]
  },
  {
   "cell_type": "markdown",
   "metadata": {
    "colab_type": "text",
    "id": "Va2DCtywOFUL"
   },
   "source": [
    "### Q: What is docstring in Python?"
   ]
  },
  {
   "cell_type": "markdown",
   "metadata": {
    "colab_type": "text",
    "id": "Va2DCtywOFUL"
   },
   "source": [
    "### Q: What is the ternary operator in Python? Example?"
   ]
  },
  {
   "cell_type": "markdown",
   "metadata": {
    "colab_type": "text",
    "id": "Va2DCtywOFUL"
   },
   "source": [
    "### Q: What are *args, **kwargs?"
   ]
  },
  {
   "cell_type": "markdown",
   "metadata": {
    "colab_type": "text",
    "id": "Va2DCtywOFUL"
   },
   "source": [
    "### Q: What is the difference between list and tuple in Python?"
   ]
  },
  {
   "cell_type": "markdown",
   "metadata": {
    "colab_type": "text",
    "id": "Va2DCtywOFUL"
   },
   "source": [
    "### Q: What are the built-in types that Python provides? Which are mutable which are immutable?"
   ]
  },
  {
   "cell_type": "markdown",
   "metadata": {
    "colab_type": "text",
    "id": "Va2DCtywOFUL"
   },
   "source": [
    "### Q: In Python what is slicing?"
   ]
  },
  {
   "cell_type": "markdown",
   "metadata": {
    "colab_type": "text",
    "id": "Va2DCtywOFUL"
   },
   "source": [
    "### Q: What keywords can be used in conjunction with the keyword `for`?"
   ]
  },
  {
   "cell_type": "markdown",
   "metadata": {
    "colab_type": "text",
    "id": "Va2DCtywOFUL"
   },
   "source": [
    "### Q: How to list object methods in Python?"
   ]
  },
  {
   "cell_type": "markdown",
   "metadata": {
    "colab_type": "text",
    "id": "Va2DCtywOFUL"
   },
   "source": [
    "### Q: How to get documentation of object in Python?"
   ]
  },
  {
   "cell_type": "markdown",
   "metadata": {
    "colab_type": "text",
    "id": "Va2DCtywOFUL"
   },
   "source": [
    "### Q: What can be the key in the dictionary?"
   ]
  },
  {
   "cell_type": "markdown",
   "metadata": {
    "colab_type": "text",
    "id": "Va2DCtywOFUL"
   },
   "source": [
    "### Q: What is `yield` in Python?"
   ]
  },
  {
   "cell_type": "markdown",
   "metadata": {
    "colab_type": "text",
    "id": "Va2DCtywOFUL"
   },
   "source": [
    "### Q: How can I swap the values of two variables in Python?"
   ]
  },
  {
   "cell_type": "markdown",
   "metadata": {
    "colab_type": "text",
    "id": "Va2DCtywOFUL"
   },
   "source": [
    "### Q: What is duck typing?"
   ]
  },
  {
   "cell_type": "markdown",
   "metadata": {
    "colab_type": "text",
    "id": "Va2DCtywOFUL"
   },
   "source": [
    "### Q: What the difference between packages and modules?"
   ]
  },
  {
   "cell_type": "markdown",
   "metadata": {
    "colab_type": "text",
    "id": "Va2DCtywOFUL"
   },
   "source": [
    "### Q: What is PEP 8?"
   ]
  },
  {
   "cell_type": "markdown",
   "metadata": {
    "colab_type": "text",
    "id": "Va2DCtywOFUL"
   },
   "source": [
    "### Q: What is self?"
   ]
  },
  {
   "cell_type": "markdown",
   "metadata": {
    "colab_type": "text",
    "id": "Va2DCtywOFUL"
   },
   "source": [
    "### Q: What is __init__.py module? What it's for?"
   ]
  },
  {
   "cell_type": "markdown",
   "metadata": {
    "colab_type": "text",
    "id": "5lQ7XGP9OFUM"
   },
   "source": [
    "### Q: How to translate a string containing a binary code (1 and 0) into a number (integer)? Write a program for this."
   ]
  },
  {
   "cell_type": "markdown",
   "metadata": {
    "colab_type": "text",
    "id": "5lQ7XGP9OFUM"
   },
   "source": [
    "### Q: How to check that tuple A contains all elements of tuple B. Both tuples contain unique values? Write a program for this."
   ]
  },
  {
   "cell_type": "markdown",
   "metadata": {
    "colab_type": "text",
    "id": "5lQ7XGP9OFUM"
   },
   "source": [
    "### Q: What will be the output of the following code?"
   ]
  },
  {
   "cell_type": "code",
   "execution_count": 1,
   "metadata": {
    "colab": {},
    "colab_type": "code",
    "id": "F36cb-8lOFUN",
    "outputId": "419718e6-99a7-42d5-fed6-b5a596224fbb"
   },
   "outputs": [
    {
     "name": "stdout",
     "output_type": "stream",
     "text": [
      "15\n"
     ]
    }
   ],
   "source": [
    "def f():\n",
    "     x = 15\n",
    "     print(x)\n",
    "x = 12\n",
    "f()"
   ]
  },
  {
   "cell_type": "code",
   "execution_count": null,
   "metadata": {
    "colab": {},
    "colab_type": "code",
    "id": "2n5hfeVqziGg"
   },
   "outputs": [],
   "source": []
  },
  {
   "cell_type": "markdown",
   "metadata": {
    "colab_type": "text",
    "id": "KQ_srj1XOFUT"
   },
   "source": [
    "Q: How to convert a string to a number which consists of letters ASCII code. Example: 'abcd' -> 979899100. Write a program for this.\n",
    "\n",
    "Q: How to remove empty lines from a sheet of lines (with a length of 0). Write a program for this.\n",
    "\n",
    "Q: Write a program that counts all distinct pairs with difference equal to k\n",
    "\n",
    "Q: Build a string with the numbers from 0 to 100, \"0123456789101112...\"\n",
    "\n",
    "Q: Making a list with the unique element from a list with duplicate elements\n",
    "\n",
    "Q: Make a prime number list from (1,100)"
   ]
  },
  {
   "cell_type": "markdown",
   "metadata": {
    "colab": {},
    "colab_type": "code",
    "id": "8yYMP2wLOFUU"
   },
   "source": [
    "## Python 201"
   ]
  },
  {
   "cell_type": "markdown",
   "metadata": {},
   "source": [
    "### Q: What is the relation of generator and iterator?\n",
    "![](images/iter-relationships.gif)\n"
   ]
  },
  {
   "cell_type": "code",
   "execution_count": null,
   "metadata": {},
   "outputs": [],
   "source": []
  }
 ],
 "metadata": {
  "colab": {
   "include_colab_link": true,
   "name": "Ch10 Python Topics.ipynb",
   "provenance": [],
   "toc_visible": true,
   "version": "0.3.2"
  },
  "kernelspec": {
   "display_name": "py37",
   "language": "python",
   "name": "python3"
  },
  "language_info": {
   "codemirror_mode": {
    "name": "ipython",
    "version": 3
   },
   "file_extension": ".py",
   "mimetype": "text/x-python",
   "name": "python",
   "nbconvert_exporter": "python",
   "pygments_lexer": "ipython3",
   "version": "3.7.1"
  }
 },
 "nbformat": 4,
 "nbformat_minor": 2
}
