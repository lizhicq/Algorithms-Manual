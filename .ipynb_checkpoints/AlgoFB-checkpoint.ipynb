{
 "cells": [
  {
   "cell_type": "markdown",
   "metadata": {},
   "source": [
    "### Verifying an Alien Dictionary\n",
    "```\n",
    "Example 1:\n",
    "\n",
    "Input: words = [\"hello\",\"leetcode\"], order = \"hlabcdefgijkmnopqrstuvwxyz\"\n",
    "Output: true\n",
    "Explanation: As 'h' comes before 'l' in this language, then the sequence is sorted.\n",
    "Example 2:\n",
    "\n",
    "Input: words = [\"word\",\"world\",\"row\"], order = \"worldabcefghijkmnpqstuvxyz\"\n",
    "Output: false\n",
    "Explanation: As 'd' comes after 'l' in this language, then words[0] > words[1], hence the sequence is unsorted.\n",
    "```"
   ]
  },
  {
   "cell_type": "code",
   "execution_count": 6,
   "metadata": {},
   "outputs": [
    {
     "data": {
      "text/plain": [
       "True"
      ]
     },
     "execution_count": 6,
     "metadata": {},
     "output_type": "execute_result"
    }
   ],
   "source": [
    "def isAlienSorted(self, words, order):\n",
    "    new_order = sorted(words, key=lambda word: [order.index(ch) for ch in word])\n",
    "    return new_order == words\n",
    "\n",
    "def isAlienSorted(self, words, order):\n",
    "    ind = {ch:i for i, ch in enumerate(order)}\n",
    "    for a, b in zip(words, words[1:]):\n",
    "        if len(a) > len(b) and a[:len(b)] == b:\n",
    "            return False\n",
    "        for c1, c2 in zip(a, b):\n",
    "            if ind[c1] < ind[c2]:\n",
    "                break\n",
    "            elif ind[c1] > ind[c2]:\n",
    "                return False\n",
    "        return True\n",
    "\n",
    "isAlienSorted('self', [\"hello\",\"leetcode\"], \"hlabcdefgijkmnopqrstuvwxyz\")"
   ]
  },
  {
   "cell_type": "markdown",
   "metadata": {},
   "source": [
    "### Trapping Rain Water\n",
    "Given n non-negative integers representing an elevation map where the width of each bar is 1, compute how much water it is able to trap after raining.\n",
    "```\n",
    "Input: [0,1,0,2,1,0,1,3,2,1,2,1]\n",
    "Output: 6\n",
    "```"
   ]
  },
  {
   "cell_type": "code",
   "execution_count": 8,
   "metadata": {},
   "outputs": [
    {
     "data": {
      "text/plain": [
       "6"
      ]
     },
     "execution_count": 8,
     "metadata": {},
     "output_type": "execute_result"
    }
   ],
   "source": [
    "def trap(self, heights):\n",
    "    if not heights:\n",
    "        return 0\n",
    "    rain = maxleft = maxright = 0\n",
    "    left, right = 0, len(heights) - 1 \n",
    "    while left < right:\n",
    "        if heights[left] < heights[right]:\n",
    "            maxleft = max(heights[left], maxleft)\n",
    "            rain += maxleft - heights[left]\n",
    "            left += 1\n",
    "        else:\n",
    "            maxright = max(heights[right], maxright)\n",
    "            rain += maxright - heights[right]\n",
    "            right -= 1\n",
    "    return rain\n",
    "trap('', [0,1,0,2,1,0,1,3,2,1,2,1])"
   ]
  },
  {
   "cell_type": "markdown",
   "metadata": {},
   "source": [
    "### Meeting rooms"
   ]
  },
  {
   "cell_type": "code",
   "execution_count": null,
   "metadata": {},
   "outputs": [],
   "source": [
    "def minMeetingRooms(self, intervals):\n",
    "    points = []\n",
    "    for start, end in intervals:\n",
    "        points.append((start, 1))\n",
    "        points.append((end, -1))\n",
    "    \n",
    "    points.sort()\n",
    "    \n",
    "    on_going = max_rooms = 0\n",
    "    for _, delta in points:\n",
    "        on_going += delta\n",
    "        max_rooms = max(max_rooms, on_going)\n",
    "    return max_rooms\n",
    "\n",
    "def minMeetingRooms(self, intervals):\n",
    "        intervals.sort()\n",
    "        heap = []  # stores the end time of intervals\n",
    "        for inv in intervals:\n",
    "            if heap and inv[0] >= heap[0]: \n",
    "                heapq.heappop(heap)\n",
    "            heapq.heappush(heap, inv[1])\n",
    "        return len(heap)"
   ]
  },
  {
   "cell_type": "markdown",
   "metadata": {},
   "source": [
    "### Intersection of Two Linked Lists\n",
    "```\n",
    "Input: intersectVal = 8, \n",
    "listA = [4,1,8,4,5], \n",
    "listB = [5,0,1,8,4,5], skipA = 2, skipB = 3\n",
    "Output: Reference of the node with value = 8\n",
    "```"
   ]
  },
  {
   "cell_type": "code",
   "execution_count": null,
   "metadata": {},
   "outputs": [],
   "source": [
    "def getIntersectionNode(self, headA, headB):\n",
    "    pa, pb = headA, headB\n",
    "    while pa != pb:\n",
    "        pa = pa.next if pa else headB\n",
    "        pb = pb.next if pb else headA\n",
    "    return pa \n",
    "# 要这么写，不能写成 if pa.next\n",
    "# 1->null, null 过不了"
   ]
  },
  {
   "cell_type": "markdown",
   "metadata": {},
   "source": [
    "### Intersection of Two Arrays\n",
    "nums1 = [1,2,2,1], nums2 = [2,2] -> [2]\n",
    "\n",
    "nums1 = [1,2,2,1], nums2 = [2,2] -> [2,2]\n",
    "\n",
    "follow up:\n",
    "\n",
    "1. nums2 is very large? solved originally\n",
    "2. nums1,2 are soted \n",
    "3. too large to fit in memory\n",
    "\n",
    "If only nums2 cannot fit in memory, put all elements of nums1 into a HashMap, read chunks of array that fit into the memory, and record the intersections.\n",
    "\n",
    "If both nums1 and nums2 are so huge that neither fit into the memory, sort them individually (external sort), then read 2 elements from each array at a time in memory, record intersections."
   ]
  },
  {
   "cell_type": "code",
   "execution_count": 9,
   "metadata": {},
   "outputs": [],
   "source": [
    "def intersection(self, nums1, nums2):\n",
    "    return list(set(nums1) & set(nums2))\n",
    "\n",
    "def intersection_large(nums1, nums2):\n",
    "    if len(nums1) > len(nums2):\n",
    "        return intersection_large(nums2, nums1)\n",
    "    \n",
    "    count1 = Counter(nums1)\n",
    "    res = []\n",
    "    for num in nums2:\n",
    "        if count1[num] > 0:\n",
    "            res.append(num)\n",
    "            count1[num] -= 1\n",
    "    return res\n",
    "\n",
    "def intersection_sort(nums1, nums2):\n",
    "    res = [] \n",
    "    i = j = 0\n",
    "    while i < len(nums1) and j < len(nums2):\n",
    "        if nums1[i] == nums2[j]:\n",
    "            res.append(nums1[i])\n",
    "            i += 1\n",
    "            j += 1\n",
    "        elif nums1[i] < nums2[j]:\n",
    "            i += 1\n",
    "        else:\n",
    "            j += 1\n",
    "    return res"
   ]
  },
  {
   "cell_type": "markdown",
   "metadata": {},
   "source": [
    "### Alien Dictionary\n",
    "Input:\n",
    "[\n",
    "  \"wrt\",\n",
    "  \"wrf\",\n",
    "  \"er\",\n",
    "  \"ett\",\n",
    "  \"rftt\"\n",
    "]\n",
    "\n",
    "Output: \"wertf\""
   ]
  },
  {
   "cell_type": "code",
   "execution_count": null,
   "metadata": {},
   "outputs": [],
   "source": [
    "from heapq import heappush, heappop, heapify\n",
    "\n",
    "class Solution:\n",
    "    \"\"\"\n",
    "    @param words: a list of words\n",
    "    @return: a string which is correct order\n",
    "    \"\"\"\n",
    "    def alienOrder(self, words):\n",
    "        graph = self.build_graph(words)\n",
    "        return self.topological_sort(graph)\n",
    "        \n",
    "    def build_graph(self, words):\n",
    "        # key is node, value is neighbors\n",
    "        graph = {}\n",
    "\n",
    "        # initialize graph\n",
    "        for word in words:\n",
    "            for c in word:\n",
    "                if c not in graph:\n",
    "                    graph[c] = set() \n",
    "\n",
    "        # add edges        \n",
    "        n = len(words)\n",
    "        for i in range(n - 1):\n",
    "            for j in range(min(len(words[i]), len(words[i + 1]))):\n",
    "                if words[i][j] != words[i + 1][j]:\n",
    "                    graph[words[i][j]].add(words[i + 1][j])\n",
    "                    break\n",
    "                \n",
    "        return graph\n",
    "\n",
    "    def topological_sort(self, graph):\n",
    "        # before looking into this part of code\n",
    "        # you should know how to use bfs algorithm to do topological sorting\n",
    "        \n",
    "        # initialize indegree \n",
    "        indegree = {\n",
    "            node: 0\n",
    "            for node in graph\n",
    "        }\n",
    "        \n",
    "        # calculate indegree\n",
    "        for node in graph:\n",
    "            for neighbor in graph[node]:\n",
    "                indegree[neighbor] = indegree[neighbor] + 1\n",
    "        \n",
    "        # use heapq instead of regular queue so that we can get the \n",
    "        # smallest lexicographical order\n",
    "        # regular bfs\n",
    "        que = [node for node in graph if indegree[node] == 0]\n",
    "        res = ''\n",
    "        while len(que) > 0:\n",
    "            curt = que.pop()\n",
    "            res += curt\n",
    "            for nb in graph[curt]:\n",
    "                indegree[nb] -= 1\n",
    "                if indegree[nb] == 0:\n",
    "                    que.append(nb)\n",
    "\n",
    "        return res if len(res) == len(graph) else \"\"\n",
    "        '''\n",
    "        queue = [node for node in graph if indegree[node] == 0]\n",
    "        heapify(queue)\n",
    "        \n",
    "        # heapify bfs algorithm to do topological sorting\n",
    "        topo_order = \"\"\n",
    "        while queue:\n",
    "            node = heappop(queue)\n",
    "            topo_order += node\n",
    "            for neighbor in graph[node]:\n",
    "                indegree[neighbor] -= 1\n",
    "                if indegree[neighbor] == 0:\n",
    "                    heappush(queue, neighbor)\n",
    "            \n",
    "        # if all nodes popped\n",
    "        return topo_order if len(topo_order) == len(graph) else \"\"\n",
    "        '''\n"
   ]
  },
  {
   "cell_type": "code",
   "execution_count": null,
   "metadata": {},
   "outputs": [],
   "source": []
  },
  {
   "cell_type": "markdown",
   "metadata": {},
   "source": [
    "### Design a Dropbox\n",
    "design a dropbox/file-sharing system "
   ]
  }
 ],
 "metadata": {
  "kernelspec": {
   "display_name": "py37",
   "language": "python",
   "name": "python3"
  },
  "language_info": {
   "codemirror_mode": {
    "name": "ipython",
    "version": 3
   },
   "file_extension": ".py",
   "mimetype": "text/x-python",
   "name": "python",
   "nbconvert_exporter": "python",
   "pygments_lexer": "ipython3",
   "version": "3.7.1"
  }
 },
 "nbformat": 4,
 "nbformat_minor": 2
}
