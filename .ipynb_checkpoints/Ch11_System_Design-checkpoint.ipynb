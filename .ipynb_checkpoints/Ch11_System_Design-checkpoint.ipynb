{
  "nbformat": 4,
  "nbformat_minor": 0,
  "metadata": {
    "colab": {
      "name": "Ch11 System Design",
      "version": "0.3.2",
      "provenance": [],
      "include_colab_link": true
    },
    "kernelspec": {
      "name": "python3",
      "display_name": "Python 3"
    }
  },
  "cells": [
    {
      "cell_type": "markdown",
      "metadata": {
        "id": "view-in-github",
        "colab_type": "text"
      },
      "source": [
        "<a href=\"https://colab.research.google.com/github/lizhicq/Algorithms-Manual/blob/master/Ch11_System_Design.ipynb\" target=\"_parent\"><img src=\"https://colab.research.google.com/assets/colab-badge.svg\" alt=\"Open In Colab\"/></a>"
      ]
    },
    {
      "metadata": {
        "id": "EYEMb8OdEaOH",
        "colab_type": "text"
      },
      "cell_type": "markdown",
      "source": [
        "== 入门 ==\n",
        "对于0基础的同学们 下面的资料可以按顺序开始看\n",
        "1. http://www.hiredintech.com/app#system-design\n",
        "这是一个专门准备面试的网站 你只用关心system design部分 有很多的link后面会重\n",
        "复提到 建议看完至少一遍\n",
        "\n",
        "2. https://www.youtube.com/watch?v=-W9F__D3oY4\n",
        "非常非常好的入门资料 建议看3遍以上！\n",
        "这是1里面提到的资料 是Harvard web app课的最后一节 讲scalability 里面会讲到很\n",
        "多基础概念比如Vertical scaling, Horizontal scaling, Caching, Load balancing,\n",
        "Database replication, Database partitioning 还会提到很多基本思想比如avoid\n",
        "single point of failure\n",
        "再强调一遍 非常好的资料！\n",
        "\n",
        "3. http://www.lecloud.net/post/7295452622/scalability-for-dummies-part-1-clones\n",
        "1里面提到的 Scalability for Dummies 还算不错 可以看一遍 知道基本思想\n",
        "\n",
        "结束语：当你结束这一部分的学习的时候 你已经比50%的candidate知道的多了(因为很\n",
        "多人都不准备 或者不知道怎么准备system design) 恭喜:)\n",
        "\n",
        "== 进阶 ==\n",
        "这一部分的资料更加零散 每个看的可能不一样 但是你每多看一篇文章或者一个视频\n",
        "你就比别人强一点\n",
        "这部分你会遇到很多新名词 我的建议是每当你遇到一个不懂的概念时 多google一下\n",
        "看看这个概念或者技术是什么意思 优点和缺点各是什么 什么时候用 这些你都知道以\n",
        "后 你就可以把他运用到面试中 让面试官刮目相看了\n",
        "\n",
        "4. http://highscalability.com/blog/2009/8/6/an-unorthodox-approach-to-database-design-the-coming-of-the.html\n",
        "Database Sharding是一个很重要的概念 建议看一看\n",
        "\n",
        "5. http://highscalability.com/all-time-favorites/\n",
        "这个里面会讲到很多非常流行的网站架构是如何实现的 比如Twitter, Youtube,\n",
        "Pinterest, Google等等 我的建议是看5-6个 然后你应该已经建立起了一些基本的意识\n",
        "还有知道了某些技术和产品的作用和mapping 比如说到cache你会想到memcached和\n",
        "Redis 说到\n",
        "load balancer你会想到 Amazon ELB, F5一类的\n",
        "\n",
        "6. http://www.infoq.com/\n",
        "5里面很多的文章都会有链接 其中有很多会指向这个网站 这里面有很多的tech talk\n",
        "很不错 可以看看\n",
        "\n",
        "7. https://www.facebook.com/Engineering/notes\n",
        "Facebook非常好的技术日志 会讲很多facebook的feature怎么实现的 比如facebook\n",
        "message:https://www.facebook.com/notes/facebook-engineering/the-underlying-\n",
        "technology-of-messages/454991608919 建议看看 尤其是准备面facebook的同学\n",
        "这有一个facebook talk讲storage的https://www.youtube.com/watch?v=5RfFhMwRAic\n",
        "\n",
        "8. 一些国内网站上的资料\n",
        "http://blog.csdn.net/sigh1988/article/details/9790337\n",
        "http://blog.csdn.net/v_july_v/article/details/6279498\n",
        "\n",
        "9. 最后一些概念很有用 都是我再看这些资料的时候发现的 如果你没有遇到或者查过\n",
        "建议查查\n",
        "Distributed Hash Table\n",
        "Eventual Consistency vs Strong Consistency\n",
        "Read Heavy vs Write Heavy\n",
        "Consistent Hashing\n",
        "Sticky Sessions\n",
        "Structured Data(uses DynamoDB) vs Unstructured Data(uses S3)http://smartdatacollective.com/michelenemschoff/206391/quick-guide-structured-and-unstructured-data http://stackoverflow.com/questions/18678315/amazon-s3-or-dynamodb\n",
        "\n",
        "10 给有兴趣深入研究的人看的\n",
        "Mining Massive Datasets –讲很多big data和data mining的东西\n",
        "Big Data: Principles and best practices of scalable realtime data systems —\n",
        "twitter的前员工讲述如何处理实时数据\n",
        "\n",
        "10 凌乱的资料 随便看看吧\n",
        "http://highscalability.com/blog/2013/10/28/design-decisions-for\n",
        "== 小结＝＝\n",
        "看多了以后 你的最终目标应该是心里有了一个大框架 一个基本的distributed system\n",
        "是怎么搭起来的 然后心里有很多if condition 如果要是满足这个条件 我应该用什么\n",
        "技术 比如如果read heavy那么用cache会提升performance之类的 同时知道应该避免什\n",
        "么东西 比如避免single point of failure 再比如时间和空间的tradeoff在read\n",
        "heavy的时候应该倾向于时间 Write heavy的时候倾向于空间等等\n",
        "\n",
        "你总结出来的和我总结出来的大框架和if conditions肯定不完全一样 但因为system\n",
        "design本来就是一个open ended question 所以不用害怕 能够自圆其说 就不会有问题\n",
        "\n",
        "最后 本文纯属抛砖引玉 如果有大牛发现有错误或者有补充 欢迎留言 大家一起讨论"
      ]
    }
  ]
}