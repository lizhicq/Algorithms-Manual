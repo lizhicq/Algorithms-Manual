{
 "cells": [
  {
   "cell_type": "code",
   "execution_count": null,
   "metadata": {},
   "outputs": [],
   "source": [
    "class Solution(object):\n",
    "    def pickup(self, space, packs):\n",
    "        start, end = 0, len(packs) - 1\n",
    "        while start + 1 < end:+\n",
    "            cum = packs[start] + packs[end]\n",
    "            if cum < space:\n",
    "                start += 1\n",
    "            elif cum > space:\n",
    "                end -= 1\n",
    "            else:\n",
    "                return [start, end]\n",
    "        \n",
    "        return [start, end]"
   ]
  },
  {
   "cell_type": "code",
   "execution_count": null,
   "metadata": {},
   "outputs": [],
   "source": [
    "from collections import deque\n",
    "def shortDis(area):\n",
    "    m, n = len(area), len(area[0])\n",
    "    visited = [[0 for i in range(n)]\n",
    "                  for j in range(m)]\n",
    "    \n",
    "    deck = deque()\n",
    "    deck.append([0,0,0])\n",
    "    directions = ((1,0),(-1,0),(0,1),(0,-1))\n",
    "    while deck:\n",
    "        x, y, dis = deck.popleft()\n",
    "        for dx, dy in directions:\n",
    "            xd, yd = x + dx, y + dy\n",
    "            if 0 <= xd < m and 0 <= yd < n and not visited[xd][yd]:\n",
    "                if area[xd][yd] == 1:\n",
    "                    visited[xd][yd] = 1\n",
    "                    deck.append((xd,yd,dis+1))\n",
    "                elif area[xd][yd] == 9:\n",
    "                    return dis+1\n",
    "    \n",
    "    return -1"
   ]
  },
  {
   "cell_type": "markdown",
   "metadata": {},
   "source": [
    "### find the max sum of 2 fixed size sub array\n",
    "[10,2,3,4,5,6,7,8], 1, 2\n",
    "\n",
    "ans = 25"
   ]
  },
  {
   "cell_type": "code",
   "execution_count": null,
   "metadata": {},
   "outputs": [],
   "source": [
    "def maxsubarray2(nums, l1, l2):    "
   ]
  },
  {
   "cell_type": "markdown",
   "metadata": {},
   "source": [
    "### find the segement of an array\n",
    "[1,3,5,1000] \n",
    "\n",
    "ans = 4"
   ]
  },
  {
   "cell_type": "code",
   "execution_count": 4,
   "metadata": {},
   "outputs": [
    {
     "data": {
      "text/plain": [
       "4"
      ]
     },
     "execution_count": 4,
     "metadata": {},
     "output_type": "execute_result"
    }
   ],
   "source": [
    "def calsegment(times):\n",
    "    count = 1\n",
    "    times.sort()\n",
    "    for i in range(1, len(times)):\n",
    "        if times[i-1] + 1 < times[i]:\n",
    "            count += 1\n",
    "    return count \n",
    "\n",
    "calsegment([100, 1, 3,7])"
   ]
  },
  {
   "cell_type": "code",
   "execution_count": null,
   "metadata": {},
   "outputs": [],
   "source": [
    "def find(self, x):\n",
    "\n",
    "    if self.father[x] == 0:\n",
    "        return x\n",
    "    self.father[x] = self.find(self.father[x])\n",
    "    return self.father[x]\n",
    "\n",
    "def connect(self, a, b):\n",
    "    root_a = self.find(a)\n",
    "    root_b = self.find(b)\n",
    "    if root_a != root_b:\n",
    "        self.father[root_a] = root_b"
   ]
  },
  {
   "cell_type": "code",
   "execution_count": null,
   "metadata": {},
   "outputs": [],
   "source": []
  },
  {
   "cell_type": "code",
   "execution_count": null,
   "metadata": {},
   "outputs": [],
   "source": []
  },
  {
   "cell_type": "code",
   "execution_count": null,
   "metadata": {},
   "outputs": [],
   "source": []
  },
  {
   "cell_type": "code",
   "execution_count": null,
   "metadata": {},
   "outputs": [],
   "source": []
  },
  {
   "cell_type": "code",
   "execution_count": null,
   "metadata": {},
   "outputs": [],
   "source": []
  },
  {
   "cell_type": "code",
   "execution_count": null,
   "metadata": {},
   "outputs": [],
   "source": []
  }
 ],
 "metadata": {
  "kernelspec": {
   "display_name": "py37",
   "language": "python",
   "name": "python3"
  },
  "language_info": {
   "codemirror_mode": {
    "name": "ipython",
    "version": 3
   },
   "file_extension": ".py",
   "mimetype": "text/x-python",
   "name": "python",
   "nbconvert_exporter": "python",
   "pygments_lexer": "ipython3",
   "version": "3.7.1"
  }
 },
 "nbformat": 4,
 "nbformat_minor": 2
}
