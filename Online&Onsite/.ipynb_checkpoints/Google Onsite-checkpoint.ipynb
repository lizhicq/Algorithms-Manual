{
 "cells": [
  {
   "cell_type": "markdown",
   "metadata": {},
   "source": [
    "longest increasing chain length"
   ]
  },
  {
   "cell_type": "markdown",
   "metadata": {},
   "source": [
    "source to target change"
   ]
  },
  {
   "cell_type": "markdown",
   "metadata": {},
   "source": [
    "depth first search "
   ]
  },
  {
   "cell_type": "markdown",
   "metadata": {},
   "source": [
    "吃饭，聊了ads, search 的技术栈，没见到传说中的李妈妈牛肉面，不过烤羊排不错，然后现磨咖啡机很炫酷。"
   ]
  },
  {
   "cell_type": "markdown",
   "metadata": {},
   "source": [
    "segment tree"
   ]
  },
  {
   "cell_type": "markdown",
   "metadata": {},
   "source": [
    "BQ: leadership question"
   ]
  },
  {
   "cell_type": "markdown",
   "metadata": {},
   "source": [
    "华人小哥，题目不难，聊的很开心，把一道简单翻转链表做了七八种解法，类似回字有几种写法这种，聊得投机结束之后还扯了半个小时的天，加了个微信。"
   ]
  }
 ],
 "metadata": {
  "kernelspec": {
   "display_name": "py36",
   "language": "python",
   "name": "py36"
  },
  "language_info": {
   "codemirror_mode": {
    "name": "ipython",
    "version": 3
   },
   "file_extension": ".py",
   "mimetype": "text/x-python",
   "name": "python",
   "nbconvert_exporter": "python",
   "pygments_lexer": "ipython3",
   "version": "3.6.8"
  },
  "toc": {
   "base_numbering": 1,
   "nav_menu": {},
   "number_sections": true,
   "sideBar": true,
   "skip_h1_title": false,
   "title_cell": "Table of Contents",
   "title_sidebar": "Contents",
   "toc_cell": false,
   "toc_position": {},
   "toc_section_display": true,
   "toc_window_display": false
  }
 },
 "nbformat": 4,
 "nbformat_minor": 2
}
