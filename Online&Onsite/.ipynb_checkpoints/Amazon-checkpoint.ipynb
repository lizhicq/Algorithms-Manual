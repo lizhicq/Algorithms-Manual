{
 "cells": [
  {
   "cell_type": "code",
   "execution_count": null,
   "metadata": {},
   "outputs": [],
   "source": [
    "class Solution(object):\n",
    "    def pickup(self, space, packs):\n",
    "        start, end = 0, len(packs) - 1\n",
    "        while start + 1 < end:+\n",
    "            cum = packs[start] + packs[end]\n",
    "            if cum < space:\n",
    "                start += 1\n",
    "            elif cum > space:\n",
    "                end -= 1\n",
    "            else:\n",
    "                return [start, end]\n",
    "        \n",
    "        return [start, end]"
   ]
  },
  {
   "cell_type": "code",
   "execution_count": null,
   "metadata": {},
   "outputs": [],
   "source": [
    "from collections import deque\n",
    "def shortDis(area):\n",
    "    m, n = len(area), len(area[0])\n",
    "    visited = [[0 for i in range(n)]\n",
    "                  for j in range(m)]\n",
    "    \n",
    "    deck = deque()\n",
    "    deck.append([0,0,0])\n",
    "    directions = ((1,0),(-1,0),(0,1),(0,-1))\n",
    "    while deck:\n",
    "        x, y, dis = deck.popleft()\n",
    "        for dx, dy in directions:\n",
    "            xd, yd = x + dx, y + dy\n",
    "            if 0 <= xd < m and 0 <= yd < n and not visited[xd][yd]:\n",
    "                if area[xd][yd] == 1:\n",
    "                    visited[xd][yd] = 1\n",
    "                    deck.append((xd,yd,dis+1))\n",
    "                elif area[xd][yd] == 9:\n",
    "                    return dis+1\n",
    "    \n",
    "    return -1"
   ]
  }
 ],
 "metadata": {
  "kernelspec": {
   "display_name": "py37",
   "language": "python",
   "name": "python3"
  },
  "language_info": {
   "codemirror_mode": {
    "name": "ipython",
    "version": 3
   },
   "file_extension": ".py",
   "mimetype": "text/x-python",
   "name": "python",
   "nbconvert_exporter": "python",
   "pygments_lexer": "ipython3",
   "version": "3.7.1"
  }
 },
 "nbformat": 4,
 "nbformat_minor": 2
}
