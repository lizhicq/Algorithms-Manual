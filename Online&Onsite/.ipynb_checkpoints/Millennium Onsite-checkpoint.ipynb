{
 "cells": [
  {
   "cell_type": "markdown",
   "metadata": {},
   "source": [
    "## DFS solution, combination sum"
   ]
  },
  {
   "cell_type": "code",
   "execution_count": 26,
   "metadata": {},
   "outputs": [],
   "source": [
    "def minCoinNums_dfs(coins, target):\n",
    "    nums = sorted(coins)\n",
    "    res = [float('inf')]\n",
    "    def dfs(start, tmp, target):\n",
    "        if res[0] < len(tmp):#cut branch longer than res\n",
    "            return\n",
    "        if 0 == target:\n",
    "            res[0] = min(res[0], len(tmp))\n",
    "            return\n",
    "        for i in range(start, len(nums)):\n",
    "            if nums[i] > target:\n",
    "                return\n",
    "            dfs(i, tmp + [nums[i]], target - nums[i])\n",
    "    dfs(0, [], target)\n",
    "    return res[0]"
   ]
  },
  {
   "cell_type": "code",
   "execution_count": 30,
   "metadata": {},
   "outputs": [
    {
     "data": {
      "text/plain": [
       "4"
      ]
     },
     "execution_count": 30,
     "metadata": {},
     "output_type": "execute_result"
    }
   ],
   "source": [
    "minCoinNums_dfs({1,2,5,10,25}, 57) # 25+25+5+2"
   ]
  },
  {
   "cell_type": "code",
   "execution_count": 29,
   "metadata": {},
   "outputs": [
    {
     "data": {
      "text/plain": [
       "inf"
      ]
     },
     "execution_count": 29,
     "metadata": {},
     "output_type": "execute_result"
    }
   ],
   "source": [
    "minCoinNums_dfs({2}, 57) # no workable solution"
   ]
  },
  {
   "cell_type": "markdown",
   "metadata": {},
   "source": [
    "## DP solution, \n",
    "this is a basic 0-1 package problem"
   ]
  },
  {
   "cell_type": "code",
   "execution_count": 35,
   "metadata": {},
   "outputs": [],
   "source": [
    "def minCoinNums_dp(coins, target):\n",
    "    dp = [float('inf')] * (target+1)\n",
    "    #dp[i] stands for min coin numbers for target=i\n",
    "    dp[0] = 0 \n",
    "    coins = [c for c in coins if c <= target]\n",
    "    coins.sort()\n",
    "    for m in range(1, target+1):\n",
    "        for c in coins:\n",
    "            dp[m] = min(dp[m], dp[m-c]+1)\n",
    "    return dp[m]\n"
   ]
  },
  {
   "cell_type": "code",
   "execution_count": 36,
   "metadata": {},
   "outputs": [
    {
     "data": {
      "text/plain": [
       "4"
      ]
     },
     "execution_count": 36,
     "metadata": {},
     "output_type": "execute_result"
    }
   ],
   "source": [
    "minCoinNums_dp({1,2,5,10,25}, 57) # 25+25+5+2"
   ]
  },
  {
   "cell_type": "code",
   "execution_count": 37,
   "metadata": {},
   "outputs": [
    {
     "data": {
      "text/plain": [
       "inf"
      ]
     },
     "execution_count": 37,
     "metadata": {},
     "output_type": "execute_result"
    }
   ],
   "source": [
    "minCoinNums_dp({2}, 57)"
   ]
  }
 ],
 "metadata": {
  "kernelspec": {
   "display_name": "py37",
   "language": "python",
   "name": "python3"
  },
  "language_info": {
   "codemirror_mode": {
    "name": "ipython",
    "version": 3
   },
   "file_extension": ".py",
   "mimetype": "text/x-python",
   "name": "python",
   "nbconvert_exporter": "python",
   "pygments_lexer": "ipython3",
   "version": "3.7.1"
  }
 },
 "nbformat": 4,
 "nbformat_minor": 2
}
